{
 "cells": [
  {
   "cell_type": "markdown",
   "metadata": {
    "toc": true
   },
   "source": [
    "<h1>Inhaltsverzeichnis<span class=\"tocSkip\"></span></h1>\n",
    "<div class=\"toc\"><ul class=\"toc-item\"><li><span><a href=\"#Variablennamen\" data-toc-modified-id=\"Variablennamen-1\"><span class=\"toc-item-num\">1&nbsp;&nbsp;</span>Variablennamen</a></span><ul class=\"toc-item\"><li><span><a href=\"#Gültige-Variablennamen\" data-toc-modified-id=\"Gültige-Variablennamen-1.1\"><span class=\"toc-item-num\">1.1&nbsp;&nbsp;</span>Gültige Variablennamen</a></span></li><li><span><a href=\"#Variablennamen-sind-case-sensitive\" data-toc-modified-id=\"Variablennamen-sind-case-sensitive-1.2\"><span class=\"toc-item-num\">1.2&nbsp;&nbsp;</span>Variablennamen sind case-sensitive</a></span></li></ul></li><li><span><a href=\"#Basisdatentypen\" data-toc-modified-id=\"Basisdatentypen-2\"><span class=\"toc-item-num\">2&nbsp;&nbsp;</span>Basisdatentypen</a></span><ul class=\"toc-item\"><li><span><a href=\"#Welche-Basistypen-gibt-es?\" data-toc-modified-id=\"Welche-Basistypen-gibt-es?-2.1\"><span class=\"toc-item-num\">2.1&nbsp;&nbsp;</span>Welche Basistypen gibt es?</a></span></li><li><span><a href=\"#Operatoren-für-Basisdatentypen\" data-toc-modified-id=\"Operatoren-für-Basisdatentypen-2.2\"><span class=\"toc-item-num\">2.2&nbsp;&nbsp;</span>Operatoren für Basisdatentypen</a></span></li><li><span><a href=\"#Explizite-Typumwandlung\" data-toc-modified-id=\"Explizite-Typumwandlung-2.3\"><span class=\"toc-item-num\">2.3&nbsp;&nbsp;</span>Explizite Typumwandlung</a></span></li><li><span><a href=\"#Gültigkeitsbereich-der-Basisdatentypen\" data-toc-modified-id=\"Gültigkeitsbereich-der-Basisdatentypen-2.4\"><span class=\"toc-item-num\">2.4&nbsp;&nbsp;</span>Gültigkeitsbereich der Basisdatentypen</a></span></li></ul></li><li><span><a href=\"#Listen\" data-toc-modified-id=\"Listen-3\"><span class=\"toc-item-num\">3&nbsp;&nbsp;</span>Listen</a></span><ul class=\"toc-item\"><li><span><a href=\"#Definition-einer-Liste-erfolgt-über-eckige-Klammern:\" data-toc-modified-id=\"Definition-einer-Liste-erfolgt-über-eckige-Klammern:-3.1\"><span class=\"toc-item-num\">3.1&nbsp;&nbsp;</span>Definition einer Liste erfolgt über eckige Klammern:</a></span></li><li><span><a href=\"#Listen-können-Einträge-von-unterschiedlichem-Typ-enthalten:\" data-toc-modified-id=\"Listen-können-Einträge-von-unterschiedlichem-Typ-enthalten:-3.2\"><span class=\"toc-item-num\">3.2&nbsp;&nbsp;</span>Listen können Einträge von unterschiedlichem Typ enthalten:</a></span></li><li><span><a href=\"#Zugriff-auf-Listenelemente:\" data-toc-modified-id=\"Zugriff-auf-Listenelemente:-3.3\"><span class=\"toc-item-num\">3.3&nbsp;&nbsp;</span>Zugriff auf Listenelemente:</a></span></li><li><span><a href=\"#Zugriff-auf-letztes,-vorletztes,-vorvorletztes-Element,-etc.:\" data-toc-modified-id=\"Zugriff-auf-letztes,-vorletztes,-vorvorletztes-Element,-etc.:-3.4\"><span class=\"toc-item-num\">3.4&nbsp;&nbsp;</span>Zugriff auf letztes, vorletztes, vorvorletztes Element, etc.:</a></span></li><li><span><a href=\"#Ermitteln-der-Länge-einer-Liste:\" data-toc-modified-id=\"Ermitteln-der-Länge-einer-Liste:-3.5\"><span class=\"toc-item-num\">3.5&nbsp;&nbsp;</span>Ermitteln der Länge einer Liste:</a></span></li><li><span><a href=\"#Listen-können-ineinander-verschachtelt-werden:\" data-toc-modified-id=\"Listen-können-ineinander-verschachtelt-werden:-3.6\"><span class=\"toc-item-num\">3.6&nbsp;&nbsp;</span>Listen können ineinander verschachtelt werden:</a></span></li><li><span><a href=\"#Quiz-Time!\" data-toc-modified-id=\"Quiz-Time!-3.7\"><span class=\"toc-item-num\">3.7&nbsp;&nbsp;</span>Quiz-Time!</a></span></li><li><span><a href=\"#Teilbereiche-aus-einer-Liste-ausschneiden-(&quot;slicing&quot;):\" data-toc-modified-id=\"Teilbereiche-aus-einer-Liste-ausschneiden-(&quot;slicing&quot;):-3.8\"><span class=\"toc-item-num\">3.8&nbsp;&nbsp;</span>Teilbereiche aus einer Liste ausschneiden (\"slicing\"):</a></span></li><li><span><a href=\"#Quiz-Time!\" data-toc-modified-id=\"Quiz-Time!-3.9\"><span class=\"toc-item-num\">3.9&nbsp;&nbsp;</span>Quiz-Time!</a></span></li><li><span><a href=\"#Verändern-von-Listenelementen:\" data-toc-modified-id=\"Verändern-von-Listenelementen:-3.10\"><span class=\"toc-item-num\">3.10&nbsp;&nbsp;</span>Verändern von Listenelementen:</a></span></li><li><span><a href=\"#Löschen-von-Listenelementen-mittels-Wertangabe:\" data-toc-modified-id=\"Löschen-von-Listenelementen-mittels-Wertangabe:-3.11\"><span class=\"toc-item-num\">3.11&nbsp;&nbsp;</span>Löschen von Listenelementen mittels Wertangabe:</a></span></li><li><span><a href=\"#Löschen-von-Listenelementen-mittels-Indexangabe:\" data-toc-modified-id=\"Löschen-von-Listenelementen-mittels-Indexangabe:-3.12\"><span class=\"toc-item-num\">3.12&nbsp;&nbsp;</span>Löschen von Listenelementen mittels Indexangabe:</a></span></li><li><span><a href=\"#Hinzufügen-von-Listenelementen-am-Ende-der-Liste:\" data-toc-modified-id=\"Hinzufügen-von-Listenelementen-am-Ende-der-Liste:-3.13\"><span class=\"toc-item-num\">3.13&nbsp;&nbsp;</span>Hinzufügen von Listenelementen am Ende der Liste:</a></span></li><li><span><a href=\"#Hinzufügen-von-Listenelementen-an-einer-definierten-Stelle-der-Liste:\" data-toc-modified-id=\"Hinzufügen-von-Listenelementen-an-einer-definierten-Stelle-der-Liste:-3.14\"><span class=\"toc-item-num\">3.14&nbsp;&nbsp;</span>Hinzufügen von Listenelementen an einer definierten Stelle der Liste:</a></span></li><li><span><a href=\"#Überprüfen,-ob-ein-Element-in-der-Liste-ist:\" data-toc-modified-id=\"Überprüfen,-ob-ein-Element-in-der-Liste-ist:-3.15\"><span class=\"toc-item-num\">3.15&nbsp;&nbsp;</span>Überprüfen, ob ein Element in der Liste ist:</a></span></li><li><span><a href=\"#Sortieren-von-Listen-(in-place)\" data-toc-modified-id=\"Sortieren-von-Listen-(in-place)-3.16\"><span class=\"toc-item-num\">3.16&nbsp;&nbsp;</span>Sortieren von Listen (in-place)</a></span></li><li><span><a href=\"#Sortieren-von-Listen-(sortierte-Kopie-erzeugen)\" data-toc-modified-id=\"Sortieren-von-Listen-(sortierte-Kopie-erzeugen)-3.17\"><span class=\"toc-item-num\">3.17&nbsp;&nbsp;</span>Sortieren von Listen (sortierte Kopie erzeugen)</a></span></li><li><span><a href=\"#Hinzufügen-mehrerer-Elemente-auf-einmal-zu-einer-Liste:\" data-toc-modified-id=\"Hinzufügen-mehrerer-Elemente-auf-einmal-zu-einer-Liste:-3.18\"><span class=\"toc-item-num\">3.18&nbsp;&nbsp;</span>Hinzufügen mehrerer Elemente auf einmal zu einer Liste:</a></span></li><li><span><a href=\"#Listen-miteinander-verknüpfen-(&quot;konkatenieren&quot;):\" data-toc-modified-id=\"Listen-miteinander-verknüpfen-(&quot;konkatenieren&quot;):-3.19\"><span class=\"toc-item-num\">3.19&nbsp;&nbsp;</span>Listen miteinander verknüpfen (\"konkatenieren\"):</a></span></li><li><span><a href=\"#Addieren-zweier-Listen:\" data-toc-modified-id=\"Addieren-zweier-Listen:-3.20\"><span class=\"toc-item-num\">3.20&nbsp;&nbsp;</span>Addieren zweier Listen:</a></span></li><li><span><a href=\"#zip-Funktion\" data-toc-modified-id=\"zip-Funktion-3.21\"><span class=\"toc-item-num\">3.21&nbsp;&nbsp;</span>zip-Funktion</a></span></li><li><span><a href=\"#List-comprehension\" data-toc-modified-id=\"List-comprehension-3.22\"><span class=\"toc-item-num\">3.22&nbsp;&nbsp;</span>List comprehension</a></span></li><li><span><a href=\"#Quiz-Time!-Was-wird-hier-gemacht?\" data-toc-modified-id=\"Quiz-Time!-Was-wird-hier-gemacht?-3.23\"><span class=\"toc-item-num\">3.23&nbsp;&nbsp;</span>Quiz-Time! Was wird hier gemacht?</a></span></li></ul></li><li><span><a href=\"#Tupel\" data-toc-modified-id=\"Tupel-4\"><span class=\"toc-item-num\">4&nbsp;&nbsp;</span>Tupel</a></span><ul class=\"toc-item\"><li><span><a href=\"#Definition-einer-Liste-erfolgt-über-runde-Klammern:\" data-toc-modified-id=\"Definition-einer-Liste-erfolgt-über-runde-Klammern:-4.1\"><span class=\"toc-item-num\">4.1&nbsp;&nbsp;</span>Definition einer Liste erfolgt über runde Klammern:</a></span></li><li><span><a href=\"#Tupel-können-auch-ohne-runde-Klammern-definiert-werden:\" data-toc-modified-id=\"Tupel-können-auch-ohne-runde-Klammern-definiert-werden:-4.2\"><span class=\"toc-item-num\">4.2&nbsp;&nbsp;</span>Tupel können auch ohne runde Klammern definiert werden:</a></span></li><li><span><a href=\"#Entpacken-einer-Liste-durch-Mehrfachzuweisung:\" data-toc-modified-id=\"Entpacken-einer-Liste-durch-Mehrfachzuweisung:-4.3\"><span class=\"toc-item-num\">4.3&nbsp;&nbsp;</span>Entpacken einer Liste durch Mehrfachzuweisung:</a></span></li><li><span><a href=\"#Unterschied-zwischen-Tupeln-und-Listen\" data-toc-modified-id=\"Unterschied-zwischen-Tupeln-und-Listen-4.4\"><span class=\"toc-item-num\">4.4&nbsp;&nbsp;</span>Unterschied zwischen Tupeln und Listen</a></span></li><li><span><a href=\"#Konkatenieren-von-Tupeln\" data-toc-modified-id=\"Konkatenieren-von-Tupeln-4.5\"><span class=\"toc-item-num\">4.5&nbsp;&nbsp;</span>Konkatenieren von Tupeln</a></span></li><li><span><a href=\"#Slicing-funktioniert-auch-für-Tupel\" data-toc-modified-id=\"Slicing-funktioniert-auch-für-Tupel-4.6\"><span class=\"toc-item-num\">4.6&nbsp;&nbsp;</span>Slicing funktioniert auch für Tupel</a></span></li></ul></li><li><span><a href=\"#Zeichenketten-(Strings)\" data-toc-modified-id=\"Zeichenketten-(Strings)-5\"><span class=\"toc-item-num\">5&nbsp;&nbsp;</span>Zeichenketten (Strings)</a></span><ul class=\"toc-item\"><li><span><a href=\"#Definition-von-Zeichenketten\" data-toc-modified-id=\"Definition-von-Zeichenketten-5.1\"><span class=\"toc-item-num\">5.1&nbsp;&nbsp;</span>Definition von Zeichenketten</a></span></li><li><span><a href=\"#Escape-Sequenzen\" data-toc-modified-id=\"Escape-Sequenzen-5.2\"><span class=\"toc-item-num\">5.2&nbsp;&nbsp;</span>Escape-Sequenzen</a></span></li><li><span><a href=\"#Zeichenketten-über-mehrere-Zeilen\" data-toc-modified-id=\"Zeichenketten-über-mehrere-Zeilen-5.3\"><span class=\"toc-item-num\">5.3&nbsp;&nbsp;</span>Zeichenketten über mehrere Zeilen</a></span></li><li><span><a href=\"#Lesender-und-schreibender-Zugriff-auf-einzelne-Zeichen:\" data-toc-modified-id=\"Lesender-und-schreibender-Zugriff-auf-einzelne-Zeichen:-5.4\"><span class=\"toc-item-num\">5.4&nbsp;&nbsp;</span>Lesender und schreibender Zugriff auf einzelne Zeichen:</a></span></li><li><span><a href=\"#Umwandeln-in-Klein--bzw.-Großbuchstaben\" data-toc-modified-id=\"Umwandeln-in-Klein--bzw.-Großbuchstaben-5.5\"><span class=\"toc-item-num\">5.5&nbsp;&nbsp;</span>Umwandeln in Klein- bzw. Großbuchstaben</a></span></li><li><span><a href=\"#Überprüfen-ob-ein-Wort-in-einer-Zeichenkette-vorkommt\" data-toc-modified-id=\"Überprüfen-ob-ein-Wort-in-einer-Zeichenkette-vorkommt-5.6\"><span class=\"toc-item-num\">5.6&nbsp;&nbsp;</span>Überprüfen ob ein Wort in einer Zeichenkette vorkommt</a></span></li><li><span><a href=\"#Quiz-Time!\" data-toc-modified-id=\"Quiz-Time!-5.7\"><span class=\"toc-item-num\">5.7&nbsp;&nbsp;</span>Quiz-Time!</a></span></li><li><span><a href=\"#Finden-der-1.-Vorkommensstelle-eines-Wortes-in-einer-Zeichenkette\" data-toc-modified-id=\"Finden-der-1.-Vorkommensstelle-eines-Wortes-in-einer-Zeichenkette-5.8\"><span class=\"toc-item-num\">5.8&nbsp;&nbsp;</span>Finden der 1. Vorkommensstelle eines Wortes in einer Zeichenkette</a></span></li><li><span><a href=\"#Aufspalten-von-Zeichenketten\" data-toc-modified-id=\"Aufspalten-von-Zeichenketten-5.9\"><span class=\"toc-item-num\">5.9&nbsp;&nbsp;</span>Aufspalten von Zeichenketten</a></span></li><li><span><a href=\"#Ersetzen-von-Wörtern-in-Zeichenketten\" data-toc-modified-id=\"Ersetzen-von-Wörtern-in-Zeichenketten-5.10\"><span class=\"toc-item-num\">5.10&nbsp;&nbsp;</span>Ersetzen von Wörtern in Zeichenketten</a></span></li></ul></li><li><span><a href=\"#for-Schleife\" data-toc-modified-id=\"for-Schleife-6\"><span class=\"toc-item-num\">6&nbsp;&nbsp;</span>for-Schleife</a></span><ul class=\"toc-item\"><li><span><a href=\"#Es-gibt-keine-klassische-numerische-Zählschleife!\" data-toc-modified-id=\"Es-gibt-keine-klassische-numerische-Zählschleife!-6.1\"><span class=\"toc-item-num\">6.1&nbsp;&nbsp;</span>Es gibt keine klassische numerische Zählschleife!</a></span></li><li><span><a href=\"#Einrückung-ist-wichtig\" data-toc-modified-id=\"Einrückung-ist-wichtig-6.2\"><span class=\"toc-item-num\">6.2&nbsp;&nbsp;</span>Einrückung ist wichtig</a></span></li><li><span><a href=\"#range()-Varianten\" data-toc-modified-id=\"range()-Varianten-6.3\"><span class=\"toc-item-num\">6.3&nbsp;&nbsp;</span>range() Varianten</a></span></li><li><span><a href=\"#Iterieren-über-andere-sequentielle-Datentypen\" data-toc-modified-id=\"Iterieren-über-andere-sequentielle-Datentypen-6.4\"><span class=\"toc-item-num\">6.4&nbsp;&nbsp;</span>Iterieren über andere sequentielle Datentypen</a></span></li><li><span><a href=\"#Kleiner-Exkurs:-Benutzereingabe\" data-toc-modified-id=\"Kleiner-Exkurs:-Benutzereingabe-6.5\"><span class=\"toc-item-num\">6.5&nbsp;&nbsp;</span>Kleiner Exkurs: Benutzereingabe</a></span></li><li><span><a href=\"#continue:-Schleifenfortführung\" data-toc-modified-id=\"continue:-Schleifenfortführung-6.6\"><span class=\"toc-item-num\">6.6&nbsp;&nbsp;</span>continue: Schleifenfortführung</a></span></li><li><span><a href=\"#break:-Schleifenabbruch\" data-toc-modified-id=\"break:-Schleifenabbruch-6.7\"><span class=\"toc-item-num\">6.7&nbsp;&nbsp;</span>break: Schleifenabbruch</a></span></li><li><span><a href=\"#for-Schleifen-mit-else-Zweig\" data-toc-modified-id=\"for-Schleifen-mit-else-Zweig-6.8\"><span class=\"toc-item-num\">6.8&nbsp;&nbsp;</span>for-Schleifen mit else-Zweig</a></span></li></ul></li><li><span><a href=\"#while-Schleife\" data-toc-modified-id=\"while-Schleife-7\"><span class=\"toc-item-num\">7&nbsp;&nbsp;</span>while-Schleife</a></span><ul class=\"toc-item\"><li><span><a href=\"#Ein-erstes-einfaches-Beispiel\" data-toc-modified-id=\"Ein-erstes-einfaches-Beispiel-7.1\"><span class=\"toc-item-num\">7.1&nbsp;&nbsp;</span>Ein erstes einfaches Beispiel</a></span></li><li><span><a href=\"#else-Zweig-bei-while-Schleifen\" data-toc-modified-id=\"else-Zweig-bei-while-Schleifen-7.2\"><span class=\"toc-item-num\">7.2&nbsp;&nbsp;</span>else-Zweig bei while-Schleifen</a></span></li></ul></li><li><span><a href=\"#if-(Bedingte-Anweisung)\" data-toc-modified-id=\"if-(Bedingte-Anweisung)-8\"><span class=\"toc-item-num\">8&nbsp;&nbsp;</span>if (Bedingte Anweisung)</a></span><ul class=\"toc-item\"><li><span><a href=\"#Zahlenratebeispiel\" data-toc-modified-id=\"Zahlenratebeispiel-8.1\"><span class=\"toc-item-num\">8.1&nbsp;&nbsp;</span>Zahlenratebeispiel</a></span></li><li><span><a href=\"#Mehrfachfallunterscheidung-mit-else\" data-toc-modified-id=\"Mehrfachfallunterscheidung-mit-else-8.2\"><span class=\"toc-item-num\">8.2&nbsp;&nbsp;</span>Mehrfachfallunterscheidung mit else</a></span></li><li><span><a href=\"#Mehrfachfallunterscheidung-mit-elif\" data-toc-modified-id=\"Mehrfachfallunterscheidung-mit-elif-8.3\"><span class=\"toc-item-num\">8.3&nbsp;&nbsp;</span>Mehrfachfallunterscheidung mit elif</a></span></li></ul></li><li><span><a href=\"#Funktionen\" data-toc-modified-id=\"Funktionen-9\"><span class=\"toc-item-num\">9&nbsp;&nbsp;</span>Funktionen</a></span><ul class=\"toc-item\"><li><span><a href=\"#Syntax-der-Definition-einer-Funktion\" data-toc-modified-id=\"Syntax-der-Definition-einer-Funktion-9.1\"><span class=\"toc-item-num\">9.1&nbsp;&nbsp;</span>Syntax der Definition einer Funktion</a></span></li><li><span><a href=\"#Leere-Funktion\" data-toc-modified-id=\"Leere-Funktion-9.2\"><span class=\"toc-item-num\">9.2&nbsp;&nbsp;</span>Leere Funktion</a></span></li><li><span><a href=\"#Funktionen,-die-nichts-zurückgeben\" data-toc-modified-id=\"Funktionen,-die-nichts-zurückgeben-9.3\"><span class=\"toc-item-num\">9.3&nbsp;&nbsp;</span>Funktionen, die nichts zurückgeben</a></span></li><li><span><a href=\"#Docstring\" data-toc-modified-id=\"Docstring-9.4\"><span class=\"toc-item-num\">9.4&nbsp;&nbsp;</span>Docstring</a></span></li><li><span><a href=\"#Standardwerte-für-Funktionsargumente\" data-toc-modified-id=\"Standardwerte-für-Funktionsargumente-9.5\"><span class=\"toc-item-num\">9.5&nbsp;&nbsp;</span>Standardwerte für Funktionsargumente</a></span></li><li><span><a href=\"#Funktionen-mit-mehreren-Rückgabewerten\" data-toc-modified-id=\"Funktionen-mit-mehreren-Rückgabewerten-9.6\"><span class=\"toc-item-num\">9.6&nbsp;&nbsp;</span>Funktionen mit mehreren Rückgabewerten</a></span></li><li><span><a href=\"#Quiz-Time!\" data-toc-modified-id=\"Quiz-Time!-9.7\"><span class=\"toc-item-num\">9.7&nbsp;&nbsp;</span>Quiz-Time!</a></span></li><li><span><a href=\"#Sicherheitsüberprüfung-für-Funktionsargumente\" data-toc-modified-id=\"Sicherheitsüberprüfung-für-Funktionsargumente-9.8\"><span class=\"toc-item-num\">9.8&nbsp;&nbsp;</span>Sicherheitsüberprüfung für Funktionsargumente</a></span></li><li><span><a href=\"#Werden-übergebene-Variablen-verändert?\" data-toc-modified-id=\"Werden-übergebene-Variablen-verändert?-9.9\"><span class=\"toc-item-num\">9.9&nbsp;&nbsp;</span>Werden übergebene Variablen verändert?</a></span></li><li><span><a href=\"#Lokale-und-globale-Variablen\" data-toc-modified-id=\"Lokale-und-globale-Variablen-9.10\"><span class=\"toc-item-num\">9.10&nbsp;&nbsp;</span>Lokale und globale Variablen</a></span></li><li><span><a href=\"#Funktionen-in-Funktionen-definieren\" data-toc-modified-id=\"Funktionen-in-Funktionen-definieren-9.11\"><span class=\"toc-item-num\">9.11&nbsp;&nbsp;</span>Funktionen in Funktionen definieren</a></span></li><li><span><a href=\"#Variable-Anzahl-von-Funktionsparametern\" data-toc-modified-id=\"Variable-Anzahl-von-Funktionsparametern-9.12\"><span class=\"toc-item-num\">9.12&nbsp;&nbsp;</span>Variable Anzahl von Funktionsparametern</a></span></li><li><span><a href=\"#Ein-Stern-(*)-in-Funktionsaufrufen\" data-toc-modified-id=\"Ein-Stern-(*)-in-Funktionsaufrufen-9.13\"><span class=\"toc-item-num\">9.13&nbsp;&nbsp;</span>Ein Stern (*) in Funktionsaufrufen</a></span></li></ul></li><li><span><a href=\"#Kommentare\" data-toc-modified-id=\"Kommentare-10\"><span class=\"toc-item-num\">10&nbsp;&nbsp;</span>Kommentare</a></span></li><li><span><a href=\"#Dictionaries\" data-toc-modified-id=\"Dictionaries-11\"><span class=\"toc-item-num\">11&nbsp;&nbsp;</span>Dictionaries</a></span><ul class=\"toc-item\"><li><span><a href=\"#Definition\" data-toc-modified-id=\"Definition-11.1\"><span class=\"toc-item-num\">11.1&nbsp;&nbsp;</span>Definition</a></span></li><li><span><a href=\"#Zugriff-auf-Values-über-Keys\" data-toc-modified-id=\"Zugriff-auf-Values-über-Keys-11.2\"><span class=\"toc-item-num\">11.2&nbsp;&nbsp;</span>Zugriff auf Values über Keys</a></span></li><li><span><a href=\"#get()-Funktion\" data-toc-modified-id=\"get()-Funktion-11.3\"><span class=\"toc-item-num\">11.3&nbsp;&nbsp;</span>get() Funktion</a></span></li><li><span><a href=\"#Testen,-ob-ein-Key-in-einem-Dictionary-vorkommt\" data-toc-modified-id=\"Testen,-ob-ein-Key-in-einem-Dictionary-vorkommt-11.4\"><span class=\"toc-item-num\">11.4&nbsp;&nbsp;</span>Testen, ob ein Key in einem Dictionary vorkommt</a></span></li><li><span><a href=\"#Gültige-Keys-für-ein-Dictionary\" data-toc-modified-id=\"Gültige-Keys-für-ein-Dictionary-11.5\"><span class=\"toc-item-num\">11.5&nbsp;&nbsp;</span>Gültige Keys für ein Dictionary</a></span></li><li><span><a href=\"#Über-die-Keys-eines-Dictionaries-iterieren\" data-toc-modified-id=\"Über-die-Keys-eines-Dictionaries-iterieren-11.6\"><span class=\"toc-item-num\">11.6&nbsp;&nbsp;</span>Über die Keys eines Dictionaries iterieren</a></span></li><li><span><a href=\"#Verschachtelte-Dictionaries\" data-toc-modified-id=\"Verschachtelte-Dictionaries-11.7\"><span class=\"toc-item-num\">11.7&nbsp;&nbsp;</span>Verschachtelte Dictionaries</a></span></li><li><span><a href=\"#Einen-Eintrag-aus-einem-Dictionary-löschen\" data-toc-modified-id=\"Einen-Eintrag-aus-einem-Dictionary-löschen-11.8\"><span class=\"toc-item-num\">11.8&nbsp;&nbsp;</span>Einen Eintrag aus einem Dictionary löschen</a></span></li></ul></li></ul></div>"
   ]
  },
  {
   "cell_type": "markdown",
   "metadata": {},
   "source": [
    "# Variablennamen"
   ]
  },
  {
   "cell_type": "markdown",
   "metadata": {},
   "source": [
    "## Gültige Variablennamen\n",
    "\n",
    "Variablennamen müssen mit einem Buchstaben oder Unterstrich _ beginnen:"
   ]
  },
  {
   "cell_type": "code",
   "execution_count": 1,
   "metadata": {},
   "outputs": [],
   "source": [
    "a = 42"
   ]
  },
  {
   "cell_type": "markdown",
   "metadata": {},
   "source": [
    "Unterstriche sind in Variablennamen an beliebiger Stelle erlaubt:"
   ]
  },
  {
   "cell_type": "code",
   "execution_count": 2,
   "metadata": {},
   "outputs": [],
   "source": [
    "_a = 43"
   ]
  },
  {
   "cell_type": "code",
   "execution_count": 3,
   "metadata": {},
   "outputs": [
    {
     "data": {
      "text/plain": [
       "42"
      ]
     },
     "execution_count": 3,
     "metadata": {},
     "output_type": "execute_result"
    }
   ],
   "source": [
    "a"
   ]
  },
  {
   "cell_type": "code",
   "execution_count": 4,
   "metadata": {},
   "outputs": [
    {
     "data": {
      "text/plain": [
       "43"
      ]
     },
     "execution_count": 4,
     "metadata": {},
     "output_type": "execute_result"
    }
   ],
   "source": [
    "_a"
   ]
  },
  {
   "cell_type": "markdown",
   "metadata": {},
   "source": [
    "Folgender Variablenname ist ungültig (da er mit einer Ziffer anfängt):"
   ]
  },
  {
   "cell_type": "code",
   "execution_count": 5,
   "metadata": {},
   "outputs": [
    {
     "ename": "SyntaxError",
     "evalue": "invalid syntax (<ipython-input-5-99158644871a>, line 1)",
     "output_type": "error",
     "traceback": [
      "\u001b[1;36m  File \u001b[1;32m\"<ipython-input-5-99158644871a>\"\u001b[1;36m, line \u001b[1;32m1\u001b[0m\n\u001b[1;33m    123a = 44\u001b[0m\n\u001b[1;37m       ^\u001b[0m\n\u001b[1;31mSyntaxError\u001b[0m\u001b[1;31m:\u001b[0m invalid syntax\n"
     ]
    }
   ],
   "source": [
    "123a = 44"
   ]
  },
  {
   "cell_type": "markdown",
   "metadata": {},
   "source": [
    "Dieser Variablenname dagegen wäre gültig:"
   ]
  },
  {
   "cell_type": "code",
   "execution_count": 6,
   "metadata": {},
   "outputs": [],
   "source": [
    "a123 = 44"
   ]
  },
  {
   "cell_type": "code",
   "execution_count": 7,
   "metadata": {},
   "outputs": [
    {
     "data": {
      "text/plain": [
       "44"
      ]
     },
     "execution_count": 7,
     "metadata": {},
     "output_type": "execute_result"
    }
   ],
   "source": [
    "a123"
   ]
  },
  {
   "cell_type": "markdown",
   "metadata": {},
   "source": [
    "Umlaute sind in Variablennamen erlaubt:"
   ]
  },
  {
   "cell_type": "code",
   "execution_count": 8,
   "metadata": {},
   "outputs": [],
   "source": [
    "zeitreihe1_länge = 100"
   ]
  },
  {
   "cell_type": "code",
   "execution_count": 9,
   "metadata": {},
   "outputs": [
    {
     "data": {
      "text/plain": [
       "100"
      ]
     },
     "execution_count": 9,
     "metadata": {},
     "output_type": "execute_result"
    }
   ],
   "source": [
    "zeitreihe1_länge"
   ]
  },
  {
   "cell_type": "markdown",
   "metadata": {},
   "source": [
    "Folgender seltsamer Variablenname wäre damit auch gültig:"
   ]
  },
  {
   "cell_type": "code",
   "execution_count": 10,
   "metadata": {},
   "outputs": [],
   "source": [
    "_üäö = 101"
   ]
  },
  {
   "cell_type": "code",
   "execution_count": 11,
   "metadata": {},
   "outputs": [
    {
     "data": {
      "text/plain": [
       "101"
      ]
     },
     "execution_count": 11,
     "metadata": {},
     "output_type": "execute_result"
    }
   ],
   "source": [
    "_üäö"
   ]
  },
  {
   "cell_type": "markdown",
   "metadata": {},
   "source": [
    "Und auch `_ß` wäre ein gültiger Variablenname:"
   ]
  },
  {
   "cell_type": "code",
   "execution_count": 12,
   "metadata": {},
   "outputs": [],
   "source": [
    "_ß = 2*_üäö"
   ]
  },
  {
   "cell_type": "code",
   "execution_count": 13,
   "metadata": {},
   "outputs": [
    {
     "data": {
      "text/plain": [
       "202"
      ]
     },
     "execution_count": 13,
     "metadata": {},
     "output_type": "execute_result"
    }
   ],
   "source": [
    "_ß"
   ]
  },
  {
   "cell_type": "markdown",
   "metadata": {},
   "source": [
    "Gewisse Sonderzeichen, wie z.B. das Paragraphenzeichen sind aber nicht bei Variablennamen erlaubt:"
   ]
  },
  {
   "cell_type": "code",
   "execution_count": 14,
   "metadata": {},
   "outputs": [
    {
     "ename": "SyntaxError",
     "evalue": "invalid character in identifier (<ipython-input-14-3d56f7d6a325>, line 1)",
     "output_type": "error",
     "traceback": [
      "\u001b[1;36m  File \u001b[1;32m\"<ipython-input-14-3d56f7d6a325>\"\u001b[1;36m, line \u001b[1;32m1\u001b[0m\n\u001b[1;33m    § = 100\u001b[0m\n\u001b[1;37m    ^\u001b[0m\n\u001b[1;31mSyntaxError\u001b[0m\u001b[1;31m:\u001b[0m invalid character in identifier\n"
     ]
    }
   ],
   "source": [
    "§ = 100"
   ]
  },
  {
   "cell_type": "markdown",
   "metadata": {},
   "source": [
    "Akzente sind ok."
   ]
  },
  {
   "cell_type": "code",
   "execution_count": 15,
   "metadata": {},
   "outputs": [],
   "source": [
    "é = 1"
   ]
  },
  {
   "cell_type": "code",
   "execution_count": 16,
   "metadata": {},
   "outputs": [
    {
     "data": {
      "text/plain": [
       "1"
      ]
     },
     "execution_count": 16,
     "metadata": {},
     "output_type": "execute_result"
    }
   ],
   "source": [
    "é"
   ]
  },
  {
   "cell_type": "code",
   "execution_count": 17,
   "metadata": {},
   "outputs": [],
   "source": [
    "à = 2"
   ]
  },
  {
   "cell_type": "code",
   "execution_count": 18,
   "metadata": {},
   "outputs": [
    {
     "data": {
      "text/plain": [
       "2"
      ]
     },
     "execution_count": 18,
     "metadata": {},
     "output_type": "execute_result"
    }
   ],
   "source": [
    "à"
   ]
  },
  {
   "cell_type": "code",
   "execution_count": 19,
   "metadata": {},
   "outputs": [],
   "source": [
    "â = 3"
   ]
  },
  {
   "cell_type": "code",
   "execution_count": 20,
   "metadata": {},
   "outputs": [
    {
     "data": {
      "text/plain": [
       "3"
      ]
     },
     "execution_count": 20,
     "metadata": {},
     "output_type": "execute_result"
    }
   ],
   "source": [
    "â"
   ]
  },
  {
   "cell_type": "code",
   "execution_count": 21,
   "metadata": {},
   "outputs": [],
   "source": [
    "å = 4"
   ]
  },
  {
   "cell_type": "code",
   "execution_count": 22,
   "metadata": {},
   "outputs": [
    {
     "data": {
      "text/plain": [
       "4"
      ]
     },
     "execution_count": 22,
     "metadata": {},
     "output_type": "execute_result"
    }
   ],
   "source": [
    "å"
   ]
  },
  {
   "cell_type": "markdown",
   "metadata": {},
   "source": [
    "## Variablennamen sind case-sensitive"
   ]
  },
  {
   "cell_type": "code",
   "execution_count": 23,
   "metadata": {},
   "outputs": [],
   "source": [
    "zeitreihe = 1"
   ]
  },
  {
   "cell_type": "code",
   "execution_count": 24,
   "metadata": {},
   "outputs": [],
   "source": [
    "Zeitreihe = 2"
   ]
  },
  {
   "cell_type": "code",
   "execution_count": 25,
   "metadata": {},
   "outputs": [
    {
     "data": {
      "text/plain": [
       "1"
      ]
     },
     "execution_count": 25,
     "metadata": {},
     "output_type": "execute_result"
    }
   ],
   "source": [
    "zeitreihe"
   ]
  },
  {
   "cell_type": "code",
   "execution_count": 26,
   "metadata": {},
   "outputs": [
    {
     "data": {
      "text/plain": [
       "2"
      ]
     },
     "execution_count": 26,
     "metadata": {},
     "output_type": "execute_result"
    }
   ],
   "source": [
    "Zeitreihe"
   ]
  },
  {
   "cell_type": "markdown",
   "metadata": {},
   "source": [
    "Die folgende Variable gibt es bisher noch nicht, daher der Fehler `NameError`:"
   ]
  },
  {
   "cell_type": "code",
   "execution_count": 27,
   "metadata": {},
   "outputs": [
    {
     "ename": "NameError",
     "evalue": "name 'ZEITREIHE' is not defined",
     "output_type": "error",
     "traceback": [
      "\u001b[1;31m---------------------------------------------------------------------------\u001b[0m",
      "\u001b[1;31mNameError\u001b[0m                                 Traceback (most recent call last)",
      "\u001b[1;32m<ipython-input-27-9f3635a99da5>\u001b[0m in \u001b[0;36m<module>\u001b[1;34m\u001b[0m\n\u001b[1;32m----> 1\u001b[1;33m \u001b[0mZEITREIHE\u001b[0m\u001b[1;33m\u001b[0m\u001b[1;33m\u001b[0m\u001b[0m\n\u001b[0m",
      "\u001b[1;31mNameError\u001b[0m: name 'ZEITREIHE' is not defined"
     ]
    }
   ],
   "source": [
    "ZEITREIHE"
   ]
  },
  {
   "cell_type": "markdown",
   "metadata": {},
   "source": [
    "# Basisdatentypen"
   ]
  },
  {
   "cell_type": "markdown",
   "metadata": {},
   "source": [
    "## Welche Basistypen gibt es?"
   ]
  },
  {
   "cell_type": "markdown",
   "metadata": {},
   "source": [
    "Mal eine Variable mit einer ganzen Zahl initialisieren:"
   ]
  },
  {
   "cell_type": "code",
   "execution_count": 28,
   "metadata": {
    "collapsed": true
   },
   "outputs": [],
   "source": [
    "a = 1"
   ]
  },
  {
   "cell_type": "code",
   "execution_count": 29,
   "metadata": {},
   "outputs": [
    {
     "data": {
      "text/plain": [
       "int"
      ]
     },
     "execution_count": 29,
     "metadata": {},
     "output_type": "execute_result"
    }
   ],
   "source": [
    "type(a)"
   ]
  },
  {
   "cell_type": "code",
   "execution_count": 30,
   "metadata": {},
   "outputs": [
    {
     "name": "stdout",
     "output_type": "stream",
     "text": [
      "<class 'int'>\n"
     ]
    }
   ],
   "source": [
    "print(type(a))"
   ]
  },
  {
   "cell_type": "markdown",
   "metadata": {},
   "source": [
    "Mal eine Variable mit einer gebrochenen Zahl initialisieren:"
   ]
  },
  {
   "cell_type": "code",
   "execution_count": 31,
   "metadata": {
    "collapsed": true
   },
   "outputs": [],
   "source": [
    "b = 1.0"
   ]
  },
  {
   "cell_type": "code",
   "execution_count": 32,
   "metadata": {},
   "outputs": [
    {
     "data": {
      "text/plain": [
       "float"
      ]
     },
     "execution_count": 32,
     "metadata": {},
     "output_type": "execute_result"
    }
   ],
   "source": [
    "type(b)"
   ]
  },
  {
   "cell_type": "markdown",
   "metadata": {},
   "source": [
    "In Python entspricht float dem C/C++-Datentyp double. floats (Gebrochene Zahlen mit 32-Bit Genauigkeit) gibt es nicht."
   ]
  },
  {
   "cell_type": "code",
   "execution_count": 33,
   "metadata": {},
   "outputs": [
    {
     "ename": "SyntaxError",
     "evalue": "invalid syntax (<ipython-input-33-dfce069d21b5>, line 1)",
     "output_type": "error",
     "traceback": [
      "\u001b[1;36m  File \u001b[1;32m\"<ipython-input-33-dfce069d21b5>\"\u001b[1;36m, line \u001b[1;32m1\u001b[0m\n\u001b[1;33m    c = 1.0f\u001b[0m\n\u001b[1;37m           ^\u001b[0m\n\u001b[1;31mSyntaxError\u001b[0m\u001b[1;31m:\u001b[0m invalid syntax\n"
     ]
    }
   ],
   "source": [
    "c = 1.0f"
   ]
  },
  {
   "cell_type": "markdown",
   "metadata": {},
   "source": [
    "Python erkennt den Datentyp zur Laufzeit. Man nennt das \"dynamische Typdeklaration\":"
   ]
  },
  {
   "cell_type": "code",
   "execution_count": 34,
   "metadata": {},
   "outputs": [
    {
     "data": {
      "text/plain": [
       "int"
      ]
     },
     "execution_count": 34,
     "metadata": {},
     "output_type": "execute_result"
    }
   ],
   "source": [
    "type(a)"
   ]
  },
  {
   "cell_type": "markdown",
   "metadata": {},
   "source": [
    "a ist bisher eine Variable für eine ganze Zahl. Durch Neuzuweisung wird es eine Variable für eine gebrochene Zahl:"
   ]
  },
  {
   "cell_type": "code",
   "execution_count": 35,
   "metadata": {
    "collapsed": true
   },
   "outputs": [],
   "source": [
    "a = 1.0"
   ]
  },
  {
   "cell_type": "code",
   "execution_count": 36,
   "metadata": {},
   "outputs": [
    {
     "data": {
      "text/plain": [
       "float"
      ]
     },
     "execution_count": 36,
     "metadata": {},
     "output_type": "execute_result"
    }
   ],
   "source": [
    "type(a)"
   ]
  },
  {
   "cell_type": "markdown",
   "metadata": {},
   "source": [
    "Auch die wissenschaftliche Notation von gebrochenen Zahlen ist in Python möglich:"
   ]
  },
  {
   "cell_type": "code",
   "execution_count": 37,
   "metadata": {
    "collapsed": true
   },
   "outputs": [],
   "source": [
    "a = 12e+3"
   ]
  },
  {
   "cell_type": "code",
   "execution_count": 38,
   "metadata": {},
   "outputs": [
    {
     "data": {
      "text/plain": [
       "12000.0"
      ]
     },
     "execution_count": 38,
     "metadata": {},
     "output_type": "execute_result"
    }
   ],
   "source": [
    "a"
   ]
  },
  {
   "cell_type": "code",
   "execution_count": 39,
   "metadata": {
    "collapsed": true
   },
   "outputs": [],
   "source": [
    "a = 7e-3"
   ]
  },
  {
   "cell_type": "code",
   "execution_count": 40,
   "metadata": {},
   "outputs": [
    {
     "data": {
      "text/plain": [
       "0.007"
      ]
     },
     "execution_count": 40,
     "metadata": {},
     "output_type": "execute_result"
    }
   ],
   "source": [
    "a"
   ]
  },
  {
   "cell_type": "markdown",
   "metadata": {},
   "source": [
    "Wahrheitswerte in Python:"
   ]
  },
  {
   "cell_type": "code",
   "execution_count": 41,
   "metadata": {
    "collapsed": true
   },
   "outputs": [],
   "source": [
    "d = True"
   ]
  },
  {
   "cell_type": "code",
   "execution_count": 42,
   "metadata": {},
   "outputs": [
    {
     "data": {
      "text/plain": [
       "bool"
      ]
     },
     "execution_count": 42,
     "metadata": {},
     "output_type": "execute_result"
    }
   ],
   "source": [
    "type(d)"
   ]
  },
  {
   "cell_type": "code",
   "execution_count": 43,
   "metadata": {
    "collapsed": true
   },
   "outputs": [],
   "source": [
    "e = False"
   ]
  },
  {
   "cell_type": "code",
   "execution_count": 44,
   "metadata": {},
   "outputs": [
    {
     "data": {
      "text/plain": [
       "False"
      ]
     },
     "execution_count": 44,
     "metadata": {},
     "output_type": "execute_result"
    }
   ],
   "source": [
    "d and e"
   ]
  },
  {
   "cell_type": "code",
   "execution_count": 45,
   "metadata": {},
   "outputs": [
    {
     "data": {
      "text/plain": [
       "True"
      ]
     },
     "execution_count": 45,
     "metadata": {},
     "output_type": "execute_result"
    }
   ],
   "source": [
    "d or e"
   ]
  },
  {
   "cell_type": "code",
   "execution_count": 46,
   "metadata": {},
   "outputs": [
    {
     "data": {
      "text/plain": [
       "False"
      ]
     },
     "execution_count": 46,
     "metadata": {},
     "output_type": "execute_result"
    }
   ],
   "source": [
    "not d"
   ]
  },
  {
   "cell_type": "markdown",
   "metadata": {},
   "source": [
    "Wie in vielen anderen Programmiersprachen können Wahrheitswerte auch durch numerische Werte dargestellt werden:"
   ]
  },
  {
   "cell_type": "code",
   "execution_count": 47,
   "metadata": {},
   "outputs": [
    {
     "data": {
      "text/plain": [
       "False"
      ]
     },
     "execution_count": 47,
     "metadata": {},
     "output_type": "execute_result"
    }
   ],
   "source": [
    "bool(0)"
   ]
  },
  {
   "cell_type": "code",
   "execution_count": 48,
   "metadata": {},
   "outputs": [
    {
     "data": {
      "text/plain": [
       "True"
      ]
     },
     "execution_count": 48,
     "metadata": {},
     "output_type": "execute_result"
    }
   ],
   "source": [
    "bool(-1)"
   ]
  },
  {
   "cell_type": "code",
   "execution_count": 49,
   "metadata": {},
   "outputs": [
    {
     "data": {
      "text/plain": [
       "True"
      ]
     },
     "execution_count": 49,
     "metadata": {},
     "output_type": "execute_result"
    }
   ],
   "source": [
    "bool(1)"
   ]
  },
  {
   "cell_type": "code",
   "execution_count": 50,
   "metadata": {},
   "outputs": [
    {
     "name": "stdout",
     "output_type": "stream",
     "text": [
      "Hello!\n"
     ]
    }
   ],
   "source": [
    "if 1:\n",
    "    print(\"Hello!\")"
   ]
  },
  {
   "cell_type": "markdown",
   "metadata": {},
   "source": [
    "Im Gegensatz zu vielen anderen Programmiersprachen hat Python auch einen Basisdatentyp für komplexe Zahlen! Die komplexen Zahlen erweitern die reelen Zahlen derart, dass die Gleichung x^2+1=0 lösbar wird.\n",
    "\n",
    "Python orientiert sich bei der Schreibweise für komplexe Zahlen an der Konvention in der Elektrotechnik. Hier benutzt man ein \"j\" als imaginäre Einheit."
   ]
  },
  {
   "cell_type": "code",
   "execution_count": 51,
   "metadata": {
    "collapsed": true
   },
   "outputs": [],
   "source": [
    "var1 = 3 + 4j"
   ]
  },
  {
   "cell_type": "code",
   "execution_count": 52,
   "metadata": {},
   "outputs": [
    {
     "data": {
      "text/plain": [
       "complex"
      ]
     },
     "execution_count": 52,
     "metadata": {},
     "output_type": "execute_result"
    }
   ],
   "source": [
    "type(var1)"
   ]
  },
  {
   "cell_type": "code",
   "execution_count": 53,
   "metadata": {
    "collapsed": true
   },
   "outputs": [],
   "source": [
    "var2 = 0 - 1j"
   ]
  },
  {
   "cell_type": "code",
   "execution_count": 54,
   "metadata": {},
   "outputs": [
    {
     "data": {
      "text/plain": [
       "complex"
      ]
     },
     "execution_count": 54,
     "metadata": {},
     "output_type": "execute_result"
    }
   ],
   "source": [
    "type(var2)"
   ]
  },
  {
   "cell_type": "code",
   "execution_count": 55,
   "metadata": {},
   "outputs": [
    {
     "data": {
      "text/plain": [
       "(-1-0j)"
      ]
     },
     "execution_count": 55,
     "metadata": {},
     "output_type": "execute_result"
    }
   ],
   "source": [
    "var2 * var2"
   ]
  },
  {
   "cell_type": "markdown",
   "metadata": {},
   "source": [
    "Das Ergebnis dieser Multiplikation ist also eine komplexe Zahl mit Realteil -1 und Imaginärteil 0j."
   ]
  },
  {
   "cell_type": "markdown",
   "metadata": {},
   "source": [
    "## Operatoren für Basisdatentypen"
   ]
  },
  {
   "cell_type": "markdown",
   "metadata": {},
   "source": [
    "Es gibt einen Operator für die Fließkommazahldivision:"
   ]
  },
  {
   "cell_type": "code",
   "execution_count": 56,
   "metadata": {},
   "outputs": [
    {
     "data": {
      "text/plain": [
       "4.0"
      ]
     },
     "execution_count": 56,
     "metadata": {},
     "output_type": "execute_result"
    }
   ],
   "source": [
    "12 / 3"
   ]
  },
  {
   "cell_type": "markdown",
   "metadata": {},
   "source": [
    "Und es gibt einen eigenen Operator für die Ganzzahldivision:"
   ]
  },
  {
   "cell_type": "code",
   "execution_count": 57,
   "metadata": {},
   "outputs": [
    {
     "data": {
      "text/plain": [
       "4"
      ]
     },
     "execution_count": 57,
     "metadata": {},
     "output_type": "execute_result"
    }
   ],
   "source": [
    "12 // 3"
   ]
  },
  {
   "cell_type": "code",
   "execution_count": 58,
   "metadata": {},
   "outputs": [
    {
     "data": {
      "text/plain": [
       "float"
      ]
     },
     "execution_count": 58,
     "metadata": {},
     "output_type": "execute_result"
    }
   ],
   "source": [
    "type(12/3)"
   ]
  },
  {
   "cell_type": "code",
   "execution_count": 59,
   "metadata": {},
   "outputs": [
    {
     "data": {
      "text/plain": [
       "int"
      ]
     },
     "execution_count": 59,
     "metadata": {},
     "output_type": "execute_result"
    }
   ],
   "source": [
    "type(12//3)"
   ]
  },
  {
   "cell_type": "code",
   "execution_count": 60,
   "metadata": {},
   "outputs": [
    {
     "data": {
      "text/plain": [
       "5"
      ]
     },
     "execution_count": 60,
     "metadata": {},
     "output_type": "execute_result"
    }
   ],
   "source": [
    "2 + 3"
   ]
  },
  {
   "cell_type": "code",
   "execution_count": 61,
   "metadata": {},
   "outputs": [
    {
     "data": {
      "text/plain": [
       "int"
      ]
     },
     "execution_count": 61,
     "metadata": {},
     "output_type": "execute_result"
    }
   ],
   "source": [
    "type(2+3)"
   ]
  },
  {
   "cell_type": "code",
   "execution_count": 62,
   "metadata": {},
   "outputs": [
    {
     "data": {
      "text/plain": [
       "5.0"
      ]
     },
     "execution_count": 62,
     "metadata": {},
     "output_type": "execute_result"
    }
   ],
   "source": [
    "2 + 3.0"
   ]
  },
  {
   "cell_type": "code",
   "execution_count": 63,
   "metadata": {},
   "outputs": [
    {
     "data": {
      "text/plain": [
       "float"
      ]
     },
     "execution_count": 63,
     "metadata": {},
     "output_type": "execute_result"
    }
   ],
   "source": [
    "type(2+3.0)"
   ]
  },
  {
   "cell_type": "markdown",
   "metadata": {},
   "source": [
    "Auch in Python gibt es den Modulo-Operator:"
   ]
  },
  {
   "cell_type": "code",
   "execution_count": 64,
   "metadata": {},
   "outputs": [
    {
     "data": {
      "text/plain": [
       "1"
      ]
     },
     "execution_count": 64,
     "metadata": {},
     "output_type": "execute_result"
    }
   ],
   "source": [
    "7 % 3"
   ]
  },
  {
   "cell_type": "code",
   "execution_count": 65,
   "metadata": {},
   "outputs": [
    {
     "data": {
      "text/plain": [
       "2"
      ]
     },
     "execution_count": 65,
     "metadata": {},
     "output_type": "execute_result"
    }
   ],
   "source": [
    "8 % 3"
   ]
  },
  {
   "cell_type": "markdown",
   "metadata": {},
   "source": [
    "In Python kann man den Modulo-Operator auch auf floats anwenden. Es gibt dann den numerischen Rest zurück. In diesem Sinne passt z.B. 0.1 genau 34 mal in 3.5 und dann gibt es noch den numerischen Rest von 0.999..."
   ]
  },
  {
   "cell_type": "code",
   "execution_count": 66,
   "metadata": {},
   "outputs": [
    {
     "data": {
      "text/plain": [
       "0.09999999999999981"
      ]
     },
     "execution_count": 66,
     "metadata": {},
     "output_type": "execute_result"
    }
   ],
   "source": [
    "3.5 % 0.1"
   ]
  },
  {
   "cell_type": "markdown",
   "metadata": {},
   "source": [
    "In Python gibt es einen eigenen Operator für das Potenzieren. In vielen anderen Programmiersprachen benötigt man dafür eine eigene Funktion, wie z.B. `2^3 = 8 = pow(2,3).`"
   ]
  },
  {
   "cell_type": "code",
   "execution_count": 67,
   "metadata": {},
   "outputs": [
    {
     "data": {
      "text/plain": [
       "8"
      ]
     },
     "execution_count": 67,
     "metadata": {},
     "output_type": "execute_result"
    }
   ],
   "source": [
    "2 ** 3"
   ]
  },
  {
   "cell_type": "code",
   "execution_count": 68,
   "metadata": {},
   "outputs": [
    {
     "data": {
      "text/plain": [
       "1024"
      ]
     },
     "execution_count": 68,
     "metadata": {},
     "output_type": "execute_result"
    }
   ],
   "source": [
    "2 ** 10"
   ]
  },
  {
   "cell_type": "markdown",
   "metadata": {},
   "source": [
    "## Explizite Typumwandlung"
   ]
  },
  {
   "cell_type": "markdown",
   "metadata": {},
   "source": [
    "Manchmal benötigen wir eine explizite Typumwandlung.\n",
    "Zum Beispiel, um eine Zeichenkette und eine Zahl miteinander zu einer neuen Zeichenkette zu \"verbinden\":"
   ]
  },
  {
   "cell_type": "code",
   "execution_count": 69,
   "metadata": {
    "collapsed": true
   },
   "outputs": [],
   "source": [
    "z = 42\n",
    "s = \"Der Sinn des Lebens ist ...\""
   ]
  },
  {
   "cell_type": "code",
   "execution_count": 70,
   "metadata": {},
   "outputs": [
    {
     "data": {
      "text/plain": [
       "int"
      ]
     },
     "execution_count": 70,
     "metadata": {},
     "output_type": "execute_result"
    }
   ],
   "source": [
    "type(z)"
   ]
  },
  {
   "cell_type": "code",
   "execution_count": 71,
   "metadata": {},
   "outputs": [
    {
     "data": {
      "text/plain": [
       "str"
      ]
     },
     "execution_count": 71,
     "metadata": {},
     "output_type": "execute_result"
    }
   ],
   "source": [
    "type(s)"
   ]
  },
  {
   "cell_type": "markdown",
   "metadata": {},
   "source": [
    "Das folgende erzeugt erstmal einen Fehler `TypeError`:"
   ]
  },
  {
   "cell_type": "code",
   "execution_count": 72,
   "metadata": {},
   "outputs": [
    {
     "ename": "TypeError",
     "evalue": "must be str, not int",
     "output_type": "error",
     "traceback": [
      "\u001b[1;31m---------------------------------------------------------------------------\u001b[0m",
      "\u001b[1;31mTypeError\u001b[0m                                 Traceback (most recent call last)",
      "\u001b[1;32m<ipython-input-72-b15f7c1390b1>\u001b[0m in \u001b[0;36m<module>\u001b[1;34m()\u001b[0m\n\u001b[1;32m----> 1\u001b[1;33m \u001b[0ms\u001b[0m \u001b[1;33m+\u001b[0m \u001b[0mz\u001b[0m\u001b[1;33m\u001b[0m\u001b[0m\n\u001b[0m",
      "\u001b[1;31mTypeError\u001b[0m: must be str, not int"
     ]
    }
   ],
   "source": [
    "s + z"
   ]
  },
  {
   "cell_type": "markdown",
   "metadata": {},
   "source": [
    "So geht es richtig:"
   ]
  },
  {
   "cell_type": "code",
   "execution_count": 73,
   "metadata": {},
   "outputs": [
    {
     "data": {
      "text/plain": [
       "'Der Sinn des Lebens ist ...42'"
      ]
     },
     "execution_count": 73,
     "metadata": {},
     "output_type": "execute_result"
    }
   ],
   "source": [
    "s + str(z)"
   ]
  },
  {
   "cell_type": "code",
   "execution_count": 74,
   "metadata": {
    "collapsed": true
   },
   "outputs": [],
   "source": [
    "z1 = 42\n",
    "z2 = \"43\""
   ]
  },
  {
   "cell_type": "markdown",
   "metadata": {},
   "source": [
    "Und auch hier wird gleich wieder ein `TypeError` erzeugt:"
   ]
  },
  {
   "cell_type": "code",
   "execution_count": 75,
   "metadata": {},
   "outputs": [
    {
     "ename": "TypeError",
     "evalue": "unsupported operand type(s) for +: 'int' and 'str'",
     "output_type": "error",
     "traceback": [
      "\u001b[1;31m---------------------------------------------------------------------------\u001b[0m",
      "\u001b[1;31mTypeError\u001b[0m                                 Traceback (most recent call last)",
      "\u001b[1;32m<ipython-input-75-5806c88693ca>\u001b[0m in \u001b[0;36m<module>\u001b[1;34m()\u001b[0m\n\u001b[1;32m----> 1\u001b[1;33m \u001b[0mz1\u001b[0m \u001b[1;33m+\u001b[0m \u001b[0mz2\u001b[0m\u001b[1;33m\u001b[0m\u001b[0m\n\u001b[0m",
      "\u001b[1;31mTypeError\u001b[0m: unsupported operand type(s) for +: 'int' and 'str'"
     ]
    }
   ],
   "source": [
    "z1 + z2"
   ]
  },
  {
   "cell_type": "markdown",
   "metadata": {},
   "source": [
    "So geht es:"
   ]
  },
  {
   "cell_type": "code",
   "execution_count": 76,
   "metadata": {},
   "outputs": [
    {
     "data": {
      "text/plain": [
       "85"
      ]
     },
     "execution_count": 76,
     "metadata": {},
     "output_type": "execute_result"
    }
   ],
   "source": [
    "z1 + int(z2)"
   ]
  },
  {
   "cell_type": "markdown",
   "metadata": {},
   "source": [
    "Nicht jede Zeichenkette lässt sich aber über `int()` in einen String umwandeln:"
   ]
  },
  {
   "cell_type": "code",
   "execution_count": 77,
   "metadata": {
    "collapsed": true
   },
   "outputs": [],
   "source": [
    "z4 = \"43xyz\""
   ]
  },
  {
   "cell_type": "markdown",
   "metadata": {},
   "source": [
    "Daher gibt es gleich einen `ValueError`:"
   ]
  },
  {
   "cell_type": "code",
   "execution_count": 78,
   "metadata": {},
   "outputs": [
    {
     "ename": "ValueError",
     "evalue": "invalid literal for int() with base 10: '43xyz'",
     "output_type": "error",
     "traceback": [
      "\u001b[1;31m---------------------------------------------------------------------------\u001b[0m",
      "\u001b[1;31mValueError\u001b[0m                                Traceback (most recent call last)",
      "\u001b[1;32m<ipython-input-78-ba757ffcacd8>\u001b[0m in \u001b[0;36m<module>\u001b[1;34m()\u001b[0m\n\u001b[1;32m----> 1\u001b[1;33m \u001b[0mz1\u001b[0m \u001b[1;33m+\u001b[0m \u001b[0mint\u001b[0m\u001b[1;33m(\u001b[0m\u001b[0mz4\u001b[0m\u001b[1;33m)\u001b[0m\u001b[1;33m\u001b[0m\u001b[0m\n\u001b[0m",
      "\u001b[1;31mValueError\u001b[0m: invalid literal for int() with base 10: '43xyz'"
     ]
    }
   ],
   "source": [
    "z1 + int(z4)"
   ]
  },
  {
   "cell_type": "markdown",
   "metadata": {},
   "source": [
    "## Gültigkeitsbereich der Basisdatentypen"
   ]
  },
  {
   "cell_type": "markdown",
   "metadata": {},
   "source": [
    "Überraschung: In Python können int Variablen beliebig groß werden! (beschränkt lediglich durch den Arbeitsspeicher!)\n",
    "\n",
    "Googlen Sie mal nach\n",
    "\n",
    "    c max size of int\n",
    "    \n",
    "Dort kann man lesen, dass die größte darstellbare Zahl von int in der Programmiersprache C die Zahl\n",
    "\n",
    "    18.446.744.073.709.551.615\n",
    "ist"
   ]
  },
  {
   "cell_type": "code",
   "execution_count": 79,
   "metadata": {
    "collapsed": true
   },
   "outputs": [],
   "source": [
    "ne_riesige_zahl = 18446744073709551615"
   ]
  },
  {
   "cell_type": "code",
   "execution_count": 80,
   "metadata": {},
   "outputs": [
    {
     "data": {
      "text/plain": [
       "int"
      ]
     },
     "execution_count": 80,
     "metadata": {},
     "output_type": "execute_result"
    }
   ],
   "source": [
    "type(ne_riesige_zahl)"
   ]
  },
  {
   "cell_type": "code",
   "execution_count": 81,
   "metadata": {},
   "outputs": [
    {
     "data": {
      "text/plain": [
       "18446744073709551615"
      ]
     },
     "execution_count": 81,
     "metadata": {},
     "output_type": "execute_result"
    }
   ],
   "source": [
    "ne_riesige_zahl"
   ]
  },
  {
   "cell_type": "markdown",
   "metadata": {},
   "source": [
    "In Python können wir diese Zahl ohne Probleme aber sogar quadrieren!"
   ]
  },
  {
   "cell_type": "code",
   "execution_count": 82,
   "metadata": {},
   "outputs": [
    {
     "data": {
      "text/plain": [
       "340282366920938463426481119284349108225"
      ]
     },
     "execution_count": 82,
     "metadata": {},
     "output_type": "execute_result"
    }
   ],
   "source": [
    "ne_riesige_zahl * ne_riesige_zahl"
   ]
  },
  {
   "cell_type": "markdown",
   "metadata": {},
   "source": [
    "Oder sogar aberwitzige Potenzen hiervon bilden:"
   ]
  },
  {
   "cell_type": "code",
   "execution_count": 83,
   "metadata": {},
   "outputs": [
    {
     "data": {
      "text/plain": [
       "4562440617622195216167867590969245984891554653899504899621489504890947016946973851858280558761216359448457602639022263584702472373544404781548821642340247967685262840465307909823993678212890625"
      ]
     },
     "execution_count": 83,
     "metadata": {},
     "output_type": "execute_result"
    }
   ],
   "source": [
    "ne_riesige_zahl ** 10"
   ]
  },
  {
   "cell_type": "code",
   "execution_count": 84,
   "metadata": {},
   "outputs": [
    {
     "data": {
      "text/plain": [
       "20815864389328798141281875261654240038739993424404242425506079834368643384699815883993519000403222895708748681674793449344690890447908431885920079592739573615444805397570578729330039130716069497833623971831833817007046404500291336909466015568610844462737800901333746167215795959142314612138881715678958017183473735270054778324841160160808023792415691149633568863714992256259918212890625"
      ]
     },
     "execution_count": 84,
     "metadata": {},
     "output_type": "execute_result"
    }
   ],
   "source": [
    "ne_riesige_zahl ** 20"
   ]
  },
  {
   "cell_type": "code",
   "execution_count": 85,
   "metadata": {},
   "outputs": [
    {
     "data": {
      "text/plain": [
       "433300210274926778361665664358127520911662678188444468816603664482064951630247797808726122323984477401404720277645094839993228745101613092186225720539125418280887322399085512116682999285969229318153852794726647215071815544254832482540039874540104144478883770583278033151216734430302547024183798421596589104810641490450775050137002066280505861770971590163746619175943053316389432266602382125895272281396899568745153375562815760745680621917785214710147608471717593139957632299155506080028615496230379199839058149454376109532464184406963680397501798856633350542525409587165234249024001561910742351626757506401040787610964874262174899861198932811862091892044729449452669721902825356787977563459211826582571516274562663110174307841076990896109004106619977392256259918212890625"
      ]
     },
     "execution_count": 85,
     "metadata": {},
     "output_type": "execute_result"
    }
   ],
   "source": [
    "ne_riesige_zahl ** 40"
   ]
  },
  {
   "cell_type": "code",
   "execution_count": 86,
   "metadata": {},
   "outputs": [
    {
     "data": {
      "text/plain": [
       "3908159226643238711988440663885495103153377707739061175077580776059325191881200857567904254191183768284722667967451680079810917643459480791200868065006120576686144806169152257184069792396354758997460573981983615240553412642103252200626213840585295994474707902503763092746332396488430725324447979697467084777139217598247855056059276298283288622525898240120996417149013107705438989856851871660985966206346016919062225895746633682524244406664312007647259297532160169649306819233491380295362131144354675372644791332737195071641037061554477517435102847020600151197823325583952667348184963352414104548585401209314307354621180996578936567528703793406020971929854157341842527469535908116940433692304132251452681967825381958614915241253497453330513089766893872282186861053095641841298290094234759053486544458219420820854587349535739090276534959939111524611793461789885451897916775865133278999299238039024416669556038043385627861683753557984827522104366963203876452169261291703452735784922038487272338652445913508939128912406459901312083789878613147732414298458569883108233076222346045258615522822244832341774245608459343984305481884140418930906356109127566493032861206237080074730206785956469236793059406744420575050984821465051833319692414369231409926857628911458417515151741487805490994950147595986308289927838674367196314220686121231776253685607952339775927314537813735045158407303549797412104444427968324411549218483495361542035556584876081426450338150013640453113593805243439829894643089555082982793600265849907445740566945986996122701932331717926641747906622068470581344145660825852001329829639539994107254143650262814805696214792277285288750928681265661073239239916391577840573870617129284242136954457347042663048670886675909508628159519024164517108360735831037043895639480571408612912978972138362887189726663842590235594344148707296521275750879475389529177171541509580863811000557423423230896109004106619977392256259918212890625"
      ]
     },
     "execution_count": 86,
     "metadata": {},
     "output_type": "execute_result"
    }
   ],
   "source": [
    "ne_riesige_zahl ** 100"
   ]
  },
  {
   "cell_type": "markdown",
   "metadata": {},
   "source": [
    "Die int Zahlen können in Python auch beliebig klein (im Sinne von negativ) werden:"
   ]
  },
  {
   "cell_type": "code",
   "execution_count": 87,
   "metadata": {},
   "outputs": [
    {
     "data": {
      "text/plain": [
       "-6277101735386680762814942322444851025767571854389858533375"
      ]
     },
     "execution_count": 87,
     "metadata": {},
     "output_type": "execute_result"
    }
   ],
   "source": [
    "-ne_riesige_zahl ** 3"
   ]
  },
  {
   "cell_type": "code",
   "execution_count": 88,
   "metadata": {},
   "outputs": [
    {
     "data": {
      "text/plain": [
       "-29910152828314814776773222543333199861679597300621574088867074949382231092919167500118994153503089816082438443523566606820948703577148868591946537233949248625977714702159872486221724114394939271107048575125601018689733847293727865667461605586905999363573598784105826284015203117896761330101330462742549827693939298996372853947847396283726790708410199632096758775242212446267179841475808003189364348157485835948446865362330575760606178165668258100197833787111415032505091611287485673285667775521894162988066658245591423180004854873204716124537707095735201380871731898166289652669991137222461871686930608848992568206892236385520158127181344886566140047870182171031030668330074667279471088006071177295710161785204892101272864809058214642280946096223248353961370023300699086218485493981041797028376957438912651488077718189360420429337051763286821102718952992871039605228677369914109713205018522875418851884727793032652033938037989999759577130955813932596773168900765675516846074382511191096264607529528375612801011899070056468016334382184287796996019636882330351293961654585126563208361214608084959780520128777948641181424695797072465175018520657386794226888637457573837174442371664325188219961064791886656843321543562994754076155907318040600761471237759831491736823888540424719106906479747178520444032875690884899911265936458308467053421389379893545716362152399391265651071173539587225362452683312553421965056605258863614740419136188999442576576769103890995893380022607743740081787109375"
      ]
     },
     "execution_count": 88,
     "metadata": {},
     "output_type": "execute_result"
    }
   ],
   "source": [
    "-ne_riesige_zahl ** 77"
   ]
  },
  {
   "cell_type": "markdown",
   "metadata": {},
   "source": [
    "Bei floats gilt jedoch die bekannte Beschränkung des Gültigkeitsbereiches wie in anderen Programmiersprachen wie in C und C++. Hier hält sich Python an den `IEEE 754 Standard` (siehe https://de.wikipedia.org/wiki/IEEE_754) zur Darstellung von gebrochenen Zahlen:"
   ]
  },
  {
   "cell_type": "code",
   "execution_count": 89,
   "metadata": {},
   "outputs": [
    {
     "data": {
      "text/plain": [
       "sys.float_info(max=1.7976931348623157e+308, max_exp=1024, max_10_exp=308, min=2.2250738585072014e-308, min_exp=-1021, min_10_exp=-307, dig=15, mant_dig=53, epsilon=2.220446049250313e-16, radix=2, rounds=1)"
      ]
     },
     "execution_count": 89,
     "metadata": {},
     "output_type": "execute_result"
    }
   ],
   "source": [
    "import sys\n",
    "sys.float_info"
   ]
  },
  {
   "cell_type": "code",
   "execution_count": 90,
   "metadata": {
    "collapsed": true
   },
   "outputs": [],
   "source": [
    "a = sys.float_info.max"
   ]
  },
  {
   "cell_type": "code",
   "execution_count": 91,
   "metadata": {},
   "outputs": [
    {
     "data": {
      "text/plain": [
       "1.7976931348623157e+308"
      ]
     },
     "execution_count": 91,
     "metadata": {},
     "output_type": "execute_result"
    }
   ],
   "source": [
    "a"
   ]
  },
  {
   "cell_type": "markdown",
   "metadata": {},
   "source": [
    "Jetzt hat a den größten darstellbaren Wert. Und wenn wir jetzt versuchen a jetzt noch größer zu machen?"
   ]
  },
  {
   "cell_type": "code",
   "execution_count": 92,
   "metadata": {},
   "outputs": [
    {
     "data": {
      "text/plain": [
       "inf"
      ]
     },
     "execution_count": 92,
     "metadata": {},
     "output_type": "execute_result"
    }
   ],
   "source": [
    "a*2"
   ]
  },
  {
   "cell_type": "markdown",
   "metadata": {},
   "source": [
    "inf steht für \"infinity\"."
   ]
  },
  {
   "cell_type": "markdown",
   "metadata": {},
   "source": [
    "# Listen"
   ]
  },
  {
   "cell_type": "markdown",
   "metadata": {},
   "source": [
    "*Listen = Anordnung von Daten mit definierter Reihenfolge, die verändert werden kann*"
   ]
  },
  {
   "cell_type": "markdown",
   "metadata": {},
   "source": [
    "## Definition einer Liste erfolgt über eckige Klammern:"
   ]
  },
  {
   "cell_type": "code",
   "execution_count": 93,
   "metadata": {
    "collapsed": true
   },
   "outputs": [],
   "source": [
    "l1 = [1,3,5,7,9,11]"
   ]
  },
  {
   "cell_type": "code",
   "execution_count": 94,
   "metadata": {},
   "outputs": [
    {
     "data": {
      "text/plain": [
       "list"
      ]
     },
     "execution_count": 94,
     "metadata": {},
     "output_type": "execute_result"
    }
   ],
   "source": [
    "type(l1)"
   ]
  },
  {
   "cell_type": "code",
   "execution_count": 95,
   "metadata": {},
   "outputs": [
    {
     "data": {
      "text/plain": [
       "[1, 3, 5, 7, 9, 11]"
      ]
     },
     "execution_count": 95,
     "metadata": {},
     "output_type": "execute_result"
    }
   ],
   "source": [
    "l1"
   ]
  },
  {
   "cell_type": "markdown",
   "metadata": {},
   "source": [
    "## Listen können Einträge von unterschiedlichem Typ enthalten:"
   ]
  },
  {
   "cell_type": "code",
   "execution_count": 96,
   "metadata": {
    "collapsed": true
   },
   "outputs": [],
   "source": [
    "l2 = [4, \"Brötchen\", 2, \"Croissants\", 1, \"Mischbrot\"]"
   ]
  },
  {
   "cell_type": "code",
   "execution_count": 97,
   "metadata": {},
   "outputs": [
    {
     "data": {
      "text/plain": [
       "[4, 'Brötchen', 2, 'Croissants', 1, 'Mischbrot']"
      ]
     },
     "execution_count": 97,
     "metadata": {},
     "output_type": "execute_result"
    }
   ],
   "source": [
    "l2"
   ]
  },
  {
   "cell_type": "markdown",
   "metadata": {},
   "source": [
    "## Zugriff auf Listenelemente:"
   ]
  },
  {
   "cell_type": "code",
   "execution_count": 98,
   "metadata": {},
   "outputs": [
    {
     "data": {
      "text/plain": [
       "4"
      ]
     },
     "execution_count": 98,
     "metadata": {},
     "output_type": "execute_result"
    }
   ],
   "source": [
    "l2[0]"
   ]
  },
  {
   "cell_type": "code",
   "execution_count": 99,
   "metadata": {},
   "outputs": [
    {
     "data": {
      "text/plain": [
       "'Brötchen'"
      ]
     },
     "execution_count": 99,
     "metadata": {},
     "output_type": "execute_result"
    }
   ],
   "source": [
    "l2[1]"
   ]
  },
  {
   "cell_type": "code",
   "execution_count": 100,
   "metadata": {},
   "outputs": [
    {
     "data": {
      "text/plain": [
       "'Mischbrot'"
      ]
     },
     "execution_count": 100,
     "metadata": {},
     "output_type": "execute_result"
    }
   ],
   "source": [
    "l2[5]"
   ]
  },
  {
   "cell_type": "markdown",
   "metadata": {},
   "source": [
    "Greifen wir auf einen ungültigen Index zu, erhalten wir in Python stets eine Fehlermeldung vom Typ `IndexError`!\n",
    "\n",
    "Beachte: Dies ist bei anderen Programmiersprachen wie z.B. C nicht unbedingt der Fall!"
   ]
  },
  {
   "cell_type": "code",
   "execution_count": 101,
   "metadata": {},
   "outputs": [
    {
     "ename": "IndexError",
     "evalue": "list index out of range",
     "output_type": "error",
     "traceback": [
      "\u001b[1;31m---------------------------------------------------------------------------\u001b[0m",
      "\u001b[1;31mIndexError\u001b[0m                                Traceback (most recent call last)",
      "\u001b[1;32m<ipython-input-101-00347162c687>\u001b[0m in \u001b[0;36m<module>\u001b[1;34m()\u001b[0m\n\u001b[1;32m----> 1\u001b[1;33m \u001b[0ml2\u001b[0m\u001b[1;33m[\u001b[0m\u001b[1;36m6\u001b[0m\u001b[1;33m]\u001b[0m\u001b[1;33m\u001b[0m\u001b[0m\n\u001b[0m",
      "\u001b[1;31mIndexError\u001b[0m: list index out of range"
     ]
    }
   ],
   "source": [
    "l2[6]"
   ]
  },
  {
   "cell_type": "markdown",
   "metadata": {},
   "source": [
    "## Zugriff auf letztes, vorletztes, vorvorletztes Element, etc.:"
   ]
  },
  {
   "cell_type": "code",
   "execution_count": 102,
   "metadata": {},
   "outputs": [
    {
     "data": {
      "text/plain": [
       "'Mischbrot'"
      ]
     },
     "execution_count": 102,
     "metadata": {},
     "output_type": "execute_result"
    }
   ],
   "source": [
    "l2[-1]"
   ]
  },
  {
   "cell_type": "code",
   "execution_count": 103,
   "metadata": {},
   "outputs": [
    {
     "data": {
      "text/plain": [
       "1"
      ]
     },
     "execution_count": 103,
     "metadata": {},
     "output_type": "execute_result"
    }
   ],
   "source": [
    "l2[-2]"
   ]
  },
  {
   "cell_type": "code",
   "execution_count": 104,
   "metadata": {},
   "outputs": [
    {
     "data": {
      "text/plain": [
       "'Croissants'"
      ]
     },
     "execution_count": 104,
     "metadata": {},
     "output_type": "execute_result"
    }
   ],
   "source": [
    "l2[-3]"
   ]
  },
  {
   "cell_type": "markdown",
   "metadata": {},
   "source": [
    "## Ermitteln der Länge einer Liste:"
   ]
  },
  {
   "cell_type": "code",
   "execution_count": 105,
   "metadata": {},
   "outputs": [
    {
     "data": {
      "text/plain": [
       "6"
      ]
     },
     "execution_count": 105,
     "metadata": {},
     "output_type": "execute_result"
    }
   ],
   "source": [
    "len(l2)"
   ]
  },
  {
   "cell_type": "markdown",
   "metadata": {},
   "source": [
    "## Listen können ineinander verschachtelt werden:"
   ]
  },
  {
   "cell_type": "code",
   "execution_count": 106,
   "metadata": {
    "collapsed": true
   },
   "outputs": [],
   "source": [
    "l3 = [ [\"Bananen\", \"Äpfel\", \"Orangen\"], [\"Cola\", \"Sprudel\"] ]"
   ]
  },
  {
   "cell_type": "code",
   "execution_count": 107,
   "metadata": {},
   "outputs": [
    {
     "data": {
      "text/plain": [
       "2"
      ]
     },
     "execution_count": 107,
     "metadata": {},
     "output_type": "execute_result"
    }
   ],
   "source": [
    "len(l3)"
   ]
  },
  {
   "cell_type": "code",
   "execution_count": 108,
   "metadata": {},
   "outputs": [
    {
     "data": {
      "text/plain": [
       "['Bananen', 'Äpfel', 'Orangen']"
      ]
     },
     "execution_count": 108,
     "metadata": {},
     "output_type": "execute_result"
    }
   ],
   "source": [
    "l3[0]"
   ]
  },
  {
   "cell_type": "code",
   "execution_count": 109,
   "metadata": {},
   "outputs": [
    {
     "data": {
      "text/plain": [
       "3"
      ]
     },
     "execution_count": 109,
     "metadata": {},
     "output_type": "execute_result"
    }
   ],
   "source": [
    "len(l3[0])"
   ]
  },
  {
   "cell_type": "code",
   "execution_count": 110,
   "metadata": {},
   "outputs": [
    {
     "data": {
      "text/plain": [
       "list"
      ]
     },
     "execution_count": 110,
     "metadata": {},
     "output_type": "execute_result"
    }
   ],
   "source": [
    "type(l3)"
   ]
  },
  {
   "cell_type": "markdown",
   "metadata": {},
   "source": [
    "## Quiz-Time!\n",
    "\n",
    "1. Was ist der Typ des ersten Elements von Liste `l3`?\n",
    "2. Was ergibt folgender Aufruf als Ausgabe?\n",
    "\n",
    "        type(l3[0][0])"
   ]
  },
  {
   "cell_type": "code",
   "execution_count": 111,
   "metadata": {},
   "outputs": [
    {
     "data": {
      "text/plain": [
       "list"
      ]
     },
     "execution_count": 111,
     "metadata": {},
     "output_type": "execute_result"
    }
   ],
   "source": [
    "type(l3[0])"
   ]
  },
  {
   "cell_type": "code",
   "execution_count": 112,
   "metadata": {},
   "outputs": [
    {
     "data": {
      "text/plain": [
       "str"
      ]
     },
     "execution_count": 112,
     "metadata": {},
     "output_type": "execute_result"
    }
   ],
   "source": [
    "type(l3[0][0])"
   ]
  },
  {
   "cell_type": "markdown",
   "metadata": {},
   "source": [
    "## Teilbereiche aus einer Liste ausschneiden (\"slicing\"):"
   ]
  },
  {
   "cell_type": "code",
   "execution_count": 113,
   "metadata": {},
   "outputs": [
    {
     "data": {
      "text/plain": [
       "[4, 'Brötchen', 2, 'Croissants', 1, 'Mischbrot']"
      ]
     },
     "execution_count": 113,
     "metadata": {},
     "output_type": "execute_result"
    }
   ],
   "source": [
    "l2"
   ]
  },
  {
   "cell_type": "code",
   "execution_count": 114,
   "metadata": {},
   "outputs": [
    {
     "data": {
      "text/plain": [
       "[4, 'Brötchen']"
      ]
     },
     "execution_count": 114,
     "metadata": {},
     "output_type": "execute_result"
    }
   ],
   "source": [
    "l2[0:2]"
   ]
  },
  {
   "cell_type": "code",
   "execution_count": 115,
   "metadata": {},
   "outputs": [
    {
     "data": {
      "text/plain": [
       "[2, 'Croissants']"
      ]
     },
     "execution_count": 115,
     "metadata": {},
     "output_type": "execute_result"
    }
   ],
   "source": [
    "l2[2:4]"
   ]
  },
  {
   "cell_type": "code",
   "execution_count": 116,
   "metadata": {},
   "outputs": [
    {
     "data": {
      "text/plain": [
       "[1, 'Mischbrot']"
      ]
     },
     "execution_count": 116,
     "metadata": {},
     "output_type": "execute_result"
    }
   ],
   "source": [
    "l2[4:6]"
   ]
  },
  {
   "cell_type": "markdown",
   "metadata": {},
   "source": [
    "## Quiz-Time!\n",
    "\n",
    "Was ergibt wahrscheinlich folgender Befehl?\n",
    "\n",
    "        l2[2:]\n",
    "\n",
    "(ohne diese Syntax vorab erklärt zu haben)"
   ]
  },
  {
   "cell_type": "code",
   "execution_count": 117,
   "metadata": {},
   "outputs": [
    {
     "data": {
      "text/plain": [
       "[2, 'Croissants', 1, 'Mischbrot']"
      ]
     },
     "execution_count": 117,
     "metadata": {},
     "output_type": "execute_result"
    }
   ],
   "source": [
    "l2[2:]"
   ]
  },
  {
   "cell_type": "code",
   "execution_count": 118,
   "metadata": {},
   "outputs": [
    {
     "data": {
      "text/plain": [
       "[4, 'Brötchen', 2, 'Croissants']"
      ]
     },
     "execution_count": 118,
     "metadata": {},
     "output_type": "execute_result"
    }
   ],
   "source": [
    "l2[:4]"
   ]
  },
  {
   "cell_type": "markdown",
   "metadata": {},
   "source": [
    "Teilbereiche mit Schrittweite zurückliefern:\n",
    "\n",
    "Der Teilbereichsoperator hat eigentlich 3 Argumente:\n",
    "\n",
    "    [ Start : Ende(exklusiv) : Schrittweite ]\n",
    "    \n",
    "Was ergeben daher wohl folgende Aufrufe?\n",
    "\n",
    "    l2[0:6:2]\n",
    "    l2[1:6:2]"
   ]
  },
  {
   "cell_type": "code",
   "execution_count": 119,
   "metadata": {},
   "outputs": [
    {
     "data": {
      "text/plain": [
       "[4, 2, 1]"
      ]
     },
     "execution_count": 119,
     "metadata": {},
     "output_type": "execute_result"
    }
   ],
   "source": [
    "l2[0:6:2]"
   ]
  },
  {
   "cell_type": "code",
   "execution_count": 120,
   "metadata": {},
   "outputs": [
    {
     "data": {
      "text/plain": [
       "['Brötchen', 'Croissants', 'Mischbrot']"
      ]
     },
     "execution_count": 120,
     "metadata": {},
     "output_type": "execute_result"
    }
   ],
   "source": [
    "l2[1:6:2]"
   ]
  },
  {
   "cell_type": "markdown",
   "metadata": {},
   "source": [
    "## Verändern von Listenelementen:"
   ]
  },
  {
   "cell_type": "code",
   "execution_count": 121,
   "metadata": {},
   "outputs": [
    {
     "data": {
      "text/plain": [
       "[4, 'Brötchen', 2, 'Croissants', 1, 'Mischbrot']"
      ]
     },
     "execution_count": 121,
     "metadata": {},
     "output_type": "execute_result"
    }
   ],
   "source": [
    "l2"
   ]
  },
  {
   "cell_type": "code",
   "execution_count": 122,
   "metadata": {
    "collapsed": true
   },
   "outputs": [],
   "source": [
    "l2[0] = 10"
   ]
  },
  {
   "cell_type": "code",
   "execution_count": 123,
   "metadata": {},
   "outputs": [
    {
     "data": {
      "text/plain": [
       "[10, 'Brötchen', 2, 'Croissants', 1, 'Mischbrot']"
      ]
     },
     "execution_count": 123,
     "metadata": {},
     "output_type": "execute_result"
    }
   ],
   "source": [
    "l2"
   ]
  },
  {
   "cell_type": "markdown",
   "metadata": {},
   "source": [
    "## Löschen von Listenelementen mittels Wertangabe:"
   ]
  },
  {
   "cell_type": "markdown",
   "metadata": {},
   "source": [
    "Hörnchen gibt es noch nicht in der Liste. Daher wird folgender Aufruf einen `ValueError` liefern:"
   ]
  },
  {
   "cell_type": "code",
   "execution_count": 124,
   "metadata": {},
   "outputs": [
    {
     "ename": "ValueError",
     "evalue": "list.remove(x): x not in list",
     "output_type": "error",
     "traceback": [
      "\u001b[1;31m---------------------------------------------------------------------------\u001b[0m",
      "\u001b[1;31mValueError\u001b[0m                                Traceback (most recent call last)",
      "\u001b[1;32m<ipython-input-124-c71ded3966e8>\u001b[0m in \u001b[0;36m<module>\u001b[1;34m()\u001b[0m\n\u001b[1;32m----> 1\u001b[1;33m \u001b[0ml2\u001b[0m\u001b[1;33m.\u001b[0m\u001b[0mremove\u001b[0m\u001b[1;33m(\u001b[0m\u001b[1;34m\"Hörnchen\"\u001b[0m\u001b[1;33m)\u001b[0m\u001b[1;33m\u001b[0m\u001b[0m\n\u001b[0m",
      "\u001b[1;31mValueError\u001b[0m: list.remove(x): x not in list"
     ]
    }
   ],
   "source": [
    "l2.remove(\"Hörnchen\")"
   ]
  },
  {
   "cell_type": "code",
   "execution_count": 125,
   "metadata": {
    "collapsed": true
   },
   "outputs": [],
   "source": [
    "l2.remove(\"Croissants\")"
   ]
  },
  {
   "cell_type": "code",
   "execution_count": 126,
   "metadata": {},
   "outputs": [
    {
     "data": {
      "text/plain": [
       "[10, 'Brötchen', 2, 1, 'Mischbrot']"
      ]
     },
     "execution_count": 126,
     "metadata": {},
     "output_type": "execute_result"
    }
   ],
   "source": [
    "l2"
   ]
  },
  {
   "cell_type": "markdown",
   "metadata": {},
   "source": [
    "## Löschen von Listenelementen mittels Indexangabe:"
   ]
  },
  {
   "cell_type": "code",
   "execution_count": 127,
   "metadata": {
    "collapsed": true
   },
   "outputs": [],
   "source": [
    "del l2[2]"
   ]
  },
  {
   "cell_type": "code",
   "execution_count": 128,
   "metadata": {},
   "outputs": [
    {
     "data": {
      "text/plain": [
       "[10, 'Brötchen', 1, 'Mischbrot']"
      ]
     },
     "execution_count": 128,
     "metadata": {},
     "output_type": "execute_result"
    }
   ],
   "source": [
    "l2"
   ]
  },
  {
   "cell_type": "markdown",
   "metadata": {},
   "source": [
    "## Hinzufügen von Listenelementen am Ende der Liste:"
   ]
  },
  {
   "cell_type": "code",
   "execution_count": 129,
   "metadata": {
    "collapsed": true
   },
   "outputs": [],
   "source": [
    "l2.append( 7 )"
   ]
  },
  {
   "cell_type": "code",
   "execution_count": 130,
   "metadata": {},
   "outputs": [
    {
     "data": {
      "text/plain": [
       "[10, 'Brötchen', 1, 'Mischbrot', 7]"
      ]
     },
     "execution_count": 130,
     "metadata": {},
     "output_type": "execute_result"
    }
   ],
   "source": [
    "l2"
   ]
  },
  {
   "cell_type": "code",
   "execution_count": 131,
   "metadata": {
    "collapsed": true
   },
   "outputs": [],
   "source": [
    "l2.append( \"Hörnchen\" )"
   ]
  },
  {
   "cell_type": "code",
   "execution_count": 132,
   "metadata": {},
   "outputs": [
    {
     "data": {
      "text/plain": [
       "[10, 'Brötchen', 1, 'Mischbrot', 7, 'Hörnchen']"
      ]
     },
     "execution_count": 132,
     "metadata": {},
     "output_type": "execute_result"
    }
   ],
   "source": [
    "l2"
   ]
  },
  {
   "cell_type": "markdown",
   "metadata": {},
   "source": [
    "## Hinzufügen von Listenelementen an einer definierten Stelle der Liste:"
   ]
  },
  {
   "cell_type": "code",
   "execution_count": 133,
   "metadata": {
    "collapsed": true
   },
   "outputs": [],
   "source": [
    "l2.insert(0, 50)"
   ]
  },
  {
   "cell_type": "code",
   "execution_count": 134,
   "metadata": {},
   "outputs": [
    {
     "data": {
      "text/plain": [
       "[50, 10, 'Brötchen', 1, 'Mischbrot', 7, 'Hörnchen']"
      ]
     },
     "execution_count": 134,
     "metadata": {},
     "output_type": "execute_result"
    }
   ],
   "source": [
    "l2"
   ]
  },
  {
   "cell_type": "code",
   "execution_count": 135,
   "metadata": {
    "collapsed": true
   },
   "outputs": [],
   "source": [
    "l2.insert(1, \"Baguettes\")"
   ]
  },
  {
   "cell_type": "code",
   "execution_count": 136,
   "metadata": {},
   "outputs": [
    {
     "data": {
      "text/plain": [
       "[50, 'Baguettes', 10, 'Brötchen', 1, 'Mischbrot', 7, 'Hörnchen']"
      ]
     },
     "execution_count": 136,
     "metadata": {},
     "output_type": "execute_result"
    }
   ],
   "source": [
    "l2"
   ]
  },
  {
   "cell_type": "markdown",
   "metadata": {},
   "source": [
    "## Überprüfen, ob ein Element in der Liste ist:"
   ]
  },
  {
   "cell_type": "code",
   "execution_count": 137,
   "metadata": {
    "collapsed": true
   },
   "outputs": [],
   "source": [
    "ist_drin = \"Baguettes\" in l2"
   ]
  },
  {
   "cell_type": "code",
   "execution_count": 138,
   "metadata": {},
   "outputs": [
    {
     "data": {
      "text/plain": [
       "True"
      ]
     },
     "execution_count": 138,
     "metadata": {},
     "output_type": "execute_result"
    }
   ],
   "source": [
    "ist_drin"
   ]
  },
  {
   "cell_type": "code",
   "execution_count": 139,
   "metadata": {
    "collapsed": true
   },
   "outputs": [],
   "source": [
    "ist_drin2 = \"Croissants\" in l2"
   ]
  },
  {
   "cell_type": "code",
   "execution_count": 140,
   "metadata": {},
   "outputs": [
    {
     "data": {
      "text/plain": [
       "False"
      ]
     },
     "execution_count": 140,
     "metadata": {},
     "output_type": "execute_result"
    }
   ],
   "source": [
    "ist_drin2"
   ]
  },
  {
   "cell_type": "markdown",
   "metadata": {},
   "source": [
    "## Sortieren von Listen (in-place)"
   ]
  },
  {
   "cell_type": "markdown",
   "metadata": {},
   "source": [
    "\"in-place\" meint: die Liste wird umsortiert. Die Originalliste geht damit verloren."
   ]
  },
  {
   "cell_type": "code",
   "execution_count": 141,
   "metadata": {
    "collapsed": true
   },
   "outputs": [],
   "source": [
    "liste = [10, 2, -5, 99, 100]"
   ]
  },
  {
   "cell_type": "code",
   "execution_count": 142,
   "metadata": {},
   "outputs": [
    {
     "data": {
      "text/plain": [
       "[10, 2, -5, 99, 100]"
      ]
     },
     "execution_count": 142,
     "metadata": {},
     "output_type": "execute_result"
    }
   ],
   "source": [
    "liste"
   ]
  },
  {
   "cell_type": "code",
   "execution_count": 143,
   "metadata": {
    "collapsed": true
   },
   "outputs": [],
   "source": [
    "liste.sort()"
   ]
  },
  {
   "cell_type": "code",
   "execution_count": 144,
   "metadata": {},
   "outputs": [
    {
     "data": {
      "text/plain": [
       "[-5, 2, 10, 99, 100]"
      ]
     },
     "execution_count": 144,
     "metadata": {},
     "output_type": "execute_result"
    }
   ],
   "source": [
    "liste"
   ]
  },
  {
   "cell_type": "markdown",
   "metadata": {},
   "source": [
    "Wir sehen: die Liste wurde in aufsteigender Reihenfolge sortiert. Was aber, wenn wir die Liste in absteigender Reihenfolge sortieren wollen?"
   ]
  },
  {
   "cell_type": "code",
   "execution_count": 145,
   "metadata": {
    "collapsed": true
   },
   "outputs": [],
   "source": [
    "liste.sort(reverse=True)"
   ]
  },
  {
   "cell_type": "code",
   "execution_count": 146,
   "metadata": {},
   "outputs": [
    {
     "data": {
      "text/plain": [
       "[100, 99, 10, 2, -5]"
      ]
     },
     "execution_count": 146,
     "metadata": {},
     "output_type": "execute_result"
    }
   ],
   "source": [
    "liste"
   ]
  },
  {
   "cell_type": "markdown",
   "metadata": {},
   "source": [
    "Wie schaut es mit gemischten Listen aus?"
   ]
  },
  {
   "cell_type": "code",
   "execution_count": 147,
   "metadata": {
    "collapsed": true
   },
   "outputs": [],
   "source": [
    "liste2 = [200, 100, \"Computer\", \"Kurs\", \"Anfangen\", \"Python\", \"mit\"]"
   ]
  },
  {
   "cell_type": "code",
   "execution_count": 148,
   "metadata": {},
   "outputs": [
    {
     "ename": "TypeError",
     "evalue": "'<' not supported between instances of 'str' and 'int'",
     "output_type": "error",
     "traceback": [
      "\u001b[1;31m---------------------------------------------------------------------------\u001b[0m",
      "\u001b[1;31mTypeError\u001b[0m                                 Traceback (most recent call last)",
      "\u001b[1;32m<ipython-input-148-363f638d600d>\u001b[0m in \u001b[0;36m<module>\u001b[1;34m()\u001b[0m\n\u001b[1;32m----> 1\u001b[1;33m \u001b[0mliste2\u001b[0m\u001b[1;33m.\u001b[0m\u001b[0msort\u001b[0m\u001b[1;33m(\u001b[0m\u001b[1;33m)\u001b[0m\u001b[1;33m\u001b[0m\u001b[0m\n\u001b[0m",
      "\u001b[1;31mTypeError\u001b[0m: '<' not supported between instances of 'str' and 'int'"
     ]
    }
   ],
   "source": [
    "liste2.sort()"
   ]
  },
  {
   "cell_type": "markdown",
   "metadata": {},
   "source": [
    "Wir sehen: das Sortieren scheitert dann daran, dass es unklar ist, in welche Reihenfolge z.B. \"200\" und \"Computer\" zu bringen ist."
   ]
  },
  {
   "cell_type": "markdown",
   "metadata": {},
   "source": [
    "Wenn alles Zeichenketten sind, geht es aber schon. Schauen Sie hier:"
   ]
  },
  {
   "cell_type": "code",
   "execution_count": 149,
   "metadata": {
    "collapsed": true
   },
   "outputs": [],
   "source": [
    "liste3 = [\"200\", \"100\", \"Kurs\", \"Computer\", \"computer\", \"kurs\"]"
   ]
  },
  {
   "cell_type": "code",
   "execution_count": 150,
   "metadata": {
    "collapsed": true
   },
   "outputs": [],
   "source": [
    "liste3.sort()"
   ]
  },
  {
   "cell_type": "code",
   "execution_count": 151,
   "metadata": {},
   "outputs": [
    {
     "data": {
      "text/plain": [
       "['100', '200', 'Computer', 'Kurs', 'computer', 'kurs']"
      ]
     },
     "execution_count": 151,
     "metadata": {},
     "output_type": "execute_result"
    }
   ],
   "source": [
    "liste3"
   ]
  },
  {
   "cell_type": "markdown",
   "metadata": {},
   "source": [
    "Wir sehen: jetzt kann Python alphanumerisch sortieren. Hierzu wird der sog. ASCII-Code der einzelnen Zeichen zweier Zeichenketten schrittweise Zeichen für Zeichen verglichen."
   ]
  },
  {
   "cell_type": "markdown",
   "metadata": {},
   "source": [
    "Hier eine Lösung für das Sortieren von \"gemischten Datentypen\" in einer Liste:"
   ]
  },
  {
   "cell_type": "code",
   "execution_count": 152,
   "metadata": {},
   "outputs": [
    {
     "name": "stdout",
     "output_type": "stream",
     "text": [
      "[200, 100, 'Computer', 'Kurs', 'Anfangen', 'Python', 'mit']\n",
      "[100, 200, 'Anfangen', 'Computer', 'Kurs', 'Python', 'mit']\n"
     ]
    }
   ],
   "source": [
    "def mysort(lst): \n",
    "    # Hilfsliste erzeugen, bei der alles ein String ist\n",
    "    lst = [str(i) for i in lst] \n",
    "    \n",
    "    # Diese Hilfsliste sortieren\n",
    "    lst.sort() \n",
    "    \n",
    "    # Jetzt wieder Strings, die eigentlich Ziffern sind\n",
    "    # in int zurückumwandeln, sonst den String wieder einfügen\n",
    "    lst2 = [int(i) if i.isdigit() else i for i in lst ] \n",
    "    return lst2\n",
    "              \n",
    "print(liste2)\n",
    "print(mysort(liste2)) \n"
   ]
  },
  {
   "cell_type": "markdown",
   "metadata": {},
   "source": [
    "## Sortieren von Listen (sortierte Kopie erzeugen)"
   ]
  },
  {
   "cell_type": "code",
   "execution_count": 153,
   "metadata": {
    "collapsed": true
   },
   "outputs": [],
   "source": [
    "liste = [1,-1,100,50,200]"
   ]
  },
  {
   "cell_type": "code",
   "execution_count": 154,
   "metadata": {},
   "outputs": [
    {
     "data": {
      "text/plain": [
       "[1, -1, 100, 50, 200]"
      ]
     },
     "execution_count": 154,
     "metadata": {},
     "output_type": "execute_result"
    }
   ],
   "source": [
    "liste"
   ]
  },
  {
   "cell_type": "code",
   "execution_count": 155,
   "metadata": {
    "collapsed": true
   },
   "outputs": [],
   "source": [
    "liste2 = sorted(liste)"
   ]
  },
  {
   "cell_type": "code",
   "execution_count": 156,
   "metadata": {},
   "outputs": [
    {
     "data": {
      "text/plain": [
       "[1, -1, 100, 50, 200]"
      ]
     },
     "execution_count": 156,
     "metadata": {},
     "output_type": "execute_result"
    }
   ],
   "source": [
    "liste"
   ]
  },
  {
   "cell_type": "code",
   "execution_count": 157,
   "metadata": {},
   "outputs": [
    {
     "data": {
      "text/plain": [
       "[-1, 1, 50, 100, 200]"
      ]
     },
     "execution_count": 157,
     "metadata": {},
     "output_type": "execute_result"
    }
   ],
   "source": [
    "liste2"
   ]
  },
  {
   "cell_type": "code",
   "execution_count": 158,
   "metadata": {
    "collapsed": true
   },
   "outputs": [],
   "source": [
    "liste3 = sorted(liste, reverse=True)"
   ]
  },
  {
   "cell_type": "code",
   "execution_count": 159,
   "metadata": {},
   "outputs": [
    {
     "data": {
      "text/plain": [
       "[200, 100, 50, 1, -1]"
      ]
     },
     "execution_count": 159,
     "metadata": {},
     "output_type": "execute_result"
    }
   ],
   "source": [
    "liste3"
   ]
  },
  {
   "cell_type": "markdown",
   "metadata": {},
   "source": [
    "## Hinzufügen mehrerer Elemente auf einmal zu einer Liste:"
   ]
  },
  {
   "cell_type": "code",
   "execution_count": 160,
   "metadata": {},
   "outputs": [
    {
     "data": {
      "text/plain": [
       "[50, 'Baguettes', 10, 'Brötchen', 1, 'Mischbrot', 7, 'Hörnchen']"
      ]
     },
     "execution_count": 160,
     "metadata": {},
     "output_type": "execute_result"
    }
   ],
   "source": [
    "l2"
   ]
  },
  {
   "cell_type": "code",
   "execution_count": 161,
   "metadata": {
    "collapsed": true
   },
   "outputs": [],
   "source": [
    "l2.extend( [11, \"Apfeltaschen\"] )"
   ]
  },
  {
   "cell_type": "code",
   "execution_count": 162,
   "metadata": {},
   "outputs": [
    {
     "data": {
      "text/plain": [
       "[50,\n",
       " 'Baguettes',\n",
       " 10,\n",
       " 'Brötchen',\n",
       " 1,\n",
       " 'Mischbrot',\n",
       " 7,\n",
       " 'Hörnchen',\n",
       " 11,\n",
       " 'Apfeltaschen']"
      ]
     },
     "execution_count": 162,
     "metadata": {},
     "output_type": "execute_result"
    }
   ],
   "source": [
    "l2"
   ]
  },
  {
   "cell_type": "markdown",
   "metadata": {},
   "source": [
    "Wir können `extend()` auch alternativ mit einem Tupel aufrufen. Zu Tupeln gleich später mehr!"
   ]
  },
  {
   "cell_type": "code",
   "execution_count": 163,
   "metadata": {
    "collapsed": true
   },
   "outputs": [],
   "source": [
    "l2.extend( (12, \"Zwetschgendatschi\") )"
   ]
  },
  {
   "cell_type": "code",
   "execution_count": 164,
   "metadata": {},
   "outputs": [
    {
     "data": {
      "text/plain": [
       "[50,\n",
       " 'Baguettes',\n",
       " 10,\n",
       " 'Brötchen',\n",
       " 1,\n",
       " 'Mischbrot',\n",
       " 7,\n",
       " 'Hörnchen',\n",
       " 11,\n",
       " 'Apfeltaschen',\n",
       " 12,\n",
       " 'Zwetschgendatschi']"
      ]
     },
     "execution_count": 164,
     "metadata": {},
     "output_type": "execute_result"
    }
   ],
   "source": [
    "l2"
   ]
  },
  {
   "cell_type": "markdown",
   "metadata": {},
   "source": [
    "## Listen miteinander verknüpfen (\"konkatenieren\"):"
   ]
  },
  {
   "cell_type": "code",
   "execution_count": 165,
   "metadata": {
    "collapsed": true
   },
   "outputs": [],
   "source": [
    "l3 = [10,20,30]\n",
    "l4 = [100,200,300]"
   ]
  },
  {
   "cell_type": "code",
   "execution_count": 166,
   "metadata": {},
   "outputs": [
    {
     "data": {
      "text/plain": [
       "[10, 20, 30, 100, 200, 300]"
      ]
     },
     "execution_count": 166,
     "metadata": {},
     "output_type": "execute_result"
    }
   ],
   "source": [
    "l3+l4"
   ]
  },
  {
   "cell_type": "markdown",
   "metadata": {},
   "source": [
    "Also Achtung! Der `+` Operator angewendet auf zwei Listen, liefert nicht eine Liste mit den elementweisen Summen zurück, sondern klebt die beiden Listen zu einer großen Liste einfach zusammen."
   ]
  },
  {
   "cell_type": "markdown",
   "metadata": {},
   "source": [
    "## Addieren zweier Listen:"
   ]
  },
  {
   "cell_type": "code",
   "execution_count": 167,
   "metadata": {},
   "outputs": [
    {
     "data": {
      "text/plain": [
       "[110, 220, 330]"
      ]
     },
     "execution_count": 167,
     "metadata": {},
     "output_type": "execute_result"
    }
   ],
   "source": [
    "[x+y for x,y in zip(l3, l4)]"
   ]
  },
  {
   "cell_type": "markdown",
   "metadata": {},
   "source": [
    "## zip-Funktion\n",
    "\n",
    "Die `zip`-Funktion nimmt zwei iterierbare Datentypen und erzeugt einen Tupel-Iterator."
   ]
  },
  {
   "cell_type": "code",
   "execution_count": 168,
   "metadata": {
    "collapsed": true
   },
   "outputs": [],
   "source": [
    "l1 = [\"Klaus\", \"Hans\", \"Max\"]\n",
    "l2 = [\"Kerstin\", \"Hilde\", \"Maria\"]"
   ]
  },
  {
   "cell_type": "code",
   "execution_count": 169,
   "metadata": {},
   "outputs": [
    {
     "name": "stdout",
     "output_type": "stream",
     "text": [
      "('Klaus', 'Kerstin')\n",
      "('Hans', 'Hilde')\n",
      "('Max', 'Maria')\n"
     ]
    }
   ],
   "source": [
    "for paar in zip(l1,l2):\n",
    "    print(paar)"
   ]
  },
  {
   "cell_type": "code",
   "execution_count": 170,
   "metadata": {
    "collapsed": true
   },
   "outputs": [],
   "source": [
    "l2 = [\"Kerstin\", \"Hilde\", \"Maria\", \"Irmgard\"]"
   ]
  },
  {
   "cell_type": "code",
   "execution_count": 171,
   "metadata": {},
   "outputs": [
    {
     "name": "stdout",
     "output_type": "stream",
     "text": [
      "('Klaus', 'Kerstin')\n",
      "('Hans', 'Hilde')\n",
      "('Max', 'Maria')\n"
     ]
    }
   ],
   "source": [
    "for paar in zip(l1,l2):\n",
    "    print(paar)"
   ]
  },
  {
   "cell_type": "code",
   "execution_count": 172,
   "metadata": {},
   "outputs": [
    {
     "data": {
      "text/plain": [
       "zip"
      ]
     },
     "execution_count": 172,
     "metadata": {},
     "output_type": "execute_result"
    }
   ],
   "source": [
    "type(zip(l1,l2))"
   ]
  },
  {
   "cell_type": "markdown",
   "metadata": {},
   "source": [
    "## List comprehension\n",
    "\n",
    "Kommt der mathematischen Notation von Mengen sehr nahe,\n",
    "\n",
    "z.B.\n",
    "\n",
    "    { n^2 : n natürliche Zahl, 1<=n<=10 } = {1, 4, 9, 16, 25, ...}\n",
    "    \n",
    "Genauer:\n",
    "In Python ist \"List comprehension\" ein syntaktisches Konstrukt, um neue Listen aus existierenden Listen zu erstellen.\n",
    "\n",
    "Wird gerne verwendet, um\n",
    "- aus bestehenden Daten neue Daten zu erzeugen\n",
    "- Daten zu filtern\n",
    "\n",
    "Man sieht die List comprehension sehr oft. Sie ist sehr beliebt und Sie werden Sie auch mögen!"
   ]
  },
  {
   "cell_type": "code",
   "execution_count": 173,
   "metadata": {},
   "outputs": [
    {
     "data": {
      "text/plain": [
       "[0, 1, 4, 9, 16, 25, 36, 49, 64, 81, 100]"
      ]
     },
     "execution_count": 173,
     "metadata": {},
     "output_type": "execute_result"
    }
   ],
   "source": [
    "[ n**2 for n in range(0,11) ]"
   ]
  },
  {
   "cell_type": "markdown",
   "metadata": {},
   "source": [
    "Syntax der List comprehension:\n",
    "\n",
    "    l = [ expression for item in list if conditional ]\n",
    "\n",
    "Oben ist:\n",
    "\n",
    "- expression: `n**2`\n",
    "- item: `n`\n",
    "- list: `range(0,11)`\n",
    "\n",
    "\n",
    "Das entspricht wiederum folgendem Code:\n",
    "\n",
    "    l = []\n",
    "    for item in list:\n",
    "        if conditional:\n",
    "            l.append( expression )\n"
   ]
  },
  {
   "cell_type": "markdown",
   "metadata": {},
   "source": [
    "Im obigen Beispiel hatten wir keine Bedingung (\"conditional\"). Jetzt ein Beispiel mit \"conditional\":"
   ]
  },
  {
   "cell_type": "code",
   "execution_count": 174,
   "metadata": {},
   "outputs": [
    {
     "data": {
      "text/plain": [
       "[0, 4, 16, 36, 64, 100]"
      ]
     },
     "execution_count": 174,
     "metadata": {},
     "output_type": "execute_result"
    }
   ],
   "source": [
    "[ n**2 for n in range(0,11) if n % 2 == 0 ]"
   ]
  },
  {
   "cell_type": "code",
   "execution_count": 175,
   "metadata": {},
   "outputs": [
    {
     "data": {
      "text/plain": [
       "[1, 9, 25, 49, 81]"
      ]
     },
     "execution_count": 175,
     "metadata": {},
     "output_type": "execute_result"
    }
   ],
   "source": [
    "[ n**2 for n in range(0,11) if n % 2 == 1 ]"
   ]
  },
  {
   "cell_type": "markdown",
   "metadata": {},
   "source": [
    "Die Syntax der List comprehension ist eigentlich sogar noch flexibler. Hier:\n",
    "\n",
    "    l = [expression for_loop_one_or_more conditions]"
   ]
  },
  {
   "cell_type": "markdown",
   "metadata": {},
   "source": [
    "Beispiel: Auffinden von gemeinsamen Einträgen in zwei Listen:"
   ]
  },
  {
   "cell_type": "code",
   "execution_count": 176,
   "metadata": {
    "collapsed": true
   },
   "outputs": [],
   "source": [
    "l1 = [1, 10, 29, 31, 99]\n",
    "l2 = [2, 3, 5, 10, 12, 15, 19, 31, 100]\n",
    "\n",
    "l = [a for a in l1 for b in l2 if a==b]"
   ]
  },
  {
   "cell_type": "code",
   "execution_count": 177,
   "metadata": {},
   "outputs": [
    {
     "data": {
      "text/plain": [
       "[10, 31]"
      ]
     },
     "execution_count": 177,
     "metadata": {},
     "output_type": "execute_result"
    }
   ],
   "source": [
    "l"
   ]
  },
  {
   "cell_type": "markdown",
   "metadata": {},
   "source": [
    "D.h. wir haben damit Dubletten - Elemente, die sowohl in `l1` als auch in `l2` sind - erfolgreich gefunden."
   ]
  },
  {
   "cell_type": "markdown",
   "metadata": {},
   "source": [
    "## Quiz-Time! Was wird hier gemacht?"
   ]
  },
  {
   "cell_type": "code",
   "execution_count": 178,
   "metadata": {
    "collapsed": true
   },
   "outputs": [],
   "source": [
    "import math\n",
    "\n",
    "l = [round(math.pi, i) for i in range(1,6)]"
   ]
  },
  {
   "cell_type": "code",
   "execution_count": 179,
   "metadata": {},
   "outputs": [
    {
     "data": {
      "text/plain": [
       "3.141592653589793"
      ]
     },
     "execution_count": 179,
     "metadata": {},
     "output_type": "execute_result"
    }
   ],
   "source": [
    "math.pi"
   ]
  },
  {
   "cell_type": "code",
   "execution_count": 180,
   "metadata": {},
   "outputs": [
    {
     "data": {
      "text/plain": [
       "[3.1, 3.14, 3.142, 3.1416, 3.14159]"
      ]
     },
     "execution_count": 180,
     "metadata": {},
     "output_type": "execute_result"
    }
   ],
   "source": [
    "l"
   ]
  },
  {
   "cell_type": "markdown",
   "metadata": {},
   "source": [
    "Es wird also eine Liste erzeugt, bei der Pi auf die 1.,2.,3., ... etc. Nachkommastelle gerundet ist."
   ]
  },
  {
   "cell_type": "markdown",
   "metadata": {},
   "source": [
    "# Tupel"
   ]
  },
  {
   "cell_type": "markdown",
   "metadata": {},
   "source": [
    "*Tupel = Anordnung von Daten mit definierter Reihenfolge, die nicht verändert werden kann!*\n",
    "\n",
    "\"Tuples have structure, lists have order\""
   ]
  },
  {
   "cell_type": "markdown",
   "metadata": {},
   "source": [
    "## Definition einer Liste erfolgt über runde Klammern:"
   ]
  },
  {
   "cell_type": "code",
   "execution_count": 181,
   "metadata": {
    "collapsed": true
   },
   "outputs": [],
   "source": [
    "t1 = (5, \"Brötchen\", 3, \"Apfeltaschen\")"
   ]
  },
  {
   "cell_type": "code",
   "execution_count": 182,
   "metadata": {},
   "outputs": [
    {
     "data": {
      "text/plain": [
       "(5, 'Brötchen', 3, 'Apfeltaschen')"
      ]
     },
     "execution_count": 182,
     "metadata": {},
     "output_type": "execute_result"
    }
   ],
   "source": [
    "t1"
   ]
  },
  {
   "cell_type": "code",
   "execution_count": 183,
   "metadata": {},
   "outputs": [
    {
     "data": {
      "text/plain": [
       "tuple"
      ]
     },
     "execution_count": 183,
     "metadata": {},
     "output_type": "execute_result"
    }
   ],
   "source": [
    "type(t1)"
   ]
  },
  {
   "cell_type": "markdown",
   "metadata": {},
   "source": [
    "## Tupel können auch ohne runde Klammern definiert werden:"
   ]
  },
  {
   "cell_type": "code",
   "execution_count": 184,
   "metadata": {
    "collapsed": true
   },
   "outputs": [],
   "source": [
    "t2 = 5, \"Brötchen\", 3, \"Apfeltaschen\""
   ]
  },
  {
   "cell_type": "code",
   "execution_count": 185,
   "metadata": {},
   "outputs": [
    {
     "data": {
      "text/plain": [
       "(5, 'Brötchen', 3, 'Apfeltaschen')"
      ]
     },
     "execution_count": 185,
     "metadata": {},
     "output_type": "execute_result"
    }
   ],
   "source": [
    "t2"
   ]
  },
  {
   "cell_type": "code",
   "execution_count": 186,
   "metadata": {},
   "outputs": [
    {
     "data": {
      "text/plain": [
       "tuple"
      ]
     },
     "execution_count": 186,
     "metadata": {},
     "output_type": "execute_result"
    }
   ],
   "source": [
    "type(t2)"
   ]
  },
  {
   "cell_type": "markdown",
   "metadata": {},
   "source": [
    "## Entpacken einer Liste durch Mehrfachzuweisung:"
   ]
  },
  {
   "cell_type": "code",
   "execution_count": 187,
   "metadata": {
    "collapsed": true
   },
   "outputs": [],
   "source": [
    "a1, e1, a2, e2 = t2"
   ]
  },
  {
   "cell_type": "code",
   "execution_count": 188,
   "metadata": {},
   "outputs": [
    {
     "data": {
      "text/plain": [
       "3"
      ]
     },
     "execution_count": 188,
     "metadata": {},
     "output_type": "execute_result"
    }
   ],
   "source": [
    "a2"
   ]
  },
  {
   "cell_type": "code",
   "execution_count": 189,
   "metadata": {},
   "outputs": [
    {
     "data": {
      "text/plain": [
       "'Apfeltaschen'"
      ]
     },
     "execution_count": 189,
     "metadata": {},
     "output_type": "execute_result"
    }
   ],
   "source": [
    "e2"
   ]
  },
  {
   "cell_type": "markdown",
   "metadata": {},
   "source": [
    "## Unterschied zwischen Tupeln und Listen\n",
    "\n",
    "Listen können verändert werden (Englisch: mutable), Tupel dagegen nicht (Englisch: immutable)!\n",
    "\n",
    "Der folgende Versuch das Tupel `t2` zu verändern führt daher zu einem `TypeError`:"
   ]
  },
  {
   "cell_type": "code",
   "execution_count": 190,
   "metadata": {},
   "outputs": [
    {
     "ename": "TypeError",
     "evalue": "'tuple' object does not support item assignment",
     "output_type": "error",
     "traceback": [
      "\u001b[1;31m---------------------------------------------------------------------------\u001b[0m",
      "\u001b[1;31mTypeError\u001b[0m                                 Traceback (most recent call last)",
      "\u001b[1;32m<ipython-input-190-47a9c37a351f>\u001b[0m in \u001b[0;36m<module>\u001b[1;34m()\u001b[0m\n\u001b[1;32m----> 1\u001b[1;33m \u001b[0mt2\u001b[0m\u001b[1;33m[\u001b[0m\u001b[1;36m0\u001b[0m\u001b[1;33m]\u001b[0m \u001b[1;33m=\u001b[0m \u001b[1;36m55\u001b[0m\u001b[1;33m\u001b[0m\u001b[0m\n\u001b[0m",
      "\u001b[1;31mTypeError\u001b[0m: 'tuple' object does not support item assignment"
     ]
    }
   ],
   "source": [
    "t2[0] = 55"
   ]
  },
  {
   "cell_type": "markdown",
   "metadata": {},
   "source": [
    "Und wir können auch nichts mehr an ein bestehendes Tupel ranhängen:"
   ]
  },
  {
   "cell_type": "code",
   "execution_count": 191,
   "metadata": {},
   "outputs": [
    {
     "ename": "AttributeError",
     "evalue": "'tuple' object has no attribute 'append'",
     "output_type": "error",
     "traceback": [
      "\u001b[1;31m---------------------------------------------------------------------------\u001b[0m",
      "\u001b[1;31mAttributeError\u001b[0m                            Traceback (most recent call last)",
      "\u001b[1;32m<ipython-input-191-d5e4d32b9688>\u001b[0m in \u001b[0;36m<module>\u001b[1;34m()\u001b[0m\n\u001b[1;32m----> 1\u001b[1;33m \u001b[0mt2\u001b[0m\u001b[1;33m.\u001b[0m\u001b[0mappend\u001b[0m\u001b[1;33m(\u001b[0m\u001b[1;36m42\u001b[0m\u001b[1;33m)\u001b[0m\u001b[1;33m\u001b[0m\u001b[0m\n\u001b[0m",
      "\u001b[1;31mAttributeError\u001b[0m: 'tuple' object has no attribute 'append'"
     ]
    }
   ],
   "source": [
    "t2.append(42)"
   ]
  },
  {
   "cell_type": "code",
   "execution_count": 192,
   "metadata": {},
   "outputs": [
    {
     "data": {
      "text/plain": [
       "5"
      ]
     },
     "execution_count": 192,
     "metadata": {},
     "output_type": "execute_result"
    }
   ],
   "source": [
    "t2[0]"
   ]
  },
  {
   "cell_type": "markdown",
   "metadata": {},
   "source": [
    "## Konkatenieren von Tupeln"
   ]
  },
  {
   "cell_type": "code",
   "execution_count": 193,
   "metadata": {
    "collapsed": true
   },
   "outputs": [],
   "source": [
    "t1 = (1,2,3)\n",
    "t2 = (4,5,6)"
   ]
  },
  {
   "cell_type": "code",
   "execution_count": 194,
   "metadata": {},
   "outputs": [
    {
     "data": {
      "text/plain": [
       "(1, 2, 3, 4, 5, 6)"
      ]
     },
     "execution_count": 194,
     "metadata": {},
     "output_type": "execute_result"
    }
   ],
   "source": [
    "t1+t2"
   ]
  },
  {
   "cell_type": "markdown",
   "metadata": {},
   "source": [
    "## Slicing funktioniert auch für Tupel"
   ]
  },
  {
   "cell_type": "code",
   "execution_count": 195,
   "metadata": {
    "collapsed": true
   },
   "outputs": [],
   "source": [
    "t3 = (10,20,30,40,50,60,70)"
   ]
  },
  {
   "cell_type": "code",
   "execution_count": 196,
   "metadata": {},
   "outputs": [
    {
     "data": {
      "text/plain": [
       "(10, 20, 30)"
      ]
     },
     "execution_count": 196,
     "metadata": {},
     "output_type": "execute_result"
    }
   ],
   "source": [
    "t3[0:3]"
   ]
  },
  {
   "cell_type": "code",
   "execution_count": 197,
   "metadata": {},
   "outputs": [
    {
     "data": {
      "text/plain": [
       "(40, 50, 60, 70)"
      ]
     },
     "execution_count": 197,
     "metadata": {},
     "output_type": "execute_result"
    }
   ],
   "source": [
    "t3[3:]"
   ]
  },
  {
   "cell_type": "code",
   "execution_count": 198,
   "metadata": {},
   "outputs": [
    {
     "data": {
      "text/plain": [
       "(10, 30, 50, 70)"
      ]
     },
     "execution_count": 198,
     "metadata": {},
     "output_type": "execute_result"
    }
   ],
   "source": [
    "t3[0::2]"
   ]
  },
  {
   "cell_type": "markdown",
   "metadata": {},
   "source": [
    "# Zeichenketten (Strings)"
   ]
  },
  {
   "cell_type": "markdown",
   "metadata": {},
   "source": [
    "## Definition von Zeichenketten"
   ]
  },
  {
   "cell_type": "code",
   "execution_count": 199,
   "metadata": {
    "collapsed": true
   },
   "outputs": [],
   "source": [
    "s1 = 'Eine Zeichenkette mit einfachen Anführungszeichen'"
   ]
  },
  {
   "cell_type": "code",
   "execution_count": 200,
   "metadata": {},
   "outputs": [
    {
     "data": {
      "text/plain": [
       "'Eine Zeichenkette mit einfachen Anführungszeichen'"
      ]
     },
     "execution_count": 200,
     "metadata": {},
     "output_type": "execute_result"
    }
   ],
   "source": [
    "s1"
   ]
  },
  {
   "cell_type": "code",
   "execution_count": 201,
   "metadata": {
    "collapsed": true
   },
   "outputs": [],
   "source": [
    "s2 = \"Eine Zeichenkette mit doppelten Anführungszeichen\""
   ]
  },
  {
   "cell_type": "code",
   "execution_count": 202,
   "metadata": {},
   "outputs": [
    {
     "data": {
      "text/plain": [
       "'Eine Zeichenkette mit doppelten Anführungszeichen'"
      ]
     },
     "execution_count": 202,
     "metadata": {},
     "output_type": "execute_result"
    }
   ],
   "source": [
    "s2"
   ]
  },
  {
   "cell_type": "markdown",
   "metadata": {},
   "source": [
    "Folgendes geht nicht:"
   ]
  },
  {
   "cell_type": "code",
   "execution_count": 203,
   "metadata": {},
   "outputs": [
    {
     "ename": "SyntaxError",
     "evalue": "invalid syntax (<ipython-input-203-8f7bd9bc5ee0>, line 1)",
     "output_type": "error",
     "traceback": [
      "\u001b[1;36m  File \u001b[1;32m\"<ipython-input-203-8f7bd9bc5ee0>\"\u001b[1;36m, line \u001b[1;32m1\u001b[0m\n\u001b[1;33m    s3 = \"Er sagte \"Hallo!\"\"\u001b[0m\n\u001b[1;37m                        ^\u001b[0m\n\u001b[1;31mSyntaxError\u001b[0m\u001b[1;31m:\u001b[0m invalid syntax\n"
     ]
    }
   ],
   "source": [
    "s3 = \"Er sagte \"Hallo!\"\""
   ]
  },
  {
   "cell_type": "markdown",
   "metadata": {},
   "source": [
    "So geht es:"
   ]
  },
  {
   "cell_type": "code",
   "execution_count": 204,
   "metadata": {
    "collapsed": true
   },
   "outputs": [],
   "source": [
    "s4 = 'Er sagte \"Hallo!\"'"
   ]
  },
  {
   "cell_type": "code",
   "execution_count": 205,
   "metadata": {},
   "outputs": [
    {
     "data": {
      "text/plain": [
       "'Er sagte \"Hallo!\"'"
      ]
     },
     "execution_count": 205,
     "metadata": {},
     "output_type": "execute_result"
    }
   ],
   "source": [
    "s4"
   ]
  },
  {
   "cell_type": "markdown",
   "metadata": {},
   "source": [
    "Oder aber umgekehrt:"
   ]
  },
  {
   "cell_type": "code",
   "execution_count": 206,
   "metadata": {
    "collapsed": true
   },
   "outputs": [],
   "source": [
    "s5 = \"Er sagte 'Hallo!'\""
   ]
  },
  {
   "cell_type": "code",
   "execution_count": 207,
   "metadata": {},
   "outputs": [
    {
     "data": {
      "text/plain": [
       "\"Er sagte 'Hallo!'\""
      ]
     },
     "execution_count": 207,
     "metadata": {},
     "output_type": "execute_result"
    }
   ],
   "source": [
    "s5"
   ]
  },
  {
   "cell_type": "markdown",
   "metadata": {},
   "source": [
    "## Escape-Sequenzen\n",
    "\n",
    "Mit dreimaligem einfachen oder doppelten Anführungszeichen lassen sich die einfachen und doppelten Anführungszeichen ohne sog. Escape-Sequenzen verwenden:"
   ]
  },
  {
   "cell_type": "code",
   "execution_count": 208,
   "metadata": {
    "collapsed": true
   },
   "outputs": [],
   "source": [
    "s6 = \"\"\"Er sagte: \"Wie geht's?\" \"\"\""
   ]
  },
  {
   "cell_type": "code",
   "execution_count": 209,
   "metadata": {},
   "outputs": [
    {
     "data": {
      "text/plain": [
       "'Er sagte: \"Wie geht\\'s?\" '"
      ]
     },
     "execution_count": 209,
     "metadata": {},
     "output_type": "execute_result"
    }
   ],
   "source": [
    "s6"
   ]
  },
  {
   "cell_type": "code",
   "execution_count": 210,
   "metadata": {},
   "outputs": [
    {
     "name": "stdout",
     "output_type": "stream",
     "text": [
      "Er sagte: \"Wie geht's?\" \n"
     ]
    }
   ],
   "source": [
    "print(s6)"
   ]
  },
  {
   "cell_type": "markdown",
   "metadata": {},
   "source": [
    "Die Definition der gleichen Zeichenkette mit Escape-Sequenzen für das doppelte und einfache Anführungszeichen ist deutlich ekliger:"
   ]
  },
  {
   "cell_type": "code",
   "execution_count": 211,
   "metadata": {
    "collapsed": true
   },
   "outputs": [],
   "source": [
    "s7 = \"Er sagte: \\\"Wie geht\\'s?\\\" \""
   ]
  },
  {
   "cell_type": "code",
   "execution_count": 212,
   "metadata": {},
   "outputs": [
    {
     "name": "stdout",
     "output_type": "stream",
     "text": [
      "Er sagte: \"Wie geht's?\" \n"
     ]
    }
   ],
   "source": [
    "print(s7)"
   ]
  },
  {
   "cell_type": "markdown",
   "metadata": {},
   "source": [
    "Weitere Escape-Sequenzen:"
   ]
  },
  {
   "cell_type": "code",
   "execution_count": 213,
   "metadata": {
    "collapsed": true
   },
   "outputs": [],
   "source": [
    "s8 = \"Text und dann\\nText in einer neuen Zeile\""
   ]
  },
  {
   "cell_type": "code",
   "execution_count": 214,
   "metadata": {},
   "outputs": [
    {
     "data": {
      "text/plain": [
       "'Text und dann\\nText in einer neuen Zeile'"
      ]
     },
     "execution_count": 214,
     "metadata": {},
     "output_type": "execute_result"
    }
   ],
   "source": [
    "s8"
   ]
  },
  {
   "cell_type": "code",
   "execution_count": 215,
   "metadata": {},
   "outputs": [
    {
     "name": "stdout",
     "output_type": "stream",
     "text": [
      "Text und dann\n",
      "Text in einer neuen Zeile\n"
     ]
    }
   ],
   "source": [
    "print(s8)"
   ]
  },
  {
   "cell_type": "markdown",
   "metadata": {},
   "source": [
    "Manchmal sollen Escape-Sequenzen ignoriert werden:"
   ]
  },
  {
   "cell_type": "code",
   "execution_count": 216,
   "metadata": {
    "collapsed": true
   },
   "outputs": [],
   "source": [
    "s = \"Für eine neue Zeile muss man die Escape-Sequenz \\n verwenden.\""
   ]
  },
  {
   "cell_type": "code",
   "execution_count": 217,
   "metadata": {},
   "outputs": [
    {
     "name": "stdout",
     "output_type": "stream",
     "text": [
      "Für eine neue Zeile muss man die Escape-Sequenz \n",
      " verwenden.\n"
     ]
    }
   ],
   "source": [
    "print(s)"
   ]
  },
  {
   "cell_type": "markdown",
   "metadata": {},
   "source": [
    "Mit einem r als Präfix vor der Zeichenkette werden \"\\\" (Backslashes) nicht als Escape-Sequenzen ausgewertet:"
   ]
  },
  {
   "cell_type": "code",
   "execution_count": 218,
   "metadata": {
    "collapsed": true
   },
   "outputs": [],
   "source": [
    "s = r\"Für eine neue Zeile muss man die Escape-Sequenz \\n verwenden.\""
   ]
  },
  {
   "cell_type": "code",
   "execution_count": 219,
   "metadata": {},
   "outputs": [
    {
     "name": "stdout",
     "output_type": "stream",
     "text": [
      "Für eine neue Zeile muss man die Escape-Sequenz \\n verwenden.\n"
     ]
    }
   ],
   "source": [
    "print(s)"
   ]
  },
  {
   "cell_type": "markdown",
   "metadata": {},
   "source": [
    "Praktisch also für Pfadangaben, denn so klappt es nicht:"
   ]
  },
  {
   "cell_type": "code",
   "execution_count": 220,
   "metadata": {},
   "outputs": [
    {
     "ename": "SyntaxError",
     "evalue": "(unicode error) 'unicodeescape' codec can't decode bytes in position 6-7: truncated \\uXXXX escape (<ipython-input-220-da368fd9c25d>, line 1)",
     "output_type": "error",
     "traceback": [
      "\u001b[1;36m  File \u001b[1;32m\"<ipython-input-220-da368fd9c25d>\"\u001b[1;36m, line \u001b[1;32m1\u001b[0m\n\u001b[1;33m    eine_datei = \"C:\\tmp\\unterordner\\hier_bin_ich.txt\"\u001b[0m\n\u001b[1;37m                ^\u001b[0m\n\u001b[1;31mSyntaxError\u001b[0m\u001b[1;31m:\u001b[0m (unicode error) 'unicodeescape' codec can't decode bytes in position 6-7: truncated \\uXXXX escape\n"
     ]
    }
   ],
   "source": [
    "eine_datei = \"C:\\tmp\\unterordner\\hier_bin_ich.txt\""
   ]
  },
  {
   "cell_type": "markdown",
   "metadata": {},
   "source": [
    "Aber so klappt es:"
   ]
  },
  {
   "cell_type": "code",
   "execution_count": 221,
   "metadata": {
    "collapsed": true
   },
   "outputs": [],
   "source": [
    "eine_datei = r\"C:\\tmp\\unterordner\\hier_bin_ich.txt\""
   ]
  },
  {
   "cell_type": "code",
   "execution_count": 222,
   "metadata": {},
   "outputs": [
    {
     "name": "stdout",
     "output_type": "stream",
     "text": [
      "C:\\tmp\\unterordner\\hier_bin_ich.txt\n"
     ]
    }
   ],
   "source": [
    "print(eine_datei)"
   ]
  },
  {
   "cell_type": "markdown",
   "metadata": {},
   "source": [
    "## Zeichenketten über mehrere Zeilen"
   ]
  },
  {
   "cell_type": "markdown",
   "metadata": {},
   "source": [
    "Definition von Zeichenketten über mehrere Zeilen mit doppeltem Anführungszeichen:\n",
    "\n",
    "Beachte: es ist ein Backslash notwendig, um Python zu signalisieren, dass die Zeichenkette noch in der nächsten Zeile weiter geht."
   ]
  },
  {
   "cell_type": "code",
   "execution_count": 223,
   "metadata": {
    "collapsed": true
   },
   "outputs": [],
   "source": [
    "s13 = \"Hier \\\n",
    "wird eine Zeichenkette \\\n",
    "über mehrere Zeilen \\\n",
    "definiert.\""
   ]
  },
  {
   "cell_type": "code",
   "execution_count": 224,
   "metadata": {},
   "outputs": [
    {
     "name": "stdout",
     "output_type": "stream",
     "text": [
      "Hier wird eine Zeichenkette über mehrere Zeilen definiert.\n"
     ]
    }
   ],
   "source": [
    "print(s13)"
   ]
  },
  {
   "cell_type": "markdown",
   "metadata": {},
   "source": [
    "Definition von Zeichenketten über mehrere Zeilen mit dreimaligen doppeltem Anführungszeichen:"
   ]
  },
  {
   "cell_type": "code",
   "execution_count": 225,
   "metadata": {
    "collapsed": true
   },
   "outputs": [],
   "source": [
    "s14 = \"\"\"Hier\n",
    "muss man gar kein\n",
    "Backslash verwenden\n",
    "aber dafür macht Python stets eine neue\n",
    "Zeile, wenn wir in eine neue Zeile wechseln.\"\"\""
   ]
  },
  {
   "cell_type": "code",
   "execution_count": 226,
   "metadata": {},
   "outputs": [
    {
     "name": "stdout",
     "output_type": "stream",
     "text": [
      "Hier\n",
      "muss man gar kein\n",
      "Backslash verwenden\n",
      "aber dafür macht Python stets eine neue\n",
      "Zeile, wenn wir in eine neue Zeile wechseln.\n"
     ]
    }
   ],
   "source": [
    "print(s14)"
   ]
  },
  {
   "cell_type": "markdown",
   "metadata": {},
   "source": [
    "Will man nicht in neue Zeile wechseln, muss man den Backslash verwenden:"
   ]
  },
  {
   "cell_type": "code",
   "execution_count": 227,
   "metadata": {
    "collapsed": true
   },
   "outputs": [],
   "source": [
    "s15 = \"\"\"Hier \\\n",
    "muss man gar kein \\\n",
    "Backslash verwenden\n",
    "aber dafür macht Python stets eine neue \\\n",
    "Zeile, wenn wir in eine neue Zeile wechseln.\"\"\""
   ]
  },
  {
   "cell_type": "code",
   "execution_count": 228,
   "metadata": {},
   "outputs": [
    {
     "name": "stdout",
     "output_type": "stream",
     "text": [
      "Hier muss man gar kein Backslash verwenden\n",
      "aber dafür macht Python stets eine neue Zeile, wenn wir in eine neue Zeile wechseln.\n"
     ]
    }
   ],
   "source": [
    "print(s15)"
   ]
  },
  {
   "cell_type": "markdown",
   "metadata": {},
   "source": [
    "## Lesender und schreibender Zugriff auf einzelne Zeichen:"
   ]
  },
  {
   "cell_type": "code",
   "execution_count": 229,
   "metadata": {
    "collapsed": true
   },
   "outputs": [],
   "source": [
    "s = \"text\""
   ]
  },
  {
   "cell_type": "code",
   "execution_count": 230,
   "metadata": {},
   "outputs": [
    {
     "data": {
      "text/plain": [
       "'t'"
      ]
     },
     "execution_count": 230,
     "metadata": {},
     "output_type": "execute_result"
    }
   ],
   "source": [
    "s[0]"
   ]
  },
  {
   "cell_type": "code",
   "execution_count": 231,
   "metadata": {},
   "outputs": [
    {
     "data": {
      "text/plain": [
       "'x'"
      ]
     },
     "execution_count": 231,
     "metadata": {},
     "output_type": "execute_result"
    }
   ],
   "source": [
    "s[-2]"
   ]
  },
  {
   "cell_type": "markdown",
   "metadata": {},
   "source": [
    "Folgender Versuch ein Zeichen der Zeichenkette abzuändern zeigt: Strings sind in Python wie Tupel \"immutable\":"
   ]
  },
  {
   "cell_type": "code",
   "execution_count": 232,
   "metadata": {},
   "outputs": [
    {
     "ename": "TypeError",
     "evalue": "'str' object does not support item assignment",
     "output_type": "error",
     "traceback": [
      "\u001b[1;31m---------------------------------------------------------------------------\u001b[0m",
      "\u001b[1;31mTypeError\u001b[0m                                 Traceback (most recent call last)",
      "\u001b[1;32m<ipython-input-232-000b9b8ce3ea>\u001b[0m in \u001b[0;36m<module>\u001b[1;34m()\u001b[0m\n\u001b[1;32m----> 1\u001b[1;33m \u001b[0ms\u001b[0m\u001b[1;33m[\u001b[0m\u001b[1;36m0\u001b[0m\u001b[1;33m]\u001b[0m \u001b[1;33m=\u001b[0m \u001b[1;34m\"T\"\u001b[0m\u001b[1;33m\u001b[0m\u001b[0m\n\u001b[0m",
      "\u001b[1;31mTypeError\u001b[0m: 'str' object does not support item assignment"
     ]
    }
   ],
   "source": [
    "s[0] = \"T\""
   ]
  },
  {
   "cell_type": "markdown",
   "metadata": {},
   "source": [
    "Lösung: man kann ein String z.B. in eine Liste umwandeln, die mutable ist und dann zurück umwandeln in einen String:"
   ]
  },
  {
   "cell_type": "code",
   "execution_count": 233,
   "metadata": {
    "collapsed": true
   },
   "outputs": [],
   "source": [
    "l = list(s)"
   ]
  },
  {
   "cell_type": "code",
   "execution_count": 234,
   "metadata": {},
   "outputs": [
    {
     "data": {
      "text/plain": [
       "['t', 'e', 'x', 't']"
      ]
     },
     "execution_count": 234,
     "metadata": {},
     "output_type": "execute_result"
    }
   ],
   "source": [
    "l"
   ]
  },
  {
   "cell_type": "code",
   "execution_count": 235,
   "metadata": {
    "collapsed": true
   },
   "outputs": [],
   "source": [
    "l[0] = \"T\""
   ]
  },
  {
   "cell_type": "code",
   "execution_count": 236,
   "metadata": {},
   "outputs": [
    {
     "data": {
      "text/plain": [
       "['T', 'e', 'x', 't']"
      ]
     },
     "execution_count": 236,
     "metadata": {},
     "output_type": "execute_result"
    }
   ],
   "source": [
    "l"
   ]
  },
  {
   "cell_type": "code",
   "execution_count": 237,
   "metadata": {
    "collapsed": true
   },
   "outputs": [],
   "source": [
    "s = \"\".join(l)"
   ]
  },
  {
   "cell_type": "code",
   "execution_count": 238,
   "metadata": {},
   "outputs": [
    {
     "data": {
      "text/plain": [
       "'Text'"
      ]
     },
     "execution_count": 238,
     "metadata": {},
     "output_type": "execute_result"
    }
   ],
   "source": [
    "s"
   ]
  },
  {
   "cell_type": "markdown",
   "metadata": {},
   "source": [
    "## Umwandeln in Klein- bzw. Großbuchstaben"
   ]
  },
  {
   "cell_type": "code",
   "execution_count": 239,
   "metadata": {
    "collapsed": true
   },
   "outputs": [],
   "source": [
    "txt = \"Ein Text mit Groß- und Kleinschreibung.\""
   ]
  },
  {
   "cell_type": "code",
   "execution_count": 240,
   "metadata": {},
   "outputs": [
    {
     "data": {
      "text/plain": [
       "'Ein Text mit Groß- und Kleinschreibung.'"
      ]
     },
     "execution_count": 240,
     "metadata": {},
     "output_type": "execute_result"
    }
   ],
   "source": [
    "txt"
   ]
  },
  {
   "cell_type": "code",
   "execution_count": 241,
   "metadata": {},
   "outputs": [
    {
     "data": {
      "text/plain": [
       "'ein text mit groß- und kleinschreibung.'"
      ]
     },
     "execution_count": 241,
     "metadata": {},
     "output_type": "execute_result"
    }
   ],
   "source": [
    "txt.lower()"
   ]
  },
  {
   "cell_type": "code",
   "execution_count": 242,
   "metadata": {},
   "outputs": [
    {
     "data": {
      "text/plain": [
       "'EIN TEXT MIT GROSS- UND KLEINSCHREIBUNG.'"
      ]
     },
     "execution_count": 242,
     "metadata": {},
     "output_type": "execute_result"
    }
   ],
   "source": [
    "txt.upper()"
   ]
  },
  {
   "cell_type": "markdown",
   "metadata": {},
   "source": [
    "## Überprüfen ob ein Wort in einer Zeichenkette vorkommt"
   ]
  },
  {
   "cell_type": "code",
   "execution_count": 243,
   "metadata": {
    "collapsed": true
   },
   "outputs": [],
   "source": [
    "ergebnis = \"mit\" in txt"
   ]
  },
  {
   "cell_type": "code",
   "execution_count": 244,
   "metadata": {},
   "outputs": [
    {
     "data": {
      "text/plain": [
       "True"
      ]
     },
     "execution_count": 244,
     "metadata": {},
     "output_type": "execute_result"
    }
   ],
   "source": [
    "ergebnis"
   ]
  },
  {
   "cell_type": "code",
   "execution_count": 245,
   "metadata": {
    "collapsed": true
   },
   "outputs": [],
   "source": [
    "ergebnis2 = \"ein\" in txt"
   ]
  },
  {
   "cell_type": "code",
   "execution_count": 246,
   "metadata": {},
   "outputs": [
    {
     "data": {
      "text/plain": [
       "True"
      ]
     },
     "execution_count": 246,
     "metadata": {},
     "output_type": "execute_result"
    }
   ],
   "source": [
    "ergebnis2"
   ]
  },
  {
   "cell_type": "code",
   "execution_count": 247,
   "metadata": {
    "collapsed": true
   },
   "outputs": [],
   "source": [
    "ergebnis3 = \"groß\" in txt"
   ]
  },
  {
   "cell_type": "code",
   "execution_count": 248,
   "metadata": {},
   "outputs": [
    {
     "data": {
      "text/plain": [
       "False"
      ]
     },
     "execution_count": 248,
     "metadata": {},
     "output_type": "execute_result"
    }
   ],
   "source": [
    "ergebnis3"
   ]
  },
  {
   "cell_type": "markdown",
   "metadata": {},
   "source": [
    "## Quiz-Time!\n",
    "\n",
    "Wie kann man überprüfen, ob das Wort \"groß\" in der Zeichenkette txt vorkommt - unabhängig von der Groß-/Kleinschreibung vom Suchwort und von der Zeichenkette, in der gesucht wird?"
   ]
  },
  {
   "cell_type": "code",
   "execution_count": 249,
   "metadata": {},
   "outputs": [],
   "source": [
    "ergebnis4 = \"Groß\".lower() in txt.lower()"
   ]
  },
  {
   "cell_type": "code",
   "execution_count": 250,
   "metadata": {},
   "outputs": [
    {
     "data": {
      "text/plain": [
       "True"
      ]
     },
     "execution_count": 250,
     "metadata": {},
     "output_type": "execute_result"
    }
   ],
   "source": [
    "ergebnis4"
   ]
  },
  {
   "cell_type": "markdown",
   "metadata": {},
   "source": [
    "## Finden der 1. Vorkommensstelle eines Wortes in einer Zeichenkette"
   ]
  },
  {
   "cell_type": "code",
   "execution_count": 251,
   "metadata": {
    "collapsed": true
   },
   "outputs": [],
   "source": [
    "txt = \"Dies ist ein Beispieltext mit einigen Wörtern.\""
   ]
  },
  {
   "cell_type": "code",
   "execution_count": 252,
   "metadata": {},
   "outputs": [
    {
     "data": {
      "text/plain": [
       "'Dies ist ein Beispieltext mit einigen Wörtern.'"
      ]
     },
     "execution_count": 252,
     "metadata": {},
     "output_type": "execute_result"
    }
   ],
   "source": [
    "txt"
   ]
  },
  {
   "cell_type": "code",
   "execution_count": 253,
   "metadata": {},
   "outputs": [
    {
     "data": {
      "text/plain": [
       "9"
      ]
     },
     "execution_count": 253,
     "metadata": {},
     "output_type": "execute_result"
    }
   ],
   "source": [
    "txt.find(\"ein\")"
   ]
  },
  {
   "cell_type": "markdown",
   "metadata": {},
   "source": [
    "Suchen in einem definierten Bereich:\n",
    "\n",
    "hier: Suche erst ab 10. Zeichen bis zum letzten Zeichen der Zeichenkette."
   ]
  },
  {
   "cell_type": "code",
   "execution_count": 254,
   "metadata": {},
   "outputs": [],
   "source": [
    "stelle = txt.find(\"ein\", 10, -1)"
   ]
  },
  {
   "cell_type": "code",
   "execution_count": 255,
   "metadata": {},
   "outputs": [
    {
     "data": {
      "text/plain": [
       "30"
      ]
     },
     "execution_count": 255,
     "metadata": {},
     "output_type": "execute_result"
    }
   ],
   "source": [
    "stelle"
   ]
  },
  {
   "cell_type": "code",
   "execution_count": 256,
   "metadata": {},
   "outputs": [
    {
     "data": {
      "text/plain": [
       "'einigen Wörtern.'"
      ]
     },
     "execution_count": 256,
     "metadata": {},
     "output_type": "execute_result"
    }
   ],
   "source": [
    "txt[stelle:]"
   ]
  },
  {
   "cell_type": "markdown",
   "metadata": {},
   "source": [
    "## Aufspalten von Zeichenketten"
   ]
  },
  {
   "cell_type": "markdown",
   "metadata": {},
   "source": [
    "Aus einer Zeichenkette machen wir eine Liste mit Wörtern:"
   ]
  },
  {
   "cell_type": "code",
   "execution_count": 257,
   "metadata": {},
   "outputs": [
    {
     "data": {
      "text/plain": [
       "['Dies', 'ist', 'ein', 'Beispieltext', 'mit', 'einigen', 'Wörtern.']"
      ]
     },
     "execution_count": 257,
     "metadata": {},
     "output_type": "execute_result"
    }
   ],
   "source": [
    "txt.split()"
   ]
  },
  {
   "cell_type": "code",
   "execution_count": 258,
   "metadata": {
    "collapsed": true
   },
   "outputs": [],
   "source": [
    "txt2 = \"Dies ist\\tein Text\\nmit    unterschiedlichen sog. Whitespaces.\""
   ]
  },
  {
   "cell_type": "code",
   "execution_count": 259,
   "metadata": {},
   "outputs": [
    {
     "name": "stdout",
     "output_type": "stream",
     "text": [
      "Dies ist\tein Text\n",
      "mit    unterschiedlichen sog. Whitespaces.\n"
     ]
    }
   ],
   "source": [
    "print(txt2)"
   ]
  },
  {
   "cell_type": "code",
   "execution_count": 260,
   "metadata": {},
   "outputs": [
    {
     "data": {
      "text/plain": [
       "['Dies',\n",
       " 'ist',\n",
       " 'ein',\n",
       " 'Text',\n",
       " 'mit',\n",
       " 'unterschiedlichen',\n",
       " 'sog.',\n",
       " 'Whitespaces.']"
      ]
     },
     "execution_count": 260,
     "metadata": {},
     "output_type": "execute_result"
    }
   ],
   "source": [
    "txt2.split()"
   ]
  },
  {
   "cell_type": "markdown",
   "metadata": {},
   "source": [
    "Man kann die Trennzeichen, bei denen `split()` jeweils die Zeichenkette trennen soll auch selber definieren:"
   ]
  },
  {
   "cell_type": "code",
   "execution_count": 261,
   "metadata": {},
   "outputs": [
    {
     "data": {
      "text/plain": [
       "['1,3,5,7,9,11,13']"
      ]
     },
     "execution_count": 261,
     "metadata": {},
     "output_type": "execute_result"
    }
   ],
   "source": [
    "txt3 = \"1,3,5,7,9,11,13\"\n",
    "txt3.split()"
   ]
  },
  {
   "cell_type": "code",
   "execution_count": 262,
   "metadata": {},
   "outputs": [
    {
     "data": {
      "text/plain": [
       "['1', '3', '5', '7', '9', '11', '13']"
      ]
     },
     "execution_count": 262,
     "metadata": {},
     "output_type": "execute_result"
    }
   ],
   "source": [
    "txt3.split(\",\")"
   ]
  },
  {
   "cell_type": "markdown",
   "metadata": {},
   "source": [
    "## Ersetzen von Wörtern in Zeichenketten"
   ]
  },
  {
   "cell_type": "code",
   "execution_count": 263,
   "metadata": {
    "collapsed": true
   },
   "outputs": [],
   "source": [
    "txt = \"Ich finde Java ist eine tolle Sprache!\\\n",
    "Kennen Sie Java eigentlich?\""
   ]
  },
  {
   "cell_type": "code",
   "execution_count": 264,
   "metadata": {},
   "outputs": [
    {
     "data": {
      "text/plain": [
       "'Ich finde Python ist eine tolle Sprache!Kennen Sie Python eigentlich?'"
      ]
     },
     "execution_count": 264,
     "metadata": {},
     "output_type": "execute_result"
    }
   ],
   "source": [
    "txt.replace(\"Java\",\"Python\")"
   ]
  },
  {
   "cell_type": "markdown",
   "metadata": {},
   "source": [
    "Wie oft ersetzt werden soll, kann man auch angeben:"
   ]
  },
  {
   "cell_type": "code",
   "execution_count": 265,
   "metadata": {},
   "outputs": [
    {
     "data": {
      "text/plain": [
       "'Ich finde Python ist eine tolle Sprache!Kennen Sie Java eigentlich?'"
      ]
     },
     "execution_count": 265,
     "metadata": {},
     "output_type": "execute_result"
    }
   ],
   "source": [
    "txt.replace(\"Java\",\"Python\",1)"
   ]
  },
  {
   "cell_type": "markdown",
   "metadata": {},
   "source": [
    "# for-Schleife\n",
    "\n",
    "## Es gibt keine klassische numerische Zählschleife!\n",
    "\n",
    "Die klassische Zählschleife wie in C\n",
    "\n",
    "    for (i=0; i<100; i++)\n",
    "        printf(\"i: %d\\n\", i);\n",
    "        \n",
    "mit Startwert (hier: `i=0`), Schleifenweiterausführungsbedingung (hier: `i<100`) und Inkrementanweisung (hier: `i++`) gibt es in Python nicht!\n",
    "\n",
    "Es handelt sich mehr um eine foreach-Schleife. Es wird hierbei nämlich über eine Sequenz von Objekten iteriert."
   ]
  },
  {
   "cell_type": "code",
   "execution_count": 266,
   "metadata": {},
   "outputs": [
    {
     "name": "stdout",
     "output_type": "stream",
     "text": [
      "Montag\n",
      "Dienstag\n",
      "Mittwoch\n",
      "Donnerstag\n",
      "Freitag\n"
     ]
    }
   ],
   "source": [
    "l1 = [\"Montag\", \"Dienstag\", \"Mittwoch\", \"Donnerstag\", \"Freitag\"]\n",
    "for tag in l1:\n",
    "    print(tag)"
   ]
  },
  {
   "cell_type": "markdown",
   "metadata": {},
   "source": [
    "Definition des Ausgabeendezeichens bei `print()`:"
   ]
  },
  {
   "cell_type": "code",
   "execution_count": 267,
   "metadata": {},
   "outputs": [
    {
     "name": "stdout",
     "output_type": "stream",
     "text": [
      "Montag --> Dienstag --> Mittwoch --> Donnerstag --> Freitag --> "
     ]
    }
   ],
   "source": [
    "for tag in l1:\n",
    "    print(tag, end=\" --> \")"
   ]
  },
  {
   "cell_type": "markdown",
   "metadata": {},
   "source": [
    "Wie kann man dann aber eine Zählschleife simulieren? Über eine Iteration eines Range-Objektes:"
   ]
  },
  {
   "cell_type": "code",
   "execution_count": 268,
   "metadata": {
    "collapsed": true
   },
   "outputs": [],
   "source": [
    "bereich = range(0,10)"
   ]
  },
  {
   "cell_type": "code",
   "execution_count": 269,
   "metadata": {},
   "outputs": [
    {
     "data": {
      "text/plain": [
       "range"
      ]
     },
     "execution_count": 269,
     "metadata": {},
     "output_type": "execute_result"
    }
   ],
   "source": [
    "type(bereich)"
   ]
  },
  {
   "cell_type": "markdown",
   "metadata": {},
   "source": [
    "Wenn man jetzt über das Objekt `bereich` iteriert, wird in jedem Schleifendurchlauf die Zählvariable um 1 erhöht:"
   ]
  },
  {
   "cell_type": "code",
   "execution_count": 270,
   "metadata": {},
   "outputs": [
    {
     "name": "stdout",
     "output_type": "stream",
     "text": [
      "0 1 2 3 4 5 6 7 8 9 "
     ]
    }
   ],
   "source": [
    "for i in bereich:\n",
    "    print(i, end=\" \")"
   ]
  },
  {
   "cell_type": "code",
   "execution_count": 271,
   "metadata": {},
   "outputs": [
    {
     "name": "stdout",
     "output_type": "stream",
     "text": [
      "0 1 2 3 4 5 6 7 8 9 "
     ]
    }
   ],
   "source": [
    "for i in range(0,10):\n",
    "    print(i, end=\" \")"
   ]
  },
  {
   "cell_type": "markdown",
   "metadata": {},
   "source": [
    "## Einrückung ist wichtig"
   ]
  },
  {
   "cell_type": "code",
   "execution_count": 272,
   "metadata": {},
   "outputs": [
    {
     "name": "stdout",
     "output_type": "stream",
     "text": [
      "Die nächste Zahl ist:\n",
      "Die nächste Zahl ist:\n",
      "Die nächste Zahl ist:\n",
      "Die nächste Zahl ist:\n",
      "Die nächste Zahl ist:\n",
      "4\n"
     ]
    }
   ],
   "source": [
    "for i in range(0,5):\n",
    "    print(\"Die nächste Zahl ist:\")\n",
    "print(i)"
   ]
  },
  {
   "cell_type": "code",
   "execution_count": 273,
   "metadata": {},
   "outputs": [
    {
     "name": "stdout",
     "output_type": "stream",
     "text": [
      "Die nächste Zahl ist:\n",
      "0\n",
      "Die nächste Zahl ist:\n",
      "1\n",
      "Die nächste Zahl ist:\n",
      "2\n",
      "Die nächste Zahl ist:\n",
      "3\n",
      "Die nächste Zahl ist:\n",
      "4\n"
     ]
    }
   ],
   "source": [
    "for i in range(0,5):\n",
    "    print(\"Die nächste Zahl ist:\")\n",
    "    print(i)"
   ]
  },
  {
   "cell_type": "markdown",
   "metadata": {},
   "source": [
    "## range() Varianten"
   ]
  },
  {
   "cell_type": "code",
   "execution_count": 274,
   "metadata": {},
   "outputs": [
    {
     "name": "stdout",
     "output_type": "stream",
     "text": [
      "0 2 4 6 8 "
     ]
    }
   ],
   "source": [
    "for i in range(0,10,2):\n",
    "    print(i, end=\" \")"
   ]
  },
  {
   "cell_type": "code",
   "execution_count": 275,
   "metadata": {},
   "outputs": [
    {
     "name": "stdout",
     "output_type": "stream",
     "text": [
      "10 <class 'int'>\n",
      "8 <class 'int'>\n",
      "6 <class 'int'>\n",
      "4 <class 'int'>\n",
      "2 <class 'int'>\n"
     ]
    }
   ],
   "source": [
    "for i in range(10,0,-2):\n",
    "    print(i, end=\" \")\n",
    "    print(type(i))"
   ]
  },
  {
   "cell_type": "markdown",
   "metadata": {},
   "source": [
    "Und was ist, wenn wir eine gebrochen-zahlige Schrittweite, z.B. 0.5, haben wollen? Folgendes geht nicht:"
   ]
  },
  {
   "cell_type": "code",
   "execution_count": 276,
   "metadata": {},
   "outputs": [
    {
     "ename": "TypeError",
     "evalue": "'float' object cannot be interpreted as an integer",
     "output_type": "error",
     "traceback": [
      "\u001b[1;31m---------------------------------------------------------------------------\u001b[0m",
      "\u001b[1;31mTypeError\u001b[0m                                 Traceback (most recent call last)",
      "\u001b[1;32m<ipython-input-276-0e9887c0540c>\u001b[0m in \u001b[0;36m<module>\u001b[1;34m()\u001b[0m\n\u001b[1;32m----> 1\u001b[1;33m \u001b[1;32mfor\u001b[0m \u001b[0mi\u001b[0m \u001b[1;32min\u001b[0m \u001b[0mrange\u001b[0m\u001b[1;33m(\u001b[0m\u001b[1;36m0.0\u001b[0m\u001b[1;33m,\u001b[0m\u001b[1;36m10.0\u001b[0m\u001b[1;33m,\u001b[0m \u001b[1;36m0.5\u001b[0m\u001b[1;33m)\u001b[0m\u001b[1;33m:\u001b[0m\u001b[1;33m\u001b[0m\u001b[0m\n\u001b[0m\u001b[0;32m      2\u001b[0m     \u001b[0mprint\u001b[0m\u001b[1;33m(\u001b[0m\u001b[0mi\u001b[0m\u001b[1;33m,\u001b[0m \u001b[0mend\u001b[0m\u001b[1;33m=\u001b[0m\u001b[1;34m\" \"\u001b[0m\u001b[1;33m)\u001b[0m\u001b[1;33m\u001b[0m\u001b[0m\n",
      "\u001b[1;31mTypeError\u001b[0m: 'float' object cannot be interpreted as an integer"
     ]
    }
   ],
   "source": [
    "for i in range(0.0,10.0, 0.5):\n",
    "    print(i, end=\" \")"
   ]
  },
  {
   "cell_type": "markdown",
   "metadata": {},
   "source": [
    "Mit Hilfe der Bibliothek \"NumPy\" geht es aber:"
   ]
  },
  {
   "cell_type": "code",
   "execution_count": 277,
   "metadata": {},
   "outputs": [
    {
     "name": "stdout",
     "output_type": "stream",
     "text": [
      "0.0 <class 'numpy.float64'>\n",
      "0.5 <class 'numpy.float64'>\n",
      "1.0 <class 'numpy.float64'>\n",
      "1.5 <class 'numpy.float64'>\n",
      "2.0 <class 'numpy.float64'>\n",
      "2.5 <class 'numpy.float64'>\n",
      "3.0 <class 'numpy.float64'>\n",
      "3.5 <class 'numpy.float64'>\n",
      "4.0 <class 'numpy.float64'>\n",
      "4.5 <class 'numpy.float64'>\n"
     ]
    }
   ],
   "source": [
    "import numpy as np\n",
    "\n",
    "for i in np.arange(0,5,0.5):\n",
    "    print(i, end=\" \")    \n",
    "    print(type(i))"
   ]
  },
  {
   "cell_type": "markdown",
   "metadata": {},
   "source": [
    "## Iterieren über andere sequentielle Datentypen"
   ]
  },
  {
   "cell_type": "markdown",
   "metadata": {},
   "source": [
    "Über die Zeichen eines Strings iterieren:"
   ]
  },
  {
   "cell_type": "code",
   "execution_count": 278,
   "metadata": {},
   "outputs": [
    {
     "name": "stdout",
     "output_type": "stream",
     "text": [
      "D ,i ,e ,s ,  ,i ,s ,t ,  ,e ,i ,n ,  ,S ,t ,r ,i ,n ,g ,"
     ]
    }
   ],
   "source": [
    "for zeichen in \"Dies ist ein String\":\n",
    "    print(zeichen, \",\", end=\"\")"
   ]
  },
  {
   "cell_type": "markdown",
   "metadata": {},
   "source": [
    "Über die Einträge eines Tupels iterieren:"
   ]
  },
  {
   "cell_type": "code",
   "execution_count": 279,
   "metadata": {},
   "outputs": [
    {
     "name": "stdout",
     "output_type": "stream",
     "text": [
      "0\n",
      "5\n",
      "10\n",
      "15\n"
     ]
    }
   ],
   "source": [
    "for argument in (0,5,10,15):\n",
    "    print(argument)"
   ]
  },
  {
   "cell_type": "markdown",
   "metadata": {},
   "source": [
    "## Kleiner Exkurs: Benutzereingabe"
   ]
  },
  {
   "cell_type": "code",
   "execution_count": 280,
   "metadata": {},
   "outputs": [
    {
     "name": "stdout",
     "output_type": "stream",
     "text": [
      "Geben Sie ein paar Zahlen (Kommasepariert) ein: 1,2,3,4,5\n",
      "<class 'str'>\n",
      "Deine Eingabe:  1,2,3,4,5\n"
     ]
    }
   ],
   "source": [
    "eingabe = input(\"Geben Sie ein paar Zahlen (Kommasepariert) ein: \")\n",
    "print(type(eingabe))\n",
    "print(\"Deine Eingabe: \", eingabe)"
   ]
  },
  {
   "cell_type": "markdown",
   "metadata": {},
   "source": [
    "Die Eingabe ist bisher nur ein String. Wir wandeln Sie jetzt in ein Tupel von Zahlen um:"
   ]
  },
  {
   "cell_type": "code",
   "execution_count": 281,
   "metadata": {},
   "outputs": [
    {
     "data": {
      "text/plain": [
       "(1, 2, 3, 4, 5)"
      ]
     },
     "execution_count": 281,
     "metadata": {},
     "output_type": "execute_result"
    }
   ],
   "source": [
    "t = eval(eingabe)\n",
    "t"
   ]
  },
  {
   "cell_type": "code",
   "execution_count": 282,
   "metadata": {},
   "outputs": [
    {
     "name": "stdout",
     "output_type": "stream",
     "text": [
      "1\n",
      "2\n",
      "3\n",
      "4\n",
      "5\n"
     ]
    }
   ],
   "source": [
    "for zahl in t:\n",
    "    print(zahl)"
   ]
  },
  {
   "cell_type": "markdown",
   "metadata": {},
   "source": [
    "## continue: Schleifenfortführung"
   ]
  },
  {
   "cell_type": "code",
   "execution_count": 283,
   "metadata": {},
   "outputs": [
    {
     "name": "stdout",
     "output_type": "stream",
     "text": [
      "Eine ungerade Zahl:  1\n",
      "Eine ungerade Zahl:  3\n",
      "Eine ungerade Zahl:  5\n"
     ]
    }
   ],
   "source": [
    "for zahl in t:\n",
    "    if zahl % 2 == 0:\n",
    "        continue\n",
    "    print(\"Eine ungerade Zahl: \", zahl)"
   ]
  },
  {
   "cell_type": "markdown",
   "metadata": {},
   "source": [
    "## break: Schleifenabbruch"
   ]
  },
  {
   "cell_type": "code",
   "execution_count": 284,
   "metadata": {},
   "outputs": [
    {
     "name": "stdout",
     "output_type": "stream",
     "text": [
      "Ich breche hier ab! Ich mag keine ungeraden Zahlen!\n"
     ]
    }
   ],
   "source": [
    "for zahl in t:\n",
    "    if zahl % 2 == 1:\n",
    "        print(\"Ich breche hier ab! Ich mag keine ungeraden Zahlen!\")\n",
    "        break\n",
    "    print(zahl)"
   ]
  },
  {
   "cell_type": "markdown",
   "metadata": {},
   "source": [
    "## for-Schleifen mit else-Zweig"
   ]
  },
  {
   "cell_type": "markdown",
   "metadata": {},
   "source": [
    "Etwas gewöhnungsbedürftig, aber manchmal hilfreich: in Python gibt es for-Schleifen mit else-Zweig (!):\n",
    "\n",
    "Der else-Zweig einer for-Schleife wird nur im \"Erfolgsfall\" - d.h. beim Durchlaufen über alle Elemente ohne vorzeitigem Abbruch - ausgeführt."
   ]
  },
  {
   "cell_type": "code",
   "execution_count": 285,
   "metadata": {},
   "outputs": [
    {
     "name": "stdout",
     "output_type": "stream",
     "text": [
      "2\n",
      "4\n",
      "10\n",
      "20\n",
      "102\n",
      "Juhu! Alle eingegebenen Zahlen sind gerade!\n"
     ]
    }
   ],
   "source": [
    "t = (2,4,10,20,102)\n",
    "for zahl in t:\n",
    "    if zahl % 2 == 1:\n",
    "        print(\"Ich breche ab! Ich mag keine ungeraden Zahlen!\")\n",
    "        break\n",
    "    print(zahl)\n",
    "else:\n",
    "    print(\"Juhu! Alle eingegebenen Zahlen sind gerade!\")"
   ]
  },
  {
   "cell_type": "markdown",
   "metadata": {},
   "source": [
    "# while-Schleife"
   ]
  },
  {
   "cell_type": "markdown",
   "metadata": {},
   "source": [
    "## Ein erstes einfaches Beispiel"
   ]
  },
  {
   "cell_type": "code",
   "execution_count": 286,
   "metadata": {},
   "outputs": [
    {
     "name": "stdout",
     "output_type": "stream",
     "text": [
      "Passwort: secret456\n",
      "Passwort: sesam öffne dich\n",
      "Passwort: GEHEIM\n",
      "Passwort: GEHEIM123\n",
      "Passwort akzeptiert!\n"
     ]
    }
   ],
   "source": [
    "eingabe = \"\"\n",
    "passwort = \"geheim123\"\n",
    "while eingabe.lower() != passwort:\n",
    "    eingabe = input(\"Passwort: \")\n",
    "print(\"Passwort akzeptiert!\")"
   ]
  },
  {
   "cell_type": "markdown",
   "metadata": {},
   "source": [
    "## else-Zweig bei while-Schleifen"
   ]
  },
  {
   "cell_type": "markdown",
   "metadata": {},
   "source": [
    "Der else-Zweig wird ausgeführt, wenn wir ohne `break` rausspringen:"
   ]
  },
  {
   "cell_type": "code",
   "execution_count": 287,
   "metadata": {},
   "outputs": [
    {
     "name": "stdout",
     "output_type": "stream",
     "text": [
      "Passwort: keine Ahnung\n",
      "Passwort: 123\n",
      "Passwort: GeheiM123\n",
      "Passwort akzeptiert!\n",
      "Das Geheimnis lautet: 42\n",
      "Tschüß!\n"
     ]
    }
   ],
   "source": [
    "eingabe = \"\"\n",
    "passwort = \"geheim123\"\n",
    "while eingabe.lower() != passwort:\n",
    "    eingabe = input(\"Passwort: \")\n",
    "    if eingabe == \"weiß ich nicht\":\n",
    "        break\n",
    "else:\n",
    "    print(\"Passwort akzeptiert!\")\n",
    "    print(\"Das Geheimnis lautet: 42\")\n",
    "print(\"Tschüß!\")"
   ]
  },
  {
   "cell_type": "markdown",
   "metadata": {},
   "source": [
    "# if (Bedingte Anweisung)"
   ]
  },
  {
   "cell_type": "markdown",
   "metadata": {},
   "source": [
    "## Zahlenratebeispiel"
   ]
  },
  {
   "cell_type": "code",
   "execution_count": 288,
   "metadata": {},
   "outputs": [
    {
     "name": "stdout",
     "output_type": "stream",
     "text": [
      "Zahlenraten. Abbruch durch Eingabe von '0'\n",
      "Rate nochmal: 10\n",
      "Kalt!\n",
      "Rate nochmal: 5\n",
      "Kalt!\n",
      "Rate nochmal: 15\n",
      "Heiß!\n",
      "Rate nochmal: 17\n",
      "Heiß!\n",
      "Rate nochmal: 19\n",
      "Heiß!\n",
      "Rate nochmal: 18\n",
      "Heiß!\n",
      "Rate nochmal: 20\n",
      "Heiß!\n",
      "Glückwunsch! Du hast die Zahl erraten.\n",
      "Tschüß!\n"
     ]
    }
   ],
   "source": [
    "print(\"Zahlenraten. Abbruch durch Eingabe von '0'\")\n",
    "\n",
    "from random import *\n",
    "zz = randint(1,20)\n",
    "\n",
    "ez = 0\n",
    "while ez != zz:\n",
    "    ez = int(input(\"Rate nochmal: \"))\n",
    "    if ez == 0:\n",
    "        break\n",
    "    diff = abs(zz-ez)\n",
    "    if diff <= 5:\n",
    "        print(\"Heiß!\")\n",
    "    else:\n",
    "        print(\"Kalt!\")\n",
    "else:\n",
    "    print(\"Glückwunsch! Du hast die Zahl erraten.\")\n",
    "print(\"Tschüß!\")"
   ]
  },
  {
   "cell_type": "markdown",
   "metadata": {},
   "source": [
    "## Mehrfachfallunterscheidung mit else"
   ]
  },
  {
   "cell_type": "code",
   "execution_count": 289,
   "metadata": {},
   "outputs": [
    {
     "name": "stdout",
     "output_type": "stream",
     "text": [
      "Zahlenraten. Abbruch durch Eingabe von '0'\n",
      "Rate nochmal: 10\n",
      "Heiß!\n",
      "Rate nochmal: 15\n",
      "Heiß!\n",
      "Rate nochmal: 17\n",
      "Heiß!\n",
      "Rate nochmal: 19\n",
      "Warm!\n",
      "Rate nochmal: 18\n",
      "Warm!\n",
      "Rate nochmal: 16\n",
      "Heiß!\n",
      "Rate nochmal: 14\n",
      "Heiß!\n",
      "Rate nochmal: 12\n",
      "Heiß!\n",
      "Glückwunsch! Du hast die Zahl erraten.\n",
      "Tschüß!\n"
     ]
    }
   ],
   "source": [
    "print(\"Zahlenraten. Abbruch durch Eingabe von '0'\")\n",
    "\n",
    "from random import *\n",
    "zz = randint(1,20)\n",
    "\n",
    "ez = 0\n",
    "while ez != zz:\n",
    "    ez = int(input(\"Rate nochmal: \"))\n",
    "    if ez == 0:\n",
    "        break\n",
    "    diff = abs(zz-ez)\n",
    "    if diff <= 5:\n",
    "        print(\"Heiß!\")\n",
    "    else:\n",
    "        if diff <= 7:\n",
    "            print(\"Warm!\")\n",
    "        else:\n",
    "            if diff <= 9:\n",
    "                print(\"Lauwarm!\")\n",
    "            else:\n",
    "                print(\"Kalt!\")\n",
    "else:\n",
    "    print(\"Glückwunsch! Du hast die Zahl erraten.\")\n",
    "print(\"Tschüß!\")"
   ]
  },
  {
   "cell_type": "markdown",
   "metadata": {},
   "source": [
    "## Mehrfachfallunterscheidung mit elif"
   ]
  },
  {
   "cell_type": "code",
   "execution_count": 290,
   "metadata": {},
   "outputs": [
    {
     "name": "stdout",
     "output_type": "stream",
     "text": [
      "Zahlenraten. Abbruch durch Eingabe von '0'\n",
      "Rate nochmal: 10\n",
      "Heiß!\n",
      "Rate nochmal: 5\n",
      "Heiß!\n",
      "Rate nochmal: 3\n",
      "Heiß!\n",
      "Rate nochmal: 2\n",
      "Heiß!\n",
      "Rate nochmal: 1\n",
      "Heiß!\n",
      "Rate nochmal: 4\n",
      "Heiß!\n",
      "Rate nochmal: 6\n",
      "Heiß!\n",
      "Glückwunsch! Du hast die Zahl erraten.\n",
      "Tschüß!\n"
     ]
    }
   ],
   "source": [
    "print(\"Zahlenraten. Abbruch durch Eingabe von '0'\")\n",
    "\n",
    "from random import *\n",
    "zz = randint(1,20)\n",
    "\n",
    "ez = 0\n",
    "while ez != zz:\n",
    "    ez = int(input(\"Rate nochmal: \"))\n",
    "    if ez == 0:\n",
    "        break\n",
    "    diff = abs(zz-ez)\n",
    "    if diff <= 5:\n",
    "        print(\"Heiß!\")\n",
    "    elif diff <= 7:\n",
    "        print(\"Warm!\")\n",
    "    elif diff <= 9:\n",
    "        print(\"Lauwarm!\")\n",
    "    else:\n",
    "        print(\"Kalt!\")\n",
    "else:\n",
    "    print(\"Glückwunsch! Du hast die Zahl erraten.\")\n",
    "print(\"Tschüß!\")"
   ]
  },
  {
   "cell_type": "markdown",
   "metadata": {},
   "source": [
    "# Funktionen\n",
    "\n",
    "Sinn von Funktionen ist es, Anweisungen, die öfters verwendet werden zu bündeln, so dass sie mehrfach verwendet werden können, ohne den Code kopieren zu müssen.\n",
    "\n",
    "Zudem helfen Funktionen den Code besser zu strukturieren und damit übersichtlicher zu gestalten."
   ]
  },
  {
   "cell_type": "markdown",
   "metadata": {},
   "source": [
    "## Syntax der Definition einer Funktion"
   ]
  },
  {
   "cell_type": "code",
   "execution_count": 291,
   "metadata": {
    "collapsed": true
   },
   "outputs": [],
   "source": [
    "import math\n",
    "\n",
    "def kreisumfang(radius):\n",
    "    \n",
    "    kreisumfang = 2 * math.pi * radius\n",
    "    return kreisumfang"
   ]
  },
  {
   "cell_type": "code",
   "execution_count": 292,
   "metadata": {
    "collapsed": true
   },
   "outputs": [],
   "source": [
    "u = kreisumfang(10.0)"
   ]
  },
  {
   "cell_type": "code",
   "execution_count": 293,
   "metadata": {},
   "outputs": [
    {
     "data": {
      "text/plain": [
       "62.83185307179586"
      ]
     },
     "execution_count": 293,
     "metadata": {},
     "output_type": "execute_result"
    }
   ],
   "source": [
    "u"
   ]
  },
  {
   "cell_type": "code",
   "execution_count": 294,
   "metadata": {},
   "outputs": [
    {
     "data": {
      "text/plain": [
       "function"
      ]
     },
     "execution_count": 294,
     "metadata": {},
     "output_type": "execute_result"
    }
   ],
   "source": [
    "type(kreisumfang)"
   ]
  },
  {
   "cell_type": "markdown",
   "metadata": {},
   "source": [
    "## Leere Funktion"
   ]
  },
  {
   "cell_type": "markdown",
   "metadata": {},
   "source": [
    "Man muss in eine Funktion mindestens eine Anweisung rein schreiben, sonst gibt es einen Fehler:"
   ]
  },
  {
   "cell_type": "code",
   "execution_count": 295,
   "metadata": {},
   "outputs": [
    {
     "ename": "SyntaxError",
     "evalue": "unexpected EOF while parsing (<ipython-input-295-425fdc7c4190>, line 2)",
     "output_type": "error",
     "traceback": [
      "\u001b[1;36m  File \u001b[1;32m\"<ipython-input-295-425fdc7c4190>\"\u001b[1;36m, line \u001b[1;32m2\u001b[0m\n\u001b[1;33m    \u001b[0m\n\u001b[1;37m    ^\u001b[0m\n\u001b[1;31mSyntaxError\u001b[0m\u001b[1;31m:\u001b[0m unexpected EOF while parsing\n"
     ]
    }
   ],
   "source": [
    "def kreisflaeche(radius):\n",
    "    "
   ]
  },
  {
   "cell_type": "code",
   "execution_count": 296,
   "metadata": {
    "collapsed": true
   },
   "outputs": [],
   "source": [
    "def kreisflaeche(radius):\n",
    "    print(\"Wird demnächst noch implementiert!\")"
   ]
  },
  {
   "cell_type": "code",
   "execution_count": 297,
   "metadata": {},
   "outputs": [
    {
     "name": "stdout",
     "output_type": "stream",
     "text": [
      "Wird demnächst noch implementiert!\n"
     ]
    }
   ],
   "source": [
    "kreisflaeche(10)"
   ]
  },
  {
   "cell_type": "markdown",
   "metadata": {},
   "source": [
    "Ein Kommentar reicht nicht, um die Funktionsdefinition gültig zu machen. Es muss schon eine Anweisung sein:"
   ]
  },
  {
   "cell_type": "code",
   "execution_count": 298,
   "metadata": {},
   "outputs": [
    {
     "ename": "SyntaxError",
     "evalue": "unexpected EOF while parsing (<ipython-input-298-1fb78979eb7d>, line 2)",
     "output_type": "error",
     "traceback": [
      "\u001b[1;36m  File \u001b[1;32m\"<ipython-input-298-1fb78979eb7d>\"\u001b[1;36m, line \u001b[1;32m2\u001b[0m\n\u001b[1;33m    # Wird demnächst noch implementiert!\u001b[0m\n\u001b[1;37m                                        ^\u001b[0m\n\u001b[1;31mSyntaxError\u001b[0m\u001b[1;31m:\u001b[0m unexpected EOF while parsing\n"
     ]
    }
   ],
   "source": [
    "def kreisflaeche(radius):\n",
    "    # Wird demnächst noch implementiert!"
   ]
  },
  {
   "cell_type": "markdown",
   "metadata": {},
   "source": [
    "Deswegen gibt es die besondere Python-Anweisung `pass`, die nichts macht!"
   ]
  },
  {
   "cell_type": "code",
   "execution_count": 299,
   "metadata": {
    "collapsed": true
   },
   "outputs": [],
   "source": [
    "def kreisflaeche(radius):\n",
    "    pass"
   ]
  },
  {
   "cell_type": "code",
   "execution_count": 300,
   "metadata": {
    "collapsed": true
   },
   "outputs": [],
   "source": [
    "kreisflaeche(10)"
   ]
  },
  {
   "cell_type": "markdown",
   "metadata": {},
   "source": [
    "## Funktionen, die nichts zurückgeben"
   ]
  },
  {
   "cell_type": "code",
   "execution_count": 301,
   "metadata": {
    "collapsed": true
   },
   "outputs": [],
   "source": [
    "def zeige_hilfe():\n",
    "    print(\"Hier einige Hilfsinformationen ...\")"
   ]
  },
  {
   "cell_type": "code",
   "execution_count": 302,
   "metadata": {},
   "outputs": [
    {
     "name": "stdout",
     "output_type": "stream",
     "text": [
      "Hier einige Hilfsinformationen ...\n"
     ]
    }
   ],
   "source": [
    "zeige_hilfe()"
   ]
  },
  {
   "cell_type": "code",
   "execution_count": 303,
   "metadata": {},
   "outputs": [
    {
     "name": "stdout",
     "output_type": "stream",
     "text": [
      "Hier einige Hilfsinformationen ...\n"
     ]
    }
   ],
   "source": [
    "ergebnis = zeige_hilfe()"
   ]
  },
  {
   "cell_type": "markdown",
   "metadata": {},
   "source": [
    "Wenn eine Funktion nichts zurück gibt, ist der zurückgebene Datentyp `None`:"
   ]
  },
  {
   "cell_type": "code",
   "execution_count": 304,
   "metadata": {},
   "outputs": [
    {
     "name": "stdout",
     "output_type": "stream",
     "text": [
      "None\n"
     ]
    }
   ],
   "source": [
    "print(ergebnis)"
   ]
  },
  {
   "cell_type": "markdown",
   "metadata": {},
   "source": [
    "## Docstring"
   ]
  },
  {
   "cell_type": "markdown",
   "metadata": {},
   "source": [
    "Jede Funktion besitzt einen sog. Docstring, der zu Dokumentationszwecken dient und über\n",
    "\n",
    "    help(<Funktionsname>)\n",
    "    \n",
    "abgerufen werden kann."
   ]
  },
  {
   "cell_type": "code",
   "execution_count": 305,
   "metadata": {},
   "outputs": [
    {
     "name": "stdout",
     "output_type": "stream",
     "text": [
      "Help on built-in function print in module builtins:\n",
      "\n",
      "print(...)\n",
      "    print(value, ..., sep=' ', end='\\n', file=sys.stdout, flush=False)\n",
      "    \n",
      "    Prints the values to a stream, or to sys.stdout by default.\n",
      "    Optional keyword arguments:\n",
      "    file:  a file-like object (stream); defaults to the current sys.stdout.\n",
      "    sep:   string inserted between values, default a space.\n",
      "    end:   string appended after the last value, default a newline.\n",
      "    flush: whether to forcibly flush the stream.\n",
      "\n"
     ]
    }
   ],
   "source": [
    "help(print)"
   ]
  },
  {
   "cell_type": "code",
   "execution_count": 306,
   "metadata": {},
   "outputs": [
    {
     "name": "stdout",
     "output_type": "stream",
     "text": [
      "Help on built-in function sorted in module builtins:\n",
      "\n",
      "sorted(iterable, /, *, key=None, reverse=False)\n",
      "    Return a new list containing all items from the iterable in ascending order.\n",
      "    \n",
      "    A custom key function can be supplied to customize the sort order, and the\n",
      "    reverse flag can be set to request the result in descending order.\n",
      "\n"
     ]
    }
   ],
   "source": [
    "help(sorted)"
   ]
  },
  {
   "cell_type": "code",
   "execution_count": 307,
   "metadata": {},
   "outputs": [
    {
     "name": "stdout",
     "output_type": "stream",
     "text": [
      "Help on built-in function sort:\n",
      "\n",
      "sort(...) method of builtins.list instance\n",
      "    L.sort(key=None, reverse=False) -> None -- stable sort *IN PLACE*\n",
      "\n"
     ]
    }
   ],
   "source": [
    "liste = [1,2,3]\n",
    "help(liste.sort)"
   ]
  },
  {
   "cell_type": "markdown",
   "metadata": {},
   "source": [
    "Der Docstring wird in der Membervariablen __doc__ des entsprechenden Objektes gespeichert:"
   ]
  },
  {
   "cell_type": "code",
   "execution_count": 308,
   "metadata": {},
   "outputs": [
    {
     "data": {
      "text/plain": [
       "\"print(value, ..., sep=' ', end='\\\\n', file=sys.stdout, flush=False)\\n\\nPrints the values to a stream, or to sys.stdout by default.\\nOptional keyword arguments:\\nfile:  a file-like object (stream); defaults to the current sys.stdout.\\nsep:   string inserted between values, default a space.\\nend:   string appended after the last value, default a newline.\\nflush: whether to forcibly flush the stream.\""
      ]
     },
     "execution_count": 308,
     "metadata": {},
     "output_type": "execute_result"
    }
   ],
   "source": [
    "print.__doc__"
   ]
  },
  {
   "cell_type": "code",
   "execution_count": 309,
   "metadata": {},
   "outputs": [
    {
     "data": {
      "text/plain": [
       "'Return a new list containing all items from the iterable in ascending order.\\n\\nA custom key function can be supplied to customize the sort order, and the\\nreverse flag can be set to request the result in descending order.'"
      ]
     },
     "execution_count": 309,
     "metadata": {},
     "output_type": "execute_result"
    }
   ],
   "source": [
    "sorted.__doc__"
   ]
  },
  {
   "cell_type": "markdown",
   "metadata": {},
   "source": [
    "Auch für eigene Funktionen kann ein eigener Docstring festgelegt werden, wenn es noch keinen gibt:"
   ]
  },
  {
   "cell_type": "code",
   "execution_count": 310,
   "metadata": {
    "collapsed": true
   },
   "outputs": [],
   "source": [
    "kreisumfang.__doc__"
   ]
  },
  {
   "cell_type": "code",
   "execution_count": 311,
   "metadata": {},
   "outputs": [
    {
     "name": "stdout",
     "output_type": "stream",
     "text": [
      "Help on function kreisumfang in module __main__:\n",
      "\n",
      "kreisumfang(radius)\n",
      "\n"
     ]
    }
   ],
   "source": [
    "help(kreisumfang)"
   ]
  },
  {
   "cell_type": "code",
   "execution_count": 312,
   "metadata": {
    "collapsed": true
   },
   "outputs": [],
   "source": [
    "import math\n",
    "\n",
    "def kreisumfang(radius):\n",
    "    \"Diese Funktion berechnet den Umfang eines Kreises bei geg. Radius\"\n",
    "    \n",
    "    kreisumfang = 2 * math.pi * radius\n",
    "    return kreisumfang"
   ]
  },
  {
   "cell_type": "code",
   "execution_count": 313,
   "metadata": {},
   "outputs": [
    {
     "name": "stdout",
     "output_type": "stream",
     "text": [
      "Help on function kreisumfang in module __main__:\n",
      "\n",
      "kreisumfang(radius)\n",
      "    Diese Funktion berechnet den Umfang eines Kreises bei geg. Radius\n",
      "\n"
     ]
    }
   ],
   "source": [
    "help(kreisumfang)"
   ]
  },
  {
   "cell_type": "code",
   "execution_count": 314,
   "metadata": {
    "collapsed": true
   },
   "outputs": [],
   "source": [
    "import math\n",
    "\n",
    "def kreisumfang(radius):\n",
    "    \"\"\"\n",
    "    Diese Funktion berechnet den Kreisumfang\n",
    "        \n",
    "    Geben Sie doch den Radius eines Kreises an.\n",
    "    Sie werden staunen! Als Rückgabewert erhalten\n",
    "    Sie dann den Kreisumfang!\n",
    "    \"\"\"\n",
    "    \n",
    "    kreisumfang = 2 * math.pi * radius\n",
    "    return kreisumfang"
   ]
  },
  {
   "cell_type": "code",
   "execution_count": 315,
   "metadata": {},
   "outputs": [
    {
     "name": "stdout",
     "output_type": "stream",
     "text": [
      "Help on function kreisumfang in module __main__:\n",
      "\n",
      "kreisumfang(radius)\n",
      "    Diese Funktion berechnet den Kreisumfang\n",
      "        \n",
      "    Geben Sie doch den Radius eines Kreises an.\n",
      "    Sie werden staunen! Als Rückgabewert erhalten\n",
      "    Sie dann den Kreisumfang!\n",
      "\n"
     ]
    }
   ],
   "source": [
    "help(kreisumfang)"
   ]
  },
  {
   "cell_type": "markdown",
   "metadata": {},
   "source": [
    "Später werden wir sehen, dass auch Module, Klassen und Klassenmethoden mittels Docstrings dokumentiert werden können."
   ]
  },
  {
   "cell_type": "markdown",
   "metadata": {},
   "source": [
    "## Standardwerte für Funktionsargumente"
   ]
  },
  {
   "cell_type": "code",
   "execution_count": 316,
   "metadata": {
    "collapsed": true
   },
   "outputs": [],
   "source": [
    "def jahre_nach_tage(jahre=10):\n",
    "    s = \"{0} Jahre entsprechen {1} Tage\".format(jahre, jahre*365)\n",
    "    print(s)"
   ]
  },
  {
   "cell_type": "code",
   "execution_count": 317,
   "metadata": {},
   "outputs": [
    {
     "name": "stdout",
     "output_type": "stream",
     "text": [
      "5 Jahre entsprechen 1825 Tage\n"
     ]
    }
   ],
   "source": [
    "jahre_nach_tage(5)"
   ]
  },
  {
   "cell_type": "code",
   "execution_count": 318,
   "metadata": {},
   "outputs": [
    {
     "name": "stdout",
     "output_type": "stream",
     "text": [
      "10 Jahre entsprechen 3650 Tage\n"
     ]
    }
   ],
   "source": [
    "jahre_nach_tage()"
   ]
  },
  {
   "cell_type": "code",
   "execution_count": 319,
   "metadata": {},
   "outputs": [
    {
     "name": "stdout",
     "output_type": "stream",
     "text": [
      "7 Jahre entsprechen 2555 Tage\n"
     ]
    }
   ],
   "source": [
    "jahre_nach_tage(jahre=7)"
   ]
  },
  {
   "cell_type": "markdown",
   "metadata": {},
   "source": [
    "Folgendes Funktionsargument `years` gibt es nicht. Daher wird es einen Fehler geben:"
   ]
  },
  {
   "cell_type": "code",
   "execution_count": 320,
   "metadata": {},
   "outputs": [
    {
     "ename": "TypeError",
     "evalue": "jahre_nach_tage() got an unexpected keyword argument 'years'",
     "output_type": "error",
     "traceback": [
      "\u001b[1;31m---------------------------------------------------------------------------\u001b[0m",
      "\u001b[1;31mTypeError\u001b[0m                                 Traceback (most recent call last)",
      "\u001b[1;32m<ipython-input-320-9353895d52f0>\u001b[0m in \u001b[0;36m<module>\u001b[1;34m()\u001b[0m\n\u001b[1;32m----> 1\u001b[1;33m \u001b[0mjahre_nach_tage\u001b[0m\u001b[1;33m(\u001b[0m\u001b[0myears\u001b[0m\u001b[1;33m=\u001b[0m\u001b[1;36m12\u001b[0m\u001b[1;33m)\u001b[0m\u001b[1;33m\u001b[0m\u001b[0m\n\u001b[0m",
      "\u001b[1;31mTypeError\u001b[0m: jahre_nach_tage() got an unexpected keyword argument 'years'"
     ]
    }
   ],
   "source": [
    "jahre_nach_tage(years=12)"
   ]
  },
  {
   "cell_type": "code",
   "execution_count": 321,
   "metadata": {
    "collapsed": true
   },
   "outputs": [],
   "source": [
    "def foo(a=3, b=3):\n",
    "    print(\"a^2 + b = {0}^2 + {1} =\".format(a,b), a**2+b)"
   ]
  },
  {
   "cell_type": "code",
   "execution_count": 322,
   "metadata": {},
   "outputs": [
    {
     "name": "stdout",
     "output_type": "stream",
     "text": [
      "a^2 + b = 3^2 + 3 = 12\n"
     ]
    }
   ],
   "source": [
    "foo()"
   ]
  },
  {
   "cell_type": "code",
   "execution_count": 323,
   "metadata": {},
   "outputs": [
    {
     "name": "stdout",
     "output_type": "stream",
     "text": [
      "a^2 + b = 3^2 + 4 = 13\n"
     ]
    }
   ],
   "source": [
    "foo(b=4)"
   ]
  },
  {
   "cell_type": "code",
   "execution_count": 324,
   "metadata": {},
   "outputs": [
    {
     "name": "stdout",
     "output_type": "stream",
     "text": [
      "a^2 + b = 2^2 + 3 = 7\n"
     ]
    }
   ],
   "source": [
    "foo(a=2)"
   ]
  },
  {
   "cell_type": "code",
   "execution_count": 325,
   "metadata": {},
   "outputs": [
    {
     "name": "stdout",
     "output_type": "stream",
     "text": [
      "a^2 + b = 7^2 + 3 = 52\n"
     ]
    }
   ],
   "source": [
    "foo(7)"
   ]
  },
  {
   "cell_type": "code",
   "execution_count": 326,
   "metadata": {},
   "outputs": [
    {
     "name": "stdout",
     "output_type": "stream",
     "text": [
      "a^2 + b = 7^2 + 9 = 58\n"
     ]
    }
   ],
   "source": [
    "foo(7,9)"
   ]
  },
  {
   "cell_type": "markdown",
   "metadata": {},
   "source": [
    "Benennen wir die Parameter beim Aufruf explizit, dann hat dies den Vorteil, dass es die Lesbarkeit/Nachvollziehbarkeit des Codes erhöhen kann."
   ]
  },
  {
   "cell_type": "code",
   "execution_count": 327,
   "metadata": {},
   "outputs": [
    {
     "name": "stdout",
     "output_type": "stream",
     "text": [
      "a^2 + b = 7^2 + 9 = 58\n"
     ]
    }
   ],
   "source": [
    "foo(a=7,b=9)"
   ]
  },
  {
   "cell_type": "markdown",
   "metadata": {},
   "source": [
    "## Funktionen mit mehreren Rückgabewerten"
   ]
  },
  {
   "cell_type": "code",
   "execution_count": 328,
   "metadata": {
    "collapsed": true
   },
   "outputs": [],
   "source": [
    "def mittelwerte(liste):\n",
    "    return (3, 4)"
   ]
  },
  {
   "cell_type": "code",
   "execution_count": 329,
   "metadata": {
    "collapsed": true
   },
   "outputs": [],
   "source": [
    "ergebnis = mittelwerte([])"
   ]
  },
  {
   "cell_type": "code",
   "execution_count": 330,
   "metadata": {},
   "outputs": [
    {
     "data": {
      "text/plain": [
       "(3, 4)"
      ]
     },
     "execution_count": 330,
     "metadata": {},
     "output_type": "execute_result"
    }
   ],
   "source": [
    "ergebnis"
   ]
  },
  {
   "cell_type": "code",
   "execution_count": 331,
   "metadata": {},
   "outputs": [
    {
     "data": {
      "text/plain": [
       "tuple"
      ]
     },
     "execution_count": 331,
     "metadata": {},
     "output_type": "execute_result"
    }
   ],
   "source": [
    "type(ergebnis)"
   ]
  },
  {
   "cell_type": "markdown",
   "metadata": {},
   "source": [
    "## Quiz-Time!\n",
    "\n",
    "Schreiben Sie die Funktion `Mittelwerte()`, so dass für eine gegebene Liste von Zahlen sowohl das arithmetische Mittel, als auch der Median zurückgegeben wird!"
   ]
  },
  {
   "cell_type": "code",
   "execution_count": 332,
   "metadata": {
    "collapsed": true
   },
   "outputs": [],
   "source": [
    "liste1 = [100, 20, 50, 90, 10]"
   ]
  },
  {
   "cell_type": "code",
   "execution_count": 333,
   "metadata": {},
   "outputs": [
    {
     "data": {
      "text/plain": [
       "[100, 20, 50, 90, 10]"
      ]
     },
     "execution_count": 333,
     "metadata": {},
     "output_type": "execute_result"
    }
   ],
   "source": [
    "liste1"
   ]
  },
  {
   "cell_type": "code",
   "execution_count": 334,
   "metadata": {
    "collapsed": true
   },
   "outputs": [],
   "source": [
    "def mittelwerte(liste):\n",
    "    \"\"\"\n",
    "    Diese Funktion berechnet gleich zwei Mittelwerte:\n",
    "    das arithmetische Mittel und den Median\n",
    "    \n",
    "    Eingabe: eine Liste von Zahlen\n",
    "    Rückgabewert: ein Zweitupel (arithm. Mittelwert, Median)\n",
    "    \"\"\"\n",
    "    \n",
    "    N = len(liste)\n",
    "    \n",
    "    # 1. Berechne arithmetisches Mittel\n",
    "    summe = 0\n",
    "    for i in liste:\n",
    "        summe += i\n",
    "    arith_mittel = summe / N\n",
    "    \n",
    "    # 2. Berechne Median\n",
    "    liste_sortiert = sorted(liste)\n",
    "    print(liste_sortiert)\n",
    "    N = len(liste_sortiert)    \n",
    "    if len(liste_sortiert) % 2 == 1:\n",
    "        median = liste_sortiert[N//2]\n",
    "    else:\n",
    "        median = (liste_sortiert[N//2-1] + liste_sortiert[(N//2)])/2\n",
    "    \n",
    "    # 3. Gebe beide Mittelwerte zurück\n",
    "    return (arith_mittel, median)"
   ]
  },
  {
   "cell_type": "code",
   "execution_count": 335,
   "metadata": {},
   "outputs": [
    {
     "name": "stdout",
     "output_type": "stream",
     "text": [
      "[10, 20, 50, 90, 100]\n"
     ]
    },
    {
     "data": {
      "text/plain": [
       "(54.0, 50)"
      ]
     },
     "execution_count": 335,
     "metadata": {},
     "output_type": "execute_result"
    }
   ],
   "source": [
    "mittelwerte(liste1)"
   ]
  },
  {
   "cell_type": "code",
   "execution_count": 336,
   "metadata": {},
   "outputs": [
    {
     "name": "stdout",
     "output_type": "stream",
     "text": [
      "[10, 20, 50, 60, 90, 100]\n"
     ]
    },
    {
     "data": {
      "text/plain": [
       "(55.0, 55.0)"
      ]
     },
     "execution_count": 336,
     "metadata": {},
     "output_type": "execute_result"
    }
   ],
   "source": [
    "liste2 = [100, 20, 50, 90, 10, 60]\n",
    "mittelwerte(liste2)"
   ]
  },
  {
   "cell_type": "code",
   "execution_count": 337,
   "metadata": {},
   "outputs": [
    {
     "name": "stdout",
     "output_type": "stream",
     "text": [
      "Help on function mittelwerte in module __main__:\n",
      "\n",
      "mittelwerte(liste)\n",
      "    Diese Funktion berechnet gleich zwei Mittelwerte:\n",
      "    das arithmetische Mittel und den Median\n",
      "    \n",
      "    Eingabe: eine Liste von Zahlen\n",
      "    Rückgabewert: ein Zweitupel (arithm. Mittelwert, Median)\n",
      "\n"
     ]
    }
   ],
   "source": [
    "help(mittelwerte)"
   ]
  },
  {
   "cell_type": "markdown",
   "metadata": {},
   "source": [
    "## Sicherheitsüberprüfung für Funktionsargumente"
   ]
  },
  {
   "cell_type": "markdown",
   "metadata": {},
   "source": [
    "Aktuell könnte man die Funktion `mittelwerte` auch mit ungültigen Eingaben aufrufen:"
   ]
  },
  {
   "cell_type": "code",
   "execution_count": 338,
   "metadata": {},
   "outputs": [
    {
     "ename": "TypeError",
     "evalue": "unsupported operand type(s) for +=: 'int' and 'str'",
     "output_type": "error",
     "traceback": [
      "\u001b[1;31m---------------------------------------------------------------------------\u001b[0m",
      "\u001b[1;31mTypeError\u001b[0m                                 Traceback (most recent call last)",
      "\u001b[1;32m<ipython-input-338-32e0677df023>\u001b[0m in \u001b[0;36m<module>\u001b[1;34m()\u001b[0m\n\u001b[1;32m----> 1\u001b[1;33m \u001b[0mmittelwerte\u001b[0m\u001b[1;33m(\u001b[0m \u001b[1;34m\"ÄtschiBätsch! Nix Liste als Eingabe hier!\"\u001b[0m \u001b[1;33m)\u001b[0m\u001b[1;33m\u001b[0m\u001b[0m\n\u001b[0m",
      "\u001b[1;32m<ipython-input-334-fd88ba2af231>\u001b[0m in \u001b[0;36mmittelwerte\u001b[1;34m(liste)\u001b[0m\n\u001b[0;32m     13\u001b[0m     \u001b[0msumme\u001b[0m \u001b[1;33m=\u001b[0m \u001b[1;36m0\u001b[0m\u001b[1;33m\u001b[0m\u001b[0m\n\u001b[0;32m     14\u001b[0m     \u001b[1;32mfor\u001b[0m \u001b[0mi\u001b[0m \u001b[1;32min\u001b[0m \u001b[0mliste\u001b[0m\u001b[1;33m:\u001b[0m\u001b[1;33m\u001b[0m\u001b[0m\n\u001b[1;32m---> 15\u001b[1;33m         \u001b[0msumme\u001b[0m \u001b[1;33m+=\u001b[0m \u001b[0mi\u001b[0m\u001b[1;33m\u001b[0m\u001b[0m\n\u001b[0m\u001b[0;32m     16\u001b[0m     \u001b[0marith_mittel\u001b[0m \u001b[1;33m=\u001b[0m \u001b[0msumme\u001b[0m \u001b[1;33m/\u001b[0m \u001b[0mN\u001b[0m\u001b[1;33m\u001b[0m\u001b[0m\n\u001b[0;32m     17\u001b[0m \u001b[1;33m\u001b[0m\u001b[0m\n",
      "\u001b[1;31mTypeError\u001b[0m: unsupported operand type(s) for +=: 'int' and 'str'"
     ]
    }
   ],
   "source": [
    "mittelwerte( \"ÄtschiBätsch! Nix Liste als Eingabe hier!\" )"
   ]
  },
  {
   "cell_type": "code",
   "execution_count": 339,
   "metadata": {
    "collapsed": true
   },
   "outputs": [],
   "source": [
    "def mittelwerte2(liste):\n",
    "    \"\"\"\n",
    "    Diese Funktion berechnet gleich zwei Mittelwerte:\n",
    "    das arithmetische Mittel und den Median\n",
    "    \n",
    "    Eingabe: eine Liste von Zahlen\n",
    "    Rückgabewert: ein Zweitupel (arithm. Mittelwert, Median)\n",
    "    \"\"\"\n",
    "    \n",
    "    # Checke ob Eingabe wirklich eine Liste ist!\n",
    "    if not isinstance(liste, list):\n",
    "        print(\"Hey! Als Eingabe bitte nur eine Liste!\")\n",
    "        return\n",
    "    \n",
    "    N = len(liste)\n",
    "    \n",
    "    # 1. Berechne arithmetisches Mittel\n",
    "    summe = 0\n",
    "    for i in liste:\n",
    "        summe += i\n",
    "    arith_mittel = summe / N\n",
    "    \n",
    "    # 2. Berechne Median\n",
    "    liste_sortiert = sorted(liste)\n",
    "    print(liste_sortiert)\n",
    "    N = len(liste_sortiert)    \n",
    "    if len(liste_sortiert) % 2 == 1:\n",
    "        median = liste_sortiert[N//2]\n",
    "    else:\n",
    "        median = (liste_sortiert[N//2-1] + liste_sortiert[(N//2)])/2\n",
    "    \n",
    "    # 3. Gebe beide Mittelwerte zurück\n",
    "    return (arith_mittel, median)"
   ]
  },
  {
   "cell_type": "code",
   "execution_count": 340,
   "metadata": {},
   "outputs": [
    {
     "name": "stdout",
     "output_type": "stream",
     "text": [
      "Hey! Als Eingabe bitte nur eine Liste!\n"
     ]
    }
   ],
   "source": [
    "mittelwerte2( \"ÄtschiBätsch! Nix Liste als Eingabe hier!\" )"
   ]
  },
  {
   "cell_type": "markdown",
   "metadata": {},
   "source": [
    "Jetzt tricksen wir die Funktion `mittelwerte2` aus:"
   ]
  },
  {
   "cell_type": "code",
   "execution_count": 341,
   "metadata": {},
   "outputs": [
    {
     "ename": "TypeError",
     "evalue": "unsupported operand type(s) for +=: 'int' and 'str'",
     "output_type": "error",
     "traceback": [
      "\u001b[1;31m---------------------------------------------------------------------------\u001b[0m",
      "\u001b[1;31mTypeError\u001b[0m                                 Traceback (most recent call last)",
      "\u001b[1;32m<ipython-input-341-40280b22e244>\u001b[0m in \u001b[0;36m<module>\u001b[1;34m()\u001b[0m\n\u001b[1;32m----> 1\u001b[1;33m \u001b[0mmittelwerte2\u001b[0m\u001b[1;33m(\u001b[0m \u001b[1;33m[\u001b[0m\u001b[1;34m\"Hier\"\u001b[0m\u001b[1;33m,\u001b[0m \u001b[1;34m\"hast\"\u001b[0m\u001b[1;33m,\u001b[0m \u001b[1;34m\"du\"\u001b[0m\u001b[1;33m,\u001b[0m \u001b[1;34m\"eine\"\u001b[0m\u001b[1;33m,\u001b[0m \u001b[1;34m\"Liste!\"\u001b[0m\u001b[1;33m]\u001b[0m \u001b[1;33m)\u001b[0m\u001b[1;33m\u001b[0m\u001b[0m\n\u001b[0m",
      "\u001b[1;32m<ipython-input-339-162c7b053de9>\u001b[0m in \u001b[0;36mmittelwerte2\u001b[1;34m(liste)\u001b[0m\n\u001b[0;32m     18\u001b[0m     \u001b[0msumme\u001b[0m \u001b[1;33m=\u001b[0m \u001b[1;36m0\u001b[0m\u001b[1;33m\u001b[0m\u001b[0m\n\u001b[0;32m     19\u001b[0m     \u001b[1;32mfor\u001b[0m \u001b[0mi\u001b[0m \u001b[1;32min\u001b[0m \u001b[0mliste\u001b[0m\u001b[1;33m:\u001b[0m\u001b[1;33m\u001b[0m\u001b[0m\n\u001b[1;32m---> 20\u001b[1;33m         \u001b[0msumme\u001b[0m \u001b[1;33m+=\u001b[0m \u001b[0mi\u001b[0m\u001b[1;33m\u001b[0m\u001b[0m\n\u001b[0m\u001b[0;32m     21\u001b[0m     \u001b[0marith_mittel\u001b[0m \u001b[1;33m=\u001b[0m \u001b[0msumme\u001b[0m \u001b[1;33m/\u001b[0m \u001b[0mN\u001b[0m\u001b[1;33m\u001b[0m\u001b[0m\n\u001b[0;32m     22\u001b[0m \u001b[1;33m\u001b[0m\u001b[0m\n",
      "\u001b[1;31mTypeError\u001b[0m: unsupported operand type(s) for +=: 'int' and 'str'"
     ]
    }
   ],
   "source": [
    "mittelwerte2( [\"Hier\", \"hast\", \"du\", \"eine\", \"Liste!\"] )"
   ]
  },
  {
   "cell_type": "markdown",
   "metadata": {},
   "source": [
    "Wir müssen also auch überprüfen, ob jedes Element in der Liste eine Zahl ist:"
   ]
  },
  {
   "cell_type": "code",
   "execution_count": 342,
   "metadata": {
    "collapsed": true
   },
   "outputs": [],
   "source": [
    "def mittelwerte3(liste):\n",
    "    \"\"\"\n",
    "    Diese Funktion berechnet gleich zwei Mittelwerte:\n",
    "    das arithmetische Mittel und den Median\n",
    "    \n",
    "    Eingabe: eine Liste von Zahlen\n",
    "    Rückgabewert: ein Zweitupel (arithm. Mittelwert, Median)\n",
    "    \"\"\"\n",
    "    \n",
    "    # Checke ob Eingabe wirklich eine Liste ist!\n",
    "    if not isinstance(liste, list):\n",
    "        print(\"Hey! Als Eingabe bitte nur eine Liste!\")\n",
    "        return\n",
    "    \n",
    "    # Checke jetzt, ob jeder Eintrag in der Liste wirklich\n",
    "    # eine Zahl ist!\n",
    "    for e in liste:\n",
    "        if not isinstance(e, (int, float) ):\n",
    "            print(\"Hey nur Zahlen in der Liste bitte!\")\n",
    "            return\n",
    "    \n",
    "    N = len(liste)\n",
    "    \n",
    "    # 1. Berechne arithmetisches Mittel\n",
    "    summe = 0\n",
    "    for i in liste:\n",
    "        summe += i\n",
    "    arith_mittel = summe / N\n",
    "    \n",
    "    # 2. Berechne Median\n",
    "    liste_sortiert = sorted(liste)\n",
    "    print(liste_sortiert)\n",
    "    N = len(liste_sortiert)    \n",
    "    if len(liste_sortiert) % 2 == 1:\n",
    "        median = liste_sortiert[N//2]\n",
    "    else:\n",
    "        median = (liste_sortiert[N//2-1] + liste_sortiert[(N//2)])/2\n",
    "    \n",
    "    # 3. Gebe beide Mittelwerte zurück\n",
    "    return (arith_mittel, median)"
   ]
  },
  {
   "cell_type": "code",
   "execution_count": 343,
   "metadata": {},
   "outputs": [
    {
     "name": "stdout",
     "output_type": "stream",
     "text": [
      "Hey nur Zahlen in der Liste bitte!\n"
     ]
    }
   ],
   "source": [
    "mittelwerte3( [\"Hier\", \"hast\", \"du\", \"eine\", \"Liste!\"] )"
   ]
  },
  {
   "cell_type": "code",
   "execution_count": 344,
   "metadata": {},
   "outputs": [
    {
     "name": "stdout",
     "output_type": "stream",
     "text": [
      "Hey nur Zahlen in der Liste bitte!\n"
     ]
    }
   ],
   "source": [
    "mittelwerte3( [3, 7, \"du\", \"eine\", \"Liste!\"] )"
   ]
  },
  {
   "cell_type": "code",
   "execution_count": 345,
   "metadata": {},
   "outputs": [
    {
     "name": "stdout",
     "output_type": "stream",
     "text": [
      "[-5.0, 1, 2.5, 3, 7, 19]\n"
     ]
    },
    {
     "data": {
      "text/plain": [
       "(4.583333333333333, 2.75)"
      ]
     },
     "execution_count": 345,
     "metadata": {},
     "output_type": "execute_result"
    }
   ],
   "source": [
    "mittelwerte3( [3, 7, 1, 19, -5.0, 2.5] )"
   ]
  },
  {
   "cell_type": "markdown",
   "metadata": {},
   "source": [
    "## Werden übergebene Variablen verändert?\n",
    "\n",
    "Werden unveränderliche Objekte (immutable) wie Strings, Integers, Floats, Tupel an eine Funktion übergeben, werden diese auch nicht verändert. Es verhält sich wie \"Call by Value\".\n",
    "\n",
    "Werden veränderliche Objekte (mutable) wie Listen, Dictionaries, etc. an eine Funktion übergeben, können diese in der Funktion verändert werden. Es verhält sich wie \"Call by Reference\"."
   ]
  },
  {
   "cell_type": "code",
   "execution_count": 346,
   "metadata": {},
   "outputs": [
    {
     "name": "stdout",
     "output_type": "stream",
     "text": [
      "In foo1(): x= 43\n",
      "Nach Funktionsaufruf: x= 42\n"
     ]
    }
   ],
   "source": [
    "def foo1(x):\n",
    "    x=43\n",
    "    print(\"In foo1(): x=\", x)\n",
    "    \n",
    "x=42\n",
    "foo1(x)\n",
    "print(\"Nach Funktionsaufruf: x=\", x)"
   ]
  },
  {
   "cell_type": "code",
   "execution_count": 347,
   "metadata": {},
   "outputs": [
    {
     "name": "stdout",
     "output_type": "stream",
     "text": [
      "In foo1(): x= 43\n",
      "Nach Funktionsaufruf: x= Eine Zeichenkette\n"
     ]
    }
   ],
   "source": [
    "x=\"Eine Zeichenkette\"\n",
    "foo1(x)\n",
    "print(\"Nach Funktionsaufruf: x=\", x)"
   ]
  },
  {
   "cell_type": "code",
   "execution_count": 348,
   "metadata": {},
   "outputs": [
    {
     "name": "stdout",
     "output_type": "stream",
     "text": [
      "In foo1(): x= 43\n",
      "Nach Funktionsaufruf: x= [1, 2, 3]\n"
     ]
    }
   ],
   "source": [
    "x=[1,2,3]\n",
    "foo1(x)\n",
    "print(\"Nach Funktionsaufruf: x=\", x)"
   ]
  },
  {
   "cell_type": "code",
   "execution_count": 349,
   "metadata": {},
   "outputs": [
    {
     "name": "stdout",
     "output_type": "stream",
     "text": [
      "Nach Funktionsaufruf: x= [1, 2, 3, 7]\n"
     ]
    }
   ],
   "source": [
    "def foo2(x):\n",
    "    x.append( 7 )\n",
    "    \n",
    "x = [1,2,3]\n",
    "foo2(x)\n",
    "print(\"Nach Funktionsaufruf: x=\", x)"
   ]
  },
  {
   "cell_type": "markdown",
   "metadata": {},
   "source": [
    "## Lokale und globale Variablen"
   ]
  },
  {
   "cell_type": "markdown",
   "metadata": {},
   "source": [
    "Folgende Funktion greift auf die globale Variable `s` zu:"
   ]
  },
  {
   "cell_type": "code",
   "execution_count": 350,
   "metadata": {},
   "outputs": [
    {
     "name": "stdout",
     "output_type": "stream",
     "text": [
      "Zeichenkette 1\n"
     ]
    }
   ],
   "source": [
    "def f():\n",
    "    # Lesender Zugriff auf die globale Variable s\n",
    "    print(s)\n",
    "    \n",
    "s = \"Zeichenkette 1\"\n",
    "f()"
   ]
  },
  {
   "cell_type": "markdown",
   "metadata": {},
   "source": [
    "Im folgenden Programm gibt es eine lokale und eine globale Variable `s`:"
   ]
  },
  {
   "cell_type": "code",
   "execution_count": 351,
   "metadata": {},
   "outputs": [
    {
     "name": "stdout",
     "output_type": "stream",
     "text": [
      "Zeichenkette 2\n",
      "Zeichenkette 1\n"
     ]
    }
   ],
   "source": [
    "def f2():\n",
    "    s = \"Zeichenkette 2\" # das s hier ist lokal\n",
    "    print(s)\n",
    "    \n",
    "s = \"Zeichenkette 1\" # das s hier ist global\n",
    "f2()\n",
    "print(s)"
   ]
  },
  {
   "cell_type": "markdown",
   "metadata": {},
   "source": [
    "Jetzt \"tricksen\" wir Python aus (siehe folgende Codezelle)!\n",
    "\n",
    "Ist das erste `s` in Funktion `f3()` jetzt die globale Variable und das zweite `s` die lokale Variable?\n",
    "\n",
    "Das wäre sehr verwirrend! Wir können sehen, dass sich Python jetzt auch beschwert:\n",
    "\n",
    "ein und der gleiche Variablenname kann innerhalb einer Funktion nicht zuerst global und dann lokal sein. Das würde zu sehr schwer verstehbarem Code führen und viel Raum für mögliche Fehler bieten!\n",
    "\n",
    "Deswegen nimmt Python an, dass `s` eine lokale Variable ist.\n",
    "Dann wiederum dürfen wir `s` aber nicht benutzen, bevor wir sie definiert haben."
   ]
  },
  {
   "cell_type": "code",
   "execution_count": 352,
   "metadata": {},
   "outputs": [
    {
     "ename": "UnboundLocalError",
     "evalue": "local variable 's' referenced before assignment",
     "output_type": "error",
     "traceback": [
      "\u001b[1;31m---------------------------------------------------------------------------\u001b[0m",
      "\u001b[1;31mUnboundLocalError\u001b[0m                         Traceback (most recent call last)",
      "\u001b[1;32m<ipython-input-352-62d46a6f0973>\u001b[0m in \u001b[0;36m<module>\u001b[1;34m()\u001b[0m\n\u001b[0;32m      5\u001b[0m \u001b[1;33m\u001b[0m\u001b[0m\n\u001b[0;32m      6\u001b[0m \u001b[0ms\u001b[0m \u001b[1;33m=\u001b[0m \u001b[1;34m\"Zeichenkette 1\"\u001b[0m\u001b[1;33m\u001b[0m\u001b[0m\n\u001b[1;32m----> 7\u001b[1;33m \u001b[0mf3\u001b[0m\u001b[1;33m(\u001b[0m\u001b[1;33m)\u001b[0m\u001b[1;33m\u001b[0m\u001b[0m\n\u001b[0m\u001b[0;32m      8\u001b[0m \u001b[0mprint\u001b[0m\u001b[1;33m(\u001b[0m\u001b[0ms\u001b[0m\u001b[1;33m)\u001b[0m\u001b[1;33m\u001b[0m\u001b[0m\n",
      "\u001b[1;32m<ipython-input-352-62d46a6f0973>\u001b[0m in \u001b[0;36mf3\u001b[1;34m()\u001b[0m\n\u001b[0;32m      1\u001b[0m \u001b[1;32mdef\u001b[0m \u001b[0mf3\u001b[0m\u001b[1;33m(\u001b[0m\u001b[1;33m)\u001b[0m\u001b[1;33m:\u001b[0m\u001b[1;33m\u001b[0m\u001b[0m\n\u001b[1;32m----> 2\u001b[1;33m     \u001b[0mprint\u001b[0m\u001b[1;33m(\u001b[0m\u001b[0ms\u001b[0m\u001b[1;33m)\u001b[0m\u001b[1;33m\u001b[0m\u001b[0m\n\u001b[0m\u001b[0;32m      3\u001b[0m     \u001b[0ms\u001b[0m \u001b[1;33m=\u001b[0m \u001b[1;34m\"Zeichenkette 2\"\u001b[0m\u001b[1;33m\u001b[0m\u001b[0m\n\u001b[0;32m      4\u001b[0m     \u001b[0mprint\u001b[0m\u001b[1;33m(\u001b[0m\u001b[0ms\u001b[0m\u001b[1;33m)\u001b[0m\u001b[1;33m\u001b[0m\u001b[0m\n\u001b[0;32m      5\u001b[0m \u001b[1;33m\u001b[0m\u001b[0m\n",
      "\u001b[1;31mUnboundLocalError\u001b[0m: local variable 's' referenced before assignment"
     ]
    }
   ],
   "source": [
    "def f3():\n",
    "    print(s)\n",
    "    s = \"Zeichenkette 2\"\n",
    "    print(s)    \n",
    "    \n",
    "s = \"Zeichenkette 1\"\n",
    "f3()\n",
    "print(s)"
   ]
  },
  {
   "cell_type": "markdown",
   "metadata": {},
   "source": [
    "Wollen wir innerhalb einer Funktion auf eine globale Variable schreibend zugreifen, müssen wir diese als explizit global mittels des entsprechenden Schlüsselwortes `global` deklarieren."
   ]
  },
  {
   "cell_type": "code",
   "execution_count": 353,
   "metadata": {},
   "outputs": [
    {
     "name": "stdout",
     "output_type": "stream",
     "text": [
      "Zeichenkette 1\n",
      "Zeichenkette 2\n",
      "Zeichenkette 2\n"
     ]
    }
   ],
   "source": [
    "def f4():\n",
    "    global s\n",
    "    print(s) # Wir meinen das globale s\n",
    "    s = \"Zeichenkette 2\" # das globale s wird verändert\n",
    "    print(s)\n",
    "    \n",
    "s = \"Zeichenkette 1\"\n",
    "f4()\n",
    "print(s)"
   ]
  },
  {
   "cell_type": "code",
   "execution_count": 354,
   "metadata": {},
   "outputs": [
    {
     "name": "stdout",
     "output_type": "stream",
     "text": [
      "Alter Wert\n"
     ]
    }
   ],
   "source": [
    "def f5():\n",
    "    s = \"Neuer Wert\" # s lokal\n",
    "    \n",
    "s = \"Alter Wert\" # s global\n",
    "f5()\n",
    "print(s)"
   ]
  },
  {
   "cell_type": "code",
   "execution_count": 355,
   "metadata": {},
   "outputs": [
    {
     "name": "stdout",
     "output_type": "stream",
     "text": [
      "Neuer Wert\n"
     ]
    }
   ],
   "source": [
    "def f6():\n",
    "    global s\n",
    "    s = \"Neuer Wert\" # s global\n",
    "    \n",
    "s = \"Alter Wert\" # s global\n",
    "f6()\n",
    "print(s)"
   ]
  },
  {
   "cell_type": "markdown",
   "metadata": {},
   "source": [
    "## Funktionen in Funktionen definieren"
   ]
  },
  {
   "cell_type": "markdown",
   "metadata": {},
   "source": [
    "Ja, das geht in Python! Man kann lokale Funktionen definieren. Z.B. kann man damit eine kompliziertere Berechnung in Teile aufspalten:"
   ]
  },
  {
   "cell_type": "code",
   "execution_count": 356,
   "metadata": {
    "collapsed": true
   },
   "outputs": [],
   "source": [
    "def komplizierte_berechnung(x):\n",
    "    \n",
    "    konstante = 1.23\n",
    "    \n",
    "    def teilberechnung1(x):\n",
    "        return x**3 * konstante\n",
    "        \n",
    "    def teilberechnung2(x):\n",
    "        return x**2 + konstante\n",
    "    \n",
    "    return teilberechnung1(x)+teilberechnung2(x)"
   ]
  },
  {
   "cell_type": "code",
   "execution_count": 357,
   "metadata": {},
   "outputs": [
    {
     "data": {
      "text/plain": [
       "179.98"
      ]
     },
     "execution_count": 357,
     "metadata": {},
     "output_type": "execute_result"
    }
   ],
   "source": [
    "komplizierte_berechnung(5.0)"
   ]
  },
  {
   "cell_type": "markdown",
   "metadata": {},
   "source": [
    "Von \"außen\" gibt es aber keinen direkten Zugriff auf die Funktion `teilberechnung1`:"
   ]
  },
  {
   "cell_type": "code",
   "execution_count": 358,
   "metadata": {},
   "outputs": [
    {
     "ename": "NameError",
     "evalue": "name 'teilberechnung1' is not defined",
     "output_type": "error",
     "traceback": [
      "\u001b[1;31m---------------------------------------------------------------------------\u001b[0m",
      "\u001b[1;31mNameError\u001b[0m                                 Traceback (most recent call last)",
      "\u001b[1;32m<ipython-input-358-ff6167ca8dc1>\u001b[0m in \u001b[0;36m<module>\u001b[1;34m()\u001b[0m\n\u001b[1;32m----> 1\u001b[1;33m \u001b[0mteilberechnung1\u001b[0m\u001b[1;33m(\u001b[0m\u001b[1;36m2.0\u001b[0m\u001b[1;33m)\u001b[0m\u001b[1;33m\u001b[0m\u001b[0m\n\u001b[0m",
      "\u001b[1;31mNameError\u001b[0m: name 'teilberechnung1' is not defined"
     ]
    }
   ],
   "source": [
    "teilberechnung1(2.0)"
   ]
  },
  {
   "cell_type": "markdown",
   "metadata": {},
   "source": [
    "## Variable Anzahl von Funktionsparametern"
   ]
  },
  {
   "cell_type": "markdown",
   "metadata": {},
   "source": [
    "Eine Variable Anzahl von Funktionsparametern kann mit einem * eingeleitet werden.\n",
    "\n",
    "Das folgende Beispiel zeigt, dass die Parameter dann in einem n-Tupel gesammelt werden."
   ]
  },
  {
   "cell_type": "code",
   "execution_count": 359,
   "metadata": {
    "collapsed": true
   },
   "outputs": [],
   "source": [
    "def arithm_mittel(*zahlen):\n",
    "    print(zahlen)\n",
    "    print(type(zahlen))"
   ]
  },
  {
   "cell_type": "code",
   "execution_count": 360,
   "metadata": {},
   "outputs": [
    {
     "name": "stdout",
     "output_type": "stream",
     "text": [
      "(1, 2, 3)\n",
      "<class 'tuple'>\n"
     ]
    }
   ],
   "source": [
    "arithm_mittel(1,2,3)"
   ]
  },
  {
   "cell_type": "code",
   "execution_count": 361,
   "metadata": {},
   "outputs": [
    {
     "name": "stdout",
     "output_type": "stream",
     "text": [
      "(1, 2, 3, 4)\n",
      "<class 'tuple'>\n"
     ]
    }
   ],
   "source": [
    "arithm_mittel(1,2,3,4)"
   ]
  },
  {
   "cell_type": "code",
   "execution_count": 362,
   "metadata": {},
   "outputs": [
    {
     "name": "stdout",
     "output_type": "stream",
     "text": [
      "(1,)\n",
      "<class 'tuple'>\n"
     ]
    }
   ],
   "source": [
    "arithm_mittel(1)"
   ]
  },
  {
   "cell_type": "code",
   "execution_count": 363,
   "metadata": {
    "collapsed": true
   },
   "outputs": [],
   "source": [
    "def arithm_mittel(*zahlen):\n",
    "    return sum(zahlen) / len(zahlen)    "
   ]
  },
  {
   "cell_type": "code",
   "execution_count": 364,
   "metadata": {},
   "outputs": [
    {
     "data": {
      "text/plain": [
       "2.0"
      ]
     },
     "execution_count": 364,
     "metadata": {},
     "output_type": "execute_result"
    }
   ],
   "source": [
    "arithm_mittel(1,2,3)"
   ]
  },
  {
   "cell_type": "code",
   "execution_count": 365,
   "metadata": {},
   "outputs": [
    {
     "data": {
      "text/plain": [
       "2.5"
      ]
     },
     "execution_count": 365,
     "metadata": {},
     "output_type": "execute_result"
    }
   ],
   "source": [
    "arithm_mittel(1,2,3,4)"
   ]
  },
  {
   "cell_type": "code",
   "execution_count": 366,
   "metadata": {},
   "outputs": [
    {
     "data": {
      "text/plain": [
       "1.0"
      ]
     },
     "execution_count": 366,
     "metadata": {},
     "output_type": "execute_result"
    }
   ],
   "source": [
    "arithm_mittel(1)"
   ]
  },
  {
   "cell_type": "markdown",
   "metadata": {},
   "source": [
    "## Ein Stern (*) in Funktionsaufrufen"
   ]
  },
  {
   "cell_type": "code",
   "execution_count": 367,
   "metadata": {
    "collapsed": true
   },
   "outputs": [],
   "source": [
    "liste = [1,2,3]"
   ]
  },
  {
   "cell_type": "code",
   "execution_count": 368,
   "metadata": {},
   "outputs": [
    {
     "ename": "TypeError",
     "evalue": "unsupported operand type(s) for +: 'int' and 'list'",
     "output_type": "error",
     "traceback": [
      "\u001b[1;31m---------------------------------------------------------------------------\u001b[0m",
      "\u001b[1;31mTypeError\u001b[0m                                 Traceback (most recent call last)",
      "\u001b[1;32m<ipython-input-368-47558e8949a3>\u001b[0m in \u001b[0;36m<module>\u001b[1;34m()\u001b[0m\n\u001b[1;32m----> 1\u001b[1;33m \u001b[0marithm_mittel\u001b[0m\u001b[1;33m(\u001b[0m\u001b[0mliste\u001b[0m\u001b[1;33m)\u001b[0m\u001b[1;33m\u001b[0m\u001b[0m\n\u001b[0m",
      "\u001b[1;32m<ipython-input-363-0afaa26638c6>\u001b[0m in \u001b[0;36marithm_mittel\u001b[1;34m(*zahlen)\u001b[0m\n\u001b[0;32m      1\u001b[0m \u001b[1;32mdef\u001b[0m \u001b[0marithm_mittel\u001b[0m\u001b[1;33m(\u001b[0m\u001b[1;33m*\u001b[0m\u001b[0mzahlen\u001b[0m\u001b[1;33m)\u001b[0m\u001b[1;33m:\u001b[0m\u001b[1;33m\u001b[0m\u001b[0m\n\u001b[1;32m----> 2\u001b[1;33m     \u001b[1;32mreturn\u001b[0m \u001b[0msum\u001b[0m\u001b[1;33m(\u001b[0m\u001b[0mzahlen\u001b[0m\u001b[1;33m)\u001b[0m \u001b[1;33m/\u001b[0m \u001b[0mlen\u001b[0m\u001b[1;33m(\u001b[0m\u001b[0mzahlen\u001b[0m\u001b[1;33m)\u001b[0m\u001b[1;33m\u001b[0m\u001b[0m\n\u001b[0m",
      "\u001b[1;31mTypeError\u001b[0m: unsupported operand type(s) for +: 'int' and 'list'"
     ]
    }
   ],
   "source": [
    "arithm_mittel(liste)"
   ]
  },
  {
   "cell_type": "markdown",
   "metadata": {},
   "source": [
    "Wir müssten irgendwie erstmal die Liste \"entpacken\". Dann könnten wir die Funktion `arithm_mittel()` passend mit den richtigen Argumenten \"füttern\". Dies geht mit einem `*` vor der Liste im Funktionsaufruf:"
   ]
  },
  {
   "cell_type": "code",
   "execution_count": 369,
   "metadata": {},
   "outputs": [
    {
     "data": {
      "text/plain": [
       "2.0"
      ]
     },
     "execution_count": 369,
     "metadata": {},
     "output_type": "execute_result"
    }
   ],
   "source": [
    "arithm_mittel(*liste)"
   ]
  },
  {
   "cell_type": "markdown",
   "metadata": {},
   "source": [
    "# Kommentare"
   ]
  },
  {
   "cell_type": "markdown",
   "metadata": {},
   "source": [
    "Eigentlich kennt Python nur eine Art Kommentare zu kennzeichnen: das # Zeichen"
   ]
  },
  {
   "cell_type": "code",
   "execution_count": 370,
   "metadata": {},
   "outputs": [
    {
     "name": "stdout",
     "output_type": "stream",
     "text": [
      "42\n"
     ]
    }
   ],
   "source": [
    "# Gebe den Sinn des Lebens aus\n",
    "print(42)"
   ]
  },
  {
   "cell_type": "code",
   "execution_count": 371,
   "metadata": {},
   "outputs": [
    {
     "name": "stdout",
     "output_type": "stream",
     "text": [
      "42\n"
     ]
    }
   ],
   "source": [
    "print(42) # Sinn des Lebens ausgeben"
   ]
  },
  {
   "cell_type": "markdown",
   "metadata": {},
   "source": [
    "Mehrzeilige Kommentare kann man so generieren:"
   ]
  },
  {
   "cell_type": "code",
   "execution_count": 372,
   "metadata": {},
   "outputs": [
    {
     "name": "stdout",
     "output_type": "stream",
     "text": [
      "42\n"
     ]
    }
   ],
   "source": [
    "# Folgende Codezeilen\n",
    "# berechnen den Sinn des Lebens\n",
    "# und geben ihn auch noch aus!\n",
    "a = 7*7-7\n",
    "print(a)"
   ]
  },
  {
   "cell_type": "markdown",
   "metadata": {},
   "source": [
    "Mit dreimaligen doppelten Anführungszeichen geht es auch. Aber Vorsicht: nur an bestimmten Stellen wird dadurch kein Bytecode erzeugt! Denn hinter einer Funktionsdefintion wird der Kommentar dann nämlich nicht ignoriert, sondern der __doc__ DocString der Funktion gesetzt!"
   ]
  },
  {
   "cell_type": "code",
   "execution_count": 373,
   "metadata": {
    "collapsed": true
   },
   "outputs": [],
   "source": [
    "def foo():\n",
    "    \"\"\"\n",
    "    Hier ist ein mehrzeiliger\n",
    "    Kommentar. Aber der wird nicht\n",
    "    wirklich von Python ignoriert,\n",
    "    sondern setzt foo.__doc__\n",
    "    \"\"\"\n",
    "\n",
    "foo()"
   ]
  },
  {
   "cell_type": "code",
   "execution_count": 374,
   "metadata": {},
   "outputs": [
    {
     "name": "stdout",
     "output_type": "stream",
     "text": [
      "\n",
      "    Hier ist ein mehrzeiliger\n",
      "    Kommentar. Aber der wird nicht\n",
      "    wirklich von Python ignoriert,\n",
      "    sondern setzt foo.__doc__\n",
      "    \n"
     ]
    }
   ],
   "source": [
    "print(foo.__doc__)"
   ]
  },
  {
   "cell_type": "code",
   "execution_count": 375,
   "metadata": {
    "collapsed": true
   },
   "outputs": [],
   "source": [
    "def foo():\n",
    "    \n",
    "    print(42)\n",
    "    \n",
    "    \"\"\"\n",
    "    Der Kommentar hier dagegen\n",
    "    ist mehrzeilig und wird von\n",
    "    Python wirklich ignoriert!\n",
    "    \"\"\""
   ]
  },
  {
   "cell_type": "code",
   "execution_count": 376,
   "metadata": {},
   "outputs": [
    {
     "name": "stdout",
     "output_type": "stream",
     "text": [
      "42\n"
     ]
    }
   ],
   "source": [
    "foo()"
   ]
  },
  {
   "cell_type": "code",
   "execution_count": 377,
   "metadata": {},
   "outputs": [
    {
     "name": "stdout",
     "output_type": "stream",
     "text": [
      "None\n"
     ]
    }
   ],
   "source": [
    "print(foo.__doc__)"
   ]
  },
  {
   "cell_type": "markdown",
   "metadata": {},
   "source": [
    "# Dictionaries\n",
    "\n",
    "Speichern\n",
    "\n",
    "    Key : Value\n",
    "    \n",
    "Paare."
   ]
  },
  {
   "cell_type": "markdown",
   "metadata": {},
   "source": [
    "## Definition"
   ]
  },
  {
   "cell_type": "code",
   "execution_count": 378,
   "metadata": {
    "collapsed": true
   },
   "outputs": [],
   "source": [
    "abk = { \"FR\" : \"Frankreich\", \"DE\" : \"Deutschland\", \"US\" : \"United States\" }"
   ]
  },
  {
   "cell_type": "code",
   "execution_count": 379,
   "metadata": {},
   "outputs": [
    {
     "data": {
      "text/plain": [
       "{'DE': 'Deutschland', 'FR': 'Frankreich', 'US': 'United States'}"
      ]
     },
     "execution_count": 379,
     "metadata": {},
     "output_type": "execute_result"
    }
   ],
   "source": [
    "abk"
   ]
  },
  {
   "cell_type": "markdown",
   "metadata": {},
   "source": [
    "## Zugriff auf Values über Keys"
   ]
  },
  {
   "cell_type": "code",
   "execution_count": 380,
   "metadata": {},
   "outputs": [
    {
     "data": {
      "text/plain": [
       "'Deutschland'"
      ]
     },
     "execution_count": 380,
     "metadata": {},
     "output_type": "execute_result"
    }
   ],
   "source": [
    "abk[\"DE\"]"
   ]
  },
  {
   "cell_type": "code",
   "execution_count": 381,
   "metadata": {
    "collapsed": true
   },
   "outputs": [],
   "source": [
    "abk[\"DE\"] = \"Neuer Wert\""
   ]
  },
  {
   "cell_type": "code",
   "execution_count": 382,
   "metadata": {},
   "outputs": [
    {
     "data": {
      "text/plain": [
       "'Neuer Wert'"
      ]
     },
     "execution_count": 382,
     "metadata": {},
     "output_type": "execute_result"
    }
   ],
   "source": [
    "abk[\"DE\"]"
   ]
  },
  {
   "cell_type": "markdown",
   "metadata": {},
   "source": [
    "Den Key `IT` gibt es nicht im Dictionary. Daher gibt es gleich einen Fehler:"
   ]
  },
  {
   "cell_type": "code",
   "execution_count": 383,
   "metadata": {},
   "outputs": [
    {
     "ename": "KeyError",
     "evalue": "'IT'",
     "output_type": "error",
     "traceback": [
      "\u001b[1;31m---------------------------------------------------------------------------\u001b[0m",
      "\u001b[1;31mKeyError\u001b[0m                                  Traceback (most recent call last)",
      "\u001b[1;32m<ipython-input-383-0235a28281aa>\u001b[0m in \u001b[0;36m<module>\u001b[1;34m()\u001b[0m\n\u001b[1;32m----> 1\u001b[1;33m \u001b[0mabk\u001b[0m\u001b[1;33m[\u001b[0m\u001b[1;34m\"IT\"\u001b[0m\u001b[1;33m]\u001b[0m\u001b[1;33m\u001b[0m\u001b[0m\n\u001b[0m",
      "\u001b[1;31mKeyError\u001b[0m: 'IT'"
     ]
    }
   ],
   "source": [
    "abk[\"IT\"]"
   ]
  },
  {
   "cell_type": "markdown",
   "metadata": {},
   "source": [
    "## get() Funktion\n",
    "\n",
    "Um zu vermeiden, dass es einen Fehler gibt, wenn man auf das Dictionary über einen Key zugreift, den es noch nicht gibt, kann man auch die `get()` Funktion verwenden.\n",
    "\n",
    "Gibt es den Key noch nicht, wird der spezielle Wert `None` zurückgeliefert:"
   ]
  },
  {
   "cell_type": "code",
   "execution_count": 384,
   "metadata": {},
   "outputs": [
    {
     "name": "stdout",
     "output_type": "stream",
     "text": [
      "Neuer Wert\n"
     ]
    }
   ],
   "source": [
    "print( abk.get(\"DE\") )"
   ]
  },
  {
   "cell_type": "code",
   "execution_count": 385,
   "metadata": {},
   "outputs": [
    {
     "name": "stdout",
     "output_type": "stream",
     "text": [
      "None\n"
     ]
    }
   ],
   "source": [
    "print( abk.get(\"IT\") )"
   ]
  },
  {
   "cell_type": "markdown",
   "metadata": {},
   "source": [
    "## Testen, ob ein Key in einem Dictionary vorkommt"
   ]
  },
  {
   "cell_type": "code",
   "execution_count": 386,
   "metadata": {},
   "outputs": [
    {
     "name": "stdout",
     "output_type": "stream",
     "text": [
      "Abkürzung nicht vorhanden\n"
     ]
    }
   ],
   "source": [
    "if \"IT\" in abk:\n",
    "    print(\"Abkürzung vorhanden\")\n",
    "else:\n",
    "    print(\"Abkürzung nicht vorhanden\")"
   ]
  },
  {
   "cell_type": "markdown",
   "metadata": {},
   "source": [
    "## Gültige Keys für ein Dictionary\n",
    "\n",
    "Gültige Keys sind alle unveränderlichen (immutable) Datentypen, also int, floats, Strings, Tupel.\n",
    "\n",
    "Aber keine Listen oder Dictionaries (mutable)."
   ]
  },
  {
   "cell_type": "code",
   "execution_count": 387,
   "metadata": {
    "collapsed": true
   },
   "outputs": [],
   "source": [
    "d1 = { 42: \"Sinn des Lebens\", 3.14159 : \"Das ist doch PI!\",\n",
    "       (1,2,3) : \"Das ist ein Tupel\" }"
   ]
  },
  {
   "cell_type": "code",
   "execution_count": 388,
   "metadata": {},
   "outputs": [
    {
     "data": {
      "text/plain": [
       "'Sinn des Lebens'"
      ]
     },
     "execution_count": 388,
     "metadata": {},
     "output_type": "execute_result"
    }
   ],
   "source": [
    "d1[42]"
   ]
  },
  {
   "cell_type": "code",
   "execution_count": 389,
   "metadata": {},
   "outputs": [
    {
     "data": {
      "text/plain": [
       "'Das ist doch PI!'"
      ]
     },
     "execution_count": 389,
     "metadata": {},
     "output_type": "execute_result"
    }
   ],
   "source": [
    "d1[3.14159]"
   ]
  },
  {
   "cell_type": "code",
   "execution_count": 390,
   "metadata": {},
   "outputs": [
    {
     "data": {
      "text/plain": [
       "'Das ist ein Tupel'"
      ]
     },
     "execution_count": 390,
     "metadata": {},
     "output_type": "execute_result"
    }
   ],
   "source": [
    "d1[(1,2,3)]"
   ]
  },
  {
   "cell_type": "markdown",
   "metadata": {},
   "source": [
    "Eine Liste darf kein Key für ein Dictionary sein, denn Listen sind mutable."
   ]
  },
  {
   "cell_type": "code",
   "execution_count": 391,
   "metadata": {
    "scrolled": true
   },
   "outputs": [
    {
     "ename": "TypeError",
     "evalue": "unhashable type: 'list'",
     "output_type": "error",
     "traceback": [
      "\u001b[1;31m---------------------------------------------------------------------------\u001b[0m",
      "\u001b[1;31mTypeError\u001b[0m                                 Traceback (most recent call last)",
      "\u001b[1;32m<ipython-input-391-4a620bcb53c6>\u001b[0m in \u001b[0;36m<module>\u001b[1;34m()\u001b[0m\n\u001b[1;32m----> 1\u001b[1;33m \u001b[0md2\u001b[0m \u001b[1;33m=\u001b[0m \u001b[1;33m{\u001b[0m \u001b[1;33m[\u001b[0m\u001b[1;36m1\u001b[0m\u001b[1;33m,\u001b[0m\u001b[1;36m2\u001b[0m\u001b[1;33m,\u001b[0m\u001b[1;36m3\u001b[0m\u001b[1;33m]\u001b[0m \u001b[1;33m:\u001b[0m \u001b[1;34m\"Das ist eine Liste\"\u001b[0m \u001b[1;33m}\u001b[0m\u001b[1;33m\u001b[0m\u001b[0m\n\u001b[0m",
      "\u001b[1;31mTypeError\u001b[0m: unhashable type: 'list'"
     ]
    }
   ],
   "source": [
    "d2 = { [1,2,3] : \"Das ist eine Liste\" }"
   ]
  },
  {
   "cell_type": "markdown",
   "metadata": {},
   "source": [
    "## Über die Keys eines Dictionaries iterieren"
   ]
  },
  {
   "cell_type": "code",
   "execution_count": 392,
   "metadata": {},
   "outputs": [
    {
     "data": {
      "text/plain": [
       "{'DE': 'Neuer Wert', 'FR': 'Frankreich', 'US': 'United States'}"
      ]
     },
     "execution_count": 392,
     "metadata": {},
     "output_type": "execute_result"
    }
   ],
   "source": [
    "abk"
   ]
  },
  {
   "cell_type": "code",
   "execution_count": 393,
   "metadata": {},
   "outputs": [
    {
     "name": "stdout",
     "output_type": "stream",
     "text": [
      "FR\n",
      "DE\n",
      "US\n"
     ]
    }
   ],
   "source": [
    "for key in abk:\n",
    "    print(key)"
   ]
  },
  {
   "cell_type": "code",
   "execution_count": 394,
   "metadata": {},
   "outputs": [
    {
     "name": "stdout",
     "output_type": "stream",
     "text": [
      "FR --> Frankreich\n",
      "DE --> Neuer Wert\n",
      "US --> United States\n"
     ]
    }
   ],
   "source": [
    "for key in abk:\n",
    "    print(key, \"-->\", abk[key])"
   ]
  },
  {
   "cell_type": "markdown",
   "metadata": {},
   "source": [
    "## Verschachtelte Dictionaries"
   ]
  },
  {
   "cell_type": "code",
   "execution_count": 395,
   "metadata": {
    "collapsed": true
   },
   "outputs": [],
   "source": [
    "w1 = { \"auto\": \"car\", \"haus\" : \"house\" }\n",
    "w2 = { \"auto\": \"coche\", \"haus\": \"casa\" }\n",
    "w = { \"de->en\": w1, \"de->es\": w2 }"
   ]
  },
  {
   "cell_type": "code",
   "execution_count": 396,
   "metadata": {},
   "outputs": [
    {
     "data": {
      "text/plain": [
       "{'auto': 'car', 'haus': 'house'}"
      ]
     },
     "execution_count": 396,
     "metadata": {},
     "output_type": "execute_result"
    }
   ],
   "source": [
    "w[\"de->en\"]"
   ]
  },
  {
   "cell_type": "code",
   "execution_count": 397,
   "metadata": {},
   "outputs": [
    {
     "data": {
      "text/plain": [
       "'car'"
      ]
     },
     "execution_count": 397,
     "metadata": {},
     "output_type": "execute_result"
    }
   ],
   "source": [
    "w[\"de->en\"][\"auto\"]"
   ]
  },
  {
   "cell_type": "code",
   "execution_count": 398,
   "metadata": {},
   "outputs": [
    {
     "data": {
      "text/plain": [
       "'coche'"
      ]
     },
     "execution_count": 398,
     "metadata": {},
     "output_type": "execute_result"
    }
   ],
   "source": [
    "w[\"de->es\"][\"auto\"]"
   ]
  },
  {
   "cell_type": "markdown",
   "metadata": {},
   "source": [
    "## Einen Eintrag aus einem Dictionary löschen"
   ]
  },
  {
   "cell_type": "code",
   "execution_count": 399,
   "metadata": {},
   "outputs": [
    {
     "data": {
      "text/plain": [
       "'car'"
      ]
     },
     "execution_count": 399,
     "metadata": {},
     "output_type": "execute_result"
    }
   ],
   "source": [
    "w1.pop(\"auto\")"
   ]
  },
  {
   "cell_type": "code",
   "execution_count": 400,
   "metadata": {},
   "outputs": [
    {
     "data": {
      "text/plain": [
       "{'haus': 'house'}"
      ]
     },
     "execution_count": 400,
     "metadata": {},
     "output_type": "execute_result"
    }
   ],
   "source": [
    "w1"
   ]
  },
  {
   "cell_type": "code",
   "execution_count": 401,
   "metadata": {
    "collapsed": true
   },
   "outputs": [],
   "source": [
    "del w2[\"auto\"]"
   ]
  },
  {
   "cell_type": "code",
   "execution_count": 402,
   "metadata": {},
   "outputs": [
    {
     "data": {
      "text/plain": [
       "{'haus': 'casa'}"
      ]
     },
     "execution_count": 402,
     "metadata": {},
     "output_type": "execute_result"
    }
   ],
   "source": [
    "w2"
   ]
  },
  {
   "cell_type": "code",
   "execution_count": null,
   "metadata": {
    "collapsed": true
   },
   "outputs": [],
   "source": []
  }
 ],
 "metadata": {
  "kernelspec": {
   "display_name": "Python 3",
   "language": "python",
   "name": "python3"
  },
  "language_info": {
   "codemirror_mode": {
    "name": "ipython",
    "version": 3
   },
   "file_extension": ".py",
   "mimetype": "text/x-python",
   "name": "python",
   "nbconvert_exporter": "python",
   "pygments_lexer": "ipython3",
   "version": "3.7.3"
  },
  "toc": {
   "base_numbering": 1,
   "nav_menu": {
    "height": "418px",
    "width": "426px"
   },
   "number_sections": true,
   "sideBar": true,
   "skip_h1_title": false,
   "title_cell": "Inhaltsverzeichnis",
   "title_sidebar": "Inhalte",
   "toc_cell": true,
   "toc_position": {
    "height": "calc(100% - 180px)",
    "left": "10px",
    "top": "150px",
    "width": "235px"
   },
   "toc_section_display": true,
   "toc_window_display": true
  }
 },
 "nbformat": 4,
 "nbformat_minor": 4
}
