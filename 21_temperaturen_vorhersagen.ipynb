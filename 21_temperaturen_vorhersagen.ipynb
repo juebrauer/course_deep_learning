{
 "cells": [
  {
   "cell_type": "markdown",
   "id": "1eb39b41-e978-4574-9964-16cfbd624003",
   "metadata": {},
   "source": [
    "# Einleitung: Temperaturvorhersage\n",
    "\n",
    "In diesem Kapitel wollen wir uns zum ersten Mal mit maschinellem Lernen beschäftigen. Dazu greifen wir ein einfaches und anschauliches Beispiel heraus: die Vorhersage der Temperatur für den nächsten Tag.\n",
    "\n",
    "Wir gehen davon aus, dass wir die Temperaturen der letzten n Tage (einschließlich heute) haben. Sagen wir mal n=5. Auf Basis dieser beschränkten Informationen wollen wir nun versuchen die Temperatur von morgen vorherzusagen:\n",
    "\n",
    "    Eingabe:\n",
    "    Temperatur vor 4 Tagen\n",
    "    Temperatur vor 3 Tagen\n",
    "    Temperatur vor 2 Tagen\n",
    "    Temperatur vor 1 Tag (gestern)\n",
    "    Temperatur heute\n",
    "    \n",
    "    Ausgabe:\n",
    "    Temperatur von morgen\n",
    "    \n",
    "Klar, dass das nur beschränkt gehen wird. Ein Meteorologe wird uns da sicherlich gleich warnen und sagen, dass wir da viel mehr Informationen brauchen als nur die Temperaturen der letzten Tage. Aber wir wollen einfach mal schauen, wie weit wir kommen.\n",
    "\n",
    "Dazu vergleichen wir gleich einige sehr einfache Verfahren mit Verfahren des maschinellen Lernens: dabei lernt der Computer selbständig durch viele Beispiele, wie man von den Temperaturen der vergangenen Tagen und auf die Temperatur von morgen schließen kann.\n",
    "\n",
    "Dazu brauchen wir aber erstmal ..."
   ]
  },
  {
   "cell_type": "markdown",
   "id": "917c8096-d9aa-4f2b-a4dc-37486aefdac4",
   "metadata": {},
   "source": [
    "# Datensatzauswahl\n",
    "\n",
    "Für das maschinelle Lernen brauchen wir stets Daten. Diese sind aber dank Webseiten wie beispielsweise [Kaggle](https://www.kaggle.com) heute über das Internet leicht verfügbar.\n",
    "\n",
    "Der folgende Kaggle-Datensatz\n",
    "\n",
    "    Weather archive Jena\n",
    "    https://www.kaggle.com/pankrzysiu/weather-archive-jena\n",
    "\n",
    "enthält beispielsweise Wetterinformationen wie Lufttemperatur, Atmossphärischer Druck, Feuchtigkeit, etc. zur Stadt Jena, die über 8 Jahre im Zeitraum 2009-2016 aufgenommen wurden.\n",
    "\n",
    "Die Daten können auch vom direkten Ursprungsort heruntergeladen werden:\n",
    "\n",
    "    Max-Planck Institut für Biogeochemie, Jena\n",
    "    Wetterstation Beutenberg\n",
    "    https://www.bgc-jena.mpg.de/wetter/\n",
    "    https://www.bgc-jena.mpg.de/wetter/weather_data.html\n",
    "    \n",
    "Sie sind nach der CC BY 4.0 Lizenz nutzbar: https://creativecommons.org/licenses/by/4.0/deed.de\n",
    "\n",
    "D.h. Sie dürfen die Daten teilen, das Material in jedwedem Format oder Medium vervielfältigen, nutzen (auch kommerziell), weiterverbreiten und sogar verändern, müssen aber den obigen Namen und den Link zur Lizenz dabei hinzufügen.\n",
    "\n",
    "Wenn man die Daten direkt von Kaggle herunterlädt, erhält man eine `.csv` Datei namens `jena_climate_2009_2016.csv`."
   ]
  },
  {
   "cell_type": "markdown",
   "id": "b9914380-a15a-4e6c-94e4-ac7c56ebd441",
   "metadata": {},
   "source": [
    "# Datensatz einlesen\n",
    "\n",
    "Zum Einlesen des Datensatzes verwenden wir die Python-Bibliothek `Pandas`:"
   ]
  },
  {
   "cell_type": "code",
   "execution_count": 1,
   "id": "766c6e01-06d9-4a1d-ac19-945e19a6fc8e",
   "metadata": {},
   "outputs": [],
   "source": [
    "import pandas"
   ]
  },
  {
   "cell_type": "code",
   "execution_count": 2,
   "id": "385215b4-e86c-4866-8983-b20588b40281",
   "metadata": {},
   "outputs": [],
   "source": [
    "daten = pandas.read_csv(\"daten/wetter_datensatz/jena_climate_2009_2016.csv\")"
   ]
  },
  {
   "cell_type": "markdown",
   "id": "4159532e-a7c2-4e05-a450-6da9b70ccdc6",
   "metadata": {},
   "source": [
    "Wir erhalten eine Tabelle namens `daten` (Datentyp: Pandas DataFrame):"
   ]
  },
  {
   "cell_type": "code",
   "execution_count": 3,
   "id": "e0068f2f-1367-4a5c-a4f0-ab8f6ecae5f1",
   "metadata": {},
   "outputs": [
    {
     "data": {
      "text/html": [
       "<div>\n",
       "<style scoped>\n",
       "    .dataframe tbody tr th:only-of-type {\n",
       "        vertical-align: middle;\n",
       "    }\n",
       "\n",
       "    .dataframe tbody tr th {\n",
       "        vertical-align: top;\n",
       "    }\n",
       "\n",
       "    .dataframe thead th {\n",
       "        text-align: right;\n",
       "    }\n",
       "</style>\n",
       "<table border=\"1\" class=\"dataframe\">\n",
       "  <thead>\n",
       "    <tr style=\"text-align: right;\">\n",
       "      <th></th>\n",
       "      <th>Date Time</th>\n",
       "      <th>p (mbar)</th>\n",
       "      <th>T (degC)</th>\n",
       "      <th>Tpot (K)</th>\n",
       "      <th>Tdew (degC)</th>\n",
       "      <th>rh (%)</th>\n",
       "      <th>VPmax (mbar)</th>\n",
       "      <th>VPact (mbar)</th>\n",
       "      <th>VPdef (mbar)</th>\n",
       "      <th>sh (g/kg)</th>\n",
       "      <th>H2OC (mmol/mol)</th>\n",
       "      <th>rho (g/m**3)</th>\n",
       "      <th>wv (m/s)</th>\n",
       "      <th>max. wv (m/s)</th>\n",
       "      <th>wd (deg)</th>\n",
       "    </tr>\n",
       "  </thead>\n",
       "  <tbody>\n",
       "    <tr>\n",
       "      <th>0</th>\n",
       "      <td>01.01.2009 00:10:00</td>\n",
       "      <td>996.52</td>\n",
       "      <td>-8.02</td>\n",
       "      <td>265.40</td>\n",
       "      <td>-8.90</td>\n",
       "      <td>93.30</td>\n",
       "      <td>3.33</td>\n",
       "      <td>3.11</td>\n",
       "      <td>0.22</td>\n",
       "      <td>1.94</td>\n",
       "      <td>3.12</td>\n",
       "      <td>1307.75</td>\n",
       "      <td>1.03</td>\n",
       "      <td>1.75</td>\n",
       "      <td>152.3</td>\n",
       "    </tr>\n",
       "    <tr>\n",
       "      <th>1</th>\n",
       "      <td>01.01.2009 00:20:00</td>\n",
       "      <td>996.57</td>\n",
       "      <td>-8.41</td>\n",
       "      <td>265.01</td>\n",
       "      <td>-9.28</td>\n",
       "      <td>93.40</td>\n",
       "      <td>3.23</td>\n",
       "      <td>3.02</td>\n",
       "      <td>0.21</td>\n",
       "      <td>1.89</td>\n",
       "      <td>3.03</td>\n",
       "      <td>1309.80</td>\n",
       "      <td>0.72</td>\n",
       "      <td>1.50</td>\n",
       "      <td>136.1</td>\n",
       "    </tr>\n",
       "    <tr>\n",
       "      <th>2</th>\n",
       "      <td>01.01.2009 00:30:00</td>\n",
       "      <td>996.53</td>\n",
       "      <td>-8.51</td>\n",
       "      <td>264.91</td>\n",
       "      <td>-9.31</td>\n",
       "      <td>93.90</td>\n",
       "      <td>3.21</td>\n",
       "      <td>3.01</td>\n",
       "      <td>0.20</td>\n",
       "      <td>1.88</td>\n",
       "      <td>3.02</td>\n",
       "      <td>1310.24</td>\n",
       "      <td>0.19</td>\n",
       "      <td>0.63</td>\n",
       "      <td>171.6</td>\n",
       "    </tr>\n",
       "    <tr>\n",
       "      <th>3</th>\n",
       "      <td>01.01.2009 00:40:00</td>\n",
       "      <td>996.51</td>\n",
       "      <td>-8.31</td>\n",
       "      <td>265.12</td>\n",
       "      <td>-9.07</td>\n",
       "      <td>94.20</td>\n",
       "      <td>3.26</td>\n",
       "      <td>3.07</td>\n",
       "      <td>0.19</td>\n",
       "      <td>1.92</td>\n",
       "      <td>3.08</td>\n",
       "      <td>1309.19</td>\n",
       "      <td>0.34</td>\n",
       "      <td>0.50</td>\n",
       "      <td>198.0</td>\n",
       "    </tr>\n",
       "    <tr>\n",
       "      <th>4</th>\n",
       "      <td>01.01.2009 00:50:00</td>\n",
       "      <td>996.51</td>\n",
       "      <td>-8.27</td>\n",
       "      <td>265.15</td>\n",
       "      <td>-9.04</td>\n",
       "      <td>94.10</td>\n",
       "      <td>3.27</td>\n",
       "      <td>3.08</td>\n",
       "      <td>0.19</td>\n",
       "      <td>1.92</td>\n",
       "      <td>3.09</td>\n",
       "      <td>1309.00</td>\n",
       "      <td>0.32</td>\n",
       "      <td>0.63</td>\n",
       "      <td>214.3</td>\n",
       "    </tr>\n",
       "    <tr>\n",
       "      <th>...</th>\n",
       "      <td>...</td>\n",
       "      <td>...</td>\n",
       "      <td>...</td>\n",
       "      <td>...</td>\n",
       "      <td>...</td>\n",
       "      <td>...</td>\n",
       "      <td>...</td>\n",
       "      <td>...</td>\n",
       "      <td>...</td>\n",
       "      <td>...</td>\n",
       "      <td>...</td>\n",
       "      <td>...</td>\n",
       "      <td>...</td>\n",
       "      <td>...</td>\n",
       "      <td>...</td>\n",
       "    </tr>\n",
       "    <tr>\n",
       "      <th>420546</th>\n",
       "      <td>31.12.2016 23:20:00</td>\n",
       "      <td>1000.07</td>\n",
       "      <td>-4.05</td>\n",
       "      <td>269.10</td>\n",
       "      <td>-8.13</td>\n",
       "      <td>73.10</td>\n",
       "      <td>4.52</td>\n",
       "      <td>3.30</td>\n",
       "      <td>1.22</td>\n",
       "      <td>2.06</td>\n",
       "      <td>3.30</td>\n",
       "      <td>1292.98</td>\n",
       "      <td>0.67</td>\n",
       "      <td>1.52</td>\n",
       "      <td>240.0</td>\n",
       "    </tr>\n",
       "    <tr>\n",
       "      <th>420547</th>\n",
       "      <td>31.12.2016 23:30:00</td>\n",
       "      <td>999.93</td>\n",
       "      <td>-3.35</td>\n",
       "      <td>269.81</td>\n",
       "      <td>-8.06</td>\n",
       "      <td>69.71</td>\n",
       "      <td>4.77</td>\n",
       "      <td>3.32</td>\n",
       "      <td>1.44</td>\n",
       "      <td>2.07</td>\n",
       "      <td>3.32</td>\n",
       "      <td>1289.44</td>\n",
       "      <td>1.14</td>\n",
       "      <td>1.92</td>\n",
       "      <td>234.3</td>\n",
       "    </tr>\n",
       "    <tr>\n",
       "      <th>420548</th>\n",
       "      <td>31.12.2016 23:40:00</td>\n",
       "      <td>999.82</td>\n",
       "      <td>-3.16</td>\n",
       "      <td>270.01</td>\n",
       "      <td>-8.21</td>\n",
       "      <td>67.91</td>\n",
       "      <td>4.84</td>\n",
       "      <td>3.28</td>\n",
       "      <td>1.55</td>\n",
       "      <td>2.05</td>\n",
       "      <td>3.28</td>\n",
       "      <td>1288.39</td>\n",
       "      <td>1.08</td>\n",
       "      <td>2.00</td>\n",
       "      <td>215.2</td>\n",
       "    </tr>\n",
       "    <tr>\n",
       "      <th>420549</th>\n",
       "      <td>31.12.2016 23:50:00</td>\n",
       "      <td>999.81</td>\n",
       "      <td>-4.23</td>\n",
       "      <td>268.94</td>\n",
       "      <td>-8.53</td>\n",
       "      <td>71.80</td>\n",
       "      <td>4.46</td>\n",
       "      <td>3.20</td>\n",
       "      <td>1.26</td>\n",
       "      <td>1.99</td>\n",
       "      <td>3.20</td>\n",
       "      <td>1293.56</td>\n",
       "      <td>1.49</td>\n",
       "      <td>2.16</td>\n",
       "      <td>225.8</td>\n",
       "    </tr>\n",
       "    <tr>\n",
       "      <th>420550</th>\n",
       "      <td>01.01.2017 00:00:00</td>\n",
       "      <td>999.82</td>\n",
       "      <td>-4.82</td>\n",
       "      <td>268.36</td>\n",
       "      <td>-8.42</td>\n",
       "      <td>75.70</td>\n",
       "      <td>4.27</td>\n",
       "      <td>3.23</td>\n",
       "      <td>1.04</td>\n",
       "      <td>2.01</td>\n",
       "      <td>3.23</td>\n",
       "      <td>1296.38</td>\n",
       "      <td>1.23</td>\n",
       "      <td>1.96</td>\n",
       "      <td>184.9</td>\n",
       "    </tr>\n",
       "  </tbody>\n",
       "</table>\n",
       "<p>420551 rows × 15 columns</p>\n",
       "</div>"
      ],
      "text/plain": [
       "                  Date Time  p (mbar)  T (degC)  Tpot (K)  Tdew (degC)  \\\n",
       "0       01.01.2009 00:10:00    996.52     -8.02    265.40        -8.90   \n",
       "1       01.01.2009 00:20:00    996.57     -8.41    265.01        -9.28   \n",
       "2       01.01.2009 00:30:00    996.53     -8.51    264.91        -9.31   \n",
       "3       01.01.2009 00:40:00    996.51     -8.31    265.12        -9.07   \n",
       "4       01.01.2009 00:50:00    996.51     -8.27    265.15        -9.04   \n",
       "...                     ...       ...       ...       ...          ...   \n",
       "420546  31.12.2016 23:20:00   1000.07     -4.05    269.10        -8.13   \n",
       "420547  31.12.2016 23:30:00    999.93     -3.35    269.81        -8.06   \n",
       "420548  31.12.2016 23:40:00    999.82     -3.16    270.01        -8.21   \n",
       "420549  31.12.2016 23:50:00    999.81     -4.23    268.94        -8.53   \n",
       "420550  01.01.2017 00:00:00    999.82     -4.82    268.36        -8.42   \n",
       "\n",
       "        rh (%)  VPmax (mbar)  VPact (mbar)  VPdef (mbar)  sh (g/kg)  \\\n",
       "0        93.30          3.33          3.11          0.22       1.94   \n",
       "1        93.40          3.23          3.02          0.21       1.89   \n",
       "2        93.90          3.21          3.01          0.20       1.88   \n",
       "3        94.20          3.26          3.07          0.19       1.92   \n",
       "4        94.10          3.27          3.08          0.19       1.92   \n",
       "...        ...           ...           ...           ...        ...   \n",
       "420546   73.10          4.52          3.30          1.22       2.06   \n",
       "420547   69.71          4.77          3.32          1.44       2.07   \n",
       "420548   67.91          4.84          3.28          1.55       2.05   \n",
       "420549   71.80          4.46          3.20          1.26       1.99   \n",
       "420550   75.70          4.27          3.23          1.04       2.01   \n",
       "\n",
       "        H2OC (mmol/mol)  rho (g/m**3)  wv (m/s)  max. wv (m/s)  wd (deg)  \n",
       "0                  3.12       1307.75      1.03           1.75     152.3  \n",
       "1                  3.03       1309.80      0.72           1.50     136.1  \n",
       "2                  3.02       1310.24      0.19           0.63     171.6  \n",
       "3                  3.08       1309.19      0.34           0.50     198.0  \n",
       "4                  3.09       1309.00      0.32           0.63     214.3  \n",
       "...                 ...           ...       ...            ...       ...  \n",
       "420546             3.30       1292.98      0.67           1.52     240.0  \n",
       "420547             3.32       1289.44      1.14           1.92     234.3  \n",
       "420548             3.28       1288.39      1.08           2.00     215.2  \n",
       "420549             3.20       1293.56      1.49           2.16     225.8  \n",
       "420550             3.23       1296.38      1.23           1.96     184.9  \n",
       "\n",
       "[420551 rows x 15 columns]"
      ]
     },
     "execution_count": 3,
     "metadata": {},
     "output_type": "execute_result"
    }
   ],
   "source": [
    "daten"
   ]
  },
  {
   "cell_type": "markdown",
   "id": "1f7bcb02-0c0e-4aa4-a8c7-6bfbe816df05",
   "metadata": {},
   "source": [
    "Man kann durch den ersten Blick auf die Tabelle schon einiges erkennen:\n",
    "\n",
    "- wir haben sehr viele Merkmale pro Zeitstempel: es gibt 14 verschiedene Merkmale, darunter auch die Lufttemperatur `T`\n",
    "- wir haben sehr viele Daten: 0.42 Millionen Zeilen mit jeweils 14 Merkmalen!\n",
    "- die zeitliche Abtastung der Merkmale beträgt 10 Minuten, d.h. alle 10 Minuten wurden die 14 Merkmale neu gemessen und abgespeichert\n",
    "\n",
    "Eigentlich wollten wir doch nur einen Temperaturwert pro Tag. Wie können wir das erreichen?"
   ]
  },
  {
   "cell_type": "markdown",
   "id": "64ea3070-a35d-4b3c-82ad-a65432db78fb",
   "metadata": {},
   "source": [
    "# Datensatz aufbereiten (Datum als Index)\n",
    "\n",
    "Sagen wir mal, wir wollen immer nur für jeden Tag die Temperatur mittags. Dazu schauen wir uns erstmal an, ob Pandas versteht, dass in der Spalte `Date Time` ein Datum+Uhrzeit steht:"
   ]
  },
  {
   "cell_type": "code",
   "execution_count": 4,
   "id": "9775fb27-e793-4595-966c-e7b7268b83ab",
   "metadata": {},
   "outputs": [
    {
     "data": {
      "text/plain": [
       "Date Time           object\n",
       "p (mbar)           float64\n",
       "T (degC)           float64\n",
       "Tpot (K)           float64\n",
       "Tdew (degC)        float64\n",
       "rh (%)             float64\n",
       "VPmax (mbar)       float64\n",
       "VPact (mbar)       float64\n",
       "VPdef (mbar)       float64\n",
       "sh (g/kg)          float64\n",
       "H2OC (mmol/mol)    float64\n",
       "rho (g/m**3)       float64\n",
       "wv (m/s)           float64\n",
       "max. wv (m/s)      float64\n",
       "wd (deg)           float64\n",
       "dtype: object"
      ]
     },
     "execution_count": 4,
     "metadata": {},
     "output_type": "execute_result"
    }
   ],
   "source": [
    "daten.dtypes"
   ]
  },
  {
   "cell_type": "markdown",
   "id": "e5fc07bd-fb6d-44af-8240-02caf157f9c0",
   "metadata": {},
   "source": [
    "Leider noch nicht! Die Spalte `Date Time` wurde so eingelesen, dass dort eine Zeichenkette (= Datentyp `object`) gespeichert wird. Aber kein Problem! Das können wir ändern:"
   ]
  },
  {
   "cell_type": "code",
   "execution_count": 5,
   "id": "3e687912-e750-4612-b88c-f0b7715567d4",
   "metadata": {},
   "outputs": [],
   "source": [
    "daten[\"Zeitstempel\"] = pandas.to_datetime( daten[\"Date Time\"], format=\"%d.%m.%Y %H:%M:%S\" )"
   ]
  },
  {
   "cell_type": "markdown",
   "id": "4453c540-7563-4593-bb6e-0baa98513c2b",
   "metadata": {},
   "source": [
    "Die Formatierungsmöglichkeiten bzw. Platzhalter für den gewünschten Aufbau des Datums und der Uhrzeit kann man hier nachlesen:\n",
    "\n",
    "https://docs.python.org/3/library/datetime.html#strftime-and-strptime-behavior\n",
    "\n",
    "Beachten Sie jetzt die neue Spalte `Zeitstempel`:"
   ]
  },
  {
   "cell_type": "code",
   "execution_count": 6,
   "id": "fba0fbbe-0cd8-41f0-974e-5ea9c361beeb",
   "metadata": {},
   "outputs": [
    {
     "data": {
      "text/html": [
       "<div>\n",
       "<style scoped>\n",
       "    .dataframe tbody tr th:only-of-type {\n",
       "        vertical-align: middle;\n",
       "    }\n",
       "\n",
       "    .dataframe tbody tr th {\n",
       "        vertical-align: top;\n",
       "    }\n",
       "\n",
       "    .dataframe thead th {\n",
       "        text-align: right;\n",
       "    }\n",
       "</style>\n",
       "<table border=\"1\" class=\"dataframe\">\n",
       "  <thead>\n",
       "    <tr style=\"text-align: right;\">\n",
       "      <th></th>\n",
       "      <th>Date Time</th>\n",
       "      <th>p (mbar)</th>\n",
       "      <th>T (degC)</th>\n",
       "      <th>Tpot (K)</th>\n",
       "      <th>Tdew (degC)</th>\n",
       "      <th>rh (%)</th>\n",
       "      <th>VPmax (mbar)</th>\n",
       "      <th>VPact (mbar)</th>\n",
       "      <th>VPdef (mbar)</th>\n",
       "      <th>sh (g/kg)</th>\n",
       "      <th>H2OC (mmol/mol)</th>\n",
       "      <th>rho (g/m**3)</th>\n",
       "      <th>wv (m/s)</th>\n",
       "      <th>max. wv (m/s)</th>\n",
       "      <th>wd (deg)</th>\n",
       "      <th>Zeitstempel</th>\n",
       "    </tr>\n",
       "  </thead>\n",
       "  <tbody>\n",
       "    <tr>\n",
       "      <th>0</th>\n",
       "      <td>01.01.2009 00:10:00</td>\n",
       "      <td>996.52</td>\n",
       "      <td>-8.02</td>\n",
       "      <td>265.40</td>\n",
       "      <td>-8.90</td>\n",
       "      <td>93.3</td>\n",
       "      <td>3.33</td>\n",
       "      <td>3.11</td>\n",
       "      <td>0.22</td>\n",
       "      <td>1.94</td>\n",
       "      <td>3.12</td>\n",
       "      <td>1307.75</td>\n",
       "      <td>1.03</td>\n",
       "      <td>1.75</td>\n",
       "      <td>152.3</td>\n",
       "      <td>2009-01-01 00:10:00</td>\n",
       "    </tr>\n",
       "    <tr>\n",
       "      <th>1</th>\n",
       "      <td>01.01.2009 00:20:00</td>\n",
       "      <td>996.57</td>\n",
       "      <td>-8.41</td>\n",
       "      <td>265.01</td>\n",
       "      <td>-9.28</td>\n",
       "      <td>93.4</td>\n",
       "      <td>3.23</td>\n",
       "      <td>3.02</td>\n",
       "      <td>0.21</td>\n",
       "      <td>1.89</td>\n",
       "      <td>3.03</td>\n",
       "      <td>1309.80</td>\n",
       "      <td>0.72</td>\n",
       "      <td>1.50</td>\n",
       "      <td>136.1</td>\n",
       "      <td>2009-01-01 00:20:00</td>\n",
       "    </tr>\n",
       "    <tr>\n",
       "      <th>2</th>\n",
       "      <td>01.01.2009 00:30:00</td>\n",
       "      <td>996.53</td>\n",
       "      <td>-8.51</td>\n",
       "      <td>264.91</td>\n",
       "      <td>-9.31</td>\n",
       "      <td>93.9</td>\n",
       "      <td>3.21</td>\n",
       "      <td>3.01</td>\n",
       "      <td>0.20</td>\n",
       "      <td>1.88</td>\n",
       "      <td>3.02</td>\n",
       "      <td>1310.24</td>\n",
       "      <td>0.19</td>\n",
       "      <td>0.63</td>\n",
       "      <td>171.6</td>\n",
       "      <td>2009-01-01 00:30:00</td>\n",
       "    </tr>\n",
       "  </tbody>\n",
       "</table>\n",
       "</div>"
      ],
      "text/plain": [
       "             Date Time  p (mbar)  T (degC)  Tpot (K)  Tdew (degC)  rh (%)  \\\n",
       "0  01.01.2009 00:10:00    996.52     -8.02    265.40        -8.90    93.3   \n",
       "1  01.01.2009 00:20:00    996.57     -8.41    265.01        -9.28    93.4   \n",
       "2  01.01.2009 00:30:00    996.53     -8.51    264.91        -9.31    93.9   \n",
       "\n",
       "   VPmax (mbar)  VPact (mbar)  VPdef (mbar)  sh (g/kg)  H2OC (mmol/mol)  \\\n",
       "0          3.33          3.11          0.22       1.94             3.12   \n",
       "1          3.23          3.02          0.21       1.89             3.03   \n",
       "2          3.21          3.01          0.20       1.88             3.02   \n",
       "\n",
       "   rho (g/m**3)  wv (m/s)  max. wv (m/s)  wd (deg)         Zeitstempel  \n",
       "0       1307.75      1.03           1.75     152.3 2009-01-01 00:10:00  \n",
       "1       1309.80      0.72           1.50     136.1 2009-01-01 00:20:00  \n",
       "2       1310.24      0.19           0.63     171.6 2009-01-01 00:30:00  "
      ]
     },
     "execution_count": 6,
     "metadata": {},
     "output_type": "execute_result"
    }
   ],
   "source": [
    "daten[:3]"
   ]
  },
  {
   "cell_type": "markdown",
   "id": "0510769e-dafb-477d-9c1d-0628b1e2119b",
   "metadata": {},
   "source": [
    "Ein Blick auf den Datentyp pro Spalte zeigt auch, dass es jetzt in der Spalte `Zeitstempel` wirklich ein Datums-/Zeit-Datentyp `datetime64` verwendet wird:"
   ]
  },
  {
   "cell_type": "code",
   "execution_count": 7,
   "id": "02a848b3-3b91-4a2a-95ce-cfb8306e8408",
   "metadata": {},
   "outputs": [
    {
     "data": {
      "text/plain": [
       "Date Time                  object\n",
       "p (mbar)                  float64\n",
       "T (degC)                  float64\n",
       "Tpot (K)                  float64\n",
       "Tdew (degC)               float64\n",
       "rh (%)                    float64\n",
       "VPmax (mbar)              float64\n",
       "VPact (mbar)              float64\n",
       "VPdef (mbar)              float64\n",
       "sh (g/kg)                 float64\n",
       "H2OC (mmol/mol)           float64\n",
       "rho (g/m**3)              float64\n",
       "wv (m/s)                  float64\n",
       "max. wv (m/s)             float64\n",
       "wd (deg)                  float64\n",
       "Zeitstempel        datetime64[ns]\n",
       "dtype: object"
      ]
     },
     "execution_count": 7,
     "metadata": {},
     "output_type": "execute_result"
    }
   ],
   "source": [
    "daten.dtypes"
   ]
  },
  {
   "cell_type": "markdown",
   "id": "3265f0da-2347-4e84-8da2-b086f50b49c4",
   "metadata": {},
   "source": [
    "Jetzt bauen wir eine Tabelle `daten2` zusammen, die nur über ein paar aller Merkmale (Spalten) verfügt:"
   ]
  },
  {
   "cell_type": "code",
   "execution_count": 8,
   "id": "00587cbf-adc1-49c7-abdb-0e97fd968993",
   "metadata": {},
   "outputs": [],
   "source": [
    "ausgewaehlte_merkmale = [\"T (degC)\", \"p (mbar)\"]\n",
    "daten2 = daten[ ausgewaehlte_merkmale ]"
   ]
  },
  {
   "cell_type": "code",
   "execution_count": 9,
   "id": "590db04e-356c-4e33-82ef-ce68e7ce0276",
   "metadata": {},
   "outputs": [
    {
     "data": {
      "text/html": [
       "<div>\n",
       "<style scoped>\n",
       "    .dataframe tbody tr th:only-of-type {\n",
       "        vertical-align: middle;\n",
       "    }\n",
       "\n",
       "    .dataframe tbody tr th {\n",
       "        vertical-align: top;\n",
       "    }\n",
       "\n",
       "    .dataframe thead th {\n",
       "        text-align: right;\n",
       "    }\n",
       "</style>\n",
       "<table border=\"1\" class=\"dataframe\">\n",
       "  <thead>\n",
       "    <tr style=\"text-align: right;\">\n",
       "      <th></th>\n",
       "      <th>T (degC)</th>\n",
       "      <th>p (mbar)</th>\n",
       "    </tr>\n",
       "  </thead>\n",
       "  <tbody>\n",
       "    <tr>\n",
       "      <th>0</th>\n",
       "      <td>-8.02</td>\n",
       "      <td>996.52</td>\n",
       "    </tr>\n",
       "    <tr>\n",
       "      <th>1</th>\n",
       "      <td>-8.41</td>\n",
       "      <td>996.57</td>\n",
       "    </tr>\n",
       "    <tr>\n",
       "      <th>2</th>\n",
       "      <td>-8.51</td>\n",
       "      <td>996.53</td>\n",
       "    </tr>\n",
       "    <tr>\n",
       "      <th>3</th>\n",
       "      <td>-8.31</td>\n",
       "      <td>996.51</td>\n",
       "    </tr>\n",
       "    <tr>\n",
       "      <th>4</th>\n",
       "      <td>-8.27</td>\n",
       "      <td>996.51</td>\n",
       "    </tr>\n",
       "    <tr>\n",
       "      <th>...</th>\n",
       "      <td>...</td>\n",
       "      <td>...</td>\n",
       "    </tr>\n",
       "    <tr>\n",
       "      <th>420546</th>\n",
       "      <td>-4.05</td>\n",
       "      <td>1000.07</td>\n",
       "    </tr>\n",
       "    <tr>\n",
       "      <th>420547</th>\n",
       "      <td>-3.35</td>\n",
       "      <td>999.93</td>\n",
       "    </tr>\n",
       "    <tr>\n",
       "      <th>420548</th>\n",
       "      <td>-3.16</td>\n",
       "      <td>999.82</td>\n",
       "    </tr>\n",
       "    <tr>\n",
       "      <th>420549</th>\n",
       "      <td>-4.23</td>\n",
       "      <td>999.81</td>\n",
       "    </tr>\n",
       "    <tr>\n",
       "      <th>420550</th>\n",
       "      <td>-4.82</td>\n",
       "      <td>999.82</td>\n",
       "    </tr>\n",
       "  </tbody>\n",
       "</table>\n",
       "<p>420551 rows × 2 columns</p>\n",
       "</div>"
      ],
      "text/plain": [
       "        T (degC)  p (mbar)\n",
       "0          -8.02    996.52\n",
       "1          -8.41    996.57\n",
       "2          -8.51    996.53\n",
       "3          -8.31    996.51\n",
       "4          -8.27    996.51\n",
       "...          ...       ...\n",
       "420546     -4.05   1000.07\n",
       "420547     -3.35    999.93\n",
       "420548     -3.16    999.82\n",
       "420549     -4.23    999.81\n",
       "420550     -4.82    999.82\n",
       "\n",
       "[420551 rows x 2 columns]"
      ]
     },
     "execution_count": 9,
     "metadata": {},
     "output_type": "execute_result"
    }
   ],
   "source": [
    "daten2"
   ]
  },
  {
   "cell_type": "markdown",
   "id": "f5f3fcb6-386a-4bd9-9be0-13ea1668a63a",
   "metadata": {},
   "source": [
    "Und jetzt möchten wir noch auf die einzelnen Zeilen nicht über Zeilennummern zugreifen, sondern wünschen uns Datum/Zeit als Indizierungsmöglichkeit"
   ]
  },
  {
   "cell_type": "code",
   "execution_count": 10,
   "id": "ac18958e-25e5-44f3-b70b-5c94ec498aab",
   "metadata": {},
   "outputs": [],
   "source": [
    "daten2.index = daten[ \"Zeitstempel\" ]"
   ]
  },
  {
   "cell_type": "code",
   "execution_count": 11,
   "id": "b40a85b2-ab5c-48e6-ba1a-cd255a093775",
   "metadata": {},
   "outputs": [
    {
     "data": {
      "text/html": [
       "<div>\n",
       "<style scoped>\n",
       "    .dataframe tbody tr th:only-of-type {\n",
       "        vertical-align: middle;\n",
       "    }\n",
       "\n",
       "    .dataframe tbody tr th {\n",
       "        vertical-align: top;\n",
       "    }\n",
       "\n",
       "    .dataframe thead th {\n",
       "        text-align: right;\n",
       "    }\n",
       "</style>\n",
       "<table border=\"1\" class=\"dataframe\">\n",
       "  <thead>\n",
       "    <tr style=\"text-align: right;\">\n",
       "      <th></th>\n",
       "      <th>T (degC)</th>\n",
       "      <th>p (mbar)</th>\n",
       "    </tr>\n",
       "    <tr>\n",
       "      <th>Zeitstempel</th>\n",
       "      <th></th>\n",
       "      <th></th>\n",
       "    </tr>\n",
       "  </thead>\n",
       "  <tbody>\n",
       "    <tr>\n",
       "      <th>2009-01-01 00:10:00</th>\n",
       "      <td>-8.02</td>\n",
       "      <td>996.52</td>\n",
       "    </tr>\n",
       "    <tr>\n",
       "      <th>2009-01-01 00:20:00</th>\n",
       "      <td>-8.41</td>\n",
       "      <td>996.57</td>\n",
       "    </tr>\n",
       "    <tr>\n",
       "      <th>2009-01-01 00:30:00</th>\n",
       "      <td>-8.51</td>\n",
       "      <td>996.53</td>\n",
       "    </tr>\n",
       "    <tr>\n",
       "      <th>2009-01-01 00:40:00</th>\n",
       "      <td>-8.31</td>\n",
       "      <td>996.51</td>\n",
       "    </tr>\n",
       "    <tr>\n",
       "      <th>2009-01-01 00:50:00</th>\n",
       "      <td>-8.27</td>\n",
       "      <td>996.51</td>\n",
       "    </tr>\n",
       "    <tr>\n",
       "      <th>...</th>\n",
       "      <td>...</td>\n",
       "      <td>...</td>\n",
       "    </tr>\n",
       "    <tr>\n",
       "      <th>2016-12-31 23:20:00</th>\n",
       "      <td>-4.05</td>\n",
       "      <td>1000.07</td>\n",
       "    </tr>\n",
       "    <tr>\n",
       "      <th>2016-12-31 23:30:00</th>\n",
       "      <td>-3.35</td>\n",
       "      <td>999.93</td>\n",
       "    </tr>\n",
       "    <tr>\n",
       "      <th>2016-12-31 23:40:00</th>\n",
       "      <td>-3.16</td>\n",
       "      <td>999.82</td>\n",
       "    </tr>\n",
       "    <tr>\n",
       "      <th>2016-12-31 23:50:00</th>\n",
       "      <td>-4.23</td>\n",
       "      <td>999.81</td>\n",
       "    </tr>\n",
       "    <tr>\n",
       "      <th>2017-01-01 00:00:00</th>\n",
       "      <td>-4.82</td>\n",
       "      <td>999.82</td>\n",
       "    </tr>\n",
       "  </tbody>\n",
       "</table>\n",
       "<p>420551 rows × 2 columns</p>\n",
       "</div>"
      ],
      "text/plain": [
       "                     T (degC)  p (mbar)\n",
       "Zeitstempel                            \n",
       "2009-01-01 00:10:00     -8.02    996.52\n",
       "2009-01-01 00:20:00     -8.41    996.57\n",
       "2009-01-01 00:30:00     -8.51    996.53\n",
       "2009-01-01 00:40:00     -8.31    996.51\n",
       "2009-01-01 00:50:00     -8.27    996.51\n",
       "...                       ...       ...\n",
       "2016-12-31 23:20:00     -4.05   1000.07\n",
       "2016-12-31 23:30:00     -3.35    999.93\n",
       "2016-12-31 23:40:00     -3.16    999.82\n",
       "2016-12-31 23:50:00     -4.23    999.81\n",
       "2017-01-01 00:00:00     -4.82    999.82\n",
       "\n",
       "[420551 rows x 2 columns]"
      ]
     },
     "execution_count": 11,
     "metadata": {},
     "output_type": "execute_result"
    }
   ],
   "source": [
    "daten2"
   ]
  },
  {
   "cell_type": "markdown",
   "id": "81709f23-aa94-4bed-a398-193e3c30184f",
   "metadata": {},
   "source": [
    "# Zugriff auf Daten über Zeitstempel"
   ]
  },
  {
   "cell_type": "markdown",
   "id": "8e94c911-8967-4207-a723-dbaf761ce8f4",
   "metadata": {},
   "source": [
    "Jetzt sind die Datenzeilen nicht mehr durchnummiert von 0-420551, sondern haben einen anderen Index: den Zeitstempel. Was bringt uns das? Wir können jetzt auf die Daten auf eine viel natürlichere Art zugreifen, um Fragen zu beantworten:\n",
    "\n",
    "## Temperatur zu einem bestimmten Zeitpunkt"
   ]
  },
  {
   "cell_type": "code",
   "execution_count": 12,
   "id": "61100568-e093-41d0-8a20-c08cada11381",
   "metadata": {},
   "outputs": [
    {
     "data": {
      "text/html": [
       "<div>\n",
       "<style scoped>\n",
       "    .dataframe tbody tr th:only-of-type {\n",
       "        vertical-align: middle;\n",
       "    }\n",
       "\n",
       "    .dataframe tbody tr th {\n",
       "        vertical-align: top;\n",
       "    }\n",
       "\n",
       "    .dataframe thead th {\n",
       "        text-align: right;\n",
       "    }\n",
       "</style>\n",
       "<table border=\"1\" class=\"dataframe\">\n",
       "  <thead>\n",
       "    <tr style=\"text-align: right;\">\n",
       "      <th></th>\n",
       "      <th>T (degC)</th>\n",
       "      <th>p (mbar)</th>\n",
       "    </tr>\n",
       "    <tr>\n",
       "      <th>Zeitstempel</th>\n",
       "      <th></th>\n",
       "      <th></th>\n",
       "    </tr>\n",
       "  </thead>\n",
       "  <tbody>\n",
       "    <tr>\n",
       "      <th>2012-01-06 12:00:00</th>\n",
       "      <td>3.67</td>\n",
       "      <td>983.63</td>\n",
       "    </tr>\n",
       "  </tbody>\n",
       "</table>\n",
       "</div>"
      ],
      "text/plain": [
       "                     T (degC)  p (mbar)\n",
       "Zeitstempel                            \n",
       "2012-01-06 12:00:00      3.67    983.63"
      ]
     },
     "execution_count": 12,
     "metadata": {},
     "output_type": "execute_result"
    }
   ],
   "source": [
    "daten2.loc[\"2012-01-06 12:00\"]"
   ]
  },
  {
   "cell_type": "markdown",
   "id": "20d70e31-755d-4e14-9828-4f59a6ca4cd3",
   "metadata": {},
   "source": [
    "## Durchschnittstemperatur für einen Tag"
   ]
  },
  {
   "cell_type": "code",
   "execution_count": 13,
   "id": "dfc9341e-483d-4afb-bbc8-a06c80f55520",
   "metadata": {},
   "outputs": [
    {
     "data": {
      "text/html": [
       "<div>\n",
       "<style scoped>\n",
       "    .dataframe tbody tr th:only-of-type {\n",
       "        vertical-align: middle;\n",
       "    }\n",
       "\n",
       "    .dataframe tbody tr th {\n",
       "        vertical-align: top;\n",
       "    }\n",
       "\n",
       "    .dataframe thead th {\n",
       "        text-align: right;\n",
       "    }\n",
       "</style>\n",
       "<table border=\"1\" class=\"dataframe\">\n",
       "  <thead>\n",
       "    <tr style=\"text-align: right;\">\n",
       "      <th></th>\n",
       "      <th>T (degC)</th>\n",
       "      <th>p (mbar)</th>\n",
       "    </tr>\n",
       "    <tr>\n",
       "      <th>Zeitstempel</th>\n",
       "      <th></th>\n",
       "      <th></th>\n",
       "    </tr>\n",
       "  </thead>\n",
       "  <tbody>\n",
       "    <tr>\n",
       "      <th>2012-01-06 00:00:00</th>\n",
       "      <td>3.11</td>\n",
       "      <td>966.85</td>\n",
       "    </tr>\n",
       "    <tr>\n",
       "      <th>2012-01-06 00:10:00</th>\n",
       "      <td>3.11</td>\n",
       "      <td>967.00</td>\n",
       "    </tr>\n",
       "    <tr>\n",
       "      <th>2012-01-06 00:20:00</th>\n",
       "      <td>3.17</td>\n",
       "      <td>967.03</td>\n",
       "    </tr>\n",
       "    <tr>\n",
       "      <th>2012-01-06 00:30:00</th>\n",
       "      <td>3.16</td>\n",
       "      <td>967.27</td>\n",
       "    </tr>\n",
       "    <tr>\n",
       "      <th>2012-01-06 00:40:00</th>\n",
       "      <td>3.13</td>\n",
       "      <td>967.56</td>\n",
       "    </tr>\n",
       "    <tr>\n",
       "      <th>...</th>\n",
       "      <td>...</td>\n",
       "      <td>...</td>\n",
       "    </tr>\n",
       "    <tr>\n",
       "      <th>2012-01-06 23:10:00</th>\n",
       "      <td>2.12</td>\n",
       "      <td>992.06</td>\n",
       "    </tr>\n",
       "    <tr>\n",
       "      <th>2012-01-06 23:20:00</th>\n",
       "      <td>2.11</td>\n",
       "      <td>992.08</td>\n",
       "    </tr>\n",
       "    <tr>\n",
       "      <th>2012-01-06 23:30:00</th>\n",
       "      <td>2.27</td>\n",
       "      <td>992.27</td>\n",
       "    </tr>\n",
       "    <tr>\n",
       "      <th>2012-01-06 23:40:00</th>\n",
       "      <td>2.40</td>\n",
       "      <td>992.32</td>\n",
       "    </tr>\n",
       "    <tr>\n",
       "      <th>2012-01-06 23:50:00</th>\n",
       "      <td>2.48</td>\n",
       "      <td>992.13</td>\n",
       "    </tr>\n",
       "  </tbody>\n",
       "</table>\n",
       "<p>144 rows × 2 columns</p>\n",
       "</div>"
      ],
      "text/plain": [
       "                     T (degC)  p (mbar)\n",
       "Zeitstempel                            \n",
       "2012-01-06 00:00:00      3.11    966.85\n",
       "2012-01-06 00:10:00      3.11    967.00\n",
       "2012-01-06 00:20:00      3.17    967.03\n",
       "2012-01-06 00:30:00      3.16    967.27\n",
       "2012-01-06 00:40:00      3.13    967.56\n",
       "...                       ...       ...\n",
       "2012-01-06 23:10:00      2.12    992.06\n",
       "2012-01-06 23:20:00      2.11    992.08\n",
       "2012-01-06 23:30:00      2.27    992.27\n",
       "2012-01-06 23:40:00      2.40    992.32\n",
       "2012-01-06 23:50:00      2.48    992.13\n",
       "\n",
       "[144 rows x 2 columns]"
      ]
     },
     "execution_count": 13,
     "metadata": {},
     "output_type": "execute_result"
    }
   ],
   "source": [
    "daten2.loc[\"2012-01-06\"]"
   ]
  },
  {
   "cell_type": "code",
   "execution_count": 14,
   "id": "92020956-e67f-4e14-9d45-f4abe4330c4c",
   "metadata": {},
   "outputs": [
    {
     "data": {
      "text/plain": [
       "T (degC)      2.484583\n",
       "p (mbar)    981.556319\n",
       "dtype: float64"
      ]
     },
     "execution_count": 14,
     "metadata": {},
     "output_type": "execute_result"
    }
   ],
   "source": [
    "daten2.loc[\"2012-01-06\"].mean()"
   ]
  },
  {
   "cell_type": "markdown",
   "id": "3fb2530b-ae55-4cc6-a7c6-68d11fc5caa7",
   "metadata": {},
   "source": [
    "## Temperaturverlaufsgraph für einen Tag"
   ]
  },
  {
   "cell_type": "code",
   "execution_count": 15,
   "id": "0a73c80f-be87-4a7e-9c1d-7874592f8dd5",
   "metadata": {},
   "outputs": [
    {
     "data": {
      "text/plain": [
       "Zeitstempel\n",
       "2012-01-06 00:00:00    3.11\n",
       "2012-01-06 00:10:00    3.11\n",
       "2012-01-06 00:20:00    3.17\n",
       "2012-01-06 00:30:00    3.16\n",
       "2012-01-06 00:40:00    3.13\n",
       "                       ... \n",
       "2012-01-06 23:10:00    2.12\n",
       "2012-01-06 23:20:00    2.11\n",
       "2012-01-06 23:30:00    2.27\n",
       "2012-01-06 23:40:00    2.40\n",
       "2012-01-06 23:50:00    2.48\n",
       "Name: T (degC), Length: 144, dtype: float64"
      ]
     },
     "execution_count": 15,
     "metadata": {},
     "output_type": "execute_result"
    }
   ],
   "source": [
    "zr = daten2.loc[\"2012-01-06\"][\"T (degC)\"]\n",
    "zr"
   ]
  },
  {
   "cell_type": "code",
   "execution_count": 16,
   "id": "3a91c78a-6161-402e-8583-8a5a0ae35474",
   "metadata": {},
   "outputs": [
    {
     "data": {
      "image/png": "[encoded data removed]",
      "text/plain": [
       "<Figure size 432x288 with 1 Axes>"
      ]
     },
     "metadata": {
      "needs_background": "light"
     },
     "output_type": "display_data"
    }
   ],
   "source": [
    "import matplotlib.pyplot as plt\n",
    "\n",
    "plt.plot(zr)\n",
    "plt.xticks(rotation=45)\n",
    "plt.xlabel(\"Datum / Uhrzeit\")\n",
    "plt.ylabel(\"Temperatur\")\n",
    "plt.title(\"Temperatur in Jena am 06.01.2012\")\n",
    "plt.show()"
   ]
  },
  {
   "cell_type": "markdown",
   "id": "9dfbbaca-3d8b-4db8-bd5b-0d8a0109e4ee",
   "metadata": {},
   "source": [
    "## Durchschnittstemperatur für einen Monat"
   ]
  },
  {
   "cell_type": "code",
   "execution_count": 17,
   "id": "9c072d8f-9b1e-49bc-849f-f697c728a579",
   "metadata": {},
   "outputs": [
    {
     "data": {
      "text/html": [
       "<div>\n",
       "<style scoped>\n",
       "    .dataframe tbody tr th:only-of-type {\n",
       "        vertical-align: middle;\n",
       "    }\n",
       "\n",
       "    .dataframe tbody tr th {\n",
       "        vertical-align: top;\n",
       "    }\n",
       "\n",
       "    .dataframe thead th {\n",
       "        text-align: right;\n",
       "    }\n",
       "</style>\n",
       "<table border=\"1\" class=\"dataframe\">\n",
       "  <thead>\n",
       "    <tr style=\"text-align: right;\">\n",
       "      <th></th>\n",
       "      <th>T (degC)</th>\n",
       "      <th>p (mbar)</th>\n",
       "    </tr>\n",
       "    <tr>\n",
       "      <th>Zeitstempel</th>\n",
       "      <th></th>\n",
       "      <th></th>\n",
       "    </tr>\n",
       "  </thead>\n",
       "  <tbody>\n",
       "    <tr>\n",
       "      <th>2012-07-01 00:00:00</th>\n",
       "      <td>19.83</td>\n",
       "      <td>987.24</td>\n",
       "    </tr>\n",
       "    <tr>\n",
       "      <th>2012-07-01 00:10:00</th>\n",
       "      <td>19.19</td>\n",
       "      <td>987.15</td>\n",
       "    </tr>\n",
       "    <tr>\n",
       "      <th>2012-07-01 00:20:00</th>\n",
       "      <td>18.73</td>\n",
       "      <td>986.79</td>\n",
       "    </tr>\n",
       "    <tr>\n",
       "      <th>2012-07-01 00:30:00</th>\n",
       "      <td>18.32</td>\n",
       "      <td>986.01</td>\n",
       "    </tr>\n",
       "    <tr>\n",
       "      <th>2012-07-01 00:40:00</th>\n",
       "      <td>18.22</td>\n",
       "      <td>986.20</td>\n",
       "    </tr>\n",
       "    <tr>\n",
       "      <th>...</th>\n",
       "      <td>...</td>\n",
       "      <td>...</td>\n",
       "    </tr>\n",
       "    <tr>\n",
       "      <th>2012-07-31 23:10:00</th>\n",
       "      <td>15.62</td>\n",
       "      <td>992.46</td>\n",
       "    </tr>\n",
       "    <tr>\n",
       "      <th>2012-07-31 23:20:00</th>\n",
       "      <td>15.76</td>\n",
       "      <td>992.47</td>\n",
       "    </tr>\n",
       "    <tr>\n",
       "      <th>2012-07-31 23:30:00</th>\n",
       "      <td>15.67</td>\n",
       "      <td>992.51</td>\n",
       "    </tr>\n",
       "    <tr>\n",
       "      <th>2012-07-31 23:40:00</th>\n",
       "      <td>15.47</td>\n",
       "      <td>992.59</td>\n",
       "    </tr>\n",
       "    <tr>\n",
       "      <th>2012-07-31 23:50:00</th>\n",
       "      <td>15.27</td>\n",
       "      <td>992.61</td>\n",
       "    </tr>\n",
       "  </tbody>\n",
       "</table>\n",
       "<p>4464 rows × 2 columns</p>\n",
       "</div>"
      ],
      "text/plain": [
       "                     T (degC)  p (mbar)\n",
       "Zeitstempel                            \n",
       "2012-07-01 00:00:00     19.83    987.24\n",
       "2012-07-01 00:10:00     19.19    987.15\n",
       "2012-07-01 00:20:00     18.73    986.79\n",
       "2012-07-01 00:30:00     18.32    986.01\n",
       "2012-07-01 00:40:00     18.22    986.20\n",
       "...                       ...       ...\n",
       "2012-07-31 23:10:00     15.62    992.46\n",
       "2012-07-31 23:20:00     15.76    992.47\n",
       "2012-07-31 23:30:00     15.67    992.51\n",
       "2012-07-31 23:40:00     15.47    992.59\n",
       "2012-07-31 23:50:00     15.27    992.61\n",
       "\n",
       "[4464 rows x 2 columns]"
      ]
     },
     "execution_count": 17,
     "metadata": {},
     "output_type": "execute_result"
    }
   ],
   "source": [
    "daten2.loc[\"2012-07-01\" : \"2012-07-31\"]"
   ]
  },
  {
   "cell_type": "markdown",
   "id": "c30f953a-9103-4144-8a58-05a1b1a39030",
   "metadata": {},
   "source": [
    "## Temperaturverlaufsgraph für einen Monat"
   ]
  },
  {
   "cell_type": "code",
   "execution_count": 18,
   "id": "3356263f-56b6-4d4e-8781-3c8affb04762",
   "metadata": {},
   "outputs": [
    {
     "data": {
      "image/png": "[encoded data removed]",
      "text/plain": [
       "<Figure size 432x288 with 1 Axes>"
      ]
     },
     "metadata": {
      "needs_background": "light"
     },
     "output_type": "display_data"
    }
   ],
   "source": [
    "zr = daten2.loc[\"2012-07-01\" : \"2012-07-31\"][\"T (degC)\"]\n",
    "\n",
    "plt.plot( zr )\n",
    "plt.xticks(rotation=45)\n",
    "plt.show()"
   ]
  },
  {
   "cell_type": "markdown",
   "id": "7ef39bf2-b733-4d54-b7f1-be487f54e90a",
   "metadata": {},
   "source": [
    "## Quiz: Temperaturen vergleichen über Jahre\n",
    "\n",
    "Aufgabe: Erstellen Sie ein Balkendiagramm, das die Durchschnittstemperatur der Sommermonate (Juni, Juli, August) der Jahre 2009-2016 gegenbüber stellt.\n",
    "\n",
    "Tipp: Ein Balkendiagramm können Sie mit `Matplotlib` so erstellen:"
   ]
  },
  {
   "cell_type": "code",
   "execution_count": 19,
   "id": "5a83a7f1-8274-4a36-a7d6-f837cfdbb544",
   "metadata": {},
   "outputs": [
    {
     "data": {
      "image/png": "[encoded data removed]",
      "text/plain": [
       "<Figure size 432x288 with 1 Axes>"
      ]
     },
     "metadata": {
      "needs_background": "light"
     },
     "output_type": "display_data"
    }
   ],
   "source": [
    "plt.bar( ['A', 'B', 'C', 'D', 'E'], [23,17,35,29,12] )\n",
    "plt.show()"
   ]
  },
  {
   "cell_type": "code",
   "execution_count": 20,
   "id": "49edd36b-4378-49e9-8592-593f558e1e04",
   "metadata": {},
   "outputs": [
    {
     "data": {
      "image/png": "[encoded data removed]",
      "text/plain": [
       "<Figure size 432x288 with 1 Axes>"
      ]
     },
     "metadata": {
      "needs_background": "light"
     },
     "output_type": "display_data"
    }
   ],
   "source": [
    "sommer2009 = daten2.loc[\"2009-06-01\" : \"2009-08-31\"][\"T (degC)\"].mean()\n",
    "sommer2010 = daten2.loc[\"2010-06-01\" : \"2010-08-31\"][\"T (degC)\"].mean()\n",
    "sommer2011 = daten2.loc[\"2011-06-01\" : \"2011-08-31\"][\"T (degC)\"].mean()\n",
    "sommer2012 = daten2.loc[\"2012-06-01\" : \"2012-08-31\"][\"T (degC)\"].mean()\n",
    "sommer2013 = daten2.loc[\"2013-06-01\" : \"2013-08-31\"][\"T (degC)\"].mean()\n",
    "sommer2014 = daten2.loc[\"2014-06-01\" : \"2014-08-31\"][\"T (degC)\"].mean()\n",
    "sommer2015 = daten2.loc[\"2015-06-01\" : \"2015-08-31\"][\"T (degC)\"].mean()\n",
    "sommer2016 = daten2.loc[\"2016-06-01\" : \"2016-08-31\"][\"T (degC)\"].mean()\n",
    "\n",
    "plt.bar( ['2009', '2010', '2011', '2012', '2013', '2014', '2015', '2016'], \n",
    "         [sommer2009, sommer2010, sommer2011, sommer2012, sommer2013, sommer2014, sommer2015, sommer2016], \n",
    "       )\n",
    "plt.ylim(15,20)\n",
    "plt.show()"
   ]
  },
  {
   "cell_type": "markdown",
   "id": "c4469a7e-5cd9-44da-8e4e-597952608fcf",
   "metadata": {},
   "source": [
    "Wie können wir diese Aufgabe denn *eleganter*, im Sinne von *kompakteren Code*, lösen?\n",
    "\n",
    "Dazu helfen uns formatierte Strings:"
   ]
  },
  {
   "cell_type": "code",
   "execution_count": 21,
   "id": "74df322b-ce3b-4042-ac59-88953c5e0754",
   "metadata": {},
   "outputs": [
    {
     "name": "stdout",
     "output_type": "stream",
     "text": [
      "2009-06-01\n"
     ]
    }
   ],
   "source": [
    "jahr = 2009\n",
    "zeichenkette = f\"{jahr}-06-01\"\n",
    "print(zeichenkette)"
   ]
  },
  {
   "cell_type": "markdown",
   "id": "66539d7f-d921-4161-9b04-88d7375efdeb",
   "metadata": {},
   "source": [
    "Jetzt können wir die einzelnen Listen einfach mit einer Schleife erstellen:"
   ]
  },
  {
   "cell_type": "code",
   "execution_count": 22,
   "id": "0c72583f-5880-4fce-b729-45c18e0768fb",
   "metadata": {},
   "outputs": [
    {
     "name": "stdout",
     "output_type": "stream",
     "text": [
      "2009\n",
      "2010\n",
      "2011\n",
      "2012\n",
      "2013\n",
      "2014\n",
      "2015\n",
      "2016\n"
     ]
    }
   ],
   "source": [
    "for jahr in range(2009,2017):\n",
    "    print(jahr)"
   ]
  },
  {
   "cell_type": "markdown",
   "id": "cea46e12-7399-4ca6-9e53-c5fe507e053a",
   "metadata": {},
   "source": [
    "Was wir auch noch wissen müssen, ist wie man Listenelemente in Python nach und nach hinzfügen kann:"
   ]
  },
  {
   "cell_type": "code",
   "execution_count": 23,
   "id": "031a666c-6dcb-4333-b437-e92376cc1480",
   "metadata": {},
   "outputs": [
    {
     "data": {
      "text/plain": [
       "[1, 2, 3]"
      ]
     },
     "execution_count": 23,
     "metadata": {},
     "output_type": "execute_result"
    }
   ],
   "source": [
    "liste = []\n",
    "liste.append(1)\n",
    "liste.append(2)\n",
    "liste.append(3)\n",
    "liste"
   ]
  },
  {
   "cell_type": "markdown",
   "id": "dd06006f-80ec-4244-bcaf-f2170dc20d01",
   "metadata": {},
   "source": [
    "Jetzt können wir alles zusammen setzen:"
   ]
  },
  {
   "cell_type": "code",
   "execution_count": 24,
   "id": "bcadc4fb-a23e-4248-9c20-d442aa722dfc",
   "metadata": {},
   "outputs": [
    {
     "name": "stdout",
     "output_type": "stream",
     "text": [
      "[2009, 2010, 2011, 2012, 2013, 2014, 2015, 2016]\n",
      "[17.072598882850205, 18.04447207287931, 16.801209239130348, 18.11855978260875, 18.421126207729486, 17.754065071336854, 19.353999849033798, 18.775608393719807]\n"
     ]
    }
   ],
   "source": [
    "jahreszahlen = []\n",
    "temperaturen = []\n",
    "\n",
    "for jahr in range(2009,2017):\n",
    "    sommer_temperatur = daten2.loc[ f\"{jahr}-06-01\" : f\"{jahr}-08-31\"][\"T (degC)\"].mean()\n",
    "    \n",
    "    jahreszahlen.append( jahr )\n",
    "    temperaturen.append( sommer_temperatur )\n",
    "    \n",
    "print(jahreszahlen)\n",
    "print(temperaturen)"
   ]
  },
  {
   "cell_type": "markdown",
   "id": "74c073a7-f861-4614-bd12-ea75d4b073bc",
   "metadata": {},
   "source": [
    "Wenn wir die Daten in diesen Listen vorbereitet haben, können wir den Plot rasch erzeugen:"
   ]
  },
  {
   "cell_type": "code",
   "execution_count": 25,
   "id": "038d4e6a-afd7-49a4-9766-3cbd2e16848d",
   "metadata": {},
   "outputs": [
    {
     "data": {
      "image/png": "[encoded data removed]",
      "text/plain": [
       "<Figure size 432x288 with 1 Axes>"
      ]
     },
     "metadata": {
      "needs_background": "light"
     },
     "output_type": "display_data"
    }
   ],
   "source": [
    "plt.bar( jahreszahlen, temperaturen )\n",
    "plt.show()"
   ]
  },
  {
   "cell_type": "markdown",
   "id": "03c1ec47-ee36-4168-828e-8157442afa96",
   "metadata": {},
   "source": [
    "Der Python-Profi würde diese Aufgabe vielleicht noch kompakter mit der sogenannten `List Comprehension` machen:"
   ]
  },
  {
   "cell_type": "code",
   "execution_count": 26,
   "id": "371d0889-4ed0-4b54-8c68-322800db7bd7",
   "metadata": {},
   "outputs": [
    {
     "data": {
      "text/plain": [
       "[1, 4, 9, 16, 25]"
      ]
     },
     "execution_count": 26,
     "metadata": {},
     "output_type": "execute_result"
    }
   ],
   "source": [
    "[i**2 for i in range(1,6)]"
   ]
  },
  {
   "cell_type": "markdown",
   "id": "698e734d-4272-4cbd-b709-79132da7cf69",
   "metadata": {},
   "source": [
    "Bei der `List Comprehension` werden also Listen *on the fly* erzeugt. Man speichert sie nicht in Variablen, weil sie nur kurzfristig gebraucht werden:"
   ]
  },
  {
   "cell_type": "code",
   "execution_count": 27,
   "id": "3bdd56e0-da61-47ef-886a-1156656ec082",
   "metadata": {},
   "outputs": [
    {
     "data": {
      "text/plain": [
       "[2009, 2010, 2011, 2012, 2013, 2014, 2015, 2016]"
      ]
     },
     "execution_count": 27,
     "metadata": {},
     "output_type": "execute_result"
    }
   ],
   "source": [
    "[jahr for jahr in range(2009,2017)]"
   ]
  },
  {
   "cell_type": "code",
   "execution_count": 28,
   "id": "49127002-bbac-418c-81d4-6acf4675450b",
   "metadata": {},
   "outputs": [
    {
     "data": {
      "text/plain": [
       "[17.072598882850205,\n",
       " 18.04447207287931,\n",
       " 16.801209239130348,\n",
       " 18.11855978260875,\n",
       " 18.421126207729486,\n",
       " 17.754065071336854,\n",
       " 19.353999849033798,\n",
       " 18.775608393719807]"
      ]
     },
     "execution_count": 28,
     "metadata": {},
     "output_type": "execute_result"
    }
   ],
   "source": [
    "[daten2.loc[ f\"{jahr}-06-01\" : f\"{jahr}-08-31\"][\"T (degC)\"].mean() for jahr in range(2009,2017)]"
   ]
  },
  {
   "cell_type": "markdown",
   "id": "f7910ccc-ee6e-47c2-a283-2ef745b15035",
   "metadata": {},
   "source": [
    "Und jetzt alles in einem Plot:"
   ]
  },
  {
   "cell_type": "code",
   "execution_count": 29,
   "id": "71a05a84-de95-450d-8fad-b739a14c18c5",
   "metadata": {},
   "outputs": [
    {
     "data": {
      "image/png": "[encoded data removed]",
      "text/plain": [
       "<Figure size 432x288 with 1 Axes>"
      ]
     },
     "metadata": {
      "needs_background": "light"
     },
     "output_type": "display_data"
    }
   ],
   "source": [
    "plt.bar( [jahr for jahr in range(2009,2017)],\n",
    "         [daten2.loc[ f\"{jahr}-06-01\" : f\"{jahr}-08-31\"][\"T (degC)\"].mean() for jahr in range(2009,2017)] )\n",
    "plt.show()"
   ]
  },
  {
   "cell_type": "markdown",
   "id": "aa428600-d531-4291-b099-1a89c702781b",
   "metadata": {},
   "source": [
    "Ergibt also genau das gleiche Diagramm! Zugegeben: für Python-Anfänger aber etwas schwerer verdaulich..."
   ]
  },
  {
   "cell_type": "markdown",
   "id": "2fce7a37-59e4-4077-9289-2fd231c196bf",
   "metadata": {},
   "source": [
    "# Daten filtern\n",
    "\n",
    "Wir haben also jetzt in `daten2` eine Tabelle, die u.a. die Temperaturen der Jahre 2009-2016 für Jena enthält:"
   ]
  },
  {
   "cell_type": "code",
   "execution_count": 30,
   "id": "a12b46d2-0358-4c49-ab4e-32fd57fd8644",
   "metadata": {},
   "outputs": [
    {
     "data": {
      "text/html": [
       "<div>\n",
       "<style scoped>\n",
       "    .dataframe tbody tr th:only-of-type {\n",
       "        vertical-align: middle;\n",
       "    }\n",
       "\n",
       "    .dataframe tbody tr th {\n",
       "        vertical-align: top;\n",
       "    }\n",
       "\n",
       "    .dataframe thead th {\n",
       "        text-align: right;\n",
       "    }\n",
       "</style>\n",
       "<table border=\"1\" class=\"dataframe\">\n",
       "  <thead>\n",
       "    <tr style=\"text-align: right;\">\n",
       "      <th></th>\n",
       "      <th>T (degC)</th>\n",
       "      <th>p (mbar)</th>\n",
       "    </tr>\n",
       "    <tr>\n",
       "      <th>Zeitstempel</th>\n",
       "      <th></th>\n",
       "      <th></th>\n",
       "    </tr>\n",
       "  </thead>\n",
       "  <tbody>\n",
       "    <tr>\n",
       "      <th>2009-01-01 00:10:00</th>\n",
       "      <td>-8.02</td>\n",
       "      <td>996.52</td>\n",
       "    </tr>\n",
       "    <tr>\n",
       "      <th>2009-01-01 00:20:00</th>\n",
       "      <td>-8.41</td>\n",
       "      <td>996.57</td>\n",
       "    </tr>\n",
       "    <tr>\n",
       "      <th>2009-01-01 00:30:00</th>\n",
       "      <td>-8.51</td>\n",
       "      <td>996.53</td>\n",
       "    </tr>\n",
       "    <tr>\n",
       "      <th>2009-01-01 00:40:00</th>\n",
       "      <td>-8.31</td>\n",
       "      <td>996.51</td>\n",
       "    </tr>\n",
       "    <tr>\n",
       "      <th>2009-01-01 00:50:00</th>\n",
       "      <td>-8.27</td>\n",
       "      <td>996.51</td>\n",
       "    </tr>\n",
       "  </tbody>\n",
       "</table>\n",
       "</div>"
      ],
      "text/plain": [
       "                     T (degC)  p (mbar)\n",
       "Zeitstempel                            \n",
       "2009-01-01 00:10:00     -8.02    996.52\n",
       "2009-01-01 00:20:00     -8.41    996.57\n",
       "2009-01-01 00:30:00     -8.51    996.53\n",
       "2009-01-01 00:40:00     -8.31    996.51\n",
       "2009-01-01 00:50:00     -8.27    996.51"
      ]
     },
     "execution_count": 30,
     "metadata": {},
     "output_type": "execute_result"
    }
   ],
   "source": [
    "daten2.head()"
   ]
  },
  {
   "cell_type": "code",
   "execution_count": 31,
   "id": "a288487e-cde4-4025-bd46-1e3b4a558277",
   "metadata": {},
   "outputs": [
    {
     "data": {
      "text/html": [
       "<div>\n",
       "<style scoped>\n",
       "    .dataframe tbody tr th:only-of-type {\n",
       "        vertical-align: middle;\n",
       "    }\n",
       "\n",
       "    .dataframe tbody tr th {\n",
       "        vertical-align: top;\n",
       "    }\n",
       "\n",
       "    .dataframe thead th {\n",
       "        text-align: right;\n",
       "    }\n",
       "</style>\n",
       "<table border=\"1\" class=\"dataframe\">\n",
       "  <thead>\n",
       "    <tr style=\"text-align: right;\">\n",
       "      <th></th>\n",
       "      <th>T (degC)</th>\n",
       "      <th>p (mbar)</th>\n",
       "    </tr>\n",
       "    <tr>\n",
       "      <th>Zeitstempel</th>\n",
       "      <th></th>\n",
       "      <th></th>\n",
       "    </tr>\n",
       "  </thead>\n",
       "  <tbody>\n",
       "    <tr>\n",
       "      <th>2016-12-31 23:20:00</th>\n",
       "      <td>-4.05</td>\n",
       "      <td>1000.07</td>\n",
       "    </tr>\n",
       "    <tr>\n",
       "      <th>2016-12-31 23:30:00</th>\n",
       "      <td>-3.35</td>\n",
       "      <td>999.93</td>\n",
       "    </tr>\n",
       "    <tr>\n",
       "      <th>2016-12-31 23:40:00</th>\n",
       "      <td>-3.16</td>\n",
       "      <td>999.82</td>\n",
       "    </tr>\n",
       "    <tr>\n",
       "      <th>2016-12-31 23:50:00</th>\n",
       "      <td>-4.23</td>\n",
       "      <td>999.81</td>\n",
       "    </tr>\n",
       "    <tr>\n",
       "      <th>2017-01-01 00:00:00</th>\n",
       "      <td>-4.82</td>\n",
       "      <td>999.82</td>\n",
       "    </tr>\n",
       "  </tbody>\n",
       "</table>\n",
       "</div>"
      ],
      "text/plain": [
       "                     T (degC)  p (mbar)\n",
       "Zeitstempel                            \n",
       "2016-12-31 23:20:00     -4.05   1000.07\n",
       "2016-12-31 23:30:00     -3.35    999.93\n",
       "2016-12-31 23:40:00     -3.16    999.82\n",
       "2016-12-31 23:50:00     -4.23    999.81\n",
       "2017-01-01 00:00:00     -4.82    999.82"
      ]
     },
     "execution_count": 31,
     "metadata": {},
     "output_type": "execute_result"
    }
   ],
   "source": [
    "daten2.tail()"
   ]
  },
  {
   "cell_type": "markdown",
   "id": "9e78cde4-180d-4824-95d1-62e04490f096",
   "metadata": {},
   "source": [
    "Wir wollen die Daten jetzt nochmal reduzieren, weil wir nur die Mittagstemperatur als Eingabe verwenden wollen und auch vorhersagen wollen. Da hilft uns die Pandas DataFrame Methode/Funktion `at_time()`:"
   ]
  },
  {
   "cell_type": "code",
   "execution_count": 32,
   "id": "a95c9ead-cfaa-46be-b885-ca034f4e6868",
   "metadata": {},
   "outputs": [
    {
     "data": {
      "text/html": [
       "<div>\n",
       "<style scoped>\n",
       "    .dataframe tbody tr th:only-of-type {\n",
       "        vertical-align: middle;\n",
       "    }\n",
       "\n",
       "    .dataframe tbody tr th {\n",
       "        vertical-align: top;\n",
       "    }\n",
       "\n",
       "    .dataframe thead th {\n",
       "        text-align: right;\n",
       "    }\n",
       "</style>\n",
       "<table border=\"1\" class=\"dataframe\">\n",
       "  <thead>\n",
       "    <tr style=\"text-align: right;\">\n",
       "      <th></th>\n",
       "      <th>T (degC)</th>\n",
       "      <th>p (mbar)</th>\n",
       "    </tr>\n",
       "    <tr>\n",
       "      <th>Zeitstempel</th>\n",
       "      <th></th>\n",
       "      <th></th>\n",
       "    </tr>\n",
       "  </thead>\n",
       "  <tbody>\n",
       "    <tr>\n",
       "      <th>2009-01-01 12:00:00</th>\n",
       "      <td>-6.87</td>\n",
       "      <td>1000.30</td>\n",
       "    </tr>\n",
       "    <tr>\n",
       "      <th>2009-01-02 12:00:00</th>\n",
       "      <td>-3.12</td>\n",
       "      <td>998.91</td>\n",
       "    </tr>\n",
       "    <tr>\n",
       "      <th>2009-01-03 12:00:00</th>\n",
       "      <td>-5.96</td>\n",
       "      <td>999.02</td>\n",
       "    </tr>\n",
       "    <tr>\n",
       "      <th>2009-01-04 12:00:00</th>\n",
       "      <td>-1.21</td>\n",
       "      <td>988.94</td>\n",
       "    </tr>\n",
       "    <tr>\n",
       "      <th>2009-01-05 12:00:00</th>\n",
       "      <td>-3.65</td>\n",
       "      <td>990.42</td>\n",
       "    </tr>\n",
       "    <tr>\n",
       "      <th>...</th>\n",
       "      <td>...</td>\n",
       "      <td>...</td>\n",
       "    </tr>\n",
       "    <tr>\n",
       "      <th>2016-12-27 12:00:00</th>\n",
       "      <td>5.78</td>\n",
       "      <td>1006.57</td>\n",
       "    </tr>\n",
       "    <tr>\n",
       "      <th>2016-12-28 12:00:00</th>\n",
       "      <td>6.16</td>\n",
       "      <td>1014.16</td>\n",
       "    </tr>\n",
       "    <tr>\n",
       "      <th>2016-12-29 12:00:00</th>\n",
       "      <td>3.49</td>\n",
       "      <td>1014.72</td>\n",
       "    </tr>\n",
       "    <tr>\n",
       "      <th>2016-12-30 12:00:00</th>\n",
       "      <td>-1.31</td>\n",
       "      <td>1010.73</td>\n",
       "    </tr>\n",
       "    <tr>\n",
       "      <th>2016-12-31 12:00:00</th>\n",
       "      <td>-1.19</td>\n",
       "      <td>1004.76</td>\n",
       "    </tr>\n",
       "  </tbody>\n",
       "</table>\n",
       "<p>2921 rows × 2 columns</p>\n",
       "</div>"
      ],
      "text/plain": [
       "                     T (degC)  p (mbar)\n",
       "Zeitstempel                            \n",
       "2009-01-01 12:00:00     -6.87   1000.30\n",
       "2009-01-02 12:00:00     -3.12    998.91\n",
       "2009-01-03 12:00:00     -5.96    999.02\n",
       "2009-01-04 12:00:00     -1.21    988.94\n",
       "2009-01-05 12:00:00     -3.65    990.42\n",
       "...                       ...       ...\n",
       "2016-12-27 12:00:00      5.78   1006.57\n",
       "2016-12-28 12:00:00      6.16   1014.16\n",
       "2016-12-29 12:00:00      3.49   1014.72\n",
       "2016-12-30 12:00:00     -1.31   1010.73\n",
       "2016-12-31 12:00:00     -1.19   1004.76\n",
       "\n",
       "[2921 rows x 2 columns]"
      ]
     },
     "execution_count": 32,
     "metadata": {},
     "output_type": "execute_result"
    }
   ],
   "source": [
    "daten3 = daten2.at_time(\"12:00\")\n",
    "daten3"
   ]
  },
  {
   "cell_type": "markdown",
   "id": "9ce30494-6899-48b4-b8d0-419c690c4b10",
   "metadata": {},
   "source": [
    "2921 Zeilen hat die neue Tabelle. Überlegen Sie kurz: kann das sein?"
   ]
  },
  {
   "cell_type": "code",
   "execution_count": 33,
   "id": "98c53272-b1fb-42d6-9ff3-88682542b966",
   "metadata": {},
   "outputs": [
    {
     "data": {
      "text/plain": [
       "2920"
      ]
     },
     "execution_count": 33,
     "metadata": {},
     "output_type": "execute_result"
    }
   ],
   "source": [
    "8 * 365"
   ]
  },
  {
   "cell_type": "markdown",
   "id": "e74a9fa7-8e68-452a-bd25-72f733286f75",
   "metadata": {},
   "source": [
    "Daten für 8 Jahre. Eine Temperatur pro Tag haben wir herausgefiltert (die um die Mittagszeit). Ergebnis klingt plausibel. Schaltjahre gibt es ja auch noch..."
   ]
  },
  {
   "cell_type": "markdown",
   "id": "e13d2248-5a41-4b91-b179-691c71356c51",
   "metadata": {},
   "source": [
    "Plotten wir mal die ganze Zeitreihe:"
   ]
  },
  {
   "cell_type": "code",
   "execution_count": 34,
   "id": "2e64fa91-15ec-474d-837e-a508d031806c",
   "metadata": {},
   "outputs": [
    {
     "data": {
      "image/png": "[encoded data removed]",
      "text/plain": [
       "<Figure size 432x288 with 1 Axes>"
      ]
     },
     "metadata": {
      "needs_background": "light"
     },
     "output_type": "display_data"
    }
   ],
   "source": [
    "plt.plot( daten3[\"T (degC)\"] )\n",
    "plt.ylabel(\"Temperatur (°C)\")\n",
    "plt.show()"
   ]
  },
  {
   "cell_type": "markdown",
   "id": "551393da-09b5-4893-9e92-401932f7ae95",
   "metadata": {},
   "source": [
    "Man sieht sehr gut die Sommer- und Winterzeiten der 8 Jahre anhand des Temperaturverlaufs."
   ]
  },
  {
   "cell_type": "markdown",
   "id": "4a1c848c-2555-479c-b384-d47a3ef5a7ef",
   "metadata": {},
   "source": [
    "# Aufspalten der Daten zum Training und Testen\n",
    "\n",
    "Die Jahre 2009-2015 wollen wir als Trainingsdaten haben. Die Daten vom Jahr 2016 halten wir aus dem Training raus. Das sollen unsere Testdaten werden, um zu schauen, wie gut unser Modell (Algorithmus) später Temperaturen vorhersagen kann:"
   ]
  },
  {
   "cell_type": "code",
   "execution_count": 35,
   "id": "7e264d0b-cdb8-4db7-8779-813e1cd5a5c8",
   "metadata": {},
   "outputs": [
    {
     "data": {
      "text/plain": [
       "Zeitstempel\n",
       "2009-01-01 12:00:00    -6.87\n",
       "2009-01-02 12:00:00    -3.12\n",
       "2009-01-03 12:00:00    -5.96\n",
       "2009-01-04 12:00:00    -1.21\n",
       "2009-01-05 12:00:00    -3.65\n",
       "                       ...  \n",
       "2015-12-27 12:00:00    11.30\n",
       "2015-12-28 12:00:00     6.31\n",
       "2015-12-29 12:00:00     4.70\n",
       "2015-12-30 12:00:00     4.49\n",
       "2015-12-31 12:00:00     2.92\n",
       "Name: T (degC), Length: 2559, dtype: float64"
      ]
     },
     "execution_count": 35,
     "metadata": {},
     "output_type": "execute_result"
    }
   ],
   "source": [
    "data_train = daten3.loc[\"2009-01-01 12:00:00\" : \"2015-12-31 12:00:00\"][\"T (degC)\"]\n",
    "data_train"
   ]
  },
  {
   "cell_type": "code",
   "execution_count": 36,
   "id": "ff70474a-de0b-49f3-ac91-78276977351d",
   "metadata": {},
   "outputs": [
    {
     "data": {
      "text/plain": [
       "Zeitstempel\n",
       "2016-01-01 12:00:00   -0.03\n",
       "2016-01-02 12:00:00   -0.97\n",
       "2016-01-03 12:00:00   -0.62\n",
       "2016-01-04 12:00:00   -2.79\n",
       "2016-01-05 12:00:00   -1.64\n",
       "                       ... \n",
       "2016-12-27 12:00:00    5.78\n",
       "2016-12-28 12:00:00    6.16\n",
       "2016-12-29 12:00:00    3.49\n",
       "2016-12-30 12:00:00   -1.31\n",
       "2016-12-31 12:00:00   -1.19\n",
       "Name: T (degC), Length: 362, dtype: float64"
      ]
     },
     "execution_count": 36,
     "metadata": {},
     "output_type": "execute_result"
    }
   ],
   "source": [
    "data_test = daten3.loc[\"2016-01-01 12:00:00\" : \"2016-12-31 12:00:00\"][\"T (degC)\"]\n",
    "data_test"
   ]
  },
  {
   "cell_type": "code",
   "execution_count": 37,
   "id": "653a5d9d-e178-4eb8-aba4-c31ced03ecb9",
   "metadata": {},
   "outputs": [
    {
     "data": {
      "image/png": "[encoded data removed]",
      "text/plain": [
       "<Figure size 432x288 with 1 Axes>"
      ]
     },
     "metadata": {
      "needs_background": "light"
     },
     "output_type": "display_data"
    }
   ],
   "source": [
    "plt.plot( data_train, color=\"black\", label=\"train\" )\n",
    "plt.plot( data_test,  color=\"red\",   label=\"test\" )\n",
    "plt.legend()\n",
    "plt.ylabel(\"Temperatur (°C)\")\n",
    "plt.show()"
   ]
  },
  {
   "cell_type": "code",
   "execution_count": 70,
   "id": "91400dfc-547a-4c6b-9cb3-f9d0153d0e89",
   "metadata": {},
   "outputs": [
    {
     "data": {
      "text/plain": [
       "(2559,)"
      ]
     },
     "execution_count": 70,
     "metadata": {},
     "output_type": "execute_result"
    }
   ],
   "source": [
    "data_train.shape"
   ]
  },
  {
   "cell_type": "code",
   "execution_count": 71,
   "id": "645fe882-1b84-459d-9350-606b3e6481ba",
   "metadata": {},
   "outputs": [
    {
     "data": {
      "text/plain": [
       "(362,)"
      ]
     },
     "execution_count": 71,
     "metadata": {},
     "output_type": "execute_result"
    }
   ],
   "source": [
    "data_test.shape"
   ]
  },
  {
   "cell_type": "markdown",
   "id": "5c418949-ec18-4e46-980a-0419e602df2a",
   "metadata": {},
   "source": [
    "# Erzeugen der Trainingsbeispiele\n",
    "\n",
    "Für das Maschinelle Lernen brauchen wir Trainingsbeispiele der Form `(x,y)` mit:\n",
    "\n",
    "    x = (Temperatur vorgestern, Temperatur gestern, Temperatur heute)\n",
    "    y = (Temperatur morgen)\n",
    "    \n",
    "oder allgemeiner:\n",
    "\n",
    "    x = (t1,t2,t3,...,tn)\n",
    "    y = (tn+1,tn+2, ..., tn+m)\n",
    "    \n",
    "wenn wir die Temperaturen der letzten `n` Tage als Eingabe nehmen und die Temperaturen der nächsten `m` Tage vorhersagen wollen.\n",
    "\n",
    "Um unsere Trainings- und Testdaten in solche Trainingsbeispiele umzuwandeln, schreiben wir eine kleine Hilfsfunktion:"
   ]
  },
  {
   "cell_type": "code",
   "execution_count": 215,
   "id": "5e17d025-dca2-4c74-82a1-c15521a53b26",
   "metadata": {},
   "outputs": [],
   "source": [
    "import numpy as np\n",
    "\n",
    "zr = [i for i in range(100)]\n",
    "\n",
    "def zr_in_beispiele_umwandeln(zr, n=3, m=1):\n",
    "    \n",
    "    anz_beispiele = len(zr)-n-m+1\n",
    "    \n",
    "    print( f\"Generiere {anz_beispiele} Beispiele...\" )\n",
    "    \n",
    "    x_train = np.zeros( (anz_beispiele, n) )\n",
    "    y_train = np.zeros( (anz_beispiele, m) ) \n",
    "    \n",
    "    for i in range(anz_beispiele):\n",
    "    \n",
    "        x_vec = zr[i:i+n]\n",
    "        y_vec = zr[i+n:i+n+m]\n",
    "        \n",
    "        x_train[i] = x_vec\n",
    "        y_train[i] = y_vec\n",
    "        \n",
    "    return x_train, y_train"
   ]
  },
  {
   "cell_type": "code",
   "execution_count": 217,
   "id": "f61a7051-1162-4339-970d-3617acf2423a",
   "metadata": {},
   "outputs": [
    {
     "name": "stdout",
     "output_type": "stream",
     "text": [
      "Generiere 86 Beispiele...\n",
      "[[ 0.  1.  2.  3.  4.  5.  6.  7.  8.  9. 10. 11. 12. 13.]\n",
      " [ 1.  2.  3.  4.  5.  6.  7.  8.  9. 10. 11. 12. 13. 14.]\n",
      " [ 2.  3.  4.  5.  6.  7.  8.  9. 10. 11. 12. 13. 14. 15.]]\n",
      "[[14.]\n",
      " [15.]\n",
      " [16.]]\n"
     ]
    }
   ],
   "source": [
    "anz_inputs  = 14\n",
    "anz_outputs = 1\n",
    "\n",
    "x_train, y_train = zr_in_beispiele_umwandeln( zr, anz_inputs, anz_outputs )\n",
    "print(x_train[:3])\n",
    "print(y_train[:3])"
   ]
  },
  {
   "cell_type": "markdown",
   "id": "6592f2d0-4aa3-4935-a489-3ae84b7b5c62",
   "metadata": {},
   "source": [
    "Diese neue Hilfsfunktion können wir jetzt auf unsere Trainings- und Testzeitreihe anwenden:"
   ]
  },
  {
   "cell_type": "code",
   "execution_count": 218,
   "id": "57e5d551-ffa9-481e-a529-86f210d39f30",
   "metadata": {},
   "outputs": [
    {
     "name": "stdout",
     "output_type": "stream",
     "text": [
      "Generiere 2545 Beispiele...\n",
      "[[ -6.87  -3.12  -5.96  -1.21  -3.65 -14.52 -16.5   -6.84 -10.47  -7.48\n",
      "   -7.12  -3.64   2.58  -4.68]\n",
      " [ -3.12  -5.96  -1.21  -3.65 -14.52 -16.5   -6.84 -10.47  -7.48  -7.12\n",
      "   -3.64   2.58  -4.68   1.99]\n",
      " [ -5.96  -1.21  -3.65 -14.52 -16.5   -6.84 -10.47  -7.48  -7.12  -3.64\n",
      "    2.58  -4.68   1.99  -2.85]]\n",
      "[[ 1.99]\n",
      " [-2.85]\n",
      " [ 0.7 ]]\n"
     ]
    }
   ],
   "source": [
    "x_train, y_train = zr_in_beispiele_umwandeln( data_train.values, anz_inputs, anz_outputs )\n",
    "print(x_train[:3])\n",
    "print(y_train[:3])"
   ]
  },
  {
   "cell_type": "markdown",
   "id": "2f6b1d9f-a2f2-4546-a2ac-2e928ad526bb",
   "metadata": {},
   "source": [
    "Die ersten Trainingsbeispiele sollten so für Sie Sinn machen, wenn Sie sich analog die ersten Werte der Trainingsdaten-Zeitreihe mal anschauen:"
   ]
  },
  {
   "cell_type": "code",
   "execution_count": 219,
   "id": "d8cb03ee-e5df-4d38-bd99-8cbc9c3c62ca",
   "metadata": {},
   "outputs": [
    {
     "data": {
      "text/plain": [
       "array([ -6.87,  -3.12,  -5.96,  -1.21,  -3.65, -14.52, -16.5 ,  -6.84,\n",
       "       -10.47,  -7.48])"
      ]
     },
     "execution_count": 219,
     "metadata": {},
     "output_type": "execute_result"
    }
   ],
   "source": [
    "data_train.values[:10]"
   ]
  },
  {
   "cell_type": "markdown",
   "id": "2da36d80-6903-4efd-af38-09e0b0928ad0",
   "metadata": {},
   "source": [
    "Das Gleiche machen wir nun mit den Testdaten:"
   ]
  },
  {
   "cell_type": "code",
   "execution_count": 220,
   "id": "517c6232-ca59-4adb-8ca9-f3b57e137487",
   "metadata": {},
   "outputs": [
    {
     "name": "stdout",
     "output_type": "stream",
     "text": [
      "Generiere 348 Beispiele...\n",
      "[[-0.03 -0.97 -0.62 -2.79 -1.64 -4.5   0.89  5.53  0.45  5.63  4.58  6.2\n",
      "   3.98  3.23]\n",
      " [-0.97 -0.62 -2.79 -1.64 -4.5   0.89  5.53  0.45  5.63  4.58  6.2   3.98\n",
      "   3.23  1.61]\n",
      " [-0.62 -2.79 -1.64 -4.5   0.89  5.53  0.45  5.63  4.58  6.2   3.98  3.23\n",
      "   1.61  0.14]]\n",
      "[[ 1.61]\n",
      " [ 0.14]\n",
      " [-2.49]]\n"
     ]
    }
   ],
   "source": [
    "x_test, y_test = zr_in_beispiele_umwandeln( data_test.values, anz_inputs, anz_outputs )\n",
    "print(x_test[:3])\n",
    "print(y_test[:3])"
   ]
  },
  {
   "cell_type": "code",
   "execution_count": 221,
   "id": "7354d829-304a-426d-9725-1c82d9fd47a2",
   "metadata": {},
   "outputs": [
    {
     "data": {
      "text/plain": [
       "array([-0.03, -0.97, -0.62, -2.79, -1.64, -4.5 ,  0.89,  5.53,  0.45,\n",
       "        5.63])"
      ]
     },
     "execution_count": 221,
     "metadata": {},
     "output_type": "execute_result"
    }
   ],
   "source": [
    "data_test.values[:10]"
   ]
  },
  {
   "cell_type": "markdown",
   "id": "1708c4f1-a0fd-4fd9-992b-df6b552e4a0b",
   "metadata": {},
   "source": [
    "Mit diesen vorbereiteten Trainings- und Testdaten können wir nun *Machine Learning (Maschinelles Lernen)* betreiben!"
   ]
  },
  {
   "cell_type": "markdown",
   "id": "333e35ff-eaf8-4613-90eb-6d24c06101ef",
   "metadata": {},
   "source": [
    "# Base line Verfahren / Modell\n",
    "\n",
    "Um später zu sehen, wie gut verschiedene Machine Learning Modelle sind, um aus diesen vorbereiten Daten Zusammenhänge zwischen den letzten Temperaturen und der vorhersagten Temperatur zu erlernen, implementieren wir jetzt ein sehr einfaches Base line Verfahren (Modell):\n",
    "\n",
    "wir nehmen einfach als vorhergesagte Temperatur die Temperatur von heute!"
   ]
  },
  {
   "cell_type": "code",
   "execution_count": 222,
   "id": "68d7769c-a667-4a94-b351-197c7b6c2ac6",
   "metadata": {},
   "outputs": [],
   "source": [
    "class baseline1:\n",
    "    \n",
    "    def predict(self, alte_temperaturen):        \n",
    "        vorhersage = alte_temperaturen[-1]\n",
    "        return vorhersage\n",
    "    \n",
    "m1 = baseline1()"
   ]
  },
  {
   "cell_type": "code",
   "execution_count": 223,
   "id": "80ee05e4-d61f-414d-bb3e-3b96c192204e",
   "metadata": {},
   "outputs": [
    {
     "data": {
      "text/plain": [
       "14"
      ]
     },
     "execution_count": 223,
     "metadata": {},
     "output_type": "execute_result"
    }
   ],
   "source": [
    "m1.predict( [10,12,14] )"
   ]
  },
  {
   "cell_type": "code",
   "execution_count": 224,
   "id": "8fc00a6e-39ca-448e-b720-b820d2051a80",
   "metadata": {},
   "outputs": [
    {
     "data": {
      "text/plain": [
       "10"
      ]
     },
     "execution_count": 224,
     "metadata": {},
     "output_type": "execute_result"
    }
   ],
   "source": [
    "m1.predict( [20,15,10] )"
   ]
  },
  {
   "cell_type": "markdown",
   "id": "884210cc-14e6-4803-9b4b-68111bb03a68",
   "metadata": {},
   "source": [
    "# Funktion zur Bewertung eines Modells\n",
    "\n",
    "Um jetzt ein konkretes Modell zu bewerten können wir durch die Testbeispiele laufen und jeweils die vorhergesagte Temperatur mit der tatsächlichen Temperatur vergleichen:"
   ]
  },
  {
   "cell_type": "code",
   "execution_count": 266,
   "id": "6c1cbb3f-8a24-40fe-802b-000d4551b5c1",
   "metadata": {},
   "outputs": [],
   "source": [
    "import numpy as np\n",
    "\n",
    "def berechne_modell_fehler(modell, x_test, y_test, reshape_to_2d=False, scaler_output=None):\n",
    "    \n",
    "    N = x_test.shape[0]\n",
    "    \n",
    "    print( f\"Modell wird getestet auf {N} Testbeispielen...\")\n",
    "    \n",
    "    summe_fehler = 0\n",
    "    for i in range(N):\n",
    "        \n",
    "        x = x_test[i]\n",
    "        y = y_test[i]\n",
    "        #print(x, \"-->\", y)\n",
    "        \n",
    "        t_ist = y[0]\n",
    "        \n",
    "        # der Input für die predict-Methode\n",
    "        # eines Keras-Modells muss 2-dimensional sein\n",
    "        if reshape_to_2d:\n",
    "            x = x.reshape(1,-1)\n",
    "            \n",
    "        t_vorhergesagt = modell.predict( x )\n",
    "        \n",
    "        if scaler_output != None:\n",
    "            \n",
    "            t_vorhergesagt = scaler_output.inverse_transform( t_vorhergesagt )\n",
    "        \n",
    "        if reshape_to_2d:\n",
    "            t_vorhergesagt = t_vorhergesagt[0][0]\n",
    "        \n",
    "        fehler = abs(t_ist - t_vorhergesagt)\n",
    "        print( f\"ist: {t_ist:.2f} vs. vorhergesagt: {t_vorhergesagt:.2f} --> fehler: {fehler:.2f}\" )\n",
    "        \n",
    "        summe_fehler += fehler\n",
    "        \n",
    "    fehler_durchschnitt = summe_fehler / N\n",
    "    print( f\"Durchschnittsfehler: {fehler_durchschnitt}\" )\n",
    "    \n",
    "#berechne_modell_fehler(m1, x_test, y_test)"
   ]
  },
  {
   "cell_type": "markdown",
   "id": "90736cde-6437-4526-9fe0-32b6b0c6617f",
   "metadata": {},
   "source": [
    "# Quiz: Eigene Idee zur Temperaturvorhersage ausprobieren\n",
    "\n",
    "- Erstellen Sie ein neues base line Modell `baseline2`, bei der Sie die Temperaturvorhersage nach einem anderen Prinzip vorhersagen.\n",
    "\n",
    "- Testen Sie dann mittels der Funktion `berechne_modell_fehler` wie gut Ihr Modell Temperaturen vorhersagen kann!"
   ]
  },
  {
   "cell_type": "code",
   "execution_count": 226,
   "id": "b91f2cf1-ff99-459a-85d2-4f5dea830340",
   "metadata": {},
   "outputs": [],
   "source": [
    "class baseline2:\n",
    "    \n",
    "    def predict(self, alte_temperaturen):\n",
    "        vorhersage = alte_temperaturen.mean()\n",
    "        return vorhersage\n",
    "    \n",
    "m2 = baseline2()"
   ]
  },
  {
   "cell_type": "code",
   "execution_count": 227,
   "id": "93899343-d827-44e9-8670-5963b0562211",
   "metadata": {},
   "outputs": [
    {
     "name": "stdout",
     "output_type": "stream",
     "text": [
      "Modell wird getestet auf 348 Testbeispielen...\n",
      "Durchschnittsfehler: 3.6515804597701167\n"
     ]
    }
   ],
   "source": [
    "berechne_modell_fehler(m2, x_test, y_test)"
   ]
  },
  {
   "cell_type": "code",
   "execution_count": 228,
   "id": "3a7bffe5-b9ed-4b2c-a5a7-a18069c8564c",
   "metadata": {},
   "outputs": [],
   "source": [
    "class baseline3:\n",
    "    \n",
    "    def predict(self, alte_temperaturen):\n",
    "        vorhersage = alte_temperaturen[-3]*0.2 + \\\n",
    "                     alte_temperaturen[-2]*0.3 + \\\n",
    "                     alte_temperaturen[-1]*0.5\n",
    "        return vorhersage\n",
    "    \n",
    "m3 = baseline3()"
   ]
  },
  {
   "cell_type": "code",
   "execution_count": 229,
   "id": "6b7cc344-d6df-4743-aa79-e5efb44e404e",
   "metadata": {},
   "outputs": [
    {
     "name": "stdout",
     "output_type": "stream",
     "text": [
      "Modell wird getestet auf 348 Testbeispielen...\n",
      "Durchschnittsfehler: 2.837589080459769\n"
     ]
    }
   ],
   "source": [
    "berechne_modell_fehler(m3, x_test, y_test)"
   ]
  },
  {
   "cell_type": "code",
   "execution_count": 230,
   "id": "18dd20ea-546b-4644-909b-dccbf901d38d",
   "metadata": {},
   "outputs": [],
   "source": [
    "class baseline4:\n",
    "    \n",
    "    def predict(self, alte_temperaturen):\n",
    "        t_differenz_heute_gestern = alte_temperaturen[-1] - alte_temperaturen[-2]\n",
    "        vorhersage = alte_temperaturen[-1] + t_differenz_heute_gestern\n",
    "        return vorhersage\n",
    "    \n",
    "m4 = baseline4()"
   ]
  },
  {
   "cell_type": "code",
   "execution_count": 231,
   "id": "5cb2ecad-8d99-4a9b-b81a-d3cc3b4d11f3",
   "metadata": {},
   "outputs": [
    {
     "name": "stdout",
     "output_type": "stream",
     "text": [
      "Modell wird getestet auf 348 Testbeispielen...\n",
      "Durchschnittsfehler: 3.6741091954023006\n"
     ]
    }
   ],
   "source": [
    "berechne_modell_fehler(m4, x_test, y_test)"
   ]
  },
  {
   "cell_type": "markdown",
   "id": "206af0c4-632f-4e3f-beb3-fb3df85ea530",
   "metadata": {},
   "source": [
    "# Daten normalisieren"
   ]
  },
  {
   "cell_type": "code",
   "execution_count": 256,
   "id": "f4a30466-133f-49b2-aaa1-69ca0d4e8f76",
   "metadata": {},
   "outputs": [],
   "source": [
    "scaler_input = MinMaxScaler(feature_range=(0, 1))\n",
    "x_train_normalized = scaler_input.fit_transform(x_train)\n",
    "x_test_normalized = scaler_input.transform(x_test)\n",
    "\n",
    "scaler_output = MinMaxScaler(feature_range=(0, 1))\n",
    "y_train_normalized = scaler_output.fit_transform(y_train)\n",
    "y_test_normalized = scaler_output.transform(y_test)"
   ]
  },
  {
   "cell_type": "code",
   "execution_count": 257,
   "id": "74773cf3-fb37-4441-8277-b024cd450229",
   "metadata": {},
   "outputs": [
    {
     "data": {
      "text/plain": [
       "(2545, 14)"
      ]
     },
     "execution_count": 257,
     "metadata": {},
     "output_type": "execute_result"
    }
   ],
   "source": [
    "x_train_normalized.shape"
   ]
  },
  {
   "cell_type": "code",
   "execution_count": 258,
   "id": "b4597f18-734c-427c-ab49-d7b4ec1d03c0",
   "metadata": {},
   "outputs": [
    {
     "data": {
      "text/plain": [
       "array([[0.18547766, 0.25770416, 0.20300462, 0.29449153, 0.24749615,\n",
       "        0.03813559, 0.        , 0.17862002, 0.10806608, 0.16618076,\n",
       "        0.17317784, 0.24081633, 0.3617104 , 0.22060253],\n",
       "       [0.25770416, 0.20300462, 0.29449153, 0.24749615, 0.03813559,\n",
       "        0.        , 0.18605547, 0.10806608, 0.16618076, 0.17317784,\n",
       "        0.24081633, 0.3617104 , 0.22060253, 0.35024295],\n",
       "       [0.20300462, 0.29449153, 0.24749615, 0.03813559, 0.        ,\n",
       "        0.18605547, 0.11614022, 0.16618076, 0.17317784, 0.24081633,\n",
       "        0.3617104 , 0.22060253, 0.35024295, 0.25617104]])"
      ]
     },
     "execution_count": 258,
     "metadata": {},
     "output_type": "execute_result"
    }
   ],
   "source": [
    "x_train_normalized[:3]"
   ]
  },
  {
   "cell_type": "code",
   "execution_count": 259,
   "id": "c8a0d1af-df12-4b04-9c51-c3f3cc279233",
   "metadata": {},
   "outputs": [
    {
     "data": {
      "text/plain": [
       "array([[0.3172188 , 0.29911402, 0.30585516, 0.26406009, 0.28620955,\n",
       "        0.23112481, 0.33493837, 0.41904762, 0.32031098, 0.42099125,\n",
       "        0.40058309, 0.43206997, 0.38892128, 0.37434402],\n",
       "       [0.29911402, 0.30585516, 0.26406009, 0.28620955, 0.23112481,\n",
       "        0.33493837, 0.42430663, 0.32031098, 0.42099125, 0.40058309,\n",
       "        0.43206997, 0.38892128, 0.37434402, 0.34285714],\n",
       "       [0.30585516, 0.26406009, 0.28620955, 0.23112481, 0.33493837,\n",
       "        0.42430663, 0.32646379, 0.42099125, 0.40058309, 0.43206997,\n",
       "        0.38892128, 0.37434402, 0.34285714, 0.31428571]])"
      ]
     },
     "execution_count": 259,
     "metadata": {},
     "output_type": "execute_result"
    }
   ],
   "source": [
    "x_test_normalized[:3]"
   ]
  },
  {
   "cell_type": "markdown",
   "id": "87c61a3b-4e50-46df-80cd-4d1c26450b47",
   "metadata": {},
   "source": [
    "# Neuronales Netz zur Temperaturvorhersage\n",
    "\n",
    "Wir wollen jetzt ein Neuronales Netz mit den Trainingsdaten trainieren:\n",
    "\n",
    "Hier nochmal ein Blick auf die Inputvektoren:"
   ]
  },
  {
   "cell_type": "code",
   "execution_count": 260,
   "id": "a4927218-30bd-42e9-bbaf-c0df7d46bbd9",
   "metadata": {},
   "outputs": [
    {
     "data": {
      "text/plain": [
       "array([[0.18547766, 0.25770416, 0.20300462, ..., 0.24081633, 0.3617104 ,\n",
       "        0.22060253],\n",
       "       [0.25770416, 0.20300462, 0.29449153, ..., 0.3617104 , 0.22060253,\n",
       "        0.35024295],\n",
       "       [0.20300462, 0.29449153, 0.24749615, ..., 0.22060253, 0.35024295,\n",
       "        0.25617104],\n",
       "       ...,\n",
       "       [0.41872111, 0.45050077, 0.56413713, ..., 0.5654033 , 0.53119534,\n",
       "        0.43420797],\n",
       "       [0.45050077, 0.56413713, 0.53023883, ..., 0.53119534, 0.43420797,\n",
       "        0.40291545],\n",
       "       [0.56413713, 0.53023883, 0.46128659, ..., 0.43420797, 0.40291545,\n",
       "        0.39883382]])"
      ]
     },
     "execution_count": 260,
     "metadata": {},
     "output_type": "execute_result"
    }
   ],
   "source": [
    "x_train_normalized"
   ]
  },
  {
   "cell_type": "code",
   "execution_count": 261,
   "id": "ee5f052a-21ee-4f33-a1fd-bf8b8b0cd6a3",
   "metadata": {},
   "outputs": [
    {
     "data": {
      "text/plain": [
       "(2545, 14)"
      ]
     },
     "execution_count": 261,
     "metadata": {},
     "output_type": "execute_result"
    }
   ],
   "source": [
    "x_train_normalized.shape"
   ]
  },
  {
   "cell_type": "markdown",
   "id": "af3e34af-1b42-4712-b7c3-7e9b682bbf36",
   "metadata": {},
   "source": [
    "Und die dazugehörigen Outputvektoren:"
   ]
  },
  {
   "cell_type": "code",
   "execution_count": 262,
   "id": "f54656f1-44c5-43ad-86b9-40c61502e5a7",
   "metadata": {},
   "outputs": [
    {
     "data": {
      "text/plain": [
       "array([[0.35024295],\n",
       "       [0.25617104],\n",
       "       [0.32517007],\n",
       "       ...,\n",
       "       [0.40291545],\n",
       "       [0.39883382],\n",
       "       [0.36831876]])"
      ]
     },
     "execution_count": 262,
     "metadata": {},
     "output_type": "execute_result"
    }
   ],
   "source": [
    "y_train_normalized"
   ]
  },
  {
   "cell_type": "code",
   "execution_count": 263,
   "id": "415d0ba0-10e9-47c3-a87c-bb9bbecbdcc0",
   "metadata": {},
   "outputs": [
    {
     "data": {
      "text/plain": [
       "(2545, 1)"
      ]
     },
     "execution_count": 263,
     "metadata": {},
     "output_type": "execute_result"
    }
   ],
   "source": [
    "y_train_normalized.shape"
   ]
  },
  {
   "cell_type": "markdown",
   "id": "490c68d4-fe1b-422e-9f0d-cc5afc981426",
   "metadata": {},
   "source": [
    "Jetzt bauen wir mittels TensorFlow ein MLP auf:"
   ]
  },
  {
   "cell_type": "code",
   "execution_count": 264,
   "id": "1e2a03f5-6719-4e4a-ad41-e885f57dc2ba",
   "metadata": {},
   "outputs": [
    {
     "name": "stdout",
     "output_type": "stream",
     "text": [
      "Model: \"sequential\"\n",
      "_________________________________________________________________\n",
      "Layer (type)                 Output Shape              Param #   \n",
      "=================================================================\n",
      "dense (Dense)                (None, 50)                750       \n",
      "_________________________________________________________________\n",
      "dense_1 (Dense)              (None, 1)                 51        \n",
      "=================================================================\n",
      "Total params: 801\n",
      "Trainable params: 801\n",
      "Non-trainable params: 0\n",
      "_________________________________________________________________\n"
     ]
    }
   ],
   "source": [
    "import tensorflow as tf\n",
    "from tensorflow import keras\n",
    "\n",
    "tf.keras.backend.clear_session()\n",
    "\n",
    "model = keras.Sequential()\n",
    "model.add(keras.layers.Dense(50,\n",
    "                             activation=\"relu\",\n",
    "                             input_shape=(anz_inputs,)))\n",
    "model.add(keras.layers.Dense(1,                             \n",
    "                             activation=\"linear\"))\n",
    "\n",
    "\n",
    "my_optimizer = keras.optimizers.SGD(lr=0.001)\n",
    "model.compile(optimizer=my_optimizer,\n",
    "              loss=tf.keras.losses.MeanSquaredError())\n",
    "\n",
    "model.summary()"
   ]
  },
  {
   "cell_type": "markdown",
   "id": "c5e6e2c8-92d8-409b-b613-e27c42df0ab9",
   "metadata": {},
   "source": [
    "Und jetzt trainieren wir das Modell:"
   ]
  },
  {
   "cell_type": "code",
   "execution_count": 265,
   "id": "a5fbf019-92bc-4bc4-947b-a36e9b801831",
   "metadata": {},
   "outputs": [
    {
     "name": "stdout",
     "output_type": "stream",
     "text": [
      "Epoch 1/300\n",
      "80/80 [==============================] - 1s 4ms/step - loss: 0.0353\n",
      "Epoch 2/300\n",
      "80/80 [==============================] - ETA: 0s - loss: 0.010 - 0s 2ms/step - loss: 0.0108\n",
      "Epoch 3/300\n",
      "80/80 [==============================] - 0s 3ms/step - loss: 0.0094\n",
      "Epoch 4/300\n",
      "80/80 [==============================] - 0s 3ms/step - loss: 0.0089\n",
      "Epoch 5/300\n",
      "80/80 [==============================] - 0s 2ms/step - loss: 0.0088\n",
      "Epoch 6/300\n",
      "80/80 [==============================] - 0s 3ms/step - loss: 0.0087\n",
      "Epoch 7/300\n",
      "80/80 [==============================] - 0s 2ms/step - loss: 0.0082\n",
      "Epoch 8/300\n",
      "80/80 [==============================] - 0s 2ms/step - loss: 0.0090\n",
      "Epoch 9/300\n",
      "80/80 [==============================] - 0s 3ms/step - loss: 0.0084\n",
      "Epoch 10/300\n",
      "80/80 [==============================] - 0s 1ms/step - loss: 0.0082\n",
      "Epoch 11/300\n",
      "80/80 [==============================] - 0s 961us/step - loss: 0.0084\n",
      "Epoch 12/300\n",
      "80/80 [==============================] - 0s 2ms/step - loss: 0.0083\n",
      "Epoch 13/300\n",
      "80/80 [==============================] - 0s 2ms/step - loss: 0.0081\n",
      "Epoch 14/300\n",
      "80/80 [==============================] - 0s 3ms/step - loss: 0.0085\n",
      "Epoch 15/300\n",
      "80/80 [==============================] - 0s 2ms/step - loss: 0.0078\n",
      "Epoch 16/300\n",
      "80/80 [==============================] - 0s 2ms/step - loss: 0.0080\n",
      "Epoch 17/300\n",
      "80/80 [==============================] - 0s 2ms/step - loss: 0.0077\n",
      "Epoch 18/300\n",
      "80/80 [==============================] - 0s 1ms/step - loss: 0.0079\n",
      "Epoch 19/300\n",
      "80/80 [==============================] - 0s 3ms/step - loss: 0.0080\n",
      "Epoch 20/300\n",
      "80/80 [==============================] - 0s 2ms/step - loss: 0.0082\n",
      "Epoch 21/300\n",
      "80/80 [==============================] - 0s 5ms/step - loss: 0.0076\n",
      "Epoch 22/300\n",
      "80/80 [==============================] - 0s 2ms/step - loss: 0.0077\n",
      "Epoch 23/300\n",
      "80/80 [==============================] - 0s 3ms/step - loss: 0.0078\n",
      "Epoch 24/300\n",
      "80/80 [==============================] - 0s 3ms/step - loss: 0.0077\n",
      "Epoch 25/300\n",
      "80/80 [==============================] - 0s 2ms/step - loss: 0.0075\n",
      "Epoch 26/300\n",
      "80/80 [==============================] - 0s 3ms/step - loss: 0.0073\n",
      "Epoch 27/300\n",
      "80/80 [==============================] - 0s 3ms/step - loss: 0.0075\n",
      "Epoch 28/300\n",
      "80/80 [==============================] - 0s 4ms/step - loss: 0.0074\n",
      "Epoch 29/300\n",
      "80/80 [==============================] - 0s 3ms/step - loss: 0.0072\n",
      "Epoch 30/300\n",
      "80/80 [==============================] - 0s 3ms/step - loss: 0.0072\n",
      "Epoch 31/300\n",
      "80/80 [==============================] - 0s 3ms/step - loss: 0.0070\n",
      "Epoch 32/300\n",
      "80/80 [==============================] - 0s 3ms/step - loss: 0.0075\n",
      "Epoch 33/300\n",
      "80/80 [==============================] - 0s 3ms/step - loss: 0.0074\n",
      "Epoch 34/300\n",
      "80/80 [==============================] - 0s 4ms/step - loss: 0.0073\n",
      "Epoch 35/300\n",
      "80/80 [==============================] - 0s 3ms/step - loss: 0.0072\n",
      "Epoch 36/300\n",
      "80/80 [==============================] - 0s 2ms/step - loss: 0.0072\n",
      "Epoch 37/300\n",
      "80/80 [==============================] - 0s 2ms/step - loss: 0.0071\n",
      "Epoch 38/300\n",
      "80/80 [==============================] - 0s 3ms/step - loss: 0.0076\n",
      "Epoch 39/300\n",
      "80/80 [==============================] - 0s 3ms/step - loss: 0.0070\n",
      "Epoch 40/300\n",
      "80/80 [==============================] - 0s 3ms/step - loss: 0.0071\n",
      "Epoch 41/300\n",
      "80/80 [==============================] - 0s 3ms/step - loss: 0.0070\n",
      "Epoch 42/300\n",
      "80/80 [==============================] - 0s 2ms/step - loss: 0.0073\n",
      "Epoch 43/300\n",
      "80/80 [==============================] - ETA: 0s - loss: 0.007 - 0s 3ms/step - loss: 0.0071\n",
      "Epoch 44/300\n",
      "80/80 [==============================] - 0s 2ms/step - loss: 0.0069\n",
      "Epoch 45/300\n",
      "80/80 [==============================] - 0s 3ms/step - loss: 0.0069\n",
      "Epoch 46/300\n",
      "80/80 [==============================] - 0s 2ms/step - loss: 0.0071\n",
      "Epoch 47/300\n",
      "80/80 [==============================] - 0s 2ms/step - loss: 0.0071\n",
      "Epoch 48/300\n",
      "80/80 [==============================] - 0s 4ms/step - loss: 0.0070\n",
      "Epoch 49/300\n",
      "80/80 [==============================] - 0s 4ms/step - loss: 0.0069\n",
      "Epoch 50/300\n",
      "80/80 [==============================] - 0s 3ms/step - loss: 0.0069\n",
      "Epoch 51/300\n",
      "80/80 [==============================] - 1s 7ms/step - loss: 0.0067\n",
      "Epoch 52/300\n",
      "80/80 [==============================] - 0s 3ms/step - loss: 0.0069\n",
      "Epoch 53/300\n",
      "80/80 [==============================] - 0s 3ms/step - loss: 0.0070\n",
      "Epoch 54/300\n",
      "80/80 [==============================] - 0s 3ms/step - loss: 0.0070\n",
      "Epoch 55/300\n",
      "80/80 [==============================] - 0s 2ms/step - loss: 0.0066\n",
      "Epoch 56/300\n",
      "80/80 [==============================] - 0s 2ms/step - loss: 0.0066\n",
      "Epoch 57/300\n",
      "80/80 [==============================] - 0s 4ms/step - loss: 0.0071\n",
      "Epoch 58/300\n",
      "80/80 [==============================] - 0s 4ms/step - loss: 0.0069\n",
      "Epoch 59/300\n",
      "80/80 [==============================] - 0s 2ms/step - loss: 0.0068\n",
      "Epoch 60/300\n",
      "80/80 [==============================] - 0s 3ms/step - loss: 0.0065\n",
      "Epoch 61/300\n",
      "80/80 [==============================] - 0s 3ms/step - loss: 0.0067\n",
      "Epoch 62/300\n",
      "80/80 [==============================] - 0s 3ms/step - loss: 0.0066\n",
      "Epoch 63/300\n",
      "80/80 [==============================] - 0s 3ms/step - loss: 0.0067\n",
      "Epoch 64/300\n",
      "80/80 [==============================] - 0s 2ms/step - loss: 0.0069\n",
      "Epoch 65/300\n",
      "80/80 [==============================] - 0s 3ms/step - loss: 0.0065\n",
      "Epoch 66/300\n",
      "80/80 [==============================] - 0s 3ms/step - loss: 0.0065\n",
      "Epoch 67/300\n",
      "80/80 [==============================] - 0s 3ms/step - loss: 0.0071\n",
      "Epoch 68/300\n",
      "80/80 [==============================] - 0s 3ms/step - loss: 0.0067\n",
      "Epoch 69/300\n",
      "80/80 [==============================] - 0s 3ms/step - loss: 0.0066\n",
      "Epoch 70/300\n",
      "80/80 [==============================] - 0s 3ms/step - loss: 0.0066\n",
      "Epoch 71/300\n",
      "80/80 [==============================] - 0s 3ms/step - loss: 0.0068\n",
      "Epoch 72/300\n",
      "80/80 [==============================] - 0s 3ms/step - loss: 0.0066\n",
      "Epoch 73/300\n",
      "80/80 [==============================] - 0s 3ms/step - loss: 0.0063\n",
      "Epoch 74/300\n",
      "80/80 [==============================] - 0s 2ms/step - loss: 0.0066\n",
      "Epoch 75/300\n",
      "80/80 [==============================] - 0s 3ms/step - loss: 0.0067\n",
      "Epoch 76/300\n",
      "80/80 [==============================] - 0s 3ms/step - loss: 0.0065\n",
      "Epoch 77/300\n",
      "80/80 [==============================] - 0s 3ms/step - loss: 0.0065\n",
      "Epoch 78/300\n",
      "80/80 [==============================] - 0s 2ms/step - loss: 0.0067\n",
      "Epoch 79/300\n",
      "80/80 [==============================] - 0s 3ms/step - loss: 0.0061\n",
      "Epoch 80/300\n",
      "80/80 [==============================] - 0s 2ms/step - loss: 0.0066\n",
      "Epoch 81/300\n",
      "80/80 [==============================] - 0s 3ms/step - loss: 0.0067\n",
      "Epoch 82/300\n",
      "80/80 [==============================] - 0s 4ms/step - loss: 0.0066\n",
      "Epoch 83/300\n",
      "80/80 [==============================] - 0s 3ms/step - loss: 0.0065\n",
      "Epoch 84/300\n",
      "80/80 [==============================] - 0s 2ms/step - loss: 0.0061\n",
      "Epoch 85/300\n",
      "80/80 [==============================] - 0s 2ms/step - loss: 0.0065\n",
      "Epoch 86/300\n",
      "80/80 [==============================] - 0s 2ms/step - loss: 0.0063\n",
      "Epoch 87/300\n",
      "80/80 [==============================] - 0s 3ms/step - loss: 0.0062\n",
      "Epoch 88/300\n",
      "80/80 [==============================] - 0s 3ms/step - loss: 0.0065\n",
      "Epoch 89/300\n",
      "80/80 [==============================] - 0s 5ms/step - loss: 0.0065\n",
      "Epoch 90/300\n",
      "80/80 [==============================] - 0s 3ms/step - loss: 0.0064\n",
      "Epoch 91/300\n",
      "80/80 [==============================] - 0s 4ms/step - loss: 0.0064\n",
      "Epoch 92/300\n",
      "80/80 [==============================] - 0s 3ms/step - loss: 0.0064\n",
      "Epoch 93/300\n",
      "80/80 [==============================] - 0s 2ms/step - loss: 0.0064\n",
      "Epoch 94/300\n",
      "80/80 [==============================] - 0s 2ms/step - loss: 0.0063\n",
      "Epoch 95/300\n",
      "80/80 [==============================] - 0s 3ms/step - loss: 0.0064\n",
      "Epoch 96/300\n",
      "80/80 [==============================] - 0s 2ms/step - loss: 0.0066\n",
      "Epoch 97/300\n",
      "80/80 [==============================] - 0s 5ms/step - loss: 0.0064\n",
      "Epoch 98/300\n",
      "80/80 [==============================] - 0s 2ms/step - loss: 0.0064\n",
      "Epoch 99/300\n",
      "80/80 [==============================] - 0s 4ms/step - loss: 0.0065\n",
      "Epoch 100/300\n",
      "80/80 [==============================] - 0s 4ms/step - loss: 0.0060\n",
      "Epoch 101/300\n",
      "80/80 [==============================] - 0s 4ms/step - loss: 0.0065\n",
      "Epoch 102/300\n",
      "80/80 [==============================] - 0s 3ms/step - loss: 0.0064\n",
      "Epoch 103/300\n",
      "80/80 [==============================] - 0s 2ms/step - loss: 0.0063\n",
      "Epoch 104/300\n",
      "80/80 [==============================] - 0s 3ms/step - loss: 0.0065\n",
      "Epoch 105/300\n",
      "80/80 [==============================] - 0s 3ms/step - loss: 0.0063\n",
      "Epoch 106/300\n",
      "80/80 [==============================] - 0s 3ms/step - loss: 0.0067\n",
      "Epoch 107/300\n",
      "80/80 [==============================] - 0s 2ms/step - loss: 0.0064\n",
      "Epoch 108/300\n",
      "80/80 [==============================] - 0s 2ms/step - loss: 0.0062\n",
      "Epoch 109/300\n",
      "80/80 [==============================] - 0s 3ms/step - loss: 0.0061\n",
      "Epoch 110/300\n",
      "80/80 [==============================] - 0s 3ms/step - loss: 0.0060\n",
      "Epoch 111/300\n",
      "80/80 [==============================] - 0s 3ms/step - loss: 0.0064\n",
      "Epoch 112/300\n",
      "80/80 [==============================] - 0s 3ms/step - loss: 0.0064\n",
      "Epoch 113/300\n",
      "80/80 [==============================] - 0s 4ms/step - loss: 0.0061\n",
      "Epoch 114/300\n",
      "80/80 [==============================] - 0s 3ms/step - loss: 0.0062\n",
      "Epoch 115/300\n",
      "80/80 [==============================] - 0s 4ms/step - loss: 0.0062\n",
      "Epoch 116/300\n",
      "80/80 [==============================] - 0s 4ms/step - loss: 0.0065\n",
      "Epoch 117/300\n",
      "80/80 [==============================] - 0s 2ms/step - loss: 0.0061\n",
      "Epoch 118/300\n",
      "80/80 [==============================] - 0s 3ms/step - loss: 0.0064\n",
      "Epoch 119/300\n",
      "80/80 [==============================] - 0s 3ms/step - loss: 0.0063\n",
      "Epoch 120/300\n",
      "80/80 [==============================] - 0s 3ms/step - loss: 0.0063\n",
      "Epoch 121/300\n",
      "80/80 [==============================] - 0s 4ms/step - loss: 0.0061\n",
      "Epoch 122/300\n",
      "80/80 [==============================] - 0s 3ms/step - loss: 0.0064\n",
      "Epoch 123/300\n",
      "80/80 [==============================] - 0s 4ms/step - loss: 0.0062\n",
      "Epoch 124/300\n",
      "80/80 [==============================] - 0s 3ms/step - loss: 0.0061\n",
      "Epoch 125/300\n",
      "80/80 [==============================] - 0s 3ms/step - loss: 0.0061\n",
      "Epoch 126/300\n",
      "80/80 [==============================] - 0s 3ms/step - loss: 0.0059\n",
      "Epoch 127/300\n",
      "80/80 [==============================] - 0s 3ms/step - loss: 0.0060\n",
      "Epoch 128/300\n",
      "80/80 [==============================] - 0s 3ms/step - loss: 0.0059\n",
      "Epoch 129/300\n",
      "80/80 [==============================] - 0s 3ms/step - loss: 0.0061\n",
      "Epoch 130/300\n",
      "80/80 [==============================] - 0s 5ms/step - loss: 0.0061\n",
      "Epoch 131/300\n",
      "80/80 [==============================] - 0s 1ms/step - loss: 0.0060\n",
      "Epoch 132/300\n",
      "80/80 [==============================] - 0s 2ms/step - loss: 0.0061\n",
      "Epoch 133/300\n",
      "80/80 [==============================] - 0s 3ms/step - loss: 0.0062\n",
      "Epoch 134/300\n",
      "80/80 [==============================] - 0s 4ms/step - loss: 0.0060\n",
      "Epoch 135/300\n",
      "80/80 [==============================] - 0s 4ms/step - loss: 0.0060\n",
      "Epoch 136/300\n",
      "80/80 [==============================] - 0s 3ms/step - loss: 0.0061\n",
      "Epoch 137/300\n",
      "80/80 [==============================] - 0s 3ms/step - loss: 0.0061\n",
      "Epoch 138/300\n",
      "80/80 [==============================] - 0s 3ms/step - loss: 0.0062\n",
      "Epoch 139/300\n",
      "80/80 [==============================] - 0s 3ms/step - loss: 0.0065\n",
      "Epoch 140/300\n",
      "80/80 [==============================] - 0s 3ms/step - loss: 0.0059\n",
      "Epoch 141/300\n",
      "80/80 [==============================] - 0s 3ms/step - loss: 0.0062\n",
      "Epoch 142/300\n",
      "80/80 [==============================] - 0s 4ms/step - loss: 0.0060\n",
      "Epoch 143/300\n",
      "80/80 [==============================] - 0s 3ms/step - loss: 0.0060\n",
      "Epoch 144/300\n",
      "80/80 [==============================] - 0s 3ms/step - loss: 0.0059\n",
      "Epoch 145/300\n",
      "80/80 [==============================] - 0s 3ms/step - loss: 0.0063\n",
      "Epoch 146/300\n",
      "80/80 [==============================] - 0s 3ms/step - loss: 0.0063\n",
      "Epoch 147/300\n",
      "80/80 [==============================] - 0s 3ms/step - loss: 0.0060\n",
      "Epoch 148/300\n",
      "80/80 [==============================] - ETA: 0s - loss: 0.005 - 0s 3ms/step - loss: 0.0059\n",
      "Epoch 149/300\n",
      "80/80 [==============================] - 0s 2ms/step - loss: 0.0058\n",
      "Epoch 150/300\n",
      "80/80 [==============================] - 0s 3ms/step - loss: 0.0061\n",
      "Epoch 151/300\n",
      "80/80 [==============================] - 0s 4ms/step - loss: 0.0064\n",
      "Epoch 152/300\n",
      "80/80 [==============================] - 0s 4ms/step - loss: 0.0058\n",
      "Epoch 153/300\n",
      "80/80 [==============================] - 0s 6ms/step - loss: 0.0057\n",
      "Epoch 154/300\n",
      "80/80 [==============================] - 0s 4ms/step - loss: 0.0062\n",
      "Epoch 155/300\n",
      "80/80 [==============================] - 0s 3ms/step - loss: 0.0059\n",
      "Epoch 156/300\n",
      "80/80 [==============================] - 0s 4ms/step - loss: 0.0061\n",
      "Epoch 157/300\n",
      "80/80 [==============================] - 0s 3ms/step - loss: 0.0058\n",
      "Epoch 158/300\n",
      "80/80 [==============================] - 0s 3ms/step - loss: 0.0060\n",
      "Epoch 159/300\n",
      "80/80 [==============================] - 0s 2ms/step - loss: 0.0059\n",
      "Epoch 160/300\n",
      "80/80 [==============================] - 0s 3ms/step - loss: 0.0060\n",
      "Epoch 161/300\n",
      "80/80 [==============================] - 0s 3ms/step - loss: 0.0060\n",
      "Epoch 162/300\n",
      "80/80 [==============================] - 0s 2ms/step - loss: 0.0060\n",
      "Epoch 163/300\n",
      "80/80 [==============================] - 0s 2ms/step - loss: 0.0060\n",
      "Epoch 164/300\n",
      "80/80 [==============================] - 0s 2ms/step - loss: 0.0061\n",
      "Epoch 165/300\n",
      "80/80 [==============================] - 0s 3ms/step - loss: 0.0060\n",
      "Epoch 166/300\n",
      "80/80 [==============================] - 0s 3ms/step - loss: 0.0059\n",
      "Epoch 167/300\n",
      "80/80 [==============================] - 0s 4ms/step - loss: 0.0057\n",
      "Epoch 168/300\n",
      "80/80 [==============================] - 0s 3ms/step - loss: 0.0061\n",
      "Epoch 169/300\n",
      "80/80 [==============================] - 0s 4ms/step - loss: 0.0058\n",
      "Epoch 170/300\n",
      "80/80 [==============================] - 0s 3ms/step - loss: 0.0058\n",
      "Epoch 171/300\n",
      "80/80 [==============================] - 0s 3ms/step - loss: 0.0060\n",
      "Epoch 172/300\n",
      "80/80 [==============================] - 0s 3ms/step - loss: 0.0059\n",
      "Epoch 173/300\n",
      "80/80 [==============================] - 0s 3ms/step - loss: 0.0058\n",
      "Epoch 174/300\n",
      "80/80 [==============================] - 0s 3ms/step - loss: 0.0055\n",
      "Epoch 175/300\n",
      "80/80 [==============================] - 0s 3ms/step - loss: 0.0060\n",
      "Epoch 176/300\n",
      "80/80 [==============================] - 0s 4ms/step - loss: 0.0059\n",
      "Epoch 177/300\n",
      "80/80 [==============================] - 0s 4ms/step - loss: 0.0058\n",
      "Epoch 178/300\n",
      "80/80 [==============================] - 0s 4ms/step - loss: 0.0057\n",
      "Epoch 179/300\n",
      "80/80 [==============================] - 0s 3ms/step - loss: 0.0056\n",
      "Epoch 180/300\n",
      "80/80 [==============================] - 0s 3ms/step - loss: 0.0058\n",
      "Epoch 181/300\n",
      "80/80 [==============================] - 0s 1ms/step - loss: 0.0058\n",
      "Epoch 182/300\n",
      "80/80 [==============================] - 0s 2ms/step - loss: 0.0057\n",
      "Epoch 183/300\n",
      "80/80 [==============================] - 0s 2ms/step - loss: 0.0058\n",
      "Epoch 184/300\n",
      "80/80 [==============================] - 0s 5ms/step - loss: 0.0059\n",
      "Epoch 185/300\n",
      "80/80 [==============================] - 0s 4ms/step - loss: 0.0059\n",
      "Epoch 186/300\n",
      "80/80 [==============================] - 0s 5ms/step - loss: 0.0060\n",
      "Epoch 187/300\n",
      "80/80 [==============================] - 0s 4ms/step - loss: 0.0058\n",
      "Epoch 188/300\n",
      "80/80 [==============================] - 0s 1ms/step - loss: 0.0057\n",
      "Epoch 189/300\n",
      "80/80 [==============================] - 0s 3ms/step - loss: 0.0056\n",
      "Epoch 190/300\n",
      "80/80 [==============================] - 0s 4ms/step - loss: 0.0059\n",
      "Epoch 191/300\n",
      "80/80 [==============================] - 0s 3ms/step - loss: 0.0056\n",
      "Epoch 192/300\n",
      "80/80 [==============================] - 0s 4ms/step - loss: 0.0058\n",
      "Epoch 193/300\n",
      "80/80 [==============================] - 0s 3ms/step - loss: 0.0056\n",
      "Epoch 194/300\n",
      "80/80 [==============================] - 0s 2ms/step - loss: 0.0056\n",
      "Epoch 195/300\n",
      "80/80 [==============================] - 0s 2ms/step - loss: 0.0057\n",
      "Epoch 196/300\n",
      "80/80 [==============================] - 0s 2ms/step - loss: 0.0057\n",
      "Epoch 197/300\n",
      "80/80 [==============================] - 0s 3ms/step - loss: 0.0058\n",
      "Epoch 198/300\n",
      "80/80 [==============================] - 0s 5ms/step - loss: 0.0057\n",
      "Epoch 199/300\n",
      "80/80 [==============================] - 0s 3ms/step - loss: 0.0059\n",
      "Epoch 200/300\n",
      "80/80 [==============================] - 0s 4ms/step - loss: 0.0059\n",
      "Epoch 201/300\n",
      "80/80 [==============================] - 0s 3ms/step - loss: 0.0055\n",
      "Epoch 202/300\n",
      "80/80 [==============================] - 0s 3ms/step - loss: 0.0056\n",
      "Epoch 203/300\n",
      "80/80 [==============================] - 0s 6ms/step - loss: 0.0056\n",
      "Epoch 204/300\n",
      "80/80 [==============================] - 0s 3ms/step - loss: 0.0057\n",
      "Epoch 205/300\n",
      "80/80 [==============================] - 0s 5ms/step - loss: 0.0056\n",
      "Epoch 206/300\n",
      "80/80 [==============================] - 0s 3ms/step - loss: 0.0057\n",
      "Epoch 207/300\n",
      "80/80 [==============================] - 0s 3ms/step - loss: 0.0058\n",
      "Epoch 208/300\n",
      "80/80 [==============================] - 0s 4ms/step - loss: 0.0058\n",
      "Epoch 209/300\n",
      "80/80 [==============================] - 0s 3ms/step - loss: 0.0055\n",
      "Epoch 210/300\n",
      "80/80 [==============================] - 0s 3ms/step - loss: 0.0055\n",
      "Epoch 211/300\n",
      "80/80 [==============================] - 1s 6ms/step - loss: 0.0057\n",
      "Epoch 212/300\n",
      "80/80 [==============================] - 0s 4ms/step - loss: 0.0056\n",
      "Epoch 213/300\n",
      "80/80 [==============================] - 0s 2ms/step - loss: 0.0057\n",
      "Epoch 214/300\n",
      "80/80 [==============================] - 0s 3ms/step - loss: 0.0054\n",
      "Epoch 215/300\n",
      "80/80 [==============================] - 0s 2ms/step - loss: 0.0056\n",
      "Epoch 216/300\n",
      "80/80 [==============================] - 0s 2ms/step - loss: 0.0058\n",
      "Epoch 217/300\n",
      "80/80 [==============================] - 0s 2ms/step - loss: 0.0055\n",
      "Epoch 218/300\n",
      "80/80 [==============================] - 0s 4ms/step - loss: 0.0057\n",
      "Epoch 219/300\n",
      "80/80 [==============================] - 0s 3ms/step - loss: 0.0057\n",
      "Epoch 220/300\n",
      "80/80 [==============================] - 0s 4ms/step - loss: 0.0057\n",
      "Epoch 221/300\n",
      "80/80 [==============================] - 0s 3ms/step - loss: 0.0057\n",
      "Epoch 222/300\n",
      "80/80 [==============================] - 0s 4ms/step - loss: 0.0056\n",
      "Epoch 223/300\n",
      "80/80 [==============================] - 0s 5ms/step - loss: 0.0059\n",
      "Epoch 224/300\n",
      "80/80 [==============================] - 0s 3ms/step - loss: 0.0056\n",
      "Epoch 225/300\n",
      "80/80 [==============================] - 0s 3ms/step - loss: 0.0058\n",
      "Epoch 226/300\n",
      "80/80 [==============================] - 0s 4ms/step - loss: 0.0056\n",
      "Epoch 227/300\n",
      "80/80 [==============================] - 0s 3ms/step - loss: 0.0056\n",
      "Epoch 228/300\n",
      "80/80 [==============================] - 0s 3ms/step - loss: 0.0054\n",
      "Epoch 229/300\n",
      "80/80 [==============================] - 0s 4ms/step - loss: 0.0057\n",
      "Epoch 230/300\n",
      "80/80 [==============================] - 0s 4ms/step - loss: 0.0056\n",
      "Epoch 231/300\n",
      "80/80 [==============================] - 0s 3ms/step - loss: 0.0056\n",
      "Epoch 232/300\n",
      "80/80 [==============================] - 0s 3ms/step - loss: 0.0053\n",
      "Epoch 233/300\n",
      "80/80 [==============================] - 0s 4ms/step - loss: 0.0056\n",
      "Epoch 234/300\n",
      "80/80 [==============================] - 0s 3ms/step - loss: 0.0056\n",
      "Epoch 235/300\n",
      "80/80 [==============================] - 0s 3ms/step - loss: 0.0055\n",
      "Epoch 236/300\n",
      "80/80 [==============================] - 0s 4ms/step - loss: 0.0054\n",
      "Epoch 237/300\n",
      "80/80 [==============================] - 0s 4ms/step - loss: 0.0053\n",
      "Epoch 238/300\n",
      "80/80 [==============================] - 0s 6ms/step - loss: 0.0055\n",
      "Epoch 239/300\n",
      "80/80 [==============================] - 0s 1ms/step - loss: 0.0054\n",
      "Epoch 240/300\n",
      "80/80 [==============================] - 0s 3ms/step - loss: 0.0052\n",
      "Epoch 241/300\n",
      "80/80 [==============================] - 0s 3ms/step - loss: 0.0056\n",
      "Epoch 242/300\n",
      "80/80 [==============================] - 0s 3ms/step - loss: 0.0057\n",
      "Epoch 243/300\n",
      "80/80 [==============================] - 0s 4ms/step - loss: 0.0056\n",
      "Epoch 244/300\n",
      "80/80 [==============================] - 0s 3ms/step - loss: 0.0055\n",
      "Epoch 245/300\n",
      "80/80 [==============================] - 0s 4ms/step - loss: 0.0054\n",
      "Epoch 246/300\n",
      "80/80 [==============================] - 0s 5ms/step - loss: 0.0053\n",
      "Epoch 247/300\n",
      "80/80 [==============================] - 0s 4ms/step - loss: 0.0055\n",
      "Epoch 248/300\n",
      "80/80 [==============================] - 0s 4ms/step - loss: 0.0056\n",
      "Epoch 249/300\n",
      "80/80 [==============================] - 0s 4ms/step - loss: 0.0055\n",
      "Epoch 250/300\n",
      "80/80 [==============================] - 0s 6ms/step - loss: 0.0055\n",
      "Epoch 251/300\n",
      "80/80 [==============================] - 0s 4ms/step - loss: 0.0053\n",
      "Epoch 252/300\n",
      "80/80 [==============================] - 0s 3ms/step - loss: 0.0055\n",
      "Epoch 253/300\n",
      "80/80 [==============================] - 0s 3ms/step - loss: 0.0057\n",
      "Epoch 254/300\n",
      "80/80 [==============================] - 0s 4ms/step - loss: 0.0054\n",
      "Epoch 255/300\n",
      "80/80 [==============================] - 0s 4ms/step - loss: 0.0058\n",
      "Epoch 256/300\n",
      "80/80 [==============================] - 0s 2ms/step - loss: 0.0056\n",
      "Epoch 257/300\n",
      "80/80 [==============================] - 0s 3ms/step - loss: 0.0058\n",
      "Epoch 258/300\n",
      "80/80 [==============================] - 0s 4ms/step - loss: 0.0055\n",
      "Epoch 259/300\n",
      "80/80 [==============================] - 0s 4ms/step - loss: 0.0055\n",
      "Epoch 260/300\n",
      "80/80 [==============================] - 0s 5ms/step - loss: 0.0053\n",
      "Epoch 261/300\n",
      "80/80 [==============================] - 0s 4ms/step - loss: 0.0052\n",
      "Epoch 262/300\n",
      "80/80 [==============================] - 0s 5ms/step - loss: 0.0058\n",
      "Epoch 263/300\n",
      "80/80 [==============================] - 0s 3ms/step - loss: 0.0055\n",
      "Epoch 264/300\n",
      "80/80 [==============================] - 0s 4ms/step - loss: 0.0053\n",
      "Epoch 265/300\n",
      "80/80 [==============================] - 0s 3ms/step - loss: 0.0056\n",
      "Epoch 266/300\n",
      "80/80 [==============================] - 0s 4ms/step - loss: 0.0054\n",
      "Epoch 267/300\n",
      "80/80 [==============================] - 0s 3ms/step - loss: 0.0052\n",
      "Epoch 268/300\n",
      "80/80 [==============================] - 0s 3ms/step - loss: 0.0054\n",
      "Epoch 269/300\n",
      "80/80 [==============================] - 0s 3ms/step - loss: 0.0059\n",
      "Epoch 270/300\n",
      "80/80 [==============================] - 0s 2ms/step - loss: 0.0054\n",
      "Epoch 271/300\n",
      "80/80 [==============================] - 0s 2ms/step - loss: 0.0055\n",
      "Epoch 272/300\n",
      "80/80 [==============================] - 0s 4ms/step - loss: 0.0054\n",
      "Epoch 273/300\n",
      "80/80 [==============================] - 0s 3ms/step - loss: 0.0056\n",
      "Epoch 274/300\n",
      "80/80 [==============================] - 0s 3ms/step - loss: 0.0055\n",
      "Epoch 275/300\n",
      "80/80 [==============================] - 0s 2ms/step - loss: 0.0054\n",
      "Epoch 276/300\n",
      "80/80 [==============================] - 0s 4ms/step - loss: 0.0054\n",
      "Epoch 277/300\n",
      "80/80 [==============================] - 0s 2ms/step - loss: 0.0053\n",
      "Epoch 278/300\n",
      "80/80 [==============================] - 0s 3ms/step - loss: 0.0053\n",
      "Epoch 279/300\n",
      "80/80 [==============================] - 0s 2ms/step - loss: 0.0055\n",
      "Epoch 280/300\n",
      "80/80 [==============================] - 0s 1ms/step - loss: 0.0054\n",
      "Epoch 281/300\n",
      "80/80 [==============================] - 0s 2ms/step - loss: 0.0052\n",
      "Epoch 282/300\n",
      "80/80 [==============================] - 0s 3ms/step - loss: 0.0055\n",
      "Epoch 283/300\n",
      "80/80 [==============================] - 0s 2ms/step - loss: 0.0057\n",
      "Epoch 284/300\n",
      "80/80 [==============================] - 0s 3ms/step - loss: 0.0054\n",
      "Epoch 285/300\n",
      "80/80 [==============================] - 0s 4ms/step - loss: 0.0055\n",
      "Epoch 286/300\n",
      "80/80 [==============================] - 0s 4ms/step - loss: 0.0055\n",
      "Epoch 287/300\n",
      "80/80 [==============================] - 0s 5ms/step - loss: 0.0054\n",
      "Epoch 288/300\n",
      "80/80 [==============================] - 0s 3ms/step - loss: 0.0053\n",
      "Epoch 289/300\n",
      "80/80 [==============================] - 0s 3ms/step - loss: 0.0054\n",
      "Epoch 290/300\n",
      "80/80 [==============================] - 0s 3ms/step - loss: 0.0052\n",
      "Epoch 291/300\n",
      "80/80 [==============================] - 0s 3ms/step - loss: 0.0053\n",
      "Epoch 292/300\n",
      "80/80 [==============================] - 0s 3ms/step - loss: 0.0054\n",
      "Epoch 293/300\n",
      "80/80 [==============================] - 0s 3ms/step - loss: 0.0053\n",
      "Epoch 294/300\n",
      "80/80 [==============================] - 0s 3ms/step - loss: 0.0054\n",
      "Epoch 295/300\n",
      "80/80 [==============================] - 0s 3ms/step - loss: 0.0054\n",
      "Epoch 296/300\n",
      "80/80 [==============================] - 0s 4ms/step - loss: 0.0053\n",
      "Epoch 297/300\n",
      "80/80 [==============================] - 0s 5ms/step - loss: 0.0055\n",
      "Epoch 298/300\n",
      "80/80 [==============================] - 0s 4ms/step - loss: 0.0053\n",
      "Epoch 299/300\n",
      "80/80 [==============================] - 0s 2ms/step - loss: 0.0053\n",
      "Epoch 300/300\n",
      "80/80 [==============================] - 0s 3ms/step - loss: 0.0053\n"
     ]
    }
   ],
   "source": [
    "history = model.fit(x_train_normalized,\n",
    "                    y_train_normalized,\n",
    "                    epochs=300)"
   ]
  },
  {
   "cell_type": "markdown",
   "id": "e5fe86b0-c3f0-4145-aaea-293b245851b2",
   "metadata": {},
   "source": [
    "# Neuronales Netz testen"
   ]
  },
  {
   "cell_type": "code",
   "execution_count": 267,
   "id": "e6cc23ad-92a8-437d-8483-da7785d10749",
   "metadata": {},
   "outputs": [
    {
     "name": "stdout",
     "output_type": "stream",
     "text": [
      "Modell wird getestet auf 348 Testbeispielen...\n",
      "ist: 1.61 vs. vorhergesagt: 4.64 --> fehler: 3.03\n",
      "ist: 0.14 vs. vorhergesagt: 3.55 --> fehler: 3.41\n",
      "ist: -2.49 vs. vorhergesagt: 1.55 --> fehler: 4.04\n",
      "ist: -3.03 vs. vorhergesagt: 1.63 --> fehler: 4.66\n",
      "ist: -5.98 vs. vorhergesagt: 0.53 --> fehler: 6.51\n",
      "ist: -0.49 vs. vorhergesagt: -1.59 --> fehler: 1.10\n",
      "ist: -1.70 vs. vorhergesagt: -0.95 --> fehler: 0.75\n",
      "ist: -6.87 vs. vorhergesagt: -0.16 --> fehler: 6.71\n",
      "ist: 4.18 vs. vorhergesagt: -2.52 --> fehler: 6.70\n",
      "ist: 3.38 vs. vorhergesagt: 0.53 --> fehler: 2.85\n",
      "ist: 7.51 vs. vorhergesagt: 3.11 --> fehler: 4.40\n",
      "ist: 9.53 vs. vorhergesagt: 4.16 --> fehler: 5.37\n",
      "ist: 11.33 vs. vorhergesagt: 3.69 --> fehler: 7.64\n",
      "ist: 8.17 vs. vorhergesagt: 8.07 --> fehler: 0.10\n",
      "ist: 6.78 vs. vorhergesagt: 4.84 --> fehler: 1.94\n",
      "ist: 7.67 vs. vorhergesagt: 4.81 --> fehler: 2.86\n",
      "ist: 4.01 vs. vorhergesagt: 7.17 --> fehler: 3.16\n",
      "ist: 12.10 vs. vorhergesagt: 4.92 --> fehler: 7.18\n",
      "ist: 12.47 vs. vorhergesagt: 7.05 --> fehler: 5.42\n",
      "ist: 5.69 vs. vorhergesagt: 9.98 --> fehler: 4.29\n",
      "ist: 3.99 vs. vorhergesagt: 9.32 --> fehler: 5.33\n",
      "ist: 4.00 vs. vorhergesagt: 5.62 --> fehler: 1.62\n",
      "ist: 8.77 vs. vorhergesagt: 8.00 --> fehler: 0.77\n",
      "ist: 6.70 vs. vorhergesagt: 8.49 --> fehler: 1.79\n",
      "ist: 9.82 vs. vorhergesagt: 5.10 --> fehler: 4.72\n",
      "ist: 7.61 vs. vorhergesagt: 8.27 --> fehler: 0.66\n",
      "ist: 4.80 vs. vorhergesagt: 8.25 --> fehler: 3.45\n",
      "ist: 6.73 vs. vorhergesagt: 6.71 --> fehler: 0.02\n",
      "ist: 4.27 vs. vorhergesagt: 7.07 --> fehler: 2.80\n",
      "ist: 2.74 vs. vorhergesagt: 7.19 --> fehler: 4.45\n",
      "ist: 8.47 vs. vorhergesagt: 4.93 --> fehler: 3.54\n",
      "ist: 4.29 vs. vorhergesagt: 5.25 --> fehler: 0.96\n",
      "ist: -1.47 vs. vorhergesagt: 6.84 --> fehler: 8.31\n",
      "ist: -0.11 vs. vorhergesagt: 2.47 --> fehler: 2.58\n",
      "ist: 4.43 vs. vorhergesagt: 1.84 --> fehler: 2.59\n",
      "ist: 2.96 vs. vorhergesagt: 5.70 --> fehler: 2.74\n",
      "ist: 4.25 vs. vorhergesagt: 3.63 --> fehler: 0.62\n",
      "ist: 9.10 vs. vorhergesagt: 1.92 --> fehler: 7.18\n",
      "ist: 10.66 vs. vorhergesagt: 7.40 --> fehler: 3.26\n",
      "ist: 2.24 vs. vorhergesagt: 8.80 --> fehler: 6.56\n",
      "ist: 2.29 vs. vorhergesagt: 3.82 --> fehler: 1.53\n",
      "ist: 0.58 vs. vorhergesagt: 4.11 --> fehler: 3.53\n",
      "ist: 2.04 vs. vorhergesagt: 4.79 --> fehler: 2.75\n",
      "ist: 2.89 vs. vorhergesagt: 2.15 --> fehler: 0.74\n",
      "ist: 0.84 vs. vorhergesagt: 1.54 --> fehler: 0.70\n",
      "ist: -1.48 vs. vorhergesagt: 2.91 --> fehler: 4.39\n",
      "ist: -0.06 vs. vorhergesagt: 1.86 --> fehler: 1.92\n",
      "ist: 5.58 vs. vorhergesagt: 0.89 --> fehler: 4.69\n",
      "ist: 4.39 vs. vorhergesagt: 5.18 --> fehler: 0.79\n",
      "ist: 5.31 vs. vorhergesagt: 4.03 --> fehler: 1.28\n",
      "ist: 8.15 vs. vorhergesagt: 3.65 --> fehler: 4.50\n",
      "ist: 5.27 vs. vorhergesagt: 5.83 --> fehler: 0.56\n",
      "ist: 3.30 vs. vorhergesagt: 6.42 --> fehler: 3.12\n",
      "ist: 3.73 vs. vorhergesagt: 4.04 --> fehler: 0.31\n",
      "ist: 5.87 vs. vorhergesagt: 4.51 --> fehler: 1.36\n",
      "ist: 2.12 vs. vorhergesagt: 6.61 --> fehler: 4.49\n",
      "ist: 2.89 vs. vorhergesagt: 2.88 --> fehler: 0.01\n",
      "ist: 1.54 vs. vorhergesagt: 2.93 --> fehler: 1.39\n",
      "ist: 0.87 vs. vorhergesagt: 4.36 --> fehler: 3.49\n",
      "ist: 1.89 vs. vorhergesagt: 3.29 --> fehler: 1.40\n",
      "ist: 3.32 vs. vorhergesagt: 2.31 --> fehler: 1.01\n",
      "ist: 4.17 vs. vorhergesagt: 3.87 --> fehler: 0.30\n",
      "ist: 7.49 vs. vorhergesagt: 4.45 --> fehler: 3.04\n",
      "ist: 10.34 vs. vorhergesagt: 4.61 --> fehler: 5.73\n",
      "ist: 4.80 vs. vorhergesagt: 7.82 --> fehler: 3.02\n",
      "ist: 4.90 vs. vorhergesagt: 6.04 --> fehler: 1.14\n",
      "ist: 7.55 vs. vorhergesagt: 5.18 --> fehler: 2.37\n",
      "ist: 5.95 vs. vorhergesagt: 6.89 --> fehler: 0.94\n",
      "ist: 5.89 vs. vorhergesagt: 7.40 --> fehler: 1.51\n",
      "ist: 7.85 vs. vorhergesagt: 4.69 --> fehler: 3.16\n",
      "ist: 7.91 vs. vorhergesagt: 6.85 --> fehler: 1.06\n",
      "ist: 9.17 vs. vorhergesagt: 9.12 --> fehler: 0.05\n",
      "ist: 13.09 vs. vorhergesagt: 7.62 --> fehler: 5.47\n",
      "ist: 11.00 vs. vorhergesagt: 10.31 --> fehler: 0.69\n",
      "ist: 9.34 vs. vorhergesagt: 11.49 --> fehler: 2.15\n",
      "ist: 10.86 vs. vorhergesagt: 9.02 --> fehler: 1.84\n",
      "ist: 6.85 vs. vorhergesagt: 9.90 --> fehler: 3.05\n",
      "ist: 4.77 vs. vorhergesagt: 10.10 --> fehler: 5.33\n",
      "ist: 12.44 vs. vorhergesagt: 6.90 --> fehler: 5.54\n",
      "ist: 17.56 vs. vorhergesagt: 9.20 --> fehler: 8.36\n",
      "ist: 18.44 vs. vorhergesagt: 14.25 --> fehler: 4.19\n",
      "ist: 17.48 vs. vorhergesagt: 13.87 --> fehler: 3.61\n",
      "ist: 13.04 vs. vorhergesagt: 13.65 --> fehler: 0.61\n",
      "ist: 6.83 vs. vorhergesagt: 15.74 --> fehler: 8.91\n",
      "ist: 10.84 vs. vorhergesagt: 11.69 --> fehler: 0.85\n",
      "ist: 11.38 vs. vorhergesagt: 10.03 --> fehler: 1.35\n",
      "ist: 12.48 vs. vorhergesagt: 12.36 --> fehler: 0.12\n",
      "ist: 9.03 vs. vorhergesagt: 11.07 --> fehler: 2.04\n",
      "ist: 15.95 vs. vorhergesagt: 8.54 --> fehler: 7.41\n",
      "ist: 14.76 vs. vorhergesagt: 14.19 --> fehler: 0.57\n",
      "ist: 11.28 vs. vorhergesagt: 15.03 --> fehler: 3.75\n",
      "ist: 11.04 vs. vorhergesagt: 12.13 --> fehler: 1.09\n",
      "ist: 10.59 vs. vorhergesagt: 11.75 --> fehler: 1.16\n",
      "ist: 7.71 vs. vorhergesagt: 12.34 --> fehler: 4.63\n",
      "ist: 10.61 vs. vorhergesagt: 10.13 --> fehler: 0.48\n",
      "ist: 10.89 vs. vorhergesagt: 8.93 --> fehler: 1.96\n",
      "ist: 9.69 vs. vorhergesagt: 12.18 --> fehler: 2.49\n",
      "ist: 13.86 vs. vorhergesagt: 10.35 --> fehler: 3.51\n",
      "ist: 10.99 vs. vorhergesagt: 10.96 --> fehler: 0.03\n",
      "ist: 5.25 vs. vorhergesagt: 12.30 --> fehler: 7.05\n",
      "ist: 3.68 vs. vorhergesagt: 9.31 --> fehler: 5.63\n",
      "ist: 4.32 vs. vorhergesagt: 5.96 --> fehler: 1.64\n",
      "ist: 5.22 vs. vorhergesagt: 8.10 --> fehler: 2.88\n",
      "ist: 6.00 vs. vorhergesagt: 6.62 --> fehler: 0.62\n",
      "ist: 7.36 vs. vorhergesagt: 4.79 --> fehler: 2.57\n",
      "ist: 11.54 vs. vorhergesagt: 7.48 --> fehler: 4.06\n",
      "ist: 16.34 vs. vorhergesagt: 9.56 --> fehler: 6.78\n",
      "ist: 12.68 vs. vorhergesagt: 11.88 --> fehler: 0.80\n",
      "ist: 15.10 vs. vorhergesagt: 11.71 --> fehler: 3.39\n",
      "ist: 16.90 vs. vorhergesagt: 12.65 --> fehler: 4.25\n",
      "ist: 10.33 vs. vorhergesagt: 14.23 --> fehler: 3.90\n",
      "ist: 14.87 vs. vorhergesagt: 12.27 --> fehler: 2.60\n",
      "ist: 21.10 vs. vorhergesagt: 12.38 --> fehler: 8.72\n",
      "ist: 21.75 vs. vorhergesagt: 15.98 --> fehler: 5.77\n",
      "ist: 20.10 vs. vorhergesagt: 17.92 --> fehler: 2.18\n",
      "ist: 20.36 vs. vorhergesagt: 15.78 --> fehler: 4.58\n",
      "ist: 21.50 vs. vorhergesagt: 19.41 --> fehler: 2.09\n",
      "ist: 20.61 vs. vorhergesagt: 21.44 --> fehler: 0.83\n",
      "ist: 20.09 vs. vorhergesagt: 18.93 --> fehler: 1.16\n",
      "ist: 17.24 vs. vorhergesagt: 19.12 --> fehler: 1.88\n",
      "ist: 10.51 vs. vorhergesagt: 19.18 --> fehler: 8.67\n",
      "ist: 8.13 vs. vorhergesagt: 14.56 --> fehler: 6.43\n",
      "ist: 8.92 vs. vorhergesagt: 12.36 --> fehler: 3.44\n",
      "ist: 10.54 vs. vorhergesagt: 12.97 --> fehler: 2.43\n",
      "ist: 16.01 vs. vorhergesagt: 12.30 --> fehler: 3.71\n",
      "ist: 13.85 vs. vorhergesagt: 12.72 --> fehler: 1.13\n",
      "ist: 18.79 vs. vorhergesagt: 13.50 --> fehler: 5.29\n",
      "ist: 20.82 vs. vorhergesagt: 16.32 --> fehler: 4.50\n",
      "ist: 26.65 vs. vorhergesagt: 17.55 --> fehler: 9.10\n",
      "ist: 18.07 vs. vorhergesagt: 21.53 --> fehler: 3.46\n",
      "ist: 12.30 vs. vorhergesagt: 17.86 --> fehler: 5.56\n",
      "ist: 13.39 vs. vorhergesagt: 14.60 --> fehler: 1.21\n",
      "ist: 16.62 vs. vorhergesagt: 15.70 --> fehler: 0.92\n",
      "ist: 18.21 vs. vorhergesagt: 16.85 --> fehler: 1.36\n",
      "ist: 20.81 vs. vorhergesagt: 15.80 --> fehler: 5.01\n",
      "ist: 20.68 vs. vorhergesagt: 16.66 --> fehler: 4.02\n",
      "ist: 19.47 vs. vorhergesagt: 19.98 --> fehler: 0.51\n",
      "ist: 21.43 vs. vorhergesagt: 18.89 --> fehler: 2.54\n",
      "ist: 19.45 vs. vorhergesagt: 19.91 --> fehler: 0.46\n",
      "ist: 15.85 vs. vorhergesagt: 20.07 --> fehler: 4.22\n",
      "ist: 18.60 vs. vorhergesagt: 17.67 --> fehler: 0.93\n",
      "ist: 20.74 vs. vorhergesagt: 16.69 --> fehler: 4.05\n",
      "ist: 24.15 vs. vorhergesagt: 19.74 --> fehler: 4.41\n",
      "ist: 23.92 vs. vorhergesagt: 21.06 --> fehler: 2.86\n",
      "ist: 23.61 vs. vorhergesagt: 20.58 --> fehler: 3.03\n",
      "ist: 22.85 vs. vorhergesagt: 22.56 --> fehler: 0.29\n",
      "ist: 16.62 vs. vorhergesagt: 22.34 --> fehler: 5.72\n",
      "ist: 19.16 vs. vorhergesagt: 19.32 --> fehler: 0.16\n",
      "ist: 17.77 vs. vorhergesagt: 19.83 --> fehler: 2.06\n",
      "ist: 19.86 vs. vorhergesagt: 18.90 --> fehler: 0.96\n",
      "ist: 19.50 vs. vorhergesagt: 18.82 --> fehler: 0.68\n",
      "ist: 19.80 vs. vorhergesagt: 17.94 --> fehler: 1.86\n",
      "ist: 19.61 vs. vorhergesagt: 19.79 --> fehler: 0.18\n",
      "ist: 17.91 vs. vorhergesagt: 19.93 --> fehler: 2.02\n",
      "ist: 17.17 vs. vorhergesagt: 18.33 --> fehler: 1.16\n",
      "ist: 18.65 vs. vorhergesagt: 18.66 --> fehler: 0.01\n",
      "ist: 17.55 vs. vorhergesagt: 18.16 --> fehler: 0.61\n",
      "ist: 19.88 vs. vorhergesagt: 17.99 --> fehler: 1.89\n",
      "ist: 20.57 vs. vorhergesagt: 18.02 --> fehler: 2.55\n",
      "ist: 23.01 vs. vorhergesagt: 19.18 --> fehler: 3.83\n",
      "ist: 29.57 vs. vorhergesagt: 20.86 --> fehler: 8.71\n",
      "ist: 31.39 vs. vorhergesagt: 23.65 --> fehler: 7.74\n",
      "ist: 24.89 vs. vorhergesagt: 26.14 --> fehler: 1.25\n",
      "ist: 20.62 vs. vorhergesagt: 24.25 --> fehler: 3.63\n",
      "ist: 19.39 vs. vorhergesagt: 21.74 --> fehler: 2.35\n",
      "ist: 19.82 vs. vorhergesagt: 22.56 --> fehler: 2.74\n",
      "ist: 22.97 vs. vorhergesagt: 21.54 --> fehler: 1.43\n",
      "ist: 21.77 vs. vorhergesagt: 20.00 --> fehler: 1.77\n",
      "ist: 23.67 vs. vorhergesagt: 20.64 --> fehler: 3.03\n",
      "ist: 17.90 vs. vorhergesagt: 22.17 --> fehler: 4.27\n",
      "ist: 18.06 vs. vorhergesagt: 19.79 --> fehler: 1.73\n",
      "ist: 19.34 vs. vorhergesagt: 20.29 --> fehler: 0.95\n",
      "ist: 22.77 vs. vorhergesagt: 20.18 --> fehler: 2.59\n",
      "ist: 17.06 vs. vorhergesagt: 21.09 --> fehler: 4.03\n",
      "ist: 19.59 vs. vorhergesagt: 17.82 --> fehler: 1.77\n",
      "ist: 25.92 vs. vorhergesagt: 18.00 --> fehler: 7.92\n",
      "ist: 22.04 vs. vorhergesagt: 23.17 --> fehler: 1.13\n",
      "ist: 27.02 vs. vorhergesagt: 21.77 --> fehler: 5.25\n",
      "ist: 29.47 vs. vorhergesagt: 22.16 --> fehler: 7.31\n",
      "ist: 22.46 vs. vorhergesagt: 25.38 --> fehler: 2.92\n",
      "ist: 20.14 vs. vorhergesagt: 24.80 --> fehler: 4.66\n",
      "ist: 13.60 vs. vorhergesagt: 19.31 --> fehler: 5.71\n",
      "ist: 14.72 vs. vorhergesagt: 19.10 --> fehler: 4.38\n",
      "ist: 21.45 vs. vorhergesagt: 19.22 --> fehler: 2.23\n",
      "ist: 23.40 vs. vorhergesagt: 17.26 --> fehler: 6.14\n",
      "ist: 23.73 vs. vorhergesagt: 20.63 --> fehler: 3.10\n",
      "ist: 26.56 vs. vorhergesagt: 21.21 --> fehler: 5.35\n",
      "ist: 27.33 vs. vorhergesagt: 22.33 --> fehler: 5.00\n",
      "ist: 19.10 vs. vorhergesagt: 26.23 --> fehler: 7.13\n",
      "ist: 26.57 vs. vorhergesagt: 21.59 --> fehler: 4.98\n",
      "ist: 25.21 vs. vorhergesagt: 22.64 --> fehler: 2.57\n",
      "ist: 25.59 vs. vorhergesagt: 24.82 --> fehler: 0.77\n",
      "ist: 27.24 vs. vorhergesagt: 23.27 --> fehler: 3.97\n",
      "ist: 22.36 vs. vorhergesagt: 22.44 --> fehler: 0.08\n",
      "ist: 23.21 vs. vorhergesagt: 25.25 --> fehler: 2.04\n",
      "ist: 23.50 vs. vorhergesagt: 24.62 --> fehler: 1.12\n",
      "ist: 23.25 vs. vorhergesagt: 22.07 --> fehler: 1.18\n",
      "ist: 24.32 vs. vorhergesagt: 24.98 --> fehler: 0.66\n",
      "ist: 23.33 vs. vorhergesagt: 22.46 --> fehler: 0.87\n",
      "ist: 19.64 vs. vorhergesagt: 22.50 --> fehler: 2.86\n",
      "ist: 17.54 vs. vorhergesagt: 21.94 --> fehler: 4.40\n",
      "ist: 20.26 vs. vorhergesagt: 19.50 --> fehler: 0.76\n",
      "ist: 23.46 vs. vorhergesagt: 21.05 --> fehler: 2.41\n",
      "ist: 18.95 vs. vorhergesagt: 22.23 --> fehler: 3.28\n",
      "ist: 20.94 vs. vorhergesagt: 19.19 --> fehler: 1.75\n",
      "ist: 23.57 vs. vorhergesagt: 19.55 --> fehler: 4.02\n",
      "ist: 25.28 vs. vorhergesagt: 22.48 --> fehler: 2.80\n",
      "ist: 18.16 vs. vorhergesagt: 23.52 --> fehler: 5.36\n",
      "ist: 12.00 vs. vorhergesagt: 19.03 --> fehler: 7.03\n",
      "ist: 16.41 vs. vorhergesagt: 16.66 --> fehler: 0.25\n",
      "ist: 15.21 vs. vorhergesagt: 18.26 --> fehler: 3.05\n",
      "ist: 24.32 vs. vorhergesagt: 16.67 --> fehler: 7.65\n",
      "ist: 21.87 vs. vorhergesagt: 18.93 --> fehler: 2.94\n",
      "ist: 20.30 vs. vorhergesagt: 19.27 --> fehler: 1.03\n",
      "ist: 20.40 vs. vorhergesagt: 20.55 --> fehler: 0.15\n",
      "ist: 16.48 vs. vorhergesagt: 18.99 --> fehler: 2.51\n",
      "ist: 20.43 vs. vorhergesagt: 19.45 --> fehler: 0.98\n",
      "ist: 24.95 vs. vorhergesagt: 19.74 --> fehler: 5.21\n",
      "ist: 24.92 vs. vorhergesagt: 19.80 --> fehler: 5.12\n",
      "ist: 20.66 vs. vorhergesagt: 22.50 --> fehler: 1.84\n",
      "ist: 19.97 vs. vorhergesagt: 19.09 --> fehler: 0.88\n",
      "ist: 25.19 vs. vorhergesagt: 20.43 --> fehler: 4.76\n",
      "ist: 27.65 vs. vorhergesagt: 24.45 --> fehler: 3.20\n",
      "ist: 29.50 vs. vorhergesagt: 24.39 --> fehler: 5.11\n",
      "ist: 30.43 vs. vorhergesagt: 24.58 --> fehler: 5.85\n",
      "ist: 28.97 vs. vorhergesagt: 26.32 --> fehler: 2.65\n",
      "ist: 32.81 vs. vorhergesagt: 27.50 --> fehler: 5.31\n",
      "ist: 23.01 vs. vorhergesagt: 29.12 --> fehler: 6.11\n",
      "ist: 18.91 vs. vorhergesagt: 26.14 --> fehler: 7.23\n",
      "ist: 22.97 vs. vorhergesagt: 23.43 --> fehler: 0.46\n",
      "ist: 22.44 vs. vorhergesagt: 22.54 --> fehler: 0.10\n",
      "ist: 23.25 vs. vorhergesagt: 23.61 --> fehler: 0.36\n",
      "ist: 24.55 vs. vorhergesagt: 21.60 --> fehler: 2.95\n",
      "ist: 17.14 vs. vorhergesagt: 22.19 --> fehler: 5.05\n",
      "ist: 16.86 vs. vorhergesagt: 22.77 --> fehler: 5.91\n",
      "ist: 18.43 vs. vorhergesagt: 18.73 --> fehler: 0.30\n",
      "ist: 22.19 vs. vorhergesagt: 19.56 --> fehler: 2.63\n",
      "ist: 26.16 vs. vorhergesagt: 22.09 --> fehler: 4.07\n",
      "ist: 24.55 vs. vorhergesagt: 20.92 --> fehler: 3.63\n",
      "ist: 25.97 vs. vorhergesagt: 21.39 --> fehler: 4.58\n",
      "ist: 26.64 vs. vorhergesagt: 24.06 --> fehler: 2.58\n",
      "ist: 29.03 vs. vorhergesagt: 24.30 --> fehler: 4.73\n",
      "ist: 29.11 vs. vorhergesagt: 26.68 --> fehler: 2.43\n",
      "ist: 26.69 vs. vorhergesagt: 26.18 --> fehler: 0.51\n",
      "ist: 24.96 vs. vorhergesagt: 25.33 --> fehler: 0.37\n",
      "ist: 19.61 vs. vorhergesagt: 24.81 --> fehler: 5.20\n",
      "ist: 15.53 vs. vorhergesagt: 22.69 --> fehler: 7.16\n",
      "ist: 15.01 vs. vorhergesagt: 20.49 --> fehler: 5.48\n",
      "ist: 13.71 vs. vorhergesagt: 18.28 --> fehler: 4.57\n",
      "ist: 14.53 vs. vorhergesagt: 17.04 --> fehler: 2.51\n",
      "ist: 15.17 vs. vorhergesagt: 15.67 --> fehler: 0.50\n",
      "ist: 18.41 vs. vorhergesagt: 15.70 --> fehler: 2.71\n",
      "ist: 19.78 vs. vorhergesagt: 18.24 --> fehler: 1.54\n",
      "ist: 19.15 vs. vorhergesagt: 18.56 --> fehler: 0.59\n",
      "ist: 20.07 vs. vorhergesagt: 18.30 --> fehler: 1.77\n",
      "ist: 15.41 vs. vorhergesagt: 18.79 --> fehler: 3.38\n",
      "ist: 18.98 vs. vorhergesagt: 17.07 --> fehler: 1.91\n",
      "ist: 20.75 vs. vorhergesagt: 17.78 --> fehler: 2.97\n",
      "ist: 22.76 vs. vorhergesagt: 18.65 --> fehler: 4.11\n",
      "ist: 16.44 vs. vorhergesagt: 20.28 --> fehler: 3.84\n",
      "ist: 13.13 vs. vorhergesagt: 16.86 --> fehler: 3.73\n",
      "ist: 15.55 vs. vorhergesagt: 15.91 --> fehler: 0.36\n",
      "ist: 10.95 vs. vorhergesagt: 17.64 --> fehler: 6.69\n",
      "ist: 11.19 vs. vorhergesagt: 14.63 --> fehler: 3.44\n",
      "ist: 8.42 vs. vorhergesagt: 12.54 --> fehler: 4.12\n",
      "ist: 9.27 vs. vorhergesagt: 10.95 --> fehler: 1.68\n",
      "ist: 9.42 vs. vorhergesagt: 12.10 --> fehler: 2.68\n",
      "ist: 9.03 vs. vorhergesagt: 10.01 --> fehler: 0.98\n",
      "ist: 9.96 vs. vorhergesagt: 10.51 --> fehler: 0.55\n",
      "ist: 7.77 vs. vorhergesagt: 11.46 --> fehler: 3.69\n",
      "ist: 7.98 vs. vorhergesagt: 9.05 --> fehler: 1.07\n",
      "ist: 6.24 vs. vorhergesagt: 9.17 --> fehler: 2.93\n",
      "ist: 7.97 vs. vorhergesagt: 7.92 --> fehler: 0.05\n",
      "ist: 10.62 vs. vorhergesagt: 8.85 --> fehler: 1.77\n",
      "ist: 15.11 vs. vorhergesagt: 9.26 --> fehler: 5.85\n",
      "ist: 16.03 vs. vorhergesagt: 11.64 --> fehler: 4.39\n",
      "ist: 14.04 vs. vorhergesagt: 12.86 --> fehler: 1.18\n",
      "ist: 14.98 vs. vorhergesagt: 12.53 --> fehler: 2.45\n",
      "ist: 9.85 vs. vorhergesagt: 13.95 --> fehler: 4.10\n",
      "ist: 8.87 vs. vorhergesagt: 12.44 --> fehler: 3.57\n",
      "ist: 6.95 vs. vorhergesagt: 10.94 --> fehler: 3.99\n",
      "ist: 6.84 vs. vorhergesagt: 8.88 --> fehler: 2.04\n",
      "ist: 8.34 vs. vorhergesagt: 9.13 --> fehler: 0.79\n",
      "ist: 8.49 vs. vorhergesagt: 8.11 --> fehler: 0.38\n",
      "ist: 10.57 vs. vorhergesagt: 8.69 --> fehler: 1.88\n",
      "ist: 8.89 vs. vorhergesagt: 10.64 --> fehler: 1.75\n",
      "ist: 8.97 vs. vorhergesagt: 9.45 --> fehler: 0.48\n",
      "ist: 9.86 vs. vorhergesagt: 10.01 --> fehler: 0.15\n",
      "ist: 7.61 vs. vorhergesagt: 9.54 --> fehler: 1.93\n",
      "ist: 6.87 vs. vorhergesagt: 9.13 --> fehler: 2.26\n",
      "ist: 6.29 vs. vorhergesagt: 7.79 --> fehler: 1.50\n",
      "ist: 8.86 vs. vorhergesagt: 7.36 --> fehler: 1.50\n",
      "ist: 6.31 vs. vorhergesagt: 9.03 --> fehler: 2.72\n",
      "ist: 2.45 vs. vorhergesagt: 7.24 --> fehler: 4.79\n",
      "ist: 4.19 vs. vorhergesagt: 5.38 --> fehler: 1.19\n",
      "ist: 3.71 vs. vorhergesagt: 6.01 --> fehler: 2.30\n",
      "ist: 1.65 vs. vorhergesagt: 6.08 --> fehler: 4.43\n",
      "ist: 0.87 vs. vorhergesagt: 3.98 --> fehler: 3.11\n",
      "ist: -0.02 vs. vorhergesagt: 2.35 --> fehler: 2.37\n",
      "ist: 1.66 vs. vorhergesagt: 3.32 --> fehler: 1.66\n",
      "ist: 1.50 vs. vorhergesagt: 2.84 --> fehler: 1.34\n",
      "ist: 1.08 vs. vorhergesagt: 1.94 --> fehler: 0.86\n",
      "ist: 5.71 vs. vorhergesagt: 2.64 --> fehler: 3.07\n",
      "ist: 11.85 vs. vorhergesagt: 4.10 --> fehler: 7.75\n",
      "ist: 12.70 vs. vorhergesagt: 7.33 --> fehler: 5.37\n",
      "ist: 8.49 vs. vorhergesagt: 8.90 --> fehler: 0.41\n",
      "ist: 9.45 vs. vorhergesagt: 7.27 --> fehler: 2.18\n",
      "ist: 9.52 vs. vorhergesagt: 8.60 --> fehler: 0.92\n",
      "ist: 10.65 vs. vorhergesagt: 8.65 --> fehler: 2.00\n",
      "ist: 7.13 vs. vorhergesagt: 9.01 --> fehler: 1.88\n",
      "ist: 6.27 vs. vorhergesagt: 7.39 --> fehler: 1.12\n",
      "ist: 2.74 vs. vorhergesagt: 8.24 --> fehler: 5.50\n",
      "ist: 1.06 vs. vorhergesagt: 6.59 --> fehler: 5.53\n",
      "ist: 5.28 vs. vorhergesagt: 4.86 --> fehler: 0.42\n",
      "ist: 0.13 vs. vorhergesagt: 6.16 --> fehler: 6.03\n",
      "ist: -1.39 vs. vorhergesagt: 4.02 --> fehler: 5.41\n",
      "ist: 1.06 vs. vorhergesagt: 1.82 --> fehler: 0.76\n",
      "ist: 5.42 vs. vorhergesagt: 1.82 --> fehler: 3.60\n",
      "ist: 5.41 vs. vorhergesagt: 5.90 --> fehler: 0.49\n",
      "ist: -0.27 vs. vorhergesagt: 4.31 --> fehler: 4.58\n",
      "ist: -3.40 vs. vorhergesagt: 1.35 --> fehler: 4.75\n",
      "ist: -1.23 vs. vorhergesagt: 1.45 --> fehler: 2.68\n",
      "ist: -2.51 vs. vorhergesagt: 0.60 --> fehler: 3.11\n",
      "ist: -2.71 vs. vorhergesagt: 0.16 --> fehler: 2.87\n",
      "ist: 4.19 vs. vorhergesagt: -1.49 --> fehler: 5.68\n",
      "ist: 8.63 vs. vorhergesagt: 1.26 --> fehler: 7.37\n",
      "ist: 10.68 vs. vorhergesagt: 5.32 --> fehler: 5.36\n",
      "ist: 7.45 vs. vorhergesagt: 5.77 --> fehler: 1.68\n",
      "ist: 6.86 vs. vorhergesagt: 5.63 --> fehler: 1.23\n",
      "ist: 4.46 vs. vorhergesagt: 7.31 --> fehler: 2.85\n",
      "ist: 5.24 vs. vorhergesagt: 4.30 --> fehler: 0.94\n",
      "ist: 3.24 vs. vorhergesagt: 4.66 --> fehler: 1.42\n",
      "ist: 1.28 vs. vorhergesagt: 4.65 --> fehler: 3.37\n",
      "ist: -0.12 vs. vorhergesagt: 4.39 --> fehler: 4.51\n",
      "ist: 4.76 vs. vorhergesagt: 2.77 --> fehler: 1.99\n",
      "ist: 3.22 vs. vorhergesagt: 4.74 --> fehler: 1.52\n",
      "ist: 1.43 vs. vorhergesagt: 4.92 --> fehler: 3.49\n",
      "ist: -0.05 vs. vorhergesagt: 3.06 --> fehler: 3.11\n",
      "ist: 2.36 vs. vorhergesagt: 2.33 --> fehler: 0.03\n",
      "ist: 3.45 vs. vorhergesagt: 3.33 --> fehler: 0.12\n",
      "ist: 5.67 vs. vorhergesagt: 3.51 --> fehler: 2.16\n",
      "ist: 8.14 vs. vorhergesagt: 3.64 --> fehler: 4.50\n",
      "ist: 10.40 vs. vorhergesagt: 6.22 --> fehler: 4.18\n",
      "ist: 5.78 vs. vorhergesagt: 7.49 --> fehler: 1.71\n",
      "ist: 6.16 vs. vorhergesagt: 6.20 --> fehler: 0.04\n",
      "ist: 3.49 vs. vorhergesagt: 6.71 --> fehler: 3.22\n",
      "ist: -1.31 vs. vorhergesagt: 6.42 --> fehler: 7.73\n",
      "ist: -1.19 vs. vorhergesagt: 2.89 --> fehler: 4.08\n",
      "Durchschnittsfehler: 3.021501321801168\n"
     ]
    }
   ],
   "source": [
    "berechne_modell_fehler(model, x_test_normalized, y_test, reshape_to_2d=True, scaler_output=scaler_output)"
   ]
  },
  {
   "cell_type": "code",
   "execution_count": null,
   "id": "b0980ae8-2f15-4c14-9a80-372a931e55fc",
   "metadata": {},
   "outputs": [],
   "source": []
  }
 ],
 "metadata": {
  "kernelspec": {
   "display_name": "Python 3 (ipykernel)",
   "language": "python",
   "name": "python3"
  },
  "language_info": {
   "codemirror_mode": {
    "name": "ipython",
    "version": 3
   },
   "file_extension": ".py",
   "mimetype": "text/x-python",
   "name": "python",
   "nbconvert_exporter": "python",
   "pygments_lexer": "ipython3",
   "version": "3.9.7"
  },
  "toc-autonumbering": true
 },
 "nbformat": 4,
 "nbformat_minor": 5
}
