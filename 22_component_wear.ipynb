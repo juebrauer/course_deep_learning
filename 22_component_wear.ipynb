{
 "cells": [
  {
   "cell_type": "markdown",
   "id": "f1019637",
   "metadata": {},
   "source": [
    "# Introduction: Predictive Maintenance\n",
    "\n",
    "Here we try to automatically detect component wear in a machine.\n",
    "\n",
    "The machine considered is *shrink-wrap packer* for bottles.\n",
    "\n",
    "The real data comes from a machine of the machine manufacturer *OCME*. Here you can see an image of the machine:\n",
    "\n",
    "https://www.ocme.com/en/our-solutions/secondary-packaging/vega\n",
    "\n",
    "The following video on YouTube gives a good impression of what a shrink wrap machine does:\n",
    "\n",
    "[Vega - OCME Shrink-wrap packers](https://www.youtube.com/watch?v=3oNMJ06EE-0)\n",
    "\n",
    "At minute 2, you can see one of the blades used.\n",
    "\n",
    "Here is the dataset at Kaggle:\n",
    "\n",
    "[One Year Industrial Component Degradation - Degration of a cutting blade](https://www.kaggle.com/inIT-OWL/one-year-industrial-component-degradation)\n",
    "\n",
    "The data set was also used in the public project [IMPROVE](http://improve-vfof.eu/project/use-cases/ocme/): A failure of the blades with a replacement time of about 4h costs the manufacturer about 13.000€."
   ]
  },
  {
   "cell_type": "markdown",
   "id": "917e2dac",
   "metadata": {},
   "source": [
    "# O: Obtain data"
   ]
  },
  {
   "cell_type": "markdown",
   "id": "def4e47b-edd7-4c04-8e9c-c2907c354e39",
   "metadata": {},
   "source": [
    "## Download data"
   ]
  },
  {
   "cell_type": "code",
   "execution_count": 1,
   "id": "a6be89b2",
   "metadata": {},
   "outputs": [
    {
     "data": {
      "text/plain": [
       "('data_shrink_wrapper_only_mode1.zip',\n",
       " <http.client.HTTPMessage at 0x7f2ab188c9d0>)"
      ]
     },
     "execution_count": 1,
     "metadata": {},
     "output_type": "execute_result"
    }
   ],
   "source": [
    "import urllib.request\n",
    "\n",
    "file_name = \"data_shrink_wrapper_only_mode1.zip\"\n",
    "\n",
    "urllib.request.urlretrieve( f\"http://www.juergenbrauer.org/course_data/{file_name}\",\n",
    "                            file_name)"
   ]
  },
  {
   "cell_type": "code",
   "execution_count": 2,
   "id": "0b19dcaf",
   "metadata": {},
   "outputs": [],
   "source": [
    "# -q: quiet\n",
    "# -o: overwrite existing files\n",
    "!unzip -q -o $file_name"
   ]
  },
  {
   "cell_type": "markdown",
   "id": "1fc4779a",
   "metadata": {},
   "source": [
    "## Get list of all files in the dataset"
   ]
  },
  {
   "cell_type": "code",
   "execution_count": 3,
   "id": "2457d42e",
   "metadata": {},
   "outputs": [],
   "source": [
    "from os import listdir\n",
    "from os.path import isfile, join\n",
    "\n",
    "folder_name = \"data_shrink_wrapper_only_mode1\"\n",
    "\n",
    "list_files = [f for f in listdir(folder_name) if isfile(join(folder_name, f))]"
   ]
  },
  {
   "cell_type": "code",
   "execution_count": 4,
   "id": "4cbaf79c",
   "metadata": {},
   "outputs": [
    {
     "data": {
      "text/plain": [
       "['01-05T141105_010_mode1.csv',\n",
       " '01-05T141834_014_mode1.csv',\n",
       " '02-03T115309_103_mode1.csv',\n",
       " '08-08T094646_359_mode1.csv',\n",
       " '10-30T095528_462_mode1.csv',\n",
       " '02-14T122330_118_mode1.csv',\n",
       " '09-19T085710_421_mode1.csv',\n",
       " '02-03T112914_102_mode1.csv',\n",
       " '07-05T112330_320_mode1.csv',\n",
       " '02-03T122317_104_mode1.csv']"
      ]
     },
     "execution_count": 4,
     "metadata": {},
     "output_type": "execute_result"
    }
   ],
   "source": [
    "list_files[:10]"
   ]
  },
  {
   "cell_type": "code",
   "execution_count": 5,
   "id": "db883da1",
   "metadata": {},
   "outputs": [
    {
     "data": {
      "text/plain": [
       "229"
      ]
     },
     "execution_count": 5,
     "metadata": {},
     "output_type": "execute_result"
    }
   ],
   "source": [
    "len( list_files )"
   ]
  },
  {
   "cell_type": "markdown",
   "id": "77fe4e63",
   "metadata": {},
   "source": [
    "## Sort files by filename/date"
   ]
  },
  {
   "cell_type": "code",
   "execution_count": 6,
   "id": "1195e3af",
   "metadata": {},
   "outputs": [],
   "source": [
    "list_files.sort()"
   ]
  },
  {
   "cell_type": "code",
   "execution_count": 7,
   "id": "b25802d2",
   "metadata": {},
   "outputs": [
    {
     "data": {
      "text/plain": [
       "['01-04T184148_000_mode1.csv',\n",
       " '01-04T184424_001_mode1.csv',\n",
       " '01-04T184835_002_mode1.csv',\n",
       " '01-04T185047_003_mode1.csv',\n",
       " '01-04T185257_004_mode1.csv',\n",
       " '01-05T123134_005_mode1.csv',\n",
       " '01-05T133345_006_mode1.csv',\n",
       " '01-05T133550_007_mode1.csv',\n",
       " '01-05T140727_008_mode1.csv',\n",
       " '01-05T140919_009_mode1.csv']"
      ]
     },
     "execution_count": 7,
     "metadata": {},
     "output_type": "execute_result"
    }
   ],
   "source": [
    "list_files[:10]"
   ]
  },
  {
   "cell_type": "code",
   "execution_count": 8,
   "id": "749fa4fe",
   "metadata": {},
   "outputs": [
    {
     "data": {
      "text/plain": [
       "['12-10T115528_499_mode1.csv',\n",
       " '12-10T123459_500_mode1.csv',\n",
       " '12-25T120128_507_mode1.csv',\n",
       " '12-25T124201_508_mode1.csv',\n",
       " '12-25T132503_509_mode1.csv',\n",
       " '12-25T140726_510_mode1.csv',\n",
       " '12-25T161546_511_mode1.csv',\n",
       " '12-25T163849_512_mode1.csv',\n",
       " '12-25T174528_513_mode1.csv',\n",
       " '12-25T180856_514_mode1.csv']"
      ]
     },
     "execution_count": 8,
     "metadata": {},
     "output_type": "execute_result"
    }
   ],
   "source": [
    "list_files[-10:]"
   ]
  },
  {
   "cell_type": "markdown",
   "id": "e0afdaac-08ac-45c1-8f9a-51850389174f",
   "metadata": {},
   "source": [
    "# E: Visual exploration of the data"
   ]
  },
  {
   "cell_type": "markdown",
   "id": "20fc6ea9",
   "metadata": {},
   "source": [
    "## Visualize one of the sensor time series"
   ]
  },
  {
   "cell_type": "code",
   "execution_count": 9,
   "id": "d30685c1",
   "metadata": {},
   "outputs": [
    {
     "data": {
      "text/plain": [
       "'01-04T184148_000_mode1.csv'"
      ]
     },
     "execution_count": 9,
     "metadata": {},
     "output_type": "execute_result"
    }
   ],
   "source": [
    "file_new_blade = list_files[0]\n",
    "file_new_blade"
   ]
  },
  {
   "cell_type": "code",
   "execution_count": 10,
   "id": "8538b54f",
   "metadata": {},
   "outputs": [
    {
     "data": {
      "text/plain": [
       "'12-25T180856_514_mode1.csv'"
      ]
     },
     "execution_count": 10,
     "metadata": {},
     "output_type": "execute_result"
    }
   ],
   "source": [
    "file_old_blade = list_files[-1]\n",
    "file_old_blade"
   ]
  },
  {
   "cell_type": "code",
   "execution_count": 11,
   "id": "37f8851e",
   "metadata": {},
   "outputs": [],
   "source": [
    "import pandas\n",
    "\n",
    "t_new = pandas.read_csv( f\"{folder_name}/{file_new_blade}\")"
   ]
  },
  {
   "cell_type": "code",
   "execution_count": 12,
   "id": "75381368",
   "metadata": {},
   "outputs": [
    {
     "data": {
      "text/html": [
       "<div>\n",
       "<style scoped>\n",
       "    .dataframe tbody tr th:only-of-type {\n",
       "        vertical-align: middle;\n",
       "    }\n",
       "\n",
       "    .dataframe tbody tr th {\n",
       "        vertical-align: top;\n",
       "    }\n",
       "\n",
       "    .dataframe thead th {\n",
       "        text-align: right;\n",
       "    }\n",
       "</style>\n",
       "<table border=\"1\" class=\"dataframe\">\n",
       "  <thead>\n",
       "    <tr style=\"text-align: right;\">\n",
       "      <th></th>\n",
       "      <th>timestamp</th>\n",
       "      <th>pCut::Motor_Torque</th>\n",
       "      <th>pCut::CTRL_Position_controller::Lag_error</th>\n",
       "      <th>pCut::CTRL_Position_controller::Actual_position</th>\n",
       "      <th>pCut::CTRL_Position_controller::Actual_speed</th>\n",
       "      <th>pSvolFilm::CTRL_Position_controller::Actual_position</th>\n",
       "      <th>pSvolFilm::CTRL_Position_controller::Actual_speed</th>\n",
       "      <th>pSvolFilm::CTRL_Position_controller::Lag_error</th>\n",
       "      <th>pSpintor::VAX_speed</th>\n",
       "    </tr>\n",
       "  </thead>\n",
       "  <tbody>\n",
       "    <tr>\n",
       "      <th>0</th>\n",
       "      <td>0.008000</td>\n",
       "      <td>0.199603</td>\n",
       "      <td>0.027420</td>\n",
       "      <td>628392628</td>\n",
       "      <td>-920.104980</td>\n",
       "      <td>5298555</td>\n",
       "      <td>2441.235352</td>\n",
       "      <td>0.899543</td>\n",
       "      <td>1379.999756</td>\n",
       "    </tr>\n",
       "    <tr>\n",
       "      <th>1</th>\n",
       "      <td>0.012000</td>\n",
       "      <td>0.281624</td>\n",
       "      <td>0.002502</td>\n",
       "      <td>628392625</td>\n",
       "      <td>-937.271118</td>\n",
       "      <td>5298565</td>\n",
       "      <td>2453.819092</td>\n",
       "      <td>0.874072</td>\n",
       "      <td>1379.999756</td>\n",
       "    </tr>\n",
       "    <tr>\n",
       "      <th>2</th>\n",
       "      <td>0.016000</td>\n",
       "      <td>0.349315</td>\n",
       "      <td>-0.018085</td>\n",
       "      <td>628392621</td>\n",
       "      <td>-951.004028</td>\n",
       "      <td>5298575</td>\n",
       "      <td>2476.469727</td>\n",
       "      <td>0.879806</td>\n",
       "      <td>1379.999756</td>\n",
       "    </tr>\n",
       "    <tr>\n",
       "      <th>3</th>\n",
       "      <td>0.020000</td>\n",
       "      <td>0.444450</td>\n",
       "      <td>-0.054680</td>\n",
       "      <td>628392617</td>\n",
       "      <td>-1019.668579</td>\n",
       "      <td>5298585</td>\n",
       "      <td>2501.637207</td>\n",
       "      <td>0.837500</td>\n",
       "      <td>1379.999756</td>\n",
       "    </tr>\n",
       "    <tr>\n",
       "      <th>4</th>\n",
       "      <td>0.024000</td>\n",
       "      <td>0.480923</td>\n",
       "      <td>-0.042770</td>\n",
       "      <td>628392613</td>\n",
       "      <td>-1023.101807</td>\n",
       "      <td>5298595</td>\n",
       "      <td>2519.254395</td>\n",
       "      <td>0.905347</td>\n",
       "      <td>1379.999756</td>\n",
       "    </tr>\n",
       "    <tr>\n",
       "      <th>...</th>\n",
       "      <td>...</td>\n",
       "      <td>...</td>\n",
       "      <td>...</td>\n",
       "      <td>...</td>\n",
       "      <td>...</td>\n",
       "      <td>...</td>\n",
       "      <td>...</td>\n",
       "      <td>...</td>\n",
       "      <td>...</td>\n",
       "    </tr>\n",
       "    <tr>\n",
       "      <th>2043</th>\n",
       "      <td>8.179999</td>\n",
       "      <td>0.371901</td>\n",
       "      <td>-0.012508</td>\n",
       "      <td>628403263</td>\n",
       "      <td>-1768.112183</td>\n",
       "      <td>5325580</td>\n",
       "      <td>2748.277588</td>\n",
       "      <td>1.031282</td>\n",
       "      <td>1199.999634</td>\n",
       "    </tr>\n",
       "    <tr>\n",
       "      <th>2044</th>\n",
       "      <td>8.183999</td>\n",
       "      <td>0.437352</td>\n",
       "      <td>-0.029764</td>\n",
       "      <td>628403256</td>\n",
       "      <td>-1802.444458</td>\n",
       "      <td>5325591</td>\n",
       "      <td>2763.377930</td>\n",
       "      <td>1.033880</td>\n",
       "      <td>1199.999634</td>\n",
       "    </tr>\n",
       "    <tr>\n",
       "      <th>2045</th>\n",
       "      <td>8.187999</td>\n",
       "      <td>0.474551</td>\n",
       "      <td>-0.020807</td>\n",
       "      <td>628403249</td>\n",
       "      <td>-1781.845093</td>\n",
       "      <td>5325602</td>\n",
       "      <td>2803.645752</td>\n",
       "      <td>0.962427</td>\n",
       "      <td>1199.999634</td>\n",
       "    </tr>\n",
       "    <tr>\n",
       "      <th>2046</th>\n",
       "      <td>8.191999</td>\n",
       "      <td>0.571133</td>\n",
       "      <td>-0.048983</td>\n",
       "      <td>628403242</td>\n",
       "      <td>-1860.809326</td>\n",
       "      <td>5325613</td>\n",
       "      <td>2823.779541</td>\n",
       "      <td>0.949072</td>\n",
       "      <td>1199.999634</td>\n",
       "    </tr>\n",
       "    <tr>\n",
       "      <th>2047</th>\n",
       "      <td>8.195999</td>\n",
       "      <td>0.525760</td>\n",
       "      <td>-0.031645</td>\n",
       "      <td>628403234</td>\n",
       "      <td>-1919.174194</td>\n",
       "      <td>5325625</td>\n",
       "      <td>2836.363281</td>\n",
       "      <td>0.971167</td>\n",
       "      <td>1199.999634</td>\n",
       "    </tr>\n",
       "  </tbody>\n",
       "</table>\n",
       "<p>2048 rows × 9 columns</p>\n",
       "</div>"
      ],
      "text/plain": [
       "      timestamp  pCut::Motor_Torque  \\\n",
       "0      0.008000            0.199603   \n",
       "1      0.012000            0.281624   \n",
       "2      0.016000            0.349315   \n",
       "3      0.020000            0.444450   \n",
       "4      0.024000            0.480923   \n",
       "...         ...                 ...   \n",
       "2043   8.179999            0.371901   \n",
       "2044   8.183999            0.437352   \n",
       "2045   8.187999            0.474551   \n",
       "2046   8.191999            0.571133   \n",
       "2047   8.195999            0.525760   \n",
       "\n",
       "      pCut::CTRL_Position_controller::Lag_error  \\\n",
       "0                                      0.027420   \n",
       "1                                      0.002502   \n",
       "2                                     -0.018085   \n",
       "3                                     -0.054680   \n",
       "4                                     -0.042770   \n",
       "...                                         ...   \n",
       "2043                                  -0.012508   \n",
       "2044                                  -0.029764   \n",
       "2045                                  -0.020807   \n",
       "2046                                  -0.048983   \n",
       "2047                                  -0.031645   \n",
       "\n",
       "      pCut::CTRL_Position_controller::Actual_position  \\\n",
       "0                                           628392628   \n",
       "1                                           628392625   \n",
       "2                                           628392621   \n",
       "3                                           628392617   \n",
       "4                                           628392613   \n",
       "...                                               ...   \n",
       "2043                                        628403263   \n",
       "2044                                        628403256   \n",
       "2045                                        628403249   \n",
       "2046                                        628403242   \n",
       "2047                                        628403234   \n",
       "\n",
       "      pCut::CTRL_Position_controller::Actual_speed  \\\n",
       "0                                      -920.104980   \n",
       "1                                      -937.271118   \n",
       "2                                      -951.004028   \n",
       "3                                     -1019.668579   \n",
       "4                                     -1023.101807   \n",
       "...                                            ...   \n",
       "2043                                  -1768.112183   \n",
       "2044                                  -1802.444458   \n",
       "2045                                  -1781.845093   \n",
       "2046                                  -1860.809326   \n",
       "2047                                  -1919.174194   \n",
       "\n",
       "      pSvolFilm::CTRL_Position_controller::Actual_position  \\\n",
       "0                                               5298555      \n",
       "1                                               5298565      \n",
       "2                                               5298575      \n",
       "3                                               5298585      \n",
       "4                                               5298595      \n",
       "...                                                 ...      \n",
       "2043                                            5325580      \n",
       "2044                                            5325591      \n",
       "2045                                            5325602      \n",
       "2046                                            5325613      \n",
       "2047                                            5325625      \n",
       "\n",
       "      pSvolFilm::CTRL_Position_controller::Actual_speed  \\\n",
       "0                                           2441.235352   \n",
       "1                                           2453.819092   \n",
       "2                                           2476.469727   \n",
       "3                                           2501.637207   \n",
       "4                                           2519.254395   \n",
       "...                                                 ...   \n",
       "2043                                        2748.277588   \n",
       "2044                                        2763.377930   \n",
       "2045                                        2803.645752   \n",
       "2046                                        2823.779541   \n",
       "2047                                        2836.363281   \n",
       "\n",
       "      pSvolFilm::CTRL_Position_controller::Lag_error  pSpintor::VAX_speed  \n",
       "0                                           0.899543          1379.999756  \n",
       "1                                           0.874072          1379.999756  \n",
       "2                                           0.879806          1379.999756  \n",
       "3                                           0.837500          1379.999756  \n",
       "4                                           0.905347          1379.999756  \n",
       "...                                              ...                  ...  \n",
       "2043                                        1.031282          1199.999634  \n",
       "2044                                        1.033880          1199.999634  \n",
       "2045                                        0.962427          1199.999634  \n",
       "2046                                        0.949072          1199.999634  \n",
       "2047                                        0.971167          1199.999634  \n",
       "\n",
       "[2048 rows x 9 columns]"
      ]
     },
     "execution_count": 12,
     "metadata": {},
     "output_type": "execute_result"
    }
   ],
   "source": [
    "t_new"
   ]
  },
  {
   "cell_type": "markdown",
   "id": "c8de0159",
   "metadata": {},
   "source": [
    "Each file is a ~8 second sample with a time resolution of 4ms that totals 2048 time-samples for every file."
   ]
  },
  {
   "cell_type": "code",
   "execution_count": 13,
   "id": "07ad7f50",
   "metadata": {},
   "outputs": [
    {
     "data": {
      "text/plain": [
       "2000"
      ]
     },
     "execution_count": 13,
     "metadata": {},
     "output_type": "execute_result"
    }
   ],
   "source": [
    "250 * 8"
   ]
  },
  {
   "cell_type": "code",
   "execution_count": 14,
   "id": "f5670ac4",
   "metadata": {},
   "outputs": [
    {
     "data": {
      "text/plain": [
       "0       0.199603\n",
       "1       0.281624\n",
       "2       0.349315\n",
       "3       0.444450\n",
       "4       0.480923\n",
       "          ...   \n",
       "2043    0.371901\n",
       "2044    0.437352\n",
       "2045    0.474551\n",
       "2046    0.571133\n",
       "2047    0.525760\n",
       "Name: pCut::Motor_Torque, Length: 2048, dtype: float64"
      ]
     },
     "execution_count": 14,
     "metadata": {},
     "output_type": "execute_result"
    }
   ],
   "source": [
    "t_new[\"pCut::Motor_Torque\"]"
   ]
  },
  {
   "cell_type": "markdown",
   "id": "41641039",
   "metadata": {},
   "source": [
    "Wir nehmen jetzt die Python-Bibliothek *Matplotlib* um mal den Verlauf einer der Merkmale über die Zeit zu visualisieren:"
   ]
  },
  {
   "cell_type": "code",
   "execution_count": 15,
   "id": "7491e1c2",
   "metadata": {},
   "outputs": [
    {
     "data": {
      "image/png": "[encoded data removed]",
      "text/plain": [
       "<Figure size 432x288 with 1 Axes>"
      ]
     },
     "metadata": {
      "needs_background": "light"
     },
     "output_type": "display_data"
    }
   ],
   "source": [
    "import matplotlib.pyplot as plt\n",
    "\n",
    "sensor_name = \"pCut::Motor_Torque\"\n",
    "\n",
    "plt.plot( t_new[sensor_name] )\n",
    "plt.xlabel(\"time stamp\")\n",
    "plt.ylabel(\"sensor value\")\n",
    "plt.title(sensor_name)\n",
    "plt.show()"
   ]
  },
  {
   "cell_type": "markdown",
   "id": "be99e661",
   "metadata": {},
   "source": [
    "## Visualize all sensor time series"
   ]
  },
  {
   "cell_type": "code",
   "execution_count": 16,
   "id": "7a37fe5e-3b57-47ee-8719-d155c1f1dff3",
   "metadata": {},
   "outputs": [
    {
     "data": {
      "text/plain": [
       "Index(['timestamp', 'pCut::Motor_Torque',\n",
       "       'pCut::CTRL_Position_controller::Lag_error',\n",
       "       'pCut::CTRL_Position_controller::Actual_position',\n",
       "       'pCut::CTRL_Position_controller::Actual_speed',\n",
       "       'pSvolFilm::CTRL_Position_controller::Actual_position',\n",
       "       'pSvolFilm::CTRL_Position_controller::Actual_speed',\n",
       "       'pSvolFilm::CTRL_Position_controller::Lag_error',\n",
       "       'pSpintor::VAX_speed'],\n",
       "      dtype='object')"
      ]
     },
     "execution_count": 16,
     "metadata": {},
     "output_type": "execute_result"
    }
   ],
   "source": [
    "t_new.columns"
   ]
  },
  {
   "cell_type": "code",
   "execution_count": 17,
   "id": "b6934316",
   "metadata": {},
   "outputs": [
    {
     "data": {
      "image/png": "[encoded data removed]",
      "text/plain": [
       "<Figure size 432x288 with 1 Axes>"
      ]
     },
     "metadata": {
      "needs_background": "light"
     },
     "output_type": "display_data"
    },
    {
     "data": {
      "image/png": "[encoded data removed]",
      "text/plain": [
       "<Figure size 432x288 with 1 Axes>"
      ]
     },
     "metadata": {
      "needs_background": "light"
     },
     "output_type": "display_data"
    },
    {
     "data": {
      "image/png": "[encoded data removed]",
      "text/plain": [
       "<Figure size 432x288 with 1 Axes>"
      ]
     },
     "metadata": {
      "needs_background": "light"
     },
     "output_type": "display_data"
    },
    {
     "data": {
      "image/png": "[encoded data removed]",
      "text/plain": [
       "<Figure size 432x288 with 1 Axes>"
      ]
     },
     "metadata": {
      "needs_background": "light"
     },
     "output_type": "display_data"
    },
    {
     "data": {
      "image/png": "[encoded data removed]",
      "text/plain": [
       "<Figure size 432x288 with 1 Axes>"
      ]
     },
     "metadata": {
      "needs_background": "light"
     },
     "output_type": "display_data"
    },
    {
     "data": {
      "image/png": "[encoded data removed]",
      "text/plain": [
       "<Figure size 432x288 with 1 Axes>"
      ]
     },
     "metadata": {
      "needs_background": "light"
     },
     "output_type": "display_data"
    },
    {
     "data": {
      "image/png": "[encoded data removed]",
      "text/plain": [
       "<Figure size 432x288 with 1 Axes>"
      ]
     },
     "metadata": {
      "needs_background": "light"
     },
     "output_type": "display_data"
    },
    {
     "data": {
      "image/png": "[encoded data removed]",
      "text/plain": [
       "<Figure size 432x288 with 1 Axes>"
      ]
     },
     "metadata": {
      "needs_background": "light"
     },
     "output_type": "display_data"
    },
    {
     "data": {
      "image/png": "[encoded data removed]",
      "text/plain": [
       "<Figure size 432x288 with 1 Axes>"
      ]
     },
     "metadata": {
      "needs_background": "light"
     },
     "output_type": "display_data"
    }
   ],
   "source": [
    "for sensor_name in t_new.columns:    \n",
    "    plt.plot( t_new[sensor_name] )\n",
    "    plt.xlabel(\"time stamp\")\n",
    "    plt.ylabel(sensor_name)\n",
    "    plt.title(sensor_name)\n",
    "    plt.show()"
   ]
  },
  {
   "cell_type": "markdown",
   "id": "3745eae8",
   "metadata": {},
   "source": [
    "## Multiple small figures in one large figure"
   ]
  },
  {
   "cell_type": "code",
   "execution_count": 18,
   "id": "e72978a0",
   "metadata": {},
   "outputs": [
    {
     "data": {
      "image/png": "[encoded data removed]",
      "text/plain": [
       "<Figure size 504x504 with 4 Axes>"
      ]
     },
     "metadata": {
      "needs_background": "light"
     },
     "output_type": "display_data"
    }
   ],
   "source": [
    "import numpy as np\n",
    "\n",
    "plt.figure(figsize=(7, 7))\n",
    "\n",
    "plt.subplot(2, 2, 1)\n",
    "plt.title(\"sin (Plot#1)\")\n",
    "plt.plot( [np.sin(x) for x in np.arange(0,2*np.pi,0.1)] )\n",
    "\n",
    "plt.subplot(2, 2, 2)\n",
    "plt.title(\"cos (Plot#2)\")\n",
    "plt.plot( [np.cos(x) for x in np.arange(0,2*np.pi,0.1)] )\n",
    "\n",
    "plt.subplot(2, 2, 3)\n",
    "plt.title(\"x^2 (Plot#3)\")\n",
    "plt.plot( [x**2 for x in np.arange(0,2*np.pi,0.1)] )\n",
    "\n",
    "plt.subplot(2, 2, 4)\n",
    "plt.title(\"sqrt(x) (Plot#4)\")\n",
    "plt.plot( [np.sqrt(x) for x in np.arange(0,2*np.pi,0.1)] )\n",
    "\n",
    "plt.show()"
   ]
  },
  {
   "cell_type": "markdown",
   "id": "a9885993",
   "metadata": {},
   "source": [
    "## Sensor data for a new vs. old blade"
   ]
  },
  {
   "cell_type": "code",
   "execution_count": 19,
   "id": "f3962eb5",
   "metadata": {},
   "outputs": [
    {
     "data": {
      "text/plain": [
       "'12-25T180856_514_mode1.csv'"
      ]
     },
     "execution_count": 19,
     "metadata": {},
     "output_type": "execute_result"
    }
   ],
   "source": [
    "file_old_blade"
   ]
  },
  {
   "cell_type": "code",
   "execution_count": 20,
   "id": "36fc9686",
   "metadata": {},
   "outputs": [],
   "source": [
    "t_old = pandas.read_csv( f\"{folder_name}/{file_old_blade}\")"
   ]
  },
  {
   "cell_type": "code",
   "execution_count": 21,
   "id": "ebf74a5f",
   "metadata": {},
   "outputs": [
    {
     "data": {
      "text/html": [
       "<div>\n",
       "<style scoped>\n",
       "    .dataframe tbody tr th:only-of-type {\n",
       "        vertical-align: middle;\n",
       "    }\n",
       "\n",
       "    .dataframe tbody tr th {\n",
       "        vertical-align: top;\n",
       "    }\n",
       "\n",
       "    .dataframe thead th {\n",
       "        text-align: right;\n",
       "    }\n",
       "</style>\n",
       "<table border=\"1\" class=\"dataframe\">\n",
       "  <thead>\n",
       "    <tr style=\"text-align: right;\">\n",
       "      <th></th>\n",
       "      <th>timestamp</th>\n",
       "      <th>pCut::Motor_Torque</th>\n",
       "      <th>pCut::CTRL_Position_controller::Lag_error</th>\n",
       "      <th>pCut::CTRL_Position_controller::Actual_position</th>\n",
       "      <th>pCut::CTRL_Position_controller::Actual_speed</th>\n",
       "      <th>pSvolFilm::CTRL_Position_controller::Actual_position</th>\n",
       "      <th>pSvolFilm::CTRL_Position_controller::Actual_speed</th>\n",
       "      <th>pSvolFilm::CTRL_Position_controller::Lag_error</th>\n",
       "      <th>pSpintor::VAX_speed</th>\n",
       "    </tr>\n",
       "  </thead>\n",
       "  <tbody>\n",
       "    <tr>\n",
       "      <th>0</th>\n",
       "      <td>0.008000</td>\n",
       "      <td>-0.225135</td>\n",
       "      <td>-0.081835</td>\n",
       "      <td>36056388</td>\n",
       "      <td>6955.718750</td>\n",
       "      <td>91488473</td>\n",
       "      <td>4034.330322</td>\n",
       "      <td>1.387123</td>\n",
       "      <td>1499.999756</td>\n",
       "    </tr>\n",
       "    <tr>\n",
       "      <th>1</th>\n",
       "      <td>0.012000</td>\n",
       "      <td>-0.187007</td>\n",
       "      <td>0.013778</td>\n",
       "      <td>36056416</td>\n",
       "      <td>7010.650391</td>\n",
       "      <td>91488489</td>\n",
       "      <td>4107.315430</td>\n",
       "      <td>1.293996</td>\n",
       "      <td>1499.999756</td>\n",
       "    </tr>\n",
       "    <tr>\n",
       "      <th>2</th>\n",
       "      <td>0.016000</td>\n",
       "      <td>-0.259524</td>\n",
       "      <td>0.065230</td>\n",
       "      <td>36056444</td>\n",
       "      <td>6863.021484</td>\n",
       "      <td>91488505</td>\n",
       "      <td>4049.430664</td>\n",
       "      <td>0.976738</td>\n",
       "      <td>1499.999756</td>\n",
       "    </tr>\n",
       "    <tr>\n",
       "      <th>3</th>\n",
       "      <td>0.020000</td>\n",
       "      <td>-0.424142</td>\n",
       "      <td>0.158631</td>\n",
       "      <td>36056472</td>\n",
       "      <td>6866.455078</td>\n",
       "      <td>91488521</td>\n",
       "      <td>4056.980957</td>\n",
       "      <td>0.773219</td>\n",
       "      <td>1499.999756</td>\n",
       "    </tr>\n",
       "    <tr>\n",
       "      <th>4</th>\n",
       "      <td>0.024000</td>\n",
       "      <td>-0.209355</td>\n",
       "      <td>0.120200</td>\n",
       "      <td>36056499</td>\n",
       "      <td>6821.822754</td>\n",
       "      <td>91488537</td>\n",
       "      <td>3812.857422</td>\n",
       "      <td>0.817901</td>\n",
       "      <td>1499.999756</td>\n",
       "    </tr>\n",
       "    <tr>\n",
       "      <th>...</th>\n",
       "      <td>...</td>\n",
       "      <td>...</td>\n",
       "      <td>...</td>\n",
       "      <td>...</td>\n",
       "      <td>...</td>\n",
       "      <td>...</td>\n",
       "      <td>...</td>\n",
       "      <td>...</td>\n",
       "      <td>...</td>\n",
       "    </tr>\n",
       "    <tr>\n",
       "      <th>2043</th>\n",
       "      <td>8.179999</td>\n",
       "      <td>0.393053</td>\n",
       "      <td>-0.019344</td>\n",
       "      <td>36069412</td>\n",
       "      <td>-1016.235352</td>\n",
       "      <td>91516463</td>\n",
       "      <td>2562.039062</td>\n",
       "      <td>0.871846</td>\n",
       "      <td>1499.999756</td>\n",
       "    </tr>\n",
       "    <tr>\n",
       "      <th>2044</th>\n",
       "      <td>8.183999</td>\n",
       "      <td>0.415674</td>\n",
       "      <td>-0.012012</td>\n",
       "      <td>36069408</td>\n",
       "      <td>-1026.535034</td>\n",
       "      <td>91516473</td>\n",
       "      <td>2534.354736</td>\n",
       "      <td>0.924133</td>\n",
       "      <td>1499.999756</td>\n",
       "    </tr>\n",
       "    <tr>\n",
       "      <th>2045</th>\n",
       "      <td>8.187999</td>\n",
       "      <td>0.368944</td>\n",
       "      <td>0.001564</td>\n",
       "      <td>36069404</td>\n",
       "      <td>-1050.567627</td>\n",
       "      <td>91516483</td>\n",
       "      <td>2539.388428</td>\n",
       "      <td>0.846560</td>\n",
       "      <td>1499.999756</td>\n",
       "    </tr>\n",
       "    <tr>\n",
       "      <th>2046</th>\n",
       "      <td>8.191999</td>\n",
       "      <td>0.328232</td>\n",
       "      <td>0.009434</td>\n",
       "      <td>36069400</td>\n",
       "      <td>-1098.632812</td>\n",
       "      <td>91516493</td>\n",
       "      <td>2526.804688</td>\n",
       "      <td>0.858582</td>\n",
       "      <td>1499.999756</td>\n",
       "    </tr>\n",
       "    <tr>\n",
       "      <th>2047</th>\n",
       "      <td>8.195999</td>\n",
       "      <td>0.350554</td>\n",
       "      <td>-0.000338</td>\n",
       "      <td>36069395</td>\n",
       "      <td>-1115.798950</td>\n",
       "      <td>91516503</td>\n",
       "      <td>2536.871582</td>\n",
       "      <td>0.842414</td>\n",
       "      <td>1499.999756</td>\n",
       "    </tr>\n",
       "  </tbody>\n",
       "</table>\n",
       "<p>2048 rows × 9 columns</p>\n",
       "</div>"
      ],
      "text/plain": [
       "      timestamp  pCut::Motor_Torque  \\\n",
       "0      0.008000           -0.225135   \n",
       "1      0.012000           -0.187007   \n",
       "2      0.016000           -0.259524   \n",
       "3      0.020000           -0.424142   \n",
       "4      0.024000           -0.209355   \n",
       "...         ...                 ...   \n",
       "2043   8.179999            0.393053   \n",
       "2044   8.183999            0.415674   \n",
       "2045   8.187999            0.368944   \n",
       "2046   8.191999            0.328232   \n",
       "2047   8.195999            0.350554   \n",
       "\n",
       "      pCut::CTRL_Position_controller::Lag_error  \\\n",
       "0                                     -0.081835   \n",
       "1                                      0.013778   \n",
       "2                                      0.065230   \n",
       "3                                      0.158631   \n",
       "4                                      0.120200   \n",
       "...                                         ...   \n",
       "2043                                  -0.019344   \n",
       "2044                                  -0.012012   \n",
       "2045                                   0.001564   \n",
       "2046                                   0.009434   \n",
       "2047                                  -0.000338   \n",
       "\n",
       "      pCut::CTRL_Position_controller::Actual_position  \\\n",
       "0                                            36056388   \n",
       "1                                            36056416   \n",
       "2                                            36056444   \n",
       "3                                            36056472   \n",
       "4                                            36056499   \n",
       "...                                               ...   \n",
       "2043                                         36069412   \n",
       "2044                                         36069408   \n",
       "2045                                         36069404   \n",
       "2046                                         36069400   \n",
       "2047                                         36069395   \n",
       "\n",
       "      pCut::CTRL_Position_controller::Actual_speed  \\\n",
       "0                                      6955.718750   \n",
       "1                                      7010.650391   \n",
       "2                                      6863.021484   \n",
       "3                                      6866.455078   \n",
       "4                                      6821.822754   \n",
       "...                                            ...   \n",
       "2043                                  -1016.235352   \n",
       "2044                                  -1026.535034   \n",
       "2045                                  -1050.567627   \n",
       "2046                                  -1098.632812   \n",
       "2047                                  -1115.798950   \n",
       "\n",
       "      pSvolFilm::CTRL_Position_controller::Actual_position  \\\n",
       "0                                              91488473      \n",
       "1                                              91488489      \n",
       "2                                              91488505      \n",
       "3                                              91488521      \n",
       "4                                              91488537      \n",
       "...                                                 ...      \n",
       "2043                                           91516463      \n",
       "2044                                           91516473      \n",
       "2045                                           91516483      \n",
       "2046                                           91516493      \n",
       "2047                                           91516503      \n",
       "\n",
       "      pSvolFilm::CTRL_Position_controller::Actual_speed  \\\n",
       "0                                           4034.330322   \n",
       "1                                           4107.315430   \n",
       "2                                           4049.430664   \n",
       "3                                           4056.980957   \n",
       "4                                           3812.857422   \n",
       "...                                                 ...   \n",
       "2043                                        2562.039062   \n",
       "2044                                        2534.354736   \n",
       "2045                                        2539.388428   \n",
       "2046                                        2526.804688   \n",
       "2047                                        2536.871582   \n",
       "\n",
       "      pSvolFilm::CTRL_Position_controller::Lag_error  pSpintor::VAX_speed  \n",
       "0                                           1.387123          1499.999756  \n",
       "1                                           1.293996          1499.999756  \n",
       "2                                           0.976738          1499.999756  \n",
       "3                                           0.773219          1499.999756  \n",
       "4                                           0.817901          1499.999756  \n",
       "...                                              ...                  ...  \n",
       "2043                                        0.871846          1499.999756  \n",
       "2044                                        0.924133          1499.999756  \n",
       "2045                                        0.846560          1499.999756  \n",
       "2046                                        0.858582          1499.999756  \n",
       "2047                                        0.842414          1499.999756  \n",
       "\n",
       "[2048 rows x 9 columns]"
      ]
     },
     "execution_count": 21,
     "metadata": {},
     "output_type": "execute_result"
    }
   ],
   "source": [
    "t_old"
   ]
  },
  {
   "cell_type": "code",
   "execution_count": 22,
   "id": "6d962d0b",
   "metadata": {},
   "outputs": [
    {
     "data": {
      "image/png": "[encoded data removed]",
      "text/plain": [
       "<Figure size 720x2160 with 18 Axes>"
      ]
     },
     "metadata": {
      "needs_background": "light"
     },
     "output_type": "display_data"
    }
   ],
   "source": [
    "plt.figure(figsize=(10, 30))\n",
    "\n",
    "nr = 0\n",
    "for sensor_name in t_new.columns:\n",
    "    plot_nr = 1+nr*2\n",
    "    plt.subplot(9, 2, plot_nr)\n",
    "    plt.plot( t_new[sensor_name] )\n",
    "    plt.xlabel(\"time stamp\")\n",
    "    plt.ylabel(sensor_name)\n",
    "    plt.title( f\"Plot #{plot_nr}:\\nNew blade\\n{sensor_name}\" )  \n",
    "    nr = nr+1\n",
    "    \n",
    "nr = 0\n",
    "for sensor_name in t_old.columns:\n",
    "    plot_nr = 2+nr*2\n",
    "    plt.subplot(9, 2, plot_nr)\n",
    "    plt.plot( t_old[sensor_name] )\n",
    "    plt.xlabel(\"time stamp\")\n",
    "    plt.ylabel(sensor_name)\n",
    "    plt.title( f\"Plot #{plot_nr}:\\nOld blade\\n{sensor_name}\" )\n",
    "    nr = nr+1\n",
    "    \n",
    "plt.tight_layout()\n",
    "plt.show()"
   ]
  },
  {
   "cell_type": "markdown",
   "id": "f6e7ed0e",
   "metadata": {},
   "source": [
    "## Statistical exploration of one sensor value (LagError)"
   ]
  },
  {
   "cell_type": "code",
   "execution_count": 23,
   "id": "ebca10be",
   "metadata": {},
   "outputs": [
    {
     "data": {
      "text/html": [
       "<div>\n",
       "<style scoped>\n",
       "    .dataframe tbody tr th:only-of-type {\n",
       "        vertical-align: middle;\n",
       "    }\n",
       "\n",
       "    .dataframe tbody tr th {\n",
       "        vertical-align: top;\n",
       "    }\n",
       "\n",
       "    .dataframe thead th {\n",
       "        text-align: right;\n",
       "    }\n",
       "</style>\n",
       "<table border=\"1\" class=\"dataframe\">\n",
       "  <thead>\n",
       "    <tr style=\"text-align: right;\">\n",
       "      <th></th>\n",
       "      <th>count</th>\n",
       "      <th>mean</th>\n",
       "      <th>std</th>\n",
       "      <th>min</th>\n",
       "      <th>25%</th>\n",
       "      <th>50%</th>\n",
       "      <th>75%</th>\n",
       "      <th>max</th>\n",
       "    </tr>\n",
       "  </thead>\n",
       "  <tbody>\n",
       "    <tr>\n",
       "      <th>timestamp</th>\n",
       "      <td>2048.00000</td>\n",
       "      <td>4.10200</td>\n",
       "      <td>2.36540</td>\n",
       "      <td>0.00800</td>\n",
       "      <td>2.05500</td>\n",
       "      <td>4.10200</td>\n",
       "      <td>6.14900</td>\n",
       "      <td>8.19600</td>\n",
       "    </tr>\n",
       "    <tr>\n",
       "      <th>pCut::Motor_Torque</th>\n",
       "      <td>2048.00000</td>\n",
       "      <td>-0.09800</td>\n",
       "      <td>0.48638</td>\n",
       "      <td>-4.91820</td>\n",
       "      <td>-0.32341</td>\n",
       "      <td>-0.13288</td>\n",
       "      <td>0.27032</td>\n",
       "      <td>1.00611</td>\n",
       "    </tr>\n",
       "    <tr>\n",
       "      <th>pCut::CTRL_Position_controller::Lag_error</th>\n",
       "      <td>2048.00000</td>\n",
       "      <td>-0.00004</td>\n",
       "      <td>0.09303</td>\n",
       "      <td>-1.23870</td>\n",
       "      <td>-0.01924</td>\n",
       "      <td>0.00026</td>\n",
       "      <td>0.02011</td>\n",
       "      <td>0.91515</td>\n",
       "    </tr>\n",
       "    <tr>\n",
       "      <th>pCut::CTRL_Position_controller::Actual_position</th>\n",
       "      <td>2048.00000</td>\n",
       "      <td>628397221.81934</td>\n",
       "      <td>3781.23009</td>\n",
       "      <td>628390305.00000</td>\n",
       "      <td>628394445.00000</td>\n",
       "      <td>628397506.00000</td>\n",
       "      <td>628399826.75000</td>\n",
       "      <td>628403507.00000</td>\n",
       "    </tr>\n",
       "    <tr>\n",
       "      <th>pCut::CTRL_Position_controller::Actual_speed</th>\n",
       "      <td>2048.00000</td>\n",
       "      <td>1293.84563</td>\n",
       "      <td>3486.16446</td>\n",
       "      <td>-4895.78223</td>\n",
       "      <td>-1264.28604</td>\n",
       "      <td>1435.08911</td>\n",
       "      <td>3739.64301</td>\n",
       "      <td>7673.26318</td>\n",
       "    </tr>\n",
       "    <tr>\n",
       "      <th>pSvolFilm::CTRL_Position_controller::Actual_position</th>\n",
       "      <td>2048.00000</td>\n",
       "      <td>5312998.18506</td>\n",
       "      <td>7973.94829</td>\n",
       "      <td>5298555.00000</td>\n",
       "      <td>5306143.75000</td>\n",
       "      <td>5313703.50000</td>\n",
       "      <td>5320254.75000</td>\n",
       "      <td>5325625.00000</td>\n",
       "    </tr>\n",
       "    <tr>\n",
       "      <th>pSvolFilm::CTRL_Position_controller::Actual_speed</th>\n",
       "      <td>2048.00000</td>\n",
       "      <td>3306.29290</td>\n",
       "      <td>1073.54924</td>\n",
       "      <td>1988.22278</td>\n",
       "      <td>2325.46558</td>\n",
       "      <td>2965.97546</td>\n",
       "      <td>4580.46240</td>\n",
       "      <td>4718.88330</td>\n",
       "    </tr>\n",
       "    <tr>\n",
       "      <th>pSvolFilm::CTRL_Position_controller::Lag_error</th>\n",
       "      <td>2048.00000</td>\n",
       "      <td>0.86101</td>\n",
       "      <td>0.10976</td>\n",
       "      <td>0.02962</td>\n",
       "      <td>0.78847</td>\n",
       "      <td>0.85650</td>\n",
       "      <td>0.94370</td>\n",
       "      <td>1.14676</td>\n",
       "    </tr>\n",
       "    <tr>\n",
       "      <th>pSpintor::VAX_speed</th>\n",
       "      <td>2048.00000</td>\n",
       "      <td>1340.74334</td>\n",
       "      <td>73.92810</td>\n",
       "      <td>1199.99963</td>\n",
       "      <td>1379.99976</td>\n",
       "      <td>1379.99976</td>\n",
       "      <td>1379.99976</td>\n",
       "      <td>1379.99976</td>\n",
       "    </tr>\n",
       "  </tbody>\n",
       "</table>\n",
       "</div>"
      ],
      "text/plain": [
       "                                                        count            mean  \\\n",
       "timestamp                                          2048.00000         4.10200   \n",
       "pCut::Motor_Torque                                 2048.00000        -0.09800   \n",
       "pCut::CTRL_Position_controller::Lag_error          2048.00000        -0.00004   \n",
       "pCut::CTRL_Position_controller::Actual_position    2048.00000 628397221.81934   \n",
       "pCut::CTRL_Position_controller::Actual_speed       2048.00000      1293.84563   \n",
       "pSvolFilm::CTRL_Position_controller::Actual_pos... 2048.00000   5312998.18506   \n",
       "pSvolFilm::CTRL_Position_controller::Actual_speed  2048.00000      3306.29290   \n",
       "pSvolFilm::CTRL_Position_controller::Lag_error     2048.00000         0.86101   \n",
       "pSpintor::VAX_speed                                2048.00000      1340.74334   \n",
       "\n",
       "                                                          std             min  \\\n",
       "timestamp                                             2.36540         0.00800   \n",
       "pCut::Motor_Torque                                    0.48638        -4.91820   \n",
       "pCut::CTRL_Position_controller::Lag_error             0.09303        -1.23870   \n",
       "pCut::CTRL_Position_controller::Actual_position    3781.23009 628390305.00000   \n",
       "pCut::CTRL_Position_controller::Actual_speed       3486.16446     -4895.78223   \n",
       "pSvolFilm::CTRL_Position_controller::Actual_pos... 7973.94829   5298555.00000   \n",
       "pSvolFilm::CTRL_Position_controller::Actual_speed  1073.54924      1988.22278   \n",
       "pSvolFilm::CTRL_Position_controller::Lag_error        0.10976         0.02962   \n",
       "pSpintor::VAX_speed                                  73.92810      1199.99963   \n",
       "\n",
       "                                                               25%  \\\n",
       "timestamp                                                  2.05500   \n",
       "pCut::Motor_Torque                                        -0.32341   \n",
       "pCut::CTRL_Position_controller::Lag_error                 -0.01924   \n",
       "pCut::CTRL_Position_controller::Actual_position    628394445.00000   \n",
       "pCut::CTRL_Position_controller::Actual_speed           -1264.28604   \n",
       "pSvolFilm::CTRL_Position_controller::Actual_pos...   5306143.75000   \n",
       "pSvolFilm::CTRL_Position_controller::Actual_speed       2325.46558   \n",
       "pSvolFilm::CTRL_Position_controller::Lag_error             0.78847   \n",
       "pSpintor::VAX_speed                                     1379.99976   \n",
       "\n",
       "                                                               50%  \\\n",
       "timestamp                                                  4.10200   \n",
       "pCut::Motor_Torque                                        -0.13288   \n",
       "pCut::CTRL_Position_controller::Lag_error                  0.00026   \n",
       "pCut::CTRL_Position_controller::Actual_position    628397506.00000   \n",
       "pCut::CTRL_Position_controller::Actual_speed            1435.08911   \n",
       "pSvolFilm::CTRL_Position_controller::Actual_pos...   5313703.50000   \n",
       "pSvolFilm::CTRL_Position_controller::Actual_speed       2965.97546   \n",
       "pSvolFilm::CTRL_Position_controller::Lag_error             0.85650   \n",
       "pSpintor::VAX_speed                                     1379.99976   \n",
       "\n",
       "                                                               75%  \\\n",
       "timestamp                                                  6.14900   \n",
       "pCut::Motor_Torque                                         0.27032   \n",
       "pCut::CTRL_Position_controller::Lag_error                  0.02011   \n",
       "pCut::CTRL_Position_controller::Actual_position    628399826.75000   \n",
       "pCut::CTRL_Position_controller::Actual_speed            3739.64301   \n",
       "pSvolFilm::CTRL_Position_controller::Actual_pos...   5320254.75000   \n",
       "pSvolFilm::CTRL_Position_controller::Actual_speed       4580.46240   \n",
       "pSvolFilm::CTRL_Position_controller::Lag_error             0.94370   \n",
       "pSpintor::VAX_speed                                     1379.99976   \n",
       "\n",
       "                                                               max  \n",
       "timestamp                                                  8.19600  \n",
       "pCut::Motor_Torque                                         1.00611  \n",
       "pCut::CTRL_Position_controller::Lag_error                  0.91515  \n",
       "pCut::CTRL_Position_controller::Actual_position    628403507.00000  \n",
       "pCut::CTRL_Position_controller::Actual_speed            7673.26318  \n",
       "pSvolFilm::CTRL_Position_controller::Actual_pos...   5325625.00000  \n",
       "pSvolFilm::CTRL_Position_controller::Actual_speed       4718.88330  \n",
       "pSvolFilm::CTRL_Position_controller::Lag_error             1.14676  \n",
       "pSpintor::VAX_speed                                     1379.99976  "
      ]
     },
     "execution_count": 23,
     "metadata": {},
     "output_type": "execute_result"
    }
   ],
   "source": [
    "pandas.options.display.float_format = '{:.5f}'.format\n",
    "t_new.describe().transpose()"
   ]
  },
  {
   "cell_type": "code",
   "execution_count": 24,
   "id": "7afc6872",
   "metadata": {},
   "outputs": [
    {
     "data": {
      "text/html": [
       "<div>\n",
       "<style scoped>\n",
       "    .dataframe tbody tr th:only-of-type {\n",
       "        vertical-align: middle;\n",
       "    }\n",
       "\n",
       "    .dataframe tbody tr th {\n",
       "        vertical-align: top;\n",
       "    }\n",
       "\n",
       "    .dataframe thead th {\n",
       "        text-align: right;\n",
       "    }\n",
       "</style>\n",
       "<table border=\"1\" class=\"dataframe\">\n",
       "  <thead>\n",
       "    <tr style=\"text-align: right;\">\n",
       "      <th></th>\n",
       "      <th>count</th>\n",
       "      <th>mean</th>\n",
       "      <th>std</th>\n",
       "      <th>min</th>\n",
       "      <th>25%</th>\n",
       "      <th>50%</th>\n",
       "      <th>75%</th>\n",
       "      <th>max</th>\n",
       "    </tr>\n",
       "  </thead>\n",
       "  <tbody>\n",
       "    <tr>\n",
       "      <th>timestamp</th>\n",
       "      <td>2048.00000</td>\n",
       "      <td>4.10200</td>\n",
       "      <td>2.36540</td>\n",
       "      <td>0.00800</td>\n",
       "      <td>2.05500</td>\n",
       "      <td>4.10200</td>\n",
       "      <td>6.14900</td>\n",
       "      <td>8.19600</td>\n",
       "    </tr>\n",
       "    <tr>\n",
       "      <th>pCut::Motor_Torque</th>\n",
       "      <td>2048.00000</td>\n",
       "      <td>-0.10332</td>\n",
       "      <td>0.65412</td>\n",
       "      <td>-4.97324</td>\n",
       "      <td>-0.25280</td>\n",
       "      <td>-0.06840</td>\n",
       "      <td>0.27261</td>\n",
       "      <td>1.23339</td>\n",
       "    </tr>\n",
       "    <tr>\n",
       "      <th>pCut::CTRL_Position_controller::Lag_error</th>\n",
       "      <td>2048.00000</td>\n",
       "      <td>0.00126</td>\n",
       "      <td>0.10109</td>\n",
       "      <td>-1.25017</td>\n",
       "      <td>-0.01534</td>\n",
       "      <td>0.00181</td>\n",
       "      <td>0.01828</td>\n",
       "      <td>0.94829</td>\n",
       "    </tr>\n",
       "    <tr>\n",
       "      <th>pCut::CTRL_Position_controller::Actual_position</th>\n",
       "      <td>2048.00000</td>\n",
       "      <td>36062352.62695</td>\n",
       "      <td>3765.57561</td>\n",
       "      <td>36056388.00000</td>\n",
       "      <td>36058669.75000</td>\n",
       "      <td>36062085.50000</td>\n",
       "      <td>36065367.50000</td>\n",
       "      <td>36069497.00000</td>\n",
       "    </tr>\n",
       "    <tr>\n",
       "      <th>pCut::CTRL_Position_controller::Actual_speed</th>\n",
       "      <td>2048.00000</td>\n",
       "      <td>1589.30268</td>\n",
       "      <td>3637.34024</td>\n",
       "      <td>-4538.72656</td>\n",
       "      <td>-1281.45218</td>\n",
       "      <td>1426.50604</td>\n",
       "      <td>4283.80933</td>\n",
       "      <td>8232.87891</td>\n",
       "    </tr>\n",
       "    <tr>\n",
       "      <th>pSvolFilm::CTRL_Position_controller::Actual_position</th>\n",
       "      <td>2048.00000</td>\n",
       "      <td>91502396.16309</td>\n",
       "      <td>8347.86965</td>\n",
       "      <td>91488473.00000</td>\n",
       "      <td>91495330.50000</td>\n",
       "      <td>91502150.00000</td>\n",
       "      <td>91509037.50000</td>\n",
       "      <td>91516503.00000</td>\n",
       "    </tr>\n",
       "    <tr>\n",
       "      <th>pSvolFilm::CTRL_Position_controller::Actual_speed</th>\n",
       "      <td>2048.00000</td>\n",
       "      <td>3422.97343</td>\n",
       "      <td>929.36066</td>\n",
       "      <td>2476.46973</td>\n",
       "      <td>2536.87158</td>\n",
       "      <td>2988.62585</td>\n",
       "      <td>4577.94580</td>\n",
       "      <td>4723.91650</td>\n",
       "    </tr>\n",
       "    <tr>\n",
       "      <th>pSvolFilm::CTRL_Position_controller::Lag_error</th>\n",
       "      <td>2048.00000</td>\n",
       "      <td>0.89189</td>\n",
       "      <td>0.18802</td>\n",
       "      <td>-0.55383</td>\n",
       "      <td>0.82877</td>\n",
       "      <td>0.90435</td>\n",
       "      <td>0.98803</td>\n",
       "      <td>1.84331</td>\n",
       "    </tr>\n",
       "    <tr>\n",
       "      <th>pSpintor::VAX_speed</th>\n",
       "      <td>2048.00000</td>\n",
       "      <td>1499.99976</td>\n",
       "      <td>0.00000</td>\n",
       "      <td>1499.99976</td>\n",
       "      <td>1499.99976</td>\n",
       "      <td>1499.99976</td>\n",
       "      <td>1499.99976</td>\n",
       "      <td>1499.99976</td>\n",
       "    </tr>\n",
       "  </tbody>\n",
       "</table>\n",
       "</div>"
      ],
      "text/plain": [
       "                                                        count           mean  \\\n",
       "timestamp                                          2048.00000        4.10200   \n",
       "pCut::Motor_Torque                                 2048.00000       -0.10332   \n",
       "pCut::CTRL_Position_controller::Lag_error          2048.00000        0.00126   \n",
       "pCut::CTRL_Position_controller::Actual_position    2048.00000 36062352.62695   \n",
       "pCut::CTRL_Position_controller::Actual_speed       2048.00000     1589.30268   \n",
       "pSvolFilm::CTRL_Position_controller::Actual_pos... 2048.00000 91502396.16309   \n",
       "pSvolFilm::CTRL_Position_controller::Actual_speed  2048.00000     3422.97343   \n",
       "pSvolFilm::CTRL_Position_controller::Lag_error     2048.00000        0.89189   \n",
       "pSpintor::VAX_speed                                2048.00000     1499.99976   \n",
       "\n",
       "                                                          std            min  \\\n",
       "timestamp                                             2.36540        0.00800   \n",
       "pCut::Motor_Torque                                    0.65412       -4.97324   \n",
       "pCut::CTRL_Position_controller::Lag_error             0.10109       -1.25017   \n",
       "pCut::CTRL_Position_controller::Actual_position    3765.57561 36056388.00000   \n",
       "pCut::CTRL_Position_controller::Actual_speed       3637.34024    -4538.72656   \n",
       "pSvolFilm::CTRL_Position_controller::Actual_pos... 8347.86965 91488473.00000   \n",
       "pSvolFilm::CTRL_Position_controller::Actual_speed   929.36066     2476.46973   \n",
       "pSvolFilm::CTRL_Position_controller::Lag_error        0.18802       -0.55383   \n",
       "pSpintor::VAX_speed                                   0.00000     1499.99976   \n",
       "\n",
       "                                                              25%  \\\n",
       "timestamp                                                 2.05500   \n",
       "pCut::Motor_Torque                                       -0.25280   \n",
       "pCut::CTRL_Position_controller::Lag_error                -0.01534   \n",
       "pCut::CTRL_Position_controller::Actual_position    36058669.75000   \n",
       "pCut::CTRL_Position_controller::Actual_speed          -1281.45218   \n",
       "pSvolFilm::CTRL_Position_controller::Actual_pos... 91495330.50000   \n",
       "pSvolFilm::CTRL_Position_controller::Actual_speed      2536.87158   \n",
       "pSvolFilm::CTRL_Position_controller::Lag_error            0.82877   \n",
       "pSpintor::VAX_speed                                    1499.99976   \n",
       "\n",
       "                                                              50%  \\\n",
       "timestamp                                                 4.10200   \n",
       "pCut::Motor_Torque                                       -0.06840   \n",
       "pCut::CTRL_Position_controller::Lag_error                 0.00181   \n",
       "pCut::CTRL_Position_controller::Actual_position    36062085.50000   \n",
       "pCut::CTRL_Position_controller::Actual_speed           1426.50604   \n",
       "pSvolFilm::CTRL_Position_controller::Actual_pos... 91502150.00000   \n",
       "pSvolFilm::CTRL_Position_controller::Actual_speed      2988.62585   \n",
       "pSvolFilm::CTRL_Position_controller::Lag_error            0.90435   \n",
       "pSpintor::VAX_speed                                    1499.99976   \n",
       "\n",
       "                                                              75%  \\\n",
       "timestamp                                                 6.14900   \n",
       "pCut::Motor_Torque                                        0.27261   \n",
       "pCut::CTRL_Position_controller::Lag_error                 0.01828   \n",
       "pCut::CTRL_Position_controller::Actual_position    36065367.50000   \n",
       "pCut::CTRL_Position_controller::Actual_speed           4283.80933   \n",
       "pSvolFilm::CTRL_Position_controller::Actual_pos... 91509037.50000   \n",
       "pSvolFilm::CTRL_Position_controller::Actual_speed      4577.94580   \n",
       "pSvolFilm::CTRL_Position_controller::Lag_error            0.98803   \n",
       "pSpintor::VAX_speed                                    1499.99976   \n",
       "\n",
       "                                                              max  \n",
       "timestamp                                                 8.19600  \n",
       "pCut::Motor_Torque                                        1.23339  \n",
       "pCut::CTRL_Position_controller::Lag_error                 0.94829  \n",
       "pCut::CTRL_Position_controller::Actual_position    36069497.00000  \n",
       "pCut::CTRL_Position_controller::Actual_speed           8232.87891  \n",
       "pSvolFilm::CTRL_Position_controller::Actual_pos... 91516503.00000  \n",
       "pSvolFilm::CTRL_Position_controller::Actual_speed      4723.91650  \n",
       "pSvolFilm::CTRL_Position_controller::Lag_error            1.84331  \n",
       "pSpintor::VAX_speed                                    1499.99976  "
      ]
     },
     "execution_count": 24,
     "metadata": {},
     "output_type": "execute_result"
    }
   ],
   "source": [
    "t_old.describe().transpose()"
   ]
  },
  {
   "cell_type": "markdown",
   "id": "7e37710c",
   "metadata": {},
   "source": [
    "## Does the average LagError increase over the year?"
   ]
  },
  {
   "cell_type": "code",
   "execution_count": 25,
   "id": "6cc56440",
   "metadata": {},
   "outputs": [
    {
     "data": {
      "text/plain": [
       "count   2048.00000\n",
       "mean       0.00126\n",
       "std        0.10109\n",
       "min       -1.25017\n",
       "25%       -0.01534\n",
       "50%        0.00181\n",
       "75%        0.01828\n",
       "max        0.94829\n",
       "Name: pCut::CTRL_Position_controller::Lag_error, dtype: float64"
      ]
     },
     "execution_count": 25,
     "metadata": {},
     "output_type": "execute_result"
    }
   ],
   "source": [
    "t_old[\"pCut::CTRL_Position_controller::Lag_error\"].describe()"
   ]
  },
  {
   "cell_type": "code",
   "execution_count": 26,
   "id": "a3d0978a",
   "metadata": {},
   "outputs": [
    {
     "data": {
      "text/plain": [
       "0.00125643125976563"
      ]
     },
     "execution_count": 26,
     "metadata": {},
     "output_type": "execute_result"
    }
   ],
   "source": [
    "t_old[\"pCut::CTRL_Position_controller::Lag_error\"].describe()[\"mean\"]"
   ]
  },
  {
   "cell_type": "code",
   "execution_count": 27,
   "id": "98a1d09a",
   "metadata": {},
   "outputs": [],
   "source": [
    "x = []\n",
    "y = []\n",
    "\n",
    "i = 0\n",
    "for file_name in list_files:\n",
    "    \n",
    "    t = pandas.read_csv( f\"{folder_name}/{file_name}\")\n",
    "    \n",
    "    mean_lag_error = t[\"pCut::CTRL_Position_controller::Lag_error\"].describe()[\"mean\"]\n",
    "    \n",
    "    x.append( i )\n",
    "    y.append( mean_lag_error )\n",
    "    \n",
    "    i += 1"
   ]
  },
  {
   "cell_type": "code",
   "execution_count": 28,
   "id": "7a77e787",
   "metadata": {},
   "outputs": [
    {
     "data": {
      "text/plain": [
       "229"
      ]
     },
     "execution_count": 28,
     "metadata": {},
     "output_type": "execute_result"
    }
   ],
   "source": [
    "len(list_files)"
   ]
  },
  {
   "cell_type": "code",
   "execution_count": 29,
   "id": "f38ae6eb",
   "metadata": {},
   "outputs": [
    {
     "data": {
      "text/plain": [
       "229"
      ]
     },
     "execution_count": 29,
     "metadata": {},
     "output_type": "execute_result"
    }
   ],
   "source": [
    "len(y)"
   ]
  },
  {
   "cell_type": "code",
   "execution_count": 30,
   "id": "7625e477",
   "metadata": {},
   "outputs": [
    {
     "data": {
      "text/plain": [
       "[-3.9950234374999716e-05,\n",
       " -0.00029946083984375024,\n",
       " -2.171538085937529e-06,\n",
       " 0.00014146028808593756,\n",
       " 7.623739257812487e-05,\n",
       " 0.0004480147851562501,\n",
       " -0.0005595231542968746,\n",
       " -0.00037773941406249906,\n",
       " -0.0003832172216796881,\n",
       " -0.0005363797753906269]"
      ]
     },
     "execution_count": 30,
     "metadata": {},
     "output_type": "execute_result"
    }
   ],
   "source": [
    "y[:10]"
   ]
  },
  {
   "cell_type": "code",
   "execution_count": 31,
   "id": "ee829785",
   "metadata": {},
   "outputs": [
    {
     "data": {
      "image/png": "[encoded data removed]",
      "text/plain": [
       "<Figure size 432x288 with 1 Axes>"
      ]
     },
     "metadata": {
      "needs_background": "light"
     },
     "output_type": "display_data"
    }
   ],
   "source": [
    "plt.bar( x, y )\n",
    "plt.xlabel( \"Sensor recording nr\" )\n",
    "plt.ylabel( \"Mean LagError for that recording\" )\n",
    "plt.show()"
   ]
  },
  {
   "cell_type": "markdown",
   "id": "8592ad7c-9eca-4083-874f-ed83ddac5bed",
   "metadata": {},
   "source": [
    "# S/M: Preparing data for Machine Learning\n",
    "\n",
    "Things to do before we can start training a machine learning model:\n",
    "\n",
    "1. Scale data\n",
    "2. Prepare target values\n",
    "3. Shuffle example data\n",
    "4. Split example data into training and test data"
   ]
  },
  {
   "cell_type": "markdown",
   "id": "62cca56a-3ee0-4824-9810-ae429b5195a4",
   "metadata": {},
   "source": [
    "## Exercise: Scaling data with MinMaxScaler"
   ]
  },
  {
   "cell_type": "code",
   "execution_count": 32,
   "id": "c1669ad8-cfaf-4eae-bf2a-ddb704f2a4b6",
   "metadata": {},
   "outputs": [],
   "source": [
    "from sklearn.preprocessing import MinMaxScaler"
   ]
  },
  {
   "cell_type": "code",
   "execution_count": 33,
   "id": "98ba743c-8652-468c-9c18-820788adafa5",
   "metadata": {},
   "outputs": [
    {
     "data": {
      "text/plain": [
       "array([[-1. ,  2. ],\n",
       "       [-0.5,  6. ],\n",
       "       [ 0. , 10. ],\n",
       "       [ 1. , 18. ]])"
      ]
     },
     "execution_count": 33,
     "metadata": {},
     "output_type": "execute_result"
    }
   ],
   "source": [
    "data = np.array( [[-1, 2], [-0.5, 6], [0, 10], [1, 18]] )\n",
    "data"
   ]
  },
  {
   "cell_type": "code",
   "execution_count": 34,
   "id": "d0eed388-b244-4531-8875-ebe15120e30c",
   "metadata": {},
   "outputs": [
    {
     "data": {
      "text/plain": [
       "MinMaxScaler()"
      ]
     },
     "execution_count": 34,
     "metadata": {},
     "output_type": "execute_result"
    }
   ],
   "source": [
    "scaler = MinMaxScaler()\n",
    "scaler.fit(data)"
   ]
  },
  {
   "cell_type": "code",
   "execution_count": 35,
   "id": "ad2a48e4-c141-4ab1-a778-553a19c7da1c",
   "metadata": {},
   "outputs": [
    {
     "data": {
      "text/plain": [
       "array([ 1., 18.])"
      ]
     },
     "execution_count": 35,
     "metadata": {},
     "output_type": "execute_result"
    }
   ],
   "source": [
    "scaler.data_max_"
   ]
  },
  {
   "cell_type": "code",
   "execution_count": 36,
   "id": "53d1ed29-0960-435b-9551-7831ab9f91d2",
   "metadata": {},
   "outputs": [
    {
     "data": {
      "text/plain": [
       "array([-1.,  2.])"
      ]
     },
     "execution_count": 36,
     "metadata": {},
     "output_type": "execute_result"
    }
   ],
   "source": [
    "scaler.data_min_"
   ]
  },
  {
   "cell_type": "code",
   "execution_count": 37,
   "id": "53abb0e7-63cc-47bd-8418-694a42635aa8",
   "metadata": {},
   "outputs": [
    {
     "data": {
      "text/plain": [
       "array([ 2., 16.])"
      ]
     },
     "execution_count": 37,
     "metadata": {},
     "output_type": "execute_result"
    }
   ],
   "source": [
    "scaler.data_range_"
   ]
  },
  {
   "cell_type": "code",
   "execution_count": 38,
   "id": "44191e40-571f-4383-bec0-d7c4e6e47b37",
   "metadata": {},
   "outputs": [
    {
     "data": {
      "text/plain": [
       "array([[0.  , 0.  ],\n",
       "       [0.25, 0.25],\n",
       "       [0.5 , 0.5 ],\n",
       "       [1.  , 1.  ]])"
      ]
     },
     "execution_count": 38,
     "metadata": {},
     "output_type": "execute_result"
    }
   ],
   "source": [
    "scaler.transform(data)"
   ]
  },
  {
   "cell_type": "markdown",
   "id": "7ad1296b",
   "metadata": {},
   "source": [
    "## Preparing target values"
   ]
  },
  {
   "cell_type": "code",
   "execution_count": 39,
   "id": "67b238aa",
   "metadata": {},
   "outputs": [
    {
     "data": {
      "text/plain": [
       "'02-14T132310_119_mode1.csv'"
      ]
     },
     "execution_count": 39,
     "metadata": {},
     "output_type": "execute_result"
    }
   ],
   "source": [
    "example_filename = list_files[30]\n",
    "example_filename"
   ]
  },
  {
   "cell_type": "code",
   "execution_count": 40,
   "id": "91f61faa",
   "metadata": {},
   "outputs": [
    {
     "data": {
      "text/plain": [
       "'02'"
      ]
     },
     "execution_count": 40,
     "metadata": {},
     "output_type": "execute_result"
    }
   ],
   "source": [
    "month = example_filename[0:2]\n",
    "month"
   ]
  },
  {
   "cell_type": "code",
   "execution_count": 41,
   "id": "e7c3a056",
   "metadata": {},
   "outputs": [
    {
     "data": {
      "text/plain": [
       "'14'"
      ]
     },
     "execution_count": 41,
     "metadata": {},
     "output_type": "execute_result"
    }
   ],
   "source": [
    "day = example_filename[3:5]\n",
    "day"
   ]
  },
  {
   "cell_type": "code",
   "execution_count": 42,
   "id": "25e24536",
   "metadata": {},
   "outputs": [
    {
     "data": {
      "text/plain": [
       "Timestamp('2018-02-14 00:00:00')"
      ]
     },
     "execution_count": 42,
     "metadata": {},
     "output_type": "execute_result"
    }
   ],
   "source": [
    "ts = pandas.Timestamp( year=2018, month=int(month), day=int(day) )\n",
    "ts"
   ]
  },
  {
   "cell_type": "code",
   "execution_count": 43,
   "id": "703f78a7",
   "metadata": {},
   "outputs": [
    {
     "data": {
      "text/plain": [
       "45"
      ]
     },
     "execution_count": 43,
     "metadata": {},
     "output_type": "execute_result"
    }
   ],
   "source": [
    "ts.dayofyear"
   ]
  },
  {
   "cell_type": "code",
   "execution_count": 44,
   "id": "5be846ac",
   "metadata": {},
   "outputs": [],
   "source": [
    "def filename_to_dayofyear(filename):\n",
    "    month = filename[0:2]\n",
    "    day   = filename[3:5]\n",
    "    \n",
    "    # Error in data set!\n",
    "    if month==\"02\" and day == \"30\":\n",
    "        day = \"28\"\n",
    "           \n",
    "    ts = pandas.Timestamp( year=2018, month=int(month), day=int(day) )\n",
    "    return ts.dayofyear"
   ]
  },
  {
   "cell_type": "code",
   "execution_count": 45,
   "id": "7d2df136",
   "metadata": {},
   "outputs": [
    {
     "data": {
      "text/plain": [
       "32"
      ]
     },
     "execution_count": 45,
     "metadata": {},
     "output_type": "execute_result"
    }
   ],
   "source": [
    "filename_to_dayofyear( \"02-01T...\" )"
   ]
  },
  {
   "cell_type": "markdown",
   "id": "e5ecd958",
   "metadata": {},
   "source": [
    "## Prepare one large data matrix M with input- and output vectors"
   ]
  },
  {
   "cell_type": "code",
   "execution_count": 46,
   "id": "05de0c35",
   "metadata": {},
   "outputs": [
    {
     "data": {
      "text/plain": [
       "229"
      ]
     },
     "execution_count": 46,
     "metadata": {},
     "output_type": "execute_result"
    }
   ],
   "source": [
    "nr_files = len(list_files)\n",
    "nr_files"
   ]
  },
  {
   "cell_type": "code",
   "execution_count": 47,
   "id": "6f1a2460-8141-4fbe-8673-cc13d75d3d55",
   "metadata": {},
   "outputs": [
    {
     "data": {
      "text/html": [
       "<div>\n",
       "<style scoped>\n",
       "    .dataframe tbody tr th:only-of-type {\n",
       "        vertical-align: middle;\n",
       "    }\n",
       "\n",
       "    .dataframe tbody tr th {\n",
       "        vertical-align: top;\n",
       "    }\n",
       "\n",
       "    .dataframe thead th {\n",
       "        text-align: right;\n",
       "    }\n",
       "</style>\n",
       "<table border=\"1\" class=\"dataframe\">\n",
       "  <thead>\n",
       "    <tr style=\"text-align: right;\">\n",
       "      <th></th>\n",
       "      <th>timestamp</th>\n",
       "      <th>pCut::Motor_Torque</th>\n",
       "      <th>pCut::CTRL_Position_controller::Lag_error</th>\n",
       "      <th>pCut::CTRL_Position_controller::Actual_position</th>\n",
       "      <th>pCut::CTRL_Position_controller::Actual_speed</th>\n",
       "      <th>pSvolFilm::CTRL_Position_controller::Actual_position</th>\n",
       "      <th>pSvolFilm::CTRL_Position_controller::Actual_speed</th>\n",
       "      <th>pSvolFilm::CTRL_Position_controller::Lag_error</th>\n",
       "      <th>pSpintor::VAX_speed</th>\n",
       "    </tr>\n",
       "  </thead>\n",
       "  <tbody>\n",
       "    <tr>\n",
       "      <th>count</th>\n",
       "      <td>2048.00000</td>\n",
       "      <td>2048.00000</td>\n",
       "      <td>2048.00000</td>\n",
       "      <td>2048.00000</td>\n",
       "      <td>2048.00000</td>\n",
       "      <td>2048.00000</td>\n",
       "      <td>2048.00000</td>\n",
       "      <td>2048.00000</td>\n",
       "      <td>2048.00000</td>\n",
       "    </tr>\n",
       "    <tr>\n",
       "      <th>mean</th>\n",
       "      <td>4.10200</td>\n",
       "      <td>-0.09800</td>\n",
       "      <td>-0.00004</td>\n",
       "      <td>628397221.81934</td>\n",
       "      <td>1293.84563</td>\n",
       "      <td>5312998.18506</td>\n",
       "      <td>3306.29290</td>\n",
       "      <td>0.86101</td>\n",
       "      <td>1340.74334</td>\n",
       "    </tr>\n",
       "    <tr>\n",
       "      <th>std</th>\n",
       "      <td>2.36540</td>\n",
       "      <td>0.48638</td>\n",
       "      <td>0.09303</td>\n",
       "      <td>3781.23009</td>\n",
       "      <td>3486.16446</td>\n",
       "      <td>7973.94829</td>\n",
       "      <td>1073.54924</td>\n",
       "      <td>0.10976</td>\n",
       "      <td>73.92810</td>\n",
       "    </tr>\n",
       "    <tr>\n",
       "      <th>min</th>\n",
       "      <td>0.00800</td>\n",
       "      <td>-4.91820</td>\n",
       "      <td>-1.23870</td>\n",
       "      <td>628390305.00000</td>\n",
       "      <td>-4895.78223</td>\n",
       "      <td>5298555.00000</td>\n",
       "      <td>1988.22278</td>\n",
       "      <td>0.02962</td>\n",
       "      <td>1199.99963</td>\n",
       "    </tr>\n",
       "    <tr>\n",
       "      <th>25%</th>\n",
       "      <td>2.05500</td>\n",
       "      <td>-0.32341</td>\n",
       "      <td>-0.01924</td>\n",
       "      <td>628394445.00000</td>\n",
       "      <td>-1264.28604</td>\n",
       "      <td>5306143.75000</td>\n",
       "      <td>2325.46558</td>\n",
       "      <td>0.78847</td>\n",
       "      <td>1379.99976</td>\n",
       "    </tr>\n",
       "    <tr>\n",
       "      <th>50%</th>\n",
       "      <td>4.10200</td>\n",
       "      <td>-0.13288</td>\n",
       "      <td>0.00026</td>\n",
       "      <td>628397506.00000</td>\n",
       "      <td>1435.08911</td>\n",
       "      <td>5313703.50000</td>\n",
       "      <td>2965.97546</td>\n",
       "      <td>0.85650</td>\n",
       "      <td>1379.99976</td>\n",
       "    </tr>\n",
       "    <tr>\n",
       "      <th>75%</th>\n",
       "      <td>6.14900</td>\n",
       "      <td>0.27032</td>\n",
       "      <td>0.02011</td>\n",
       "      <td>628399826.75000</td>\n",
       "      <td>3739.64301</td>\n",
       "      <td>5320254.75000</td>\n",
       "      <td>4580.46240</td>\n",
       "      <td>0.94370</td>\n",
       "      <td>1379.99976</td>\n",
       "    </tr>\n",
       "    <tr>\n",
       "      <th>max</th>\n",
       "      <td>8.19600</td>\n",
       "      <td>1.00611</td>\n",
       "      <td>0.91515</td>\n",
       "      <td>628403507.00000</td>\n",
       "      <td>7673.26318</td>\n",
       "      <td>5325625.00000</td>\n",
       "      <td>4718.88330</td>\n",
       "      <td>1.14676</td>\n",
       "      <td>1379.99976</td>\n",
       "    </tr>\n",
       "  </tbody>\n",
       "</table>\n",
       "</div>"
      ],
      "text/plain": [
       "       timestamp  pCut::Motor_Torque  \\\n",
       "count 2048.00000          2048.00000   \n",
       "mean     4.10200            -0.09800   \n",
       "std      2.36540             0.48638   \n",
       "min      0.00800            -4.91820   \n",
       "25%      2.05500            -0.32341   \n",
       "50%      4.10200            -0.13288   \n",
       "75%      6.14900             0.27032   \n",
       "max      8.19600             1.00611   \n",
       "\n",
       "       pCut::CTRL_Position_controller::Lag_error  \\\n",
       "count                                 2048.00000   \n",
       "mean                                    -0.00004   \n",
       "std                                      0.09303   \n",
       "min                                     -1.23870   \n",
       "25%                                     -0.01924   \n",
       "50%                                      0.00026   \n",
       "75%                                      0.02011   \n",
       "max                                      0.91515   \n",
       "\n",
       "       pCut::CTRL_Position_controller::Actual_position  \\\n",
       "count                                       2048.00000   \n",
       "mean                                   628397221.81934   \n",
       "std                                         3781.23009   \n",
       "min                                    628390305.00000   \n",
       "25%                                    628394445.00000   \n",
       "50%                                    628397506.00000   \n",
       "75%                                    628399826.75000   \n",
       "max                                    628403507.00000   \n",
       "\n",
       "       pCut::CTRL_Position_controller::Actual_speed  \\\n",
       "count                                    2048.00000   \n",
       "mean                                     1293.84563   \n",
       "std                                      3486.16446   \n",
       "min                                     -4895.78223   \n",
       "25%                                     -1264.28604   \n",
       "50%                                      1435.08911   \n",
       "75%                                      3739.64301   \n",
       "max                                      7673.26318   \n",
       "\n",
       "       pSvolFilm::CTRL_Position_controller::Actual_position  \\\n",
       "count                                         2048.00000      \n",
       "mean                                       5312998.18506      \n",
       "std                                           7973.94829      \n",
       "min                                        5298555.00000      \n",
       "25%                                        5306143.75000      \n",
       "50%                                        5313703.50000      \n",
       "75%                                        5320254.75000      \n",
       "max                                        5325625.00000      \n",
       "\n",
       "       pSvolFilm::CTRL_Position_controller::Actual_speed  \\\n",
       "count                                         2048.00000   \n",
       "mean                                          3306.29290   \n",
       "std                                           1073.54924   \n",
       "min                                           1988.22278   \n",
       "25%                                           2325.46558   \n",
       "50%                                           2965.97546   \n",
       "75%                                           4580.46240   \n",
       "max                                           4718.88330   \n",
       "\n",
       "       pSvolFilm::CTRL_Position_controller::Lag_error  pSpintor::VAX_speed  \n",
       "count                                      2048.00000           2048.00000  \n",
       "mean                                          0.86101           1340.74334  \n",
       "std                                           0.10976             73.92810  \n",
       "min                                           0.02962           1199.99963  \n",
       "25%                                           0.78847           1379.99976  \n",
       "50%                                           0.85650           1379.99976  \n",
       "75%                                           0.94370           1379.99976  \n",
       "max                                           1.14676           1379.99976  "
      ]
     },
     "execution_count": 47,
     "metadata": {},
     "output_type": "execute_result"
    }
   ],
   "source": [
    "t_new.describe()"
   ]
  },
  {
   "cell_type": "code",
   "execution_count": 48,
   "id": "942f2a5c-b13b-45ed-980f-ef0d3547bb70",
   "metadata": {},
   "outputs": [
    {
     "data": {
      "text/plain": [
       "array([ 2.04800000e+03,  2.04800000e+03,  2.04800000e+03,  2.04800000e+03,\n",
       "        2.04800000e+03,  2.04800000e+03,  2.04800000e+03,  2.04800000e+03,\n",
       "        2.04800000e+03,  4.10199971e+00, -9.79962931e-02, -3.99502344e-05,\n",
       "        6.28397222e+08,  1.29384563e+03,  5.31299819e+06,  3.30629290e+03,\n",
       "        8.61008625e-01,  1.34074334e+03,  2.36540382e+00,  4.86380249e-01,\n",
       "        9.30273273e-02,  3.78123009e+03,  3.48616446e+03,  7.97394829e+03,\n",
       "        1.07354924e+03,  1.09759764e-01,  7.39280994e+01,  8.00000000e-03,\n",
       "       -4.91820240e+00, -1.23869705e+00,  6.28390305e+08, -4.89578223e+03,\n",
       "        5.29855500e+06,  1.98822278e+03,  2.96161000e-02,  1.19999963e+03,\n",
       "        2.05499985e+00, -3.23410162e-01, -1.92379875e-02,  6.28394445e+08,\n",
       "       -1.26428604e+03,  5.30614375e+06,  2.32546558e+03,  7.88474422e-01,\n",
       "        1.37999976e+03,  4.10199971e+00, -1.32880515e-01,  2.62495000e-04,\n",
       "        6.28397506e+08,  1.43508911e+03,  5.31370350e+06,  2.96597546e+03,\n",
       "        8.56501040e-01,  1.37999976e+03,  6.14899957e+00,  2.70321470e-01,\n",
       "        2.01062500e-02,  6.28399827e+08,  3.73964301e+03,  5.32025475e+06,\n",
       "        4.58046240e+03,  9.43701340e-01,  1.37999976e+03,  8.19599943e+00,\n",
       "        1.00611090e+00,  9.15147780e-01,  6.28403507e+08,  7.67326318e+03,\n",
       "        5.32562500e+06,  4.71888330e+03,  1.14676475e+00,  1.37999976e+03])"
      ]
     },
     "execution_count": 48,
     "metadata": {},
     "output_type": "execute_result"
    }
   ],
   "source": [
    "t_new.describe().values.flatten()"
   ]
  },
  {
   "cell_type": "code",
   "execution_count": 49,
   "id": "fc027140-5d8c-4545-8c5f-eae4dd61ec4b",
   "metadata": {},
   "outputs": [
    {
     "data": {
      "text/plain": [
       "72"
      ]
     },
     "execution_count": 49,
     "metadata": {},
     "output_type": "execute_result"
    }
   ],
   "source": [
    "one_example_input_vector = t_new.describe().values.flatten()\n",
    "len(one_example_input_vector)"
   ]
  },
  {
   "cell_type": "code",
   "execution_count": 50,
   "id": "4121bd97",
   "metadata": {},
   "outputs": [],
   "source": [
    "nr_rows  = nr_files\n",
    "nr_cols = 72 + 1"
   ]
  },
  {
   "cell_type": "code",
   "execution_count": 51,
   "id": "06235256",
   "metadata": {},
   "outputs": [
    {
     "data": {
      "text/plain": [
       "(229, 73)"
      ]
     },
     "execution_count": 51,
     "metadata": {},
     "output_type": "execute_result"
    }
   ],
   "source": [
    "M = np.zeros( (nr_rows, nr_cols) )\n",
    "M.shape"
   ]
  },
  {
   "cell_type": "code",
   "execution_count": 52,
   "id": "4eff6845",
   "metadata": {},
   "outputs": [],
   "source": [
    "i = 0\n",
    "for file_name in list_files:\n",
    "    \n",
    "    t = pandas.read_csv( f\"{folder_name}/{file_name}\")\n",
    "    \n",
    "    input_vec = t.describe().values.flatten()\n",
    "        \n",
    "    target_value = filename_to_dayofyear( file_name )\n",
    "    \n",
    "    M[i,0:nr_cols-1] = input_vec\n",
    "    M[i,nr_cols-1]   = target_value\n",
    "    \n",
    "    i += 1"
   ]
  },
  {
   "cell_type": "code",
   "execution_count": 53,
   "id": "c4d64f40",
   "metadata": {},
   "outputs": [
    {
     "data": {
      "text/plain": [
       "array([ 2.04800000e+03,  2.04800000e+03,  2.04800000e+03,  2.04800000e+03,\n",
       "        2.04800000e+03,  2.04800000e+03,  2.04800000e+03,  2.04800000e+03,\n",
       "        2.04800000e+03,  4.10199971e+00, -9.43548531e-02, -4.55870029e-04,\n",
       "        6.68200971e+08,  1.62549572e+03,  1.23049747e+07,  4.48666994e+03,\n",
       "        9.24078689e-01,  1.79999976e+03,  2.36540382e+00,  5.45785554e-01,\n",
       "        1.22075148e-01,  4.67385381e+03,  4.76100725e+03,  1.04801618e+04,\n",
       "        1.34705830e+03,  1.42472799e-01,  3.68435315e-11,  8.00000000e-03,\n",
       "       -6.04466724e+00, -1.38317871e+00,  6.68191904e+08, -6.34117090e+03,\n",
       "        1.22862400e+07,  2.93451636e+03,  2.81405000e-03,  1.79999976e+03,\n",
       "        2.05499985e+00, -3.26272467e-01, -2.37670325e-02,  6.68197418e+08,\n",
       "       -2.11486816e+03,  1.22954220e+07,  3.05028589e+03,  8.36457175e-01,\n",
       "        1.79999976e+03,  4.10199971e+00, -1.18749075e-01, -9.82755000e-04,\n",
       "        6.68201084e+08,  1.85394287e+03,  1.23046045e+07,  4.35018091e+03,\n",
       "        9.18779935e-01,  1.79999976e+03,  6.14899957e+00,  2.69691630e-01,\n",
       "        2.23047675e-02,  6.68204750e+08,  4.97131348e+03,  1.23137880e+07,\n",
       "        5.98543127e+03,  1.01624384e+00,  1.79999976e+03,  8.19599943e+00,\n",
       "        1.74836659e+00,  1.30686044e+00,  6.68208706e+08,  9.94605957e+03,\n",
       "        1.23229700e+07,  6.13077295e+03,  1.31173920e+00,  1.79999976e+03,\n",
       "        5.00000000e+00])"
      ]
     },
     "execution_count": 53,
     "metadata": {},
     "output_type": "execute_result"
    }
   ],
   "source": [
    "M[10]"
   ]
  },
  {
   "cell_type": "code",
   "execution_count": 54,
   "id": "2e61d4bc",
   "metadata": {},
   "outputs": [
    {
     "data": {
      "text/plain": [
       "(73,)"
      ]
     },
     "execution_count": 54,
     "metadata": {},
     "output_type": "execute_result"
    }
   ],
   "source": [
    "M[0].shape"
   ]
  },
  {
   "cell_type": "markdown",
   "id": "6ba0d2f6-2b2d-449c-9234-ab8f4256d776",
   "metadata": {},
   "source": [
    "## Normalize our example data"
   ]
  },
  {
   "cell_type": "code",
   "execution_count": 55,
   "id": "40fa210f-7686-44d1-9a1e-dbfed46fe3ef",
   "metadata": {},
   "outputs": [
    {
     "data": {
      "text/plain": [
       "array([ 2.04800000e+03,  2.04800000e+03,  2.04800000e+03,  2.04800000e+03,\n",
       "        2.04800000e+03,  2.04800000e+03,  2.04800000e+03,  2.04800000e+03,\n",
       "        2.04800000e+03,  4.10199971e+00, -9.79962931e-02, -3.99502344e-05,\n",
       "        6.28397222e+08,  1.29384563e+03,  5.31299819e+06,  3.30629290e+03,\n",
       "        8.61008625e-01,  1.34074334e+03,  2.36540382e+00,  4.86380249e-01,\n",
       "        9.30273273e-02,  3.78123009e+03,  3.48616446e+03,  7.97394829e+03,\n",
       "        1.07354924e+03,  1.09759764e-01,  7.39280994e+01,  8.00000000e-03,\n",
       "       -4.91820240e+00, -1.23869705e+00,  6.28390305e+08, -4.89578223e+03,\n",
       "        5.29855500e+06,  1.98822278e+03,  2.96161000e-02,  1.19999963e+03,\n",
       "        2.05499985e+00, -3.23410162e-01, -1.92379875e-02,  6.28394445e+08,\n",
       "       -1.26428604e+03,  5.30614375e+06,  2.32546558e+03,  7.88474422e-01,\n",
       "        1.37999976e+03,  4.10199971e+00, -1.32880515e-01,  2.62495000e-04,\n",
       "        6.28397506e+08,  1.43508911e+03,  5.31370350e+06,  2.96597546e+03,\n",
       "        8.56501040e-01,  1.37999976e+03,  6.14899957e+00,  2.70321470e-01,\n",
       "        2.01062500e-02,  6.28399827e+08,  3.73964301e+03,  5.32025475e+06,\n",
       "        4.58046240e+03,  9.43701340e-01,  1.37999976e+03,  8.19599943e+00,\n",
       "        1.00611090e+00,  9.15147780e-01,  6.28403507e+08,  7.67326318e+03,\n",
       "        5.32562500e+06,  4.71888330e+03,  1.14676475e+00,  1.37999976e+03,\n",
       "        4.00000000e+00])"
      ]
     },
     "execution_count": 55,
     "metadata": {},
     "output_type": "execute_result"
    }
   ],
   "source": [
    "M[0]"
   ]
  },
  {
   "cell_type": "code",
   "execution_count": 56,
   "id": "65cda2d4-0741-421f-97b0-475154085519",
   "metadata": {},
   "outputs": [],
   "source": [
    "input_scaler = MinMaxScaler()\n",
    "M_scaled = input_scaler.fit_transform(M)"
   ]
  },
  {
   "cell_type": "code",
   "execution_count": 57,
   "id": "91361738-1282-4587-8e1e-77f6d67ad96c",
   "metadata": {},
   "outputs": [
    {
     "data": {
      "text/plain": [
       "array([0.        , 0.        , 0.        , 0.        , 0.        ,\n",
       "       0.        , 0.        , 0.        , 0.        , 0.5       ,\n",
       "       0.51222776, 0.44299941, 0.67516088, 0.21393515, 0.00934622,\n",
       "       0.09803341, 0.28200559, 0.06702082, 1.        , 0.23064308,\n",
       "       0.29372443, 0.18400343, 0.16197921, 0.09358789, 0.08264043,\n",
       "       0.03494442, 0.25542756, 0.5       , 0.47019243, 0.40578236,\n",
       "       0.67516069, 0.78378383, 0.00934134, 0.37099025, 0.64122856,\n",
       "       0.        , 0.5       , 0.68314311, 0.76278302, 0.67516088,\n",
       "       0.77085046, 0.00934777, 0.08860764, 0.25773107, 0.08571435,\n",
       "       0.5       , 0.70055276, 0.61010887, 0.67516093, 0.18297873,\n",
       "       0.00935159, 0.13303004, 0.26976178, 0.08571435, 0.5       ,\n",
       "       0.64443513, 0.23129677, 0.67516089, 0.14624953, 0.00934705,\n",
       "       0.07552603, 0.31051311, 0.08571435, 0.5       , 0.27292769,\n",
       "       0.40247712, 0.67516103, 0.34968734, 0.00933728, 0.07230086,\n",
       "       0.05123369, 0.08571435, 0.        ])"
      ]
     },
     "execution_count": 57,
     "metadata": {},
     "output_type": "execute_result"
    }
   ],
   "source": [
    "M_scaled[0]"
   ]
  },
  {
   "cell_type": "markdown",
   "id": "4a2459f9",
   "metadata": {},
   "source": [
    "## Split example data into input and output"
   ]
  },
  {
   "cell_type": "code",
   "execution_count": 58,
   "id": "fbbedebe-0c34-44d0-9ab6-401c904e61a2",
   "metadata": {},
   "outputs": [
    {
     "data": {
      "text/plain": [
       "(229, 73)"
      ]
     },
     "execution_count": 58,
     "metadata": {},
     "output_type": "execute_result"
    }
   ],
   "source": [
    "M_scaled.shape"
   ]
  },
  {
   "cell_type": "code",
   "execution_count": 59,
   "id": "c3b1df8b",
   "metadata": {},
   "outputs": [],
   "source": [
    "X = M_scaled[:,0:72]\n",
    "Y = M_scaled[:,72]"
   ]
  },
  {
   "cell_type": "code",
   "execution_count": 60,
   "id": "45d9193d-27ae-4f93-af07-cb8d828b0238",
   "metadata": {},
   "outputs": [
    {
     "data": {
      "text/plain": [
       "(229, 72)"
      ]
     },
     "execution_count": 60,
     "metadata": {},
     "output_type": "execute_result"
    }
   ],
   "source": [
    "X.shape"
   ]
  },
  {
   "cell_type": "code",
   "execution_count": 61,
   "id": "fd9ad438-e929-46e4-8798-904613194a0d",
   "metadata": {},
   "outputs": [
    {
     "data": {
      "text/plain": [
       "(229,)"
      ]
     },
     "execution_count": 61,
     "metadata": {},
     "output_type": "execute_result"
    }
   ],
   "source": [
    "Y.shape"
   ]
  },
  {
   "cell_type": "markdown",
   "id": "c915bb99",
   "metadata": {},
   "source": [
    "## Split input/output data into train and test data"
   ]
  },
  {
   "cell_type": "code",
   "execution_count": 62,
   "id": "546ffab2",
   "metadata": {},
   "outputs": [],
   "source": [
    "from sklearn.model_selection import train_test_split\n",
    "x_train, x_test, y_train, y_test = train_test_split(X, Y, test_size=0.20)"
   ]
  },
  {
   "cell_type": "code",
   "execution_count": 63,
   "id": "df92fe32-9cba-4026-8f45-faa3266547d7",
   "metadata": {},
   "outputs": [
    {
     "data": {
      "text/plain": [
       "array([0.00000000e+00, 0.00000000e+00, 0.00000000e+00, 0.00000000e+00,\n",
       "       0.00000000e+00, 0.00000000e+00, 0.00000000e+00, 0.00000000e+00,\n",
       "       0.00000000e+00, 5.00000000e-01, 4.07988136e-01, 4.71382567e-01,\n",
       "       6.44302131e-01, 3.97199807e-01, 1.00163013e-02, 2.38046374e-01,\n",
       "       8.33106825e-01, 2.85714360e-01, 1.00000000e+00, 4.12393014e-01,\n",
       "       5.69704644e-01, 2.94517818e-01, 4.00631531e-01, 2.40913086e-01,\n",
       "       1.48124141e-01, 1.14305614e-01, 6.28629027e-14, 5.00000000e-01,\n",
       "       9.29938527e-02, 1.73490370e-01, 6.44301798e-01, 5.38190364e-01,\n",
       "       1.00023789e-02, 5.53695946e-01, 6.50811961e-01, 2.85714360e-01,\n",
       "       5.00000000e-01, 6.06017657e-01, 7.20455263e-01, 6.44301908e-01,\n",
       "       7.11794698e-01, 1.00127005e-02, 2.90436032e-01, 7.92388971e-01,\n",
       "       2.85714360e-01, 5.00000000e-01, 7.31171620e-01, 4.36048336e-01,\n",
       "       6.44302115e-01, 2.85579206e-01, 1.00204826e-02, 2.93539604e-01,\n",
       "       8.14907440e-01, 2.85714360e-01, 5.00000000e-01, 5.44144883e-01,\n",
       "       3.28988520e-01, 6.44302418e-01, 3.30694833e-01, 1.00226159e-02,\n",
       "       1.84299162e-01, 8.58932095e-01, 2.85714360e-01, 5.00000000e-01,\n",
       "       2.72288376e-01, 8.24152407e-01, 6.44302927e-01, 6.70995700e-01,\n",
       "       1.00226748e-02, 1.80849035e-01, 2.06207031e-01, 2.85714360e-01])"
      ]
     },
     "execution_count": 63,
     "metadata": {},
     "output_type": "execute_result"
    }
   ],
   "source": [
    "x_train[0]"
   ]
  },
  {
   "cell_type": "code",
   "execution_count": 64,
   "id": "f3aa1477",
   "metadata": {},
   "outputs": [
    {
     "data": {
      "text/plain": [
       "(183, 72)"
      ]
     },
     "execution_count": 64,
     "metadata": {},
     "output_type": "execute_result"
    }
   ],
   "source": [
    "x_train.shape"
   ]
  },
  {
   "cell_type": "code",
   "execution_count": 65,
   "id": "e3996c49",
   "metadata": {},
   "outputs": [
    {
     "data": {
      "text/plain": [
       "(183,)"
      ]
     },
     "execution_count": 65,
     "metadata": {},
     "output_type": "execute_result"
    }
   ],
   "source": [
    "y_train.shape"
   ]
  },
  {
   "cell_type": "code",
   "execution_count": 66,
   "id": "de60a868",
   "metadata": {},
   "outputs": [
    {
     "data": {
      "text/plain": [
       "array([0.15211268, 0.51267606, 0.15492958, 0.95774648, 1.        ])"
      ]
     },
     "execution_count": 66,
     "metadata": {},
     "output_type": "execute_result"
    }
   ],
   "source": [
    "y_train[:5]"
   ]
  },
  {
   "cell_type": "code",
   "execution_count": 67,
   "id": "9a263146-9465-4c51-82b6-6214fade7d82",
   "metadata": {},
   "outputs": [
    {
     "data": {
      "text/plain": [
       "(46, 72)"
      ]
     },
     "execution_count": 67,
     "metadata": {},
     "output_type": "execute_result"
    }
   ],
   "source": [
    "x_test.shape"
   ]
  },
  {
   "cell_type": "code",
   "execution_count": 68,
   "id": "b66fa387-b6a1-44f5-ac18-3764d1f6dd5b",
   "metadata": {},
   "outputs": [
    {
     "data": {
      "text/plain": [
       "(46,)"
      ]
     },
     "execution_count": 68,
     "metadata": {},
     "output_type": "execute_result"
    }
   ],
   "source": [
    "y_test.shape"
   ]
  },
  {
   "cell_type": "code",
   "execution_count": 69,
   "id": "94d00b4e-b72e-44a7-8738-60b1d7482f39",
   "metadata": {},
   "outputs": [
    {
     "data": {
      "text/plain": [
       "array([0.70704225, 0.45633803, 0.2084507 , 0.30704225, 0.45633803])"
      ]
     },
     "execution_count": 69,
     "metadata": {},
     "output_type": "execute_result"
    }
   ],
   "source": [
    "y_test[:5]"
   ]
  },
  {
   "cell_type": "code",
   "execution_count": 70,
   "id": "d1e8d423-96ba-4679-bddc-27a6137fda36",
   "metadata": {},
   "outputs": [
    {
     "name": "stdout",
     "output_type": "stream",
     "text": [
      "One example pair:  [0.00000000e+00 0.00000000e+00 0.00000000e+00 0.00000000e+00\n",
      " 0.00000000e+00 0.00000000e+00 0.00000000e+00 0.00000000e+00\n",
      " 0.00000000e+00 5.00000000e-01 4.07988136e-01 4.71382567e-01\n",
      " 6.44302131e-01 3.97199807e-01 1.00163013e-02 2.38046374e-01\n",
      " 8.33106825e-01 2.85714360e-01 1.00000000e+00 4.12393014e-01\n",
      " 5.69704644e-01 2.94517818e-01 4.00631531e-01 2.40913086e-01\n",
      " 1.48124141e-01 1.14305614e-01 6.28629027e-14 5.00000000e-01\n",
      " 9.29938527e-02 1.73490370e-01 6.44301798e-01 5.38190364e-01\n",
      " 1.00023789e-02 5.53695946e-01 6.50811961e-01 2.85714360e-01\n",
      " 5.00000000e-01 6.06017657e-01 7.20455263e-01 6.44301908e-01\n",
      " 7.11794698e-01 1.00127005e-02 2.90436032e-01 7.92388971e-01\n",
      " 2.85714360e-01 5.00000000e-01 7.31171620e-01 4.36048336e-01\n",
      " 6.44302115e-01 2.85579206e-01 1.00204826e-02 2.93539604e-01\n",
      " 8.14907440e-01 2.85714360e-01 5.00000000e-01 5.44144883e-01\n",
      " 3.28988520e-01 6.44302418e-01 3.30694833e-01 1.00226159e-02\n",
      " 1.84299162e-01 8.58932095e-01 2.85714360e-01 5.00000000e-01\n",
      " 2.72288376e-01 8.24152407e-01 6.44302927e-01 6.70995700e-01\n",
      " 1.00226748e-02 1.80849035e-01 2.06207031e-01 2.85714360e-01] --> 0.15211267605633802\n"
     ]
    }
   ],
   "source": [
    "print(\"One example pair: \", x_train[0], \"-->\", y_train[0])"
   ]
  },
  {
   "cell_type": "markdown",
   "id": "808f6353",
   "metadata": {},
   "source": [
    "# M: Learning a model (here: using Neural Networks)"
   ]
  },
  {
   "cell_type": "markdown",
   "id": "f5825496-df50-4d0c-b453-a42643639c55",
   "metadata": {},
   "source": [
    "## Define a Neural Network using TensorFlow/Keras"
   ]
  },
  {
   "cell_type": "code",
   "execution_count": 71,
   "id": "e5b52ef8",
   "metadata": {},
   "outputs": [
    {
     "data": {
      "text/plain": [
       "'2.4.1'"
      ]
     },
     "execution_count": 71,
     "metadata": {},
     "output_type": "execute_result"
    }
   ],
   "source": [
    "import tensorflow as tf\n",
    "tf.__version__"
   ]
  },
  {
   "cell_type": "code",
   "execution_count": 72,
   "id": "858235d3",
   "metadata": {},
   "outputs": [
    {
     "data": {
      "text/plain": [
       "72"
      ]
     },
     "execution_count": 72,
     "metadata": {},
     "output_type": "execute_result"
    }
   ],
   "source": [
    "nr_inputs = x_train.shape[1]\n",
    "nr_inputs"
   ]
  },
  {
   "cell_type": "code",
   "execution_count": 73,
   "id": "6815f866",
   "metadata": {},
   "outputs": [
    {
     "data": {
      "text/plain": [
       "1"
      ]
     },
     "execution_count": 73,
     "metadata": {},
     "output_type": "execute_result"
    }
   ],
   "source": [
    "nr_outputs = 1\n",
    "nr_outputs"
   ]
  },
  {
   "cell_type": "code",
   "execution_count": 74,
   "id": "792d6436",
   "metadata": {},
   "outputs": [
    {
     "name": "stdout",
     "output_type": "stream",
     "text": [
      "Model: \"sequential\"\n",
      "_________________________________________________________________\n",
      "Layer (type)                 Output Shape              Param #   \n",
      "=================================================================\n",
      "HiddenLayer1 (Dense)         (None, 100)               7300      \n",
      "_________________________________________________________________\n",
      "OutputLayer (Dense)          (None, 1)                 101       \n",
      "=================================================================\n",
      "Total params: 7,401\n",
      "Trainable params: 7,401\n",
      "Non-trainable params: 0\n",
      "_________________________________________________________________\n"
     ]
    },
    {
     "name": "stderr",
     "output_type": "stream",
     "text": [
      "2021-11-02 10:52:27.924463: I tensorflow/compiler/jit/xla_cpu_device.cc:41] Not creating XLA devices, tf_xla_enable_xla_devices not set\n",
      "2021-11-02 10:52:27.924642: I tensorflow/core/platform/cpu_feature_guard.cc:142] This TensorFlow binary is optimized with oneAPI Deep Neural Network Library (oneDNN) to use the following CPU instructions in performance-critical operations:  SSE4.1 SSE4.2 AVX AVX2 FMA\n",
      "To enable them in other operations, rebuild TensorFlow with the appropriate compiler flags.\n",
      "2021-11-02 10:52:27.925445: I tensorflow/core/common_runtime/process_util.cc:146] Creating new thread pool with default inter op setting: 2. Tune using inter_op_parallelism_threads for best performance.\n"
     ]
    }
   ],
   "source": [
    "from tensorflow import keras\n",
    "\n",
    "tf.keras.backend.clear_session()\n",
    "\n",
    "model = keras.Sequential()\n",
    "model.add(keras.layers.Dense(100,\n",
    "                             activation=\"relu\",\n",
    "                             input_shape=(nr_inputs,),\n",
    "                             name=\"HiddenLayer1\"))\n",
    "model.add(keras.layers.Dense(nr_outputs,\n",
    "                             activation=\"linear\",\n",
    "                             name=\"OutputLayer\"))\n",
    "\n",
    "\n",
    "model.compile(optimizer='sgd',\n",
    "              loss=keras.losses.MeanAbsoluteError())\n",
    "\n",
    "model.summary()"
   ]
  },
  {
   "cell_type": "markdown",
   "id": "4b99ccfe",
   "metadata": {},
   "source": [
    "## Train the Neural Network"
   ]
  },
  {
   "cell_type": "code",
   "execution_count": 75,
   "id": "7722ea43",
   "metadata": {},
   "outputs": [
    {
     "data": {
      "text/plain": [
       "(183, 72)"
      ]
     },
     "execution_count": 75,
     "metadata": {},
     "output_type": "execute_result"
    }
   ],
   "source": [
    "x_train.shape"
   ]
  },
  {
   "cell_type": "code",
   "execution_count": 76,
   "id": "3bba2da9",
   "metadata": {},
   "outputs": [
    {
     "data": {
      "text/plain": [
       "(183,)"
      ]
     },
     "execution_count": 76,
     "metadata": {},
     "output_type": "execute_result"
    }
   ],
   "source": [
    "y_train.shape"
   ]
  },
  {
   "cell_type": "code",
   "execution_count": 77,
   "id": "ffece0f8",
   "metadata": {},
   "outputs": [
    {
     "name": "stderr",
     "output_type": "stream",
     "text": [
      "2021-11-02 10:52:28.007238: I tensorflow/compiler/mlir/mlir_graph_optimization_pass.cc:116] None of the MLIR optimization passes are enabled (registered 2)\n",
      "2021-11-02 10:52:28.023704: I tensorflow/core/platform/profile_utils/cpu_utils.cc:112] CPU Frequency: 2899885000 Hz\n"
     ]
    },
    {
     "name": "stdout",
     "output_type": "stream",
     "text": [
      "Epoch 1/200\n",
      "6/6 [==============================] - 1s 105ms/step - loss: 0.3804 - val_loss: 0.3158\n",
      "Epoch 2/200\n",
      "6/6 [==============================] - 0s 41ms/step - loss: 0.3034 - val_loss: 0.2611\n",
      "Epoch 3/200\n",
      "6/6 [==============================] - 0s 31ms/step - loss: 0.2817 - val_loss: 0.2659\n",
      "Epoch 4/200\n",
      "6/6 [==============================] - 0s 41ms/step - loss: 0.2676 - val_loss: 0.3508\n",
      "Epoch 5/200\n",
      "6/6 [==============================] - 0s 46ms/step - loss: 0.2771 - val_loss: 0.2207\n",
      "Epoch 6/200\n",
      "6/6 [==============================] - 0s 27ms/step - loss: 0.2496 - val_loss: 0.2337\n",
      "Epoch 7/200\n",
      "6/6 [==============================] - 0s 30ms/step - loss: 0.2371 - val_loss: 0.2794\n",
      "Epoch 8/200\n",
      "6/6 [==============================] - 0s 35ms/step - loss: 0.2446 - val_loss: 0.2756\n",
      "Epoch 9/200\n",
      "6/6 [==============================] - 0s 26ms/step - loss: 0.2280 - val_loss: 0.3014\n",
      "Epoch 10/200\n",
      "6/6 [==============================] - 0s 22ms/step - loss: 0.2238 - val_loss: 0.1806\n",
      "Epoch 11/200\n",
      "6/6 [==============================] - 0s 25ms/step - loss: 0.2117 - val_loss: 0.1920\n",
      "Epoch 12/200\n",
      "6/6 [==============================] - 0s 26ms/step - loss: 0.1915 - val_loss: 0.2744\n",
      "Epoch 13/200\n",
      "6/6 [==============================] - 0s 24ms/step - loss: 0.2212 - val_loss: 0.1662\n",
      "Epoch 14/200\n",
      "6/6 [==============================] - 0s 25ms/step - loss: 0.1941 - val_loss: 0.2318\n",
      "Epoch 15/200\n",
      "6/6 [==============================] - 0s 38ms/step - loss: 0.2044 - val_loss: 0.1967\n",
      "Epoch 16/200\n",
      "6/6 [==============================] - 0s 31ms/step - loss: 0.1914 - val_loss: 0.2171\n",
      "Epoch 17/200\n",
      "6/6 [==============================] - 0s 38ms/step - loss: 0.2018 - val_loss: 0.1376\n",
      "Epoch 18/200\n",
      "6/6 [==============================] - 0s 37ms/step - loss: 0.1880 - val_loss: 0.1980\n",
      "Epoch 19/200\n",
      "6/6 [==============================] - 0s 29ms/step - loss: 0.2000 - val_loss: 0.1634\n",
      "Epoch 20/200\n",
      "6/6 [==============================] - 0s 25ms/step - loss: 0.1645 - val_loss: 0.1695\n",
      "Epoch 21/200\n",
      "6/6 [==============================] - 0s 31ms/step - loss: 0.1725 - val_loss: 0.1958\n",
      "Epoch 22/200\n",
      "6/6 [==============================] - 0s 38ms/step - loss: 0.1780 - val_loss: 0.2453\n",
      "Epoch 23/200\n",
      "6/6 [==============================] - 0s 16ms/step - loss: 0.2087 - val_loss: 0.1638\n",
      "Epoch 24/200\n",
      "6/6 [==============================] - 0s 20ms/step - loss: 0.1753 - val_loss: 0.2395\n",
      "Epoch 25/200\n",
      "6/6 [==============================] - 0s 38ms/step - loss: 0.1901 - val_loss: 0.1569\n",
      "Epoch 26/200\n",
      "6/6 [==============================] - 0s 36ms/step - loss: 0.1757 - val_loss: 0.1793\n",
      "Epoch 27/200\n",
      "6/6 [==============================] - 0s 36ms/step - loss: 0.1738 - val_loss: 0.1151\n",
      "Epoch 28/200\n",
      "6/6 [==============================] - 0s 31ms/step - loss: 0.1702 - val_loss: 0.2764\n",
      "Epoch 29/200\n",
      "6/6 [==============================] - 0s 38ms/step - loss: 0.2218 - val_loss: 0.1091\n",
      "Epoch 30/200\n",
      "6/6 [==============================] - 0s 35ms/step - loss: 0.1472 - val_loss: 0.1023\n",
      "Epoch 31/200\n",
      "6/6 [==============================] - 0s 36ms/step - loss: 0.1706 - val_loss: 0.0997\n",
      "Epoch 32/200\n",
      "6/6 [==============================] - 0s 25ms/step - loss: 0.1540 - val_loss: 0.1302\n",
      "Epoch 33/200\n",
      "6/6 [==============================] - 0s 30ms/step - loss: 0.1516 - val_loss: 0.1972\n",
      "Epoch 34/200\n",
      "6/6 [==============================] - 0s 37ms/step - loss: 0.1738 - val_loss: 0.1216\n",
      "Epoch 35/200\n",
      "6/6 [==============================] - 0s 18ms/step - loss: 0.1715 - val_loss: 0.0952\n",
      "Epoch 36/200\n",
      "6/6 [==============================] - 0s 18ms/step - loss: 0.1482 - val_loss: 0.1546\n",
      "Epoch 37/200\n",
      "6/6 [==============================] - 0s 34ms/step - loss: 0.1615 - val_loss: 0.0965\n",
      "Epoch 38/200\n",
      "6/6 [==============================] - 0s 35ms/step - loss: 0.1379 - val_loss: 0.1094\n",
      "Epoch 39/200\n",
      "6/6 [==============================] - 0s 20ms/step - loss: 0.1409 - val_loss: 0.2416\n",
      "Epoch 40/200\n",
      "6/6 [==============================] - 0s 24ms/step - loss: 0.2085 - val_loss: 0.1172\n",
      "Epoch 41/200\n",
      "6/6 [==============================] - 0s 22ms/step - loss: 0.1500 - val_loss: 0.0890\n",
      "Epoch 42/200\n",
      "6/6 [==============================] - 0s 22ms/step - loss: 0.1239 - val_loss: 0.0925\n",
      "Epoch 43/200\n",
      "6/6 [==============================] - 0s 26ms/step - loss: 0.1362 - val_loss: 0.0920\n",
      "Epoch 44/200\n",
      "6/6 [==============================] - 0s 42ms/step - loss: 0.1432 - val_loss: 0.1083\n",
      "Epoch 45/200\n",
      "6/6 [==============================] - 0s 44ms/step - loss: 0.1499 - val_loss: 0.1303\n",
      "Epoch 46/200\n",
      "6/6 [==============================] - 0s 31ms/step - loss: 0.1490 - val_loss: 0.1360\n",
      "Epoch 47/200\n",
      "6/6 [==============================] - 0s 34ms/step - loss: 0.1552 - val_loss: 0.0880\n",
      "Epoch 48/200\n",
      "6/6 [==============================] - 0s 32ms/step - loss: 0.1286 - val_loss: 0.1081\n",
      "Epoch 49/200\n",
      "6/6 [==============================] - 0s 34ms/step - loss: 0.1360 - val_loss: 0.1189\n",
      "Epoch 50/200\n",
      "6/6 [==============================] - 0s 38ms/step - loss: 0.1464 - val_loss: 0.1714\n",
      "Epoch 51/200\n",
      "6/6 [==============================] - 0s 30ms/step - loss: 0.1613 - val_loss: 0.1100\n",
      "Epoch 52/200\n",
      "6/6 [==============================] - 0s 40ms/step - loss: 0.1312 - val_loss: 0.1002\n",
      "Epoch 53/200\n",
      "6/6 [==============================] - 0s 42ms/step - loss: 0.1386 - val_loss: 0.1722\n",
      "Epoch 54/200\n",
      "6/6 [==============================] - 0s 33ms/step - loss: 0.1737 - val_loss: 0.1921\n",
      "Epoch 55/200\n",
      "6/6 [==============================] - 0s 41ms/step - loss: 0.1622 - val_loss: 0.1126\n",
      "Epoch 56/200\n",
      "6/6 [==============================] - 0s 30ms/step - loss: 0.1336 - val_loss: 0.1970\n",
      "Epoch 57/200\n",
      "6/6 [==============================] - 0s 37ms/step - loss: 0.1801 - val_loss: 0.0934\n",
      "Epoch 58/200\n",
      "6/6 [==============================] - 0s 48ms/step - loss: 0.1242 - val_loss: 0.0913\n",
      "Epoch 59/200\n",
      "6/6 [==============================] - 0s 42ms/step - loss: 0.1273 - val_loss: 0.1840\n",
      "Epoch 60/200\n",
      "6/6 [==============================] - 0s 23ms/step - loss: 0.1423 - val_loss: 0.1843\n",
      "Epoch 61/200\n",
      "6/6 [==============================] - 0s 24ms/step - loss: 0.1644 - val_loss: 0.1323\n",
      "Epoch 62/200\n",
      "6/6 [==============================] - 0s 38ms/step - loss: 0.1373 - val_loss: 0.0811\n",
      "Epoch 63/200\n",
      "6/6 [==============================] - 0s 32ms/step - loss: 0.1285 - val_loss: 0.0979\n",
      "Epoch 64/200\n",
      "6/6 [==============================] - 0s 26ms/step - loss: 0.1337 - val_loss: 0.0800\n",
      "Epoch 65/200\n",
      "6/6 [==============================] - 0s 22ms/step - loss: 0.1257 - val_loss: 0.1060\n",
      "Epoch 66/200\n",
      "6/6 [==============================] - 0s 22ms/step - loss: 0.1282 - val_loss: 0.1702\n",
      "Epoch 67/200\n",
      "6/6 [==============================] - 0s 21ms/step - loss: 0.1571 - val_loss: 0.0941\n",
      "Epoch 68/200\n",
      "6/6 [==============================] - 0s 20ms/step - loss: 0.1294 - val_loss: 0.0974\n",
      "Epoch 69/200\n",
      "6/6 [==============================] - 0s 22ms/step - loss: 0.1251 - val_loss: 0.0805\n",
      "Epoch 70/200\n",
      "6/6 [==============================] - 0s 17ms/step - loss: 0.1226 - val_loss: 0.0901\n",
      "Epoch 71/200\n",
      "6/6 [==============================] - 0s 18ms/step - loss: 0.1172 - val_loss: 0.1055\n",
      "Epoch 72/200\n",
      "6/6 [==============================] - 0s 26ms/step - loss: 0.1303 - val_loss: 0.0738\n",
      "Epoch 73/200\n",
      "6/6 [==============================] - 0s 20ms/step - loss: 0.1176 - val_loss: 0.1040\n",
      "Epoch 74/200\n",
      "6/6 [==============================] - 0s 19ms/step - loss: 0.1221 - val_loss: 0.1598\n",
      "Epoch 75/200\n",
      "6/6 [==============================] - 0s 34ms/step - loss: 0.1432 - val_loss: 0.0770\n",
      "Epoch 76/200\n",
      "6/6 [==============================] - 0s 23ms/step - loss: 0.1121 - val_loss: 0.1134\n",
      "Epoch 77/200\n",
      "6/6 [==============================] - 0s 31ms/step - loss: 0.1389 - val_loss: 0.0906\n",
      "Epoch 78/200\n",
      "6/6 [==============================] - 0s 26ms/step - loss: 0.1200 - val_loss: 0.1714\n",
      "Epoch 79/200\n",
      "6/6 [==============================] - 0s 39ms/step - loss: 0.1417 - val_loss: 0.0737\n",
      "Epoch 80/200\n",
      "6/6 [==============================] - 0s 32ms/step - loss: 0.1190 - val_loss: 0.1203\n",
      "Epoch 81/200\n",
      "6/6 [==============================] - 0s 30ms/step - loss: 0.1272 - val_loss: 0.0814\n",
      "Epoch 82/200\n",
      "6/6 [==============================] - 0s 37ms/step - loss: 0.1187 - val_loss: 0.0989\n",
      "Epoch 83/200\n",
      "6/6 [==============================] - 0s 42ms/step - loss: 0.1232 - val_loss: 0.1558\n",
      "Epoch 84/200\n",
      "6/6 [==============================] - 0s 38ms/step - loss: 0.1500 - val_loss: 0.1233\n",
      "Epoch 85/200\n",
      "6/6 [==============================] - 0s 17ms/step - loss: 0.1364 - val_loss: 0.2434\n",
      "Epoch 86/200\n",
      "6/6 [==============================] - 0s 39ms/step - loss: 0.1625 - val_loss: 0.1461\n",
      "Epoch 87/200\n",
      "6/6 [==============================] - 0s 31ms/step - loss: 0.1309 - val_loss: 0.2206\n",
      "Epoch 88/200\n",
      "6/6 [==============================] - 0s 31ms/step - loss: 0.1556 - val_loss: 0.1037\n",
      "Epoch 89/200\n",
      "6/6 [==============================] - 0s 30ms/step - loss: 0.1285 - val_loss: 0.2030\n",
      "Epoch 90/200\n",
      "6/6 [==============================] - 0s 28ms/step - loss: 0.1416 - val_loss: 0.0979\n",
      "Epoch 91/200\n",
      "6/6 [==============================] - 0s 34ms/step - loss: 0.1171 - val_loss: 0.1969\n",
      "Epoch 92/200\n",
      "6/6 [==============================] - 0s 29ms/step - loss: 0.1531 - val_loss: 0.0698\n",
      "Epoch 93/200\n",
      "6/6 [==============================] - 0s 33ms/step - loss: 0.1199 - val_loss: 0.1879\n",
      "Epoch 94/200\n",
      "6/6 [==============================] - 0s 28ms/step - loss: 0.1462 - val_loss: 0.0871\n",
      "Epoch 95/200\n",
      "6/6 [==============================] - 0s 25ms/step - loss: 0.1196 - val_loss: 0.0949\n",
      "Epoch 96/200\n",
      "6/6 [==============================] - 0s 42ms/step - loss: 0.1131 - val_loss: 0.0775\n",
      "Epoch 97/200\n",
      "6/6 [==============================] - 0s 41ms/step - loss: 0.0990 - val_loss: 0.1743\n",
      "Epoch 98/200\n",
      "6/6 [==============================] - 0s 31ms/step - loss: 0.1232 - val_loss: 0.0787\n",
      "Epoch 99/200\n",
      "6/6 [==============================] - 0s 30ms/step - loss: 0.1067 - val_loss: 0.1208\n",
      "Epoch 100/200\n",
      "6/6 [==============================] - 0s 35ms/step - loss: 0.1216 - val_loss: 0.0709\n",
      "Epoch 101/200\n",
      "6/6 [==============================] - 0s 39ms/step - loss: 0.1019 - val_loss: 0.1300\n",
      "Epoch 102/200\n",
      "6/6 [==============================] - 0s 43ms/step - loss: 0.1447 - val_loss: 0.1357\n",
      "Epoch 103/200\n",
      "6/6 [==============================] - 0s 41ms/step - loss: 0.1245 - val_loss: 0.2000\n",
      "Epoch 104/200\n",
      "6/6 [==============================] - 0s 31ms/step - loss: 0.1376 - val_loss: 0.0730\n",
      "Epoch 105/200\n",
      "6/6 [==============================] - 0s 20ms/step - loss: 0.1175 - val_loss: 0.0839\n",
      "Epoch 106/200\n",
      "6/6 [==============================] - 0s 31ms/step - loss: 0.1114 - val_loss: 0.0731\n",
      "Epoch 107/200\n",
      "6/6 [==============================] - 0s 32ms/step - loss: 0.1065 - val_loss: 0.1840\n",
      "Epoch 108/200\n",
      "6/6 [==============================] - 0s 38ms/step - loss: 0.1327 - val_loss: 0.1905\n",
      "Epoch 109/200\n",
      "6/6 [==============================] - 0s 45ms/step - loss: 0.1494 - val_loss: 0.0915\n",
      "Epoch 110/200\n",
      "6/6 [==============================] - 0s 33ms/step - loss: 0.1164 - val_loss: 0.1604\n",
      "Epoch 111/200\n",
      "6/6 [==============================] - 0s 28ms/step - loss: 0.1441 - val_loss: 0.0733\n",
      "Epoch 112/200\n",
      "6/6 [==============================] - 0s 20ms/step - loss: 0.1084 - val_loss: 0.1604\n",
      "Epoch 113/200\n",
      "6/6 [==============================] - 0s 28ms/step - loss: 0.1333 - val_loss: 0.1309\n",
      "Epoch 114/200\n",
      "6/6 [==============================] - 0s 36ms/step - loss: 0.1013 - val_loss: 0.1357\n",
      "Epoch 115/200\n",
      "6/6 [==============================] - 0s 26ms/step - loss: 0.1169 - val_loss: 0.1397\n",
      "Epoch 116/200\n",
      "6/6 [==============================] - 0s 28ms/step - loss: 0.1314 - val_loss: 0.0858\n",
      "Epoch 117/200\n",
      "6/6 [==============================] - 0s 31ms/step - loss: 0.1179 - val_loss: 0.2366\n",
      "Epoch 118/200\n",
      "6/6 [==============================] - 0s 20ms/step - loss: 0.1603 - val_loss: 0.0839\n",
      "Epoch 119/200\n",
      "6/6 [==============================] - 0s 21ms/step - loss: 0.1109 - val_loss: 0.1149\n",
      "Epoch 120/200\n",
      "6/6 [==============================] - 0s 20ms/step - loss: 0.1203 - val_loss: 0.0746\n",
      "Epoch 121/200\n",
      "6/6 [==============================] - 0s 19ms/step - loss: 0.0998 - val_loss: 0.1383\n",
      "Epoch 122/200\n",
      "6/6 [==============================] - 0s 33ms/step - loss: 0.1315 - val_loss: 0.2058\n",
      "Epoch 123/200\n",
      "6/6 [==============================] - 0s 35ms/step - loss: 0.1448 - val_loss: 0.1100\n",
      "Epoch 124/200\n",
      "6/6 [==============================] - 0s 26ms/step - loss: 0.1209 - val_loss: 0.1134\n",
      "Epoch 125/200\n",
      "6/6 [==============================] - 0s 31ms/step - loss: 0.1093 - val_loss: 0.0745\n",
      "Epoch 126/200\n",
      "6/6 [==============================] - 0s 35ms/step - loss: 0.0922 - val_loss: 0.1171\n",
      "Epoch 127/200\n",
      "6/6 [==============================] - 0s 29ms/step - loss: 0.1093 - val_loss: 0.1411\n",
      "Epoch 128/200\n",
      "6/6 [==============================] - 0s 36ms/step - loss: 0.1132 - val_loss: 0.1088\n",
      "Epoch 129/200\n",
      "6/6 [==============================] - 0s 33ms/step - loss: 0.1231 - val_loss: 0.1196\n",
      "Epoch 130/200\n",
      "6/6 [==============================] - 0s 34ms/step - loss: 0.1104 - val_loss: 0.1719\n",
      "Epoch 131/200\n",
      "6/6 [==============================] - 0s 24ms/step - loss: 0.1400 - val_loss: 0.0715\n",
      "Epoch 132/200\n",
      "6/6 [==============================] - 0s 34ms/step - loss: 0.0957 - val_loss: 0.0724\n",
      "Epoch 133/200\n",
      "6/6 [==============================] - 0s 21ms/step - loss: 0.0922 - val_loss: 0.1452\n",
      "Epoch 134/200\n",
      "6/6 [==============================] - 0s 24ms/step - loss: 0.1104 - val_loss: 0.2003\n",
      "Epoch 135/200\n",
      "6/6 [==============================] - 0s 21ms/step - loss: 0.1409 - val_loss: 0.0758\n",
      "Epoch 136/200\n",
      "6/6 [==============================] - 0s 22ms/step - loss: 0.1081 - val_loss: 0.0763\n",
      "Epoch 137/200\n",
      "6/6 [==============================] - 0s 19ms/step - loss: 0.0963 - val_loss: 0.0909\n",
      "Epoch 138/200\n",
      "6/6 [==============================] - 0s 20ms/step - loss: 0.1062 - val_loss: 0.0994\n",
      "Epoch 139/200\n",
      "6/6 [==============================] - 0s 21ms/step - loss: 0.1201 - val_loss: 0.1686\n",
      "Epoch 140/200\n",
      "6/6 [==============================] - 0s 33ms/step - loss: 0.1249 - val_loss: 0.0945\n",
      "Epoch 141/200\n",
      "6/6 [==============================] - 0s 30ms/step - loss: 0.1141 - val_loss: 0.0726\n",
      "Epoch 142/200\n",
      "6/6 [==============================] - 0s 19ms/step - loss: 0.1123 - val_loss: 0.1427\n",
      "Epoch 143/200\n",
      "6/6 [==============================] - 0s 35ms/step - loss: 0.1296 - val_loss: 0.0677\n",
      "Epoch 144/200\n",
      "6/6 [==============================] - 0s 27ms/step - loss: 0.0906 - val_loss: 0.1447\n",
      "Epoch 145/200\n",
      "6/6 [==============================] - 0s 38ms/step - loss: 0.1187 - val_loss: 0.0755\n",
      "Epoch 146/200\n",
      "6/6 [==============================] - 0s 31ms/step - loss: 0.1089 - val_loss: 0.0744\n",
      "Epoch 147/200\n",
      "6/6 [==============================] - 0s 30ms/step - loss: 0.0936 - val_loss: 0.1919\n",
      "Epoch 148/200\n",
      "6/6 [==============================] - 0s 28ms/step - loss: 0.1302 - val_loss: 0.0781\n",
      "Epoch 149/200\n",
      "6/6 [==============================] - 0s 20ms/step - loss: 0.0927 - val_loss: 0.0772\n",
      "Epoch 150/200\n",
      "6/6 [==============================] - 0s 30ms/step - loss: 0.0941 - val_loss: 0.0937\n",
      "Epoch 151/200\n",
      "6/6 [==============================] - 0s 35ms/step - loss: 0.1101 - val_loss: 0.0844\n",
      "Epoch 152/200\n",
      "6/6 [==============================] - 0s 38ms/step - loss: 0.1068 - val_loss: 0.0831\n",
      "Epoch 153/200\n",
      "6/6 [==============================] - 0s 39ms/step - loss: 0.0944 - val_loss: 0.1095\n",
      "Epoch 154/200\n",
      "6/6 [==============================] - 0s 40ms/step - loss: 0.1112 - val_loss: 0.0729\n",
      "Epoch 155/200\n",
      "6/6 [==============================] - 0s 33ms/step - loss: 0.0800 - val_loss: 0.1897\n",
      "Epoch 156/200\n",
      "6/6 [==============================] - 0s 33ms/step - loss: 0.1437 - val_loss: 0.0739\n",
      "Epoch 157/200\n",
      "6/6 [==============================] - 0s 46ms/step - loss: 0.0844 - val_loss: 0.2552\n",
      "Epoch 158/200\n",
      "6/6 [==============================] - 0s 28ms/step - loss: 0.1477 - val_loss: 0.1190\n",
      "Epoch 159/200\n",
      "6/6 [==============================] - 0s 29ms/step - loss: 0.1127 - val_loss: 0.0727\n",
      "Epoch 160/200\n",
      "6/6 [==============================] - 0s 34ms/step - loss: 0.1010 - val_loss: 0.0668\n",
      "Epoch 161/200\n",
      "6/6 [==============================] - 0s 30ms/step - loss: 0.1054 - val_loss: 0.0726\n",
      "Epoch 162/200\n",
      "6/6 [==============================] - 0s 36ms/step - loss: 0.0881 - val_loss: 0.1843\n",
      "Epoch 163/200\n",
      "6/6 [==============================] - 0s 33ms/step - loss: 0.1319 - val_loss: 0.0724\n",
      "Epoch 164/200\n",
      "6/6 [==============================] - 0s 33ms/step - loss: 0.0910 - val_loss: 0.0878\n",
      "Epoch 165/200\n",
      "6/6 [==============================] - 0s 36ms/step - loss: 0.1040 - val_loss: 0.1356\n",
      "Epoch 166/200\n",
      "6/6 [==============================] - 0s 32ms/step - loss: 0.1309 - val_loss: 0.1427\n",
      "Epoch 167/200\n",
      "6/6 [==============================] - 0s 41ms/step - loss: 0.1100 - val_loss: 0.0907\n",
      "Epoch 168/200\n",
      "6/6 [==============================] - 0s 22ms/step - loss: 0.0919 - val_loss: 0.0846\n",
      "Epoch 169/200\n",
      "6/6 [==============================] - 0s 37ms/step - loss: 0.0857 - val_loss: 0.0692\n",
      "Epoch 170/200\n",
      "6/6 [==============================] - 0s 34ms/step - loss: 0.0818 - val_loss: 0.1158\n",
      "Epoch 171/200\n",
      "6/6 [==============================] - 0s 39ms/step - loss: 0.1160 - val_loss: 0.0828\n",
      "Epoch 172/200\n",
      "6/6 [==============================] - 0s 33ms/step - loss: 0.0893 - val_loss: 0.1048\n",
      "Epoch 173/200\n",
      "6/6 [==============================] - 0s 36ms/step - loss: 0.1171 - val_loss: 0.1219\n",
      "Epoch 174/200\n",
      "6/6 [==============================] - 0s 20ms/step - loss: 0.1060 - val_loss: 0.0835\n",
      "Epoch 175/200\n",
      "6/6 [==============================] - 0s 22ms/step - loss: 0.0947 - val_loss: 0.0803\n",
      "Epoch 176/200\n",
      "6/6 [==============================] - 0s 32ms/step - loss: 0.0932 - val_loss: 0.1387\n",
      "Epoch 177/200\n",
      "6/6 [==============================] - 0s 36ms/step - loss: 0.1144 - val_loss: 0.0929\n",
      "Epoch 178/200\n",
      "6/6 [==============================] - 0s 38ms/step - loss: 0.0940 - val_loss: 0.0664\n",
      "Epoch 179/200\n",
      "6/6 [==============================] - 0s 38ms/step - loss: 0.0875 - val_loss: 0.0697\n",
      "Epoch 180/200\n",
      "6/6 [==============================] - 0s 27ms/step - loss: 0.0903 - val_loss: 0.1114\n",
      "Epoch 181/200\n",
      "6/6 [==============================] - 0s 32ms/step - loss: 0.1151 - val_loss: 0.1182\n",
      "Epoch 182/200\n",
      "6/6 [==============================] - 0s 42ms/step - loss: 0.1039 - val_loss: 0.0760\n",
      "Epoch 183/200\n",
      "6/6 [==============================] - 0s 35ms/step - loss: 0.0843 - val_loss: 0.0761\n",
      "Epoch 184/200\n",
      "6/6 [==============================] - 0s 53ms/step - loss: 0.0878 - val_loss: 0.0757\n",
      "Epoch 185/200\n",
      "6/6 [==============================] - 0s 36ms/step - loss: 0.0835 - val_loss: 0.0776\n",
      "Epoch 186/200\n",
      "6/6 [==============================] - 0s 37ms/step - loss: 0.0793 - val_loss: 0.0810\n",
      "Epoch 187/200\n",
      "6/6 [==============================] - 0s 13ms/step - loss: 0.0978 - val_loss: 0.0683\n",
      "Epoch 188/200\n",
      "6/6 [==============================] - 0s 32ms/step - loss: 0.1011 - val_loss: 0.1540\n",
      "Epoch 189/200\n",
      "6/6 [==============================] - 0s 30ms/step - loss: 0.1194 - val_loss: 0.1801\n",
      "Epoch 190/200\n",
      "6/6 [==============================] - 0s 33ms/step - loss: 0.1215 - val_loss: 0.0797\n",
      "Epoch 191/200\n",
      "6/6 [==============================] - 0s 35ms/step - loss: 0.0949 - val_loss: 0.1250\n",
      "Epoch 192/200\n",
      "6/6 [==============================] - 0s 31ms/step - loss: 0.1196 - val_loss: 0.2614\n",
      "Epoch 193/200\n",
      "6/6 [==============================] - 0s 25ms/step - loss: 0.1475 - val_loss: 0.0905\n",
      "Epoch 194/200\n",
      "6/6 [==============================] - 0s 43ms/step - loss: 0.0906 - val_loss: 0.0676\n",
      "Epoch 195/200\n",
      "6/6 [==============================] - 0s 48ms/step - loss: 0.0862 - val_loss: 0.0987\n",
      "Epoch 196/200\n",
      "6/6 [==============================] - 0s 27ms/step - loss: 0.0976 - val_loss: 0.2126\n",
      "Epoch 197/200\n",
      "6/6 [==============================] - 0s 34ms/step - loss: 0.1290 - val_loss: 0.1668\n",
      "Epoch 198/200\n",
      "6/6 [==============================] - 0s 39ms/step - loss: 0.1119 - val_loss: 0.1251\n",
      "Epoch 199/200\n",
      "6/6 [==============================] - 0s 42ms/step - loss: 0.1041 - val_loss: 0.1698\n",
      "Epoch 200/200\n",
      "6/6 [==============================] - 0s 39ms/step - loss: 0.1316 - val_loss: 0.0714\n"
     ]
    }
   ],
   "source": [
    "history = model.fit(x_train,\n",
    "                    y_train,\n",
    "                    validation_split=0.1,\n",
    "                    epochs=200)"
   ]
  },
  {
   "cell_type": "markdown",
   "id": "dd158dc3",
   "metadata": {},
   "source": [
    "## Plotting the loss (model error) during the training process"
   ]
  },
  {
   "cell_type": "code",
   "execution_count": 78,
   "id": "d0147736",
   "metadata": {},
   "outputs": [
    {
     "data": {
      "text/plain": [
       "[0.35190853476524353,\n",
       " 0.29255029559135437,\n",
       " 0.2750518023967743,\n",
       " 0.2616012692451477,\n",
       " 0.26193273067474365,\n",
       " 0.23933376371860504,\n",
       " 0.23399312794208527,\n",
       " 0.23740947246551514,\n",
       " 0.2185547947883606,\n",
       " 0.21900375187397003]"
      ]
     },
     "execution_count": 78,
     "metadata": {},
     "output_type": "execute_result"
    }
   ],
   "source": [
    "history.history[\"loss\"][:10]"
   ]
  },
  {
   "cell_type": "code",
   "execution_count": 79,
   "id": "571a5d0c",
   "metadata": {},
   "outputs": [
    {
     "data": {
      "image/png": "[encoded data removed]",
      "text/plain": [
       "<Figure size 432x288 with 1 Axes>"
      ]
     },
     "metadata": {
      "needs_background": "light"
     },
     "output_type": "display_data"
    }
   ],
   "source": [
    "import matplotlib.pyplot as plt\n",
    "y1 = history.history[\"loss\"][1:]\n",
    "y2 = history.history[\"val_loss\"][1:]\n",
    "plt.plot(y1, color=\"red\", label=\"loss\")\n",
    "plt.plot(y2, color=\"green\", label=\"val_loss\")\n",
    "plt.xlabel(\"Trainingsepoche\")\n",
    "plt.ylabel(\"Fehler\")\n",
    "plt.title(\"Fehlerkurven\")\n",
    "plt.legend()\n",
    "plt.show()"
   ]
  },
  {
   "cell_type": "markdown",
   "id": "d21505fa-2760-4b04-8b29-e63f91ecacbb",
   "metadata": {},
   "source": [
    "# N: Testing the model"
   ]
  },
  {
   "cell_type": "markdown",
   "id": "e5ba7f9e",
   "metadata": {},
   "source": [
    "## Baseline model"
   ]
  },
  {
   "cell_type": "code",
   "execution_count": 80,
   "id": "4732fc58",
   "metadata": {},
   "outputs": [
    {
     "name": "stdout",
     "output_type": "stream",
     "text": [
      "Average error for baseline approach: 84.2 days\n"
     ]
    }
   ],
   "source": [
    "N = x_test.shape[0]\n",
    "\n",
    "age_predicted = 365/2\n",
    "\n",
    "sum_errors = 0\n",
    "for i in range(0,N):\n",
    "    \n",
    "    x = x_test[i]\n",
    "    y = y_test[i]\n",
    "    \n",
    "    age_real = y*365\n",
    "    #print( f\"Test example {i}: {age_real} vs. predicted: {age_predicted}\" )\n",
    "    \n",
    "    error = abs(age_real - age_predicted)\n",
    "    sum_errors += error\n",
    "    \n",
    "baseline_average_error = sum_errors/N\n",
    "print( f\"Average error for baseline approach: {baseline_average_error:.1f} days\" )"
   ]
  },
  {
   "cell_type": "markdown",
   "id": "5b699a7b",
   "metadata": {},
   "source": [
    "## MLP prediction quality"
   ]
  },
  {
   "cell_type": "code",
   "execution_count": 81,
   "id": "3029b3b8",
   "metadata": {},
   "outputs": [],
   "source": [
    "preds = model.predict( x_test )"
   ]
  },
  {
   "cell_type": "code",
   "execution_count": 82,
   "id": "203aa47a",
   "metadata": {},
   "outputs": [
    {
     "data": {
      "text/plain": [
       "(46, 1)"
      ]
     },
     "execution_count": 82,
     "metadata": {},
     "output_type": "execute_result"
    }
   ],
   "source": [
    "preds.shape"
   ]
  },
  {
   "cell_type": "code",
   "execution_count": 83,
   "id": "2d9ae8b2",
   "metadata": {},
   "outputs": [
    {
     "data": {
      "text/plain": [
       "array([[0.67624587],\n",
       "       [0.45757896],\n",
       "       [0.40503004],\n",
       "       [0.47873372],\n",
       "       [0.40485457]], dtype=float32)"
      ]
     },
     "execution_count": 83,
     "metadata": {},
     "output_type": "execute_result"
    }
   ],
   "source": [
    "preds[:5]"
   ]
  },
  {
   "cell_type": "code",
   "execution_count": 84,
   "id": "cb9c895d",
   "metadata": {},
   "outputs": [
    {
     "data": {
      "text/plain": [
       "array([[246.82974 ],\n",
       "       [167.01633 ],\n",
       "       [147.83597 ],\n",
       "       [174.73781 ],\n",
       "       [147.77191 ],\n",
       "       [ 75.726616],\n",
       "       [276.3995  ],\n",
       "       [ 82.85683 ],\n",
       "       [ 46.397873],\n",
       "       [187.95898 ]], dtype=float32)"
      ]
     },
     "execution_count": 84,
     "metadata": {},
     "output_type": "execute_result"
    }
   ],
   "source": [
    "preds[:10]*365"
   ]
  },
  {
   "cell_type": "code",
   "execution_count": 85,
   "id": "8ca0abaa",
   "metadata": {},
   "outputs": [
    {
     "data": {
      "text/plain": [
       "array([258.07042254, 166.56338028,  76.08450704, 112.07042254,\n",
       "       166.56338028,  93.56338028, 265.26760563,  61.69014085,\n",
       "       100.76056338, 232.36619718])"
      ]
     },
     "execution_count": 85,
     "metadata": {},
     "output_type": "execute_result"
    }
   ],
   "source": [
    "y_test[:10]*365"
   ]
  },
  {
   "cell_type": "code",
   "execution_count": 86,
   "id": "cc0ff9a8",
   "metadata": {},
   "outputs": [
    {
     "data": {
      "text/plain": [
       "-0.19050443"
      ]
     },
     "execution_count": 86,
     "metadata": {},
     "output_type": "execute_result"
    }
   ],
   "source": [
    "preds.min()"
   ]
  },
  {
   "cell_type": "code",
   "execution_count": 87,
   "id": "66f79207",
   "metadata": {},
   "outputs": [
    {
     "data": {
      "text/plain": [
       "0.8713095"
      ]
     },
     "execution_count": 87,
     "metadata": {},
     "output_type": "execute_result"
    }
   ],
   "source": [
    "preds.max()"
   ]
  },
  {
   "cell_type": "code",
   "execution_count": 88,
   "id": "9ea8e122-a39d-47f5-96a3-764768ff491c",
   "metadata": {},
   "outputs": [
    {
     "name": "stdout",
     "output_type": "stream",
     "text": [
      "Test example 0: 258.07042253521126 vs. predicted: 246.82974189519882\n",
      "Test example 1: 166.56338028169017 vs. predicted: 167.016319334507\n",
      "Test example 2: 76.08450704225352 vs. predicted: 147.8359653055668\n",
      "Test example 3: 112.07042253521128 vs. predicted: 174.7378072142601\n",
      "Test example 4: 166.56338028169017 vs. predicted: 147.77191653847694\n",
      "Test example 5: 93.56338028169016 vs. predicted: 75.72661519050598\n",
      "Test example 6: 265.2676056338028 vs. predicted: 276.39949560165405\n",
      "Test example 7: 61.690140845070424 vs. predicted: 82.85682678222656\n",
      "Test example 8: 100.7605633802817 vs. predicted: 46.3978710770607\n",
      "Test example 9: 232.36619718309862 vs. predicted: 187.95898258686066\n",
      "Test example 10: 303.3098591549296 vs. predicted: 292.5607791543007\n",
      "Test example 11: 1.028169014084507 vs. predicted: 4.3117531016469\n",
      "Test example 12: 165.53521126760566 vs. predicted: 97.74840444326401\n",
      "Test example 13: 30.845070422535215 vs. predicted: 24.512128345668316\n",
      "Test example 14: 303.3098591549296 vs. predicted: 317.00750172138214\n",
      "Test example 15: 303.3098591549296 vs. predicted: 298.6318364739418\n",
      "Test example 16: 76.08450704225352 vs. predicted: 141.6669312119484\n",
      "Test example 17: 232.36619718309862 vs. predicted: 207.9375857114792\n",
      "Test example 18: 1.028169014084507 vs. predicted: -69.53411757946014\n",
      "Test example 19: 235.45070422535213 vs. predicted: 195.17395436763763\n",
      "Test example 20: 30.845070422535215 vs. predicted: 63.34035813808441\n",
      "Test example 21: 49.352112676056336 vs. predicted: 122.74639457464218\n",
      "Test example 22: 97.67605633802818 vs. predicted: 151.82834208011627\n",
      "Test example 23: 193.29577464788736 vs. predicted: 217.4408432841301\n",
      "Test example 24: 1.028169014084507 vs. predicted: 4.0120357647538185\n",
      "Test example 25: 105.90140845070425 vs. predicted: 97.04982906579971\n",
      "Test example 26: 188.15492957746483 vs. predicted: 261.6572055220604\n",
      "Test example 27: 30.845070422535215 vs. predicted: -51.152023524045944\n",
      "Test example 28: 171.7042253521127 vs. predicted: 134.56479534506798\n",
      "Test example 29: 56.54929577464788 vs. predicted: 50.604095458984375\n",
      "Test example 30: 1.028169014084507 vs. predicted: 38.416329212486744\n",
      "Test example 31: 187.12676056338032 vs. predicted: 201.22436553239822\n",
      "Test example 32: 303.3098591549296 vs. predicted: 318.0279743671417\n",
      "Test example 33: 265.2676056338028 vs. predicted: 257.2828531265259\n",
      "Test example 34: 301.2535211267606 vs. predicted: 287.2290673851967\n",
      "Test example 35: 171.7042253521127 vs. predicted: 180.150885283947\n",
      "Test example 36: 49.352112676056336 vs. predicted: 105.17800703644753\n",
      "Test example 37: 188.15492957746483 vs. predicted: 237.04666256904602\n",
      "Test example 38: 300.22535211267603 vs. predicted: 294.9763357639313\n",
      "Test example 39: 232.36619718309862 vs. predicted: 210.73451966047287\n",
      "Test example 40: 180.95774647887325 vs. predicted: 232.94989109039307\n",
      "Test example 41: 100.7605633802817 vs. predicted: 95.6028251349926\n",
      "Test example 42: 49.352112676056336 vs. predicted: 124.89890307188034\n",
      "Test example 43: 193.29577464788736 vs. predicted: 201.0512337088585\n",
      "Test example 44: 244.7042253521127 vs. predicted: 203.7552708387375\n",
      "Test example 45: 170.6760563380282 vs. predicted: 130.12951612472534\n",
      "Average error for MLP model: 31.9 days\n"
     ]
    }
   ],
   "source": [
    "N = x_test.shape[0]\n",
    "\n",
    "sum_errors = 0\n",
    "for i in range(0,N):\n",
    "    \n",
    "    x = x_test[i]\n",
    "    y = y_test[i]\n",
    "    \n",
    "    age_real = y*365\n",
    "    age_predicted = preds[i][0]*365\n",
    "    print( f\"Test example {i}: {age_real} vs. predicted: {age_predicted}\" )\n",
    "    \n",
    "    error = abs(age_real - age_predicted)\n",
    "    sum_errors += error\n",
    "    \n",
    "mlp_average_error = sum_errors/N\n",
    "print( f\"Average error for MLP model: {mlp_average_error:.1f} days\" )"
   ]
  },
  {
   "cell_type": "markdown",
   "id": "b8ab75e8-d5f1-4941-bff7-a83e7141c6da",
   "metadata": {},
   "source": [
    "## How much do we benefit from ML?"
   ]
  },
  {
   "cell_type": "code",
   "execution_count": 89,
   "id": "995ca6ec-deb8-46a4-807f-c63a94b9d556",
   "metadata": {},
   "outputs": [],
   "source": [
    "reduction_of_prediction_error = (mlp_average_error / baseline_average_error)*100.0"
   ]
  },
  {
   "cell_type": "code",
   "execution_count": 90,
   "id": "0b35ddc3-7f7c-41a4-b74a-21e9763fee71",
   "metadata": {},
   "outputs": [
    {
     "data": {
      "text/plain": [
       "37.8707841414696"
      ]
     },
     "execution_count": 90,
     "metadata": {},
     "output_type": "execute_result"
    }
   ],
   "source": [
    "reduction_of_prediction_error"
   ]
  },
  {
   "cell_type": "code",
   "execution_count": null,
   "id": "2bd7f62b-f3db-49e7-b279-5f83d774c2a8",
   "metadata": {},
   "outputs": [],
   "source": []
  }
 ],
 "metadata": {
  "kernelspec": {
   "display_name": "Python 3 (ipykernel)",
   "language": "python",
   "name": "python3"
  },
  "language_info": {
   "codemirror_mode": {
    "name": "ipython",
    "version": 3
   },
   "file_extension": ".py",
   "mimetype": "text/x-python",
   "name": "python",
   "nbconvert_exporter": "python",
   "pygments_lexer": "ipython3",
   "version": "3.9.7"
  },
  "toc": {
   "base_numbering": 1,
   "nav_menu": {},
   "number_sections": true,
   "sideBar": true,
   "skip_h1_title": false,
   "title_cell": "Table of Contents",
   "title_sidebar": "Contents",
   "toc_cell": false,
   "toc_position": {
    "height": "calc(100% - 180px)",
    "left": "10px",
    "top": "150px",
    "width": "274.05px"
   },
   "toc_section_display": true,
   "toc_window_display": true
  },
  "toc-autonumbering": false
 },
 "nbformat": 4,
 "nbformat_minor": 5
}
