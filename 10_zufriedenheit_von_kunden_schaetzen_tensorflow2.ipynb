{
 "cells": [
  {
   "cell_type": "markdown",
   "metadata": {},
   "source": [
    "LSTM model for predicting clothing ratings from text\n",
    "\n",
    "by Prof. Dr.-Ing. Jürgen Brauer, http://www.juergenbrauer.org"
   ]
  },
  {
   "cell_type": "markdown",
   "metadata": {
    "toc": true
   },
   "source": [
    "<h1>Table of Contents<span class=\"tocSkip\"></span></h1>\n",
    "<div class=\"toc\"><ul class=\"toc-item\"><li><span><a href=\"#Load-in-the-dataset\" data-toc-modified-id=\"Load-in-the-dataset-1\"><span class=\"toc-item-num\">1&nbsp;&nbsp;</span>Load in the dataset</a></span></li><li><span><a href=\"#Training-a-word-embedding-using-word2vec\" data-toc-modified-id=\"Training-a-word-embedding-using-word2vec-2\"><span class=\"toc-item-num\">2&nbsp;&nbsp;</span>Training a word embedding using word2vec</a></span></li><li><span><a href=\"#Some-sanity-checks-with-our-word-embedding\" data-toc-modified-id=\"Some-sanity-checks-with-our-word-embedding-3\"><span class=\"toc-item-num\">3&nbsp;&nbsp;</span>Some sanity checks with our word embedding</a></span></li><li><span><a href=\"#What-are-the-lengths-of-the-reviews?\" data-toc-modified-id=\"What-are-the-lengths-of-the-reviews?-4\"><span class=\"toc-item-num\">4&nbsp;&nbsp;</span>What are the lengths of the reviews?</a></span></li><li><span><a href=\"#Preparing-the-training-data\" data-toc-modified-id=\"Preparing-the-training-data-5\"><span class=\"toc-item-num\">5&nbsp;&nbsp;</span>Preparing the training data</a></span></li><li><span><a href=\"#Retention-of-some-test-data\" data-toc-modified-id=\"Retention-of-some-test-data-6\"><span class=\"toc-item-num\">6&nbsp;&nbsp;</span>Retention of some test data</a></span></li><li><span><a href=\"#Building-and-training-the-model\" data-toc-modified-id=\"Building-and-training-the-model-7\"><span class=\"toc-item-num\">7&nbsp;&nbsp;</span>Building and training the model</a></span></li><li><span><a href=\"#Testing-the-model\" data-toc-modified-id=\"Testing-the-model-8\"><span class=\"toc-item-num\">8&nbsp;&nbsp;</span>Testing the model</a></span></li></ul></div>"
   ]
  },
  {
   "cell_type": "markdown",
   "metadata": {},
   "source": [
    "# Load in the dataset\n",
    "\n",
    "The dataset used for this Jupyter notebook is called\n",
    "\n",
    "**\"Women's E-Commerce Clothing Reviews\"**\n",
    "\n",
    "and consists of 23,486 customer reviews and ratings.\n",
    "\n",
    "You can download it from Kaggle [here](https://www.kaggle.com/nicapotato/womens-ecommerce-clothing-reviews).\n",
    "\n",
    "Each row corresponds to a customer review, and includes the following 10 columns:\n",
    "\n",
    "  * **Clothing ID:** Integer Categorical variable that refers to the specific piece being reviewed.\n",
    "  * **Age:** Positive Integer variable of the reviewers age.\n",
    "  * **Title:** String variable for the title of the review.\n",
    "  * **Review Text:** String variable for the review body.\n",
    "  * **Rating:** Positive Ordinal Integer variable for the product score granted by the customer from 1 Worst, to 5 Best.\n",
    "  * **Recommended IND:** Binary variable stating where the customer recommends the product where 1 is recommended, 0 is not recommended.\n",
    "  * **Positive Feedback Count:** Positive Integer documenting the number of other customers who found this review positive.\n",
    "  * **Division Name:** Categorical name of the product high level division.\n",
    "  * **Department Name:** Categorical name of the product department name.\n",
    "  * **Class Name:** Categorical name of the product class name.\n"
   ]
  },
  {
   "cell_type": "code",
   "execution_count": 1,
   "metadata": {},
   "outputs": [],
   "source": [
    "import pandas as pd\n",
    "filename = \"daten/produktbewertungen.csv\"\n",
    "table = pd.read_csv( filename )"
   ]
  },
  {
   "cell_type": "code",
   "execution_count": 2,
   "metadata": {},
   "outputs": [
    {
     "data": {
      "text/html": [
       "<div>\n",
       "<style scoped>\n",
       "    .dataframe tbody tr th:only-of-type {\n",
       "        vertical-align: middle;\n",
       "    }\n",
       "\n",
       "    .dataframe tbody tr th {\n",
       "        vertical-align: top;\n",
       "    }\n",
       "\n",
       "    .dataframe thead th {\n",
       "        text-align: right;\n",
       "    }\n",
       "</style>\n",
       "<table border=\"1\" class=\"dataframe\">\n",
       "  <thead>\n",
       "    <tr style=\"text-align: right;\">\n",
       "      <th></th>\n",
       "      <th>Unnamed: 0</th>\n",
       "      <th>Clothing ID</th>\n",
       "      <th>Age</th>\n",
       "      <th>Title</th>\n",
       "      <th>Review Text</th>\n",
       "      <th>Rating</th>\n",
       "      <th>Recommended IND</th>\n",
       "      <th>Positive Feedback Count</th>\n",
       "      <th>Division Name</th>\n",
       "      <th>Department Name</th>\n",
       "      <th>Class Name</th>\n",
       "    </tr>\n",
       "  </thead>\n",
       "  <tbody>\n",
       "    <tr>\n",
       "      <th>0</th>\n",
       "      <td>0</td>\n",
       "      <td>767</td>\n",
       "      <td>33</td>\n",
       "      <td>NaN</td>\n",
       "      <td>Absolutely wonderful - silky and sexy and comf...</td>\n",
       "      <td>4</td>\n",
       "      <td>1</td>\n",
       "      <td>0</td>\n",
       "      <td>Initmates</td>\n",
       "      <td>Intimate</td>\n",
       "      <td>Intimates</td>\n",
       "    </tr>\n",
       "    <tr>\n",
       "      <th>1</th>\n",
       "      <td>1</td>\n",
       "      <td>1080</td>\n",
       "      <td>34</td>\n",
       "      <td>NaN</td>\n",
       "      <td>Love this dress!  it's sooo pretty.  i happene...</td>\n",
       "      <td>5</td>\n",
       "      <td>1</td>\n",
       "      <td>4</td>\n",
       "      <td>General</td>\n",
       "      <td>Dresses</td>\n",
       "      <td>Dresses</td>\n",
       "    </tr>\n",
       "    <tr>\n",
       "      <th>2</th>\n",
       "      <td>2</td>\n",
       "      <td>1077</td>\n",
       "      <td>60</td>\n",
       "      <td>Some major design flaws</td>\n",
       "      <td>I had such high hopes for this dress and reall...</td>\n",
       "      <td>3</td>\n",
       "      <td>0</td>\n",
       "      <td>0</td>\n",
       "      <td>General</td>\n",
       "      <td>Dresses</td>\n",
       "      <td>Dresses</td>\n",
       "    </tr>\n",
       "    <tr>\n",
       "      <th>3</th>\n",
       "      <td>3</td>\n",
       "      <td>1049</td>\n",
       "      <td>50</td>\n",
       "      <td>My favorite buy!</td>\n",
       "      <td>I love, love, love this jumpsuit. it's fun, fl...</td>\n",
       "      <td>5</td>\n",
       "      <td>1</td>\n",
       "      <td>0</td>\n",
       "      <td>General Petite</td>\n",
       "      <td>Bottoms</td>\n",
       "      <td>Pants</td>\n",
       "    </tr>\n",
       "    <tr>\n",
       "      <th>4</th>\n",
       "      <td>4</td>\n",
       "      <td>847</td>\n",
       "      <td>47</td>\n",
       "      <td>Flattering shirt</td>\n",
       "      <td>This shirt is very flattering to all due to th...</td>\n",
       "      <td>5</td>\n",
       "      <td>1</td>\n",
       "      <td>6</td>\n",
       "      <td>General</td>\n",
       "      <td>Tops</td>\n",
       "      <td>Blouses</td>\n",
       "    </tr>\n",
       "    <tr>\n",
       "      <th>...</th>\n",
       "      <td>...</td>\n",
       "      <td>...</td>\n",
       "      <td>...</td>\n",
       "      <td>...</td>\n",
       "      <td>...</td>\n",
       "      <td>...</td>\n",
       "      <td>...</td>\n",
       "      <td>...</td>\n",
       "      <td>...</td>\n",
       "      <td>...</td>\n",
       "      <td>...</td>\n",
       "    </tr>\n",
       "    <tr>\n",
       "      <th>23481</th>\n",
       "      <td>23481</td>\n",
       "      <td>1104</td>\n",
       "      <td>34</td>\n",
       "      <td>Great dress for many occasions</td>\n",
       "      <td>I was very happy to snag this dress at such a ...</td>\n",
       "      <td>5</td>\n",
       "      <td>1</td>\n",
       "      <td>0</td>\n",
       "      <td>General Petite</td>\n",
       "      <td>Dresses</td>\n",
       "      <td>Dresses</td>\n",
       "    </tr>\n",
       "    <tr>\n",
       "      <th>23482</th>\n",
       "      <td>23482</td>\n",
       "      <td>862</td>\n",
       "      <td>48</td>\n",
       "      <td>Wish it was made of cotton</td>\n",
       "      <td>It reminds me of maternity clothes. soft, stre...</td>\n",
       "      <td>3</td>\n",
       "      <td>1</td>\n",
       "      <td>0</td>\n",
       "      <td>General Petite</td>\n",
       "      <td>Tops</td>\n",
       "      <td>Knits</td>\n",
       "    </tr>\n",
       "    <tr>\n",
       "      <th>23483</th>\n",
       "      <td>23483</td>\n",
       "      <td>1104</td>\n",
       "      <td>31</td>\n",
       "      <td>Cute, but see through</td>\n",
       "      <td>This fit well, but the top was very see throug...</td>\n",
       "      <td>3</td>\n",
       "      <td>0</td>\n",
       "      <td>1</td>\n",
       "      <td>General Petite</td>\n",
       "      <td>Dresses</td>\n",
       "      <td>Dresses</td>\n",
       "    </tr>\n",
       "    <tr>\n",
       "      <th>23484</th>\n",
       "      <td>23484</td>\n",
       "      <td>1084</td>\n",
       "      <td>28</td>\n",
       "      <td>Very cute dress, perfect for summer parties an...</td>\n",
       "      <td>I bought this dress for a wedding i have this ...</td>\n",
       "      <td>3</td>\n",
       "      <td>1</td>\n",
       "      <td>2</td>\n",
       "      <td>General</td>\n",
       "      <td>Dresses</td>\n",
       "      <td>Dresses</td>\n",
       "    </tr>\n",
       "    <tr>\n",
       "      <th>23485</th>\n",
       "      <td>23485</td>\n",
       "      <td>1104</td>\n",
       "      <td>52</td>\n",
       "      <td>Please make more like this one!</td>\n",
       "      <td>This dress in a lovely platinum is feminine an...</td>\n",
       "      <td>5</td>\n",
       "      <td>1</td>\n",
       "      <td>22</td>\n",
       "      <td>General Petite</td>\n",
       "      <td>Dresses</td>\n",
       "      <td>Dresses</td>\n",
       "    </tr>\n",
       "  </tbody>\n",
       "</table>\n",
       "<p>23486 rows × 11 columns</p>\n",
       "</div>"
      ],
      "text/plain": [
       "       Unnamed: 0  Clothing ID  Age  \\\n",
       "0               0          767   33   \n",
       "1               1         1080   34   \n",
       "2               2         1077   60   \n",
       "3               3         1049   50   \n",
       "4               4          847   47   \n",
       "...           ...          ...  ...   \n",
       "23481       23481         1104   34   \n",
       "23482       23482          862   48   \n",
       "23483       23483         1104   31   \n",
       "23484       23484         1084   28   \n",
       "23485       23485         1104   52   \n",
       "\n",
       "                                                   Title  \\\n",
       "0                                                    NaN   \n",
       "1                                                    NaN   \n",
       "2                                Some major design flaws   \n",
       "3                                       My favorite buy!   \n",
       "4                                       Flattering shirt   \n",
       "...                                                  ...   \n",
       "23481                     Great dress for many occasions   \n",
       "23482                         Wish it was made of cotton   \n",
       "23483                              Cute, but see through   \n",
       "23484  Very cute dress, perfect for summer parties an...   \n",
       "23485                    Please make more like this one!   \n",
       "\n",
       "                                             Review Text  Rating  \\\n",
       "0      Absolutely wonderful - silky and sexy and comf...       4   \n",
       "1      Love this dress!  it's sooo pretty.  i happene...       5   \n",
       "2      I had such high hopes for this dress and reall...       3   \n",
       "3      I love, love, love this jumpsuit. it's fun, fl...       5   \n",
       "4      This shirt is very flattering to all due to th...       5   \n",
       "...                                                  ...     ...   \n",
       "23481  I was very happy to snag this dress at such a ...       5   \n",
       "23482  It reminds me of maternity clothes. soft, stre...       3   \n",
       "23483  This fit well, but the top was very see throug...       3   \n",
       "23484  I bought this dress for a wedding i have this ...       3   \n",
       "23485  This dress in a lovely platinum is feminine an...       5   \n",
       "\n",
       "       Recommended IND  Positive Feedback Count   Division Name  \\\n",
       "0                    1                        0       Initmates   \n",
       "1                    1                        4         General   \n",
       "2                    0                        0         General   \n",
       "3                    1                        0  General Petite   \n",
       "4                    1                        6         General   \n",
       "...                ...                      ...             ...   \n",
       "23481                1                        0  General Petite   \n",
       "23482                1                        0  General Petite   \n",
       "23483                0                        1  General Petite   \n",
       "23484                1                        2         General   \n",
       "23485                1                       22  General Petite   \n",
       "\n",
       "      Department Name Class Name  \n",
       "0            Intimate  Intimates  \n",
       "1             Dresses    Dresses  \n",
       "2             Dresses    Dresses  \n",
       "3             Bottoms      Pants  \n",
       "4                Tops    Blouses  \n",
       "...               ...        ...  \n",
       "23481         Dresses    Dresses  \n",
       "23482            Tops      Knits  \n",
       "23483         Dresses    Dresses  \n",
       "23484         Dresses    Dresses  \n",
       "23485         Dresses    Dresses  \n",
       "\n",
       "[23486 rows x 11 columns]"
      ]
     },
     "execution_count": 2,
     "metadata": {},
     "output_type": "execute_result"
    }
   ],
   "source": [
    "table"
   ]
  },
  {
   "cell_type": "markdown",
   "metadata": {},
   "source": [
    "What we want to do is to infer the Rating column from the text column:"
   ]
  },
  {
   "cell_type": "code",
   "execution_count": 3,
   "metadata": {},
   "outputs": [
    {
     "name": "stdout",
     "output_type": "stream",
     "text": [
      "type of reviews is <class 'list'>\n",
      "type of ratings is <class 'list'>\n",
      "type of a single review is <class 'str'>\n",
      "type of a single rating is <class 'int'>\n",
      "\n",
      "Example #1:\n",
      "Absolutely wonderful - silky and sexy and comfortable --> 4\n",
      "\n",
      "Example #2:\n",
      "I was surprised at the positive reviews for this product. its terrible! it cuts you in a weird place to make you look wide. the skirt is also not like the picture. its darker and heavier. the material isnt great. i had to return. --> 1\n"
     ]
    }
   ],
   "source": [
    "reviews = table[\"Review Text\"].tolist()\n",
    "ratings = table[\"Rating\"].tolist()\n",
    "\n",
    "print(\"type of reviews is\", type(reviews))\n",
    "print(\"type of ratings is\", type(ratings))\n",
    "\n",
    "print(\"type of a single review is\", type(reviews[0]))\n",
    "print(\"type of a single rating is\", type(ratings[0]))\n",
    "\n",
    "print(\"\\nExample #1:\")\n",
    "print(reviews[0], \"-->\", ratings[0])\n",
    "\n",
    "print(\"\\nExample #2:\")\n",
    "print(reviews[23478], \"-->\", ratings[23478])\n"
   ]
  },
  {
   "cell_type": "markdown",
   "metadata": {},
   "source": [
    "No we will have later some problems, if words as\n",
    "\n",
    "  - Nice\n",
    "  - nice\n",
    "  - nice,\n",
    "  - nice!  \n",
    "  \n",
    "will be treated as different words. For this we can use gensim's simple text preprocssing functionality:"
   ]
  },
  {
   "cell_type": "code",
   "execution_count": 4,
   "metadata": {},
   "outputs": [
    {
     "name": "stdout",
     "output_type": "stream",
     "text": [
      "['hello', 'this', 'is', 'some', 'test', 'line']\n",
      "['hello', 'this', 'is', 'some', 'test', 'line']\n"
     ]
    }
   ],
   "source": [
    "import gensim\n",
    "\n",
    "print( gensim.utils.simple_preprocess (\"Hello, THIS is some test line!\") )\n",
    "print( gensim.utils.simple_preprocess (\"\\nHello, tHiS Is some\\t test line!\\n\") )"
   ]
  },
  {
   "cell_type": "markdown",
   "metadata": {},
   "source": [
    "# Training a word embedding using word2vec\n",
    "\n",
    "Now we will use the word2vec implementation from [gensim](https://radimrehurek.com/gensim/) in order to train a new word embedding that is suitable for our words/text.\n",
    "\n",
    "\n",
    "First, we have to make sure, that each review is a list of words and not a string, since this is expected from gensim's Word2Vec as input."
   ]
  },
  {
   "cell_type": "code",
   "execution_count": 5,
   "metadata": {},
   "outputs": [
    {
     "name": "stdout",
     "output_type": "stream",
     "text": [
      "['I', 'am', 'a', 'long', 'long', 'long', 'string.']\n",
      "There are 23486 many reviews.\n",
      "['absolutely', 'wonderful', 'silky', 'and', 'sexy', 'and', 'comfortable']\n"
     ]
    }
   ],
   "source": [
    "some_str = \"I am a long long long string.\"\n",
    "print( some_str.split() )\n",
    "\n",
    "nr_reviews = len(reviews)\n",
    "print(\"There are\", nr_reviews, \"many reviews.\")\n",
    "\n",
    "reviews_as_lists_of_words = []\n",
    "for i in range(nr_reviews):\n",
    "    rev = reviews[i]\n",
    "    \n",
    "    # Some review texts are empty and\n",
    "    # Pandas uses then as data type \"float\"\n",
    "    if not isinstance(rev, str):\n",
    "        rev = \"\"\n",
    "    \n",
    "    # to lower case, remove escape sequences, remove commas and periods\n",
    "    # AND\n",
    "    # return not a string, but a list of words!\n",
    "    single_review_as_list_of_words = gensim.utils.simple_preprocess( rev )\n",
    "    \n",
    "    reviews_as_lists_of_words.append( single_review_as_list_of_words )\n",
    "\n",
    "print(reviews_as_lists_of_words[0])"
   ]
  },
  {
   "cell_type": "code",
   "execution_count": 6,
   "metadata": {},
   "outputs": [],
   "source": [
    "EMBEDDED_VECTOR_DIM = 150\n",
    "CONTEXT_WINDOW_SIZE = 10\n",
    "NR_TRAIN_EPOCHS = 10\n",
    "\n",
    "import gensim \n",
    "wordmodel = gensim.models.Word2Vec (reviews_as_lists_of_words,\n",
    "                                size=EMBEDDED_VECTOR_DIM,\n",
    "                                window=CONTEXT_WINDOW_SIZE,\n",
    "                                min_count=1,\n",
    "                                workers=10)\n",
    "wordmodel.train(reviews_as_lists_of_words,\n",
    "                total_examples=len(reviews_as_lists_of_words),\n",
    "                epochs=NR_TRAIN_EPOCHS)\n",
    "wordmodel.save(\"your_word_model.model\")"
   ]
  },
  {
   "cell_type": "markdown",
   "metadata": {},
   "source": [
    "# Some sanity checks with our word embedding\n",
    "\n",
    "Let's see whether the word vectors that we have learned make roughly sense.\n",
    "\n",
    "What are words considered as most similair to nice?"
   ]
  },
  {
   "cell_type": "code",
   "execution_count": 7,
   "metadata": {},
   "outputs": [
    {
     "data": {
      "text/plain": [
       "[('great', 0.6423593759536743),\n",
       " ('good', 0.6389970183372498),\n",
       " ('wonderful', 0.570702075958252),\n",
       " ('lovely', 0.5356565713882446),\n",
       " ('fabulous', 0.5034434199333191),\n",
       " ('fantastic', 0.4797612428665161),\n",
       " ('light', 0.46207723021507263),\n",
       " ('cool', 0.44682592153549194),\n",
       " ('pretty', 0.4421224594116211),\n",
       " ('pleasant', 0.44016367197036743),\n",
       " ('excellent', 0.44010859727859497),\n",
       " ('jacquard', 0.4384150505065918),\n",
       " ('smooth', 0.438133180141449),\n",
       " ('beautiful', 0.42760494351387024),\n",
       " ('cottony', 0.41933077573776245)]"
      ]
     },
     "execution_count": 7,
     "metadata": {},
     "output_type": "execute_result"
    }
   ],
   "source": [
    "w1 = \"nice\"\n",
    "wordmodel.wv.most_similar (positive=w1, topn=15)"
   ]
  },
  {
   "cell_type": "markdown",
   "metadata": {},
   "source": [
    "What are words considered as similar to \"dress\"?"
   ]
  },
  {
   "cell_type": "code",
   "execution_count": 8,
   "metadata": {},
   "outputs": [
    {
     "data": {
      "text/plain": [
       "[('romper', 0.6139537692070007),\n",
       " ('skirt', 0.5715518593788147),\n",
       " ('jumpsuit', 0.5543251633644104),\n",
       " ('top', 0.539526104927063),\n",
       " ('swimsuit', 0.5098329782485962),\n",
       " ('blouse', 0.48596739768981934),\n",
       " ('suit', 0.47103193402290344),\n",
       " ('wedding', 0.47095656394958496),\n",
       " ('piece', 0.45377737283706665),\n",
       " ('robe', 0.4388708472251892)]"
      ]
     },
     "execution_count": 8,
     "metadata": {},
     "output_type": "execute_result"
    }
   ],
   "source": [
    "w1 = \"dress\"\n",
    "wordmodel.wv.most_similar (positive=w1)"
   ]
  },
  {
   "cell_type": "markdown",
   "metadata": {},
   "source": [
    "What are words considered as similar to \"elegant\"?"
   ]
  },
  {
   "cell_type": "code",
   "execution_count": 9,
   "metadata": {},
   "outputs": [
    {
     "data": {
      "text/plain": [
       "[('classy', 0.8078652620315552),\n",
       " ('sophisticated', 0.7698882818222046),\n",
       " ('chic', 0.7193230390548706),\n",
       " ('romantic', 0.7067241072654724),\n",
       " ('bohemian', 0.6854044198989868),\n",
       " ('feminine', 0.6276170015335083),\n",
       " ('understated', 0.6203030943870544),\n",
       " ('classic', 0.6105983257293701),\n",
       " ('sexy', 0.5982934832572937),\n",
       " ('effortless', 0.5930944681167603)]"
      ]
     },
     "execution_count": 9,
     "metadata": {},
     "output_type": "execute_result"
    }
   ],
   "source": [
    "w1 = \"elegant\"\n",
    "wordmodel.wv.most_similar (positive=w1)"
   ]
  },
  {
   "cell_type": "markdown",
   "metadata": {},
   "source": [
    "Get some vectors and play a little bit with them:"
   ]
  },
  {
   "cell_type": "code",
   "execution_count": 10,
   "metadata": {},
   "outputs": [
    {
     "name": "stdout",
     "output_type": "stream",
     "text": [
      "[ 1.6902068   0.77317834 -1.4049823  -3.855562   -1.7166611   0.80695796\n",
      "  0.52141345  2.097243   -0.8052771  -3.509784    1.438388    3.3991117\n",
      "  0.3143997  -3.1056907   1.6291083  -0.9512065   1.2265337  -0.39552602\n",
      "  1.6077219   1.02995     0.17770624 -1.9050176   0.59649515  2.249777\n",
      " -0.4230634  -3.4964979  -2.1079185   1.0679399   0.67894006 -2.0968027\n",
      " -0.4519729   0.2754148  -0.6081918   0.84869224 -1.3911299   0.05423919\n",
      "  1.6741339   1.1594293   0.00712346 -0.20559897 -0.07193391 -1.3770134\n",
      "  0.78018427  1.526308    0.36612368 -2.513524    1.9954509   0.09492042\n",
      " -0.2411051  -3.0988672   1.0460771   0.35154495  1.3049703  -0.61149865\n",
      "  1.7561044   1.0006679   0.1573958  -2.916821    0.09276567  3.996352\n",
      " -1.1057031   0.04177025 -2.6905355   0.72835857 -0.8575012   0.5287038\n",
      " -0.12213906  0.9096189   0.6329812   1.6310065   1.7168416  -0.01965036\n",
      " -1.4344572   0.2123798  -1.43287    -1.5416427   0.35274708  0.7640007\n",
      "  0.28226984  0.03262151  0.37679258 -0.7513801  -0.79847676 -1.3924725\n",
      "  1.6290082   0.5958568  -3.618153    0.6677357   0.26004392  0.7404255\n",
      "  0.17185983  1.63576     1.3166736  -1.2278891   1.0993106   0.5031663\n",
      " -0.4747506   1.2916803  -0.6093034   0.32490724  0.8323094   0.26320994\n",
      " -1.697535    0.8218318   1.2500675  -2.4785492  -1.5365608  -3.393535\n",
      "  0.5269396   3.0926957  -1.9086788   0.9355203   2.6426349  -1.5812175\n",
      "  0.28929603 -1.1640793   1.6252989  -2.3200836   2.9578998  -0.03810512\n",
      " -0.7063749   0.4603999   1.0916309  -1.7415301   1.8239766   0.6582795\n",
      "  0.6091509  -2.160175   -0.926571   -1.6886111  -0.37598032  1.4539226\n",
      "  0.5930061  -0.7059113   2.3174353  -2.0132957  -0.12019955  1.9276859\n",
      " -0.38944858  0.03291273 -0.10476469  0.4561844  -2.238338    0.6287852\n",
      "  0.07491785  2.4161453   1.853977    2.4944987   0.1302659  -0.7273655 ]\n",
      "Shape of vec_nice is (150,)\n"
     ]
    },
    {
     "name": "stderr",
     "output_type": "stream",
     "text": [
      "/home/juebrauer/anaconda3/envs/env_mss/lib/python3.7/site-packages/ipykernel_launcher.py:1: DeprecationWarning: Call to deprecated `__getitem__` (Method will be removed in 4.0.0, use self.wv.__getitem__() instead).\n",
      "  \"\"\"Entry point for launching an IPython kernel.\n"
     ]
    }
   ],
   "source": [
    "vec_nice = wordmodel[\"nice\"]\n",
    "print(vec_nice)\n",
    "print(\"Shape of vec_nice is\", vec_nice.shape)"
   ]
  },
  {
   "cell_type": "code",
   "execution_count": 11,
   "metadata": {},
   "outputs": [
    {
     "name": "stdout",
     "output_type": "stream",
     "text": [
      "diff1 = 17.612076\n",
      "diff2 = 18.779942\n"
     ]
    },
    {
     "name": "stderr",
     "output_type": "stream",
     "text": [
      "/home/juebrauer/anaconda3/envs/env_mss/lib/python3.7/site-packages/ipykernel_launcher.py:2: DeprecationWarning: Call to deprecated `__getitem__` (Method will be removed in 4.0.0, use self.wv.__getitem__() instead).\n",
      "  \n",
      "/home/juebrauer/anaconda3/envs/env_mss/lib/python3.7/site-packages/ipykernel_launcher.py:3: DeprecationWarning: Call to deprecated `__getitem__` (Method will be removed in 4.0.0, use self.wv.__getitem__() instead).\n",
      "  This is separate from the ipykernel package so we can avoid doing imports until\n"
     ]
    }
   ],
   "source": [
    "import numpy as np\n",
    "vec_cool = wordmodel[\"cool\"]\n",
    "vec_ugly = wordmodel[\"ugly\"]\n",
    "diff1 = np.linalg.norm( vec_nice - vec_cool )\n",
    "diff2 = np.linalg.norm( vec_nice - vec_ugly )\n",
    "print(\"diff1 =\", diff1)\n",
    "print(\"diff2 =\", diff2)"
   ]
  },
  {
   "cell_type": "code",
   "execution_count": 12,
   "metadata": {},
   "outputs": [
    {
     "name": "stdout",
     "output_type": "stream",
     "text": [
      "cos1= 0.44682595\n",
      "cos2= 0.03997892\n"
     ]
    }
   ],
   "source": [
    "def cos_similarity(v1,v2):\n",
    "    return np.dot(v1,v2) / (np.linalg.norm(v1) * np.linalg.norm(v2))\n",
    "    \n",
    "cos1 = cos_similarity(vec_nice, vec_cool)\n",
    "cos2 = cos_similarity(vec_nice, vec_ugly)\n",
    "print(\"cos1=\", cos1)\n",
    "print(\"cos2=\", cos2)"
   ]
  },
  {
   "cell_type": "markdown",
   "metadata": {},
   "source": [
    "Ok, the Euclidean distance between \"nice\" and \"cool\" is similar to the distance between \"nice\" and \"ugly\".\n",
    "\n",
    "However, the cosine-similarity measure shows a completely different result! Here, \"nice\" and \"cool\" and much more similar according to this similarity measure."
   ]
  },
  {
   "cell_type": "markdown",
   "metadata": {},
   "source": [
    "# What are the lengths of the reviews?\n",
    "\n",
    "The reviews have different lengths. That's clear. But, how different are there. Let us produce a histogram of the different lengths."
   ]
  },
  {
   "cell_type": "code",
   "execution_count": 13,
   "metadata": {},
   "outputs": [
    {
     "name": "stdout",
     "output_type": "stream",
     "text": [
      "length_per_review= [7, 51, 89, 19, 36, 89, 89, 92, 29, 60, 65, 8, 92, 65, 89, 89, 67, 52, 27, 51, 52, 92, 77, 36, 84, 60, 92, 45, 30, 78, 17, 59, 18, 75, 48, 16, 27, 62, 15, 23, 25, 42, 44, 86, 67, 39, 35, 10, 16, 45, 63, 28, 9, 86, 76, 35, 74, 27, 91, 48, 53, 85, 36, 22, 12, 43, 87, 89, 67, 50, 82, 90, 90, 46, 94, 88, 51, 36, 46, 76, 90, 10, 85, 91, 93, 93, 68, 91, 20, 70, 70, 75, 0, 0, 87, 82, 43, 31, 0, 83, 40, 76, 43, 24, 12, 55, 49, 60, 54, 7, 31, 97, 77, 35, 89, 12, 26, 57, 74, 63, 22, 50, 54, 30, 35, 89, 81, 76, 30, 29, 95, 86, 64, 48, 85, 0, 78, 65, 90, 71, 42, 52, 0, 34, 39, 100, 82, 44, 71, 76, 30, 15, 59, 42, 87, 38, 48, 71, 45, 74, 82, 86, 90, 37, 87, 0, 39, 28, 0, 89, 22, 33, 84, 68, 57, 51, 61, 40, 86, 87, 31, 81, 81, 40, 62, 93, 29, 17, 77, 33, 40, 48, 0, 20, 23, 79, 92, 57, 12, 38, 44, 0, 49, 38, 91, 72, 50, 67, 85, 36, 22, 58, 90, 37, 47, 81, 27, 92, 24, 11, 88, 31, 86, 78, 56, 89, 26, 63, 91, 64, 81, 69, 69, 87, 40, 29, 28, 28, 85, 86, 34, 85, 38, 58, 50, 29, 44, 87, 0, 9, 64, 30, 54, 44, 35, 39, 85, 63, 34, 36, 76, 40, 90, 18, 39, 0, 83, 34, 44, 13, 46, 37, 87, 36, 74, 10, 18, 88, 87, 29, 76, 72, 31, 31, 44, 55, 56, 40, 80, 76, 39, 16, 43, 92, 85, 42, 37, 45, 0, 16, 54, 89, 8, 41, 23, 59, 94, 86, 61, 49, 73, 30, 19, 42, 40, 70, 48, 94, 61, 48, 45, 29, 90, 0, 87, 76, 82, 8, 12, 36, 9, 55, 36, 48, 85, 43, 92, 91, 68, 47, 34, 29, 0, 73, 44, 0, 67, 63, 34, 55, 78, 64, 51, 69, 49, 14, 92, 30, 58, 80, 92, 51, 59, 37, 30, 21, 94, 85, 36, 51, 27, 89, 50, 83, 85, 58, 31, 37, 61, 24, 79, 46, 38, 63, 61, 58, 91, 90, 46, 61, 92, 75, 72, 89, 58, 74, 54, 30, 92, 42, 0, 44, 38, 89, 35, 63, 62, 54, 74, 42, 84, 76, 62, 30, 23, 84, 90, 43, 22, 74, 43, 32, 87, 81, 51, 0, 70, 38, 32, 41, 32, 90, 62, 97, 90, 50, 93, 44, 73, 57, 74, 49, 15, 54, 27, 53, 60, 89, 26, 11, 92, 78, 91, 27, 39, 0, 45, 59, 86, 48, 64, 83, 87, 52, 67, 94, 25, 31, 16, 35, 81, 25, 24, 20, 93, 91, 14, 94, 35, 87, 31, 74, 88, 73, 42, 38, 83, 83, 12, 45, 46, 50, 65, 0, 83, 90, 78, 19, 21, 31, 91, 93, 8, 63, 87, 45, 95, 85, 68, 47, 66, 62, 46, 41, 86, 72, 20, 84, 13, 0, 99, 27, 92, 0, 15, 31, 14, 0, 40, 63, 28, 55, 39, 82, 17, 77, 0, 79, 32, 90, 20, 12, 0, 88, 46, 76, 58, 83, 39, 24, 52, 94, 20, 34, 0, 86, 37, 31, 31, 23, 95, 69, 0, 93, 87, 60, 34, 35, 86, 91, 43, 0, 25, 24, 0, 84, 49, 41, 92, 64, 0, 61, 92, 35, 36, 88, 66, 83, 10, 35, 84, 51, 33, 55, 13, 70, 36, 37, 92, 83, 52, 22, 85, 24, 51, 53, 51, 72, 68, 90, 14, 0, 45, 64, 81, 22, 52, 59, 50, 36, 36, 83, 16, 11, 54, 48, 47, 52, 40, 36, 62, 75, 30, 44, 67, 63, 56, 12, 35, 51, 11, 24, 25, 88, 79, 33, 84, 86, 69, 29, 14, 87, 34, 82, 82, 21, 95, 90, 30, 62, 95, 20, 78, 16, 44, 26, 50, 11, 27, 55, 27, 65, 65, 56, 51, 87, 87, 27, 21, 53, 21, 87, 20, 64, 25, 33, 0, 48, 95, 21, 59, 38, 86, 39, 86, 81, 14, 88, 37, 32, 77, 82, 62, 61, 83, 34, 81, 0, 88, 90, 31, 53, 45, 83, 54, 59, 43, 38, 89, 70, 14, 56, 38, 38, 52, 19, 92, 27, 0, 77, 35, 20, 0, 86, 37, 89, 44, 0, 58, 65, 24, 92, 25, 92, 30, 34, 88, 52, 93, 38, 84, 19, 55, 0, 31, 70, 32, 14, 0, 57, 73, 44, 6, 25, 91, 53, 46, 92, 41, 12, 90, 94, 41, 58, 42, 49, 82, 89, 20, 62, 85, 37, 55, 72, 67, 85, 70, 37, 16, 42, 59, 91, 83, 77, 96, 90, 37, 0, 85, 75, 56, 13, 96, 65, 74, 0, 34, 71, 37, 31, 25, 28, 51, 56, 63, 33, 50, 24, 70, 14, 53, 80, 91, 50, 43, 62, 48, 58, 32, 58, 51, 92, 68, 20, 10, 37, 27, 47, 35, 17, 50, 62, 37, 88, 13, 6, 86, 62, 74, 55, 42, 32, 72, 77, 12, 47, 22, 32, 33, 2, 33, 28, 77, 31, 27, 19, 50, 71, 68, 59, 81, 75, 14, 31, 51, 52, 66, 88, 27, 85, 86, 90, 24, 44, 64, 48, 92, 83, 58, 75, 70, 20, 0, 0, 29, 91, 81, 41, 93, 56, 69, 64, 42, 37, 91, 38, 46, 51, 83, 38, 54, 27, 90, 70, 11, 87, 86, 51, 77, 36, 25, 45, 91, 36, 54, 50, 38, 55, 63, 56, 71, 40, 84, 19, 49, 36, 37, 71, 61, 30, 44, 86, 25, 41, 60, 58, 50, 40, 87, 64, 73, 34, 40, 49, 28, 88, 85, 70, 43, 30, 52, 46, 60, 80, 32, 99, 90, 21, 50, 7, 48, 29, 8, 67, 0, 59, 6, 61, 79, 64, 37, 56, 52, 85, 84, 12, 61, 32, 64, 85, 85, 34, 85, 39, 62, 36, 88, 86, 9, 28, 6, 65, 15, 73, 0, 42, 59, 87, 83, 13, 41, 82, 89, 86, 58, 27, 88, 9, 82, 21, 44, 40, 39, 87, 87, 58, 65, 53, 72, 34, 0, 29, 90, 91, 31, 54, 33, 60, 73, 50, 38, 50, 14, 43, 27, 88, 0, 86, 51, 21, 86, 45, 72, 89, 83, 38, 77, 15, 38, 44, 86, 33, 27, 81, 70, 30, 23, 80, 63, 9, 44, 86, 24, 59, 85, 89, 87, 36, 82, 52, 52, 84, 56, 89, 45, 14, 37, 99, 87, 93, 23, 66, 13, 30, 38, 86, 33, 8, 90, 45, 70, 57, 38, 13, 88, 34, 11, 16, 90, 46, 46, 20, 48, 54, 86, 85, 49, 43, 78, 44, 44, 19, 60, 24, 52, 13, 87, 45, 57, 85, 27, 94, 41, 37, 90, 87, 81, 19, 91, 41, 53, 71, 62, 66, 74, 50, 42, 51, 83, 12, 33, 84, 83, 66, 56, 93, 92, 75, 38, 74, 22, 30, 61, 51, 90, 81, 66, 97, 18, 48, 80, 60, 30, 16, 32, 63, 27, 72, 66, 24, 45, 89, 21, 23, 82, 20, 31, 98, 93, 56, 55, 36, 61, 59, 70, 41, 45, 84, 56, 86, 86, 0, 34, 49, 71, 65, 21, 85, 80, 91, 85, 29, 66, 87, 49, 66, 89, 46, 22, 51, 27, 71, 35, 84, 37, 55, 61, 60, 76, 57, 67, 28, 23, 44, 43, 33, 12, 92, 58, 51, 55, 43, 56, 46, 30, 81, 32, 39, 40, 52, 22, 48, 86, 93, 85, 37, 14, 90, 88, 71, 89, 79, 49, 54, 54, 60, 66, 52, 45, 69, 27, 26, 54, 32, 98, 90, 22, 20, 50, 48, 42, 72, 15, 71, 58, 93, 94, 76, 63, 18, 77, 86, 20, 53, 84, 32, 89, 85, 0, 74, 97, 11, 91, 58, 41, 32, 74, 21, 86, 52, 65, 93, 13, 29, 22, 0, 79, 34, 43, 53, 25, 19, 30, 30, 14, 25, 21, 24, 91, 66, 12, 29, 80, 23, 20, 91, 50, 70, 38, 86, 34, 23, 92, 15, 0, 56, 85, 86, 86, 24, 53, 94, 46, 75, 63, 64, 36, 96, 26, 22, 28, 44, 48, 15, 27, 26, 0, 85, 17, 13, 61, 29, 31, 39, 18, 77, 46, 24, 38, 39, 29, 30, 78, 84, 77, 79, 45, 24, 84, 60, 95, 91, 87, 36, 64, 81, 25, 37, 58, 54, 25, 56, 32, 83, 38, 21, 32, 93, 23, 52, 49, 61, 15, 79, 96, 26, 86, 46, 85, 12, 92, 88, 74, 10, 20, 0, 88, 25, 41, 32, 57, 86, 26, 75, 53, 56, 43, 74, 17, 76, 19, 60, 14, 81, 87, 67, 26, 90, 63, 64, 76, 29, 51, 28, 0, 90, 87, 87, 55, 58, 35, 26, 21, 64, 43, 61, 16, 91, 66, 14, 52, 0, 67, 29, 41, 29, 30, 88, 14, 39, 73, 27, 48, 59, 36, 0, 60, 59, 88, 47, 96, 42, 15, 27, 87, 34, 94, 26, 66, 85, 54, 80, 13, 49, 38, 80, 24, 75, 55, 50, 62, 86, 85, 31, 83, 21, 55, 60, 44, 44, 91, 14, 47, 23, 7, 64, 45, 60, 32, 46, 20, 90, 83, 51, 0, 89, 60, 73, 21, 45, 22, 91, 85, 58, 93, 54, 40, 52, 87, 90, 50, 84, 91, 34, 64, 90, 30, 51, 83, 15, 92, 86, 0, 90, 69, 19, 76, 19, 89, 52, 78, 27, 18, 0, 86, 94, 21, 89, 41, 90, 72, 77, 0, 38, 97, 68, 88, 86, 19, 39, 58, 26, 48, 86, 21, 88, 33, 53, 50, 85, 73, 27, 59, 31, 60, 27, 91, 70, 17, 45, 39, 0, 37, 52, 36, 86, 51, 76, 93, 65, 79, 87, 36, 22, 35, 10, 15, 31, 23, 54, 95, 46, 67, 68, 85, 60, 13, 2, 98, 24, 64, 75, 62, 0, 39, 17, 28, 15, 91, 12, 33, 90, 33, 91, 53, 69, 52, 37, 79, 26, 0, 72, 54, 91, 91, 59, 75, 22, 51, 41, 27, 90, 86, 40, 90, 25, 32, 85, 39, 49, 95, 25, 19, 46, 81, 23, 87, 41, 50, 90, 80, 33, 39, 90, 36, 13, 37, 90, 31, 88, 88, 57, 63, 0, 42, 57, 17, 76, 48, 86, 43, 55, 24, 40, 60, 37, 59, 0, 38, 20, 0, 86, 46, 97, 44, 41, 66, 13, 48, 88, 88, 93, 37, 85, 10, 87, 38, 47, 22, 51, 59, 74, 35, 81, 53, 37, 85, 81, 49, 40, 89, 43, 44, 95, 42, 86, 92, 16, 71, 29, 43, 91, 86, 43, 0, 55, 17, 57, 67, 50, 82, 87, 22, 63, 87, 71, 51, 41, 32, 14, 99, 51, 20, 90, 20, 34, 99, 82, 61, 47, 78, 51, 4, 83, 84, 82, 18, 71, 69, 49, 14, 75, 42, 32, 21, 29, 83, 87, 34, 92, 20, 41, 53, 32, 75, 23, 57, 0, 41, 57, 28, 37, 41, 76, 31, 17, 86, 85, 92, 81, 79, 84, 72, 18, 89, 0, 13, 45, 87, 44, 22, 23, 89, 70, 25, 91, 76, 83, 26, 22, 17, 21, 28, 89, 39, 85, 92, 35, 89, 32, 41, 89, 27, 46, 45, 64, 86, 62, 89, 45, 45, 89, 84, 43, 78, 38, 65, 67, 27, 60, 75, 18, 28, 33, 39, 87, 65, 11, 13, 49, 62, 83, 33, 62, 53, 87, 70, 68, 59, 12, 86, 86, 85, 75, 62, 54, 25, 63, 37, 49, 93, 49, 44, 86, 10, 46, 52, 72, 56, 16, 28, 17, 81, 57, 52, 59, 68, 21, 0, 78, 91, 62, 42, 93, 69, 95, 11, 64, 45, 14, 36, 56, 31, 38, 76, 51, 20, 29, 50, 53, 87, 89, 90, 69, 83, 86, 78, 61, 83, 80, 89, 30, 81, 79, 84, 50, 83, 68, 42, 70, 12, 93, 92, 94, 89, 46, 57, 24, 88, 39, 12, 91, 24, 78, 56, 74, 23, 85, 35, 23, 6, 80, 52, 76, 91, 8, 14, 38, 65, 27, 29, 86, 84, 89, 21, 54, 87, 86, 51, 43, 56, 90, 67, 41, 16, 44, 48, 91, 76, 14, 91, 50, 27, 38, 39, 80, 90, 20, 30, 67, 82, 95, 88, 73, 64, 47, 49, 66, 49, 63, 52, 47, 88, 13, 80, 30, 18, 85, 82, 92, 59, 72, 39, 59, 93, 95, 81, 43, 16, 87, 24, 27, 96, 0, 82, 94, 95, 91, 13, 76, 91, 87, 16, 26, 95, 94, 87, 41, 39, 84, 39, 0, 60, 75, 66, 76, 51, 19, 54, 18, 66, 93, 74, 13, 32, 80, 38, 25, 57, 48, 14, 41, 75, 0, 44, 86, 89, 40, 43, 88, 46, 15, 39, 19, 65, 46, 89, 68, 50, 41, 64, 88, 66, 59, 66, 32, 84, 46, 54, 80, 42, 17, 23, 29, 65, 47, 10, 22, 67, 48, 46, 39, 35, 63, 76, 55, 47, 20, 61, 0, 83, 18, 57, 53, 11, 50, 71, 44, 76, 77, 0, 52, 87, 15, 34, 76, 18, 49, 11, 40, 60, 85, 40, 77, 0, 89, 36, 11, 71, 14, 43, 8, 13, 67, 22, 36, 70, 56, 58, 91, 59, 23, 15, 40, 26, 35, 67, 43, 93, 77, 91, 54, 54, 25, 86, 25, 83, 66, 25, 29, 31, 28, 14, 83, 28, 26, 79, 76, 78, 0, 33, 44, 21, 34, 16, 66, 32, 9, 21, 43, 65, 61, 45, 48, 14, 24, 8, 66, 41, 58, 85, 89, 0, 38, 74, 83, 26, 66, 90, 63, 78, 0, 71, 96, 65, 10, 56, 14, 11, 26, 47, 91, 47, 62, 84, 26, 30, 46, 9, 91, 62, 19, 92, 60, 63, 26, 10, 38, 41, 40, 72, 61, 64, 18, 88, 69, 37, 85, 43, 37, 46, 13, 59, 82, 29, 23, 60, 32, 41, 47, 50, 51, 81, 10, 66, 55, 63, 23, 31, 55, 47, 88, 21, 0, 27, 87, 84, 84, 74, 57, 85, 83, 94, 0, 80, 94, 22, 85, 56, 70, 72, 90, 38, 65, 16, 42, 82, 89, 70, 15, 93, 84, 24, 83, 78, 86, 18, 86, 30, 94, 36, 36, 74, 49, 44, 27, 41, 10, 71, 56, 79, 89, 0, 29, 87, 90, 45, 44, 12, 59, 90, 89, 44, 44, 13, 22, 88, 42, 89, 57, 84, 68, 78, 34, 41, 22, 28, 0, 38, 93, 40, 11, 50, 22, 47, 82, 11, 93, 94, 91, 38, 54, 93, 56, 54, 33, 20, 31, 68, 92, 0, 80, 0, 92, 76, 59, 13, 21, 67, 89, 76, 17, 85, 87, 17, 29, 37, 17, 44, 20, 73, 18, 84, 92, 86, 35, 66, 77, 24, 28, 62, 78, 10, 13, 68, 67, 88, 25, 51, 19, 50, 62, 62, 67, 26, 90, 85, 59, 51, 62, 87, 87, 93, 87, 22, 85, 0, 33, 0, 47, 10, 24, 79, 94, 35, 79, 29, 95, 61, 85, 62, 44, 35, 94, 29, 47, 53, 0, 74, 88, 90, 78, 92, 79, 34, 56, 31, 87, 40, 86, 72, 74, 74, 89, 90, 91, 24, 24, 81, 49, 22, 39, 39, 81, 73, 52, 42, 43, 97, 0, 0, 85, 87, 85, 90, 45, 85, 80, 15, 64, 22, 58, 70, 20, 20, 38, 68, 85, 48, 81, 93, 33, 13, 33, 89, 87, 16, 90, 30, 48, 85, 89, 14, 46, 21, 86, 72, 25, 68, 92, 0, 36, 58, 30, 46, 78, 87, 87, 94, 56, 78, 0, 95, 17, 79, 84, 92, 42, 41, 54, 76, 61, 80, 85, 90, 83, 97, 36, 88, 85, 23, 89, 43, 88, 91, 97, 79, 42, 49, 52, 88, 75, 23, 54, 67, 43, 86, 74, 67, 31, 38, 23, 34, 65, 52, 68, 71, 72, 48, 60, 19, 39, 28, 86, 61, 33, 36, 19, 87, 78, 46, 61, 18, 64, 51, 25, 8, 25, 84, 85, 13, 11, 52, 76, 66, 59, 43, 42, 56, 70, 33, 90, 37, 64, 59, 91, 11, 43, 55, 57, 34, 19, 82, 86, 90, 63, 71, 21, 87, 52, 85, 33, 30, 33, 45, 69, 76, 35, 82, 53, 44, 62, 79, 61, 40, 36, 45, 35, 87, 70, 42, 88, 69, 44, 39, 91, 30, 42, 68, 70, 38, 20, 48, 48, 28, 39, 35, 49, 52, 68, 56, 91, 49, 22, 59, 63, 44, 26, 25, 74, 77, 38, 68, 89, 40, 27, 46, 48, 56, 34, 33, 21, 87, 31, 89, 91, 54, 82, 20, 0, 88, 57, 58, 85, 60, 49, 86, 9, 70, 85, 87, 62, 93, 84, 68, 67, 45, 47, 85, 66, 47, 67, 59, 0, 94, 86, 36, 55, 55, 34, 88, 13, 20, 53, 40, 33, 87, 81, 0, 27, 45, 49, 16, 80, 34, 18, 89, 67, 62, 41, 87, 57, 53, 41, 92, 41, 39, 69, 91, 52, 15, 88, 55, 92, 36, 0, 24, 34, 36, 30, 17, 42, 54, 47, 81, 38, 91, 86, 83, 92, 90, 27, 12, 88, 0, 35, 51, 51, 81, 73, 84, 87, 36, 47, 72, 86, 75, 31, 49, 27, 19, 15, 88, 49, 62, 58, 49, 64, 87, 88, 94, 59, 57, 41, 96, 58, 43, 28, 48, 55, 8, 34, 14, 94, 8, 91, 84, 53, 86, 54, 31, 46, 26, 92, 86, 0, 49, 17, 67, 10, 21, 48, 45, 84, 41, 88, 86, 11, 87, 31, 34, 54, 22, 20, 62, 64, 23, 52, 88, 62, 55, 53, 35, 88, 33, 25, 92, 58, 74, 14, 48, 42, 48, 44, 58, 97, 84, 86, 71, 61, 56, 40, 32, 56, 77, 45, 56, 64, 79, 29, 53, 56, 83, 43, 10, 56, 39, 38, 0, 61, 81, 0, 67, 33, 74, 57, 36, 88, 88, 55, 58, 39, 50, 34, 0, 65, 18, 71, 91, 0, 80, 82, 65, 65, 62, 87, 48, 33, 59, 48, 92, 33, 43, 70, 84, 79, 57, 47, 2, 84, 65, 77, 88, 93, 33, 33, 9, 85, 68, 51, 45, 0, 41, 91, 46, 67, 51, 34, 80, 27, 76, 66, 71, 80, 70, 60, 17, 45, 93, 89, 35, 86, 85, 75, 59, 30, 91, 35, 94, 46, 81, 0, 60, 9, 24, 48, 41, 40, 0, 20, 46, 93, 85, 73, 80, 64, 16, 0, 18, 92, 0, 64, 0, 81, 95, 89, 75, 16, 88, 16, 0, 39, 16, 21, 75, 57, 66, 49, 87, 83, 92, 90, 27, 51, 86, 30, 56, 27, 15, 87, 94, 48, 70, 73, 48, 51, 26, 0, 28, 56, 46, 47, 22, 38, 45, 78, 83, 68, 37, 56, 31, 23, 35, 58, 38, 34, 87, 30, 10, 44, 88, 64, 31, 55, 43, 69, 19, 92, 40, 0, 24, 76, 50, 50, 59, 77, 18, 57, 44, 46, 69, 86, 32, 40, 88, 10, 13, 46, 94, 27, 88, 63, 56, 51, 15, 38, 13, 86, 20, 36, 18, 89, 15, 90, 39, 11, 13, 72, 24, 15, 48, 13, 73, 40, 57, 67, 29, 34, 54, 11, 87, 66, 16, 65, 56, 69, 89, 35, 70, 33, 43, 65, 21, 59, 27, 68, 65, 15, 29, 50, 7, 89, 23, 22, 87, 16, 0, 76, 54, 16, 36, 33, 49, 80, 35, 85, 61, 89, 88, 87, 24, 74, 90, 92, 62, 28, 32, 81, 33, 14, 32, 70, 24, 46, 38, 41, 19, 58, 55, 84, 51, 56, 37, 89, 43, 89, 45, 93, 15, 72, 83, 15, 86, 43, 8, 0, 0, 43, 64, 30, 53, 62, 49, 12, 58, 62, 51, 20, 36, 81, 29, 16, 45, 90, 43, 67, 36, 0, 16, 87, 12, 37, 56, 87, 92, 57, 20, 92, 26, 85, 43, 39, 20, 62, 46, 35, 41, 29, 39, 66, 39, 70, 93, 36, 73, 86, 42, 84, 21, 73, 59, 32, 27, 84, 41, 50, 47, 88, 79, 89, 19, 60, 72, 19, 46, 28, 0, 59, 87, 62, 21, 58, 49, 66, 22, 83, 12, 0, 10, 53, 29, 74, 0, 46, 69, 60, 92, 0, 43, 0, 48, 93, 32, 49, 93, 83, 32, 44, 83, 70, 25, 24, 96, 67, 33, 46, 16, 65, 57, 15, 49, 87, 47, 51, 84, 29, 95, 39, 34, 33, 58, 19, 40, 93, 24, 30, 83, 64, 34, 57, 85, 49, 47, 15, 70, 46, 57, 55, 83, 50, 54, 38, 23, 27, 63, 66, 89, 28, 42, 71, 87, 55, 87, 50, 19, 89, 37, 95, 10, 0, 40, 66, 43, 87, 78, 81, 65, 94, 71, 87, 15, 45, 16, 92, 67, 54, 15, 39, 0, 44, 32, 92, 85, 41, 48, 94, 33, 37, 18, 54, 89, 56, 66, 80, 87, 70, 88, 92, 0, 52, 52, 46, 61, 30, 48, 42, 67, 44, 19, 48, 52, 71, 64, 84, 83, 36, 0, 18, 46, 57, 88, 58, 65, 90, 34, 73, 58, 21, 71, 87, 61, 90, 80, 82, 24, 37, 84, 80, 13, 65, 16, 56, 86, 68, 0, 22, 9, 39, 69, 85, 0, 69, 72, 91, 31, 57, 83, 78, 94, 78, 39, 45, 39, 26, 10, 36, 51, 92, 82, 21, 61, 67, 88, 92, 16, 92, 91, 60, 24, 76, 91, 72, 32, 82, 54, 33, 44, 62, 30, 32, 9, 91, 57, 87, 13, 61, 77, 27, 86, 83, 86, 28, 25, 88, 13, 51, 64, 93, 35, 81, 20, 11, 78, 63, 14, 48, 89, 51, 89, 86, 65, 33, 87, 71, 87, 14, 40, 33, 61, 89, 59, 56, 30, 9, 64, 12, 94, 24, 60, 30, 86, 65, 15, 43, 42, 47, 16, 64, 0, 41, 28, 89, 76, 86, 22, 83, 88, 10, 89, 82, 32, 18, 51, 79, 90, 31, 48, 62, 83, 56, 42, 42, 89, 26, 26, 34, 42, 76, 29, 92, 27, 97, 15, 64, 30, 31, 31, 66, 47, 18, 31, 29, 59, 78, 46, 66, 30, 86, 73, 0, 37, 66, 94, 90, 30, 85, 43, 55, 60, 76, 55, 29, 61, 42, 11, 37, 43, 45, 33, 93, 37, 43, 12, 42, 11, 27, 91, 90, 42, 91, 49, 21, 83, 78, 69, 53, 29, 42, 41, 0, 10, 63, 67, 28, 53, 20, 77, 83, 88, 56, 34, 85, 22, 46, 77, 45, 27, 37, 40, 20, 57, 18, 83, 84, 45, 55, 67, 83, 51, 88, 41, 17, 14, 87, 93, 43, 0, 52, 44, 28, 26, 19, 28, 58, 94, 42, 0, 50, 55, 45, 40, 53, 35, 54, 14, 96, 87, 28, 80, 87, 0, 64, 77, 14, 89, 30, 94, 67, 43, 59, 0, 92, 51, 26, 23, 27, 35, 22, 63, 90, 35, 89, 77, 88, 65, 28, 78, 60, 81, 54, 0, 90, 91, 86, 42, 26, 88, 8, 31, 25, 49, 83, 68, 66, 93, 93, 43, 87, 70, 100, 46, 0, 41, 21, 83, 64, 19, 25, 69, 48, 25, 73, 50, 6, 63, 47, 26, 94, 60, 90, 51, 31, 17, 54, 84, 38, 44, 38, 41, 78, 85, 95, 13, 94, 81, 79, 52, 47, 31, 48, 47, 11, 53, 58, 16, 89, 67, 79, 34, 85, 62, 64, 80, 36, 95, 81, 27, 92, 40, 31, 61, 86, 0, 81, 71, 69, 0, 49, 16, 28, 35, 67, 44, 18, 85, 23, 42, 53, 32, 50, 100, 46, 61, 61, 93, 90, 85, 67, 78, 29, 70, 45, 79, 87, 93, 43, 86, 23, 31, 18, 81, 52, 14, 77, 47, 27, 20, 36, 89, 39, 53, 6, 46, 59, 19, 54, 92, 33, 27, 0, 51, 90, 60, 0, 42, 18, 5, 52, 32, 39, 25, 43, 85, 84, 75, 52, 45, 63, 89, 31, 36, 93, 38, 63, 83, 26, 47, 42, 86, 25, 40, 51, 61, 86, 86, 51, 24, 82, 43, 78, 17, 27, 64, 77, 14, 90, 80, 87, 8, 50, 43, 0, 84, 10, 94, 53, 68, 0, 35, 63, 11, 24, 46, 90, 35, 38, 0, 91, 62, 42, 43, 34, 37, 59, 44, 32, 25, 13, 57, 90, 32, 54, 32, 69, 69, 75, 90, 78, 85, 50, 28, 24, 85, 28, 14, 90, 31, 63, 33, 46, 56, 67, 33, 34, 9, 78, 26, 82, 59, 69, 31, 80, 24, 60, 0, 75, 85, 50, 52, 51, 39, 89, 73, 60, 44, 49, 69, 81, 38, 54, 93, 11, 56, 37, 69, 88, 52, 89, 39, 35, 67, 75, 43, 41, 91, 63, 51, 0, 49, 0, 0, 68, 59, 0, 57, 27, 20, 64, 86, 59, 68, 25, 32, 89, 32, 92, 87, 21, 72, 34, 27, 67, 64, 63, 49, 96, 86, 0, 47, 55, 91, 44, 84, 39, 44, 37, 38, 74, 88, 90, 87, 34, 6, 37, 91, 16, 20, 26, 21, 33, 37, 42, 20, 88, 36, 56, 16, 43, 22, 97, 26, 78, 72, 16, 13, 92, 39, 83, 66, 91, 12, 46, 61, 35, 44, 58, 95, 79, 66, 38, 35, 40, 41, 21, 46, 34, 86, 87, 41, 40, 69, 24, 30, 39, 15, 30, 0, 58, 75, 56, 43, 25, 47, 26, 27, 18, 20, 31, 92, 15, 57, 78, 34, 86, 86, 0, 23, 13, 86, 86, 15, 90, 25, 89, 39, 33, 87, 80, 25, 30, 38, 77, 84, 26, 31, 10, 94, 59, 0, 81, 51, 87, 86, 31, 73, 0, 13, 88, 42, 75, 46, 55, 0, 86, 28, 29, 51, 79, 88, 45, 54, 30, 12, 59, 19, 16, 29, 10, 75, 91, 65, 51, 14, 89, 19, 73, 25, 85, 93, 44, 28, 12, 81, 51, 18, 72, 62, 68, 15, 46, 26, 60, 67, 21, 19, 88, 31, 29, 85, 86, 33, 27, 41, 38, 56, 48, 22, 41, 20, 17, 50, 65, 64, 21, 3, 26, 30, 52, 68, 92, 13, 68, 72, 41, 32, 35, 54, 43, 24, 33, 62, 52, 45, 38, 59, 47, 45, 92, 20, 67, 31, 36, 91, 80, 88, 87, 87, 16, 0, 80, 39, 40, 51, 87, 76, 53, 92, 50, 45, 79, 88, 76, 86, 37, 85, 42, 16, 53, 90, 63, 95, 93, 52, 11, 72, 62, 27, 10, 15, 64, 39, 10, 92, 48, 91, 95, 64, 45, 89, 87, 28, 73, 90, 15, 47, 50, 49, 19, 19, 55, 26, 86, 88, 68, 32, 88, 48, 73, 0, 0, 0, 39, 10, 28, 83, 43, 85, 54, 88, 33, 55, 66, 13, 95, 33, 84, 3, 85, 38, 93, 41, 81, 87, 87, 73, 56, 45, 92, 34, 53, 22, 61, 86, 30, 94, 27, 72, 40, 25, 27, 85, 75, 18, 39, 79, 58, 50, 58, 27, 42, 19, 40, 36, 92, 10, 38, 0, 58, 41, 59, 57, 29, 89, 47, 9, 66, 46, 86, 24, 84, 94, 0, 85, 26, 37, 32, 46, 65, 63, 89, 37, 54, 93, 88, 15, 17, 66, 61, 23, 95, 84, 69, 90, 47, 84, 34, 33, 24, 27, 52, 72, 68, 63, 47, 91, 50, 44, 43, 88, 35, 91, 0, 86, 85, 32, 40, 54, 48, 92, 39, 34, 44, 13, 30, 64, 20, 72, 35, 92, 53, 48, 43, 47, 88, 92, 64, 79, 27, 23, 91, 78, 22, 9, 53, 34, 68, 33, 29, 66, 35, 50, 11, 30, 83, 0, 20, 21, 78, 34, 12, 57, 66, 0, 85, 92, 20, 95, 39, 58, 59, 29, 70, 66, 51, 8, 72, 36, 89, 56, 64, 86, 47, 84, 41, 68, 59, 34, 63, 14, 88, 0, 91, 83, 68, 36, 60, 74, 23, 33, 44, 86, 66, 57, 40, 48, 67, 48, 50, 63, 14, 87, 82, 0, 14, 0, 47, 61, 17, 26, 0, 25, 91, 78, 40, 88, 33, 91, 76, 67, 0, 34, 24, 78, 7, 91, 83, 21, 41, 87, 91, 40, 51, 0, 88, 88, 41, 77, 86, 92, 39, 89, 60, 60, 90, 91, 83, 24, 57, 74, 34, 95, 70, 45, 41, 67, 87, 93, 60, 32, 85, 93, 69, 32, 73, 77, 11, 87, 82, 64, 90, 19, 47, 50, 55, 78, 80, 54, 0, 40, 44, 30, 0, 90, 35, 85, 0, 92, 36, 14, 26, 16, 89, 17, 96, 81, 77, 13, 56, 50, 33, 83, 26, 67, 58, 57, 91, 35, 70, 75, 90, 88, 94, 89, 40, 66, 43, 90, 87, 86, 88, 20, 46, 44, 27, 55, 52, 23, 48, 92, 62, 88, 24, 33, 10, 81, 87, 51, 53, 86, 53, 71, 35, 51, 49, 83, 87, 65, 48, 95, 86, 37, 75, 54, 29, 64, 58, 19, 75, 56, 14, 0, 31, 32, 80, 62, 76, 62, 78, 30, 54, 77, 53, 43, 38, 72, 56, 75, 30, 84, 73, 30, 53, 61, 32, 25, 68, 58, 85, 23, 70, 88, 41, 93, 27, 81, 63, 90, 0, 92, 86, 53, 92, 87, 23, 84, 39, 0, 24, 84, 89, 81, 51, 92, 38, 67, 84, 57, 88, 41, 83, 84, 51, 13, 17, 73, 35, 38, 76, 26, 58, 85, 50, 18, 39, 29, 46, 23, 11, 40, 90, 91, 35, 91, 42, 49, 41, 94, 33, 88, 34, 91, 92, 87, 61, 12, 92, 33, 18, 79, 94, 86, 38, 47, 31, 22, 51, 94, 91, 88, 81, 0, 90, 15, 0, 89, 93, 82, 95, 74, 14, 52, 92, 46, 14, 92, 33, 0, 57, 72, 43, 37, 28, 37, 46, 30, 29, 29, 76, 90, 42, 14, 85, 35, 9, 27, 76, 44, 46, 4, 87, 100, 64, 41, 38, 81, 20, 0, 17, 18, 66, 9, 48, 29, 91, 49, 25, 21, 19, 14, 0, 92, 31, 23, 90, 33, 65, 0, 45, 54, 39, 16, 50, 0, 62, 52, 83, 71, 72, 52, 58, 28, 18, 37, 80, 64, 67, 63, 43, 29, 62, 18, 93, 90, 43, 91, 32, 61, 35, 30, 93, 87, 23, 78, 91, 41, 82, 30, 73, 31, 29, 68, 25, 59, 84, 17, 85, 71, 46, 32, 69, 53, 38, 84, 86, 87, 91, 46, 87, 93, 55, 89, 26, 51, 30, 69, 66, 38, 91, 69, 22, 38, 82, 87, 81, 87, 67, 15, 54, 30, 10, 16, 63, 11, 0, 48, 78, 60, 96, 70, 71, 44, 34, 11, 68, 43, 23, 15, 49, 87, 88, 45, 62, 52, 74, 58, 24, 82, 83, 30, 82, 86, 76, 90, 32, 84, 47, 53, 89, 92, 47, 79, 50, 57, 88, 13, 24, 32, 55, 14, 79, 42, 31, 29, 56, 87, 80, 88, 60, 57, 85, 77, 41, 65, 64, 23, 85, 16, 54, 27, 30, 83, 36, 22, 21, 42, 30, 16, 62, 90, 19, 91, 80, 63, 85, 44, 31, 41, 20, 53, 86, 56, 52, 90, 67, 19, 52, 68, 24, 85, 60, 14, 12, 55, 52, 0, 86, 14, 75, 70, 45, 28, 81, 89, 80, 8, 46, 90, 90, 47, 47, 81, 91, 88, 86, 32, 91, 15, 21, 45, 26, 46, 72, 38, 84, 37, 59, 27, 78, 27, 60, 18, 55, 27, 19, 20, 56, 67, 22, 33, 92, 70, 32, 60, 87, 49, 55, 0, 92, 24, 42, 37, 24, 18, 60, 60, 0, 88, 56, 34, 33, 90, 33, 55, 55, 74, 12, 66, 86, 56, 88, 24, 8, 56, 32, 35, 80, 51, 68, 47, 19, 53, 93, 29, 66, 86, 63, 78, 28, 69, 25, 65, 18, 33, 36, 66, 32, 21, 59, 41, 13, 36, 0, 53, 81, 31, 86, 84, 16, 57, 24, 65, 52, 62, 93, 65, 42, 29, 10, 64, 28, 37, 30, 93, 42, 16, 91, 31, 10, 85, 76, 73, 88, 0, 85, 42, 74, 86, 59, 42, 95, 45, 29, 43, 26, 51, 50, 75, 0, 36, 74, 87, 62, 0, 10, 23, 37, 31, 34, 37, 45, 85, 22, 76, 41, 12, 88, 25, 35, 89, 38, 44, 20, 85, 13, 9, 86, 33, 85, 41, 65, 32, 21, 66, 93, 55, 46, 35, 19, 18, 14, 92, 36, 88, 68, 84, 74, 92, 0, 83, 17, 36, 74, 76, 90, 91, 36, 62, 41, 20, 34, 85, 0, 63, 94, 24, 48, 89, 87, 77, 13, 89, 23, 11, 22, 56, 71, 77, 25, 66, 48, 56, 92, 40, 82, 82, 33, 30, 63, 81, 46, 75, 52, 58, 58, 58, 81, 56, 92, 75, 88, 0, 50, 37, 14, 77, 39, 67, 42, 52, 80, 90, 75, 12, 68, 54, 24, 82, 71, 84, 12, 28, 41, 46, 86, 36, 34, 30, 37, 38, 74, 38, 20, 0, 48, 25, 93, 85, 77, 83, 52, 54, 14, 86, 71, 69, 65, 70, 40, 27, 94, 72, 67, 37, 60, 73, 28, 66, 79, 34, 39, 89, 34, 73, 40, 21, 48, 62, 45, 51, 14, 26, 30, 0, 88, 27, 14, 40, 55, 41, 89, 45, 39, 87, 36, 67, 91, 66, 89, 21, 10, 88, 22, 34, 32, 52, 87, 50, 64, 43, 21, 94, 86, 9, 88, 63, 75, 86, 85, 21, 80, 41, 76, 88, 62, 25, 14, 54, 53, 0, 21, 29, 80, 58, 81, 52, 58, 48, 16, 75, 54, 84, 62, 82, 63, 16, 63, 27, 58, 43, 47, 87, 85, 15, 53, 87, 27, 46, 73, 45, 29, 87, 0, 89, 0, 55, 88, 41, 46, 47, 40, 75, 27, 21, 74, 23, 23, 67, 0, 50, 41, 35, 30, 9, 48, 95, 61, 0, 33, 59, 0, 86, 14, 54, 60, 82, 24, 80, 32, 13, 66, 11, 57, 22, 50, 0, 85, 68, 0, 12, 79, 51, 77, 98, 82, 59, 8, 11, 73, 72, 19, 22, 51, 85, 62, 44, 30, 53, 16, 87, 22, 20, 25, 33, 86, 33, 27, 65, 75, 11, 10, 75, 0, 72, 96, 40, 30, 45, 29, 67, 31, 12, 85, 27, 64, 79, 30, 75, 54, 11, 34, 12, 20, 53, 81, 51, 15, 87, 29, 87, 85, 57, 16, 84, 23, 53, 42, 19, 46, 11, 91, 29, 64, 25, 74, 43, 51, 48, 80, 29, 41, 88, 91, 33, 46, 8, 40, 20, 20, 32, 31, 48, 86, 16, 49, 59, 0, 39, 12, 27, 65, 34, 85, 70, 84, 21, 26, 38, 73, 48, 54, 81, 0, 29, 44, 35, 66, 88, 54, 88, 87, 52, 44, 64, 82, 76, 0, 90, 64, 54, 11, 76, 13, 27, 85, 36, 35, 47, 85, 32, 88, 0, 90, 85, 90, 44, 16, 69, 73, 0, 94, 48, 23, 24, 91, 9, 90, 61, 58, 39, 63, 52, 67, 61, 46, 18, 17, 86, 29, 22, 86, 84, 18, 0, 23, 47, 36, 0, 22, 48, 77, 94, 90, 25, 19, 28, 56, 47, 86, 36, 28, 40, 18, 43, 58, 99, 44, 95, 80, 81, 13, 75, 65, 14, 79, 35, 74, 29, 46, 77, 0, 37, 88, 52, 50, 16, 14, 0, 37, 27, 37, 34, 87, 84, 50, 25, 17, 90, 61, 65, 82, 9, 88, 11, 56, 8, 52, 37, 45, 0, 97, 31, 23, 33, 48, 22, 84, 39, 83, 42, 90, 35, 89, 50, 46, 41, 32, 77, 60, 24, 59, 45, 31, 12, 15, 43, 59, 39, 48, 84, 87, 51, 81, 88, 16, 89, 84, 40, 49, 48, 43, 91, 52, 11, 16, 96, 23, 40, 74, 74, 53, 69, 83, 55, 67, 47, 60, 79, 89, 23, 10, 82, 67, 0, 23, 70, 50, 86, 86, 31, 37, 55, 50, 57, 84, 56, 12, 80, 50, 59, 69, 25, 32, 73, 0, 96, 89, 63, 93, 87, 26, 77, 89, 65, 79, 91, 77, 56, 88, 40, 23, 48, 10, 90, 64, 77, 51, 48, 15, 88, 69, 9, 25, 22, 84, 75, 88, 45, 42, 57, 77, 47, 0, 55, 20, 40, 3, 25, 84, 57, 41, 42, 10, 34, 74, 97, 92, 85, 88, 89, 40, 25, 67, 87, 91, 25, 27, 13, 16, 22, 40, 63, 66, 94, 65, 87, 89, 89, 49, 89, 68, 78, 63, 80, 30, 85, 21, 52, 93, 65, 13, 21, 24, 36, 20, 54, 51, 34, 88, 40, 13, 85, 37, 90, 38, 51, 25, 37, 0, 13, 0, 35, 53, 55, 87, 35, 36, 52, 25, 30, 34, 49, 19, 0, 42, 53, 36, 35, 51, 90, 33, 26, 91, 18, 14, 0, 55, 65, 62, 20, 0, 86, 37, 60, 85, 73, 77, 23, 30, 26, 83, 32, 41, 78, 36, 34, 8, 50, 19, 31, 85, 37, 67, 95, 22, 68, 85, 28, 42, 73, 49, 45, 18, 61, 30, 23, 75, 18, 61, 83, 31, 43, 57, 61, 48, 50, 48, 28, 21, 36, 59, 87, 47, 89, 65, 89, 65, 25, 52, 9, 89, 32, 49, 92, 0, 82, 67, 80, 54, 90, 86, 24, 19, 13, 21, 76, 27, 45, 59, 80, 85, 40, 35, 73, 61, 39, 45, 91, 33, 11, 86, 93, 11, 64, 91, 33, 20, 11, 46, 60, 91, 0, 21, 79, 87, 6, 50, 13, 11, 83, 86, 81, 44, 68, 79, 89, 97, 63, 53, 92, 42, 50, 48, 73, 94, 69, 85, 80, 92, 93, 51, 28, 67, 45, 31, 95, 48, 88, 46, 44, 35, 92, 38, 25, 50, 72, 37, 91, 31, 39, 34, 29, 95, 52, 48, 13, 93, 26, 21, 78, 58, 86, 47, 85, 32, 74, 30, 92, 55, 37, 90, 34, 50, 46, 14, 28, 53, 72, 48, 71, 11, 66, 85, 31, 58, 73, 46, 35, 43, 60, 46, 44, 88, 31, 41, 33, 30, 13, 30, 53, 60, 97, 41, 54, 28, 37, 69, 24, 59, 93, 44, 79, 42, 25, 34, 47, 36, 68, 94, 19, 93, 91, 32, 57, 88, 24, 93, 81, 41, 53, 22, 93, 21, 92, 35, 23, 95, 86, 31, 86, 0, 49, 78, 91, 88, 28, 38, 17, 51, 24, 31, 33, 91, 24, 94, 86, 40, 24, 31, 87, 89, 76, 68, 29, 47, 87, 65, 18, 0, 45, 85, 87, 34, 19, 65, 52, 75, 9, 36, 70, 15, 31, 89, 52, 0, 38, 0, 67, 55, 0, 36, 14, 32, 13, 91, 33, 33, 88, 94, 87, 29, 37, 89, 34, 15, 89, 11, 53, 32, 59, 38, 86, 21, 35, 47, 13, 66, 42, 70, 61, 58, 0, 90, 66, 87, 21, 44, 70, 91, 49, 96, 49, 67, 38, 39, 10, 57, 46, 74, 55, 57, 85, 27, 33, 62, 60, 38, 40, 59, 89, 19, 28, 15, 71, 95, 45, 27, 62, 11, 64, 96, 30, 45, 34, 13, 85, 49, 89, 40, 61, 87, 28, 78, 53, 31, 37, 83, 58, 36, 93, 18, 95, 71, 74, 83, 85, 12, 11, 16, 70, 40, 85, 15, 16, 88, 27, 87, 41, 89, 49, 27, 47, 39, 75, 89, 88, 71, 32, 84, 15, 45, 38, 79, 14, 70, 30, 41, 69, 0, 57, 88, 37, 40, 72, 53, 44, 50, 75, 8, 84, 44, 86, 90, 14, 44, 43, 33, 91, 25, 89, 82, 45, 41, 41, 50, 45, 57, 38, 62, 14, 0, 72, 90, 67, 43, 22, 18, 94, 16, 26, 14, 10, 35, 19, 25, 85, 60, 75, 23, 34, 11, 44, 87, 94, 16, 86, 44, 62, 24, 72, 99, 43, 69, 52, 71, 85, 41, 25, 90, 82, 74, 78, 9, 65, 92, 15, 27, 47, 23, 31, 48, 81, 68, 48, 47, 6, 19, 94, 80, 88, 48, 54, 90, 50, 85, 23, 90, 47, 34, 10, 41, 11, 20, 78, 11, 65, 11, 20, 89, 37, 64, 70, 46, 93, 19, 89, 86, 38, 70, 60, 47, 67, 52, 0, 36, 91, 90, 20, 55, 84, 90, 47, 94, 66, 52, 39, 28, 31, 89, 91, 0, 37, 19, 43, 83, 71, 60, 35, 50, 10, 56, 0, 86, 37, 71, 22, 69, 88, 38, 18, 41, 82, 90, 45, 54, 91, 69, 32, 32, 0, 95, 50, 85, 15, 80, 65, 19, 91, 42, 51, 19, 15, 19, 74, 39, 74, 86, 32, 78, 71, 22, 75, 43, 78, 30, 65, 32, 23, 49, 0, 38, 57, 49, 0, 65, 76, 61, 39, 56, 36, 9, 29, 87, 88, 42, 61, 11, 30, 56, 14, 42, 30, 40, 26, 79, 89, 45, 91, 67, 89, 38, 16, 45, 82, 33, 31, 41, 84, 42, 90, 28, 87, 0, 29, 17, 10, 43, 43, 72, 61, 87, 90, 55, 101, 45, 53, 9, 52, 101, 63, 90, 50, 39, 43, 14, 24, 51, 18, 50, 73, 38, 84, 77, 58, 74, 66, 38, 87, 10, 47, 15, 78, 39, 51, 25, 39, 8, 18, 39, 84, 59, 17, 85, 15, 73, 71, 87, 44, 13, 93, 44, 21, 42, 0, 25, 52, 38, 92, 56, 87, 0, 40, 58, 50, 15, 18, 51, 49, 56, 90, 52, 57, 56, 11, 65, 22, 39, 89, 88, 72, 85, 73, 82, 88, 30, 28, 86, 22, 53, 39, 95, 16, 44, 55, 55, 55, 88, 48, 83, 43, 68, 93, 64, 78, 38, 39, 63, 67, 72, 30, 53, 92, 88, 89, 37, 66, 79, 69, 35, 84, 84, 34, 25, 75, 64, 36, 65, 28, 62, 89, 80, 31, 62, 88, 51, 60, 45, 34, 60, 83, 67, 55, 53, 26, 48, 39, 86, 80, 58, 52, 36, 22, 50, 83, 33, 88, 73, 47, 93, 98, 78, 39, 45, 49, 33, 10, 0, 40, 91, 33, 89, 87, 0, 26, 93, 87, 28, 64, 41, 21, 59, 52, 85, 12, 13, 75, 82, 67, 37, 70, 91, 87, 28, 43, 37, 54, 89, 18, 87, 42, 42, 93, 41, 62, 90, 62, 66, 43, 53, 29, 11, 31, 23, 50, 39, 43, 17, 42, 52, 80, 9, 50, 40, 20, 16, 16, 56, 38, 95, 84, 60, 17, 57, 98, 55, 25, 78, 86, 22, 71, 10, 30, 84, 53, 18, 93, 87, 35, 32, 66, 89, 24, 94, 45, 10, 22, 31, 35, 52, 51, 76, 86, 91, 12, 70, 59, 42, 34, 33, 45, 57, 55, 30, 78, 21, 0, 87, 20, 42, 61, 55, 18, 59, 64, 33, 37, 22, 19, 87, 58, 23, 91, 32, 78, 29, 92, 14, 68, 29, 60, 41, 85, 50, 35, 52, 56, 81, 65, 58, 86, 87, 90, 33, 36, 31, 30, 23, 0, 68, 30, 28, 29, 38, 41, 14, 33, 37, 77, 42, 52, 75, 32, 11, 82, 88, 18, 90, 11, 29, 84, 34, 61, 87, 64, 13, 84, 31, 43, 18, 65, 32, 33, 69, 66, 0, 89, 23, 9, 36, 36, 52, 58, 36, 52, 0, 38, 58, 86, 60, 40, 79, 90, 52, 12, 68, 48, 32, 41, 23, 68, 32, 91, 24, 34, 35, 21, 32, 80, 86, 91, 20, 14, 53, 26, 33, 86, 48, 66, 86, 55, 79, 78, 83, 78, 21, 0, 76, 79, 32, 89, 63, 20, 52, 57, 79, 62, 35, 34, 36, 24, 84, 59, 97, 81, 13, 95, 14, 93, 40, 93, 54, 75, 91, 84, 56, 18, 19, 87, 44, 74, 17, 82, 70, 49, 51, 29, 72, 70, 59, 56, 73, 80, 80, 81, 25, 79, 79, 83, 87, 86, 70, 10, 23, 47, 91, 41, 75, 55, 88, 91, 87, 92, 65, 44, 88, 73, 13, 68, 98, 85, 37, 70, 30, 91, 27, 67, 37, 0, 88, 72, 87, 89, 24, 76, 81, 38, 21, 81, 39, 25, 12, 24, 38, 5, 70, 36, 86, 59, 35, 32, 32, 91, 0, 27, 20, 85, 58, 89, 85, 89, 78, 12, 8, 88, 10, 90, 79, 84, 57, 77, 48, 16, 91, 47, 13, 11, 29, 10, 41, 16, 39, 0, 91, 25, 17, 38, 60, 2, 41, 19, 52, 50, 40, 0, 8, 21, 67, 34, 26, 16, 88, 86, 85, 61, 85, 43, 85, 97, 40, 48, 14, 55, 79, 41, 45, 46, 89, 55, 36, 42, 11, 15, 36, 40, 36, 22, 39, 60, 30, 93, 47, 23, 88, 57, 7, 32, 85, 18, 55, 84, 46, 82, 58, 88, 76, 73, 60, 87, 88, 26, 15, 38, 94, 16, 78, 65, 85, 87, 0, 47, 12, 87, 46, 15, 43, 27, 70, 33, 42, 43, 16, 19, 68, 0, 87, 37, 30, 7, 42, 26, 32, 25, 86, 90, 91, 86, 80, 50, 85, 22, 84, 72, 60, 73, 86, 93, 66, 25, 89, 68, 37, 34, 41, 90, 55, 81, 36, 43, 44, 83, 47, 13, 56, 58, 48, 34, 27, 55, 54, 0, 63, 58, 39, 90, 78, 73, 39, 88, 61, 79, 18, 64, 84, 50, 67, 91, 46, 18, 81, 24, 90, 0, 11, 24, 90, 85, 92, 87, 64, 57, 20, 83, 31, 0, 78, 44, 43, 12, 10, 14, 78, 52, 61, 28, 0, 30, 79, 29, 59, 75, 37, 38, 30, 32, 39, 75, 89, 30, 52, 21, 48, 90, 81, 23, 91, 18, 49, 41, 38, 43, 14, 32, 82, 89, 84, 70, 38, 89, 15, 0, 48, 25, 68, 88, 15, 86, 57, 24, 86, 92, 0, 47, 52, 79, 82, 83, 58, 30, 26, 30, 88, 76, 56, 83, 8, 95, 92, 90, 84, 89, 70, 63, 62, 35, 0, 15, 63, 0, 49, 13, 94, 90, 24, 66, 36, 59, 73, 31, 32, 51, 79, 54, 60, 36, 85, 35, 63, 5, 85, 53, 21, 32, 84, 89, 33, 18, 81, 44, 88, 59, 79, 86, 3, 33, 28, 73, 11, 36, 67, 17, 86, 0, 0, 26, 89, 12, 46, 88, 91, 53, 21, 14, 61, 0, 24, 0, 0, 79, 88, 0, 34, 67, 93, 0, 45, 36, 27, 61, 50, 52, 18, 14, 64, 18, 37, 50, 35, 66, 85, 29, 30, 32, 24, 29, 73, 31, 56, 19, 61, 62, 18, 92, 28, 32, 86, 27, 39, 82, 49, 55, 56, 47, 36, 91, 22, 67, 34, 46, 33, 7, 48, 84, 91, 22, 21, 87, 64, 42, 45, 37, 41, 89, 70, 43, 25, 61, 41, 80, 50, 24, 24, 71, 89, 93, 92, 94, 37, 84, 87, 94, 80, 81, 91, 29, 50, 68, 34, 58, 83, 23, 15, 36, 75, 41, 59, 42, 31, 33, 47, 62, 89, 76, 66, 88, 63, 60, 43, 29, 51, 71, 63, 76, 27, 18, 12, 87, 45, 32, 36, 39, 76, 43, 92, 26, 44, 88, 24, 43, 43, 0, 11, 0, 50, 81, 21, 86, 83, 28, 33, 87, 73, 86, 72, 44, 85, 45, 24, 83, 37, 82, 20, 63, 87, 33, 87, 0, 81, 86, 38, 68, 31, 0, 86, 11, 31, 57, 81, 65, 21, 90, 49, 45, 19, 13, 34, 43, 30, 32, 53, 35, 67, 21, 43, 0, 88, 31, 48, 75, 83, 18, 92, 87, 22, 0, 83, 63, 62, 14, 57, 92, 26, 63, 37, 84, 56, 29, 49, 43, 28, 31, 44, 88, 98, 57, 70, 11, 79, 43, 25, 48, 87, 52, 50, 91, 51, 39, 37, 54, 38, 50, 31, 50, 20, 10, 25, 84, 2, 19, 62, 82, 52, 50, 0, 49, 37, 49, 86, 51, 55, 17, 87, 32, 54, 46, 68, 42, 23, 49, 50, 28, 41, 45, 68, 30, 27, 75, 17, 90, 29, 21, 16, 24, 35, 18, 84, 20, 88, 21, 39, 74, 91, 11, 86, 93, 67, 0, 91, 19, 77, 93, 61, 11, 60, 90, 90, 39, 81, 44, 58, 19, 50, 66, 30, 68, 51, 91, 40, 53, 20, 25, 37, 11, 0, 87, 92, 75, 95, 56, 63, 27, 45, 91, 59, 14, 70, 93, 44, 49, 70, 85, 90, 54, 27, 0, 84, 58, 56, 14, 78, 14, 30, 41, 34, 0, 73, 29, 25, 23, 74, 73, 62, 19, 58, 13, 0, 91, 22, 21, 47, 87, 25, 18, 74, 37, 90, 71, 59, 74, 30, 60, 22, 13, 38, 54, 85, 35, 25, 98, 42, 89, 94, 40, 62, 68, 76, 87, 93, 90, 49, 89, 49, 0, 89, 40, 82, 54, 61, 28, 30, 99, 23, 87, 42, 30, 89, 29, 15, 89, 31, 17, 67, 86, 50, 28, 56, 84, 51, 5, 31, 32, 28, 37, 36, 58, 77, 38, 33, 92, 50, 78, 17, 66, 23, 32, 86, 45, 72, 44, 65, 20, 67, 89, 41, 91, 50, 47, 28, 35, 91, 42, 87, 11, 42, 61, 55, 50, 24, 15, 84, 40, 0, 75, 73, 44, 33, 34, 33, 76, 52, 21, 54, 19, 34, 27, 87, 0, 40, 37, 28, 0, 0, 88, 10, 54, 75, 18, 36, 76, 54, 73, 47, 74, 13, 29, 39, 92, 28, 52, 36, 28, 36, 0, 90, 49, 31, 31, 27, 49, 57, 53, 31, 61, 27, 85, 24, 46, 19, 32, 49, 85, 87, 37, 38, 21, 0, 74, 59, 40, 36, 55, 91, 81, 43, 58, 38, 49, 39, 85, 50, 89, 90, 17, 69, 84, 88, 65, 27, 89, 37, 52, 19, 50, 32, 64, 92, 91, 100, 77, 75, 80, 34, 48, 11, 92, 27, 90, 30, 86, 24, 46, 78, 23, 25, 56, 78, 86, 50, 79, 37, 46, 40, 26, 75, 86, 43, 49, 48, 89, 31, 35, 60, 73, 37, 0, 33, 90, 83, 41, 30, 22, 80, 31, 68, 38, 19, 22, 60, 65, 67, 61, 22, 0, 78, 22, 86, 42, 63, 50, 69, 55, 88, 34, 89, 52, 36, 31, 42, 43, 24, 77, 39, 94, 0, 64, 87, 88, 0, 47, 24, 16, 93, 24, 62, 67, 85, 22, 56, 61, 32, 86, 33, 93, 37, 61, 25, 48, 35, 93, 69, 54, 0, 47, 20, 24, 93, 20, 31, 83, 43, 10, 94, 40, 88, 91, 74, 64, 18, 22, 0, 26, 56, 88, 70, 44, 20, 50, 27, 26, 20, 45, 88, 16, 46, 0, 11, 65, 38, 85, 22, 52, 79, 28, 11, 33, 90, 50, 33, 75, 90, 75, 53, 76, 60, 71, 32, 88, 46, 47, 87, 46, 28, 82, 89, 31, 87, 19, 81, 24, 38, 44, 28, 96, 54, 33, 32, 52, 68, 45, 29, 17, 61, 62, 61, 82, 92, 50, 72, 88, 83, 55, 11, 41, 15, 59, 28, 34, 60, 70, 59, 65, 97, 38, 36, 89, 91, 13, 83, 61, 92, 88, 59, 89, 91, 44, 63, 32, 56, 44, 91, 90, 52, 91, 27, 11, 14, 39, 77, 47, 52, 86, 0, 70, 94, 27, 96, 63, 0, 40, 87, 57, 28, 92, 29, 63, 47, 35, 54, 69, 40, 90, 69, 76, 37, 92, 82, 71, 70, 36, 44, 56, 28, 60, 30, 84, 62, 17, 57, 32, 68, 39, 87, 60, 88, 49, 55, 82, 52, 45, 62, 88, 0, 45, 78, 13, 34, 45, 88, 21, 27, 15, 34, 67, 69, 82, 72, 91, 68, 29, 56, 48, 86, 35, 45, 18, 83, 81, 0, 87, 49, 50, 44, 87, 91, 55, 12, 66, 43, 58, 39, 83, 86, 11, 35, 29, 80, 64, 86, 84, 90, 43, 58, 64, 42, 65, 18, 22, 0, 25, 27, 32, 91, 62, 44, 55, 46, 81, 23, 12, 31, 59, 15, 43, 46, 49, 20, 38, 82, 14, 93, 20, 98, 67, 13, 91, 89, 14, 60, 55, 54, 90, 22, 49, 34, 66, 85, 27, 40, 57, 22, 29, 22, 44, 13, 25, 6, 84, 13, 74, 23, 86, 42, 42, 55, 40, 29, 91, 64, 73, 91, 85, 26, 93, 58, 86, 85, 91, 27, 65, 85, 64, 92, 23, 83, 64, 67, 25, 21, 46, 73, 34, 23, 84, 59, 87, 38, 39, 64, 86, 33, 58, 78, 89, 25, 89, 32, 69, 95, 92, 43, 49, 75, 79, 92, 74, 71, 76, 37, 87, 37, 29, 34, 30, 67, 39, 42, 91, 11, 34, 87, 60, 85, 78, 83, 91, 86, 42, 64, 95, 58, 51, 64, 47, 18, 13, 23, 87, 32, 30, 86, 12, 84, 55, 92, 63, 93, 24, 15, 28, 84, 71, 0, 88, 54, 19, 54, 89, 3, 86, 86, 25, 85, 59, 15, 20, 82, 14, 0, 81, 44, 64, 23, 15, 11, 51, 12, 81, 65, 20, 36, 75, 86, 90, 89, 95, 42, 60, 6, 50, 35, 88, 87, 52, 13, 88, 52, 90, 86, 38, 37, 81, 32, 24, 86, 75, 17, 56, 96, 55, 15, 86, 72, 93, 78, 16, 36, 39, 84, 84, 34, 48, 97, 36, 58, 36, 42, 13, 77, 90, 91, 64, 24, 60, 94, 45, 89, 92, 0, 90, 92, 89, 87, 85, 52, 0, 89, 25, 84, 30, 65, 47, 47, 28, 46, 89, 87, 43, 20, 0, 65, 15, 94, 0, 68, 33, 16, 45, 44, 33, 7, 66, 21, 41, 85, 44, 57, 65, 87, 53, 65, 49, 30, 71, 83, 92, 64, 93, 20, 46, 74, 68, 43, 4, 88, 2, 95, 46, 48, 56, 91, 65, 75, 53, 63, 18, 29, 0, 22, 29, 84, 33, 14, 52, 23, 65, 40, 80, 57, 84, 82, 45, 13, 28, 42, 76, 86, 23, 33, 90, 52, 57, 82, 13, 85, 27, 89, 19, 46, 37, 92, 56, 92, 43, 53, 0, 89, 58, 42, 41, 26, 34, 18, 55, 50, 48, 20, 18, 41, 23, 87, 12, 51, 68, 52, 21, 22, 0, 16, 28, 32, 48, 81, 71, 47, 82, 52, 37, 82, 21, 24, 14, 54, 76, 92, 42, 71, 52, 54, 83, 80, 77, 12, 85, 36, 43, 88, 8, 68, 52, 73, 21, 35, 45, 85, 83, 20, 83, 8, 49, 53, 55, 45, 14, 47, 91, 11, 35, 91, 13, 33, 17, 87, 39, 91, 57, 76, 27, 42, 84, 83, 60, 11, 9, 63, 90, 46, 38, 62, 11, 10, 88, 86, 74, 70, 69, 9, 36, 49, 81, 77, 14, 28, 91, 52, 67, 68, 88, 41, 20, 83, 70, 21, 93, 95, 12, 13, 81, 88, 94, 0, 68, 14, 63, 93, 75, 0, 25, 48, 25, 55, 86, 0, 27, 31, 45, 59, 72, 28, 59, 59, 73, 69, 89, 93, 24, 0, 78, 86, 88, 90, 66, 65, 19, 17, 18, 86, 36, 37, 4, 98, 24, 65, 87, 46, 82, 89, 30, 38, 49, 79, 45, 39, 11, 38, 89, 85, 89, 90, 88, 74, 87, 68, 0, 41, 20, 92, 25, 92, 91, 58, 41, 36, 62, 58, 39, 22, 53, 72, 18, 59, 52, 41, 79, 19, 32, 43, 12, 46, 0, 98, 33, 49, 40, 23, 95, 0, 13, 71, 16, 93, 10, 88, 0, 26, 19, 48, 61, 59, 13, 30, 70, 67, 51, 85, 93, 36, 88, 14, 76, 81, 86, 45, 35, 59, 92, 73, 51, 40, 29, 72, 68, 87, 29, 83, 0, 20, 50, 62, 93, 88, 12, 96, 0, 19, 84, 57, 86, 32, 50, 88, 61, 72, 70, 21, 39, 89, 39, 44, 20, 58, 42, 0, 11, 91, 73, 38, 19, 36, 25, 57, 33, 38, 68, 39, 87, 13, 38, 43, 45, 34, 34, 48, 78, 0, 23, 87, 37, 42, 42, 39, 59, 73, 21, 63, 60, 87, 52, 93, 43, 40, 47, 55, 37, 3, 62, 89, 89, 21, 86, 25, 29, 51, 48, 31, 0, 66, 21, 99, 23, 89, 81, 81, 86, 48, 89, 40, 54, 94, 56, 0, 21, 67, 51, 32, 55, 86, 46, 89, 18, 92, 42, 53, 76, 48, 61, 80, 63, 6, 68, 34, 88, 29, 32, 27, 93, 28, 33, 18, 72, 85, 85, 34, 48, 89, 33, 95, 49, 16, 17, 79, 58, 64, 89, 79, 40, 104, 75, 85, 57, 25, 12, 26, 72, 87, 69, 32, 89, 64, 25, 51, 86, 37, 48, 94, 90, 57, 11, 28, 38, 55, 92, 72, 36, 0, 32, 61, 29, 24, 13, 22, 59, 48, 62, 65, 36, 40, 58, 98, 59, 85, 43, 18, 20, 24, 27, 38, 24, 62, 80, 77, 19, 49, 67, 24, 66, 0, 81, 37, 46, 86, 91, 14, 29, 20, 34, 27, 92, 96, 88, 44, 88, 61, 12, 66, 66, 26, 30, 14, 41, 39, 92, 0, 69, 27, 9, 33, 59, 71, 66, 14, 91, 44, 81, 81, 83, 51, 38, 0, 30, 0, 31, 37, 29, 42, 27, 10, 77, 49, 0, 38, 25, 19, 81, 24, 37, 88, 39, 58, 56, 7, 89, 0, 95, 56, 30, 17, 0, 56, 53, 56, 16, 80, 14, 87, 16, 61, 18, 89, 67, 69, 42, 76, 12, 81, 90, 50, 11, 28, 29, 23, 0, 17, 51, 34, 69, 37, 49, 86, 68, 24, 31, 66, 15, 71, 33, 87, 11, 0, 0, 43, 27, 36, 87, 83, 67, 29, 25, 88, 49, 90, 56, 73, 52, 82, 36, 21, 54, 87, 42, 89, 21, 85, 38, 26, 52, 83, 30, 0, 81, 86, 90, 58, 83, 90, 32, 60, 36, 18, 23, 80, 79, 42, 86, 48, 22, 0, 17, 89, 85, 10, 91, 16, 28, 55, 82, 90, 90, 36, 40, 89, 9, 82, 0, 46, 89, 85, 92, 20, 22, 46, 91, 32, 63, 88, 21, 58, 54, 37, 36, 39, 29, 7, 32, 89, 37, 72, 35, 69, 34, 8, 62, 52, 19, 36, 96, 67, 94, 89, 39, 42, 55, 81, 42, 51, 30, 23, 38, 89, 10, 60, 30, 44, 87, 86, 68, 88, 24, 93, 94, 57, 18, 86, 16, 87, 93, 28, 42, 10, 68, 0, 31, 40, 17, 96, 39, 51, 23, 0, 88, 62, 87, 47, 37, 68, 75, 58, 44, 16, 90, 51, 71, 69, 46, 34, 89, 45, 30, 52, 16, 47, 17, 48, 89, 25, 42, 93, 89, 33, 67, 62, 71, 60, 42, 44, 39, 76, 38, 62, 32, 52, 29, 12, 11, 28, 22, 14, 48, 62, 20, 32, 93, 91, 57, 43, 71, 14, 54, 78, 66, 85, 93, 30, 29, 90, 65, 59, 11, 16, 26, 75, 76, 35, 41, 17, 43, 87, 58, 61, 88, 84, 87, 54, 19, 48, 72, 70, 45, 62, 57, 94, 23, 67, 89, 83, 48, 37, 0, 70, 66, 16, 27, 73, 89, 34, 87, 39, 48, 63, 66, 52, 84, 65, 83, 49, 68, 42, 0, 79, 91, 28, 22, 56, 87, 65, 12, 33, 70, 93, 56, 64, 29, 24, 78, 53, 42, 74, 84, 31, 92, 16, 0, 86, 27, 24, 86, 57, 37, 84, 70, 93, 21, 5, 77, 74, 40, 42, 93, 64, 30, 82, 0, 89, 59, 0, 88, 41, 17, 42, 9, 0, 21, 23, 38, 27, 72, 52, 24, 18, 37, 89, 57, 90, 62, 16, 17, 10, 0, 88, 58, 85, 34, 78, 79, 71, 0, 84, 85, 25, 0, 15, 13, 90, 13, 24, 16, 33, 71, 87, 11, 31, 28, 78, 15, 91, 41, 87, 23, 93, 0, 34, 35, 88, 50, 55, 71, 70, 95, 53, 73, 36, 28, 0, 15, 36, 51, 9, 65, 56, 75, 70, 43, 52, 60, 52, 20, 25, 46, 86, 85, 66, 55, 21, 88, 86, 51, 69, 33, 29, 38, 49, 67, 36, 52, 82, 32, 91, 19, 34, 57, 62, 37, 12, 40, 25, 71, 52, 73, 59, 51, 31, 49, 24, 83, 39, 25, 34, 44, 90, 30, 55, 23, 41, 52, 30, 51, 80, 34, 36, 50, 62, 58, 62, 11, 47, 83, 21, 81, 42, 88, 74, 43, 33, 91, 83, 40, 60, 37, 28, 32, 23, 35, 38, 31, 24, 57, 76, 82, 66, 47, 60, 48, 24, 93, 14, 90, 53, 44, 90, 57, 32, 83, 95, 26, 43, 54, 43, 47, 78, 89, 51, 39, 48, 45, 69, 75, 91, 66, 71, 58, 79, 40, 89, 58, 42, 88, 86, 0, 82, 96, 18, 20, 0, 22, 94, 80, 54, 63, 88, 48, 78, 27, 52, 78, 59, 43, 61, 27, 90, 35, 34, 36, 94, 39, 77, 44, 13, 48, 20, 89, 83, 16, 0, 26, 63, 84, 60, 73, 32, 83, 35, 48, 79, 25, 65, 91, 16, 31, 73, 48, 59, 23, 88, 57, 78, 77, 19, 12, 85, 43, 68, 22, 66, 74, 9, 40, 32, 21, 24, 11, 59, 45, 42, 43, 93, 43, 41, 71, 35, 28, 0, 94, 43, 90, 81, 78, 56, 48, 72, 71, 78, 55, 30, 81, 44, 62, 88, 65, 29, 91, 83, 76, 43, 13, 55, 0, 28, 55, 50, 48, 27, 42, 84, 89, 33, 29, 69, 11, 75, 76, 26, 17, 20, 59, 83, 55, 86, 85, 88, 52, 76, 85, 9, 80, 57, 89, 63, 35, 83, 79, 70, 89, 67, 90, 49, 67, 40, 17, 19, 44, 59, 64, 88, 27, 76, 26, 85, 66, 67, 94, 45, 88, 30, 52, 0, 25, 85, 87, 71, 62, 0, 0, 93, 70, 0, 81, 41, 42, 34, 64, 45, 87, 91, 26, 14, 90, 58, 11, 87, 48, 15, 32, 47, 55, 0, 16, 80, 89, 27, 87, 89, 64, 52, 38, 54, 96, 50, 87, 32, 0, 0, 54, 87, 89, 97, 88, 72, 67, 80, 17, 85, 11, 45, 53, 35, 56, 15, 34, 69, 81, 70, 94, 60, 81, 12, 18, 16, 38, 79, 9, 50, 89, 28, 49, 87, 89, 75, 49, 73, 38, 64, 75, 27, 90, 35, 56, 64, 76, 66, 31, 57, 43, 92, 84, 61, 80, 92, 45, 50, 56, 89, 74, 76, 17, 26, 50, 85, 87, 19, 46, 55, 71, 21, 18, 43, 17, 37, 13, 54, 51, 0, 88, 70, 93, 93, 86, 83, 23, 69, 71, 9, 14, 40, 59, 96, 87, 50, 89, 53, 89, 65, 20, 59, 9, 85, 66, 70, 90, 97, 60, 9, 51, 92, 35, 68, 49, 57, 61, 90, 13, 86, 61, 41, 91, 78, 84, 57, 54, 80, 80, 17, 56, 78, 0, 84, 22, 85, 0, 89, 36, 30, 21, 30, 33, 97, 79, 45, 86, 71, 48, 32, 74, 91, 44, 69, 60, 91, 87, 28, 83, 85, 23, 58, 54, 70, 19, 30, 85, 86, 88, 81, 37, 64, 11, 76, 41, 90, 38, 86, 40, 43, 0, 43, 21, 18, 71, 38, 28, 78, 17, 18, 47, 86, 35, 74, 48, 50, 84, 58, 0, 22, 90, 20, 87, 45, 25, 21, 20, 35, 28, 15, 60, 32, 42, 61, 98, 57, 59, 59, 92, 47, 90, 27, 16, 31, 95, 22, 89, 68, 61, 90, 42, 25, 85, 46, 64, 59, 82, 48, 37, 46, 15, 43, 74, 47, 63, 87, 69, 48, 36, 66, 83, 61, 35, 56, 35, 64, 85, 39, 31, 36, 53, 57, 55, 9, 25, 90, 25, 74, 34, 76, 81, 71, 0, 38, 64, 24, 27, 36, 64, 92, 54, 57, 83, 26, 65, 34, 75, 13, 21, 73, 46, 12, 15, 34, 24, 30, 94, 86, 40, 87, 28, 27, 58, 54, 52, 19, 8, 28, 87, 58, 20, 78, 22, 48, 28, 42, 11, 83, 64, 41, 0, 54, 88, 37, 77, 42, 10, 56, 87, 24, 53, 32, 85, 88, 87, 16, 18, 62, 90, 18, 31, 94, 86, 16, 82, 99, 94, 70, 58, 28, 56, 46, 22, 27, 89, 31, 15, 55, 66, 0, 24, 16, 36, 27, 53, 30, 38, 48, 43, 86, 75, 76, 24, 90, 29, 35, 48, 91, 52, 55, 61, 69, 27, 48, 87, 63, 84, 16, 18, 46, 90, 23, 17, 76, 85, 0, 17, 27, 77, 13, 53, 31, 50, 20, 85, 37, 86, 40, 27, 66, 51, 87, 20, 38, 25, 15, 96, 14, 86, 88, 91, 69, 87, 0, 67, 43, 0, 50, 23, 71, 48, 32, 40, 60, 90, 85, 43, 45, 32, 28, 81, 58, 87, 94, 74, 82, 62, 86, 58, 66, 86, 46, 27, 20, 58, 89, 58, 77, 52, 87, 31, 28, 51, 86, 64, 90, 86, 87, 36, 19, 88, 81, 17, 40, 22, 33, 34, 13, 85, 62, 14, 35, 88, 87, 47, 59, 42, 44, 37, 25, 89, 10, 25, 92, 58, 92, 0, 34, 42, 38, 84, 63, 88, 22, 43, 52, 61, 84, 20, 57, 34, 0, 39, 98, 37, 16, 33, 80, 54, 14, 51, 89, 47, 50, 21, 61, 82, 92, 17, 79, 68, 69, 26, 99, 29, 61, 24, 30, 78, 41, 42, 79, 80, 51, 54, 99, 83, 86, 33, 33, 13, 44, 81, 0, 75, 42, 39, 26, 87, 90, 86, 27, 17, 0, 0, 61, 13, 22, 26, 38, 77, 23, 31, 25, 82, 18, 90, 50, 42, 15, 43, 77, 19, 90, 86, 78, 51, 85, 68, 77, 56, 65, 49, 88, 58, 57, 93, 78, 0, 83, 63, 68, 83, 26, 19, 80, 87, 27, 91, 10, 79, 48, 46, 46, 33, 78, 89, 91, 63, 87, 87, 47, 94, 26, 26, 85, 36, 58, 0, 75, 11, 25, 50, 67, 0, 92, 57, 35, 92, 27, 25, 9, 66, 69, 90, 79, 35, 31, 27, 68, 57, 85, 18, 57, 58, 45, 0, 23, 25, 39, 47, 86, 55, 63, 61, 4, 25, 0, 17, 48, 40, 69, 67, 46, 66, 86, 97, 10, 32, 52, 12, 56, 96, 45, 57, 12, 0, 28, 43, 50, 64, 89, 15, 16, 94, 88, 36, 52, 81, 0, 95, 30, 30, 31, 43, 61, 49, 57, 81, 92, 43, 84, 15, 21, 21, 32, 84, 44, 61, 47, 21, 70, 55, 38, 49, 47, 38, 79, 38, 40, 0, 45, 18, 44, 86, 29, 63, 50, 77, 84, 79, 8, 14, 82, 29, 61, 95, 76, 86, 81, 47, 76, 91, 41, 88, 0, 94, 57, 11, 83, 92, 88, 85, 86, 89, 81, 11, 52, 60, 56, 29, 94, 36, 31, 15, 67, 87, 97, 21, 45, 74, 53, 67, 16, 43, 65, 96, 24, 16, 80, 39, 84, 9, 12, 59, 70, 28, 41, 24, 26, 25, 0, 55, 15, 12, 59, 39, 93, 70, 28, 25, 33, 78, 59, 21, 54, 59, 75, 23, 11, 33, 60, 87, 85, 18, 69, 54, 0, 33, 17, 51, 38, 76, 42, 38, 30, 91, 52, 92, 31, 84, 49, 86, 23, 30, 89, 66, 28, 83, 85, 60, 55, 87, 38, 15, 47, 25, 13, 28, 37, 91, 63, 49, 86, 75, 84, 56, 22, 92, 10, 54, 48, 72, 39, 31, 8, 18, 90, 78, 44, 37, 88, 88, 33, 19, 43, 43, 46, 36, 35, 12, 48, 85, 59, 33, 73, 20, 35, 52, 56, 50, 11, 67, 50, 56, 82, 19, 46, 78, 89, 40, 74, 76, 87, 10, 85, 22, 72, 35, 32, 59, 90, 68, 16, 0, 58, 47, 92, 25, 12, 81, 49, 84, 83, 95, 87, 21, 87, 84, 43, 0, 39, 57, 70, 12, 53, 73, 87, 79, 31, 64, 60, 47, 61, 86, 61, 92, 89, 89, 63, 13, 30, 38, 53, 37, 79, 84, 28, 30, 43, 86, 33, 63, 88, 56, 40, 32, 19, 84, 89, 29, 93, 85, 85, 65, 83, 87, 25, 17, 91, 19, 43, 26, 25, 44, 33, 28, 28, 50, 34, 11, 88, 36, 70, 38, 31, 88, 23, 0, 79, 43, 54, 21, 49, 30, 76, 77, 30, 80, 43, 31, 35, 85, 54, 63, 88, 56, 82, 46, 25, 58, 43, 19, 55, 35, 0, 22, 19, 59, 43, 34, 49, 48, 11, 72, 88, 20, 25, 10, 93, 56, 36, 0, 88, 74, 39, 13, 59, 49, 85, 50, 36, 45, 25, 81, 91, 36, 42, 91, 90, 9, 56, 15, 31, 95, 61, 28, 41, 92, 89, 57, 91, 24, 60, 88, 72, 0, 84, 0, 96, 82, 69, 87, 88, 38, 32, 30, 13, 95, 67, 50, 38, 84, 23, 0, 39, 19, 47, 33, 85, 89, 0, 89, 51, 45, 31, 49, 30, 27, 16, 19, 11, 95, 58, 39, 93, 4, 0, 90, 41, 57, 0, 90, 30, 23, 93, 20, 51, 18, 62, 55, 63, 40, 54, 88, 33, 43, 4, 34, 73, 69, 21, 31, 66, 88, 36, 90, 44, 91, 59, 0, 5, 60, 84, 91, 88, 60, 43, 26, 24, 42, 71, 22, 78, 38, 41, 89, 8, 82, 3, 61, 82, 50, 47, 35, 58, 42, 40, 77, 71, 31, 30, 61, 43, 86, 53, 91, 55, 16, 70, 51, 54, 37, 36, 68, 58, 57, 70, 34, 80, 77, 47, 61, 91, 53, 64, 91, 35, 48, 13, 41, 49, 67, 15, 43, 94, 23, 36, 8, 45, 70, 28, 61, 42, 96, 33, 26, 46, 49, 91, 89, 88, 96, 60, 21, 0, 89, 33, 73, 65, 87, 89, 17, 86, 39, 89, 41, 35, 54, 19, 78, 28, 86, 58, 0, 46, 63, 0, 25, 59, 92, 58, 61, 61, 85, 12, 27, 58, 60, 84, 77, 36, 85, 67, 88, 89, 18, 30, 10, 34, 26, 6, 71, 84, 81, 60, 57, 84, 86, 92, 59, 85, 79, 32, 43, 31, 89, 33, 92, 57, 26, 73, 51, 86, 37, 79, 57, 32, 30, 24, 38, 74, 74, 85, 58, 38, 21, 89, 45, 51, 80, 64, 59, 32, 0, 27, 93, 0, 21, 63, 0, 41, 56, 20, 30, 45, 30, 40, 63, 53, 91, 65, 60, 35, 69, 22, 44, 59, 51, 24, 25, 48, 49, 75, 26, 67, 42, 67, 49, 87, 27, 91, 35, 89, 24, 38, 59, 90, 36, 64, 40, 47, 88, 36, 84, 84, 56, 49, 48, 0, 12, 24, 13, 35, 63, 0, 43, 86, 88, 92, 76, 0, 41, 88, 52, 91, 65, 14, 75, 18, 51, 51, 24, 10, 65, 93, 35, 31, 65, 28, 88, 80, 93, 71, 90, 40, 67, 60, 34, 70, 2, 94, 43, 10, 94, 88, 15, 44, 27, 33, 95, 61, 38, 42, 66, 15, 29, 33, 42, 37, 53, 27, 22, 38, 98, 36, 21, 15, 90, 40, 44, 60, 32, 47, 42, 39, 60, 43, 39, 31, 22, 28, 10, 91, 85, 62, 42, 29, 39, 78, 55, 46, 14, 94, 56, 39, 88, 41, 14, 55, 33, 27, 49, 89, 91, 40, 8, 92, 38, 92, 88, 85, 42, 37, 55, 67, 70, 65, 51, 83, 22, 88, 24, 92, 46, 54, 32, 7, 15, 47, 44, 58, 54, 82, 92, 46, 71, 46, 33, 57, 41, 47, 21, 74, 34, 88, 29, 90, 35, 18, 22, 51, 26, 79, 41, 86, 10, 84, 88, 86, 33, 0, 78, 0, 45, 7, 55, 40, 85, 75, 66, 52, 12, 39, 59, 52, 44, 0, 26, 28, 61, 53, 50, 28, 30, 49, 62, 90, 86, 71, 72, 15, 86, 50, 47, 61, 19, 13, 38, 65, 54, 89, 32, 36, 48, 91, 52, 69, 0, 11, 48, 76, 66, 19, 93, 83, 53, 0, 21, 64, 84, 16, 79, 0, 64, 58, 13, 10, 11, 58, 86, 33, 56, 47, 79, 21, 40, 16, 53, 71, 90, 79, 85, 80, 89, 92, 24, 89, 66, 65, 34, 82, 34, 27, 16, 67, 63, 59, 24, 84, 51, 57, 72, 89, 38, 90, 76, 86, 65, 34, 93, 94, 55, 31, 44, 20, 51, 39, 82, 27, 13, 91, 13, 56, 28, 42, 75, 65, 68, 30, 87, 61, 29, 37, 37, 34, 50, 80, 70, 50, 12, 19, 59, 56, 0, 45, 67, 44, 89, 58, 18, 64, 35, 82, 45, 89, 0, 25, 83, 47, 18, 85, 28, 94, 89, 79, 49, 88, 69, 64, 44, 23, 59, 57, 54, 68, 17, 40, 25, 77, 49, 82, 54, 95, 0, 89, 38, 17, 15, 94, 28, 86, 83, 0, 34, 45, 43, 20, 39, 89, 65, 23, 41, 0, 50, 53, 42, 74, 13, 36, 47, 73, 0, 0, 91, 52, 12, 11, 63, 24, 34, 54, 47, 78, 37, 53, 30, 70, 49, 32, 35, 53, 88, 60, 86, 54, 86, 94, 75, 86, 68, 63, 28, 8, 20, 55, 13, 55, 89, 51, 67, 56, 91, 55, 26, 22, 0, 41, 81, 88, 50, 30, 87, 0, 0, 81, 97, 44, 57, 34, 94, 27, 23, 84, 43, 72, 55, 25, 74, 0, 89, 48, 62, 68, 27, 22, 31, 48, 85, 18, 20, 65, 62, 57, 89, 71, 53, 59, 38, 45, 37, 89, 88, 21, 72, 42, 50, 83, 41, 67, 26, 40, 40, 68, 79, 16, 33, 61, 28, 36, 84, 43, 81, 31, 87, 13, 53, 50, 41, 94, 48, 41, 91, 14, 13, 88, 0, 73, 74, 88, 31, 40, 70, 50, 0, 74, 52, 34, 34, 53, 54, 48, 89, 52, 91, 49, 86, 66, 0, 89, 56, 85, 0, 46, 0, 57, 89, 26, 44, 6, 87, 20, 23, 25, 87, 30, 0, 50, 86, 21, 39, 53, 27, 79, 90, 54, 33, 34, 89, 0, 57, 29, 64, 94, 17, 39, 16, 40, 0, 26, 11, 57, 92, 89, 28, 75, 56, 57, 27, 60, 83, 80, 0, 79, 84, 41, 17, 17, 81, 43, 83, 87, 87, 85, 31, 25, 30, 28, 38, 91, 83, 34, 0, 88, 0, 25, 46, 73, 62, 42, 57, 32, 17, 29, 16, 20, 86, 62, 89, 82, 87, 58, 69, 89, 87, 37, 30, 25, 75, 38, 30, 62, 42, 86, 0, 19, 79, 90, 86, 64, 52, 17, 19, 66, 31, 10, 62, 22, 49, 72, 80, 60, 42, 9, 85, 54, 69, 91, 32, 88, 51, 34, 52, 24, 17, 74, 50, 37, 83, 79, 27, 38, 89, 83, 86, 8, 44, 73, 26, 65, 94, 50, 80, 89, 86, 73, 40, 88, 65, 81, 86, 62, 53, 82, 88, 38, 38, 51, 30, 21, 23, 50, 33, 31, 39, 77, 55, 90, 37, 81, 0, 40, 57, 84, 17, 16, 11, 15, 23, 30, 36, 29, 13, 49, 6, 28, 81, 37, 65, 14, 80, 37, 21, 33, 0, 64, 18, 20, 31, 67, 56, 36, 88, 85, 89, 75, 57, 72, 13, 78, 86, 88, 43, 39, 35, 99, 20, 91, 55, 83, 85, 26, 16, 26, 28, 25, 101, 53, 45, 0, 81, 89, 49, 71, 81, 32, 60, 56, 36, 84, 90, 53, 13, 87, 72, 47, 33, 75, 49, 77, 57, 22, 11, 58, 88, 89, 10, 33, 60, 65, 41, 79, 94, 28, 37, 78, 93, 52, 37, 88, 54, 23, 85, 34, 27, 0, 31, 52, 55, 29, 76, 38, 27, 31, 89, 40, 53, 0, 12, 77, 84, 80, 75, 93, 26, 64, 89, 63, 86, 88, 0, 18, 61, 87, 66, 13, 88, 78, 58, 88, 96, 81, 0, 42, 22, 41, 24, 87, 94, 90, 50, 46, 23, 89, 86, 78, 28, 37, 35, 47, 89, 34, 20, 70, 92, 78, 88, 93, 48, 90, 92, 25, 61, 42, 70, 11, 25, 30, 16, 33, 82, 59, 31, 38, 23, 54, 28, 46, 51, 38, 40, 92, 93, 80, 47, 81, 58, 9, 93, 89, 83, 77, 65, 11, 84, 46, 53, 87, 57, 86, 16, 92, 42, 14, 0, 40, 62, 22, 68, 32, 12, 24, 30, 87, 20, 13, 87, 53, 31, 72, 47, 84, 43, 25, 17, 59, 26, 54, 59, 18, 18, 0, 91, 70, 57, 91, 0, 39, 39, 71, 57, 92, 0, 20, 11, 17, 89, 23, 18, 48, 86, 61, 23, 9, 35, 35, 52, 59, 28, 86, 13, 14, 44, 36, 68, 31, 30, 0, 84, 86, 17, 37, 84, 61, 37, 83, 11, 87, 92, 75, 21, 98, 91, 31, 64, 67, 32, 25, 30, 47, 17, 73, 82, 88, 68, 86, 63, 59, 62, 10, 53, 0, 44, 20, 19, 16, 47, 88, 44, 78, 26, 17, 77, 34, 61, 17, 71, 88, 60, 74, 10, 66, 87, 57, 38, 32, 71, 35, 47, 43, 49, 11, 25, 86, 31, 69, 45, 41, 83, 26, 28, 88, 88, 17, 72, 27, 20, 83, 89, 16, 52, 68, 31, 17, 45, 54, 86, 16, 42, 0, 26, 83, 87, 17, 73, 18, 0, 39, 87, 15, 91, 74, 18, 90, 79, 89, 38, 60, 88, 22, 84, 60, 24, 25, 51, 89, 81, 71, 52, 52, 65, 29, 64, 28, 91, 93, 100, 54, 46, 10, 67, 67, 82, 38, 0, 50, 61, 48, 0, 68, 85, 87, 42, 63, 68, 62, 32, 51, 32, 71, 55, 96, 49, 69, 46, 19, 86, 23, 96, 0, 0, 53, 0, 86, 71, 83, 86, 37, 39, 70, 59, 48, 86, 89, 9, 9, 38, 40, 87, 34, 0, 89, 45, 92, 39, 65, 15, 17, 17, 67, 82, 60, 34, 46, 71, 68, 74, 18, 78, 61, 83, 68, 54, 89, 84, 86, 47, 85, 71, 38, 60, 73, 69, 52, 73, 20, 80, 53, 54, 43, 87, 43, 12, 78, 64, 0, 47, 24, 41, 18, 45, 89, 14, 96, 85, 45, 89, 82, 50, 62, 90, 48, 95, 91, 65, 93, 67, 84, 88, 37, 41, 0, 64, 58, 30, 90, 31, 92, 55, 90, 80, 77, 10, 89, 100, 87, 13, 95, 53, 43, 35, 46, 40, 96, 61, 92, 68, 8, 88, 47, 79, 82, 86, 46, 62, 56, 64, 86, 38, 71, 43, 86, 29, 3, 44, 89, 29, 92, 67, 42, 32, 34, 81, 29, 58, 71, 28, 85, 71, 63, 76, 86, 0, 44, 92, 45, 19, 31, 38, 74, 58, 82, 89, 49, 88, 83, 54, 92, 88, 83, 87, 29, 51, 81, 82, 52, 62, 88, 41, 16, 0, 42, 88, 61, 96, 71, 45, 45, 68, 67, 52, 0, 69, 84, 69, 59, 59, 62, 23, 89, 62, 22, 11, 20, 27, 54, 38, 92, 50, 14, 61, 69, 28, 74, 0, 68, 21, 32, 55, 49, 94, 86, 27, 42, 88, 37, 36, 57, 23, 88, 12, 87, 33, 43, 89, 71, 67, 27, 70, 55, 38, 0, 55, 14, 85, 74, 88, 48, 0, 0, 16, 70, 41, 59, 84, 43, 63, 31, 49, 88, 56, 25, 20, 96, 58, 82, 25, 18, 69, 23, 89, 92, 89, 87, 47, 92, 39, 50, 47, 35, 18, 53, 45, 8, 18, 53, 32, 45, 18, 93, 18, 46, 90, 89, 83, 20, 48, 46, 13, 21, 10, 93, 101, 42, 80, 91, 93, 39, 69, 81, 85, 49, 30, 19, 81, 0, 90, 56, 28, 25, 89, 9, 43, 82, 46, 71, 90, 48, 40, 88, 35, 8, 92, 88, 84, 55, 87, 42, 33, 91, 63, 92, 89, 93, 37, 18, 0, 45, 49, 85, 35, 86, 67, 84, 34, 63, 35, 73, 39, 84, 87, 56, 78, 26, 86, 64, 7, 37, 86, 57, 91, 33, 20, 17, 41, 91, 23, 95, 78, 69, 15, 83, 79, 0, 10, 78, 47, 52, 90, 49, 23, 82, 51, 66, 38, 42, 96, 90, 0, 81, 30, 31, 25, 66, 18, 18, 45, 82, 77, 36, 85, 81, 60, 59, 40, 88, 13, 9, 43, 47, 18, 89, 53, 50, 55, 32, 86, 69, 50, 21, 67, 65, 72, 15, 33, 90, 32, 14, 26, 67, 45, 89, 55, 87, 80, 36, 69, 11, 90, 88, 72, 66, 87, 84, 58, 55, 54, 54, 83, 80, 86, 84, 86, 21, 31, 68, 67, 29, 32, 74, 39, 38, 67, 27, 19, 76, 82, 92, 94, 89, 62, 32, 43, 21, 27, 92, 86, 39, 44, 51, 48, 90, 56, 85, 32, 76, 20, 60, 88, 48, 83, 81, 74, 0, 52, 87, 77, 44, 24, 47, 46, 71, 92, 48, 92, 88, 13, 59, 49, 62, 39, 13, 79, 40, 40, 0, 80, 90, 87, 20, 14, 24, 92, 84, 40, 85, 42, 82, 0, 44, 93, 70, 56, 42, 83, 64, 83, 30, 24, 87, 88, 51, 91, 91, 77, 27, 66, 35, 50, 32, 87, 63, 83, 85, 92, 67, 78, 31, 81, 64, 35, 61, 66, 31, 71, 86, 53, 84, 34, 36, 14, 23, 34, 15, 35, 89, 50, 56, 93, 46, 89, 87, 52, 12, 63, 7, 40, 85, 24, 87, 39, 58, 32, 37, 63, 85, 87, 46, 49, 93, 91, 30, 8, 86, 15, 40, 19, 38, 0, 92, 79, 88, 34, 17, 58, 32, 90, 32, 16, 58, 52, 88, 16, 64, 34, 87, 78, 94, 60, 19, 69, 91, 0, 33, 45, 11, 89, 56, 92, 23, 90, 26, 46, 22, 11, 52, 27, 27, 6, 27, 22, 10, 41, 73, 55, 24, 83, 30, 50, 83, 29, 33, 64, 91, 15, 74, 0, 59, 84, 87, 52, 39, 46, 60, 34, 84, 20, 30, 40, 90, 38, 29, 15, 38, 32, 27, 42, 31, 12, 72, 28, 71, 21, 45, 79, 83, 62, 23, 74, 85, 30, 43, 86, 92, 59, 63, 90, 42, 70, 33, 90, 91, 90, 28, 54, 68, 98, 92, 39, 13, 70, 84, 0, 36, 65, 86, 15, 9, 90, 67, 29, 50, 35, 91, 88, 20, 34, 67, 44, 95, 46, 54, 65, 84, 90, 86, 87, 37, 51, 20, 56, 0, 21, 82, 91, 84, 28, 77, 61, 29, 45, 44, 46, 84, 72, 91, 61, 21, 64, 0, 89, 2, 0, 89, 95, 47, 55, 93, 79, 69, 52, 27, 82, 13, 44, 61, 85, 79, 63, 90, 93, 36, 31, 64, 92, 30, 89, 50, 0, 89, 0, 0, 18, 30, 0, 41, 87, 74, 10, 70, 81, 27, 82, 24, 35, 79, 0, 34, 16, 14, 15, 0, 40, 92, 61, 41, 0, 85, 37, 69, 71, 75, 94, 87, 94, 43, 81, 0, 21, 18, 32, 87, 85, 50, 79, 22, 88, 45, 19, 24, 80, 89, 12, 19, 66, 72, 38, 86, 42, 0, 54, 54, 29, 45, 24, 50, 96, 42, 47, 51, 46, 44, 30, 28, 21, 76, 88, 90, 54, 36, 26, 50, 80, 30, 54, 72, 75, 32, 39, 90, 85, 57, 36, 41, 93, 33, 16, 0, 55, 0, 42, 88, 0, 38, 88, 0, 64, 48, 92, 52, 51, 33, 33, 18, 10, 36, 37, 33, 91, 54, 30, 63, 68, 28, 85, 35, 51, 9, 88, 79, 80, 18, 80, 40, 39, 77, 85, 30, 101, 33, 26, 91, 9, 15, 90, 65, 77, 71, 45, 11, 88, 49, 85, 50, 47, 87, 38, 81, 44, 47, 34, 74, 90, 62, 21, 67, 73, 51, 39, 32, 70, 33, 92, 25, 40, 92, 19, 61, 33, 41, 64, 27, 24, 78, 73, 52, 86, 39, 91, 71, 0, 26, 71, 42, 72, 42, 11, 89, 59, 83, 89, 33, 54, 93, 25, 0, 29, 84, 37, 50, 53, 88, 53, 30, 91, 65, 37, 70, 97, 88, 45, 83, 68, 34, 51, 22, 90, 80, 60, 73, 92, 74, 58, 94, 27, 40, 50, 35, 67, 56, 91, 63, 50, 87, 74, 69, 90, 84, 92, 45, 94, 33, 47, 60, 23, 77, 37, 77, 43, 78, 86, 86, 33, 70, 34, 92, 51, 86, 7, 61, 31, 68, 96, 50, 45, 75, 30, 68, 61, 31, 25, 73, 47, 12, 49, 36, 52, 85, 11, 44, 32, 30, 32, 27, 65, 78, 74, 29, 56, 84, 82, 78, 60, 11, 33, 49, 93, 43, 76, 10, 63, 58, 0, 40, 35, 22, 46, 15, 61, 72, 0, 38, 58, 91, 47, 95, 79, 65, 50, 38, 89, 39, 91, 25, 57, 74, 86, 67, 37, 47, 17, 30, 39, 82, 34, 90, 87, 23, 89, 83, 80, 84, 85, 33, 37, 81, 59, 78, 20, 0, 88, 0, 89, 31, 18, 35, 89, 67, 59, 32, 57, 89, 82, 24, 86, 25, 92, 49, 84, 93, 13, 67, 21, 50, 46, 86, 11, 8, 25, 51, 66, 66, 92, 44, 56, 6, 29, 86, 76, 90, 0, 86, 53, 54, 61, 62, 49, 75, 51, 85, 0, 85, 65, 46, 89, 31, 28, 28, 49, 42, 94, 81, 66, 87, 33, 84, 66, 48, 34, 83, 86, 50, 84, 35, 44, 25, 35, 83, 55, 57, 60, 88, 85, 23, 18, 43, 89, 18, 63, 41, 72, 19, 67, 33, 51, 37, 18, 36, 53, 46, 58, 89, 61, 55, 86, 94, 77, 80, 92, 36, 27, 21, 41, 77, 79, 36, 80, 33, 53, 25, 11, 30, 51, 90, 76, 69, 53, 0, 72, 21, 89, 56, 92, 32, 80, 78, 73, 91, 90, 89, 87, 40, 92, 71, 51, 40, 67, 68, 43, 95, 43, 90, 94, 37, 61, 88, 56, 61, 53, 85, 74, 39, 63, 77, 69, 63, 38, 91, 28, 43, 28, 43, 87, 39, 86, 31, 22, 52, 95, 39, 39, 85, 76, 88, 47, 39, 57, 82, 39, 71, 15, 50, 35, 13, 49, 31, 34, 26, 23, 12, 80, 52, 49, 31, 9, 93, 77, 27, 12, 90, 84, 83, 50, 22, 9, 79, 25, 50, 49, 28, 58, 53, 57, 0, 48, 51, 93, 43, 73, 79, 13, 33, 57, 30, 26, 35, 31, 89, 78, 46, 70, 85, 92, 51, 89, 85, 38, 88, 57, 44, 83, 28, 60, 75, 72, 77, 30, 91, 31, 65, 36, 29, 65, 95, 34, 91, 61, 85, 63, 24, 38, 81, 91, 35, 29, 90, 49, 45, 50, 35, 53, 81, 92, 36, 52, 90, 76, 39, 87, 87, 32, 38, 22, 66, 93, 83, 54, 64, 40, 79, 28, 87, 91, 68, 0, 94, 47, 36, 91, 42, 10, 39, 37, 4, 22, 13, 66, 20, 84, 87, 42, 49, 54, 55, 38, 41, 35, 95, 23, 94, 78, 17, 0, 0, 23, 96, 24, 39, 83, 51, 83, 0, 27, 47, 47, 77, 8, 74, 84, 47, 66, 22, 59, 56, 0, 20, 44, 26, 95, 54, 49, 50, 64, 43, 68, 93, 94, 45, 60, 37, 30, 60, 69, 64, 73, 10, 23, 77, 22, 52, 34, 41, 68, 78, 24, 91, 88, 47, 34, 61, 72, 18, 53, 6, 0, 9, 64, 87, 80, 48, 39, 35, 36, 64, 69, 56, 39, 92, 42, 12, 89, 26, 35, 70, 86, 49, 35, 44, 72, 47, 33, 76, 33, 33, 48, 44, 95, 23, 38, 0, 45, 5, 32, 81, 44, 49, 83, 88, 0, 90, 94, 47, 37, 39, 70, 86, 67, 19, 59, 33, 72, 18, 33, 24, 46, 27, 85, 27, 14, 77, 43, 33, 53, 85, 32, 30, 35, 41, 54, 31, 56, 38, 64, 0, 23, 18, 92, 19, 33, 86, 78, 89, 27, 20, 21, 14, 56, 57, 80, 0, 51, 42, 46, 29, 43, 14, 18, 0, 56, 58, 11, 40, 12, 91, 60, 64, 26, 39, 71, 84, 40, 25, 62, 15, 45, 72, 87, 89, 60, 21, 44, 91, 65, 53, 46, 80, 25, 46, 57, 45, 74, 82, 74, 54, 42, 79, 17, 54, 38, 61, 56, 53, 81, 39, 70, 92, 25, 88, 19, 34, 49, 49, 66, 85, 11, 40, 70, 54, 57, 66, 67, 76, 19, 87, 23, 27, 58, 74, 88, 69, 32, 0, 90, 89, 62, 31, 23, 77, 76, 85, 45, 18, 21, 14, 39, 76, 90, 91, 51, 57, 70, 57, 11, 32, 27, 91, 86, 43, 42, 74, 45, 21, 11, 90, 76, 39, 76, 48, 85, 18, 92, 0, 39, 65, 32, 94, 30, 17, 45, 86, 39, 83, 45, 0, 54, 33, 41, 60, 23, 20, 53, 19, 22, 76, 67, 54, 65, 58, 17, 81, 58, 46, 38, 89, 83, 27, 84, 89, 50, 58, 43, 0, 80, 45, 0, 83, 90, 88, 82, 44, 68, 0, 85, 45, 21, 73, 20, 76, 82, 84, 34, 69, 62, 91, 30, 67, 23, 44, 82, 47, 78, 84, 82, 16, 0, 31, 32, 39, 85, 44, 74, 12, 69, 44, 80, 86, 7, 32, 33, 16, 62, 27, 65, 33, 88, 85, 32, 26, 11, 22, 29, 85, 64, 13, 45, 8, 41, 61, 46, 79, 60, 21, 90, 85, 49, 33, 25, 35, 69, 50, 60, 93, 12, 43, 60, 95, 90, 55, 80, 34, 41, 82, 82, 92, 30, 28, 85, 91, 28, 90, 19, 63, 31, 86, 72, 35, 30, 18, 20, 84, 23, 65, 21, 43, 15, 51, 69, 22, 91, 59, 89, 64, 87, 69, 0, 92, 16, 63, 64, 26, 26, 88, 37, 0, 75, 0, 95, 64, 74, 36, 8, 93, 56, 27, 41, 41, 82, 88, 47, 40, 26, 54, 28, 74, 86, 32, 86, 6, 65, 81, 55, 85, 48, 0, 53, 21, 95, 49, 0, 56, 16, 31, 36, 31, 65, 60, 17, 37, 49, 35, 71, 12, 72, 48, 0, 0, 75, 25, 61, 76, 79, 61, 22, 95, 5, 40, 80, 10, 68, 14, 85, 77, 85, 44, 96, 58, 90, 36, 23, 7, 88, 54, 36, 30, 35, 38, 35, 43, 52, 63, 41, 75, 78, 48, 87, 58, 45, 14, 36, 42, 75, 8, 24, 48, 83, 0, 67, 66, 20, 60, 74, 37, 11, 7, 21, 88, 49, 42, 37, 74, 34, 52, 73, 67, 62, 88, 39, 88, 71, 42, 0, 39, 68, 26, 53, 28, 51, 9, 65, 94, 34, 79, 0, 90, 90, 19, 63, 87, 86, 87, 82, 95, 33, 71, 103, 22, 86, 71, 20, 62, 24, 75, 43, 22, 84, 63, 90, 84, 46, 88, 48, 78, 47, 52, 58, 90, 25, 58, 0, 77, 6, 94, 25, 14, 96, 93, 11, 19, 21, 35, 40, 67, 19, 64, 40, 60, 41, 60, 33, 95, 35, 26, 26, 65, 0, 43, 32, 31, 45, 89, 79, 63, 52, 87, 87, 92, 36, 53, 21, 60, 89, 51, 40, 42, 95, 94, 49, 74, 89, 16, 24, 89, 63, 0, 69, 26, 90, 67, 31, 24, 93, 89, 73, 0, 0, 50, 4, 35, 10, 79, 48, 19, 91, 89, 34, 86, 91, 72, 65, 94, 91, 94, 92, 30, 73, 39, 14, 50, 75, 19, 85, 89, 75, 36, 88, 28, 88, 80, 95, 52, 51, 39, 49, 8, 45, 13, 16, 10, 47, 50, 78, 46, 71, 47, 20, 45, 79, 64, 78, 52, 58, 14, 14, 65, 59, 96, 0, 85, 81, 28, 58, 20, 61, 91, 72, 22, 15, 16, 47, 12, 58, 89, 76, 38, 71, 83, 42, 10, 93, 77, 57, 22, 79, 48, 37, 40, 47, 78, 49, 76, 61, 54, 94, 49, 56, 90, 90, 53, 7, 72, 12, 34, 41, 37, 98, 69, 87, 21, 26, 61, 34, 30, 74, 45, 92, 35, 88, 13, 16, 43, 46, 73, 29, 96, 76, 59, 19, 42, 65, 35, 87, 42, 0, 47, 17, 90, 82, 44, 19, 41, 87, 69, 13, 16, 91, 50, 59, 88, 12, 62, 24, 77, 88, 50, 34, 72, 27, 22, 67, 86, 89, 77, 88, 31, 88, 21, 87, 28, 13, 33, 30, 39, 58, 22, 95, 75, 90, 65, 6, 74, 26, 95, 51, 30, 54, 60, 49, 58, 48, 28, 38, 79, 43, 88, 0, 85, 29, 53, 0, 30, 38, 87, 14, 33, 30, 94, 27, 68, 17, 28, 64, 7, 27, 34, 71, 18, 46, 91, 82, 24, 18, 76, 45, 32, 39, 81, 84, 90, 90, 25, 27, 27, 86, 81, 78, 55, 28, 90, 8, 92, 42, 30, 19, 86, 72, 67, 34, 37, 33, 67, 52, 86, 78, 59, 92, 63, 16, 36, 84, 49, 92, 90, 87, 91, 0, 78, 36, 81, 41, 42, 74, 10, 33, 61, 86, 76, 73, 49, 100, 35, 16, 23, 43, 82, 90, 38, 83, 0, 80, 67, 49, 92, 80, 71, 86, 0, 32, 52, 93, 87, 0, 15, 30, 36, 27, 4, 87, 88, 91, 48, 41, 25, 40, 18, 55, 14, 28, 90, 91, 87, 86, 68, 93, 5, 17, 34, 52, 92, 90, 61, 53, 26, 66, 43, 89, 36, 84, 58, 40, 89, 87, 40, 18, 10, 29, 26, 87, 30, 33, 63, 95, 30, 92, 59, 79, 50, 0, 65, 60, 68, 71, 72, 92, 86, 47, 91, 93, 26, 0, 70, 32, 94, 17, 22, 84, 19, 0, 34, 55, 88, 48, 62, 24, 0, 85, 71, 97, 62, 27, 96, 93, 57, 62, 50, 47, 32, 69, 80, 25, 82, 28, 0, 44, 68, 91, 0, 18, 20, 71, 19, 86, 32, 60, 43, 21, 25, 100, 66, 43, 0, 38, 36, 70, 0, 0, 85, 55, 26, 25, 14, 89, 8, 62, 48, 50, 67, 54, 30, 79, 92, 40, 94, 79, 86, 72, 22, 92, 3, 25, 96, 22, 23, 40, 63, 65, 31, 29, 57, 36, 42, 35, 83, 24, 72, 84, 65, 51, 25, 74, 77, 95, 44, 50, 22, 22, 88, 85, 81, 25, 40, 47, 36, 88, 21, 74, 45, 37, 25, 32, 95, 89, 85, 74, 32, 19, 63, 18, 87, 65, 77, 93, 19, 0, 20, 27, 33, 56, 84, 10, 44, 42, 34, 27, 75, 86, 9, 80, 18, 59, 22, 19, 68, 41, 87, 84, 34, 18, 34, 72, 47, 90, 52, 52, 21, 19, 65, 43, 29, 37, 50, 13, 56, 75, 34, 34, 81, 0, 42, 32, 82, 65, 19, 90, 67, 10, 93, 31, 78, 38, 19, 37, 45, 14, 33, 46, 64, 57, 15, 61, 72, 36, 55, 18, 84, 45, 74, 53, 40, 50, 65, 64, 83, 69, 59, 92, 75, 40, 63, 92, 49, 44, 89, 87, 90, 57, 91, 90, 33, 20, 0, 17, 55, 80, 91, 87, 47, 51, 91, 81, 77, 47, 58, 57, 55, 75, 11, 50, 33, 64, 87, 38, 46, 63, 77, 93, 84, 25, 24, 57, 89, 64, 46, 0, 36, 84, 85, 56, 77, 80, 45, 69, 53, 37, 73, 81, 31, 91, 88, 43, 91, 93, 54, 61, 44, 91, 94, 35, 0, 63, 27, 47, 68, 10, 61, 29, 56, 17, 39, 50, 65, 26, 38, 53, 55, 18, 25, 74, 24, 31, 30, 40, 74, 82, 18, 79, 64, 61, 25, 21, 57, 95, 59, 0, 84, 41, 54, 89, 95, 13, 24, 20, 70, 34, 35, 54, 82, 12, 0, 77, 29, 61, 73, 60, 11, 46, 0, 86, 73, 91, 78, 19, 80, 76, 64, 84, 79, 73, 26, 68, 20, 22, 59, 29, 29, 0, 89, 44, 82, 47, 63, 28, 75, 87, 96, 65, 52, 63, 63, 51, 81, 67, 88, 27, 0, 36, 85, 59, 37, 63, 63, 24, 52, 75, 39, 67, 14, 72, 43, 91, 72, 19, 74, 89, 25, 26, 39, 60, 93, 84, 39, 26, 33, 35, 42, 31, 38, 34, 56, 43, 57, 19, 17, 43, 0, 40, 33, 0, 84, 15, 32, 71, 55, 55, 19, 35, 38, 93, 77, 93, 88, 58, 82, 83, 74, 69, 56, 72, 43, 45, 76, 0, 81, 65, 87, 54, 92, 89, 52, 33, 15, 89, 79, 57, 53, 52, 2, 52, 63, 28, 79, 63, 43, 0, 24, 25, 61, 92, 72, 44, 49, 89, 28, 40, 48, 69, 0, 79, 51, 27, 38, 29, 46, 0, 16, 18, 37, 41, 13, 82, 37, 88, 91, 45, 22, 8, 29, 15, 20, 77, 75, 16, 11, 32, 45, 18, 66, 40, 59, 0, 23, 77, 84, 62, 67, 55, 0, 14, 83, 97, 93, 94, 0, 30, 25, 53, 0, 41, 62, 67, 22, 49, 47, 88, 71, 0, 26, 66, 70, 43, 29, 96, 55, 8, 13, 36, 14, 48, 59, 27, 86, 95, 35, 36, 19, 61, 23, 63, 72, 17, 22, 29, 91, 90, 0, 47, 58, 53, 0, 53, 68, 18, 95, 47, 64, 0, 85, 23, 56, 35, 0, 24, 45, 16, 51, 31, 0, 43, 67, 33, 90, 20, 60, 71, 37, 12, 73, 93, 84, 93, 67, 38, 84, 32, 38, 22, 21, 46, 37, 24, 76, 42, 19, 64, 65, 83, 94, 81, 52, 0, 71, 9, 91, 89, 0, 0, 0, 94, 58, 0, 68, 91, 71, 58, 91, 49, 22, 0, 69, 0, 24, 51, 22, 87, 0, 35, 49, 22, 86, 20, 86, 18, 42, 79, 14, 58, 65, 58, 39, 83, 40, 58, 71, 44, 0, 20, 22, 19, 7, 48, 23, 75, 62, 51, 84, 39, 33, 87, 99, 26, 41, 32, 62, 92, 37, 32, 46, 67, 84, 34, 0, 0, 50, 71, 33, 31, 72, 84, 15, 32, 36, 53, 63, 12, 56, 33, 80, 84, 87, 28, 48, 57, 40, 13, 66, 66, 51, 52, 17, 16, 46, 52, 52, 25, 82, 20, 74, 44, 69, 79, 48, 0, 74, 14, 40, 86, 54, 33, 37, 52, 84, 41, 41, 11, 87, 14, 39, 54, 35, 36, 27, 59, 90, 37, 80, 66, 88, 0, 91, 92, 8, 24, 18, 91, 23, 75, 77, 15, 26, 83, 24, 30, 28, 54, 80, 23, 82, 74, 34, 8, 96, 86, 24, 35, 32, 86, 70, 0, 59, 62, 54, 87, 43, 69, 66, 72, 0, 32, 35, 39, 91, 21, 92, 81, 51, 0, 60, 46, 76, 86, 84, 34, 32, 86, 37, 30, 77, 57, 55, 53, 47, 38, 87, 23, 89, 37, 46, 85, 0, 62, 41, 57, 20, 89, 77, 87, 19, 44, 40, 91, 51, 15, 80, 0, 23, 22, 52, 57, 67, 38, 17, 0, 49, 94, 30, 55, 41, 82, 66, 38, 45, 61, 69, 15, 46, 39, 87, 41, 22, 44, 29, 84, 30, 77, 18, 89, 91, 70, 91, 13, 68, 42, 52, 86, 67, 73, 47, 46, 33, 88, 39, 30, 45, 33, 82, 89, 42, 71, 85, 26, 77, 22, 14, 88, 38, 76, 80, 68, 65, 88, 45, 84, 18, 76, 62, 96, 58, 47, 44, 59, 31, 55, 32, 26, 18, 93, 97, 85, 86, 83, 70, 84, 79, 29, 63, 83, 90, 93, 91, 61, 56, 83, 56, 23, 77, 30, 32, 24, 31, 36, 83, 27, 95, 71, 36, 52, 40, 88, 37, 26, 67, 20, 32, 51, 65, 92, 35, 71, 92, 81, 63, 0, 57, 88, 49, 44, 40, 34, 29, 90, 36, 69, 37, 27, 39, 81, 79, 0, 86, 63, 87, 37, 74, 49, 77, 26, 30, 74, 27, 29, 19, 66, 90, 27, 75, 86, 30, 41, 67, 40, 49, 39, 80, 48, 37, 78, 21, 31, 25, 9, 44, 70, 13, 45, 21, 48, 30, 86, 84, 88, 66, 92, 87, 87, 0, 51, 89, 88, 23, 92, 84, 86, 51, 78, 87, 63, 75, 76, 16, 25, 29, 40, 40, 39, 22, 42, 50, 20, 34, 10, 52, 45, 44, 76, 28, 34, 85, 56, 29, 52, 0, 37, 30, 33, 83, 21, 18, 26, 57, 88, 26, 35, 77, 89, 75, 28, 44, 49, 37, 61, 11, 85, 60, 25, 41, 23, 30, 88, 58, 86, 58, 71, 86, 36, 52, 41, 50, 61, 48, 42, 38, 60, 54, 37, 41, 58, 27, 41, 16, 35, 25, 94, 50, 89, 84, 55, 86, 68, 87, 88, 24, 50, 87, 0, 86, 33, 33, 15, 15, 0, 43, 38, 45, 80, 93, 0, 64, 46, 38, 21, 57, 96, 33, 46, 21, 31, 67, 84, 87, 35, 81, 41, 69, 67, 87, 29, 90, 27, 96, 30, 70, 65, 48, 28, 40, 72, 89, 20, 0, 59, 67, 73, 96, 81, 35, 84, 93, 11, 3, 33, 84, 38, 56, 46, 49, 89, 79, 16, 38, 87, 88, 55, 14, 31, 12, 48, 24, 79, 91, 8, 33, 11, 46, 56, 78, 87, 32, 95, 80, 43, 31, 83, 72, 64, 51, 96, 65, 44, 90, 20, 80, 22, 93, 85, 0, 36, 73, 46, 82, 53, 9, 63, 75, 8, 51, 18, 93, 37, 33, 90, 33, 52, 92, 35, 54, 26, 17, 55, 51, 55, 76, 0, 22, 75, 46, 94, 43, 41, 15, 61, 53, 81, 41, 9, 70, 81, 78, 92, 13, 78, 40, 60, 20, 95, 51, 87, 41, 42, 55, 76, 43, 40, 92, 18, 58, 85, 29, 61, 80, 84, 95, 11, 46, 29, 12, 87, 58, 56, 34, 0, 63, 45, 22, 58, 30, 35, 48, 89, 72, 62, 28, 87, 26, 56, 69, 56, 88, 31, 76, 22, 83, 78, 60, 89, 0, 91, 31, 88, 24, 75, 41, 79, 57, 16, 17, 15, 52, 69, 74, 92, 13, 93, 10, 88, 28, 80, 22, 89, 89, 85, 88, 91, 57, 20, 19, 90, 75, 93, 51, 92, 76, 35, 35, 67, 51, 90, 0, 89, 84, 31, 67, 25, 28, 0, 54, 51, 52, 28, 91, 87, 84, 54, 88, 86, 89, 92, 37, 50, 92, 90, 37, 64, 25, 44, 88, 45, 76, 21, 82, 27, 39, 0, 38, 61, 96, 64, 79, 87, 38, 59, 35, 94, 91, 37, 81, 58, 56, 26, 48, 60, 78, 47, 61, 21, 37, 26, 45, 51, 25, 86, 49, 29, 54, 16, 37, 30, 68, 65, 78, 60, 23, 32, 87, 67, 56, 40, 68, 79, 16, 19, 61, 89, 74, 10, 69, 7, 24, 85, 31, 83, 37, 56, 30, 34, 85, 40, 88, 71, 85, 50, 72, 31, 63, 79, 89, 95, 14, 45, 11, 32, 84, 62, 11, 89, 91, 89, 66, 23, 77, 51, 65, 17, 50, 15, 8, 85, 24, 55, 88, 16, 21, 31, 37, 85, 90, 0, 64, 45, 37, 87, 89, 46, 75, 34, 86, 84, 25, 12, 13, 12, 47, 95, 88, 29, 80, 77, 40, 79, 23, 32, 89, 43, 30, 17, 61, 57, 30, 46, 92, 0, 91, 38, 37, 36, 55, 20, 37, 26, 45, 18, 22, 29, 78, 59, 72, 88, 13, 31, 56, 53, 87, 28, 86, 28, 53, 62, 21, 93, 50, 67, 0, 91, 77, 31, 76, 46, 59, 55, 27, 73, 97, 36, 85, 50, 22, 94, 51, 55, 56, 20, 39, 23, 96, 81, 23, 71, 56, 47, 93, 89, 93, 73, 81, 41, 73, 30, 74, 15, 27, 60, 13, 17, 73, 94, 89, 88, 0, 44, 86, 12, 33, 87, 32, 54, 42, 88, 35, 52, 72, 54, 14, 15, 83, 35, 24, 59, 93, 30, 36, 70, 11, 37, 85, 66, 55, 42, 12, 81, 31, 23, 78, 87, 88, 62, 62, 68, 3, 56, 37, 48, 34, 46, 22, 25, 83, 49, 40, 44, 91, 38, 38, 39, 39, 97, 86, 47, 11, 20, 66, 67, 43, 78, 44, 88, 49, 0, 31, 26, 31, 55, 8, 20, 79, 90, 53, 66, 33, 38, 82, 69, 87, 25, 28, 92, 35, 66, 90, 84, 84, 64, 52, 77, 36, 36, 19, 73, 78, 78, 70, 77, 84, 92, 69, 40, 37, 37, 30, 78, 29, 81, 21, 51, 91, 75, 35, 68, 93, 98, 84, 32, 73, 84, 88, 89, 59, 80, 77, 42, 85, 55, 80, 29, 34, 35, 31, 85, 36, 25, 47, 85, 89, 54, 54, 77, 28, 57, 0, 91, 33, 29, 87, 47, 59, 31, 10, 57, 33, 38, 70, 88, 39, 37, 26, 88, 30, 68, 15, 50, 15, 52, 57, 33, 85, 42, 28, 31, 93, 36, 31, 12, 47, 41, 91, 31, 79, 84, 48, 34, 14, 71, 44, 92, 101, 41, 30, 43, 39, 65, 36, 94, 32, 90, 36, 9, 82, 88, 65, 66, 72, 93, 50, 38, 93, 56, 80, 96, 45, 37, 87, 92, 23, 96, 38, 84, 30, 48, 88, 51, 18, 80, 42, 57, 74, 9, 84, 41, 61, 40, 67, 18, 93, 49, 85, 50, 84, 68, 90, 68, 43, 35, 30, 61, 27, 22, 85, 53, 21, 85, 27, 88, 81, 77, 38, 89, 20, 80, 90, 67, 63, 82, 87, 15, 89, 0, 35, 37, 0, 55, 46, 89, 43, 10, 86, 21, 86, 53, 50, 20, 27, 60, 47, 25, 39, 84, 75, 30, 46, 56, 87, 86, 42, 96, 43, 60, 82, 79, 44, 0, 28, 82, 29, 23, 28, 48, 0, 32, 12, 100, 36, 62, 45, 40, 63, 71, 86, 64, 46, 24, 48, 56, 91, 46, 91, 16, 85, 45, 91, 86, 44, 88, 46, 57, 82, 38, 85, 26, 15, 96, 68, 28, 21, 63, 36, 73, 27, 29, 64, 66, 0, 44, 28, 37, 71, 87, 85, 89, 0, 30, 85, 20, 87, 53, 55, 47, 66, 0, 98, 72, 76, 47, 14, 71, 12, 46, 91, 81, 39, 90, 29, 68, 49, 88, 44, 52, 48, 21, 38, 35, 85, 15, 42, 53, 58, 92, 84, 33, 85, 50, 63, 52, 16, 87, 28, 0, 59, 75, 91, 55, 59, 31, 37, 35, 91, 89, 54, 71, 25, 90, 44, 0, 82, 40, 28, 61, 21, 96, 33, 64, 59, 51, 92, 36, 32, 52, 54, 24, 32, 58, 16, 91, 55, 18, 18, 88, 31, 10, 22, 79, 57, 41, 39, 49, 69, 62, 27, 58, 66, 35, 85, 0, 26, 36, 32, 92, 63, 0, 23, 34, 75, 26, 81, 85, 77, 0, 80, 69, 84, 10, 87, 56, 3, 14, 21, 74, 15, 69, 51, 30, 73, 70, 80, 35, 25, 92, 12, 35, 45, 44, 65, 23, 63, 23, 87, 87, 87, 40, 45, 79, 24, 67, 43, 94, 74, 82, 16, 77, 89, 28, 65, 53, 49, 48, 80, 27, 16, 58, 84, 66, 87, 48, 28, 55, 80, 70, 98, 85, 14, 58, 24, 88, 42, 56, 30, 64, 41, 47, 45, 48, 22, 52, 90, 21, 89, 91, 23, 93, 92, 41, 31, 15, 79, 64, 46, 42, 83, 13, 59, 71, 82, 93, 0, 80, 32, 32, 69, 32, 84, 19, 84, 34, 33, 19, 0, 76, 68, 55, 92, 13, 67, 88, 93, 86, 52, 14, 47, 56, 30, 35, 82, 53, 67, 16, 89, 69, 0, 49, 16, 30, 27, 25, 0, 35, 18, 86, 66, 35, 21, 40, 79, 0, 43, 53, 95, 40, 38, 64, 84, 0, 90, 93, 14, 83, 68, 0, 93, 57, 89, 28, 15, 0, 46, 75, 51, 94, 80, 30, 51, 87, 90, 43, 53, 84, 87, 53, 38, 86, 69, 88, 31, 53, 53, 54, 87, 86, 48, 52, 89, 75, 75, 16, 36, 85, 62, 40, 90, 43, 87, 71, 53, 33, 0, 88, 99, 25, 88, 10, 80, 22, 54, 46, 40, 48, 83, 24, 50, 91, 30, 25, 25, 22, 87, 87, 54, 76, 27, 82, 88, 87, 32, 79, 87, 84, 14, 35, 0, 57, 53, 60, 38, 46, 91, 53, 49, 53, 38, 49, 40, 40, 7, 63, 73, 63, 25, 49, 82, 85, 75, 64, 96, 90, 41, 16, 85, 87, 50, 21, 69, 93, 59, 50, 15, 89, 38, 40, 89, 34, 63, 69, 18, 82, 87, 94, 26, 59, 26, 6, 59, 31, 26, 18, 52, 76, 31, 58, 53, 47, 88, 60, 88, 38, 26, 19, 82, 38, 40, 29, 22, 17, 36, 45, 59, 92, 25, 0, 75, 42, 48, 29, 21, 71, 85, 91, 92, 89, 45, 83, 88, 92, 73, 50, 54, 52, 87, 18, 19, 84, 46, 97, 89, 64, 26, 62, 95, 86, 27, 45, 68, 32, 48, 91, 48, 78, 29, 37, 29, 17, 93, 24, 85, 93, 53, 101, 28, 90, 40, 22, 21, 89, 85, 93, 87, 15, 80, 32, 81, 36, 54, 81, 44, 40, 87, 89, 0, 43, 67, 74, 58, 43, 70, 56, 64, 77, 88, 67, 44, 86, 60, 17, 44, 36, 86, 47, 73, 36, 28, 71, 87, 88, 53, 81, 92, 52, 77, 89, 57, 80, 18, 96, 23, 22, 83, 42, 31, 68, 80, 85, 42, 18, 70, 59, 67, 47, 57, 49, 68, 22, 55, 84, 81, 31, 71, 26, 82, 41, 47, 51, 84, 86, 38, 33, 70, 28, 36, 39, 57, 0, 38, 51, 0, 34, 90, 43, 33, 11, 79, 22, 61, 54, 89, 75, 93, 43, 87, 85, 88, 83, 68, 91, 75, 46, 87, 66, 83, 96, 45, 40, 27, 87, 40, 88, 48, 92, 77, 75, 45, 37, 42, 63, 84, 68, 37, 85, 20, 62, 43, 17, 89, 48, 37, 0, 55, 52, 51, 58, 89, 28, 81, 30, 24, 9, 23, 76, 90, 0, 69, 87, 9, 61, 35, 53, 56, 25, 63, 51, 34, 36, 34, 59, 48, 29, 0, 40, 27, 16, 40, 86, 43, 20, 32, 30, 76, 38, 100, 80, 58, 46, 38, 20, 10, 86, 40, 53, 36, 78, 8, 58, 25, 42, 21, 39, 71, 17, 47, 88, 52, 85, 40, 36, 13, 73, 51, 54, 44, 75, 14, 9, 76, 45, 69, 62, 31, 52, 98, 54, 65, 18, 47, 26, 43, 49, 72, 86, 0, 26, 35, 34, 66, 45, 87, 85, 80, 89, 85, 45, 94, 82, 12, 76, 90, 93, 91, 62, 93, 32, 68, 18, 70, 82, 30, 86, 74, 43, 48, 75, 89, 90, 93, 76, 91, 22, 81, 93, 71, 84, 17, 78, 85, 74, 46, 9, 55, 18, 90, 76, 70, 59, 19, 17, 64, 16, 19, 57, 87, 11, 63, 49, 16, 34, 50, 83, 51, 66, 87, 90, 71, 48, 86, 74, 52, 92, 86, 59, 10, 89, 86, 39, 90, 15, 63, 87, 74, 19, 85, 53, 50, 38, 0, 18, 16, 56, 87, 88, 94, 72, 26, 32, 18, 58, 39, 83, 20, 15, 80, 54, 89, 11, 94, 5, 88, 35, 82, 37, 48, 57, 23, 92, 33, 94, 86, 18, 78, 50, 15, 85, 20, 85, 33, 15, 65, 13, 89, 15, 25, 15, 87, 77, 81, 94, 42, 31, 86, 30, 56, 41, 19, 61, 21, 50, 19, 81, 22, 11, 48, 81, 31, 0, 38, 21, 86, 30, 57, 14, 85, 29, 16, 16, 47, 26, 39, 15, 94, 45, 84, 39, 71, 49, 40, 54, 41, 34, 12, 54, 90, 91, 42, 76, 46, 58, 18, 89, 96, 66, 83, 86, 55, 92, 80, 23, 44, 33, 85, 60, 87, 51, 47, 52, 75, 26, 39, 31, 63, 89, 80, 74, 47, 31, 53, 85, 55, 81, 78, 45, 43, 37, 36, 9, 62, 11, 12, 53, 35, 56, 47, 42, 87, 80, 33, 31, 35, 90, 63, 59, 20, 0, 62, 0, 91, 75, 47, 16, 36, 57, 10, 34, 54, 86, 88, 7, 90, 32, 88, 64, 97, 76, 61, 84, 29, 42, 64, 39, 36, 93, 43, 54, 44, 25, 86, 37, 28, 41, 19, 88, 47, 93, 58, 43, 21, 73, 64, 0, 35, 76, 31, 86, 54, 35, 62, 60, 89, 82, 46, 39, 52, 89, 19, 38, 92, 82, 79, 21, 40, 50, 51, 90, 42, 25, 0, 43, 0, 91, 95, 47, 69, 83, 78, 94, 88, 21, 47, 89, 89, 49, 70, 90, 90, 56, 24, 89, 0, 46, 51, 83, 64, 33, 0, 63, 28, 91, 27, 94, 58, 27, 88, 22, 30, 84, 98, 88, 59, 21, 19, 63, 26, 21, 29, 93, 11, 47, 46, 76, 86, 88, 59, 81, 44, 90, 47, 19, 15, 41, 54, 82, 85, 39, 31, 17, 54, 48, 85, 4, 38, 91, 89, 87, 63, 55, 85, 60, 88, 48, 23, 64, 45, 77, 73, 44, 94, 87, 61, 90, 62, 78, 22, 4, 81, 82, 30, 89, 35, 56, 85, 62, 93, 79, 85, 47, 13, 81, 36, 45, 9, 60, 64, 33, 67, 39, 16, 24, 0, 73, 50, 55, 72, 88, 48, 83, 84, 83, 31, 79, 46, 79, 84, 17, 10, 36, 14, 44, 45, 58, 7, 32, 90, 86, 53, 90, 83, 77, 89, 0, 32, 54, 83, 70, 83, 76, 56, 0, 93, 64, 75, 0, 20, 44, 9, 33, 88, 86, 15, 0, 20, 59, 9, 71, 42, 83, 8, 44, 45, 17, 50, 26, 72, 91, 76, 93, 60, 78, 48, 17, 5, 17, 94, 27, 35, 89, 16, 38, 0, 18, 40, 36, 13, 28, 30, 0, 95, 68, 19, 86, 17, 61, 21, 49, 28, 62, 14, 70, 55, 84, 42, 8, 10, 97, 84, 88, 39, 92, 45, 93, 60, 56, 32, 75, 6, 84, 60, 68, 77, 90, 0, 65, 56, 38, 35, 51, 92, 89, 37, 84, 71, 76, 38, 0, 42, 28, 11, 84, 16, 51, 66, 43, 75, 93, 95, 31, 46, 20, 43, 24, 53, 83, 21, 83, 67, 62, 25, 56, 34, 89, 92, 84, 84, 22, 73, 16, 76, 41, 75, 25, 84, 57, 31, 10, 51, 61, 86, 53, 50, 61, 22, 41, 57, 37, 86, 93, 38, 39, 0, 92, 0, 25, 24, 81, 83, 23, 30, 29, 22, 49, 72, 14, 83, 29, 92, 67, 55, 60, 40, 94, 22, 59, 84, 20, 36, 57, 77, 44, 88, 58, 67, 18, 59, 23, 18, 69, 20, 51, 46, 91, 48, 94, 92, 83, 90, 34, 87, 29, 42, 0, 53, 95, 90, 91, 60, 52, 35, 57, 85, 90, 21, 62, 102, 27, 0, 90, 48, 55, 73, 48, 28, 65, 36, 44, 20, 93, 26, 14, 47, 88, 58, 79, 87, 87, 35, 46, 48, 31, 74, 72, 78, 25, 16, 40, 27, 29, 55, 83, 28, 21, 86, 86, 24, 21, 29, 53, 35, 38, 93, 43, 89, 20, 53, 30, 17, 45, 36, 38, 62, 63, 54, 89, 77, 88, 40, 86, 45, 65, 35, 63, 69, 31, 28, 38, 24, 47, 59, 93, 37, 40, 39, 90, 55, 91, 37, 17, 71, 74, 75, 19, 59, 101, 78, 79, 66, 37, 42, 20, 46, 88, 47, 89, 61, 15, 58, 26, 93, 35, 67, 87, 12, 17, 46, 79, 60, 27, 89, 77, 32, 36, 0, 87, 35, 65, 78, 54, 93, 41, 81, 21, 0, 75, 77, 46, 30, 92, 87, 96, 57, 23, 32, 36, 0, 67, 56, 34, 74, 48, 91, 55, 95, 83, 15, 91, 97, 44, 83, 81, 68, 85, 31, 28, 69, 43, 29, 92, 18, 31, 61, 39, 45, 66, 26, 70, 49, 28, 46, 0, 96, 91, 28, 32, 38, 47, 75, 79, 89, 0, 94, 0, 66, 88, 87, 62, 30, 48, 61, 33, 38, 83, 64, 98, 23, 31, 28, 50, 25, 30, 47, 89, 77, 55, 8, 46, 86, 83, 88, 18, 30, 89, 25, 31, 95, 0, 46, 68, 64, 35, 23, 0, 27, 18, 50, 26, 13, 57, 77, 83, 61, 89, 18, 51, 44, 54, 0, 42, 33, 96, 14, 26, 31, 46, 76, 20, 0, 42, 10, 91, 27, 59, 47, 90, 36, 90, 41, 53, 55, 13, 90, 14, 16, 78, 40, 93, 38, 87, 18, 63, 92, 73, 17, 62, 51, 45, 66, 63, 95, 68, 22, 81, 25, 58, 65, 31, 92, 41, 48, 53, 27, 94, 36, 70, 16, 29, 85, 16, 21, 84, 44, 68, 67, 75, 85, 77, 60, 64, 61, 62, 90, 89, 20, 66, 26, 0, 36, 86, 29, 50, 42, 19, 15, 90, 41, 41, 41, 83, 88, 65, 25, 32, 87, 10, 84, 89, 43, 47, 71, 32, 58, 56, 89, 86, 81, 90, 35, 49, 12, 92, 14, 27, 29, 96, 58, 26, 19, 42, 59, 26, 82, 72, 93, 24, 59, 46, 66, 32, 86, 95, 79, 26, 23, 79, 41, 52, 0, 64, 18, 62, 55, 82, 88, 90, 39, 32, 20, 79, 51, 29, 95, 68, 83, 48, 82, 57, 38, 31, 32, 79, 24, 64, 61, 30, 50, 24, 21, 23, 94, 15, 39, 42, 87, 45, 48, 71, 54, 51, 22, 71, 38, 70, 67, 83, 90, 78, 35, 45, 56, 40, 24, 77, 32, 61, 75, 81, 79, 91, 90, 89, 31, 55, 26, 27, 43, 91, 13, 85, 77, 52, 20, 85, 28, 19, 85, 86, 49, 71, 46, 40, 37, 90, 92, 50, 90, 46, 60, 7, 44, 84, 43, 61, 83, 37, 87, 88, 23, 94, 73, 27, 42, 69, 70, 87, 94, 87, 88, 70, 92, 88, 55, 68, 94, 80, 90, 74, 89, 58, 75, 67, 68, 44, 59, 25, 35, 86, 90, 96, 88, 51, 89, 46, 53, 65, 42, 41, 75, 12, 19, 52, 96, 17, 30, 53, 60, 30, 88, 87, 83, 11, 0, 92, 83, 22, 32, 68, 35, 85, 87, 52, 88, 84, 76, 55, 34, 47, 29, 0, 88, 38, 49, 41, 63, 88, 87, 91, 83, 71, 93, 84, 74, 61, 38, 19, 0, 75, 87, 49, 84, 45, 45, 85, 41, 97, 64, 94, 23, 85, 89, 31, 68, 83, 0, 48, 55, 90, 82, 0, 68, 86, 28, 89, 21, 30, 33, 50, 24, 86, 12, 30, 84, 19, 61, 87, 81, 92, 63, 30, 79, 16, 62, 72, 57, 17, 87, 37, 83, 91, 51, 22, 89, 90, 90, 87, 42, 77, 54, 67, 53, 14, 55, 61, 83, 95, 32, 48, 18, 88, 0, 83, 74, 51, 86, 81, 24, 82, 35, 99, 82, 74, 30, 28, 69, 38, 97, 29, 65, 10, 94, 63, 41, 47, 92, 13, 54, 70, 26, 45, 84, 49, 73, 17, 59, 59, 35, 61, 90, 30, 81, 81, 60, 58, 37, 53, 25, 49, 16, 11, 31, 71, 0, 26, 29, 38, 78, 28, 49, 41, 10, 47, 85, 58, 53, 91, 63, 30, 15, 49, 26, 42, 29, 48, 50, 42, 91, 37, 9, 57, 67, 77, 85, 19, 83, 35, 83, 28, 63, 55, 78, 33, 72, 95, 17, 22, 93, 32, 14, 90, 25, 82, 21, 58, 95, 36, 20, 17, 33, 35, 97, 40, 91, 71, 92, 61, 26, 77, 59, 89, 87, 41, 56, 92, 59, 36, 43, 90, 44, 16, 63, 0, 87, 83, 84, 37, 85, 79, 44, 26, 41, 21, 46, 33, 39, 32, 55, 94, 87, 53, 15, 17, 38, 65, 47, 87, 27, 73, 21, 51, 47, 34, 44, 19, 58, 52, 21, 76, 37, 19, 88, 56, 0, 39, 50, 42, 0, 6, 0, 46, 32, 44, 88, 89, 43, 86, 46, 93, 42, 15, 53, 11, 10, 51, 10, 55, 83, 68, 18, 70, 91, 30, 51, 27, 91, 13, 20, 72, 65, 65, 29, 21, 92, 35, 95, 32, 45, 59, 35, 90, 81, 57, 29, 16, 34, 67, 57, 0, 53, 20, 76, 8, 63, 88, 63, 85, 65, 84, 87, 54, 27, 82, 23, 90, 94, 84, 73, 36, 89, 48, 0, 33, 75, 0, 88, 32, 45, 85, 52, 62, 18, 37, 102, 87, 62, 47, 67, 22, 25, 86, 61, 52, 60, 83, 51, 34, 63, 38, 63, 70, 65, 47, 85, 93, 21, 71, 83, 49, 96, 85, 49, 80, 16, 17, 17, 96, 39, 86, 28, 91, 84, 72, 0, 81, 77, 79, 57, 84, 36, 85, 35, 71, 42, 85, 49, 90, 19, 76, 54, 30, 93, 75, 89, 84, 60, 96, 99, 74, 21, 12, 79, 50, 75, 70, 0, 31, 38, 20, 24, 53, 82, 16, 86, 34, 23, 97, 74, 21, 87, 22, 13, 30, 91, 64, 78, 67, 26, 86, 84, 85, 59, 90, 74, 10, 41, 26, 63, 28, 49, 49, 39, 57, 66, 63, 76, 13, 13, 71, 91, 17, 26, 18, 62, 59, 61, 10, 17, 51, 17, 59, 65, 15, 53, 24, 46, 71, 79, 27, 63, 92, 52, 91, 67, 85, 93, 25, 81, 48, 53, 48, 89, 91, 23, 37, 82, 91, 42, 35, 90, 34, 88, 49, 67, 10, 56, 72, 66, 55, 60, 88, 88, 62, 47, 91, 72, 97, 50, 43, 34, 34, 60, 81, 36, 85, 25, 23, 92, 25, 49, 21, 68, 12, 26, 25, 36, 76, 65, 79, 32, 89, 89, 36, 48, 15, 42, 85, 88, 33, 74, 88, 71, 37, 79, 69, 70, 27, 56, 50, 86, 53, 37, 11, 8, 53, 66, 33, 0, 89, 43, 86, 79, 30, 72, 31, 91, 60, 64, 57, 26, 90, 29, 59, 29, 89, 36, 34, 59, 59, 68, 60, 26, 48, 63, 83, 77, 32, 56, 28, 60, 42, 70, 33, 66, 32, 88, 86, 53, 49, 90, 76, 95, 58, 48, 91, 59, 66, 83, 88, 86, 31, 28, 33, 40, 82, 79, 81, 34, 57, 60, 16, 75, 93, 84, 87, 90, 29, 22, 10, 50, 55, 92, 48, 86, 12, 19, 48, 69, 29, 74, 9, 49, 93, 85, 25, 31, 38, 41, 48, 19, 46, 79, 64, 14, 0, 64, 44, 16, 84, 68, 33, 40, 45, 46, 53, 92, 90, 97, 92, 88, 60, 28, 40, 63, 42, 30, 65, 20, 86, 65, 52, 12, 86, 25, 87, 92, 83, 0, 20, 87, 54, 88, 27, 93, 45, 42, 25, 37, 61, 24, 42, 19, 85, 86, 44, 28, 87, 88, 68, 86, 89, 66, 88, 62, 28, 77, 54, 52, 25, 76, 54, 84, 26, 55, 47, 0, 20, 25, 95, 25, 86, 83, 67, 58, 88, 86, 0, 22, 46, 70, 30, 53, 50, 18, 39, 95, 90, 85, 33, 24, 10, 38, 95, 85, 80, 33, 51, 0, 0, 42, 89, 66, 59, 81, 62, 43, 92, 22, 39, 24, 38, 95, 55, 49, 88, 33, 56, 27, 21, 0, 28, 30, 32, 25, 57, 59, 69, 62, 51, 81, 46, 20, 0, 30, 40, 10, 93, 0, 90, 86, 0, 87, 80, 74, 0, 10, 46, 21, 60, 82, 47, 80, 17, 82, 38, 77, 40, 82, 45, 34, 70, 51, 89, 19, 99, 72, 56, 88, 88, 89, 12, 67, 89, 24, 88, 31, 20, 53, 30, 36, 49, 21, 73, 61, 37, 86, 42, 91, 51, 40, 82, 78, 9, 9, 70, 76, 37, 84, 79, 0, 18, 20, 68, 7, 25, 62, 0, 85, 82, 20, 45, 0, 14, 86, 52, 89, 82, 51, 91, 56, 41, 0, 51, 38, 59, 87, 85, 26, 38, 43, 87, 16, 76, 17, 87, 84, 45, 49, 28, 31, 91, 0, 84, 0, 29, 47, 42, 82, 53, 34, 46, 88, 33, 75, 58, 42, 10, 78, 52, 39, 86, 0, 14, 67, 0, 60, 81, 49, 79, 63, 40, 84, 64, 81, 71, 91, 95, 76, 44, 16, 40, 86, 90, 46, 0, 0, 9, 9, 12, 95, 20, 39, 76, 71, 64, 53, 85, 47, 34, 0, 26, 86, 33, 56, 38, 13, 68, 64, 70, 14, 21, 44, 22, 86, 0, 88, 60, 43, 43, 11, 51, 86, 57, 44, 75, 60, 84, 11, 49, 0, 61, 45, 33, 67, 7, 46, 26, 58, 87, 9, 82, 84, 43, 73, 41, 76, 66, 94, 43, 91, 74, 24, 27, 40, 53, 76, 22, 51, 70, 38, 47, 34, 80, 94, 49, 31, 72, 34, 90, 55, 88, 89, 69, 36, 54, 88, 0, 24, 35, 37, 40, 51, 11, 87, 89, 6, 64, 31, 31, 64, 28, 13, 55, 0, 77, 12, 29, 49, 26, 62, 69, 32, 38, 35, 0, 40, 0, 59, 88, 24, 50, 77, 87, 59, 61, 60, 89, 39, 88, 28, 47, 91, 27, 0, 76, 96, 66, 51, 72, 86, 18, 42, 88, 44, 57, 58, 56, 81, 0, 23, 82, 17, 48, 84, 36, 26, 74, 45, 25, 88, 59, 86, 23, 90, 41, 28, 72, 42, 12, 59, 43, 23, 46, 43, 82, 34, 76, 72, 56, 79, 31, 60, 38, 37, 89, 37, 27, 47, 89, 49, 51, 26, 63, 58, 70, 91, 0, 88, 87, 42, 84, 15, 91, 66, 49, 35, 43, 29, 48, 22, 90, 68, 45, 0, 53, 45, 70, 89, 50, 0, 14, 63, 67, 47, 31, 88, 31, 46, 57, 49, 64, 23, 90, 93, 28, 50, 52, 20, 62, 76, 24, 90, 45, 66, 0, 82, 44, 37, 89, 85, 12, 61, 18, 39, 90, 38, 66, 59, 99, 43, 46, 47, 86, 73, 83, 81, 61, 39, 85, 66, 39, 31, 89, 86, 33, 94, 71, 82, 64, 80, 15, 95, 65, 54, 84, 85, 82, 31, 87, 25, 91, 74, 41, 60, 91, 60, 74, 44, 20, 43, 84, 84, 19, 62, 77, 36, 96, 81, 83, 32, 88, 90, 86, 92, 44, 38, 93, 74, 82, 65, 53, 53, 30, 0, 68, 42, 91, 14, 86, 34, 84, 89, 54, 7, 71, 88, 89, 75, 19, 36, 0, 91, 71, 33, 23, 46, 36, 72, 63, 85, 0, 63, 48, 82, 16, 35, 34, 16, 43, 88, 20, 14, 0, 51, 12, 27, 32, 16, 0, 75, 40, 30, 53, 89, 35, 38, 30, 89, 41, 31, 40, 71, 94, 34, 90, 41, 88, 87, 32, 90, 53, 46, 11, 33, 12, 55, 68, 46, 16, 33, 35, 17, 9, 34, 33, 28, 0, 50, 42, 21, 51, 67, 36, 35, 49, 8, 79, 77, 27, 81, 30, 73, 0, 29, 60, 47, 0, 19, 29, 40, 14, 76, 15, 60, 91, 42, 91, 78, 60, 36, 93, 14, 16, 46, 53, 29, 23, 87, 86, 31, 12, 95, 22, 60, 84, 55, 39, 46, 21, 57, 87, 84, 82, 65, 74, 89, 60, 92, 17, 86, 53, 13, 33, 91, 90, 46, 7, 36, 26, 39, 40, 59, 46, 92, 70, 12, 88, 5, 60, 37, 88, 72, 92, 18, 27, 83, 90, 90, 13, 93, 76, 68, 58, 56, 27, 31, 84, 0, 38, 85, 87, 41, 85, 58, 87, 19, 27, 64, 14, 53, 80, 14, 17, 73, 58, 34, 71, 87, 77, 25, 79, 77, 53, 68, 10, 15, 27, 45, 41, 58, 84, 45, 21, 52, 26, 67, 35, 88, 50, 87, 99, 66, 25, 93, 46, 10, 94, 22, 53, 22, 19, 23, 93, 27, 18, 36, 76, 60, 90, 80, 86, 28, 59, 58, 64, 18, 63, 24, 89, 40, 56, 16, 92, 55, 49, 54, 54, 33, 55, 40, 90, 0, 76, 77, 27, 51, 86, 17, 29, 14, 72, 14, 50, 51, 92, 82, 65, 87, 48, 91, 38, 88, 71, 67, 55, 0, 40, 90, 90, 32, 37, 44, 34, 66, 59, 62, 93, 83, 87, 26, 58, 0, 66, 75, 30, 88, 26, 82, 64, 69, 39, 81, 31, 17, 73, 25, 66, 38, 24, 15, 56, 90, 85, 85, 91, 11, 26, 17, 75, 25, 19, 34, 65, 38, 75, 90, 46, 80, 60, 87, 28, 70, 74, 86, 46, 28, 69, 26, 71, 31, 57, 84, 56, 76, 73, 19, 28, 83, 12, 83, 65, 59, 41, 20, 48, 21, 85, 95, 74, 30, 26, 30, 65, 69, 44, 20, 55, 41, 90, 16, 49, 41, 81, 56, 71, 93, 61, 20, 54, 76, 87, 0, 0, 15, 15, 76, 41, 62, 16, 86, 82, 84, 67, 48, 93, 82, 75, 82, 52, 41, 37, 59, 83, 68, 59, 57, 82, 31, 91, 35, 33, 33, 0, 0, 69, 79, 56, 29, 64, 39, 21, 65, 34, 27, 46, 0, 18, 64, 7, 29, 52, 31, 56, 23, 12, 24, 33, 42, 0, 37, 35, 40, 84, 47, 67, 6, 90, 49, 34, 53, 27, 59, 89, 10, 77, 87, 15, 52, 65, 15, 49, 24, 88, 61, 71, 58, 74, 18, 69, 59, 88, 7, 91, 22, 79, 83, 0, 23, 81, 90, 63, 91, 51, 48, 28, 86, 67, 49, 16, 32, 59, 23, 21, 40, 85, 36, 87, 41, 86, 37, 85, 81, 84, 48, 64, 9, 79, 30, 88, 83, 45, 91, 28, 33, 89, 44, 70, 89, 47, 24, 65, 25, 29, 86, 68, 29, 23, 0, 27, 66, 92, 90, 40, 88, 10, 15, 54, 0, 21, 75, 20, 86, 90, 92, 36, 34, 52, 66, 81, 93, 41, 87, 32, 37, 93, 0, 19, 37, 56, 14, 16, 85, 81, 54, 67, 81, 44, 72, 26, 56, 96, 7, 85, 58, 69, 81, 40, 40, 18, 18, 41, 31, 79, 83, 85, 94, 92, 55, 53, 12, 67, 89, 50, 52, 15, 48, 19, 0, 18, 17, 87, 55, 27, 19, 10, 24, 12, 40, 87, 30, 49, 17, 77, 43, 57, 53, 0, 24, 26, 10, 36, 59, 36, 86, 47, 26, 68, 74, 77, 93, 65, 29, 85, 9, 85, 46, 51, 19, 85, 54, 78, 32, 66, 22, 93, 71, 96, 56, 25, 38, 60, 77, 72, 45, 0, 85, 58, 35, 93, 17, 23, 43, 69, 61, 92, 84, 67, 85, 40, 71, 17, 26, 31, 83, 53, 91, 86, 62, 59, 82, 75, 29, 48, 24, 73, 64, 69, 28, 88, 14, 20, 89, 85, 84, 48, 85, 33, 47, 86, 69, 46, 88, 89, 88, 36, 14, 27, 55, 12, 89, 49, 0, 72, 18, 28, 88, 94, 60, 72, 54, 0, 36, 20, 25, 41, 51, 38, 19, 64, 80, 42, 89, 74, 56, 27, 21, 96, 50, 89, 21, 45, 88, 33, 41, 26, 56, 55, 18, 26, 0, 51, 12, 50, 70, 79, 74, 91, 26, 40, 84, 85, 50, 59, 45, 53, 92, 63, 88, 56, 42, 27, 89, 64, 72, 51, 79, 53, 0, 73, 90, 31, 70, 86, 13, 86, 51, 0, 31, 40, 66, 47, 35, 12, 79, 12, 83, 61, 36, 88, 84, 95, 49, 80, 16, 80, 49, 33, 32, 11, 57, 87, 41, 61, 42, 26, 49, 41, 35, 73, 61, 20, 69, 65, 89, 55, 13, 33, 0, 78, 64, 58, 11, 86, 62, 87, 31, 42, 56, 88, 88, 90, 89, 91, 73, 61, 56, 79, 32, 87, 75, 31, 92, 43, 0, 41, 85, 0, 92, 51, 61, 9, 57, 37, 38, 38, 13, 14, 92, 85, 42, 79, 55, 83, 55, 63, 28, 71, 49, 78, 46, 38, 24, 95, 67, 83, 83, 45, 19, 80, 34, 88, 80, 79, 48, 14, 95, 86, 98, 41, 31, 31, 32, 53, 82, 41, 87, 31, 19, 44, 46, 64, 85, 86, 19, 32, 61, 25, 85, 51, 33, 62, 15, 25, 29, 14, 19, 36, 81, 13, 29, 88, 63, 87, 96, 91, 45, 0, 38, 62, 21, 86, 23, 0, 68, 91, 88, 0, 92, 36, 34, 51, 91, 23, 31, 30, 66, 45, 46, 11, 88, 54, 45, 52, 45, 34, 37, 36, 15, 0, 57, 90, 16, 0, 74, 83, 19, 53, 52, 47, 5, 77, 74, 62, 84, 84, 49, 33, 52, 37, 23, 39, 54, 16, 77, 26, 61, 46, 34, 14, 50, 74, 54, 43, 97, 92, 91, 45, 82, 96, 70, 81, 19, 40, 37, 90, 0, 40, 23, 46, 49, 59, 22, 30, 89, 89, 22, 31, 52, 43, 24, 88, 86, 83, 28, 38, 50, 67, 70, 15, 80, 33, 53, 47, 45, 40, 70, 91, 86, 45, 24, 47, 44, 81, 34, 43, 77, 77, 91, 43, 37, 90, 54, 20, 17, 48, 0, 56, 30, 6, 41, 91, 94, 78, 89, 20, 58, 0, 29, 91, 69, 54, 30, 72, 13, 90, 34, 15, 8, 59, 25, 16, 51, 93, 30, 73, 88, 52, 14, 83, 21, 50, 16, 21, 45, 23, 49, 96, 51, 11, 35, 22, 88, 27, 48, 20, 41, 84, 51, 69, 51, 28, 23, 88, 91, 88, 89, 74, 47, 22, 34, 40, 71, 45, 63, 24, 87, 51, 80, 9, 81, 90, 88, 35, 92, 84, 53, 66, 83, 83, 44, 32, 18, 39, 72, 44, 77, 27, 89, 5, 91, 53, 78, 88, 33, 46, 19, 60, 21, 64, 27, 85, 76, 89, 78, 37, 32, 88, 25, 92, 77, 85, 81, 34, 32, 61, 73, 67, 85, 34, 29, 47, 88, 65, 85, 58, 19, 24, 0, 64, 90, 27, 17, 84, 51, 70, 34, 27, 37, 59, 9, 35, 46, 53, 46, 32, 81, 86, 29, 24, 0, 85, 86, 22, 57, 55, 92, 87, 13, 36, 0, 20, 19, 29, 25, 47, 48, 87, 90, 32, 64, 23, 79, 14, 50, 95, 92, 23, 94, 21, 82, 93, 28, 45, 39, 94, 32, 53, 36, 48, 88, 79, 14, 22, 31, 40, 5, 61, 82, 17, 0, 87, 37, 77, 37, 29, 35, 70, 90, 30, 53, 51, 19, 20, 60, 90, 51, 48, 87, 82, 93, 32, 94, 0, 0, 27, 40, 12, 19, 30, 24, 9, 68, 0, 36, 9, 23, 25, 16, 0, 25, 50, 27, 64, 23, 36, 64, 62, 89, 31, 70, 48, 42, 96, 61, 71, 42, 46, 0, 13, 53, 16, 54, 0, 89, 36, 23, 50, 0, 40, 66, 58, 64, 0, 0, 74, 90, 26, 84, 56, 15, 35, 74, 20, 29, 60, 68, 76, 90, 36, 88, 60, 85, 26, 37, 45, 67, 31, 65, 92, 15, 87, 64, 7, 34, 36, 86, 62, 63, 0, 21, 20, 91, 69, 53, 85, 56, 69, 50, 90, 15, 89, 25, 90, 7, 57, 0, 0, 21, 83, 85, 67, 0, 71, 14, 84, 43, 39, 34, 91, 15, 91, 32, 31, 28, 41, 36, 34, 37, 37, 37, 59, 0, 51, 0, 88, 13, 56, 40, 90, 19, 75, 61, 17, 35, 22, 58, 16, 63, 36, 29, 40, 40, 39, 97, 89, 26, 61, 43, 75, 91, 87, 15, 92, 73, 28, 0, 16, 60, 69, 78, 59, 91, 87, 45, 54, 91, 76, 68, 14, 82, 92, 86, 57, 26, 48, 90, 68, 0, 20, 19, 20, 84, 86, 32, 23, 25, 84, 67, 90, 48, 57, 46, 87, 92, 54, 70, 20, 11, 49, 75, 70, 73, 39, 73, 0, 67, 9, 16, 50, 46, 37, 47, 11, 50, 57, 60, 39, 56, 78, 54, 56, 35, 43, 21, 55, 49, 55, 63, 80, 90, 85, 76, 50, 10, 82, 0, 24, 84, 49, 34, 43, 42, 54, 37, 84, 22, 0, 49, 71, 40, 80, 65, 71, 41, 30, 36, 85, 92, 85, 66, 46, 31, 54, 84, 33, 50, 51, 10, 29, 59, 82, 58, 60, 26, 24, 77, 55, 74, 84, 92, 36, 26, 39, 51, 47, 58, 95, 17, 32, 48, 21, 85, 32, 51, 72, 34, 58, 73, 83, 83, 64, 25, 26, 64, 86, 22, 51, 34, 61, 62, 66, 91, 28, 62, 15, 44, 75, 82, 0, 0, 85, 55, 13, 18, 30, 19, 0, 40, 39, 57, 25, 26, 12, 93, 48, 31, 8, 29, 48, 41, 87, 61, 0, 34, 5, 25, 57, 77, 97, 30, 61, 26, 88, 92, 69, 62, 21, 32, 0, 13, 22, 30, 44, 64, 92, 26, 91, 10, 60, 85, 26, 19, 87, 61, 60, 50, 15, 74, 66, 16, 58, 95, 82, 61, 57, 35, 48, 38, 54, 39, 17, 14, 20, 45, 80, 52, 12, 34, 62, 63, 67, 85, 89, 92, 87, 36, 22, 68, 59, 16, 27, 89, 96, 42, 87, 92, 46, 38, 67, 54, 82, 43, 90, 12, 20, 74, 94, 35, 55, 0, 29, 86, 82, 88, 24, 23, 48, 91, 57, 84, 26, 90, 18, 53, 26, 47, 88, 51, 0, 0, 75, 63, 23, 33, 88, 91, 60, 80, 60, 30, 58, 88, 28, 48, 0, 48, 35, 50, 75, 51, 87, 62, 20, 49, 42, 37, 69, 64, 0, 92, 36, 16, 21, 20, 49, 18, 92, 74, 30, 24, 83, 88, 77, 52, 75, 86, 58, 85, 26, 54, 96, 69, 57, 82, 51, 25, 53, 18, 70, 85, 83, 90, 12, 27, 54, 64, 95, 36, 73, 24, 91, 86, 35, 67, 33, 25, 35, 0, 23, 93, 39, 70, 83, 82, 46, 57, 16, 70, 63, 34, 72, 0, 62, 4, 70, 84, 90, 85, 21, 51, 21, 86, 94, 39, 0, 30, 14, 50, 68, 89, 57, 69, 56, 86, 66, 67, 43, 38, 72, 91, 86, 87, 85, 91, 59, 34, 89, 14, 31, 65, 34, 59, 53, 27, 25, 68, 77, 88, 27, 76, 35, 86, 84, 23, 41, 46, 75, 23, 87, 17, 53, 19, 69, 45, 49, 28, 42, 19, 59, 0, 82, 37, 79, 91, 55, 41, 90, 34, 23, 34, 28, 24, 78, 62, 70, 86, 86, 71, 73, 48, 60, 87, 90, 47, 85, 35, 41, 33, 28, 39, 0, 17, 93, 89, 91, 54, 22, 90, 85, 21, 91, 47, 56, 42, 54, 48, 92, 44, 62, 89, 26, 25, 21, 41, 35, 36, 70, 45, 70, 58, 0, 78, 38, 55, 63, 46, 28, 33, 44, 64, 85, 28, 89, 22, 61, 88, 86, 88, 24, 35, 86, 41, 92, 59, 35, 88, 56, 66, 44, 93, 29, 85, 76, 92, 57, 59, 77, 18, 17, 79, 0, 92, 57, 32, 23, 41, 34, 5, 47, 26, 79, 87, 9, 0, 50, 86, 87, 88, 92, 46, 25, 87, 88, 12, 11, 71, 18, 31, 23, 20, 87, 79, 84, 96, 35, 21, 73, 16, 21, 39, 59, 59, 27, 8, 90, 44, 23, 52, 56, 87, 23, 40, 85, 82, 22, 15, 90, 17, 57, 30, 86, 40, 84, 52, 54, 24, 80, 44, 30, 27, 26, 64, 60, 84, 90, 84, 16, 33, 36, 9, 92, 46, 30, 40, 23, 23, 63, 83, 25, 36, 89, 0, 92, 72, 60, 91, 35, 31, 54, 14, 23, 27, 92, 0, 17, 23, 39, 70, 42, 44, 66, 21, 83, 74, 86, 89, 78, 90, 86, 87, 90, 49, 47, 35, 28, 91, 14, 0, 84, 42, 50, 10, 61, 21, 94, 25, 29, 70, 80, 51, 42, 24, 78, 82, 0, 82, 43, 0, 40, 38, 7, 46, 53, 17, 0, 70, 11, 88, 77, 93, 51, 91, 28, 47, 51, 42, 63, 15, 28, 33, 0, 53, 47, 58, 18, 37, 30, 57, 0, 56, 62, 27, 37, 76, 35, 34, 35, 26, 23, 60, 31, 19, 29, 25, 46, 43, 85, 25, 86, 79, 34, 31, 49, 60, 36, 63, 15, 0, 47, 15, 92, 18, 54, 87, 88, 67, 82, 48, 18, 20, 77, 86, 40, 82, 12, 65, 57, 78, 73, 91, 17, 54, 35, 84, 31, 38, 80, 32, 89, 88, 86, 55, 17, 73, 68, 47, 33, 87, 56, 77, 66, 14, 93, 94, 91, 40, 86, 26, 87, 27, 21, 90, 35, 20, 89, 53, 13, 91, 39, 39, 25, 91, 53, 49, 90, 37, 53, 95, 34, 34, 17, 84, 11, 50, 84, 98, 50, 42, 37, 45, 88, 78, 29, 22, 14, 0, 48, 81, 28, 34, 30, 35, 47, 26, 16, 86, 88, 30, 19, 50, 16, 82, 21, 52, 57, 41, 62, 93, 80, 28, 89, 36, 75, 62, 40, 29, 92, 89, 54, 63, 12, 38, 76, 83, 51, 70, 14, 21, 24, 56, 88, 77, 76, 34, 85, 76, 27, 84, 25, 80, 32, 95, 36, 82, 36, 0, 43, 71, 55, 84, 30, 9, 25, 11, 27, 90, 47, 23, 85, 28, 27, 52, 87, 34, 39, 87, 88, 91, 67, 44, 50, 89, 92, 84, 84, 73, 51, 84, 45, 89, 69, 73, 51, 58, 50, 56, 21, 64, 78, 10, 53, 84, 41, 78, 91, 60, 40, 49, 57, 38, 37, 64, 62, 61, 47, 16, 22, 17, 94, 92, 16, 46, 9, 59, 63, 58, 74, 55, 30, 70, 55, 91, 68, 50, 67, 46, 8, 50, 62, 40, 0, 72, 94, 73, 88, 70, 27, 93, 67, 15, 58, 0, 82, 78, 77, 23, 0, 45, 33, 90, 36, 78, 64, 57, 86, 84, 45, 0, 86, 83, 95, 91, 64, 48, 85, 55, 32, 52, 60, 95, 67, 75, 81, 67, 74, 25, 36, 97, 31, 84, 93, 31, 51, 85, 68, 0, 18, 81, 82, 87, 92, 83, 15, 45, 85, 39, 84, 33, 76, 85, 44, 63, 45, 98, 11, 49, 32, 89, 40, 28, 83, 51, 93, 62, 38, 84, 77, 70, 88, 0, 52, 36, 60, 25, 91, 4, 22, 29, 31, 32, 58, 55, 27, 43, 76, 70, 77, 78, 60, 3, 35, 19, 23, 17, 43, 53, 50, 41, 36, 25, 44, 82, 14, 24, 50, 70, 38, 0, 35, 42, 49, 55, 42, 17, 92, 79, 85, 74, 9, 48, 40, 71, 30, 31, 71, 31, 26, 89, 0, 7, 82, 89, 87, 33, 71, 54, 33, 72, 65, 21, 30, 37, 44, 34, 46, 63, 48, 41, 34, 66, 58, 46, 89, 49, 87, 67, 33, 58, 69, 57, 79, 72, 93, 43, 78, 85, 89, 88, 0, 17, 85, 81, 25, 77, 67, 0, 68, 81, 37, 62, 66, 26, 88, 50, 91, 84, 34, 25, 23, 37, 53, 38, 63, 94, 47, 54, 88, 72, 36, 52, 57, 46, 88, 41, 93, 85, 94, 64, 83, 40, 56, 89, 38, 64, 0, 46, 5, 91, 26, 69, 82, 57, 79, 82, 89, 30, 81, 31, 64, 92, 26, 16, 46, 82, 59, 87, 87, 23, 21, 56, 9, 72, 90, 34, 65, 19, 88, 93, 90, 45, 89, 20, 74, 73, 89, 21, 78, 67, 63, 39, 89, 92, 89, 32, 42, 90, 55, 83, 51, 80, 16, 86, 0, 48, 48, 68, 29, 34, 47, 96, 94, 90, 40, 58, 53, 93, 91, 93, 7, 42, 37, 46, 48, 53, 95, 58, 23, 31, 88, 91, 20, 72, 49, 56, 90, 72, 0, 51, 22, 46, 28, 16, 51, 88, 90, 43, 21, 33, 86, 48, 76, 81, 90, 45, 57, 61, 57, 87, 40, 46, 49, 18, 86, 99, 48, 37, 27, 81, 72, 91, 60, 56, 84, 103, 57, 60, 41, 67, 29, 0, 17, 0, 97, 25, 53, 81, 21, 65, 35, 95, 43, 43, 19, 17, 94, 54, 14, 94, 74, 40, 14, 52, 32, 90, 40, 22, 82, 77, 83, 64, 80, 90, 86, 87, 85, 90, 91, 76, 16, 82, 78, 94, 14, 90, 33, 88, 61, 88, 66, 51, 82, 29, 54, 37, 92, 85, 41, 87, 28, 91, 89, 88, 50, 64, 86, 83, 26, 27, 37, 57, 54, 43, 86, 65, 89, 25, 59, 39, 83, 49, 85, 36, 87, 71, 40, 51, 44, 67, 75, 67, 93, 32, 88, 45, 94, 74, 88, 81, 56, 28, 24, 78, 25, 83, 83, 11, 32, 25, 27, 78, 10, 17, 30, 73, 48, 14, 30, 52, 38, 34, 86, 61, 51, 67, 44, 97, 88, 57, 54, 98, 28, 88, 32, 33, 45, 46, 62, 16, 93, 80, 39, 49, 15, 28, 49, 36, 79, 61, 55, 37, 58, 20, 56, 67, 69, 31, 18, 46, 82, 66, 33, 68, 41, 38, 52, 92, 75, 50, 0, 24, 59, 88, 90, 28, 19, 79, 41, 84, 0, 25, 37, 40, 77, 18]\n"
     ]
    }
   ],
   "source": [
    "length_per_review = []\n",
    "for review_as_list_of_word in reviews_as_lists_of_words:\n",
    "    length_per_review.append( len(review_as_list_of_word) )\n",
    "print(\"length_per_review=\", length_per_review)"
   ]
  },
  {
   "cell_type": "markdown",
   "metadata": {},
   "source": [
    "Now the histogram of the review lengths (in words):"
   ]
  },
  {
   "cell_type": "code",
   "execution_count": 14,
   "metadata": {},
   "outputs": [
    {
     "name": "stderr",
     "output_type": "stream",
     "text": [
      "/home/juebrauer/anaconda3/envs/env_mss/lib/python3.7/site-packages/ipykernel_launcher.py:3: MatplotlibDeprecationWarning: \n",
      "The 'normed' kwarg was deprecated in Matplotlib 2.1 and will be removed in 3.1. Use 'density' instead.\n",
      "  This is separate from the ipykernel package so we can avoid doing imports until\n"
     ]
    },
    {
     "data": {
      "image/png": "[encoded data removed]",
      "text/plain": [
       "<Figure size 432x288 with 1 Axes>"
      ]
     },
     "metadata": {
      "needs_background": "light"
     },
     "output_type": "display_data"
    }
   ],
   "source": [
    "import matplotlib.pyplot as plt\n",
    "\n",
    "plt.hist(length_per_review, normed=True, bins=100)\n",
    "plt.suptitle(\"How often do certain review lengths occur?\", fontsize=20)\n",
    "plt.show()"
   ]
  },
  {
   "cell_type": "markdown",
   "metadata": {},
   "source": [
    "# Preparing the training data\n",
    "\n",
    "For a given review (a sequence of words), we now want to have a sequence of word vectors. Then we have an appropriate input for our LSTM."
   ]
  },
  {
   "cell_type": "code",
   "execution_count": 15,
   "metadata": {},
   "outputs": [
    {
     "name": "stderr",
     "output_type": "stream",
     "text": [
      "/home/juebrauer/anaconda3/envs/env_mss/lib/python3.7/site-packages/ipykernel_launcher.py:26: DeprecationWarning: Call to deprecated `__getitem__` (Method will be removed in 4.0.0, use self.wv.__getitem__() instead).\n"
     ]
    }
   ],
   "source": [
    "REVIEW_LENGTH = 100\n",
    "\n",
    "nr_samples =len(reviews_as_lists_of_words)\n",
    "nr_features = EMBEDDED_VECTOR_DIM\n",
    "nr_time_steps = REVIEW_LENGTH\n",
    "\n",
    "def to_sequence_data():\n",
    "    dataX, dataY = [], []\n",
    "    \n",
    "    for review_nr in range( nr_samples ):\n",
    "        \n",
    "        # get the next review as a list of words\n",
    "        review = reviews_as_lists_of_words[review_nr]\n",
    "        \n",
    "        # create a matrix M\n",
    "        # for each time step we have one line with a 150-dim word-vector\n",
    "        # we have REVIEW_LENGTH (100) many of these lines\n",
    "        M = np.zeros((nr_time_steps,nr_features))\n",
    "        \n",
    "        for word_nr in range( min(REVIEW_LENGTH,len(review)) ):\n",
    "            \n",
    "            # get the next word from the review\n",
    "            word = review[word_nr]\n",
    "            \n",
    "            # get the corresponding word vector from gensim\n",
    "            word_vec = wordmodel[word]\n",
    "            \n",
    "            # copy the word-vector to the matrix\n",
    "            M[word_nr,:] = word_vec\n",
    "        \n",
    "        # put matrix M to the list of input samples        \n",
    "        dataX.append( M )\n",
    "                \n",
    "        # put the rating of this review to list of desired outputs\n",
    "        dataY.append( ratings[review_nr] )\n",
    "        \n",
    "    return np.array(dataX), np.array(dataY)\n",
    "\n",
    "dataX, dataY = to_sequence_data()"
   ]
  },
  {
   "cell_type": "code",
   "execution_count": 16,
   "metadata": {},
   "outputs": [
    {
     "name": "stdout",
     "output_type": "stream",
     "text": [
      "I have generated 23486 training samples.\n",
      "Shape of trainX is (23486, 100, 150)\n",
      "Shape of trainY is (23486,)\n",
      "\n",
      " [[ 0.67061132 -2.45232034  1.50672615 ... -1.70885026  0.35346869\n",
      "   0.8245008 ]\n",
      " [ 1.33138049 -1.29175937  1.13567817 ...  0.68099165  0.67225003\n",
      "   0.60685349]\n",
      " [-0.01651428 -1.00342536  0.71335453 ...  1.72046435  0.8536734\n",
      "   1.333498  ]\n",
      " ...\n",
      " [ 0.          0.          0.         ...  0.          0.\n",
      "   0.        ]\n",
      " [ 0.          0.          0.         ...  0.          0.\n",
      "   0.        ]\n",
      " [ 0.          0.          0.         ...  0.          0.\n",
      "   0.        ]] --> 4\n"
     ]
    }
   ],
   "source": [
    "nr_training_samples = dataX.shape[0]\n",
    "print(\"I have generated\", nr_training_samples, \"training samples.\")\n",
    "\n",
    "print(\"Shape of trainX is\", dataX.shape)\n",
    "print(\"Shape of trainY is\", dataY.shape)\n",
    "\n",
    "print(\"\\n\",dataX[0], \"-->\", dataY[0])"
   ]
  },
  {
   "cell_type": "markdown",
   "metadata": {},
   "source": [
    "# Retention of some test data"
   ]
  },
  {
   "cell_type": "code",
   "execution_count": 17,
   "metadata": {},
   "outputs": [
    {
     "name": "stdout",
     "output_type": "stream",
     "text": [
      "There are 18788 many review samples for training.\n",
      "There are 4698 many review samples for testing.\n"
     ]
    }
   ],
   "source": [
    "RATIO_TO_USE_FOR_TRAIN = 0.8\n",
    "\n",
    "nr_train_samples = int(dataX.shape[0]*RATIO_TO_USE_FOR_TRAIN)\n",
    "nr_test_samples = dataX.shape[0]-nr_train_samples\n",
    "\n",
    "trainX = dataX[0:nr_train_samples]\n",
    "testX = dataX[nr_train_samples:]\n",
    "\n",
    "trainY = dataY[0:nr_train_samples]\n",
    "testY = dataY[nr_train_samples:]\n",
    "\n",
    "print(\"There are\", trainX.shape[0],\"many review samples for training.\")\n",
    "print(\"There are\", testX.shape[0],\"many review samples for testing.\")"
   ]
  },
  {
   "cell_type": "markdown",
   "metadata": {},
   "source": [
    "# Building and training the model\n",
    "\n"
   ]
  },
  {
   "cell_type": "code",
   "execution_count": 18,
   "metadata": {},
   "outputs": [
    {
     "name": "stdout",
     "output_type": "stream",
     "text": [
      "Train on 18788 samples, validate on 4698 samples\n",
      "18788/18788 [==============================] - 97s 5ms/sample - loss: 1.5258 - val_loss: 1.0370\n"
     ]
    },
    {
     "data": {
      "text/plain": [
       "<tensorflow.python.keras.callbacks.History at 0x7f6a54367090>"
      ]
     },
     "execution_count": 18,
     "metadata": {},
     "output_type": "execute_result"
    }
   ],
   "source": [
    "from tensorflow import keras\n",
    "\n",
    "model = keras.Sequential()\n",
    "model.add(keras.layers.LSTM(100, input_shape=(nr_time_steps, nr_features)))\n",
    "model.add(keras.layers.Dense(1))\n",
    "model.compile(loss='mean_squared_error', optimizer='adam')    \n",
    "model.fit(trainX,\n",
    "          trainY,\n",
    "          epochs=1,\n",
    "          batch_size=32,\n",
    "          verbose=1,\n",
    "          validation_data=(testX, testY))"
   ]
  },
  {
   "cell_type": "markdown",
   "metadata": {},
   "source": [
    "# Testing the model"
   ]
  },
  {
   "cell_type": "code",
   "execution_count": 19,
   "metadata": {},
   "outputs": [],
   "source": [
    "testPredict = model.predict(testX)\n"
   ]
  },
  {
   "cell_type": "code",
   "execution_count": 20,
   "metadata": {},
   "outputs": [
    {
     "name": "stdout",
     "output_type": "stream",
     "text": [
      "Shape of testPredict is (4698, 1)\n",
      "[[3.882976 ]\n",
      " [4.6878443]\n",
      " [4.476923 ]\n",
      " ...\n",
      " [3.8730786]\n",
      " [3.8466742]\n",
      " [4.707472 ]]\n",
      "Shape of testPredict is (4698,)\n"
     ]
    }
   ],
   "source": [
    "print(\"Shape of testPredict is\", testPredict.shape)\n",
    "print(testPredict)\n",
    "testPredict = testPredict.reshape(-1)\n",
    "print(\"Shape of testPredict is\", testPredict.shape)"
   ]
  },
  {
   "cell_type": "code",
   "execution_count": 21,
   "metadata": {},
   "outputs": [
    {
     "name": "stdout",
     "output_type": "stream",
     "text": [
      "In average we can estimate the rating on a 1-5 scale\n",
      "with an error of 0.7721123439091325\n"
     ]
    }
   ],
   "source": [
    "avg_error = np.mean( np.abs(testY - testPredict) )\n",
    "print(\"In average we can estimate the rating on a 1-5 scale\\nwith an error of\", avg_error )"
   ]
  }
 ],
 "metadata": {
  "kernelspec": {
   "display_name": "Python 3",
   "language": "python",
   "name": "python3"
  },
  "language_info": {
   "codemirror_mode": {
    "name": "ipython",
    "version": 3
   },
   "file_extension": ".py",
   "mimetype": "text/x-python",
   "name": "python",
   "nbconvert_exporter": "python",
   "pygments_lexer": "ipython3",
   "version": "3.7.7"
  },
  "toc": {
   "base_numbering": 1,
   "nav_menu": {},
   "number_sections": true,
   "sideBar": true,
   "skip_h1_title": false,
   "title_cell": "Table of Contents",
   "title_sidebar": "Contents",
   "toc_cell": true,
   "toc_position": {},
   "toc_section_display": true,
   "toc_window_display": true
  }
 },
 "nbformat": 4,
 "nbformat_minor": 4
}
