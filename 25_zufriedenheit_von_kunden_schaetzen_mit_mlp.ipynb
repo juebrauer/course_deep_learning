{
 "cells": [
  {
   "cell_type": "markdown",
   "metadata": {},
   "source": [
    "By Prof. Dr.-Ing. Jürgen Brauer, http://www.juergenbrauer.org"
   ]
  },
  {
   "cell_type": "markdown",
   "metadata": {},
   "source": [
    "# Load in the dataset\n",
    "\n",
    "The dataset used for this Jupyter notebook is called\n",
    "\n",
    "**\"Women's E-Commerce Clothing Reviews\"**\n",
    "\n",
    "and consists of 23,486 customer reviews and ratings.\n",
    "\n",
    "You can download it from Kaggle [here](https://www.kaggle.com/nicapotato/womens-ecommerce-clothing-reviews).\n",
    "\n",
    "Each row corresponds to a customer review, and includes the following 10 columns:\n",
    "\n",
    "  * **Clothing ID:** Integer Categorical variable that refers to the specific piece being reviewed.\n",
    "  * **Age:** Positive Integer variable of the reviewers age.\n",
    "  * **Title:** String variable for the title of the review.\n",
    "  * **Review Text:** String variable for the review body.\n",
    "  * **Rating:** Positive Ordinal Integer variable for the product score granted by the customer from 1 Worst, to 5 Best.\n",
    "  * **Recommended IND:** Binary variable stating where the customer recommends the product where 1 is recommended, 0 is not recommended.\n",
    "  * **Positive Feedback Count:** Positive Integer documenting the number of other customers who found this review positive.\n",
    "  * **Division Name:** Categorical name of the product high level division.\n",
    "  * **Department Name:** Categorical name of the product department name.\n",
    "  * **Class Name:** Categorical name of the product class name.\n"
   ]
  },
  {
   "cell_type": "code",
   "execution_count": 1,
   "metadata": {},
   "outputs": [],
   "source": [
    "import pandas as pd\n",
    "filename = \"produktbewertungen.csv\"\n",
    "table = pd.read_csv( filename )"
   ]
  },
  {
   "cell_type": "code",
   "execution_count": 2,
   "metadata": {},
   "outputs": [
    {
     "data": {
      "text/html": [
       "<div>\n",
       "<style scoped>\n",
       "    .dataframe tbody tr th:only-of-type {\n",
       "        vertical-align: middle;\n",
       "    }\n",
       "\n",
       "    .dataframe tbody tr th {\n",
       "        vertical-align: top;\n",
       "    }\n",
       "\n",
       "    .dataframe thead th {\n",
       "        text-align: right;\n",
       "    }\n",
       "</style>\n",
       "<table border=\"1\" class=\"dataframe\">\n",
       "  <thead>\n",
       "    <tr style=\"text-align: right;\">\n",
       "      <th></th>\n",
       "      <th>Unnamed: 0</th>\n",
       "      <th>Clothing ID</th>\n",
       "      <th>Age</th>\n",
       "      <th>Title</th>\n",
       "      <th>Review Text</th>\n",
       "      <th>Rating</th>\n",
       "      <th>Recommended IND</th>\n",
       "      <th>Positive Feedback Count</th>\n",
       "      <th>Division Name</th>\n",
       "      <th>Department Name</th>\n",
       "      <th>Class Name</th>\n",
       "    </tr>\n",
       "  </thead>\n",
       "  <tbody>\n",
       "    <tr>\n",
       "      <th>0</th>\n",
       "      <td>0</td>\n",
       "      <td>767</td>\n",
       "      <td>33</td>\n",
       "      <td>NaN</td>\n",
       "      <td>Absolutely wonderful - silky and sexy and comf...</td>\n",
       "      <td>4</td>\n",
       "      <td>1</td>\n",
       "      <td>0</td>\n",
       "      <td>Initmates</td>\n",
       "      <td>Intimate</td>\n",
       "      <td>Intimates</td>\n",
       "    </tr>\n",
       "    <tr>\n",
       "      <th>1</th>\n",
       "      <td>1</td>\n",
       "      <td>1080</td>\n",
       "      <td>34</td>\n",
       "      <td>NaN</td>\n",
       "      <td>Love this dress!  it's sooo pretty.  i happene...</td>\n",
       "      <td>5</td>\n",
       "      <td>1</td>\n",
       "      <td>4</td>\n",
       "      <td>General</td>\n",
       "      <td>Dresses</td>\n",
       "      <td>Dresses</td>\n",
       "    </tr>\n",
       "    <tr>\n",
       "      <th>2</th>\n",
       "      <td>2</td>\n",
       "      <td>1077</td>\n",
       "      <td>60</td>\n",
       "      <td>Some major design flaws</td>\n",
       "      <td>I had such high hopes for this dress and reall...</td>\n",
       "      <td>3</td>\n",
       "      <td>0</td>\n",
       "      <td>0</td>\n",
       "      <td>General</td>\n",
       "      <td>Dresses</td>\n",
       "      <td>Dresses</td>\n",
       "    </tr>\n",
       "    <tr>\n",
       "      <th>3</th>\n",
       "      <td>3</td>\n",
       "      <td>1049</td>\n",
       "      <td>50</td>\n",
       "      <td>My favorite buy!</td>\n",
       "      <td>I love, love, love this jumpsuit. it's fun, fl...</td>\n",
       "      <td>5</td>\n",
       "      <td>1</td>\n",
       "      <td>0</td>\n",
       "      <td>General Petite</td>\n",
       "      <td>Bottoms</td>\n",
       "      <td>Pants</td>\n",
       "    </tr>\n",
       "    <tr>\n",
       "      <th>4</th>\n",
       "      <td>4</td>\n",
       "      <td>847</td>\n",
       "      <td>47</td>\n",
       "      <td>Flattering shirt</td>\n",
       "      <td>This shirt is very flattering to all due to th...</td>\n",
       "      <td>5</td>\n",
       "      <td>1</td>\n",
       "      <td>6</td>\n",
       "      <td>General</td>\n",
       "      <td>Tops</td>\n",
       "      <td>Blouses</td>\n",
       "    </tr>\n",
       "    <tr>\n",
       "      <th>...</th>\n",
       "      <td>...</td>\n",
       "      <td>...</td>\n",
       "      <td>...</td>\n",
       "      <td>...</td>\n",
       "      <td>...</td>\n",
       "      <td>...</td>\n",
       "      <td>...</td>\n",
       "      <td>...</td>\n",
       "      <td>...</td>\n",
       "      <td>...</td>\n",
       "      <td>...</td>\n",
       "    </tr>\n",
       "    <tr>\n",
       "      <th>23481</th>\n",
       "      <td>23481</td>\n",
       "      <td>1104</td>\n",
       "      <td>34</td>\n",
       "      <td>Great dress for many occasions</td>\n",
       "      <td>I was very happy to snag this dress at such a ...</td>\n",
       "      <td>5</td>\n",
       "      <td>1</td>\n",
       "      <td>0</td>\n",
       "      <td>General Petite</td>\n",
       "      <td>Dresses</td>\n",
       "      <td>Dresses</td>\n",
       "    </tr>\n",
       "    <tr>\n",
       "      <th>23482</th>\n",
       "      <td>23482</td>\n",
       "      <td>862</td>\n",
       "      <td>48</td>\n",
       "      <td>Wish it was made of cotton</td>\n",
       "      <td>It reminds me of maternity clothes. soft, stre...</td>\n",
       "      <td>3</td>\n",
       "      <td>1</td>\n",
       "      <td>0</td>\n",
       "      <td>General Petite</td>\n",
       "      <td>Tops</td>\n",
       "      <td>Knits</td>\n",
       "    </tr>\n",
       "    <tr>\n",
       "      <th>23483</th>\n",
       "      <td>23483</td>\n",
       "      <td>1104</td>\n",
       "      <td>31</td>\n",
       "      <td>Cute, but see through</td>\n",
       "      <td>This fit well, but the top was very see throug...</td>\n",
       "      <td>3</td>\n",
       "      <td>0</td>\n",
       "      <td>1</td>\n",
       "      <td>General Petite</td>\n",
       "      <td>Dresses</td>\n",
       "      <td>Dresses</td>\n",
       "    </tr>\n",
       "    <tr>\n",
       "      <th>23484</th>\n",
       "      <td>23484</td>\n",
       "      <td>1084</td>\n",
       "      <td>28</td>\n",
       "      <td>Very cute dress, perfect for summer parties an...</td>\n",
       "      <td>I bought this dress for a wedding i have this ...</td>\n",
       "      <td>3</td>\n",
       "      <td>1</td>\n",
       "      <td>2</td>\n",
       "      <td>General</td>\n",
       "      <td>Dresses</td>\n",
       "      <td>Dresses</td>\n",
       "    </tr>\n",
       "    <tr>\n",
       "      <th>23485</th>\n",
       "      <td>23485</td>\n",
       "      <td>1104</td>\n",
       "      <td>52</td>\n",
       "      <td>Please make more like this one!</td>\n",
       "      <td>This dress in a lovely platinum is feminine an...</td>\n",
       "      <td>5</td>\n",
       "      <td>1</td>\n",
       "      <td>22</td>\n",
       "      <td>General Petite</td>\n",
       "      <td>Dresses</td>\n",
       "      <td>Dresses</td>\n",
       "    </tr>\n",
       "  </tbody>\n",
       "</table>\n",
       "<p>23486 rows × 11 columns</p>\n",
       "</div>"
      ],
      "text/plain": [
       "       Unnamed: 0  Clothing ID  Age  \\\n",
       "0               0          767   33   \n",
       "1               1         1080   34   \n",
       "2               2         1077   60   \n",
       "3               3         1049   50   \n",
       "4               4          847   47   \n",
       "...           ...          ...  ...   \n",
       "23481       23481         1104   34   \n",
       "23482       23482          862   48   \n",
       "23483       23483         1104   31   \n",
       "23484       23484         1084   28   \n",
       "23485       23485         1104   52   \n",
       "\n",
       "                                                   Title  \\\n",
       "0                                                    NaN   \n",
       "1                                                    NaN   \n",
       "2                                Some major design flaws   \n",
       "3                                       My favorite buy!   \n",
       "4                                       Flattering shirt   \n",
       "...                                                  ...   \n",
       "23481                     Great dress for many occasions   \n",
       "23482                         Wish it was made of cotton   \n",
       "23483                              Cute, but see through   \n",
       "23484  Very cute dress, perfect for summer parties an...   \n",
       "23485                    Please make more like this one!   \n",
       "\n",
       "                                             Review Text  Rating  \\\n",
       "0      Absolutely wonderful - silky and sexy and comf...       4   \n",
       "1      Love this dress!  it's sooo pretty.  i happene...       5   \n",
       "2      I had such high hopes for this dress and reall...       3   \n",
       "3      I love, love, love this jumpsuit. it's fun, fl...       5   \n",
       "4      This shirt is very flattering to all due to th...       5   \n",
       "...                                                  ...     ...   \n",
       "23481  I was very happy to snag this dress at such a ...       5   \n",
       "23482  It reminds me of maternity clothes. soft, stre...       3   \n",
       "23483  This fit well, but the top was very see throug...       3   \n",
       "23484  I bought this dress for a wedding i have this ...       3   \n",
       "23485  This dress in a lovely platinum is feminine an...       5   \n",
       "\n",
       "       Recommended IND  Positive Feedback Count   Division Name  \\\n",
       "0                    1                        0       Initmates   \n",
       "1                    1                        4         General   \n",
       "2                    0                        0         General   \n",
       "3                    1                        0  General Petite   \n",
       "4                    1                        6         General   \n",
       "...                ...                      ...             ...   \n",
       "23481                1                        0  General Petite   \n",
       "23482                1                        0  General Petite   \n",
       "23483                0                        1  General Petite   \n",
       "23484                1                        2         General   \n",
       "23485                1                       22  General Petite   \n",
       "\n",
       "      Department Name Class Name  \n",
       "0            Intimate  Intimates  \n",
       "1             Dresses    Dresses  \n",
       "2             Dresses    Dresses  \n",
       "3             Bottoms      Pants  \n",
       "4                Tops    Blouses  \n",
       "...               ...        ...  \n",
       "23481         Dresses    Dresses  \n",
       "23482            Tops      Knits  \n",
       "23483         Dresses    Dresses  \n",
       "23484         Dresses    Dresses  \n",
       "23485         Dresses    Dresses  \n",
       "\n",
       "[23486 rows x 11 columns]"
      ]
     },
     "execution_count": 2,
     "metadata": {},
     "output_type": "execute_result"
    }
   ],
   "source": [
    "table"
   ]
  },
  {
   "cell_type": "markdown",
   "metadata": {},
   "source": [
    "What we want to do is to infer the Rating column from the text column:"
   ]
  },
  {
   "cell_type": "code",
   "execution_count": 3,
   "metadata": {},
   "outputs": [
    {
     "name": "stdout",
     "output_type": "stream",
     "text": [
      "type of reviews is <class 'list'>\n",
      "type of ratings is <class 'list'>\n",
      "type of a single review is <class 'str'>\n",
      "type of a single rating is <class 'int'>\n",
      "\n",
      "Example #1:\n",
      "Absolutely wonderful - silky and sexy and comfortable --> 4\n",
      "\n",
      "Example #2:\n",
      "I was surprised at the positive reviews for this product. its terrible! it cuts you in a weird place to make you look wide. the skirt is also not like the picture. its darker and heavier. the material isnt great. i had to return. --> 1\n"
     ]
    }
   ],
   "source": [
    "reviews = table[\"Review Text\"].tolist()\n",
    "ratings = table[\"Rating\"].tolist()\n",
    "\n",
    "print(\"type of reviews is\", type(reviews))\n",
    "print(\"type of ratings is\", type(ratings))\n",
    "\n",
    "print(\"type of a single review is\", type(reviews[0]))\n",
    "print(\"type of a single rating is\", type(ratings[0]))\n",
    "\n",
    "print(\"\\nExample #1:\")\n",
    "print(reviews[0], \"-->\", ratings[0])\n",
    "\n",
    "print(\"\\nExample #2:\")\n",
    "print(reviews[23478], \"-->\", ratings[23478])\n"
   ]
  },
  {
   "cell_type": "markdown",
   "metadata": {},
   "source": [
    "No we will have later some problems, if words as\n",
    "\n",
    "  - Nice\n",
    "  - nice\n",
    "  - nice,\n",
    "  - nice!  \n",
    "  \n",
    "will be treated as different words. For this we can use gensim's simple text preprocssing functionality:"
   ]
  },
  {
   "cell_type": "code",
   "execution_count": 4,
   "metadata": {},
   "outputs": [
    {
     "name": "stdout",
     "output_type": "stream",
     "text": [
      "['hello', 'this', 'is', 'some', 'test', 'line']\n",
      "['hello', 'this', 'is', 'some', 'test', 'line']\n"
     ]
    }
   ],
   "source": [
    "import gensim\n",
    "\n",
    "print( gensim.utils.simple_preprocess (\"Hello, THIS is some test line!\") )\n",
    "print( gensim.utils.simple_preprocess (\"\\nHello, tHiS Is some\\t test line!\\n\") )"
   ]
  },
  {
   "cell_type": "markdown",
   "metadata": {},
   "source": [
    "# Training a word embedding using word2vec\n",
    "\n",
    "Now we will use the word2vec implementation from [gensim](https://radimrehurek.com/gensim/) in order to train a new word embedding that is suitable for our words/text.\n",
    "\n",
    "\n",
    "First, we have to make sure, that each review is a list of words and not a string, since this is expected from gensim's Word2Vec as input."
   ]
  },
  {
   "cell_type": "code",
   "execution_count": 5,
   "metadata": {},
   "outputs": [
    {
     "name": "stdout",
     "output_type": "stream",
     "text": [
      "['I', 'am', 'a', 'long', 'long', 'long', 'string.']\n",
      "There are 23486 many reviews.\n",
      "['absolutely', 'wonderful', 'silky', 'and', 'sexy', 'and', 'comfortable']\n"
     ]
    }
   ],
   "source": [
    "some_str = \"I am a long long long string.\"\n",
    "print( some_str.split() )\n",
    "\n",
    "nr_reviews = len(reviews)\n",
    "print(\"There are\", nr_reviews, \"many reviews.\")\n",
    "\n",
    "reviews_as_lists_of_words = []\n",
    "for i in range(nr_reviews):\n",
    "    rev = reviews[i]\n",
    "    \n",
    "    # Some review texts are empty and\n",
    "    # Pandas uses then as data type \"float\"\n",
    "    if not isinstance(rev, str):\n",
    "        rev = \"\"\n",
    "    \n",
    "    # to lower case, remove escape sequences, remove commas and periods\n",
    "    # AND\n",
    "    # return not a string, but a list of words!\n",
    "    single_review_as_list_of_words = gensim.utils.simple_preprocess( rev )\n",
    "    \n",
    "    reviews_as_lists_of_words.append( single_review_as_list_of_words )\n",
    "\n",
    "print(reviews_as_lists_of_words[0])"
   ]
  },
  {
   "cell_type": "code",
   "execution_count": 6,
   "metadata": {},
   "outputs": [],
   "source": [
    "EMBEDDED_VECTOR_DIM = 150\n",
    "CONTEXT_WINDOW_SIZE = 10\n",
    "NR_TRAIN_EPOCHS = 10\n",
    "\n",
    "import gensim \n",
    "wordmodel = gensim.models.Word2Vec (reviews_as_lists_of_words,\n",
    "                                size=EMBEDDED_VECTOR_DIM,\n",
    "                                window=CONTEXT_WINDOW_SIZE,\n",
    "                                min_count=1,\n",
    "                                workers=10)\n",
    "wordmodel.train(reviews_as_lists_of_words,\n",
    "                total_examples=len(reviews_as_lists_of_words),\n",
    "                epochs=NR_TRAIN_EPOCHS)\n",
    "wordmodel.save(\"your_word_model.model\")"
   ]
  },
  {
   "cell_type": "markdown",
   "metadata": {},
   "source": [
    "# Some sanity checks with our word embedding\n",
    "\n",
    "Let's see whether the word vectors that we have learned make roughly sense.\n",
    "\n",
    "What are words considered as most similair to nice?"
   ]
  },
  {
   "cell_type": "code",
   "execution_count": 7,
   "metadata": {},
   "outputs": [
    {
     "data": {
      "text/plain": [
       "[('good', 0.6222252249717712),\n",
       " ('great', 0.6218503713607788),\n",
       " ('wonderful', 0.5604586601257324),\n",
       " ('fabulous', 0.5403447151184082),\n",
       " ('lovely', 0.5238939523696899),\n",
       " ('fantastic', 0.5073368549346924),\n",
       " ('light', 0.4915662109851837),\n",
       " ('jacquard', 0.4514104127883911),\n",
       " ('pretty', 0.44627463817596436),\n",
       " ('avergage', 0.4431700110435486),\n",
       " ('excellent', 0.4312971234321594),\n",
       " ('smooth', 0.4312502145767212),\n",
       " ('substantial', 0.4300740659236908),\n",
       " ('beautiful', 0.4288889169692993),\n",
       " ('perfect', 0.42464226484298706)]"
      ]
     },
     "execution_count": 7,
     "metadata": {},
     "output_type": "execute_result"
    }
   ],
   "source": [
    "w1 = \"nice\"\n",
    "wordmodel.wv.most_similar (positive=w1, topn=15)"
   ]
  },
  {
   "cell_type": "markdown",
   "metadata": {},
   "source": [
    "What are words considered as similar to \"dress\"?"
   ]
  },
  {
   "cell_type": "code",
   "execution_count": 8,
   "metadata": {},
   "outputs": [
    {
     "data": {
      "text/plain": [
       "[('romper', 0.5891741514205933),\n",
       " ('skirt', 0.5677682161331177),\n",
       " ('jumpsuit', 0.55530846118927),\n",
       " ('swimsuit', 0.5285894870758057),\n",
       " ('top', 0.5236107110977173),\n",
       " ('blouse', 0.4833352267742157),\n",
       " ('piece', 0.452787846326828),\n",
       " ('wedding', 0.44175517559051514),\n",
       " ('suit', 0.42936405539512634),\n",
       " ('jumper', 0.41757842898368835)]"
      ]
     },
     "execution_count": 8,
     "metadata": {},
     "output_type": "execute_result"
    }
   ],
   "source": [
    "w1 = \"dress\"\n",
    "wordmodel.wv.most_similar (positive=w1)"
   ]
  },
  {
   "cell_type": "markdown",
   "metadata": {},
   "source": [
    "What are words considered as similar to \"elegant\"?"
   ]
  },
  {
   "cell_type": "code",
   "execution_count": 9,
   "metadata": {},
   "outputs": [
    {
     "data": {
      "text/plain": [
       "[('classy', 0.8278968334197998),\n",
       " ('sophisticated', 0.716463029384613),\n",
       " ('chic', 0.7083356976509094),\n",
       " ('romantic', 0.666622519493103),\n",
       " ('effortless', 0.6549191474914551),\n",
       " ('bohemian', 0.6484301090240479),\n",
       " ('feminine', 0.6337804794311523),\n",
       " ('stylish', 0.6089857816696167),\n",
       " ('sexy', 0.6022568941116333),\n",
       " ('classic', 0.5979175567626953)]"
      ]
     },
     "execution_count": 9,
     "metadata": {},
     "output_type": "execute_result"
    }
   ],
   "source": [
    "w1 = \"elegant\"\n",
    "wordmodel.wv.most_similar (positive=w1)"
   ]
  },
  {
   "cell_type": "markdown",
   "metadata": {},
   "source": [
    "Get some vectors and play a little bit with them:"
   ]
  },
  {
   "cell_type": "code",
   "execution_count": 10,
   "metadata": {},
   "outputs": [
    {
     "name": "stdout",
     "output_type": "stream",
     "text": [
      "[-0.55794805  3.2694407   0.16553666 -1.2091459  -0.7304475  -1.53515\n",
      " -1.4283302  -2.0727942  -0.73932743 -3.4050498   1.1890491   0.9677051\n",
      " -0.65841067  0.26415735 -0.07479114 -0.41697848 -0.5987646  -0.91773957\n",
      "  1.5866487   0.7581006   0.3038536  -1.6594889   2.8520114   1.7569945\n",
      "  0.21016447 -1.7710043  -0.52574295 -1.2346995  -0.8970529  -2.325719\n",
      "  2.6720257   3.3680732  -1.1971058   2.550115    1.2635094   0.69887936\n",
      " -0.4347923   2.8848739   2.2022245   0.5888121  -1.9034584  -2.2522545\n",
      " -1.3247584   0.22784592 -3.2799656   1.8455524   0.8136877   2.6375792\n",
      " -1.092729   -0.05050219 -0.02070649  1.4720976   2.370574    2.5714357\n",
      "  0.3303356   2.6223726  -0.47898963  4.0460186   0.05938768  0.6307582\n",
      "  1.6720892   2.2266588   0.8749312  -1.0896747   2.420996   -1.9835606\n",
      " -2.31568     0.35624397  0.00630749 -1.2240233   1.1348449   1.1633221\n",
      "  0.492213   -3.278445    2.4589984   0.1585826  -1.2814523  -3.2506769\n",
      " -1.4702188  -1.0559891  -0.37771904  1.1699936   1.0233893  -0.174841\n",
      " -0.14384009 -1.2360623   0.82211375 -0.08809823 -0.33325395  1.9906864\n",
      " -4.517865   -0.3305986   0.24472944  0.6520646  -0.5221622   1.1304362\n",
      " -2.3122294   0.00643376 -1.8482292  -0.7495677   1.1622856  -2.7331939\n",
      "  0.18231314  0.01373646  0.61479855  1.3286586  -0.9404099  -1.5456151\n",
      " -0.27544802 -0.91443586 -0.26926854  1.5681175  -0.25857434  0.9828211\n",
      "  0.36196902 -0.6385418  -1.507164    0.6456054   1.4414554   2.0177748\n",
      "  0.69418645 -0.10457808 -0.10319404 -0.7953141  -0.8541261  -0.7514196\n",
      "  0.32068464  1.3286017  -1.6324217  -0.1030753   1.2553343  -1.6435721\n",
      " -3.601309    0.03909479 -1.7299175   0.76434684  1.6333282   0.4892363\n",
      "  0.47185317  0.9384468  -1.5406748  -1.6759422   0.38648963  1.5257262\n",
      " -2.4881482   2.0236816  -1.0446825  -0.75802207 -0.598757   -1.1367148 ]\n",
      "Shape of vec_nice is (150,)\n"
     ]
    },
    {
     "name": "stderr",
     "output_type": "stream",
     "text": [
      "/tmp/ipykernel_21672/83220087.py:1: DeprecationWarning: Call to deprecated `__getitem__` (Method will be removed in 4.0.0, use self.wv.__getitem__() instead).\n",
      "  vec_nice = wordmodel[\"nice\"]\n"
     ]
    }
   ],
   "source": [
    "vec_nice = wordmodel[\"nice\"]\n",
    "print(vec_nice)\n",
    "print(\"Shape of vec_nice is\", vec_nice.shape)"
   ]
  },
  {
   "cell_type": "markdown",
   "metadata": {},
   "source": [
    "# What are the lengths of the reviews?\n",
    "\n",
    "The reviews have different lengths. That's clear. But, how different are there. Let us produce a histogram of the different lengths."
   ]
  },
  {
   "cell_type": "code",
   "execution_count": 22,
   "metadata": {},
   "outputs": [
    {
     "name": "stdout",
     "output_type": "stream",
     "text": [
      "length_per_review= [7, 51, 89, 19, 36, 89, 89, 92, 29, 60, 65, 8, 92, 65, 89, 89, 67, 52, 27, 51, 52, 92, 77, 36, 84, 60, 92, 45, 30, 78, 17, 59, 18, 75, 48, 16, 27, 62, 15, 23, 25, 42, 44, 86, 67, 39, 35, 10, 16, 45, 63, 28, 9, 86, 76, 35, 74, 27, 91, 48, 53, 85, 36, 22, 12, 43, 87, 89, 67, 50, 82, 90, 90, 46, 94, 88, 51, 36, 46, 76, 90, 10, 85, 91, 93, 93, 68, 91, 20, 70, 70, 75, 0, 0, 87, 82, 43, 31, 0, 83]\n"
     ]
    }
   ],
   "source": [
    "length_per_review = []\n",
    "for review_as_list_of_word in reviews_as_lists_of_words:\n",
    "    length_per_review.append( len(review_as_list_of_word) )\n",
    "print(\"length_per_review=\", length_per_review[:100])"
   ]
  },
  {
   "cell_type": "markdown",
   "metadata": {},
   "source": [
    "Now the histogram of the review lengths (in words):"
   ]
  },
  {
   "cell_type": "code",
   "execution_count": 23,
   "metadata": {},
   "outputs": [
    {
     "data": {
      "image/png": "[encoded data removed]",
      "text/plain": [
       "<Figure size 432x288 with 1 Axes>"
      ]
     },
     "metadata": {
      "needs_background": "light"
     },
     "output_type": "display_data"
    }
   ],
   "source": [
    "import matplotlib.pyplot as plt\n",
    "\n",
    "plt.hist(length_per_review, bins=100)\n",
    "plt.suptitle(\"How often do certain review lengths occur?\", fontsize=20)\n",
    "plt.show()"
   ]
  },
  {
   "cell_type": "markdown",
   "metadata": {},
   "source": [
    "# Preparing the training data\n",
    "\n",
    "For a given review (a sequence of words), we now want to have a sequence of word vectors. Then we have an appropriate input for our LSTM."
   ]
  },
  {
   "cell_type": "code",
   "execution_count": 25,
   "metadata": {},
   "outputs": [
    {
     "name": "stderr",
     "output_type": "stream",
     "text": [
      "/tmp/ipykernel_21672/697222449.py:28: DeprecationWarning: Call to deprecated `__getitem__` (Method will be removed in 4.0.0, use self.wv.__getitem__() instead).\n",
      "  word_vec = wordmodel[word]\n"
     ]
    }
   ],
   "source": [
    "import numpy as np\n",
    "\n",
    "REVIEW_LENGTH = 100\n",
    "\n",
    "nr_samples =len(reviews_as_lists_of_words)\n",
    "nr_features = EMBEDDED_VECTOR_DIM\n",
    "nr_time_steps = REVIEW_LENGTH\n",
    "\n",
    "def to_sequence_data():\n",
    "    dataX, dataY = [], []\n",
    "    \n",
    "    for review_nr in range( nr_samples ):\n",
    "        \n",
    "        # get the next review as a list of words\n",
    "        review = reviews_as_lists_of_words[review_nr]\n",
    "        \n",
    "        # create a matrix M\n",
    "        # for each time step we have one line with a 100 (review-length) x 150-dim word-vector\n",
    "        M = np.zeros( nr_time_steps*nr_features )\n",
    "        \n",
    "        pos = 0\n",
    "        for word_nr in range( min(REVIEW_LENGTH,len(review)) ):\n",
    "            \n",
    "            # get the next word from the review\n",
    "            word = review[word_nr]\n",
    "            \n",
    "            # get the corresponding word vector from gensim\n",
    "            word_vec = wordmodel[word]\n",
    "            \n",
    "            # copy the word-vector to the matrix\n",
    "            M[pos:pos+nr_features] = word_vec\n",
    "            pos += nr_features\n",
    "        \n",
    "        # put matrix M to the list of input samples        \n",
    "        dataX.append( M )\n",
    "                \n",
    "        # put the rating of this review to list of desired outputs\n",
    "        dataY.append( ratings[review_nr] )\n",
    "        \n",
    "    return np.array(dataX), np.array(dataY)\n",
    "\n",
    "dataX, dataY = to_sequence_data()"
   ]
  },
  {
   "cell_type": "code",
   "execution_count": 26,
   "metadata": {},
   "outputs": [
    {
     "name": "stdout",
     "output_type": "stream",
     "text": [
      "I have generated 23486 training samples.\n",
      "Shape of trainX is (23486, 15000)\n",
      "Shape of trainY is (23486,)\n",
      "\n",
      " [ 0.03837964 -1.45931387  1.6672287  ...  0.          0.\n",
      "  0.        ] --> 4\n"
     ]
    }
   ],
   "source": [
    "nr_training_samples = dataX.shape[0]\n",
    "print(\"I have generated\", nr_training_samples, \"training samples.\")\n",
    "\n",
    "print(\"Shape of trainX is\", dataX.shape)\n",
    "print(\"Shape of trainY is\", dataY.shape)\n",
    "\n",
    "print(\"\\n\",dataX[0], \"-->\", dataY[0])"
   ]
  },
  {
   "cell_type": "markdown",
   "metadata": {},
   "source": [
    "# Retention of some test data"
   ]
  },
  {
   "cell_type": "code",
   "execution_count": 27,
   "metadata": {},
   "outputs": [
    {
     "name": "stdout",
     "output_type": "stream",
     "text": [
      "There are 18788 many review samples for training.\n",
      "There are 4698 many review samples for testing.\n"
     ]
    }
   ],
   "source": [
    "RATIO_TO_USE_FOR_TRAIN = 0.8\n",
    "\n",
    "nr_train_samples = int(dataX.shape[0]*RATIO_TO_USE_FOR_TRAIN)\n",
    "nr_test_samples = dataX.shape[0]-nr_train_samples\n",
    "\n",
    "trainX = dataX[0:nr_train_samples]\n",
    "testX = dataX[nr_train_samples:]\n",
    "\n",
    "trainY = dataY[0:nr_train_samples]\n",
    "testY = dataY[nr_train_samples:]\n",
    "\n",
    "print(\"There are\", trainX.shape[0],\"many review samples for training.\")\n",
    "print(\"There are\", testX.shape[0],\"many review samples for testing.\")"
   ]
  },
  {
   "cell_type": "markdown",
   "metadata": {},
   "source": [
    "# Building and training the model\n",
    "\n"
   ]
  },
  {
   "cell_type": "code",
   "execution_count": 42,
   "metadata": {},
   "outputs": [
    {
     "name": "stdout",
     "output_type": "stream",
     "text": [
      "Model: \"sequential_4\"\n",
      "_________________________________________________________________\n",
      "Layer (type)                 Output Shape              Param #   \n",
      "=================================================================\n",
      "dense_6 (Dense)              (None, 100)               1500100   \n",
      "_________________________________________________________________\n",
      "dense_7 (Dense)              (None, 1)                 101       \n",
      "=================================================================\n",
      "Total params: 1,500,201\n",
      "Trainable params: 1,500,201\n",
      "Non-trainable params: 0\n",
      "_________________________________________________________________\n",
      "Epoch 1/20\n",
      "588/588 [==============================] - 27s 45ms/step - loss: 23.3030 - val_loss: 2.1815\n",
      "Epoch 2/20\n",
      "588/588 [==============================] - 27s 46ms/step - loss: 1.7437 - val_loss: 1.8500\n",
      "Epoch 3/20\n",
      "588/588 [==============================] - 27s 46ms/step - loss: 1.3522 - val_loss: 1.7036\n",
      "Epoch 4/20\n",
      "588/588 [==============================] - 28s 48ms/step - loss: 1.1923 - val_loss: 1.5516\n",
      "Epoch 5/20\n",
      "588/588 [==============================] - 27s 46ms/step - loss: 1.0298 - val_loss: 1.5492\n",
      "Epoch 6/20\n",
      "588/588 [==============================] - 28s 48ms/step - loss: 0.9091 - val_loss: 1.3677\n",
      "Epoch 7/20\n",
      "588/588 [==============================] - 29s 49ms/step - loss: 0.8140 - val_loss: 1.3323\n",
      "Epoch 8/20\n",
      "588/588 [==============================] - 28s 47ms/step - loss: 0.7380 - val_loss: 1.2544\n",
      "Epoch 9/20\n",
      "542/588 [==========================>...] - ETA: 1s - loss: 0.6825"
     ]
    },
    {
     "ename": "KeyboardInterrupt",
     "evalue": "",
     "output_type": "error",
     "traceback": [
      "\u001b[0;31m---------------------------------------------------------------------------\u001b[0m",
      "\u001b[0;31mKeyboardInterrupt\u001b[0m                         Traceback (most recent call last)",
      "\u001b[0;32m/tmp/ipykernel_21672/2810444828.py\u001b[0m in \u001b[0;36m<module>\u001b[0;34m\u001b[0m\n\u001b[1;32m      6\u001b[0m \u001b[0mmodel\u001b[0m\u001b[0;34m.\u001b[0m\u001b[0mcompile\u001b[0m\u001b[0;34m(\u001b[0m\u001b[0mloss\u001b[0m\u001b[0;34m=\u001b[0m\u001b[0;34m'mean_squared_error'\u001b[0m\u001b[0;34m,\u001b[0m \u001b[0moptimizer\u001b[0m\u001b[0;34m=\u001b[0m\u001b[0;34m'adam'\u001b[0m\u001b[0;34m)\u001b[0m\u001b[0;34m\u001b[0m\u001b[0;34m\u001b[0m\u001b[0m\n\u001b[1;32m      7\u001b[0m \u001b[0mmodel\u001b[0m\u001b[0;34m.\u001b[0m\u001b[0msummary\u001b[0m\u001b[0;34m(\u001b[0m\u001b[0;34m)\u001b[0m\u001b[0;34m\u001b[0m\u001b[0;34m\u001b[0m\u001b[0m\n\u001b[0;32m----> 8\u001b[0;31m history = model.fit(trainX,\n\u001b[0m\u001b[1;32m      9\u001b[0m                     \u001b[0mtrainY\u001b[0m\u001b[0;34m,\u001b[0m\u001b[0;34m\u001b[0m\u001b[0;34m\u001b[0m\u001b[0m\n\u001b[1;32m     10\u001b[0m                     \u001b[0mepochs\u001b[0m\u001b[0;34m=\u001b[0m\u001b[0;36m20\u001b[0m\u001b[0;34m,\u001b[0m\u001b[0;34m\u001b[0m\u001b[0;34m\u001b[0m\u001b[0m\n",
      "\u001b[0;32m~/anaconda3/envs/env_generic/lib/python3.9/site-packages/tensorflow/python/keras/engine/training.py\u001b[0m in \u001b[0;36mfit\u001b[0;34m(self, x, y, batch_size, epochs, verbose, callbacks, validation_split, validation_data, shuffle, class_weight, sample_weight, initial_epoch, steps_per_epoch, validation_steps, validation_batch_size, validation_freq, max_queue_size, workers, use_multiprocessing)\u001b[0m\n\u001b[1;32m   1098\u001b[0m                 _r=1):\n\u001b[1;32m   1099\u001b[0m               \u001b[0mcallbacks\u001b[0m\u001b[0;34m.\u001b[0m\u001b[0mon_train_batch_begin\u001b[0m\u001b[0;34m(\u001b[0m\u001b[0mstep\u001b[0m\u001b[0;34m)\u001b[0m\u001b[0;34m\u001b[0m\u001b[0;34m\u001b[0m\u001b[0m\n\u001b[0;32m-> 1100\u001b[0;31m               \u001b[0mtmp_logs\u001b[0m \u001b[0;34m=\u001b[0m \u001b[0mself\u001b[0m\u001b[0;34m.\u001b[0m\u001b[0mtrain_function\u001b[0m\u001b[0;34m(\u001b[0m\u001b[0miterator\u001b[0m\u001b[0;34m)\u001b[0m\u001b[0;34m\u001b[0m\u001b[0;34m\u001b[0m\u001b[0m\n\u001b[0m\u001b[1;32m   1101\u001b[0m               \u001b[0;32mif\u001b[0m \u001b[0mdata_handler\u001b[0m\u001b[0;34m.\u001b[0m\u001b[0mshould_sync\u001b[0m\u001b[0;34m:\u001b[0m\u001b[0;34m\u001b[0m\u001b[0;34m\u001b[0m\u001b[0m\n\u001b[1;32m   1102\u001b[0m                 \u001b[0mcontext\u001b[0m\u001b[0;34m.\u001b[0m\u001b[0masync_wait\u001b[0m\u001b[0;34m(\u001b[0m\u001b[0;34m)\u001b[0m\u001b[0;34m\u001b[0m\u001b[0;34m\u001b[0m\u001b[0m\n",
      "\u001b[0;32m~/anaconda3/envs/env_generic/lib/python3.9/site-packages/tensorflow/python/eager/def_function.py\u001b[0m in \u001b[0;36m__call__\u001b[0;34m(self, *args, **kwds)\u001b[0m\n\u001b[1;32m    826\u001b[0m     \u001b[0mtracing_count\u001b[0m \u001b[0;34m=\u001b[0m \u001b[0mself\u001b[0m\u001b[0;34m.\u001b[0m\u001b[0mexperimental_get_tracing_count\u001b[0m\u001b[0;34m(\u001b[0m\u001b[0;34m)\u001b[0m\u001b[0;34m\u001b[0m\u001b[0;34m\u001b[0m\u001b[0m\n\u001b[1;32m    827\u001b[0m     \u001b[0;32mwith\u001b[0m \u001b[0mtrace\u001b[0m\u001b[0;34m.\u001b[0m\u001b[0mTrace\u001b[0m\u001b[0;34m(\u001b[0m\u001b[0mself\u001b[0m\u001b[0;34m.\u001b[0m\u001b[0m_name\u001b[0m\u001b[0;34m)\u001b[0m \u001b[0;32mas\u001b[0m \u001b[0mtm\u001b[0m\u001b[0;34m:\u001b[0m\u001b[0;34m\u001b[0m\u001b[0;34m\u001b[0m\u001b[0m\n\u001b[0;32m--> 828\u001b[0;31m       \u001b[0mresult\u001b[0m \u001b[0;34m=\u001b[0m \u001b[0mself\u001b[0m\u001b[0;34m.\u001b[0m\u001b[0m_call\u001b[0m\u001b[0;34m(\u001b[0m\u001b[0;34m*\u001b[0m\u001b[0margs\u001b[0m\u001b[0;34m,\u001b[0m \u001b[0;34m**\u001b[0m\u001b[0mkwds\u001b[0m\u001b[0;34m)\u001b[0m\u001b[0;34m\u001b[0m\u001b[0;34m\u001b[0m\u001b[0m\n\u001b[0m\u001b[1;32m    829\u001b[0m       \u001b[0mcompiler\u001b[0m \u001b[0;34m=\u001b[0m \u001b[0;34m\"xla\"\u001b[0m \u001b[0;32mif\u001b[0m \u001b[0mself\u001b[0m\u001b[0;34m.\u001b[0m\u001b[0m_experimental_compile\u001b[0m \u001b[0;32melse\u001b[0m \u001b[0;34m\"nonXla\"\u001b[0m\u001b[0;34m\u001b[0m\u001b[0;34m\u001b[0m\u001b[0m\n\u001b[1;32m    830\u001b[0m       \u001b[0mnew_tracing_count\u001b[0m \u001b[0;34m=\u001b[0m \u001b[0mself\u001b[0m\u001b[0;34m.\u001b[0m\u001b[0mexperimental_get_tracing_count\u001b[0m\u001b[0;34m(\u001b[0m\u001b[0;34m)\u001b[0m\u001b[0;34m\u001b[0m\u001b[0;34m\u001b[0m\u001b[0m\n",
      "\u001b[0;32m~/anaconda3/envs/env_generic/lib/python3.9/site-packages/tensorflow/python/eager/def_function.py\u001b[0m in \u001b[0;36m_call\u001b[0;34m(self, *args, **kwds)\u001b[0m\n\u001b[1;32m    853\u001b[0m       \u001b[0;31m# In this case we have created variables on the first call, so we run the\u001b[0m\u001b[0;34m\u001b[0m\u001b[0;34m\u001b[0m\u001b[0m\n\u001b[1;32m    854\u001b[0m       \u001b[0;31m# defunned version which is guaranteed to never create variables.\u001b[0m\u001b[0;34m\u001b[0m\u001b[0;34m\u001b[0m\u001b[0m\n\u001b[0;32m--> 855\u001b[0;31m       \u001b[0;32mreturn\u001b[0m \u001b[0mself\u001b[0m\u001b[0;34m.\u001b[0m\u001b[0m_stateless_fn\u001b[0m\u001b[0;34m(\u001b[0m\u001b[0;34m*\u001b[0m\u001b[0margs\u001b[0m\u001b[0;34m,\u001b[0m \u001b[0;34m**\u001b[0m\u001b[0mkwds\u001b[0m\u001b[0;34m)\u001b[0m  \u001b[0;31m# pylint: disable=not-callable\u001b[0m\u001b[0;34m\u001b[0m\u001b[0;34m\u001b[0m\u001b[0m\n\u001b[0m\u001b[1;32m    856\u001b[0m     \u001b[0;32melif\u001b[0m \u001b[0mself\u001b[0m\u001b[0;34m.\u001b[0m\u001b[0m_stateful_fn\u001b[0m \u001b[0;32mis\u001b[0m \u001b[0;32mnot\u001b[0m \u001b[0;32mNone\u001b[0m\u001b[0;34m:\u001b[0m\u001b[0;34m\u001b[0m\u001b[0;34m\u001b[0m\u001b[0m\n\u001b[1;32m    857\u001b[0m       \u001b[0;31m# Release the lock early so that multiple threads can perform the call\u001b[0m\u001b[0;34m\u001b[0m\u001b[0;34m\u001b[0m\u001b[0m\n",
      "\u001b[0;32m~/anaconda3/envs/env_generic/lib/python3.9/site-packages/tensorflow/python/eager/function.py\u001b[0m in \u001b[0;36m__call__\u001b[0;34m(self, *args, **kwargs)\u001b[0m\n\u001b[1;32m   2940\u001b[0m       (graph_function,\n\u001b[1;32m   2941\u001b[0m        filtered_flat_args) = self._maybe_define_function(args, kwargs)\n\u001b[0;32m-> 2942\u001b[0;31m     return graph_function._call_flat(\n\u001b[0m\u001b[1;32m   2943\u001b[0m         filtered_flat_args, captured_inputs=graph_function.captured_inputs)  # pylint: disable=protected-access\n\u001b[1;32m   2944\u001b[0m \u001b[0;34m\u001b[0m\u001b[0m\n",
      "\u001b[0;32m~/anaconda3/envs/env_generic/lib/python3.9/site-packages/tensorflow/python/eager/function.py\u001b[0m in \u001b[0;36m_call_flat\u001b[0;34m(self, args, captured_inputs, cancellation_manager)\u001b[0m\n\u001b[1;32m   1916\u001b[0m         and executing_eagerly):\n\u001b[1;32m   1917\u001b[0m       \u001b[0;31m# No tape is watching; skip to running the function.\u001b[0m\u001b[0;34m\u001b[0m\u001b[0;34m\u001b[0m\u001b[0m\n\u001b[0;32m-> 1918\u001b[0;31m       return self._build_call_outputs(self._inference_function.call(\n\u001b[0m\u001b[1;32m   1919\u001b[0m           ctx, args, cancellation_manager=cancellation_manager))\n\u001b[1;32m   1920\u001b[0m     forward_backward = self._select_forward_and_backward_functions(\n",
      "\u001b[0;32m~/anaconda3/envs/env_generic/lib/python3.9/site-packages/tensorflow/python/eager/function.py\u001b[0m in \u001b[0;36mcall\u001b[0;34m(self, ctx, args, cancellation_manager)\u001b[0m\n\u001b[1;32m    589\u001b[0m                 executor_type=executor_type)\n\u001b[1;32m    590\u001b[0m \u001b[0;34m\u001b[0m\u001b[0m\n\u001b[0;32m--> 591\u001b[0;31m     \u001b[0;32mfor\u001b[0m \u001b[0mi\u001b[0m\u001b[0;34m,\u001b[0m \u001b[0mfunc_graph_output\u001b[0m \u001b[0;32min\u001b[0m \u001b[0menumerate\u001b[0m\u001b[0;34m(\u001b[0m\u001b[0mself\u001b[0m\u001b[0;34m.\u001b[0m\u001b[0m_func_graph_outputs\u001b[0m\u001b[0;34m)\u001b[0m\u001b[0;34m:\u001b[0m\u001b[0;34m\u001b[0m\u001b[0;34m\u001b[0m\u001b[0m\n\u001b[0m\u001b[1;32m    592\u001b[0m       \u001b[0mcustom_gradient\u001b[0m\u001b[0;34m.\u001b[0m\u001b[0mcopy_handle_data\u001b[0m\u001b[0;34m(\u001b[0m\u001b[0mfunc_graph_output\u001b[0m\u001b[0;34m,\u001b[0m \u001b[0moutputs\u001b[0m\u001b[0;34m[\u001b[0m\u001b[0mi\u001b[0m\u001b[0;34m]\u001b[0m\u001b[0;34m)\u001b[0m\u001b[0;34m\u001b[0m\u001b[0;34m\u001b[0m\u001b[0m\n\u001b[1;32m    593\u001b[0m     \u001b[0;32mif\u001b[0m \u001b[0mexecuting_eagerly\u001b[0m\u001b[0;34m:\u001b[0m\u001b[0;34m\u001b[0m\u001b[0;34m\u001b[0m\u001b[0m\n",
      "\u001b[0;31mKeyboardInterrupt\u001b[0m: "
     ]
    }
   ],
   "source": [
    "from tensorflow import keras\n",
    "\n",
    "model = keras.Sequential()\n",
    "model.add(keras.layers.Dense(100, input_shape=(nr_time_steps*nr_features,)))\n",
    "model.add(keras.layers.Dense(1))\n",
    "model.compile(loss='mean_squared_error', optimizer='adam')    \n",
    "model.summary()\n",
    "history = model.fit(trainX,\n",
    "                    trainY,\n",
    "                    epochs=20,\n",
    "                    batch_size=32,\n",
    "                    verbose=1,\n",
    "                    validation_data=(testX, testY))"
   ]
  },
  {
   "cell_type": "markdown",
   "metadata": {},
   "source": [
    "# Testing the model"
   ]
  },
  {
   "cell_type": "code",
   "execution_count": 43,
   "metadata": {},
   "outputs": [
    {
     "data": {
      "text/plain": [
       "(4698, 15000)"
      ]
     },
     "execution_count": 43,
     "metadata": {},
     "output_type": "execute_result"
    }
   ],
   "source": [
    "testX.shape"
   ]
  },
  {
   "cell_type": "code",
   "execution_count": 44,
   "metadata": {},
   "outputs": [
    {
     "data": {
      "text/plain": [
       "(4698,)"
      ]
     },
     "execution_count": 44,
     "metadata": {},
     "output_type": "execute_result"
    }
   ],
   "source": [
    "testY.shape"
   ]
  },
  {
   "cell_type": "code",
   "execution_count": 45,
   "metadata": {},
   "outputs": [],
   "source": [
    "testPredict = model.predict(testX)"
   ]
  },
  {
   "cell_type": "code",
   "execution_count": 46,
   "metadata": {},
   "outputs": [
    {
     "data": {
      "text/plain": [
       "(4698, 1)"
      ]
     },
     "execution_count": 46,
     "metadata": {},
     "output_type": "execute_result"
    }
   ],
   "source": [
    "testPredict.shape"
   ]
  },
  {
   "cell_type": "code",
   "execution_count": 47,
   "metadata": {},
   "outputs": [
    {
     "name": "stdout",
     "output_type": "stream",
     "text": [
      "Shape of testPredict is (4698,)\n"
     ]
    }
   ],
   "source": [
    "testPredict = testPredict.reshape(-1)\n",
    "print(\"Shape of testPredict is\", testPredict.shape)"
   ]
  },
  {
   "cell_type": "code",
   "execution_count": 48,
   "metadata": {},
   "outputs": [
    {
     "data": {
      "text/plain": [
       "array([3.1738088, 3.9689116, 5.4475346, 3.798388 , 5.527534 , 5.651041 ,\n",
       "       2.6242702, 6.045885 , 5.2540245, 1.8267742], dtype=float32)"
      ]
     },
     "execution_count": 48,
     "metadata": {},
     "output_type": "execute_result"
    }
   ],
   "source": [
    "testPredict[:10]"
   ]
  },
  {
   "cell_type": "code",
   "execution_count": 49,
   "metadata": {},
   "outputs": [
    {
     "data": {
      "text/plain": [
       "array([3, 5, 5, 5, 5, 5, 4, 2, 3, 2])"
      ]
     },
     "execution_count": 49,
     "metadata": {},
     "output_type": "execute_result"
    }
   ],
   "source": [
    "testY[:10]"
   ]
  },
  {
   "cell_type": "code",
   "execution_count": 50,
   "metadata": {},
   "outputs": [
    {
     "name": "stdout",
     "output_type": "stream",
     "text": [
      "In average we can estimate the rating on a 1-5 scale\n",
      "with an error of 0.888345502396247\n"
     ]
    }
   ],
   "source": [
    "avg_error = np.mean( np.abs(testY - testPredict) )\n",
    "print(\"In average we can estimate the rating on a 1-5 scale\\nwith an error of\", avg_error )"
   ]
  },
  {
   "cell_type": "code",
   "execution_count": null,
   "metadata": {},
   "outputs": [],
   "source": []
  }
 ],
 "metadata": {
  "kernelspec": {
   "display_name": "Python 3 (ipykernel)",
   "language": "python",
   "name": "python3"
  },
  "language_info": {
   "codemirror_mode": {
    "name": "ipython",
    "version": 3
   },
   "file_extension": ".py",
   "mimetype": "text/x-python",
   "name": "python",
   "nbconvert_exporter": "python",
   "pygments_lexer": "ipython3",
   "version": "3.9.7"
  },
  "toc": {
   "base_numbering": 1,
   "nav_menu": {},
   "number_sections": true,
   "sideBar": true,
   "skip_h1_title": false,
   "title_cell": "Table of Contents",
   "title_sidebar": "Contents",
   "toc_cell": true,
   "toc_position": {},
   "toc_section_display": true,
   "toc_window_display": true
  }
 },
 "nbformat": 4,
 "nbformat_minor": 4
}
