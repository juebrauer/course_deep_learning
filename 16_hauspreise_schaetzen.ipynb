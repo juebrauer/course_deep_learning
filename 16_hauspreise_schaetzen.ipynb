{
 "cells": [
  {
   "cell_type": "markdown",
   "metadata": {
    "toc": true
   },
   "source": [
    "<h1>Inhaltsverzeichnis<span class=\"tocSkip\"></span></h1>\n",
    "<div class=\"toc\"><ul class=\"toc-item\"><li><span><a href=\"#Einleitung\" data-toc-modified-id=\"Einleitung-1\"><span class=\"toc-item-num\">1&nbsp;&nbsp;</span>Einleitung</a></span></li><li><span><a href=\"#Verwendeter-Datensatz\" data-toc-modified-id=\"Verwendeter-Datensatz-2\"><span class=\"toc-item-num\">2&nbsp;&nbsp;</span>Verwendeter Datensatz</a></span></li><li><span><a href=\"#Daten-einlesen\" data-toc-modified-id=\"Daten-einlesen-3\"><span class=\"toc-item-num\">3&nbsp;&nbsp;</span>Daten einlesen</a></span></li><li><span><a href=\"#Kategoriale-Spalten-verwenden\" data-toc-modified-id=\"Kategoriale-Spalten-verwenden-4\"><span class=\"toc-item-num\">4&nbsp;&nbsp;</span>Kategoriale Spalten verwenden</a></span></li><li><span><a href=\"#Spalten-selektieren,-Daten-plotten\" data-toc-modified-id=\"Spalten-selektieren,-Daten-plotten-5\"><span class=\"toc-item-num\">5&nbsp;&nbsp;</span>Spalten selektieren, Daten plotten</a></span></li><li><span><a href=\"#Daten-normalisieren\" data-toc-modified-id=\"Daten-normalisieren-6\"><span class=\"toc-item-num\">6&nbsp;&nbsp;</span>Daten normalisieren</a></span></li><li><span><a href=\"#Trainings--und-Testdaten-definieren\" data-toc-modified-id=\"Trainings--und-Testdaten-definieren-7\"><span class=\"toc-item-num\">7&nbsp;&nbsp;</span>Trainings- und Testdaten definieren</a></span></li><li><span><a href=\"#MLP-vorbereiten\" data-toc-modified-id=\"MLP-vorbereiten-8\"><span class=\"toc-item-num\">8&nbsp;&nbsp;</span>MLP vorbereiten</a></span></li><li><span><a href=\"#MLP-trainieren\" data-toc-modified-id=\"MLP-trainieren-9\"><span class=\"toc-item-num\">9&nbsp;&nbsp;</span>MLP trainieren</a></span></li><li><span><a href=\"#Modell-testen/anwenden\" data-toc-modified-id=\"Modell-testen/anwenden-10\"><span class=\"toc-item-num\">10&nbsp;&nbsp;</span>Modell testen/anwenden</a></span></li><li><span><a href=\"#Modell-speichern\" data-toc-modified-id=\"Modell-speichern-11\"><span class=\"toc-item-num\">11&nbsp;&nbsp;</span>Modell speichern</a></span></li><li><span><a href=\"#Modell-wiederherstellen-und-anwenden\" data-toc-modified-id=\"Modell-wiederherstellen-und-anwenden-12\"><span class=\"toc-item-num\">12&nbsp;&nbsp;</span>Modell wiederherstellen und anwenden</a></span></li><li><span><a href=\"#Sensitivitätsanalyse\" data-toc-modified-id=\"Sensitivitätsanalyse-13\"><span class=\"toc-item-num\">13&nbsp;&nbsp;</span>Sensitivitätsanalyse</a></span></li></ul></div>"
   ]
  },
  {
   "cell_type": "markdown",
   "metadata": {},
   "source": [
    "# Einleitung"
   ]
  },
  {
   "cell_type": "markdown",
   "metadata": {},
   "source": [
    "In diesem Jupyter-Notebook durchlaufen wir alle relevanten Schritte des Machine-Learnings:\n",
    "1. Daten einlesen\n",
    "2. Daten vorverarbeiten\n",
    "3. Trainings- und Testdaten vorbereiten\n",
    "4. Machine-Learning Modell definieren (hier: ein MLP)\n",
    "5. Modell trainieren\n",
    "6. Modell testen/anwenden\n",
    "7. Modell speichern/wiederherstellen"
   ]
  },
  {
   "cell_type": "markdown",
   "metadata": {},
   "source": [
    "# Verwendeter Datensatz"
   ]
  },
  {
   "cell_type": "markdown",
   "metadata": {},
   "source": [
    "Wir wollen mit realen Daten arbeiten. Bei [Kaggle](https://www.kaggle.com/) können wir viele Datensätze finden. Diesen hier verwenden wir im Folgenden:\n",
    "\n",
    "https://www.kaggle.com/c/house-prices-advanced-regression-techniques\n",
    "\n",
    "Der Datensatz enthält in den Trainingsdaten 1460 Beispiele von Häusern, wobei deren Eigenschaften und deren jeweiliger tatsächlicher Verkaufspreis aufgeführt ist."
   ]
  },
  {
   "cell_type": "markdown",
   "metadata": {},
   "source": [
    "# Daten einlesen"
   ]
  },
  {
   "cell_type": "markdown",
   "metadata": {},
   "source": [
    "Die Datensätze liegen oft als .csv Dateien vor. Diese können mittels der Bibliothek Pandas einfach eingelesen werden.\n",
    "\n",
    "Wenn Pandas noch nicht installiert ist, kann diese Bibliothek mittels\n",
    "\n",
    "    conda install pandas\n",
    "\n",
    "unter der Anaconda Prompt installiert werden."
   ]
  },
  {
   "cell_type": "code",
   "execution_count": 1,
   "metadata": {},
   "outputs": [
    {
     "name": "stdout",
     "output_type": "stream",
     "text": [
      "2.3.0\n"
     ]
    }
   ],
   "source": [
    "import tensorflow as tf\n",
    "print(tf.__version__)"
   ]
  },
  {
   "cell_type": "code",
   "execution_count": 2,
   "metadata": {},
   "outputs": [
    {
     "name": "stdout",
     "output_type": "stream",
     "text": [
      "1.2.0\n"
     ]
    }
   ],
   "source": [
    "import pandas as pd\n",
    "print(pd.__version__)"
   ]
  },
  {
   "cell_type": "code",
   "execution_count": 3,
   "metadata": {},
   "outputs": [],
   "source": [
    "df = pd.read_csv(\"hausbeispiele.csv\")"
   ]
  },
  {
   "cell_type": "code",
   "execution_count": 4,
   "metadata": {},
   "outputs": [
    {
     "data": {
      "text/plain": [
       "pandas.core.frame.DataFrame"
      ]
     },
     "execution_count": 4,
     "metadata": {},
     "output_type": "execute_result"
    }
   ],
   "source": [
    "type( df )"
   ]
  },
  {
   "cell_type": "code",
   "execution_count": 5,
   "metadata": {},
   "outputs": [
    {
     "data": {
      "text/html": [
       "<div>\n",
       "<style scoped>\n",
       "    .dataframe tbody tr th:only-of-type {\n",
       "        vertical-align: middle;\n",
       "    }\n",
       "\n",
       "    .dataframe tbody tr th {\n",
       "        vertical-align: top;\n",
       "    }\n",
       "\n",
       "    .dataframe thead th {\n",
       "        text-align: right;\n",
       "    }\n",
       "</style>\n",
       "<table border=\"1\" class=\"dataframe\">\n",
       "  <thead>\n",
       "    <tr style=\"text-align: right;\">\n",
       "      <th></th>\n",
       "      <th>Id</th>\n",
       "      <th>MSSubClass</th>\n",
       "      <th>MSZoning</th>\n",
       "      <th>LotFrontage</th>\n",
       "      <th>LotArea</th>\n",
       "      <th>Street</th>\n",
       "      <th>Alley</th>\n",
       "      <th>LotShape</th>\n",
       "      <th>LandContour</th>\n",
       "      <th>Utilities</th>\n",
       "      <th>...</th>\n",
       "      <th>PoolArea</th>\n",
       "      <th>PoolQC</th>\n",
       "      <th>Fence</th>\n",
       "      <th>MiscFeature</th>\n",
       "      <th>MiscVal</th>\n",
       "      <th>MoSold</th>\n",
       "      <th>YrSold</th>\n",
       "      <th>SaleType</th>\n",
       "      <th>SaleCondition</th>\n",
       "      <th>SalePrice</th>\n",
       "    </tr>\n",
       "  </thead>\n",
       "  <tbody>\n",
       "    <tr>\n",
       "      <th>0</th>\n",
       "      <td>1</td>\n",
       "      <td>60</td>\n",
       "      <td>RL</td>\n",
       "      <td>65.0</td>\n",
       "      <td>8450</td>\n",
       "      <td>Pave</td>\n",
       "      <td>NaN</td>\n",
       "      <td>Reg</td>\n",
       "      <td>Lvl</td>\n",
       "      <td>AllPub</td>\n",
       "      <td>...</td>\n",
       "      <td>0</td>\n",
       "      <td>NaN</td>\n",
       "      <td>NaN</td>\n",
       "      <td>NaN</td>\n",
       "      <td>0</td>\n",
       "      <td>2</td>\n",
       "      <td>2008</td>\n",
       "      <td>WD</td>\n",
       "      <td>Normal</td>\n",
       "      <td>208500</td>\n",
       "    </tr>\n",
       "    <tr>\n",
       "      <th>1</th>\n",
       "      <td>2</td>\n",
       "      <td>20</td>\n",
       "      <td>RL</td>\n",
       "      <td>80.0</td>\n",
       "      <td>9600</td>\n",
       "      <td>Pave</td>\n",
       "      <td>NaN</td>\n",
       "      <td>Reg</td>\n",
       "      <td>Lvl</td>\n",
       "      <td>AllPub</td>\n",
       "      <td>...</td>\n",
       "      <td>0</td>\n",
       "      <td>NaN</td>\n",
       "      <td>NaN</td>\n",
       "      <td>NaN</td>\n",
       "      <td>0</td>\n",
       "      <td>5</td>\n",
       "      <td>2007</td>\n",
       "      <td>WD</td>\n",
       "      <td>Normal</td>\n",
       "      <td>181500</td>\n",
       "    </tr>\n",
       "    <tr>\n",
       "      <th>2</th>\n",
       "      <td>3</td>\n",
       "      <td>60</td>\n",
       "      <td>RL</td>\n",
       "      <td>68.0</td>\n",
       "      <td>11250</td>\n",
       "      <td>Pave</td>\n",
       "      <td>NaN</td>\n",
       "      <td>IR1</td>\n",
       "      <td>Lvl</td>\n",
       "      <td>AllPub</td>\n",
       "      <td>...</td>\n",
       "      <td>0</td>\n",
       "      <td>NaN</td>\n",
       "      <td>NaN</td>\n",
       "      <td>NaN</td>\n",
       "      <td>0</td>\n",
       "      <td>9</td>\n",
       "      <td>2008</td>\n",
       "      <td>WD</td>\n",
       "      <td>Normal</td>\n",
       "      <td>223500</td>\n",
       "    </tr>\n",
       "    <tr>\n",
       "      <th>3</th>\n",
       "      <td>4</td>\n",
       "      <td>70</td>\n",
       "      <td>RL</td>\n",
       "      <td>60.0</td>\n",
       "      <td>9550</td>\n",
       "      <td>Pave</td>\n",
       "      <td>NaN</td>\n",
       "      <td>IR1</td>\n",
       "      <td>Lvl</td>\n",
       "      <td>AllPub</td>\n",
       "      <td>...</td>\n",
       "      <td>0</td>\n",
       "      <td>NaN</td>\n",
       "      <td>NaN</td>\n",
       "      <td>NaN</td>\n",
       "      <td>0</td>\n",
       "      <td>2</td>\n",
       "      <td>2006</td>\n",
       "      <td>WD</td>\n",
       "      <td>Abnorml</td>\n",
       "      <td>140000</td>\n",
       "    </tr>\n",
       "    <tr>\n",
       "      <th>4</th>\n",
       "      <td>5</td>\n",
       "      <td>60</td>\n",
       "      <td>RL</td>\n",
       "      <td>84.0</td>\n",
       "      <td>14260</td>\n",
       "      <td>Pave</td>\n",
       "      <td>NaN</td>\n",
       "      <td>IR1</td>\n",
       "      <td>Lvl</td>\n",
       "      <td>AllPub</td>\n",
       "      <td>...</td>\n",
       "      <td>0</td>\n",
       "      <td>NaN</td>\n",
       "      <td>NaN</td>\n",
       "      <td>NaN</td>\n",
       "      <td>0</td>\n",
       "      <td>12</td>\n",
       "      <td>2008</td>\n",
       "      <td>WD</td>\n",
       "      <td>Normal</td>\n",
       "      <td>250000</td>\n",
       "    </tr>\n",
       "    <tr>\n",
       "      <th>...</th>\n",
       "      <td>...</td>\n",
       "      <td>...</td>\n",
       "      <td>...</td>\n",
       "      <td>...</td>\n",
       "      <td>...</td>\n",
       "      <td>...</td>\n",
       "      <td>...</td>\n",
       "      <td>...</td>\n",
       "      <td>...</td>\n",
       "      <td>...</td>\n",
       "      <td>...</td>\n",
       "      <td>...</td>\n",
       "      <td>...</td>\n",
       "      <td>...</td>\n",
       "      <td>...</td>\n",
       "      <td>...</td>\n",
       "      <td>...</td>\n",
       "      <td>...</td>\n",
       "      <td>...</td>\n",
       "      <td>...</td>\n",
       "      <td>...</td>\n",
       "    </tr>\n",
       "    <tr>\n",
       "      <th>1455</th>\n",
       "      <td>1456</td>\n",
       "      <td>60</td>\n",
       "      <td>RL</td>\n",
       "      <td>62.0</td>\n",
       "      <td>7917</td>\n",
       "      <td>Pave</td>\n",
       "      <td>NaN</td>\n",
       "      <td>Reg</td>\n",
       "      <td>Lvl</td>\n",
       "      <td>AllPub</td>\n",
       "      <td>...</td>\n",
       "      <td>0</td>\n",
       "      <td>NaN</td>\n",
       "      <td>NaN</td>\n",
       "      <td>NaN</td>\n",
       "      <td>0</td>\n",
       "      <td>8</td>\n",
       "      <td>2007</td>\n",
       "      <td>WD</td>\n",
       "      <td>Normal</td>\n",
       "      <td>175000</td>\n",
       "    </tr>\n",
       "    <tr>\n",
       "      <th>1456</th>\n",
       "      <td>1457</td>\n",
       "      <td>20</td>\n",
       "      <td>RL</td>\n",
       "      <td>85.0</td>\n",
       "      <td>13175</td>\n",
       "      <td>Pave</td>\n",
       "      <td>NaN</td>\n",
       "      <td>Reg</td>\n",
       "      <td>Lvl</td>\n",
       "      <td>AllPub</td>\n",
       "      <td>...</td>\n",
       "      <td>0</td>\n",
       "      <td>NaN</td>\n",
       "      <td>MnPrv</td>\n",
       "      <td>NaN</td>\n",
       "      <td>0</td>\n",
       "      <td>2</td>\n",
       "      <td>2010</td>\n",
       "      <td>WD</td>\n",
       "      <td>Normal</td>\n",
       "      <td>210000</td>\n",
       "    </tr>\n",
       "    <tr>\n",
       "      <th>1457</th>\n",
       "      <td>1458</td>\n",
       "      <td>70</td>\n",
       "      <td>RL</td>\n",
       "      <td>66.0</td>\n",
       "      <td>9042</td>\n",
       "      <td>Pave</td>\n",
       "      <td>NaN</td>\n",
       "      <td>Reg</td>\n",
       "      <td>Lvl</td>\n",
       "      <td>AllPub</td>\n",
       "      <td>...</td>\n",
       "      <td>0</td>\n",
       "      <td>NaN</td>\n",
       "      <td>GdPrv</td>\n",
       "      <td>Shed</td>\n",
       "      <td>2500</td>\n",
       "      <td>5</td>\n",
       "      <td>2010</td>\n",
       "      <td>WD</td>\n",
       "      <td>Normal</td>\n",
       "      <td>266500</td>\n",
       "    </tr>\n",
       "    <tr>\n",
       "      <th>1458</th>\n",
       "      <td>1459</td>\n",
       "      <td>20</td>\n",
       "      <td>RL</td>\n",
       "      <td>68.0</td>\n",
       "      <td>9717</td>\n",
       "      <td>Pave</td>\n",
       "      <td>NaN</td>\n",
       "      <td>Reg</td>\n",
       "      <td>Lvl</td>\n",
       "      <td>AllPub</td>\n",
       "      <td>...</td>\n",
       "      <td>0</td>\n",
       "      <td>NaN</td>\n",
       "      <td>NaN</td>\n",
       "      <td>NaN</td>\n",
       "      <td>0</td>\n",
       "      <td>4</td>\n",
       "      <td>2010</td>\n",
       "      <td>WD</td>\n",
       "      <td>Normal</td>\n",
       "      <td>142125</td>\n",
       "    </tr>\n",
       "    <tr>\n",
       "      <th>1459</th>\n",
       "      <td>1460</td>\n",
       "      <td>20</td>\n",
       "      <td>RL</td>\n",
       "      <td>75.0</td>\n",
       "      <td>9937</td>\n",
       "      <td>Pave</td>\n",
       "      <td>NaN</td>\n",
       "      <td>Reg</td>\n",
       "      <td>Lvl</td>\n",
       "      <td>AllPub</td>\n",
       "      <td>...</td>\n",
       "      <td>0</td>\n",
       "      <td>NaN</td>\n",
       "      <td>NaN</td>\n",
       "      <td>NaN</td>\n",
       "      <td>0</td>\n",
       "      <td>6</td>\n",
       "      <td>2008</td>\n",
       "      <td>WD</td>\n",
       "      <td>Normal</td>\n",
       "      <td>147500</td>\n",
       "    </tr>\n",
       "  </tbody>\n",
       "</table>\n",
       "<p>1460 rows × 81 columns</p>\n",
       "</div>"
      ],
      "text/plain": [
       "        Id  MSSubClass MSZoning  LotFrontage  LotArea Street Alley LotShape  \\\n",
       "0        1          60       RL         65.0     8450   Pave   NaN      Reg   \n",
       "1        2          20       RL         80.0     9600   Pave   NaN      Reg   \n",
       "2        3          60       RL         68.0    11250   Pave   NaN      IR1   \n",
       "3        4          70       RL         60.0     9550   Pave   NaN      IR1   \n",
       "4        5          60       RL         84.0    14260   Pave   NaN      IR1   \n",
       "...    ...         ...      ...          ...      ...    ...   ...      ...   \n",
       "1455  1456          60       RL         62.0     7917   Pave   NaN      Reg   \n",
       "1456  1457          20       RL         85.0    13175   Pave   NaN      Reg   \n",
       "1457  1458          70       RL         66.0     9042   Pave   NaN      Reg   \n",
       "1458  1459          20       RL         68.0     9717   Pave   NaN      Reg   \n",
       "1459  1460          20       RL         75.0     9937   Pave   NaN      Reg   \n",
       "\n",
       "     LandContour Utilities  ... PoolArea PoolQC  Fence MiscFeature MiscVal  \\\n",
       "0            Lvl    AllPub  ...        0    NaN    NaN         NaN       0   \n",
       "1            Lvl    AllPub  ...        0    NaN    NaN         NaN       0   \n",
       "2            Lvl    AllPub  ...        0    NaN    NaN         NaN       0   \n",
       "3            Lvl    AllPub  ...        0    NaN    NaN         NaN       0   \n",
       "4            Lvl    AllPub  ...        0    NaN    NaN         NaN       0   \n",
       "...          ...       ...  ...      ...    ...    ...         ...     ...   \n",
       "1455         Lvl    AllPub  ...        0    NaN    NaN         NaN       0   \n",
       "1456         Lvl    AllPub  ...        0    NaN  MnPrv         NaN       0   \n",
       "1457         Lvl    AllPub  ...        0    NaN  GdPrv        Shed    2500   \n",
       "1458         Lvl    AllPub  ...        0    NaN    NaN         NaN       0   \n",
       "1459         Lvl    AllPub  ...        0    NaN    NaN         NaN       0   \n",
       "\n",
       "     MoSold YrSold  SaleType  SaleCondition  SalePrice  \n",
       "0         2   2008        WD         Normal     208500  \n",
       "1         5   2007        WD         Normal     181500  \n",
       "2         9   2008        WD         Normal     223500  \n",
       "3         2   2006        WD        Abnorml     140000  \n",
       "4        12   2008        WD         Normal     250000  \n",
       "...     ...    ...       ...            ...        ...  \n",
       "1455      8   2007        WD         Normal     175000  \n",
       "1456      2   2010        WD         Normal     210000  \n",
       "1457      5   2010        WD         Normal     266500  \n",
       "1458      4   2010        WD         Normal     142125  \n",
       "1459      6   2008        WD         Normal     147500  \n",
       "\n",
       "[1460 rows x 81 columns]"
      ]
     },
     "execution_count": 5,
     "metadata": {},
     "output_type": "execute_result"
    }
   ],
   "source": [
    "df"
   ]
  },
  {
   "cell_type": "code",
   "execution_count": 6,
   "metadata": {},
   "outputs": [],
   "source": [
    "df2 = pd.get_dummies(df)"
   ]
  },
  {
   "cell_type": "code",
   "execution_count": 7,
   "metadata": {},
   "outputs": [
    {
     "data": {
      "text/html": [
       "<div>\n",
       "<style scoped>\n",
       "    .dataframe tbody tr th:only-of-type {\n",
       "        vertical-align: middle;\n",
       "    }\n",
       "\n",
       "    .dataframe tbody tr th {\n",
       "        vertical-align: top;\n",
       "    }\n",
       "\n",
       "    .dataframe thead th {\n",
       "        text-align: right;\n",
       "    }\n",
       "</style>\n",
       "<table border=\"1\" class=\"dataframe\">\n",
       "  <thead>\n",
       "    <tr style=\"text-align: right;\">\n",
       "      <th></th>\n",
       "      <th>Id</th>\n",
       "      <th>MSSubClass</th>\n",
       "      <th>LotFrontage</th>\n",
       "      <th>LotArea</th>\n",
       "      <th>OverallQual</th>\n",
       "      <th>OverallCond</th>\n",
       "      <th>YearBuilt</th>\n",
       "      <th>YearRemodAdd</th>\n",
       "      <th>MasVnrArea</th>\n",
       "      <th>BsmtFinSF1</th>\n",
       "      <th>...</th>\n",
       "      <th>SaleType_ConLw</th>\n",
       "      <th>SaleType_New</th>\n",
       "      <th>SaleType_Oth</th>\n",
       "      <th>SaleType_WD</th>\n",
       "      <th>SaleCondition_Abnorml</th>\n",
       "      <th>SaleCondition_AdjLand</th>\n",
       "      <th>SaleCondition_Alloca</th>\n",
       "      <th>SaleCondition_Family</th>\n",
       "      <th>SaleCondition_Normal</th>\n",
       "      <th>SaleCondition_Partial</th>\n",
       "    </tr>\n",
       "  </thead>\n",
       "  <tbody>\n",
       "    <tr>\n",
       "      <th>0</th>\n",
       "      <td>1</td>\n",
       "      <td>60</td>\n",
       "      <td>65.0</td>\n",
       "      <td>8450</td>\n",
       "      <td>7</td>\n",
       "      <td>5</td>\n",
       "      <td>2003</td>\n",
       "      <td>2003</td>\n",
       "      <td>196.0</td>\n",
       "      <td>706</td>\n",
       "      <td>...</td>\n",
       "      <td>0</td>\n",
       "      <td>0</td>\n",
       "      <td>0</td>\n",
       "      <td>1</td>\n",
       "      <td>0</td>\n",
       "      <td>0</td>\n",
       "      <td>0</td>\n",
       "      <td>0</td>\n",
       "      <td>1</td>\n",
       "      <td>0</td>\n",
       "    </tr>\n",
       "    <tr>\n",
       "      <th>1</th>\n",
       "      <td>2</td>\n",
       "      <td>20</td>\n",
       "      <td>80.0</td>\n",
       "      <td>9600</td>\n",
       "      <td>6</td>\n",
       "      <td>8</td>\n",
       "      <td>1976</td>\n",
       "      <td>1976</td>\n",
       "      <td>0.0</td>\n",
       "      <td>978</td>\n",
       "      <td>...</td>\n",
       "      <td>0</td>\n",
       "      <td>0</td>\n",
       "      <td>0</td>\n",
       "      <td>1</td>\n",
       "      <td>0</td>\n",
       "      <td>0</td>\n",
       "      <td>0</td>\n",
       "      <td>0</td>\n",
       "      <td>1</td>\n",
       "      <td>0</td>\n",
       "    </tr>\n",
       "    <tr>\n",
       "      <th>2</th>\n",
       "      <td>3</td>\n",
       "      <td>60</td>\n",
       "      <td>68.0</td>\n",
       "      <td>11250</td>\n",
       "      <td>7</td>\n",
       "      <td>5</td>\n",
       "      <td>2001</td>\n",
       "      <td>2002</td>\n",
       "      <td>162.0</td>\n",
       "      <td>486</td>\n",
       "      <td>...</td>\n",
       "      <td>0</td>\n",
       "      <td>0</td>\n",
       "      <td>0</td>\n",
       "      <td>1</td>\n",
       "      <td>0</td>\n",
       "      <td>0</td>\n",
       "      <td>0</td>\n",
       "      <td>0</td>\n",
       "      <td>1</td>\n",
       "      <td>0</td>\n",
       "    </tr>\n",
       "    <tr>\n",
       "      <th>3</th>\n",
       "      <td>4</td>\n",
       "      <td>70</td>\n",
       "      <td>60.0</td>\n",
       "      <td>9550</td>\n",
       "      <td>7</td>\n",
       "      <td>5</td>\n",
       "      <td>1915</td>\n",
       "      <td>1970</td>\n",
       "      <td>0.0</td>\n",
       "      <td>216</td>\n",
       "      <td>...</td>\n",
       "      <td>0</td>\n",
       "      <td>0</td>\n",
       "      <td>0</td>\n",
       "      <td>1</td>\n",
       "      <td>1</td>\n",
       "      <td>0</td>\n",
       "      <td>0</td>\n",
       "      <td>0</td>\n",
       "      <td>0</td>\n",
       "      <td>0</td>\n",
       "    </tr>\n",
       "    <tr>\n",
       "      <th>4</th>\n",
       "      <td>5</td>\n",
       "      <td>60</td>\n",
       "      <td>84.0</td>\n",
       "      <td>14260</td>\n",
       "      <td>8</td>\n",
       "      <td>5</td>\n",
       "      <td>2000</td>\n",
       "      <td>2000</td>\n",
       "      <td>350.0</td>\n",
       "      <td>655</td>\n",
       "      <td>...</td>\n",
       "      <td>0</td>\n",
       "      <td>0</td>\n",
       "      <td>0</td>\n",
       "      <td>1</td>\n",
       "      <td>0</td>\n",
       "      <td>0</td>\n",
       "      <td>0</td>\n",
       "      <td>0</td>\n",
       "      <td>1</td>\n",
       "      <td>0</td>\n",
       "    </tr>\n",
       "    <tr>\n",
       "      <th>...</th>\n",
       "      <td>...</td>\n",
       "      <td>...</td>\n",
       "      <td>...</td>\n",
       "      <td>...</td>\n",
       "      <td>...</td>\n",
       "      <td>...</td>\n",
       "      <td>...</td>\n",
       "      <td>...</td>\n",
       "      <td>...</td>\n",
       "      <td>...</td>\n",
       "      <td>...</td>\n",
       "      <td>...</td>\n",
       "      <td>...</td>\n",
       "      <td>...</td>\n",
       "      <td>...</td>\n",
       "      <td>...</td>\n",
       "      <td>...</td>\n",
       "      <td>...</td>\n",
       "      <td>...</td>\n",
       "      <td>...</td>\n",
       "      <td>...</td>\n",
       "    </tr>\n",
       "    <tr>\n",
       "      <th>1455</th>\n",
       "      <td>1456</td>\n",
       "      <td>60</td>\n",
       "      <td>62.0</td>\n",
       "      <td>7917</td>\n",
       "      <td>6</td>\n",
       "      <td>5</td>\n",
       "      <td>1999</td>\n",
       "      <td>2000</td>\n",
       "      <td>0.0</td>\n",
       "      <td>0</td>\n",
       "      <td>...</td>\n",
       "      <td>0</td>\n",
       "      <td>0</td>\n",
       "      <td>0</td>\n",
       "      <td>1</td>\n",
       "      <td>0</td>\n",
       "      <td>0</td>\n",
       "      <td>0</td>\n",
       "      <td>0</td>\n",
       "      <td>1</td>\n",
       "      <td>0</td>\n",
       "    </tr>\n",
       "    <tr>\n",
       "      <th>1456</th>\n",
       "      <td>1457</td>\n",
       "      <td>20</td>\n",
       "      <td>85.0</td>\n",
       "      <td>13175</td>\n",
       "      <td>6</td>\n",
       "      <td>6</td>\n",
       "      <td>1978</td>\n",
       "      <td>1988</td>\n",
       "      <td>119.0</td>\n",
       "      <td>790</td>\n",
       "      <td>...</td>\n",
       "      <td>0</td>\n",
       "      <td>0</td>\n",
       "      <td>0</td>\n",
       "      <td>1</td>\n",
       "      <td>0</td>\n",
       "      <td>0</td>\n",
       "      <td>0</td>\n",
       "      <td>0</td>\n",
       "      <td>1</td>\n",
       "      <td>0</td>\n",
       "    </tr>\n",
       "    <tr>\n",
       "      <th>1457</th>\n",
       "      <td>1458</td>\n",
       "      <td>70</td>\n",
       "      <td>66.0</td>\n",
       "      <td>9042</td>\n",
       "      <td>7</td>\n",
       "      <td>9</td>\n",
       "      <td>1941</td>\n",
       "      <td>2006</td>\n",
       "      <td>0.0</td>\n",
       "      <td>275</td>\n",
       "      <td>...</td>\n",
       "      <td>0</td>\n",
       "      <td>0</td>\n",
       "      <td>0</td>\n",
       "      <td>1</td>\n",
       "      <td>0</td>\n",
       "      <td>0</td>\n",
       "      <td>0</td>\n",
       "      <td>0</td>\n",
       "      <td>1</td>\n",
       "      <td>0</td>\n",
       "    </tr>\n",
       "    <tr>\n",
       "      <th>1458</th>\n",
       "      <td>1459</td>\n",
       "      <td>20</td>\n",
       "      <td>68.0</td>\n",
       "      <td>9717</td>\n",
       "      <td>5</td>\n",
       "      <td>6</td>\n",
       "      <td>1950</td>\n",
       "      <td>1996</td>\n",
       "      <td>0.0</td>\n",
       "      <td>49</td>\n",
       "      <td>...</td>\n",
       "      <td>0</td>\n",
       "      <td>0</td>\n",
       "      <td>0</td>\n",
       "      <td>1</td>\n",
       "      <td>0</td>\n",
       "      <td>0</td>\n",
       "      <td>0</td>\n",
       "      <td>0</td>\n",
       "      <td>1</td>\n",
       "      <td>0</td>\n",
       "    </tr>\n",
       "    <tr>\n",
       "      <th>1459</th>\n",
       "      <td>1460</td>\n",
       "      <td>20</td>\n",
       "      <td>75.0</td>\n",
       "      <td>9937</td>\n",
       "      <td>5</td>\n",
       "      <td>6</td>\n",
       "      <td>1965</td>\n",
       "      <td>1965</td>\n",
       "      <td>0.0</td>\n",
       "      <td>830</td>\n",
       "      <td>...</td>\n",
       "      <td>0</td>\n",
       "      <td>0</td>\n",
       "      <td>0</td>\n",
       "      <td>1</td>\n",
       "      <td>0</td>\n",
       "      <td>0</td>\n",
       "      <td>0</td>\n",
       "      <td>0</td>\n",
       "      <td>1</td>\n",
       "      <td>0</td>\n",
       "    </tr>\n",
       "  </tbody>\n",
       "</table>\n",
       "<p>1460 rows × 290 columns</p>\n",
       "</div>"
      ],
      "text/plain": [
       "        Id  MSSubClass  LotFrontage  LotArea  OverallQual  OverallCond  \\\n",
       "0        1          60         65.0     8450            7            5   \n",
       "1        2          20         80.0     9600            6            8   \n",
       "2        3          60         68.0    11250            7            5   \n",
       "3        4          70         60.0     9550            7            5   \n",
       "4        5          60         84.0    14260            8            5   \n",
       "...    ...         ...          ...      ...          ...          ...   \n",
       "1455  1456          60         62.0     7917            6            5   \n",
       "1456  1457          20         85.0    13175            6            6   \n",
       "1457  1458          70         66.0     9042            7            9   \n",
       "1458  1459          20         68.0     9717            5            6   \n",
       "1459  1460          20         75.0     9937            5            6   \n",
       "\n",
       "      YearBuilt  YearRemodAdd  MasVnrArea  BsmtFinSF1  ...  SaleType_ConLw  \\\n",
       "0          2003          2003       196.0         706  ...               0   \n",
       "1          1976          1976         0.0         978  ...               0   \n",
       "2          2001          2002       162.0         486  ...               0   \n",
       "3          1915          1970         0.0         216  ...               0   \n",
       "4          2000          2000       350.0         655  ...               0   \n",
       "...         ...           ...         ...         ...  ...             ...   \n",
       "1455       1999          2000         0.0           0  ...               0   \n",
       "1456       1978          1988       119.0         790  ...               0   \n",
       "1457       1941          2006         0.0         275  ...               0   \n",
       "1458       1950          1996         0.0          49  ...               0   \n",
       "1459       1965          1965         0.0         830  ...               0   \n",
       "\n",
       "      SaleType_New  SaleType_Oth  SaleType_WD  SaleCondition_Abnorml  \\\n",
       "0                0             0            1                      0   \n",
       "1                0             0            1                      0   \n",
       "2                0             0            1                      0   \n",
       "3                0             0            1                      1   \n",
       "4                0             0            1                      0   \n",
       "...            ...           ...          ...                    ...   \n",
       "1455             0             0            1                      0   \n",
       "1456             0             0            1                      0   \n",
       "1457             0             0            1                      0   \n",
       "1458             0             0            1                      0   \n",
       "1459             0             0            1                      0   \n",
       "\n",
       "      SaleCondition_AdjLand  SaleCondition_Alloca  SaleCondition_Family  \\\n",
       "0                         0                     0                     0   \n",
       "1                         0                     0                     0   \n",
       "2                         0                     0                     0   \n",
       "3                         0                     0                     0   \n",
       "4                         0                     0                     0   \n",
       "...                     ...                   ...                   ...   \n",
       "1455                      0                     0                     0   \n",
       "1456                      0                     0                     0   \n",
       "1457                      0                     0                     0   \n",
       "1458                      0                     0                     0   \n",
       "1459                      0                     0                     0   \n",
       "\n",
       "      SaleCondition_Normal  SaleCondition_Partial  \n",
       "0                        1                      0  \n",
       "1                        1                      0  \n",
       "2                        1                      0  \n",
       "3                        0                      0  \n",
       "4                        1                      0  \n",
       "...                    ...                    ...  \n",
       "1455                     1                      0  \n",
       "1456                     1                      0  \n",
       "1457                     1                      0  \n",
       "1458                     1                      0  \n",
       "1459                     1                      0  \n",
       "\n",
       "[1460 rows x 290 columns]"
      ]
     },
     "execution_count": 7,
     "metadata": {},
     "output_type": "execute_result"
    }
   ],
   "source": [
    "df2"
   ]
  },
  {
   "cell_type": "code",
   "execution_count": 8,
   "metadata": {},
   "outputs": [
    {
     "data": {
      "text/plain": [
       "(1460, 290)"
      ]
     },
     "execution_count": 8,
     "metadata": {},
     "output_type": "execute_result"
    }
   ],
   "source": [
    "df2.shape"
   ]
  },
  {
   "cell_type": "code",
   "execution_count": 9,
   "metadata": {},
   "outputs": [
    {
     "data": {
      "text/html": [
       "<div>\n",
       "<style scoped>\n",
       "    .dataframe tbody tr th:only-of-type {\n",
       "        vertical-align: middle;\n",
       "    }\n",
       "\n",
       "    .dataframe tbody tr th {\n",
       "        vertical-align: top;\n",
       "    }\n",
       "\n",
       "    .dataframe thead th {\n",
       "        text-align: right;\n",
       "    }\n",
       "</style>\n",
       "<table border=\"1\" class=\"dataframe\">\n",
       "  <thead>\n",
       "    <tr style=\"text-align: right;\">\n",
       "      <th></th>\n",
       "      <th>Id</th>\n",
       "      <th>MSSubClass</th>\n",
       "      <th>MSZoning</th>\n",
       "      <th>LotFrontage</th>\n",
       "      <th>LotArea</th>\n",
       "      <th>Street</th>\n",
       "      <th>Alley</th>\n",
       "      <th>LotShape</th>\n",
       "      <th>LandContour</th>\n",
       "      <th>Utilities</th>\n",
       "      <th>...</th>\n",
       "      <th>PoolArea</th>\n",
       "      <th>PoolQC</th>\n",
       "      <th>Fence</th>\n",
       "      <th>MiscFeature</th>\n",
       "      <th>MiscVal</th>\n",
       "      <th>MoSold</th>\n",
       "      <th>YrSold</th>\n",
       "      <th>SaleType</th>\n",
       "      <th>SaleCondition</th>\n",
       "      <th>SalePrice</th>\n",
       "    </tr>\n",
       "  </thead>\n",
       "  <tbody>\n",
       "    <tr>\n",
       "      <th>100</th>\n",
       "      <td>101</td>\n",
       "      <td>20</td>\n",
       "      <td>RL</td>\n",
       "      <td>NaN</td>\n",
       "      <td>10603</td>\n",
       "      <td>Pave</td>\n",
       "      <td>NaN</td>\n",
       "      <td>IR1</td>\n",
       "      <td>Lvl</td>\n",
       "      <td>AllPub</td>\n",
       "      <td>...</td>\n",
       "      <td>0</td>\n",
       "      <td>NaN</td>\n",
       "      <td>NaN</td>\n",
       "      <td>NaN</td>\n",
       "      <td>0</td>\n",
       "      <td>2</td>\n",
       "      <td>2010</td>\n",
       "      <td>WD</td>\n",
       "      <td>Normal</td>\n",
       "      <td>205000</td>\n",
       "    </tr>\n",
       "    <tr>\n",
       "      <th>101</th>\n",
       "      <td>102</td>\n",
       "      <td>60</td>\n",
       "      <td>RL</td>\n",
       "      <td>77.0</td>\n",
       "      <td>9206</td>\n",
       "      <td>Pave</td>\n",
       "      <td>NaN</td>\n",
       "      <td>Reg</td>\n",
       "      <td>Lvl</td>\n",
       "      <td>AllPub</td>\n",
       "      <td>...</td>\n",
       "      <td>0</td>\n",
       "      <td>NaN</td>\n",
       "      <td>NaN</td>\n",
       "      <td>NaN</td>\n",
       "      <td>0</td>\n",
       "      <td>6</td>\n",
       "      <td>2010</td>\n",
       "      <td>WD</td>\n",
       "      <td>Normal</td>\n",
       "      <td>178000</td>\n",
       "    </tr>\n",
       "    <tr>\n",
       "      <th>102</th>\n",
       "      <td>103</td>\n",
       "      <td>90</td>\n",
       "      <td>RL</td>\n",
       "      <td>64.0</td>\n",
       "      <td>7018</td>\n",
       "      <td>Pave</td>\n",
       "      <td>NaN</td>\n",
       "      <td>Reg</td>\n",
       "      <td>Bnk</td>\n",
       "      <td>AllPub</td>\n",
       "      <td>...</td>\n",
       "      <td>0</td>\n",
       "      <td>NaN</td>\n",
       "      <td>NaN</td>\n",
       "      <td>NaN</td>\n",
       "      <td>0</td>\n",
       "      <td>6</td>\n",
       "      <td>2009</td>\n",
       "      <td>WD</td>\n",
       "      <td>Alloca</td>\n",
       "      <td>118964</td>\n",
       "    </tr>\n",
       "    <tr>\n",
       "      <th>103</th>\n",
       "      <td>104</td>\n",
       "      <td>20</td>\n",
       "      <td>RL</td>\n",
       "      <td>94.0</td>\n",
       "      <td>10402</td>\n",
       "      <td>Pave</td>\n",
       "      <td>NaN</td>\n",
       "      <td>IR1</td>\n",
       "      <td>Lvl</td>\n",
       "      <td>AllPub</td>\n",
       "      <td>...</td>\n",
       "      <td>0</td>\n",
       "      <td>NaN</td>\n",
       "      <td>NaN</td>\n",
       "      <td>NaN</td>\n",
       "      <td>0</td>\n",
       "      <td>5</td>\n",
       "      <td>2010</td>\n",
       "      <td>WD</td>\n",
       "      <td>Normal</td>\n",
       "      <td>198900</td>\n",
       "    </tr>\n",
       "    <tr>\n",
       "      <th>104</th>\n",
       "      <td>105</td>\n",
       "      <td>50</td>\n",
       "      <td>RM</td>\n",
       "      <td>NaN</td>\n",
       "      <td>7758</td>\n",
       "      <td>Pave</td>\n",
       "      <td>NaN</td>\n",
       "      <td>Reg</td>\n",
       "      <td>Lvl</td>\n",
       "      <td>AllPub</td>\n",
       "      <td>...</td>\n",
       "      <td>0</td>\n",
       "      <td>NaN</td>\n",
       "      <td>NaN</td>\n",
       "      <td>NaN</td>\n",
       "      <td>0</td>\n",
       "      <td>6</td>\n",
       "      <td>2007</td>\n",
       "      <td>WD</td>\n",
       "      <td>Normal</td>\n",
       "      <td>169500</td>\n",
       "    </tr>\n",
       "  </tbody>\n",
       "</table>\n",
       "<p>5 rows × 81 columns</p>\n",
       "</div>"
      ],
      "text/plain": [
       "      Id  MSSubClass MSZoning  LotFrontage  LotArea Street Alley LotShape  \\\n",
       "100  101          20       RL          NaN    10603   Pave   NaN      IR1   \n",
       "101  102          60       RL         77.0     9206   Pave   NaN      Reg   \n",
       "102  103          90       RL         64.0     7018   Pave   NaN      Reg   \n",
       "103  104          20       RL         94.0    10402   Pave   NaN      IR1   \n",
       "104  105          50       RM          NaN     7758   Pave   NaN      Reg   \n",
       "\n",
       "    LandContour Utilities  ... PoolArea PoolQC Fence MiscFeature MiscVal  \\\n",
       "100         Lvl    AllPub  ...        0    NaN   NaN         NaN       0   \n",
       "101         Lvl    AllPub  ...        0    NaN   NaN         NaN       0   \n",
       "102         Bnk    AllPub  ...        0    NaN   NaN         NaN       0   \n",
       "103         Lvl    AllPub  ...        0    NaN   NaN         NaN       0   \n",
       "104         Lvl    AllPub  ...        0    NaN   NaN         NaN       0   \n",
       "\n",
       "    MoSold YrSold  SaleType  SaleCondition  SalePrice  \n",
       "100      2   2010        WD         Normal     205000  \n",
       "101      6   2010        WD         Normal     178000  \n",
       "102      6   2009        WD         Alloca     118964  \n",
       "103      5   2010        WD         Normal     198900  \n",
       "104      6   2007        WD         Normal     169500  \n",
       "\n",
       "[5 rows x 81 columns]"
      ]
     },
     "execution_count": 9,
     "metadata": {},
     "output_type": "execute_result"
    }
   ],
   "source": [
    "df[100:105]"
   ]
  },
  {
   "cell_type": "code",
   "execution_count": 10,
   "metadata": {},
   "outputs": [
    {
     "data": {
      "text/plain": [
       "Index(['Id', 'MSSubClass', 'MSZoning', 'LotFrontage', 'LotArea', 'Street',\n",
       "       'Alley', 'LotShape', 'LandContour', 'Utilities', 'LotConfig',\n",
       "       'LandSlope', 'Neighborhood', 'Condition1', 'Condition2', 'BldgType',\n",
       "       'HouseStyle', 'OverallQual', 'OverallCond', 'YearBuilt', 'YearRemodAdd',\n",
       "       'RoofStyle', 'RoofMatl', 'Exterior1st', 'Exterior2nd', 'MasVnrType',\n",
       "       'MasVnrArea', 'ExterQual', 'ExterCond', 'Foundation', 'BsmtQual',\n",
       "       'BsmtCond', 'BsmtExposure', 'BsmtFinType1', 'BsmtFinSF1',\n",
       "       'BsmtFinType2', 'BsmtFinSF2', 'BsmtUnfSF', 'TotalBsmtSF', 'Heating',\n",
       "       'HeatingQC', 'CentralAir', 'Electrical', '1stFlrSF', '2ndFlrSF',\n",
       "       'LowQualFinSF', 'GrLivArea', 'BsmtFullBath', 'BsmtHalfBath', 'FullBath',\n",
       "       'HalfBath', 'BedroomAbvGr', 'KitchenAbvGr', 'KitchenQual',\n",
       "       'TotRmsAbvGrd', 'Functional', 'Fireplaces', 'FireplaceQu', 'GarageType',\n",
       "       'GarageYrBlt', 'GarageFinish', 'GarageCars', 'GarageArea', 'GarageQual',\n",
       "       'GarageCond', 'PavedDrive', 'WoodDeckSF', 'OpenPorchSF',\n",
       "       'EnclosedPorch', '3SsnPorch', 'ScreenPorch', 'PoolArea', 'PoolQC',\n",
       "       'Fence', 'MiscFeature', 'MiscVal', 'MoSold', 'YrSold', 'SaleType',\n",
       "       'SaleCondition', 'SalePrice'],\n",
       "      dtype='object')"
      ]
     },
     "execution_count": 10,
     "metadata": {},
     "output_type": "execute_result"
    }
   ],
   "source": [
    "df.columns"
   ]
  },
  {
   "cell_type": "markdown",
   "metadata": {},
   "source": [
    "# Kategoriale Spalten verwenden"
   ]
  },
  {
   "cell_type": "code",
   "execution_count": 11,
   "metadata": {},
   "outputs": [
    {
     "data": {
      "text/plain": [
       "array(['RL', 'RM', 'C (all)', 'FV', 'RH'], dtype=object)"
      ]
     },
     "execution_count": 11,
     "metadata": {},
     "output_type": "execute_result"
    }
   ],
   "source": [
    "df[\"MSZoning\"].unique()"
   ]
  },
  {
   "cell_type": "code",
   "execution_count": 12,
   "metadata": {},
   "outputs": [],
   "source": [
    "liste_von_spalten = [\"YearBuilt\", \"LotArea\", \"OverallQual\", \"MSZoning\", \"SalePrice\"]\n",
    "kleine_tabelle = df[ liste_von_spalten ]"
   ]
  },
  {
   "cell_type": "code",
   "execution_count": 13,
   "metadata": {},
   "outputs": [
    {
     "data": {
      "text/html": [
       "<div>\n",
       "<style scoped>\n",
       "    .dataframe tbody tr th:only-of-type {\n",
       "        vertical-align: middle;\n",
       "    }\n",
       "\n",
       "    .dataframe tbody tr th {\n",
       "        vertical-align: top;\n",
       "    }\n",
       "\n",
       "    .dataframe thead th {\n",
       "        text-align: right;\n",
       "    }\n",
       "</style>\n",
       "<table border=\"1\" class=\"dataframe\">\n",
       "  <thead>\n",
       "    <tr style=\"text-align: right;\">\n",
       "      <th></th>\n",
       "      <th>YearBuilt</th>\n",
       "      <th>LotArea</th>\n",
       "      <th>OverallQual</th>\n",
       "      <th>MSZoning</th>\n",
       "      <th>SalePrice</th>\n",
       "    </tr>\n",
       "  </thead>\n",
       "  <tbody>\n",
       "    <tr>\n",
       "      <th>0</th>\n",
       "      <td>2003</td>\n",
       "      <td>8450</td>\n",
       "      <td>7</td>\n",
       "      <td>RL</td>\n",
       "      <td>208500</td>\n",
       "    </tr>\n",
       "    <tr>\n",
       "      <th>1</th>\n",
       "      <td>1976</td>\n",
       "      <td>9600</td>\n",
       "      <td>6</td>\n",
       "      <td>RL</td>\n",
       "      <td>181500</td>\n",
       "    </tr>\n",
       "    <tr>\n",
       "      <th>2</th>\n",
       "      <td>2001</td>\n",
       "      <td>11250</td>\n",
       "      <td>7</td>\n",
       "      <td>RL</td>\n",
       "      <td>223500</td>\n",
       "    </tr>\n",
       "    <tr>\n",
       "      <th>3</th>\n",
       "      <td>1915</td>\n",
       "      <td>9550</td>\n",
       "      <td>7</td>\n",
       "      <td>RL</td>\n",
       "      <td>140000</td>\n",
       "    </tr>\n",
       "    <tr>\n",
       "      <th>4</th>\n",
       "      <td>2000</td>\n",
       "      <td>14260</td>\n",
       "      <td>8</td>\n",
       "      <td>RL</td>\n",
       "      <td>250000</td>\n",
       "    </tr>\n",
       "    <tr>\n",
       "      <th>...</th>\n",
       "      <td>...</td>\n",
       "      <td>...</td>\n",
       "      <td>...</td>\n",
       "      <td>...</td>\n",
       "      <td>...</td>\n",
       "    </tr>\n",
       "    <tr>\n",
       "      <th>1455</th>\n",
       "      <td>1999</td>\n",
       "      <td>7917</td>\n",
       "      <td>6</td>\n",
       "      <td>RL</td>\n",
       "      <td>175000</td>\n",
       "    </tr>\n",
       "    <tr>\n",
       "      <th>1456</th>\n",
       "      <td>1978</td>\n",
       "      <td>13175</td>\n",
       "      <td>6</td>\n",
       "      <td>RL</td>\n",
       "      <td>210000</td>\n",
       "    </tr>\n",
       "    <tr>\n",
       "      <th>1457</th>\n",
       "      <td>1941</td>\n",
       "      <td>9042</td>\n",
       "      <td>7</td>\n",
       "      <td>RL</td>\n",
       "      <td>266500</td>\n",
       "    </tr>\n",
       "    <tr>\n",
       "      <th>1458</th>\n",
       "      <td>1950</td>\n",
       "      <td>9717</td>\n",
       "      <td>5</td>\n",
       "      <td>RL</td>\n",
       "      <td>142125</td>\n",
       "    </tr>\n",
       "    <tr>\n",
       "      <th>1459</th>\n",
       "      <td>1965</td>\n",
       "      <td>9937</td>\n",
       "      <td>5</td>\n",
       "      <td>RL</td>\n",
       "      <td>147500</td>\n",
       "    </tr>\n",
       "  </tbody>\n",
       "</table>\n",
       "<p>1460 rows × 5 columns</p>\n",
       "</div>"
      ],
      "text/plain": [
       "      YearBuilt  LotArea  OverallQual MSZoning  SalePrice\n",
       "0          2003     8450            7       RL     208500\n",
       "1          1976     9600            6       RL     181500\n",
       "2          2001    11250            7       RL     223500\n",
       "3          1915     9550            7       RL     140000\n",
       "4          2000    14260            8       RL     250000\n",
       "...         ...      ...          ...      ...        ...\n",
       "1455       1999     7917            6       RL     175000\n",
       "1456       1978    13175            6       RL     210000\n",
       "1457       1941     9042            7       RL     266500\n",
       "1458       1950     9717            5       RL     142125\n",
       "1459       1965     9937            5       RL     147500\n",
       "\n",
       "[1460 rows x 5 columns]"
      ]
     },
     "execution_count": 13,
     "metadata": {},
     "output_type": "execute_result"
    }
   ],
   "source": [
    "kleine_tabelle"
   ]
  },
  {
   "cell_type": "code",
   "execution_count": 14,
   "metadata": {},
   "outputs": [],
   "source": [
    "hauser_die_in_wohngebiet_rl_stehen = kleine_tabelle[ kleine_tabelle[\"MSZoning\"] == \"RL\" ] # boolean indexing"
   ]
  },
  {
   "cell_type": "code",
   "execution_count": 15,
   "metadata": {},
   "outputs": [
    {
     "data": {
      "text/html": [
       "<div>\n",
       "<style scoped>\n",
       "    .dataframe tbody tr th:only-of-type {\n",
       "        vertical-align: middle;\n",
       "    }\n",
       "\n",
       "    .dataframe tbody tr th {\n",
       "        vertical-align: top;\n",
       "    }\n",
       "\n",
       "    .dataframe thead th {\n",
       "        text-align: right;\n",
       "    }\n",
       "</style>\n",
       "<table border=\"1\" class=\"dataframe\">\n",
       "  <thead>\n",
       "    <tr style=\"text-align: right;\">\n",
       "      <th></th>\n",
       "      <th>YearBuilt</th>\n",
       "      <th>LotArea</th>\n",
       "      <th>OverallQual</th>\n",
       "      <th>MSZoning</th>\n",
       "      <th>SalePrice</th>\n",
       "    </tr>\n",
       "  </thead>\n",
       "  <tbody>\n",
       "    <tr>\n",
       "      <th>0</th>\n",
       "      <td>2003</td>\n",
       "      <td>8450</td>\n",
       "      <td>7</td>\n",
       "      <td>RL</td>\n",
       "      <td>208500</td>\n",
       "    </tr>\n",
       "    <tr>\n",
       "      <th>1</th>\n",
       "      <td>1976</td>\n",
       "      <td>9600</td>\n",
       "      <td>6</td>\n",
       "      <td>RL</td>\n",
       "      <td>181500</td>\n",
       "    </tr>\n",
       "    <tr>\n",
       "      <th>2</th>\n",
       "      <td>2001</td>\n",
       "      <td>11250</td>\n",
       "      <td>7</td>\n",
       "      <td>RL</td>\n",
       "      <td>223500</td>\n",
       "    </tr>\n",
       "    <tr>\n",
       "      <th>3</th>\n",
       "      <td>1915</td>\n",
       "      <td>9550</td>\n",
       "      <td>7</td>\n",
       "      <td>RL</td>\n",
       "      <td>140000</td>\n",
       "    </tr>\n",
       "    <tr>\n",
       "      <th>4</th>\n",
       "      <td>2000</td>\n",
       "      <td>14260</td>\n",
       "      <td>8</td>\n",
       "      <td>RL</td>\n",
       "      <td>250000</td>\n",
       "    </tr>\n",
       "    <tr>\n",
       "      <th>...</th>\n",
       "      <td>...</td>\n",
       "      <td>...</td>\n",
       "      <td>...</td>\n",
       "      <td>...</td>\n",
       "      <td>...</td>\n",
       "    </tr>\n",
       "    <tr>\n",
       "      <th>1455</th>\n",
       "      <td>1999</td>\n",
       "      <td>7917</td>\n",
       "      <td>6</td>\n",
       "      <td>RL</td>\n",
       "      <td>175000</td>\n",
       "    </tr>\n",
       "    <tr>\n",
       "      <th>1456</th>\n",
       "      <td>1978</td>\n",
       "      <td>13175</td>\n",
       "      <td>6</td>\n",
       "      <td>RL</td>\n",
       "      <td>210000</td>\n",
       "    </tr>\n",
       "    <tr>\n",
       "      <th>1457</th>\n",
       "      <td>1941</td>\n",
       "      <td>9042</td>\n",
       "      <td>7</td>\n",
       "      <td>RL</td>\n",
       "      <td>266500</td>\n",
       "    </tr>\n",
       "    <tr>\n",
       "      <th>1458</th>\n",
       "      <td>1950</td>\n",
       "      <td>9717</td>\n",
       "      <td>5</td>\n",
       "      <td>RL</td>\n",
       "      <td>142125</td>\n",
       "    </tr>\n",
       "    <tr>\n",
       "      <th>1459</th>\n",
       "      <td>1965</td>\n",
       "      <td>9937</td>\n",
       "      <td>5</td>\n",
       "      <td>RL</td>\n",
       "      <td>147500</td>\n",
       "    </tr>\n",
       "  </tbody>\n",
       "</table>\n",
       "<p>1151 rows × 5 columns</p>\n",
       "</div>"
      ],
      "text/plain": [
       "      YearBuilt  LotArea  OverallQual MSZoning  SalePrice\n",
       "0          2003     8450            7       RL     208500\n",
       "1          1976     9600            6       RL     181500\n",
       "2          2001    11250            7       RL     223500\n",
       "3          1915     9550            7       RL     140000\n",
       "4          2000    14260            8       RL     250000\n",
       "...         ...      ...          ...      ...        ...\n",
       "1455       1999     7917            6       RL     175000\n",
       "1456       1978    13175            6       RL     210000\n",
       "1457       1941     9042            7       RL     266500\n",
       "1458       1950     9717            5       RL     142125\n",
       "1459       1965     9937            5       RL     147500\n",
       "\n",
       "[1151 rows x 5 columns]"
      ]
     },
     "execution_count": 15,
     "metadata": {},
     "output_type": "execute_result"
    }
   ],
   "source": [
    "hauser_die_in_wohngebiet_rl_stehen"
   ]
  },
  {
   "cell_type": "code",
   "execution_count": 16,
   "metadata": {},
   "outputs": [
    {
     "data": {
      "text/plain": [
       "0.7883561643835616"
      ]
     },
     "execution_count": 16,
     "metadata": {},
     "output_type": "execute_result"
    }
   ],
   "source": [
    "1151/1460"
   ]
  },
  {
   "cell_type": "code",
   "execution_count": 17,
   "metadata": {},
   "outputs": [],
   "source": [
    "kleine_tabelle_mit_dummy_spalten = pd.get_dummies(kleine_tabelle, columns=[\"MSZoning\"])"
   ]
  },
  {
   "cell_type": "code",
   "execution_count": 18,
   "metadata": {},
   "outputs": [
    {
     "data": {
      "text/html": [
       "<div>\n",
       "<style scoped>\n",
       "    .dataframe tbody tr th:only-of-type {\n",
       "        vertical-align: middle;\n",
       "    }\n",
       "\n",
       "    .dataframe tbody tr th {\n",
       "        vertical-align: top;\n",
       "    }\n",
       "\n",
       "    .dataframe thead th {\n",
       "        text-align: right;\n",
       "    }\n",
       "</style>\n",
       "<table border=\"1\" class=\"dataframe\">\n",
       "  <thead>\n",
       "    <tr style=\"text-align: right;\">\n",
       "      <th></th>\n",
       "      <th>YearBuilt</th>\n",
       "      <th>LotArea</th>\n",
       "      <th>OverallQual</th>\n",
       "      <th>SalePrice</th>\n",
       "      <th>MSZoning_C (all)</th>\n",
       "      <th>MSZoning_FV</th>\n",
       "      <th>MSZoning_RH</th>\n",
       "      <th>MSZoning_RL</th>\n",
       "      <th>MSZoning_RM</th>\n",
       "    </tr>\n",
       "  </thead>\n",
       "  <tbody>\n",
       "    <tr>\n",
       "      <th>0</th>\n",
       "      <td>2003</td>\n",
       "      <td>8450</td>\n",
       "      <td>7</td>\n",
       "      <td>208500</td>\n",
       "      <td>0</td>\n",
       "      <td>0</td>\n",
       "      <td>0</td>\n",
       "      <td>1</td>\n",
       "      <td>0</td>\n",
       "    </tr>\n",
       "    <tr>\n",
       "      <th>1</th>\n",
       "      <td>1976</td>\n",
       "      <td>9600</td>\n",
       "      <td>6</td>\n",
       "      <td>181500</td>\n",
       "      <td>0</td>\n",
       "      <td>0</td>\n",
       "      <td>0</td>\n",
       "      <td>1</td>\n",
       "      <td>0</td>\n",
       "    </tr>\n",
       "    <tr>\n",
       "      <th>2</th>\n",
       "      <td>2001</td>\n",
       "      <td>11250</td>\n",
       "      <td>7</td>\n",
       "      <td>223500</td>\n",
       "      <td>0</td>\n",
       "      <td>0</td>\n",
       "      <td>0</td>\n",
       "      <td>1</td>\n",
       "      <td>0</td>\n",
       "    </tr>\n",
       "    <tr>\n",
       "      <th>3</th>\n",
       "      <td>1915</td>\n",
       "      <td>9550</td>\n",
       "      <td>7</td>\n",
       "      <td>140000</td>\n",
       "      <td>0</td>\n",
       "      <td>0</td>\n",
       "      <td>0</td>\n",
       "      <td>1</td>\n",
       "      <td>0</td>\n",
       "    </tr>\n",
       "    <tr>\n",
       "      <th>4</th>\n",
       "      <td>2000</td>\n",
       "      <td>14260</td>\n",
       "      <td>8</td>\n",
       "      <td>250000</td>\n",
       "      <td>0</td>\n",
       "      <td>0</td>\n",
       "      <td>0</td>\n",
       "      <td>1</td>\n",
       "      <td>0</td>\n",
       "    </tr>\n",
       "    <tr>\n",
       "      <th>...</th>\n",
       "      <td>...</td>\n",
       "      <td>...</td>\n",
       "      <td>...</td>\n",
       "      <td>...</td>\n",
       "      <td>...</td>\n",
       "      <td>...</td>\n",
       "      <td>...</td>\n",
       "      <td>...</td>\n",
       "      <td>...</td>\n",
       "    </tr>\n",
       "    <tr>\n",
       "      <th>1455</th>\n",
       "      <td>1999</td>\n",
       "      <td>7917</td>\n",
       "      <td>6</td>\n",
       "      <td>175000</td>\n",
       "      <td>0</td>\n",
       "      <td>0</td>\n",
       "      <td>0</td>\n",
       "      <td>1</td>\n",
       "      <td>0</td>\n",
       "    </tr>\n",
       "    <tr>\n",
       "      <th>1456</th>\n",
       "      <td>1978</td>\n",
       "      <td>13175</td>\n",
       "      <td>6</td>\n",
       "      <td>210000</td>\n",
       "      <td>0</td>\n",
       "      <td>0</td>\n",
       "      <td>0</td>\n",
       "      <td>1</td>\n",
       "      <td>0</td>\n",
       "    </tr>\n",
       "    <tr>\n",
       "      <th>1457</th>\n",
       "      <td>1941</td>\n",
       "      <td>9042</td>\n",
       "      <td>7</td>\n",
       "      <td>266500</td>\n",
       "      <td>0</td>\n",
       "      <td>0</td>\n",
       "      <td>0</td>\n",
       "      <td>1</td>\n",
       "      <td>0</td>\n",
       "    </tr>\n",
       "    <tr>\n",
       "      <th>1458</th>\n",
       "      <td>1950</td>\n",
       "      <td>9717</td>\n",
       "      <td>5</td>\n",
       "      <td>142125</td>\n",
       "      <td>0</td>\n",
       "      <td>0</td>\n",
       "      <td>0</td>\n",
       "      <td>1</td>\n",
       "      <td>0</td>\n",
       "    </tr>\n",
       "    <tr>\n",
       "      <th>1459</th>\n",
       "      <td>1965</td>\n",
       "      <td>9937</td>\n",
       "      <td>5</td>\n",
       "      <td>147500</td>\n",
       "      <td>0</td>\n",
       "      <td>0</td>\n",
       "      <td>0</td>\n",
       "      <td>1</td>\n",
       "      <td>0</td>\n",
       "    </tr>\n",
       "  </tbody>\n",
       "</table>\n",
       "<p>1460 rows × 9 columns</p>\n",
       "</div>"
      ],
      "text/plain": [
       "      YearBuilt  LotArea  OverallQual  SalePrice  MSZoning_C (all)  \\\n",
       "0          2003     8450            7     208500                 0   \n",
       "1          1976     9600            6     181500                 0   \n",
       "2          2001    11250            7     223500                 0   \n",
       "3          1915     9550            7     140000                 0   \n",
       "4          2000    14260            8     250000                 0   \n",
       "...         ...      ...          ...        ...               ...   \n",
       "1455       1999     7917            6     175000                 0   \n",
       "1456       1978    13175            6     210000                 0   \n",
       "1457       1941     9042            7     266500                 0   \n",
       "1458       1950     9717            5     142125                 0   \n",
       "1459       1965     9937            5     147500                 0   \n",
       "\n",
       "      MSZoning_FV  MSZoning_RH  MSZoning_RL  MSZoning_RM  \n",
       "0               0            0            1            0  \n",
       "1               0            0            1            0  \n",
       "2               0            0            1            0  \n",
       "3               0            0            1            0  \n",
       "4               0            0            1            0  \n",
       "...           ...          ...          ...          ...  \n",
       "1455            0            0            1            0  \n",
       "1456            0            0            1            0  \n",
       "1457            0            0            1            0  \n",
       "1458            0            0            1            0  \n",
       "1459            0            0            1            0  \n",
       "\n",
       "[1460 rows x 9 columns]"
      ]
     },
     "execution_count": 18,
     "metadata": {},
     "output_type": "execute_result"
    }
   ],
   "source": [
    "kleine_tabelle_mit_dummy_spalten"
   ]
  },
  {
   "cell_type": "code",
   "execution_count": 19,
   "metadata": {},
   "outputs": [
    {
     "data": {
      "text/plain": [
       "Index(['YearBuilt', 'LotArea', 'OverallQual', 'SalePrice', 'MSZoning_C (all)',\n",
       "       'MSZoning_FV', 'MSZoning_RH', 'MSZoning_RL', 'MSZoning_RM'],\n",
       "      dtype='object')"
      ]
     },
     "execution_count": 19,
     "metadata": {},
     "output_type": "execute_result"
    }
   ],
   "source": [
    "kleine_tabelle_mit_dummy_spalten.columns"
   ]
  },
  {
   "cell_type": "code",
   "execution_count": 20,
   "metadata": {},
   "outputs": [],
   "source": [
    "df = kleine_tabelle_mit_dummy_spalten"
   ]
  },
  {
   "cell_type": "code",
   "execution_count": 21,
   "metadata": {},
   "outputs": [
    {
     "data": {
      "text/html": [
       "<div>\n",
       "<style scoped>\n",
       "    .dataframe tbody tr th:only-of-type {\n",
       "        vertical-align: middle;\n",
       "    }\n",
       "\n",
       "    .dataframe tbody tr th {\n",
       "        vertical-align: top;\n",
       "    }\n",
       "\n",
       "    .dataframe thead th {\n",
       "        text-align: right;\n",
       "    }\n",
       "</style>\n",
       "<table border=\"1\" class=\"dataframe\">\n",
       "  <thead>\n",
       "    <tr style=\"text-align: right;\">\n",
       "      <th></th>\n",
       "      <th>YearBuilt</th>\n",
       "      <th>LotArea</th>\n",
       "      <th>OverallQual</th>\n",
       "      <th>SalePrice</th>\n",
       "      <th>MSZoning_C (all)</th>\n",
       "      <th>MSZoning_FV</th>\n",
       "      <th>MSZoning_RH</th>\n",
       "      <th>MSZoning_RL</th>\n",
       "      <th>MSZoning_RM</th>\n",
       "    </tr>\n",
       "  </thead>\n",
       "  <tbody>\n",
       "    <tr>\n",
       "      <th>0</th>\n",
       "      <td>2003</td>\n",
       "      <td>8450</td>\n",
       "      <td>7</td>\n",
       "      <td>208500</td>\n",
       "      <td>0</td>\n",
       "      <td>0</td>\n",
       "      <td>0</td>\n",
       "      <td>1</td>\n",
       "      <td>0</td>\n",
       "    </tr>\n",
       "    <tr>\n",
       "      <th>1</th>\n",
       "      <td>1976</td>\n",
       "      <td>9600</td>\n",
       "      <td>6</td>\n",
       "      <td>181500</td>\n",
       "      <td>0</td>\n",
       "      <td>0</td>\n",
       "      <td>0</td>\n",
       "      <td>1</td>\n",
       "      <td>0</td>\n",
       "    </tr>\n",
       "    <tr>\n",
       "      <th>2</th>\n",
       "      <td>2001</td>\n",
       "      <td>11250</td>\n",
       "      <td>7</td>\n",
       "      <td>223500</td>\n",
       "      <td>0</td>\n",
       "      <td>0</td>\n",
       "      <td>0</td>\n",
       "      <td>1</td>\n",
       "      <td>0</td>\n",
       "    </tr>\n",
       "    <tr>\n",
       "      <th>3</th>\n",
       "      <td>1915</td>\n",
       "      <td>9550</td>\n",
       "      <td>7</td>\n",
       "      <td>140000</td>\n",
       "      <td>0</td>\n",
       "      <td>0</td>\n",
       "      <td>0</td>\n",
       "      <td>1</td>\n",
       "      <td>0</td>\n",
       "    </tr>\n",
       "    <tr>\n",
       "      <th>4</th>\n",
       "      <td>2000</td>\n",
       "      <td>14260</td>\n",
       "      <td>8</td>\n",
       "      <td>250000</td>\n",
       "      <td>0</td>\n",
       "      <td>0</td>\n",
       "      <td>0</td>\n",
       "      <td>1</td>\n",
       "      <td>0</td>\n",
       "    </tr>\n",
       "    <tr>\n",
       "      <th>...</th>\n",
       "      <td>...</td>\n",
       "      <td>...</td>\n",
       "      <td>...</td>\n",
       "      <td>...</td>\n",
       "      <td>...</td>\n",
       "      <td>...</td>\n",
       "      <td>...</td>\n",
       "      <td>...</td>\n",
       "      <td>...</td>\n",
       "    </tr>\n",
       "    <tr>\n",
       "      <th>1455</th>\n",
       "      <td>1999</td>\n",
       "      <td>7917</td>\n",
       "      <td>6</td>\n",
       "      <td>175000</td>\n",
       "      <td>0</td>\n",
       "      <td>0</td>\n",
       "      <td>0</td>\n",
       "      <td>1</td>\n",
       "      <td>0</td>\n",
       "    </tr>\n",
       "    <tr>\n",
       "      <th>1456</th>\n",
       "      <td>1978</td>\n",
       "      <td>13175</td>\n",
       "      <td>6</td>\n",
       "      <td>210000</td>\n",
       "      <td>0</td>\n",
       "      <td>0</td>\n",
       "      <td>0</td>\n",
       "      <td>1</td>\n",
       "      <td>0</td>\n",
       "    </tr>\n",
       "    <tr>\n",
       "      <th>1457</th>\n",
       "      <td>1941</td>\n",
       "      <td>9042</td>\n",
       "      <td>7</td>\n",
       "      <td>266500</td>\n",
       "      <td>0</td>\n",
       "      <td>0</td>\n",
       "      <td>0</td>\n",
       "      <td>1</td>\n",
       "      <td>0</td>\n",
       "    </tr>\n",
       "    <tr>\n",
       "      <th>1458</th>\n",
       "      <td>1950</td>\n",
       "      <td>9717</td>\n",
       "      <td>5</td>\n",
       "      <td>142125</td>\n",
       "      <td>0</td>\n",
       "      <td>0</td>\n",
       "      <td>0</td>\n",
       "      <td>1</td>\n",
       "      <td>0</td>\n",
       "    </tr>\n",
       "    <tr>\n",
       "      <th>1459</th>\n",
       "      <td>1965</td>\n",
       "      <td>9937</td>\n",
       "      <td>5</td>\n",
       "      <td>147500</td>\n",
       "      <td>0</td>\n",
       "      <td>0</td>\n",
       "      <td>0</td>\n",
       "      <td>1</td>\n",
       "      <td>0</td>\n",
       "    </tr>\n",
       "  </tbody>\n",
       "</table>\n",
       "<p>1460 rows × 9 columns</p>\n",
       "</div>"
      ],
      "text/plain": [
       "      YearBuilt  LotArea  OverallQual  SalePrice  MSZoning_C (all)  \\\n",
       "0          2003     8450            7     208500                 0   \n",
       "1          1976     9600            6     181500                 0   \n",
       "2          2001    11250            7     223500                 0   \n",
       "3          1915     9550            7     140000                 0   \n",
       "4          2000    14260            8     250000                 0   \n",
       "...         ...      ...          ...        ...               ...   \n",
       "1455       1999     7917            6     175000                 0   \n",
       "1456       1978    13175            6     210000                 0   \n",
       "1457       1941     9042            7     266500                 0   \n",
       "1458       1950     9717            5     142125                 0   \n",
       "1459       1965     9937            5     147500                 0   \n",
       "\n",
       "      MSZoning_FV  MSZoning_RH  MSZoning_RL  MSZoning_RM  \n",
       "0               0            0            1            0  \n",
       "1               0            0            1            0  \n",
       "2               0            0            1            0  \n",
       "3               0            0            1            0  \n",
       "4               0            0            1            0  \n",
       "...           ...          ...          ...          ...  \n",
       "1455            0            0            1            0  \n",
       "1456            0            0            1            0  \n",
       "1457            0            0            1            0  \n",
       "1458            0            0            1            0  \n",
       "1459            0            0            1            0  \n",
       "\n",
       "[1460 rows x 9 columns]"
      ]
     },
     "execution_count": 21,
     "metadata": {},
     "output_type": "execute_result"
    }
   ],
   "source": [
    "df"
   ]
  },
  {
   "cell_type": "markdown",
   "metadata": {},
   "source": [
    "# Spalten selektieren, Daten plotten"
   ]
  },
  {
   "cell_type": "code",
   "execution_count": 22,
   "metadata": {},
   "outputs": [
    {
     "data": {
      "text/plain": [
       "0        8450\n",
       "1        9600\n",
       "2       11250\n",
       "3        9550\n",
       "4       14260\n",
       "        ...  \n",
       "1455     7917\n",
       "1456    13175\n",
       "1457     9042\n",
       "1458     9717\n",
       "1459     9937\n",
       "Name: LotArea, Length: 1460, dtype: int64"
      ]
     },
     "execution_count": 22,
     "metadata": {},
     "output_type": "execute_result"
    }
   ],
   "source": [
    "df[\"LotArea\"]"
   ]
  },
  {
   "cell_type": "code",
   "execution_count": 23,
   "metadata": {},
   "outputs": [
    {
     "data": {
      "text/plain": [
       "pandas.core.series.Series"
      ]
     },
     "execution_count": 23,
     "metadata": {},
     "output_type": "execute_result"
    }
   ],
   "source": [
    "type( df[\"OverallQual\"] )"
   ]
  },
  {
   "cell_type": "code",
   "execution_count": 24,
   "metadata": {},
   "outputs": [
    {
     "data": {
      "text/plain": [
       "1300"
      ]
     },
     "execution_count": 24,
     "metadata": {},
     "output_type": "execute_result"
    }
   ],
   "source": [
    "df[\"LotArea\"].min()"
   ]
  },
  {
   "cell_type": "code",
   "execution_count": 25,
   "metadata": {},
   "outputs": [
    {
     "data": {
      "text/plain": [
       "215245"
      ]
     },
     "execution_count": 25,
     "metadata": {},
     "output_type": "execute_result"
    }
   ],
   "source": [
    "df[\"LotArea\"].max()"
   ]
  },
  {
   "cell_type": "code",
   "execution_count": 26,
   "metadata": {},
   "outputs": [
    {
     "data": {
      "text/plain": [
       "10516.828082191782"
      ]
     },
     "execution_count": 26,
     "metadata": {},
     "output_type": "execute_result"
    }
   ],
   "source": [
    "df[\"LotArea\"].mean()"
   ]
  },
  {
   "cell_type": "code",
   "execution_count": 27,
   "metadata": {},
   "outputs": [
    {
     "data": {
      "text/plain": [
       "9478.5"
      ]
     },
     "execution_count": 27,
     "metadata": {},
     "output_type": "execute_result"
    }
   ],
   "source": [
    "df[\"LotArea\"].median()"
   ]
  },
  {
   "cell_type": "code",
   "execution_count": 28,
   "metadata": {},
   "outputs": [],
   "source": [
    "gehaelter = [1000,2000,3000,4000,5000000]"
   ]
  },
  {
   "cell_type": "code",
   "execution_count": 29,
   "metadata": {},
   "outputs": [
    {
     "name": "stdout",
     "output_type": "stream",
     "text": [
      "1002000.0\n",
      "3000.0\n"
     ]
    }
   ],
   "source": [
    "import numpy as np\n",
    "print( np.mean( gehaelter ))\n",
    "print( np.median( gehaelter ) )"
   ]
  },
  {
   "cell_type": "code",
   "execution_count": 30,
   "metadata": {},
   "outputs": [
    {
     "data": {
      "text/plain": [
       "0       208500\n",
       "1       181500\n",
       "2       223500\n",
       "3       140000\n",
       "4       250000\n",
       "         ...  \n",
       "1455    175000\n",
       "1456    210000\n",
       "1457    266500\n",
       "1458    142125\n",
       "1459    147500\n",
       "Name: SalePrice, Length: 1460, dtype: int64"
      ]
     },
     "execution_count": 30,
     "metadata": {},
     "output_type": "execute_result"
    }
   ],
   "source": [
    "df[\"SalePrice\"]"
   ]
  },
  {
   "cell_type": "code",
   "execution_count": 31,
   "metadata": {},
   "outputs": [
    {
     "data": {
      "text/plain": [
       "count      1460.000000\n",
       "mean     180921.195890\n",
       "std       79442.502883\n",
       "min       34900.000000\n",
       "25%      129975.000000\n",
       "50%      163000.000000\n",
       "75%      214000.000000\n",
       "max      755000.000000\n",
       "Name: SalePrice, dtype: float64"
      ]
     },
     "execution_count": 31,
     "metadata": {},
     "output_type": "execute_result"
    }
   ],
   "source": [
    "df[\"SalePrice\"].describe()"
   ]
  },
  {
   "cell_type": "code",
   "execution_count": 32,
   "metadata": {},
   "outputs": [],
   "source": [
    "x = df[\"LotArea\"]\n",
    "y = df[\"SalePrice\"]"
   ]
  },
  {
   "cell_type": "code",
   "execution_count": 33,
   "metadata": {},
   "outputs": [
    {
     "data": {
      "text/plain": [
       "pandas.core.series.Series"
      ]
     },
     "execution_count": 33,
     "metadata": {},
     "output_type": "execute_result"
    }
   ],
   "source": [
    "type(x)"
   ]
  },
  {
   "cell_type": "code",
   "execution_count": 34,
   "metadata": {},
   "outputs": [
    {
     "data": {
      "image/png": "[encoded data removed]",
      "text/plain": [
       "<Figure size 432x288 with 1 Axes>"
      ]
     },
     "metadata": {
      "needs_background": "light"
     },
     "output_type": "display_data"
    }
   ],
   "source": [
    "import matplotlib.pyplot as plt\n",
    "plt.scatter(x,y, marker=\"+\")\n",
    "plt.xlabel(\"Grundstücksfläche in SquareFeet\", fontsize=15, color=\"green\")\n",
    "plt.xlim(1000, 50000)\n",
    "plt.ylabel(\"Verkaufspreis in $\", fontsize=15, color=\"green\")\n",
    "plt.title(\"Scatterplot\", fontsize=20, color=\"red\")\n",
    "plt.show()"
   ]
  },
  {
   "cell_type": "code",
   "execution_count": 35,
   "metadata": {},
   "outputs": [],
   "source": [
    "liste_von_spalten = [\"YearBuilt\", \"LotArea\", \"OverallQual\",\n",
    "                     'MSZoning_C (all)', 'MSZoning_FV', 'MSZoning_RH',\n",
    "                     'MSZoning_RL', 'MSZoning_RM']\n",
    "\n",
    "data_input = df[ liste_von_spalten  ].values\n",
    "\n",
    "nr_inputs = data_input.shape[1]"
   ]
  },
  {
   "cell_type": "code",
   "execution_count": 36,
   "metadata": {},
   "outputs": [
    {
     "data": {
      "text/plain": [
       "8"
      ]
     },
     "execution_count": 36,
     "metadata": {},
     "output_type": "execute_result"
    }
   ],
   "source": [
    "nr_inputs"
   ]
  },
  {
   "cell_type": "code",
   "execution_count": 37,
   "metadata": {},
   "outputs": [
    {
     "data": {
      "text/plain": [
       "numpy.ndarray"
      ]
     },
     "execution_count": 37,
     "metadata": {},
     "output_type": "execute_result"
    }
   ],
   "source": [
    "type( data_input )"
   ]
  },
  {
   "cell_type": "code",
   "execution_count": 38,
   "metadata": {},
   "outputs": [
    {
     "data": {
      "text/plain": [
       "2"
      ]
     },
     "execution_count": 38,
     "metadata": {},
     "output_type": "execute_result"
    }
   ],
   "source": [
    "data_input.ndim"
   ]
  },
  {
   "cell_type": "code",
   "execution_count": 39,
   "metadata": {},
   "outputs": [
    {
     "data": {
      "text/plain": [
       "(1460, 8)"
      ]
     },
     "execution_count": 39,
     "metadata": {},
     "output_type": "execute_result"
    }
   ],
   "source": [
    "data_input.shape"
   ]
  },
  {
   "cell_type": "code",
   "execution_count": 40,
   "metadata": {},
   "outputs": [
    {
     "data": {
      "text/plain": [
       "8"
      ]
     },
     "execution_count": 40,
     "metadata": {},
     "output_type": "execute_result"
    }
   ],
   "source": [
    "data_input.shape[1]"
   ]
  },
  {
   "cell_type": "code",
   "execution_count": 41,
   "metadata": {},
   "outputs": [
    {
     "data": {
      "text/plain": [
       "8"
      ]
     },
     "execution_count": 41,
     "metadata": {},
     "output_type": "execute_result"
    }
   ],
   "source": [
    "nr_inputs"
   ]
  },
  {
   "cell_type": "code",
   "execution_count": 42,
   "metadata": {},
   "outputs": [
    {
     "data": {
      "text/plain": [
       "array([[ 2003,  8450,     7, ...,     0,     1,     0],\n",
       "       [ 1976,  9600,     6, ...,     0,     1,     0],\n",
       "       [ 2001, 11250,     7, ...,     0,     1,     0],\n",
       "       ...,\n",
       "       [ 1941,  9042,     7, ...,     0,     1,     0],\n",
       "       [ 1950,  9717,     5, ...,     0,     1,     0],\n",
       "       [ 1965,  9937,     5, ...,     0,     1,     0]])"
      ]
     },
     "execution_count": 42,
     "metadata": {},
     "output_type": "execute_result"
    }
   ],
   "source": [
    "data_input"
   ]
  },
  {
   "cell_type": "code",
   "execution_count": 43,
   "metadata": {},
   "outputs": [],
   "source": [
    "data_output = df[\"SalePrice\"].values"
   ]
  },
  {
   "cell_type": "code",
   "execution_count": 44,
   "metadata": {},
   "outputs": [
    {
     "data": {
      "text/plain": [
       "array([208500, 181500, 223500, ..., 266500, 142125, 147500])"
      ]
     },
     "execution_count": 44,
     "metadata": {},
     "output_type": "execute_result"
    }
   ],
   "source": [
    "data_output"
   ]
  },
  {
   "cell_type": "code",
   "execution_count": 45,
   "metadata": {},
   "outputs": [
    {
     "data": {
      "text/plain": [
       "(1460,)"
      ]
     },
     "execution_count": 45,
     "metadata": {},
     "output_type": "execute_result"
    }
   ],
   "source": [
    "data_output.shape"
   ]
  },
  {
   "cell_type": "code",
   "execution_count": 46,
   "metadata": {},
   "outputs": [
    {
     "data": {
      "text/plain": [
       "numpy.ndarray"
      ]
     },
     "execution_count": 46,
     "metadata": {},
     "output_type": "execute_result"
    }
   ],
   "source": [
    "type( data_output )"
   ]
  },
  {
   "cell_type": "code",
   "execution_count": 47,
   "metadata": {},
   "outputs": [
    {
     "data": {
      "text/plain": [
       "1"
      ]
     },
     "execution_count": 47,
     "metadata": {},
     "output_type": "execute_result"
    }
   ],
   "source": [
    "data_output.ndim"
   ]
  },
  {
   "cell_type": "code",
   "execution_count": 48,
   "metadata": {},
   "outputs": [
    {
     "data": {
      "text/plain": [
       "34900"
      ]
     },
     "execution_count": 48,
     "metadata": {},
     "output_type": "execute_result"
    }
   ],
   "source": [
    "data_output.min()"
   ]
  },
  {
   "cell_type": "code",
   "execution_count": 49,
   "metadata": {},
   "outputs": [
    {
     "data": {
      "text/plain": [
       "755000"
      ]
     },
     "execution_count": 49,
     "metadata": {},
     "output_type": "execute_result"
    }
   ],
   "source": [
    "data_output.max()"
   ]
  },
  {
   "cell_type": "markdown",
   "metadata": {},
   "source": [
    "# Daten normalisieren"
   ]
  },
  {
   "cell_type": "code",
   "execution_count": 50,
   "metadata": {},
   "outputs": [],
   "source": [
    "import numpy as np\n",
    "from sklearn.preprocessing import MinMaxScaler"
   ]
  },
  {
   "cell_type": "code",
   "execution_count": 51,
   "metadata": {},
   "outputs": [],
   "source": [
    "scaler_input = MinMaxScaler(feature_range=(0, 1))\n",
    "scaled_input_data = scaler_input.fit_transform(data_input)"
   ]
  },
  {
   "cell_type": "code",
   "execution_count": 52,
   "metadata": {},
   "outputs": [
    {
     "data": {
      "text/plain": [
       "array([[0.94927536, 0.0334198 , 0.66666667, ..., 0.        , 1.        ,\n",
       "        0.        ],\n",
       "       [0.75362319, 0.03879502, 0.55555556, ..., 0.        , 1.        ,\n",
       "        0.        ],\n",
       "       [0.93478261, 0.04650728, 0.66666667, ..., 0.        , 1.        ,\n",
       "        0.        ],\n",
       "       ...,\n",
       "       [0.5       , 0.03618687, 0.66666667, ..., 0.        , 1.        ,\n",
       "        0.        ],\n",
       "       [0.56521739, 0.03934189, 0.44444444, ..., 0.        , 1.        ,\n",
       "        0.        ],\n",
       "       [0.67391304, 0.04037019, 0.44444444, ..., 0.        , 1.        ,\n",
       "        0.        ]])"
      ]
     },
     "execution_count": 52,
     "metadata": {},
     "output_type": "execute_result"
    }
   ],
   "source": [
    "scaled_input_data"
   ]
  },
  {
   "cell_type": "code",
   "execution_count": 53,
   "metadata": {},
   "outputs": [
    {
     "data": {
      "text/plain": [
       "(1460, 8)"
      ]
     },
     "execution_count": 53,
     "metadata": {},
     "output_type": "execute_result"
    }
   ],
   "source": [
    "scaled_input_data.shape"
   ]
  },
  {
   "cell_type": "code",
   "execution_count": 54,
   "metadata": {},
   "outputs": [
    {
     "data": {
      "text/plain": [
       "array([0.94927536, 0.75362319, 0.93478261, ..., 0.5       , 0.56521739,\n",
       "       0.67391304])"
      ]
     },
     "execution_count": 54,
     "metadata": {},
     "output_type": "execute_result"
    }
   ],
   "source": [
    "scaled_input_data[:,0]"
   ]
  },
  {
   "cell_type": "code",
   "execution_count": 55,
   "metadata": {},
   "outputs": [],
   "source": [
    "A = np.zeros( (6,3) )"
   ]
  },
  {
   "cell_type": "code",
   "execution_count": 56,
   "metadata": {},
   "outputs": [],
   "source": [
    "A = np.arange( 1, 19 )"
   ]
  },
  {
   "cell_type": "code",
   "execution_count": 57,
   "metadata": {},
   "outputs": [
    {
     "data": {
      "text/plain": [
       "array([ 1,  2,  3,  4,  5,  6,  7,  8,  9, 10, 11, 12, 13, 14, 15, 16, 17,\n",
       "       18])"
      ]
     },
     "execution_count": 57,
     "metadata": {},
     "output_type": "execute_result"
    }
   ],
   "source": [
    "A"
   ]
  },
  {
   "cell_type": "code",
   "execution_count": 58,
   "metadata": {},
   "outputs": [
    {
     "data": {
      "text/plain": [
       "1"
      ]
     },
     "execution_count": 58,
     "metadata": {},
     "output_type": "execute_result"
    }
   ],
   "source": [
    "A.ndim"
   ]
  },
  {
   "cell_type": "code",
   "execution_count": 59,
   "metadata": {},
   "outputs": [],
   "source": [
    "B = A.reshape( (6,3) )"
   ]
  },
  {
   "cell_type": "code",
   "execution_count": 60,
   "metadata": {},
   "outputs": [
    {
     "data": {
      "text/plain": [
       "array([[ 1,  2,  3],\n",
       "       [ 4,  5,  6],\n",
       "       [ 7,  8,  9],\n",
       "       [10, 11, 12],\n",
       "       [13, 14, 15],\n",
       "       [16, 17, 18]])"
      ]
     },
     "execution_count": 60,
     "metadata": {},
     "output_type": "execute_result"
    }
   ],
   "source": [
    "B"
   ]
  },
  {
   "cell_type": "code",
   "execution_count": 61,
   "metadata": {},
   "outputs": [
    {
     "data": {
      "text/plain": [
       "7"
      ]
     },
     "execution_count": 61,
     "metadata": {},
     "output_type": "execute_result"
    }
   ],
   "source": [
    "B[2,0]"
   ]
  },
  {
   "cell_type": "code",
   "execution_count": 62,
   "metadata": {},
   "outputs": [
    {
     "data": {
      "text/plain": [
       "array([ 3,  6,  9, 12, 15, 18])"
      ]
     },
     "execution_count": 62,
     "metadata": {},
     "output_type": "execute_result"
    }
   ],
   "source": [
    "B[:,2]"
   ]
  },
  {
   "cell_type": "code",
   "execution_count": 63,
   "metadata": {},
   "outputs": [
    {
     "data": {
      "text/plain": [
       "numpy.ndarray"
      ]
     },
     "execution_count": 63,
     "metadata": {},
     "output_type": "execute_result"
    }
   ],
   "source": [
    "type(scaled_input_data)"
   ]
  },
  {
   "cell_type": "code",
   "execution_count": 64,
   "metadata": {},
   "outputs": [
    {
     "data": {
      "text/plain": [
       "array([208500, 181500, 223500, ..., 266500, 142125, 147500])"
      ]
     },
     "execution_count": 64,
     "metadata": {},
     "output_type": "execute_result"
    }
   ],
   "source": [
    "data_output"
   ]
  },
  {
   "cell_type": "code",
   "execution_count": 65,
   "metadata": {},
   "outputs": [],
   "source": [
    "scaler_output = MinMaxScaler(feature_range=(0, 1))\n",
    "scaled_output_data = scaler_output.fit_transform(data_output.reshape(-1,1))"
   ]
  },
  {
   "cell_type": "code",
   "execution_count": 66,
   "metadata": {},
   "outputs": [
    {
     "data": {
      "text/plain": [
       "array([[0.24107763],\n",
       "       [0.20358284],\n",
       "       [0.26190807],\n",
       "       ...,\n",
       "       [0.321622  ],\n",
       "       [0.14890293],\n",
       "       [0.15636717]])"
      ]
     },
     "execution_count": 66,
     "metadata": {},
     "output_type": "execute_result"
    }
   ],
   "source": [
    "scaled_output_data"
   ]
  },
  {
   "cell_type": "markdown",
   "metadata": {},
   "source": [
    "# Trainings- und Testdaten definieren"
   ]
  },
  {
   "cell_type": "code",
   "execution_count": 67,
   "metadata": {},
   "outputs": [],
   "source": [
    "x_train = scaled_input_data[0:1000]\n",
    "y_train = scaled_output_data[0:1000]\n",
    "x_test  = scaled_input_data[1000:]\n",
    "y_test  = scaled_output_data[1000:]"
   ]
  },
  {
   "cell_type": "code",
   "execution_count": 68,
   "metadata": {},
   "outputs": [
    {
     "data": {
      "text/plain": [
       "numpy.ndarray"
      ]
     },
     "execution_count": 68,
     "metadata": {},
     "output_type": "execute_result"
    }
   ],
   "source": [
    "type(x_train)"
   ]
  },
  {
   "cell_type": "code",
   "execution_count": 69,
   "metadata": {},
   "outputs": [
    {
     "data": {
      "text/plain": [
       "(1000, 8)"
      ]
     },
     "execution_count": 69,
     "metadata": {},
     "output_type": "execute_result"
    }
   ],
   "source": [
    "x_train.shape"
   ]
  },
  {
   "cell_type": "code",
   "execution_count": 70,
   "metadata": {},
   "outputs": [
    {
     "data": {
      "text/plain": [
       "(1000, 1)"
      ]
     },
     "execution_count": 70,
     "metadata": {},
     "output_type": "execute_result"
    }
   ],
   "source": [
    "y_train.shape"
   ]
  },
  {
   "cell_type": "code",
   "execution_count": 71,
   "metadata": {},
   "outputs": [
    {
     "data": {
      "text/plain": [
       "(460, 8)"
      ]
     },
     "execution_count": 71,
     "metadata": {},
     "output_type": "execute_result"
    }
   ],
   "source": [
    "x_test.shape"
   ]
  },
  {
   "cell_type": "code",
   "execution_count": 72,
   "metadata": {},
   "outputs": [
    {
     "data": {
      "text/plain": [
       "(460, 1)"
      ]
     },
     "execution_count": 72,
     "metadata": {},
     "output_type": "execute_result"
    }
   ],
   "source": [
    "y_test.shape"
   ]
  },
  {
   "cell_type": "code",
   "execution_count": 73,
   "metadata": {},
   "outputs": [
    {
     "name": "stdout",
     "output_type": "stream",
     "text": [
      "[0.63043478 0.03748627 0.33333333 0.         0.         0.\n",
      " 1.         0.        ] --> [0.13060686]\n"
     ]
    }
   ],
   "source": [
    "print(x_train[99], \"-->\", y_train[99])"
   ]
  },
  {
   "cell_type": "markdown",
   "metadata": {},
   "source": [
    "# MLP vorbereiten"
   ]
  },
  {
   "cell_type": "code",
   "execution_count": 74,
   "metadata": {},
   "outputs": [
    {
     "data": {
      "text/plain": [
       "8"
      ]
     },
     "execution_count": 74,
     "metadata": {},
     "output_type": "execute_result"
    }
   ],
   "source": [
    "nr_inputs"
   ]
  },
  {
   "cell_type": "code",
   "execution_count": 75,
   "metadata": {},
   "outputs": [],
   "source": [
    "from tensorflow import keras\n",
    "\n",
    "tf.keras.backend.clear_session()\n",
    "\n",
    "model = keras.Sequential()\n",
    "model.add(keras.layers.Dense(160,\n",
    "                             activation=\"relu\",\n",
    "                             input_shape=(nr_inputs,)))\n",
    "model.add(keras.layers.Dense(40,\n",
    "                             activation=\"relu\"\n",
    "                            ))\n",
    "model.add(keras.layers.Dense(1,\n",
    "                             activation=\"linear\"))"
   ]
  },
  {
   "cell_type": "code",
   "execution_count": 76,
   "metadata": {},
   "outputs": [],
   "source": [
    "model.compile(optimizer='sgd',\n",
    "              loss=tf.keras.losses.MeanSquaredError(),\n",
    "              metrics=['accuracy'])"
   ]
  },
  {
   "cell_type": "code",
   "execution_count": 77,
   "metadata": {},
   "outputs": [
    {
     "name": "stdout",
     "output_type": "stream",
     "text": [
      "Model: \"sequential\"\n",
      "_________________________________________________________________\n",
      "Layer (type)                 Output Shape              Param #   \n",
      "=================================================================\n",
      "dense (Dense)                (None, 160)               1440      \n",
      "_________________________________________________________________\n",
      "dense_1 (Dense)              (None, 40)                6440      \n",
      "_________________________________________________________________\n",
      "dense_2 (Dense)              (None, 1)                 41        \n",
      "=================================================================\n",
      "Total params: 7,921\n",
      "Trainable params: 7,921\n",
      "Non-trainable params: 0\n",
      "_________________________________________________________________\n"
     ]
    }
   ],
   "source": [
    "model.summary()"
   ]
  },
  {
   "cell_type": "markdown",
   "metadata": {},
   "source": [
    "# MLP trainieren"
   ]
  },
  {
   "cell_type": "code",
   "execution_count": 78,
   "metadata": {},
   "outputs": [
    {
     "data": {
      "text/plain": [
       "(1000, 8)"
      ]
     },
     "execution_count": 78,
     "metadata": {},
     "output_type": "execute_result"
    }
   ],
   "source": [
    "x_train.shape"
   ]
  },
  {
   "cell_type": "code",
   "execution_count": 79,
   "metadata": {},
   "outputs": [
    {
     "data": {
      "text/plain": [
       "(1000, 1)"
      ]
     },
     "execution_count": 79,
     "metadata": {},
     "output_type": "execute_result"
    }
   ],
   "source": [
    "y_train.shape"
   ]
  },
  {
   "cell_type": "code",
   "execution_count": 80,
   "metadata": {},
   "outputs": [
    {
     "name": "stdout",
     "output_type": "stream",
     "text": [
      "Epoch 1/200\n",
      "32/32 [==============================] - 0s 589us/step - loss: 0.0180 - accuracy: 0.0010\n",
      "Epoch 2/200\n",
      "32/32 [==============================] - 0s 537us/step - loss: 0.0088 - accuracy: 0.0010\n",
      "Epoch 3/200\n",
      "32/32 [==============================] - 0s 462us/step - loss: 0.0084 - accuracy: 0.0010\n",
      "Epoch 4/200\n",
      "32/32 [==============================] - 0s 630us/step - loss: 0.0081 - accuracy: 0.0010\n",
      "Epoch 5/200\n",
      "32/32 [==============================] - 0s 536us/step - loss: 0.0078 - accuracy: 0.0010\n",
      "Epoch 6/200\n",
      "32/32 [==============================] - 0s 559us/step - loss: 0.0076 - accuracy: 0.0010\n",
      "Epoch 7/200\n",
      "32/32 [==============================] - 0s 638us/step - loss: 0.0074 - accuracy: 0.0010\n",
      "Epoch 8/200\n",
      "32/32 [==============================] - 0s 693us/step - loss: 0.0072 - accuracy: 0.0010\n",
      "Epoch 9/200\n",
      "32/32 [==============================] - 0s 516us/step - loss: 0.0070 - accuracy: 0.0010\n",
      "Epoch 10/200\n",
      "32/32 [==============================] - 0s 530us/step - loss: 0.0069 - accuracy: 0.0010\n",
      "Epoch 11/200\n",
      "32/32 [==============================] - 0s 525us/step - loss: 0.0068 - accuracy: 0.0010\n",
      "Epoch 12/200\n",
      "32/32 [==============================] - 0s 571us/step - loss: 0.0066 - accuracy: 0.0010\n",
      "Epoch 13/200\n",
      "32/32 [==============================] - 0s 584us/step - loss: 0.0065 - accuracy: 0.0010\n",
      "Epoch 14/200\n",
      "32/32 [==============================] - 0s 573us/step - loss: 0.0064 - accuracy: 0.0010\n",
      "Epoch 15/200\n",
      "32/32 [==============================] - 0s 617us/step - loss: 0.0062 - accuracy: 0.0010\n",
      "Epoch 16/200\n",
      "32/32 [==============================] - 0s 649us/step - loss: 0.0062 - accuracy: 0.0010\n",
      "Epoch 17/200\n",
      "32/32 [==============================] - 0s 599us/step - loss: 0.0061 - accuracy: 0.0010\n",
      "Epoch 18/200\n",
      "32/32 [==============================] - 0s 611us/step - loss: 0.0060 - accuracy: 0.0010\n",
      "Epoch 19/200\n",
      "32/32 [==============================] - 0s 591us/step - loss: 0.0059 - accuracy: 0.0010\n",
      "Epoch 20/200\n",
      "32/32 [==============================] - 0s 638us/step - loss: 0.0058 - accuracy: 0.0010\n",
      "Epoch 21/200\n",
      "32/32 [==============================] - 0s 672us/step - loss: 0.0058 - accuracy: 0.0010\n",
      "Epoch 22/200\n",
      "32/32 [==============================] - 0s 634us/step - loss: 0.0057 - accuracy: 0.0010\n",
      "Epoch 23/200\n",
      "32/32 [==============================] - 0s 663us/step - loss: 0.0056 - accuracy: 0.0010\n",
      "Epoch 24/200\n",
      "32/32 [==============================] - 0s 589us/step - loss: 0.0056 - accuracy: 0.0010\n",
      "Epoch 25/200\n",
      "32/32 [==============================] - 0s 624us/step - loss: 0.0055 - accuracy: 0.0010\n",
      "Epoch 26/200\n",
      "32/32 [==============================] - 0s 561us/step - loss: 0.0055 - accuracy: 0.0010\n",
      "Epoch 27/200\n",
      "32/32 [==============================] - 0s 609us/step - loss: 0.0054 - accuracy: 0.0010\n",
      "Epoch 28/200\n",
      "32/32 [==============================] - 0s 579us/step - loss: 0.0053 - accuracy: 0.0010\n",
      "Epoch 29/200\n",
      "32/32 [==============================] - 0s 605us/step - loss: 0.0053 - accuracy: 0.0010\n",
      "Epoch 30/200\n",
      "32/32 [==============================] - 0s 593us/step - loss: 0.0052 - accuracy: 0.0010\n",
      "Epoch 31/200\n",
      "32/32 [==============================] - 0s 580us/step - loss: 0.0052 - accuracy: 0.0010\n",
      "Epoch 32/200\n",
      "32/32 [==============================] - 0s 525us/step - loss: 0.0052 - accuracy: 0.0010\n",
      "Epoch 33/200\n",
      "32/32 [==============================] - 0s 643us/step - loss: 0.0051 - accuracy: 0.0010\n",
      "Epoch 34/200\n",
      "32/32 [==============================] - 0s 535us/step - loss: 0.0051 - accuracy: 0.0010\n",
      "Epoch 35/200\n",
      "32/32 [==============================] - 0s 606us/step - loss: 0.0050 - accuracy: 0.0010\n",
      "Epoch 36/200\n",
      "32/32 [==============================] - 0s 587us/step - loss: 0.0050 - accuracy: 0.0010\n",
      "Epoch 37/200\n",
      "32/32 [==============================] - 0s 596us/step - loss: 0.0050 - accuracy: 0.0010\n",
      "Epoch 38/200\n",
      "32/32 [==============================] - 0s 672us/step - loss: 0.0049 - accuracy: 0.0010\n",
      "Epoch 39/200\n",
      "32/32 [==============================] - 0s 572us/step - loss: 0.0049 - accuracy: 0.0010\n",
      "Epoch 40/200\n",
      "32/32 [==============================] - 0s 642us/step - loss: 0.0049 - accuracy: 0.0010\n",
      "Epoch 41/200\n",
      "32/32 [==============================] - 0s 611us/step - loss: 0.0048 - accuracy: 0.0010\n",
      "Epoch 42/200\n",
      "32/32 [==============================] - 0s 651us/step - loss: 0.0048 - accuracy: 0.0010\n",
      "Epoch 43/200\n",
      "32/32 [==============================] - 0s 643us/step - loss: 0.0048 - accuracy: 0.0010\n",
      "Epoch 44/200\n",
      "32/32 [==============================] - 0s 594us/step - loss: 0.0047 - accuracy: 0.0010\n",
      "Epoch 45/200\n",
      "32/32 [==============================] - 0s 644us/step - loss: 0.0047 - accuracy: 0.0010\n",
      "Epoch 46/200\n",
      "32/32 [==============================] - 0s 596us/step - loss: 0.0047 - accuracy: 0.0010\n",
      "Epoch 47/200\n",
      "32/32 [==============================] - 0s 615us/step - loss: 0.0047 - accuracy: 0.0010\n",
      "Epoch 48/200\n",
      "32/32 [==============================] - 0s 600us/step - loss: 0.0046 - accuracy: 0.0010\n",
      "Epoch 49/200\n",
      "32/32 [==============================] - 0s 655us/step - loss: 0.0046 - accuracy: 0.0010\n",
      "Epoch 50/200\n",
      "32/32 [==============================] - 0s 566us/step - loss: 0.0045 - accuracy: 0.0010\n",
      "Epoch 51/200\n",
      "32/32 [==============================] - 0s 697us/step - loss: 0.0045 - accuracy: 0.0010\n",
      "Epoch 52/200\n",
      "32/32 [==============================] - 0s 596us/step - loss: 0.0045 - accuracy: 0.0010\n",
      "Epoch 53/200\n",
      "32/32 [==============================] - 0s 621us/step - loss: 0.0045 - accuracy: 0.0010\n",
      "Epoch 54/200\n",
      "32/32 [==============================] - 0s 613us/step - loss: 0.0044 - accuracy: 0.0010\n",
      "Epoch 55/200\n",
      "32/32 [==============================] - 0s 604us/step - loss: 0.0044 - accuracy: 0.0010\n",
      "Epoch 56/200\n",
      "32/32 [==============================] - 0s 682us/step - loss: 0.0044 - accuracy: 0.0010\n",
      "Epoch 57/200\n",
      "32/32 [==============================] - 0s 622us/step - loss: 0.0044 - accuracy: 0.0010\n",
      "Epoch 58/200\n",
      "32/32 [==============================] - 0s 618us/step - loss: 0.0044 - accuracy: 0.0010\n",
      "Epoch 59/200\n",
      "32/32 [==============================] - 0s 526us/step - loss: 0.0043 - accuracy: 0.0010\n",
      "Epoch 60/200\n",
      "32/32 [==============================] - 0s 636us/step - loss: 0.0043 - accuracy: 0.0010\n",
      "Epoch 61/200\n",
      "32/32 [==============================] - 0s 606us/step - loss: 0.0043 - accuracy: 0.0010\n",
      "Epoch 62/200\n",
      "32/32 [==============================] - 0s 545us/step - loss: 0.0043 - accuracy: 0.0010\n",
      "Epoch 63/200\n",
      "32/32 [==============================] - 0s 609us/step - loss: 0.0043 - accuracy: 0.0010\n",
      "Epoch 64/200\n",
      "32/32 [==============================] - 0s 533us/step - loss: 0.0043 - accuracy: 0.0010\n",
      "Epoch 65/200\n",
      "32/32 [==============================] - 0s 491us/step - loss: 0.0043 - accuracy: 0.0010\n",
      "Epoch 66/200\n",
      "32/32 [==============================] - 0s 539us/step - loss: 0.0042 - accuracy: 0.0010\n",
      "Epoch 67/200\n",
      "32/32 [==============================] - 0s 500us/step - loss: 0.0042 - accuracy: 0.0010\n",
      "Epoch 68/200\n",
      "32/32 [==============================] - 0s 520us/step - loss: 0.0042 - accuracy: 0.0010\n",
      "Epoch 69/200\n",
      "32/32 [==============================] - 0s 602us/step - loss: 0.0042 - accuracy: 0.0010\n",
      "Epoch 70/200\n",
      "32/32 [==============================] - 0s 570us/step - loss: 0.0042 - accuracy: 0.0010\n",
      "Epoch 71/200\n",
      "32/32 [==============================] - 0s 610us/step - loss: 0.0042 - accuracy: 0.0010\n",
      "Epoch 72/200\n",
      "32/32 [==============================] - 0s 566us/step - loss: 0.0042 - accuracy: 0.0010\n",
      "Epoch 73/200\n",
      "32/32 [==============================] - 0s 562us/step - loss: 0.0042 - accuracy: 0.0010\n",
      "Epoch 74/200\n",
      "32/32 [==============================] - 0s 564us/step - loss: 0.0042 - accuracy: 0.0010\n",
      "Epoch 75/200\n",
      "32/32 [==============================] - 0s 578us/step - loss: 0.0042 - accuracy: 0.0010\n",
      "Epoch 76/200\n",
      "32/32 [==============================] - 0s 588us/step - loss: 0.0041 - accuracy: 0.0010\n",
      "Epoch 77/200\n",
      "32/32 [==============================] - 0s 497us/step - loss: 0.0041 - accuracy: 0.0010\n",
      "Epoch 78/200\n",
      "32/32 [==============================] - 0s 512us/step - loss: 0.0041 - accuracy: 0.0010\n",
      "Epoch 79/200\n",
      "32/32 [==============================] - 0s 534us/step - loss: 0.0041 - accuracy: 0.0010\n",
      "Epoch 80/200\n",
      "32/32 [==============================] - 0s 604us/step - loss: 0.0041 - accuracy: 0.0010\n",
      "Epoch 81/200\n"
     ]
    },
    {
     "name": "stdout",
     "output_type": "stream",
     "text": [
      "32/32 [==============================] - 0s 554us/step - loss: 0.0041 - accuracy: 0.0010\n",
      "Epoch 82/200\n",
      "32/32 [==============================] - 0s 475us/step - loss: 0.0041 - accuracy: 0.0010\n",
      "Epoch 83/200\n",
      "32/32 [==============================] - 0s 590us/step - loss: 0.0041 - accuracy: 0.0010\n",
      "Epoch 84/200\n",
      "32/32 [==============================] - 0s 590us/step - loss: 0.0041 - accuracy: 0.0010\n",
      "Epoch 85/200\n",
      "32/32 [==============================] - 0s 504us/step - loss: 0.0041 - accuracy: 0.0010\n",
      "Epoch 86/200\n",
      "32/32 [==============================] - 0s 509us/step - loss: 0.0041 - accuracy: 0.0010\n",
      "Epoch 87/200\n",
      "32/32 [==============================] - 0s 465us/step - loss: 0.0040 - accuracy: 0.0010\n",
      "Epoch 88/200\n",
      "32/32 [==============================] - 0s 513us/step - loss: 0.0040 - accuracy: 0.0010\n",
      "Epoch 89/200\n",
      "32/32 [==============================] - 0s 558us/step - loss: 0.0040 - accuracy: 0.0010\n",
      "Epoch 90/200\n",
      "32/32 [==============================] - 0s 495us/step - loss: 0.0040 - accuracy: 0.0010\n",
      "Epoch 91/200\n",
      "32/32 [==============================] - 0s 475us/step - loss: 0.0040 - accuracy: 0.0010\n",
      "Epoch 92/200\n",
      "32/32 [==============================] - 0s 507us/step - loss: 0.0040 - accuracy: 0.0010\n",
      "Epoch 93/200\n",
      "32/32 [==============================] - 0s 459us/step - loss: 0.0040 - accuracy: 0.0010\n",
      "Epoch 94/200\n",
      "32/32 [==============================] - 0s 486us/step - loss: 0.0040 - accuracy: 0.0010\n",
      "Epoch 95/200\n",
      "32/32 [==============================] - 0s 545us/step - loss: 0.0040 - accuracy: 0.0010\n",
      "Epoch 96/200\n",
      "32/32 [==============================] - 0s 538us/step - loss: 0.0040 - accuracy: 0.0010\n",
      "Epoch 97/200\n",
      "32/32 [==============================] - 0s 565us/step - loss: 0.0040 - accuracy: 0.0010\n",
      "Epoch 98/200\n",
      "32/32 [==============================] - 0s 459us/step - loss: 0.0040 - accuracy: 0.0010\n",
      "Epoch 99/200\n",
      "32/32 [==============================] - 0s 517us/step - loss: 0.0040 - accuracy: 0.0010\n",
      "Epoch 100/200\n",
      "32/32 [==============================] - 0s 456us/step - loss: 0.0040 - accuracy: 0.0010\n",
      "Epoch 101/200\n",
      "32/32 [==============================] - 0s 498us/step - loss: 0.0040 - accuracy: 0.0010\n",
      "Epoch 102/200\n",
      "32/32 [==============================] - 0s 461us/step - loss: 0.0039 - accuracy: 0.0010\n",
      "Epoch 103/200\n",
      "32/32 [==============================] - 0s 488us/step - loss: 0.0039 - accuracy: 0.0010\n",
      "Epoch 104/200\n",
      "32/32 [==============================] - 0s 466us/step - loss: 0.0039 - accuracy: 0.0010\n",
      "Epoch 105/200\n",
      "32/32 [==============================] - 0s 528us/step - loss: 0.0040 - accuracy: 0.0010\n",
      "Epoch 106/200\n",
      "32/32 [==============================] - 0s 504us/step - loss: 0.0039 - accuracy: 0.0010\n",
      "Epoch 107/200\n",
      "32/32 [==============================] - 0s 472us/step - loss: 0.0039 - accuracy: 0.0010\n",
      "Epoch 108/200\n",
      "32/32 [==============================] - 0s 483us/step - loss: 0.0039 - accuracy: 0.0010\n",
      "Epoch 109/200\n",
      "32/32 [==============================] - 0s 484us/step - loss: 0.0039 - accuracy: 0.0010\n",
      "Epoch 110/200\n",
      "32/32 [==============================] - 0s 504us/step - loss: 0.0039 - accuracy: 0.0010\n",
      "Epoch 111/200\n",
      "32/32 [==============================] - 0s 516us/step - loss: 0.0039 - accuracy: 0.0010\n",
      "Epoch 112/200\n",
      "32/32 [==============================] - 0s 603us/step - loss: 0.0039 - accuracy: 0.0010\n",
      "Epoch 113/200\n",
      "32/32 [==============================] - 0s 503us/step - loss: 0.0039 - accuracy: 0.0010\n",
      "Epoch 114/200\n",
      "32/32 [==============================] - 0s 496us/step - loss: 0.0039 - accuracy: 0.0010\n",
      "Epoch 115/200\n",
      "32/32 [==============================] - 0s 521us/step - loss: 0.0039 - accuracy: 0.0010\n",
      "Epoch 116/200\n",
      "32/32 [==============================] - 0s 495us/step - loss: 0.0039 - accuracy: 0.0010\n",
      "Epoch 117/200\n",
      "32/32 [==============================] - 0s 558us/step - loss: 0.0039 - accuracy: 0.0010\n",
      "Epoch 118/200\n",
      "32/32 [==============================] - 0s 491us/step - loss: 0.0039 - accuracy: 0.0010\n",
      "Epoch 119/200\n",
      "32/32 [==============================] - 0s 497us/step - loss: 0.0039 - accuracy: 0.0010\n",
      "Epoch 120/200\n",
      "32/32 [==============================] - 0s 507us/step - loss: 0.0039 - accuracy: 0.0010\n",
      "Epoch 121/200\n",
      "32/32 [==============================] - 0s 489us/step - loss: 0.0039 - accuracy: 0.0010\n",
      "Epoch 122/200\n",
      "32/32 [==============================] - 0s 504us/step - loss: 0.0038 - accuracy: 0.0010\n",
      "Epoch 123/200\n",
      "32/32 [==============================] - 0s 495us/step - loss: 0.0038 - accuracy: 0.0010\n",
      "Epoch 124/200\n",
      "32/32 [==============================] - 0s 495us/step - loss: 0.0038 - accuracy: 0.0010\n",
      "Epoch 125/200\n",
      "32/32 [==============================] - 0s 526us/step - loss: 0.0038 - accuracy: 0.0010\n",
      "Epoch 126/200\n",
      "32/32 [==============================] - 0s 486us/step - loss: 0.0038 - accuracy: 0.0010\n",
      "Epoch 127/200\n",
      "32/32 [==============================] - 0s 481us/step - loss: 0.0038 - accuracy: 0.0010\n",
      "Epoch 128/200\n",
      "32/32 [==============================] - 0s 499us/step - loss: 0.0038 - accuracy: 0.0010\n",
      "Epoch 129/200\n",
      "32/32 [==============================] - 0s 479us/step - loss: 0.0038 - accuracy: 0.0010\n",
      "Epoch 130/200\n",
      "32/32 [==============================] - 0s 548us/step - loss: 0.0038 - accuracy: 0.0010\n",
      "Epoch 131/200\n",
      "32/32 [==============================] - 0s 601us/step - loss: 0.0038 - accuracy: 0.0010\n",
      "Epoch 132/200\n",
      "32/32 [==============================] - 0s 630us/step - loss: 0.0038 - accuracy: 0.0010\n",
      "Epoch 133/200\n",
      "32/32 [==============================] - 0s 597us/step - loss: 0.0038 - accuracy: 0.0010\n",
      "Epoch 134/200\n",
      "32/32 [==============================] - 0s 613us/step - loss: 0.0038 - accuracy: 0.0010\n",
      "Epoch 135/200\n",
      "32/32 [==============================] - 0s 542us/step - loss: 0.0038 - accuracy: 0.0010\n",
      "Epoch 136/200\n",
      "32/32 [==============================] - 0s 627us/step - loss: 0.0038 - accuracy: 0.0010\n",
      "Epoch 137/200\n",
      "32/32 [==============================] - 0s 647us/step - loss: 0.0038 - accuracy: 0.0010\n",
      "Epoch 138/200\n",
      "32/32 [==============================] - 0s 654us/step - loss: 0.0038 - accuracy: 0.0010\n",
      "Epoch 139/200\n",
      "32/32 [==============================] - 0s 562us/step - loss: 0.0038 - accuracy: 0.0010\n",
      "Epoch 140/200\n",
      "32/32 [==============================] - 0s 628us/step - loss: 0.0038 - accuracy: 0.0010\n",
      "Epoch 141/200\n",
      "32/32 [==============================] - 0s 644us/step - loss: 0.0038 - accuracy: 0.0010\n",
      "Epoch 142/200\n",
      "32/32 [==============================] - 0s 555us/step - loss: 0.0038 - accuracy: 0.0010\n",
      "Epoch 143/200\n",
      "32/32 [==============================] - 0s 532us/step - loss: 0.0038 - accuracy: 0.0010\n",
      "Epoch 144/200\n",
      "32/32 [==============================] - 0s 579us/step - loss: 0.0038 - accuracy: 0.0010\n",
      "Epoch 145/200\n",
      "32/32 [==============================] - 0s 568us/step - loss: 0.0038 - accuracy: 0.0010\n",
      "Epoch 146/200\n",
      "32/32 [==============================] - 0s 566us/step - loss: 0.0037 - accuracy: 0.0010\n",
      "Epoch 147/200\n",
      "32/32 [==============================] - 0s 563us/step - loss: 0.0037 - accuracy: 0.0010\n",
      "Epoch 148/200\n",
      "32/32 [==============================] - 0s 551us/step - loss: 0.0038 - accuracy: 0.0010\n",
      "Epoch 149/200\n",
      "32/32 [==============================] - 0s 549us/step - loss: 0.0037 - accuracy: 0.0010\n",
      "Epoch 150/200\n",
      "32/32 [==============================] - 0s 548us/step - loss: 0.0037 - accuracy: 0.0010\n",
      "Epoch 151/200\n",
      "32/32 [==============================] - 0s 547us/step - loss: 0.0037 - accuracy: 0.0010\n",
      "Epoch 152/200\n",
      "32/32 [==============================] - 0s 519us/step - loss: 0.0037 - accuracy: 0.0010\n",
      "Epoch 153/200\n",
      "32/32 [==============================] - 0s 501us/step - loss: 0.0037 - accuracy: 0.0010\n",
      "Epoch 154/200\n",
      "32/32 [==============================] - 0s 531us/step - loss: 0.0037 - accuracy: 0.0010\n",
      "Epoch 155/200\n",
      "32/32 [==============================] - 0s 506us/step - loss: 0.0037 - accuracy: 0.0010\n",
      "Epoch 156/200\n",
      "32/32 [==============================] - 0s 530us/step - loss: 0.0037 - accuracy: 0.0010\n",
      "Epoch 157/200\n",
      "32/32 [==============================] - 0s 533us/step - loss: 0.0037 - accuracy: 0.0010\n",
      "Epoch 158/200\n",
      "32/32 [==============================] - 0s 495us/step - loss: 0.0037 - accuracy: 0.0010\n",
      "Epoch 159/200\n",
      "32/32 [==============================] - 0s 542us/step - loss: 0.0037 - accuracy: 0.0010\n",
      "Epoch 160/200\n"
     ]
    },
    {
     "name": "stdout",
     "output_type": "stream",
     "text": [
      "32/32 [==============================] - 0s 521us/step - loss: 0.0037 - accuracy: 0.0010\n",
      "Epoch 161/200\n",
      "32/32 [==============================] - 0s 497us/step - loss: 0.0037 - accuracy: 0.0010\n",
      "Epoch 162/200\n",
      "32/32 [==============================] - 0s 514us/step - loss: 0.0037 - accuracy: 0.0010\n",
      "Epoch 163/200\n",
      "32/32 [==============================] - 0s 571us/step - loss: 0.0037 - accuracy: 0.0010\n",
      "Epoch 164/200\n",
      "32/32 [==============================] - 0s 595us/step - loss: 0.0037 - accuracy: 0.0010\n",
      "Epoch 165/200\n",
      "32/32 [==============================] - 0s 558us/step - loss: 0.0037 - accuracy: 0.0010\n",
      "Epoch 166/200\n",
      "32/32 [==============================] - 0s 547us/step - loss: 0.0037 - accuracy: 0.0010\n",
      "Epoch 167/200\n",
      "32/32 [==============================] - 0s 569us/step - loss: 0.0037 - accuracy: 0.0010\n",
      "Epoch 168/200\n",
      "32/32 [==============================] - 0s 627us/step - loss: 0.0037 - accuracy: 0.0010\n",
      "Epoch 169/200\n",
      "32/32 [==============================] - 0s 645us/step - loss: 0.0037 - accuracy: 0.0010\n",
      "Epoch 170/200\n",
      "32/32 [==============================] - 0s 682us/step - loss: 0.0037 - accuracy: 0.0010\n",
      "Epoch 171/200\n",
      "32/32 [==============================] - 0s 580us/step - loss: 0.0037 - accuracy: 0.0010\n",
      "Epoch 172/200\n",
      "32/32 [==============================] - 0s 515us/step - loss: 0.0037 - accuracy: 0.0010\n",
      "Epoch 173/200\n",
      "32/32 [==============================] - 0s 498us/step - loss: 0.0037 - accuracy: 0.0010\n",
      "Epoch 174/200\n",
      "32/32 [==============================] - 0s 490us/step - loss: 0.0037 - accuracy: 0.0010\n",
      "Epoch 175/200\n",
      "32/32 [==============================] - 0s 497us/step - loss: 0.0037 - accuracy: 0.0010\n",
      "Epoch 176/200\n",
      "32/32 [==============================] - 0s 501us/step - loss: 0.0037 - accuracy: 0.0010\n",
      "Epoch 177/200\n",
      "32/32 [==============================] - 0s 508us/step - loss: 0.0037 - accuracy: 0.0010\n",
      "Epoch 178/200\n",
      "32/32 [==============================] - 0s 475us/step - loss: 0.0037 - accuracy: 0.0010\n",
      "Epoch 179/200\n",
      "32/32 [==============================] - 0s 520us/step - loss: 0.0037 - accuracy: 0.0010\n",
      "Epoch 180/200\n",
      "32/32 [==============================] - 0s 523us/step - loss: 0.0037 - accuracy: 0.0010\n",
      "Epoch 181/200\n",
      "32/32 [==============================] - 0s 552us/step - loss: 0.0037 - accuracy: 0.0010\n",
      "Epoch 182/200\n",
      "32/32 [==============================] - 0s 579us/step - loss: 0.0036 - accuracy: 0.0010\n",
      "Epoch 183/200\n",
      "32/32 [==============================] - 0s 653us/step - loss: 0.0037 - accuracy: 0.0010\n",
      "Epoch 184/200\n",
      "32/32 [==============================] - 0s 671us/step - loss: 0.0036 - accuracy: 0.0010\n",
      "Epoch 185/200\n",
      "32/32 [==============================] - 0s 580us/step - loss: 0.0037 - accuracy: 0.0010\n",
      "Epoch 186/200\n",
      "32/32 [==============================] - 0s 624us/step - loss: 0.0037 - accuracy: 0.0010\n",
      "Epoch 187/200\n",
      "32/32 [==============================] - 0s 637us/step - loss: 0.0037 - accuracy: 0.0010\n",
      "Epoch 188/200\n",
      "32/32 [==============================] - 0s 557us/step - loss: 0.0036 - accuracy: 0.0010\n",
      "Epoch 189/200\n",
      "32/32 [==============================] - 0s 550us/step - loss: 0.0036 - accuracy: 0.0010\n",
      "Epoch 190/200\n",
      "32/32 [==============================] - 0s 545us/step - loss: 0.0036 - accuracy: 0.0010\n",
      "Epoch 191/200\n",
      "32/32 [==============================] - 0s 562us/step - loss: 0.0036 - accuracy: 0.0010\n",
      "Epoch 192/200\n",
      "32/32 [==============================] - 0s 506us/step - loss: 0.0036 - accuracy: 0.0010\n",
      "Epoch 193/200\n",
      "32/32 [==============================] - 0s 513us/step - loss: 0.0036 - accuracy: 0.0010\n",
      "Epoch 194/200\n",
      "32/32 [==============================] - 0s 511us/step - loss: 0.0036 - accuracy: 0.0010\n",
      "Epoch 195/200\n",
      "32/32 [==============================] - 0s 513us/step - loss: 0.0036 - accuracy: 0.0010\n",
      "Epoch 196/200\n",
      "32/32 [==============================] - 0s 501us/step - loss: 0.0036 - accuracy: 0.0010\n",
      "Epoch 197/200\n",
      "32/32 [==============================] - 0s 521us/step - loss: 0.0036 - accuracy: 0.0010\n",
      "Epoch 198/200\n",
      "32/32 [==============================] - 0s 487us/step - loss: 0.0036 - accuracy: 0.0010\n",
      "Epoch 199/200\n",
      "32/32 [==============================] - 0s 513us/step - loss: 0.0036 - accuracy: 0.0010\n",
      "Epoch 200/200\n",
      "32/32 [==============================] - 0s 508us/step - loss: 0.0036 - accuracy: 0.0010\n"
     ]
    }
   ],
   "source": [
    "history = model.fit(x_train,\n",
    "                    y_train,\n",
    "                    epochs=200)"
   ]
  },
  {
   "cell_type": "code",
   "execution_count": 83,
   "metadata": {},
   "outputs": [
    {
     "name": "stdout",
     "output_type": "stream",
     "text": [
      "loss\n",
      "accuracy\n"
     ]
    }
   ],
   "source": [
    "for key in history.history:\n",
    "    print(key)"
   ]
  },
  {
   "cell_type": "code",
   "execution_count": 84,
   "metadata": {},
   "outputs": [
    {
     "data": {
      "text/plain": [
       "[0.018026020377874374,\n",
       " 0.008801350370049477,\n",
       " 0.00838389340788126,\n",
       " 0.00808317493647337,\n",
       " 0.007816171273589134,\n",
       " 0.007603710051625967,\n",
       " 0.007400926668196917,\n",
       " 0.007184834685176611,\n",
       " 0.0070143830962479115,\n",
       " 0.006865314207971096,\n",
       " 0.006753238383680582,\n",
       " 0.006599539890885353,\n",
       " 0.0064887660555541515,\n",
       " 0.006375080440193415,\n",
       " 0.006237862631678581,\n",
       " 0.006171247456222773,\n",
       " 0.006082917097955942,\n",
       " 0.005976984277367592,\n",
       " 0.005896749906241894,\n",
       " 0.005819416139274836,\n",
       " 0.005753996316343546,\n",
       " 0.005676429718732834,\n",
       " 0.005612345412373543,\n",
       " 0.0055644395761191845,\n",
       " 0.005506421439349651,\n",
       " 0.005450169090181589,\n",
       " 0.005394643172621727,\n",
       " 0.005335006397217512,\n",
       " 0.0052984426729381084,\n",
       " 0.005241272505372763,\n",
       " 0.005210887640714645,\n",
       " 0.005152387078851461,\n",
       " 0.005127693060785532,\n",
       " 0.005085764452815056,\n",
       " 0.005035190377384424,\n",
       " 0.004996174480766058,\n",
       " 0.004954411182552576,\n",
       " 0.00493539497256279,\n",
       " 0.004900994710624218,\n",
       " 0.004854548256844282,\n",
       " 0.004828466102480888,\n",
       " 0.004796977154910564,\n",
       " 0.004764989018440247,\n",
       " 0.004732290282845497,\n",
       " 0.00471114506945014,\n",
       " 0.0046753049828112125,\n",
       " 0.004651518072932959,\n",
       " 0.004612367134541273,\n",
       " 0.004577206913381815,\n",
       " 0.0045411791652441025,\n",
       " 0.0045056333765387535,\n",
       " 0.004474267363548279,\n",
       " 0.0044538420625030994,\n",
       " 0.004435687325894833,\n",
       " 0.0044265445321798325,\n",
       " 0.004393482580780983,\n",
       " 0.004380089230835438,\n",
       " 0.00435908418148756,\n",
       " 0.004347480367869139,\n",
       " 0.00432163942605257,\n",
       " 0.004310716409236193,\n",
       " 0.004297756124287844,\n",
       " 0.004271697252988815,\n",
       " 0.004277415107935667,\n",
       " 0.004256737884134054,\n",
       " 0.0042463322170078754,\n",
       " 0.004229005426168442,\n",
       " 0.004230139311403036,\n",
       " 0.0042040119878947735,\n",
       " 0.004198490176349878,\n",
       " 0.004190378822386265,\n",
       " 0.004174235742539167,\n",
       " 0.004173241555690765,\n",
       " 0.004154408350586891,\n",
       " 0.004157387185841799,\n",
       " 0.004141790792346001,\n",
       " 0.004135554190725088,\n",
       " 0.004119924735277891,\n",
       " 0.004114626906812191,\n",
       " 0.004113514441996813,\n",
       " 0.004100575111806393,\n",
       " 0.004089967347681522,\n",
       " 0.004070743452757597,\n",
       " 0.004063360393047333,\n",
       " 0.0040666935965418816,\n",
       " 0.004054496064782143,\n",
       " 0.004046208690851927,\n",
       " 0.004045647103339434,\n",
       " 0.004032815340906382,\n",
       " 0.004023302346467972,\n",
       " 0.0040110377594828606,\n",
       " 0.004000317305326462,\n",
       " 0.004003471229225397,\n",
       " 0.003993470221757889,\n",
       " 0.003990918397903442,\n",
       " 0.003985786810517311,\n",
       " 0.003977131098508835,\n",
       " 0.0039729103446006775,\n",
       " 0.003962434362620115,\n",
       " 0.00395616190508008,\n",
       " 0.003953440114855766,\n",
       " 0.00394033407792449,\n",
       " 0.003942184615880251,\n",
       " 0.003929573576897383,\n",
       " 0.003955451771616936,\n",
       " 0.003931286279112101,\n",
       " 0.003925977274775505,\n",
       " 0.003909051883965731,\n",
       " 0.003913152497261763,\n",
       " 0.003911032807081938,\n",
       " 0.003894240828230977,\n",
       " 0.003892868058755994,\n",
       " 0.003885379759594798,\n",
       " 0.003886966500431299,\n",
       " 0.0038880454376339912,\n",
       " 0.0038770600222051144,\n",
       " 0.003864373778924346,\n",
       " 0.003865600097924471,\n",
       " 0.0038560000248253345,\n",
       " 0.003858992364257574,\n",
       " 0.00385087076574564,\n",
       " 0.0038498768117278814,\n",
       " 0.003845477942377329,\n",
       " 0.0038326657377183437,\n",
       " 0.0038257210981100798,\n",
       " 0.0038354815915226936,\n",
       " 0.003825308056548238,\n",
       " 0.003814038820564747,\n",
       " 0.003809881629422307,\n",
       " 0.003816835582256317,\n",
       " 0.0038035998586565256,\n",
       " 0.0037952845450490713,\n",
       " 0.0037893150001764297,\n",
       " 0.003793490817770362,\n",
       " 0.0037835375405848026,\n",
       " 0.003806142834946513,\n",
       " 0.0037834756076335907,\n",
       " 0.00377311441116035,\n",
       " 0.003773335600271821,\n",
       " 0.003763393731787801,\n",
       " 0.003766053356230259,\n",
       " 0.003775648307055235,\n",
       " 0.0037553051952272654,\n",
       " 0.003763690125197172,\n",
       " 0.003757430473342538,\n",
       " 0.00374804949387908,\n",
       " 0.003743845270946622,\n",
       " 0.00375365256331861,\n",
       " 0.0037374275270849466,\n",
       " 0.0037339392583817244,\n",
       " 0.0037331280764192343,\n",
       " 0.0037319601979106665,\n",
       " 0.0037115931045264006,\n",
       " 0.0037241436075419188,\n",
       " 0.0037187666166573763,\n",
       " 0.003711674129590392,\n",
       " 0.0037201514933258295,\n",
       " 0.003707167459651828,\n",
       " 0.003713128622621298,\n",
       " 0.003704683156684041,\n",
       " 0.003702162764966488,\n",
       " 0.0036985042970627546,\n",
       " 0.0037002889439463615,\n",
       " 0.003696638625115156,\n",
       " 0.0036968186032027006,\n",
       " 0.0036917852703481913,\n",
       " 0.0036894057411700487,\n",
       " 0.0036867554299533367,\n",
       " 0.003675932064652443,\n",
       " 0.0037246663123369217,\n",
       " 0.003681083209812641,\n",
       " 0.0036769977305084467,\n",
       " 0.0036843635607510805,\n",
       " 0.0036702414508908987,\n",
       " 0.0036675408482551575,\n",
       " 0.003667154349386692,\n",
       " 0.0036711785942316055,\n",
       " 0.0036538736894726753,\n",
       " 0.0036609191447496414,\n",
       " 0.0036604669876396656,\n",
       " 0.0036572900135070086,\n",
       " 0.0036461709532886744,\n",
       " 0.00365009275265038,\n",
       " 0.0036490904167294502,\n",
       " 0.0036529446952044964,\n",
       " 0.0036534194368869066,\n",
       " 0.003654166590422392,\n",
       " 0.0036481297574937344,\n",
       " 0.0036432708147913218,\n",
       " 0.0036288343835622072,\n",
       " 0.003631879109889269,\n",
       " 0.003625393845140934,\n",
       " 0.0036323636304587126,\n",
       " 0.00362628442235291,\n",
       " 0.003616627072915435,\n",
       " 0.0035994164645671844,\n",
       " 0.0036291389260441065,\n",
       " 0.003622787306085229,\n",
       " 0.0036241954658180475,\n",
       " 0.0036226860247552395]"
      ]
     },
     "execution_count": 84,
     "metadata": {},
     "output_type": "execute_result"
    }
   ],
   "source": [
    "history.history[\"loss\"]"
   ]
  },
  {
   "cell_type": "code",
   "execution_count": 85,
   "metadata": {},
   "outputs": [
    {
     "data": {
      "image/png": "[encoded data removed]",
      "text/plain": [
       "<Figure size 432x288 with 1 Axes>"
      ]
     },
     "metadata": {
      "needs_background": "light"
     },
     "output_type": "display_data"
    }
   ],
   "source": [
    "plt.plot(history.history[\"loss\"])\n",
    "plt.xlabel(\"Epoche Nr\")\n",
    "plt.ylabel(\"Fehler\")\n",
    "plt.show()"
   ]
  },
  {
   "cell_type": "markdown",
   "metadata": {},
   "source": [
    "# Modell testen/anwenden"
   ]
  },
  {
   "cell_type": "code",
   "execution_count": 86,
   "metadata": {},
   "outputs": [
    {
     "data": {
      "text/plain": [
       "(460, 8)"
      ]
     },
     "execution_count": 86,
     "metadata": {},
     "output_type": "execute_result"
    }
   ],
   "source": [
    "x_test.shape"
   ]
  },
  {
   "cell_type": "code",
   "execution_count": 87,
   "metadata": {},
   "outputs": [],
   "source": [
    "preds = model.predict( x_test )"
   ]
  },
  {
   "cell_type": "code",
   "execution_count": 88,
   "metadata": {},
   "outputs": [
    {
     "data": {
      "text/plain": [
       "(460, 1)"
      ]
     },
     "execution_count": 88,
     "metadata": {},
     "output_type": "execute_result"
    }
   ],
   "source": [
    "preds.shape"
   ]
  },
  {
   "cell_type": "code",
   "execution_count": 89,
   "metadata": {},
   "outputs": [
    {
     "data": {
      "text/plain": [
       "numpy.ndarray"
      ]
     },
     "execution_count": 89,
     "metadata": {},
     "output_type": "execute_result"
    }
   ],
   "source": [
    "type( preds )"
   ]
  },
  {
   "cell_type": "code",
   "execution_count": 90,
   "metadata": {},
   "outputs": [
    {
     "data": {
      "text/plain": [
       "array([[0.06540758],\n",
       "       [0.07096237],\n",
       "       [0.27371198],\n",
       "       [0.14165394],\n",
       "       [0.20288849]])"
      ]
     },
     "execution_count": 90,
     "metadata": {},
     "output_type": "execute_result"
    }
   ],
   "source": [
    "y_test[0:5]"
   ]
  },
  {
   "cell_type": "code",
   "execution_count": 91,
   "metadata": {},
   "outputs": [
    {
     "data": {
      "text/plain": [
       "array([[0.04800566],\n",
       "       [0.12629665],\n",
       "       [0.34312874],\n",
       "       [0.14473446],\n",
       "       [0.26901788]], dtype=float32)"
      ]
     },
     "execution_count": 91,
     "metadata": {},
     "output_type": "execute_result"
    }
   ],
   "source": [
    "preds[0:5] # predictions from our model!"
   ]
  },
  {
   "cell_type": "code",
   "execution_count": 92,
   "metadata": {},
   "outputs": [],
   "source": [
    "preds_dollar = scaler_output.inverse_transform( preds )"
   ]
  },
  {
   "cell_type": "code",
   "execution_count": 93,
   "metadata": {},
   "outputs": [
    {
     "data": {
      "text/plain": [
       "(460, 1)"
      ]
     },
     "execution_count": 93,
     "metadata": {},
     "output_type": "execute_result"
    }
   ],
   "source": [
    "preds_dollar.shape"
   ]
  },
  {
   "cell_type": "code",
   "execution_count": 94,
   "metadata": {},
   "outputs": [
    {
     "data": {
      "text/plain": [
       "array([[ 69468.875],\n",
       "       [125846.22 ],\n",
       "       [281987.   ],\n",
       "       [139123.28 ],\n",
       "       [228619.77 ]], dtype=float32)"
      ]
     },
     "execution_count": 94,
     "metadata": {},
     "output_type": "execute_result"
    }
   ],
   "source": [
    "preds_dollar[:5]"
   ]
  },
  {
   "cell_type": "code",
   "execution_count": 95,
   "metadata": {},
   "outputs": [],
   "source": [
    "gt_dollar = scaler_output.inverse_transform( y_test ) # gt = ground-truth = Grundwahrheit"
   ]
  },
  {
   "cell_type": "code",
   "execution_count": 96,
   "metadata": {},
   "outputs": [
    {
     "data": {
      "text/plain": [
       "(460, 1)"
      ]
     },
     "execution_count": 96,
     "metadata": {},
     "output_type": "execute_result"
    }
   ],
   "source": [
    "gt_dollar.shape"
   ]
  },
  {
   "cell_type": "code",
   "execution_count": 97,
   "metadata": {},
   "outputs": [
    {
     "data": {
      "text/plain": [
       "array([[ 82000.],\n",
       "       [ 86000.],\n",
       "       [232000.],\n",
       "       [136905.],\n",
       "       [181000.]])"
      ]
     },
     "execution_count": 97,
     "metadata": {},
     "output_type": "execute_result"
    }
   ],
   "source": [
    "gt_dollar[:5]"
   ]
  },
  {
   "cell_type": "code",
   "execution_count": 98,
   "metadata": {},
   "outputs": [
    {
     "data": {
      "text/plain": [
       "460"
      ]
     },
     "execution_count": 98,
     "metadata": {},
     "output_type": "execute_result"
    }
   ],
   "source": [
    "len(y_test)"
   ]
  },
  {
   "cell_type": "code",
   "execution_count": 99,
   "metadata": {},
   "outputs": [
    {
     "name": "stdout",
     "output_type": "stream",
     "text": [
      "[69468.875] vs [82000.] --> Fehler: [12531.125]\n",
      "[125846.22] vs [86000.] --> Fehler: [-39846.21875]\n",
      "[281987.] vs [232000.] --> Fehler: [-49987.]\n",
      "[139123.28] vs [136905.] --> Fehler: [-2218.28125]\n",
      "[228619.77] vs [181000.] --> Fehler: [-47619.765625]\n",
      "[137840.11] vs [149900.] --> Fehler: [12059.890625]\n",
      "[172399.39] vs [163500.] --> Fehler: [-8899.390625]\n",
      "[77365.37] vs [88000.] --> Fehler: [10634.6328125]\n",
      "[233302.48] vs [240000.] --> Fehler: [6697.515625]\n",
      "[126352.19] vs [102000.] --> Fehler: [-24352.1875]\n",
      "[136346.28] vs [135000.] --> Fehler: [-1346.28125]\n",
      "[134250.48] vs [100000.] --> Fehler: [-34250.484375]\n",
      "[166557.16] vs [165000.] --> Fehler: [-1557.15625]\n",
      "[115901.87] vs [85000.] --> Fehler: [-30901.8671875]\n",
      "[168352.52] vs [119200.] --> Fehler: [-49152.515625]\n",
      "[276960.44] vs [227000.] --> Fehler: [-49960.4375]\n",
      "[228345.44] vs [203000.] --> Fehler: [-25345.4375]\n",
      "[265295.62] vs [187500.] --> Fehler: [-77795.625]\n",
      "[224746.72] vs [160000.] --> Fehler: [-64746.71875]\n",
      "[228521.55] vs [213490.] --> Fehler: [-15031.546875]\n",
      "[120088.016] vs [176000.] --> Fehler: [55911.984375]\n",
      "[231827.3] vs [194000.] --> Fehler: [-37827.296875]\n",
      "[111720.31] vs [87000.] --> Fehler: [-24720.3125]\n",
      "[228619.77] vs [191000.] --> Fehler: [-37619.765625]\n",
      "[265751.5] vs [287000.] --> Fehler: [21248.5]\n",
      "[135393.94] vs [112500.] --> Fehler: [-22893.9375]\n",
      "[132387.8] vs [167500.] --> Fehler: [35112.203125]\n",
      "[281163.44] vs [293077.] --> Fehler: [11913.5625]\n",
      "[128412.016] vs [105000.] --> Fehler: [-23412.015625]\n",
      "[136420.48] vs [118000.] --> Fehler: [-18420.484375]\n",
      "[107187.95] vs [160000.] --> Fehler: [52812.046875]\n",
      "[207134.62] vs [197000.] --> Fehler: [-10134.625]\n",
      "[275645.44] vs [310000.] --> Fehler: [34354.5625]\n",
      "[229714.84] vs [230000.] --> Fehler: [285.15625]\n",
      "[126769.72] vs [119750.] --> Fehler: [-7019.71875]\n",
      "[99356.586] vs [84000.] --> Fehler: [-15356.5859375]\n",
      "[330803.56] vs [315500.] --> Fehler: [-15303.5625]\n",
      "[277448.34] vs [287000.] --> Fehler: [9551.65625]\n",
      "[77179.516] vs [97000.] --> Fehler: [19820.484375]\n",
      "[77164.27] vs [80000.] --> Fehler: [2835.7265625]\n",
      "[133740.78] vs [155000.] --> Fehler: [21259.21875]\n",
      "[169394.67] vs [173000.] --> Fehler: [3605.328125]\n",
      "[185902.8] vs [196000.] --> Fehler: [10097.203125]\n",
      "[224753.03] vs [262280.] --> Fehler: [37526.96875]\n",
      "[265790.84] vs [278000.] --> Fehler: [12209.15625]\n",
      "[72617.12] vs [139600.] --> Fehler: [66982.8828125]\n",
      "[331453.78] vs [556581.] --> Fehler: [225127.21875]\n",
      "[144945.16] vs [145000.] --> Fehler: [54.84375]\n",
      "[139931.34] vs [115000.] --> Fehler: [-24931.34375]\n",
      "[96057.88] vs [84900.] --> Fehler: [-11157.8828125]\n",
      "[233461.14] vs [176485.] --> Fehler: [-56976.140625]\n",
      "[234773.47] vs [200141.] --> Fehler: [-34632.46875]\n",
      "[169087.56] vs [165000.] --> Fehler: [-4087.5625]\n",
      "[131048.68] vs [144500.] --> Fehler: [13451.3203125]\n",
      "[279275.97] vs [255000.] --> Fehler: [-24275.96875]\n",
      "[173653.73] vs [180000.] --> Fehler: [6346.265625]\n",
      "[230934.98] vs [185850.] --> Fehler: [-45084.984375]\n",
      "[238055.89] vs [248000.] --> Fehler: [9944.109375]\n",
      "[330471.9] vs [335000.] --> Fehler: [4528.09375]\n",
      "[167278.36] vs [220000.] --> Fehler: [52721.640625]\n",
      "[274938.97] vs [213500.] --> Fehler: [-61438.96875]\n",
      "[54049.816] vs [81000.] --> Fehler: [26950.18359375]\n",
      "[119136.695] vs [90000.] --> Fehler: [-29136.6953125]\n",
      "[144728.88] vs [110500.] --> Fehler: [-34228.875]\n",
      "[135248.39] vs [154000.] --> Fehler: [18751.609375]\n",
      "[229575.17] vs [328000.] --> Fehler: [98424.828125]\n",
      "[178986.92] vs [178000.] --> Fehler: [-986.921875]\n",
      "[169238.8] vs [167900.] --> Fehler: [-1338.796875]\n",
      "[137305.2] vs [151400.] --> Fehler: [14094.796875]\n",
      "[129159.28] vs [135000.] --> Fehler: [5840.71875]\n",
      "[131651.23] vs [135000.] --> Fehler: [3348.765625]\n",
      "[171582.05] vs [154000.] --> Fehler: [-17582.046875]\n",
      "[127600.125] vs [91500.] --> Fehler: [-36100.125]\n",
      "[171714.8] vs [159500.] --> Fehler: [-12214.796875]\n",
      "[232518.92] vs [194000.] --> Fehler: [-38518.921875]\n",
      "[207807.75] vs [219500.] --> Fehler: [11692.25]\n",
      "[129250.95] vs [170000.] --> Fehler: [40749.046875]\n",
      "[139004.94] vs [138800.] --> Fehler: [-204.9375]\n",
      "[137706.92] vs [155900.] --> Fehler: [18193.078125]\n",
      "[144703.73] vs [126000.] --> Fehler: [-18703.734375]\n",
      "[171936.22] vs [145000.] --> Fehler: [-26936.21875]\n",
      "[132295.52] vs [133000.] --> Fehler: [704.484375]\n",
      "[230077.31] vs [192000.] --> Fehler: [-38077.3125]\n",
      "[168680.48] vs [160000.] --> Fehler: [-8680.484375]\n",
      "[183574.9] vs [187500.] --> Fehler: [3925.09375]\n",
      "[179080.6] vs [147000.] --> Fehler: [-32080.59375]\n",
      "[77023.64] vs [83500.] --> Fehler: [6476.359375]\n",
      "[243130.56] vs [252000.] --> Fehler: [8869.4375]\n",
      "[171401.16] vs [137500.] --> Fehler: [-33901.15625]\n",
      "[241681.81] vs [197000.] --> Fehler: [-44681.8125]\n",
      "[67744.67] vs [92900.] --> Fehler: [25155.328125]\n",
      "[211363.45] vs [160000.] --> Fehler: [-51363.453125]\n",
      "[165400.73] vs [136500.] --> Fehler: [-28900.734375]\n",
      "[133912.98] vs [146000.] --> Fehler: [12087.015625]\n",
      "[129175.7] vs [129000.] --> Fehler: [-175.703125]\n",
      "[188870.77] vs [176432.] --> Fehler: [-12438.765625]\n",
      "[147303.45] vs [127000.] --> Fehler: [-20303.453125]\n",
      "[265133.06] vs [170000.] --> Fehler: [-95133.0625]\n",
      "[78418.45] vs [128000.] --> Fehler: [49581.546875]\n",
      "[217314.92] vs [157000.] --> Fehler: [-60314.921875]\n",
      "[43370.51] vs [60000.] --> Fehler: [16629.48828125]\n",
      "[136200.8] vs [119500.] --> Fehler: [-16700.796875]\n",
      "[131070.15] vs [135000.] --> Fehler: [3929.8515625]\n",
      "[167719.23] vs [159500.] --> Fehler: [-8219.234375]\n",
      "[105169.695] vs [106000.] --> Fehler: [830.3046875]\n",
      "[274910.66] vs [325000.] --> Fehler: [50089.34375]\n",
      "[223854.95] vs [179900.] --> Fehler: [-43954.953125]\n",
      "[241360.58] vs [274725.] --> Fehler: [33364.421875]\n",
      "[183925.12] vs [181000.] --> Fehler: [-2925.125]\n",
      "[280457.12] vs [280000.] --> Fehler: [-457.125]\n",
      "[180437.81] vs [188000.] --> Fehler: [7562.1875]\n",
      "[215242.64] vs [205000.] --> Fehler: [-10242.640625]\n",
      "[130203.44] vs [129900.] --> Fehler: [-303.4375]\n",
      "[129968.46] vs [134500.] --> Fehler: [4531.5390625]\n",
      "[128274.195] vs [117000.] --> Fehler: [-11274.1953125]\n",
      "[282653.34] vs [318000.] --> Fehler: [35346.65625]\n",
      "[277174.88] vs [184100.] --> Fehler: [-93074.875]\n",
      "[134878.64] vs [130000.] --> Fehler: [-4878.640625]\n",
      "[134477.52] vs [140000.] --> Fehler: [5522.484375]\n",
      "[131079.16] vs [133700.] --> Fehler: [2620.84375]\n",
      "[146617.25] vs [118400.] --> Fehler: [-28217.25]\n",
      "[232758.61] vs [212900.] --> Fehler: [-19858.609375]\n",
      "[97425.44] vs [112000.] --> Fehler: [14574.5625]\n",
      "[128503.5] vs [118000.] --> Fehler: [-10503.5]\n",
      "[224375.14] vs [163900.] --> Fehler: [-60475.140625]\n",
      "[97982.04] vs [115000.] --> Fehler: [17017.9609375]\n",
      "[230308.08] vs [174000.] --> Fehler: [-56308.078125]\n",
      "[234778.4] vs [259000.] --> Fehler: [24221.59375]\n",
      "[233108.83] vs [215000.] --> Fehler: [-18108.828125]\n",
      "[106533.94] vs [140000.] --> Fehler: [33466.0625]\n",
      "[93561.34] vs [135000.] --> Fehler: [41438.65625]\n",
      "[144515.16] vs [93500.] --> Fehler: [-51015.15625]\n",
      "[147302.45] vs [117500.] --> Fehler: [-29802.453125]\n",
      "[274089.25] vs [239500.] --> Fehler: [-34589.25]\n",
      "[182269.02] vs [169000.] --> Fehler: [-13269.015625]\n",
      "[144548.69] vs [102000.] --> Fehler: [-42548.6875]\n",
      "[167447.25] vs [119000.] --> Fehler: [-48447.25]\n",
      "[120370.24] vs [94000.] --> Fehler: [-26370.2421875]\n",
      "[172960.77] vs [196000.] --> Fehler: [23039.234375]\n",
      "[127732.85] vs [144000.] --> Fehler: [16267.1484375]\n",
      "[128419.21] vs [139000.] --> Fehler: [10580.7890625]\n",
      "[138469.89] vs [197500.] --> Fehler: [59030.109375]\n",
      "[280829.84] vs [424870.] --> Fehler: [144040.15625]\n",
      "[131922.56] vs [80000.] --> Fehler: [-51922.5625]\n",
      "[95429.664] vs [80000.] --> Fehler: [-15429.6640625]\n",
      "[111137.37] vs [149000.] --> Fehler: [37862.6328125]\n",
      "[176657.56] vs [180000.] --> Fehler: [3342.4375]\n",
      "[207333.6] vs [174500.] --> Fehler: [-32833.59375]\n",
      "[180849.95] vs [116900.] --> Fehler: [-63949.953125]\n",
      "[183392.81] vs [143000.] --> Fehler: [-40392.8125]\n",
      "[166845.72] vs [124000.] --> Fehler: [-42845.71875]\n",
      "[137184.61] vs [149900.] --> Fehler: [12715.390625]\n",
      "[170238.08] vs [230000.] --> Fehler: [59761.921875]\n",
      "[143722.88] vs [120500.] --> Fehler: [-23222.875]\n",
      "[211890.14] vs [201800.] --> Fehler: [-10090.140625]\n",
      "[138723.36] vs [218000.] --> Fehler: [79276.640625]\n",
      "[133981.02] vs [179900.] --> Fehler: [45918.984375]\n",
      "[231085.39] vs [230000.] --> Fehler: [-1085.390625]\n",
      "[282564.53] vs [235128.] --> Fehler: [-47436.53125]\n",
      "[171489.98] vs [185000.] --> Fehler: [13510.015625]\n",
      "[168622.56] vs [146000.] --> Fehler: [-22622.5625]\n",
      "[170296.89] vs [224000.] --> Fehler: [53703.109375]\n",
      "[134620.16] vs [129000.] --> Fehler: [-5620.15625]\n",
      "[105118.37] vs [108959.] --> Fehler: [3840.6328125]\n",
      "[142295.2] vs [194000.] --> Fehler: [51704.796875]\n",
      "[235211.64] vs [233170.] --> Fehler: [-2041.640625]\n",
      "[282310.22] vs [245350.] --> Fehler: [-36960.21875]\n",
      "[185589.19] vs [173000.] --> Fehler: [-12589.1875]\n",
      "[168575.5] vs [235000.] --> Fehler: [66424.5]\n",
      "[380740.78] vs [625000.] --> Fehler: [244259.21875]\n",
      "[173001.44] vs [171000.] --> Fehler: [-2001.4375]\n",
      "[167724.73] vs [163000.] --> Fehler: [-4724.734375]\n",
      "[212417.73] vs [171900.] --> Fehler: [-40517.734375]\n",
      "[133753.73] vs [200500.] --> Fehler: [66746.265625]\n",
      "[169897.52] vs [239000.] --> Fehler: [69102.484375]\n",
      "[272654.3] vs [285000.] --> Fehler: [12345.6875]\n",
      "[139840.44] vs [119500.] --> Fehler: [-20340.4375]\n",
      "[143755.] vs [115000.] --> Fehler: [-28755.]\n",
      "[127194.31] vs [154900.] --> Fehler: [27705.6875]\n",
      "[129963.64] vs [93000.] --> Fehler: [-36963.640625]\n",
      "[224347.62] vs [250000.] --> Fehler: [25652.375]\n",
      "[209243.98] vs [392500.] --> Fehler: [183256.015625]\n",
      "[373289.16] vs [745000.] --> Fehler: [371710.84375]\n",
      "[128813.01] vs [120000.] --> Fehler: [-8813.0078125]\n",
      "[149690.55] vs [186700.] --> Fehler: [37009.453125]\n",
      "[128327.33] vs [104900.] --> Fehler: [-23427.328125]\n",
      "[66723.14] vs [95000.] --> Fehler: [28276.859375]\n",
      "[275034.9] vs [262000.] --> Fehler: [-13034.90625]\n",
      "[230185.39] vs [195000.] --> Fehler: [-35185.390625]\n",
      "[227575.67] vs [189000.] --> Fehler: [-38575.671875]\n",
      "[113266.43] vs [168000.] --> Fehler: [54733.5703125]\n",
      "[241125.27] vs [174000.] --> Fehler: [-67125.265625]\n",
      "[112770.16] vs [125000.] --> Fehler: [12229.84375]\n",
      "[137419.64] vs [165000.] --> Fehler: [27580.359375]\n",
      "[170327.14] vs [158000.] --> Fehler: [-12327.140625]\n",
      "[187425.86] vs [176000.] --> Fehler: [-11425.859375]\n",
      "[235825.61] vs [219210.] --> Fehler: [-16615.609375]\n",
      "[183710.73] vs [144000.] --> Fehler: [-39710.734375]\n",
      "[229689.2] vs [178000.] --> Fehler: [-51689.203125]\n",
      "[101277.86] vs [148000.] --> Fehler: [46722.140625]\n",
      "[103595.64] vs [116050.] --> Fehler: [12454.359375]\n",
      "[228668.17] vs [197900.] --> Fehler: [-30768.171875]\n",
      "[111864.69] vs [117000.] --> Fehler: [5135.3125]\n",
      "[229474.7] vs [213000.] --> Fehler: [-16474.703125]\n",
      "[137966.95] vs [153500.] --> Fehler: [15533.046875]\n",
      "[226420.05] vs [271900.] --> Fehler: [45479.953125]\n",
      "[100106.99] vs [107000.] --> Fehler: [6893.0078125]\n",
      "[186653.89] vs [200000.] --> Fehler: [13346.109375]\n",
      "[132131.77] vs [140000.] --> Fehler: [7868.234375]\n",
      "[280955.8] vs [290000.] --> Fehler: [9044.1875]\n",
      "[180420.58] vs [189000.] --> Fehler: [8579.421875]\n",
      "[270936.62] vs [164000.] --> Fehler: [-106936.625]\n",
      "[93735.92] vs [113000.] --> Fehler: [19264.078125]\n",
      "[101666.43] vs [145000.] --> Fehler: [43333.5703125]\n",
      "[133522.6] vs [134500.] --> Fehler: [977.40625]\n",
      "[133032.73] vs [125000.] --> Fehler: [-8032.734375]\n",
      "[139240.6] vs [112000.] --> Fehler: [-27240.59375]\n",
      "[243113.1] vs [229456.] --> Fehler: [-13657.09375]\n",
      "[77950.3] vs [80500.] --> Fehler: [2549.703125]\n",
      "[136468.56] vs [91500.] --> Fehler: [-44968.5625]\n",
      "[132779.9] vs [115000.] --> Fehler: [-17779.90625]\n",
      "[134351.25] vs [134000.] --> Fehler: [-351.25]\n",
      "[167832.78] vs [143000.] --> Fehler: [-24832.78125]\n",
      "[130390.38] vs [137900.] --> Fehler: [7509.6171875]\n",
      "[235266.78] vs [184000.] --> Fehler: [-51266.78125]\n",
      "[168414.95] vs [145000.] --> Fehler: [-23414.953125]\n",
      "[192671.55] vs [214000.] --> Fehler: [21328.453125]\n",
      "[133709.94] vs [147000.] --> Fehler: [13290.0625]\n",
      "[328997.1] vs [367294.] --> Fehler: [38296.90625]\n",
      "[131588.4] vs [127000.] --> Fehler: [-4588.40625]\n",
      "[143354.52] vs [190000.] --> Fehler: [46645.484375]\n",
      "[132111.81] vs [132500.] --> Fehler: [388.1875]\n",
      "[100132.56] vs [101800.] --> Fehler: [1667.4375]\n",
      "[133759.78] vs [142000.] --> Fehler: [8240.21875]\n",
      "[107281.29] vs [130000.] --> Fehler: [22718.7109375]\n",
      "[130634.15] vs [138887.] --> Fehler: [8252.8515625]\n",
      "[227113.83] vs [175500.] --> Fehler: [-51613.828125]\n",
      "[233467.84] vs [195000.] --> Fehler: [-38467.84375]\n",
      "[190371.53] vs [142500.] --> Fehler: [-47871.53125]\n",
      "[280290.8] vs [265900.] --> Fehler: [-14390.8125]\n",
      "[230326.12] vs [224900.] --> Fehler: [-5426.125]\n",
      "[233975.98] vs [248328.] --> Fehler: [14352.015625]\n",
      "[214114.28] vs [170000.] --> Fehler: [-44114.28125]\n",
      "[379055.25] vs [465000.] --> Fehler: [85944.75]\n",
      "[245987.83] vs [230000.] --> Fehler: [-15987.828125]\n",
      "[176910.86] vs [178000.] --> Fehler: [1089.140625]\n",
      "[213257.95] vs [186500.] --> Fehler: [-26757.953125]\n",
      "[174301.17] vs [169900.] --> Fehler: [-4401.171875]\n",
      "[147685.94] vs [129500.] --> Fehler: [-18185.9375]\n",
      "[128005.56] vs [119000.] --> Fehler: [-9005.5625]\n",
      "[211503.64] vs [244000.] --> Fehler: [32496.359375]\n",
      "[227408.92] vs [171750.] --> Fehler: [-55658.921875]\n",
      "[135263.38] vs [130000.] --> Fehler: [-5263.375]\n",
      "[218567.3] vs [294000.] --> Fehler: [75432.703125]\n",
      "[229613.42] vs [165400.] --> Fehler: [-64213.421875]\n",
      "[143696.19] vs [127500.] --> Fehler: [-16196.1875]\n",
      "[276151.28] vs [301500.] --> Fehler: [25348.71875]\n",
      "[125196.195] vs [99900.] --> Fehler: [-25296.1953125]\n",
      "[232459.69] vs [190000.] --> Fehler: [-42459.6875]\n",
      "[170577.7] vs [151000.] --> Fehler: [-19577.703125]\n",
      "[193654.03] vs [181000.] --> Fehler: [-12654.03125]\n",
      "[131333.3] vs [128900.] --> Fehler: [-2433.296875]\n",
      "[99205.43] vs [161500.] --> Fehler: [62294.5703125]\n",
      "[168100.67] vs [180500.] --> Fehler: [12399.328125]\n",
      "[160186.27] vs [181000.] --> Fehler: [20813.734375]\n",
      "[211720.45] vs [183900.] --> Fehler: [-27820.453125]\n",
      "[184767.53] vs [122000.] --> Fehler: [-62767.53125]\n",
      "[331579.16] vs [378500.] --> Fehler: [46920.84375]\n",
      "[249304.] vs [381000.] --> Fehler: [131696.]\n",
      "[132972.56] vs [144000.] --> Fehler: [11027.4375]\n",
      "[225470.67] vs [260000.] --> Fehler: [34529.328125]\n",
      "[169931.55] vs [185750.] --> Fehler: [15818.453125]\n",
      "[136354.6] vs [137000.] --> Fehler: [645.40625]\n",
      "[169088.92] vs [177000.] --> Fehler: [7911.078125]\n",
      "[127992.79] vs [139000.] --> Fehler: [11007.2109375]\n",
      "[130010.35] vs [137000.] --> Fehler: [6989.6484375]\n",
      "[173427.48] vs [162000.] --> Fehler: [-11427.484375]\n",
      "[175284.62] vs [197900.] --> Fehler: [22615.375]\n",
      "[278175.84] vs [237000.] --> Fehler: [-41175.84375]\n",
      "[68515.586] vs [68400.] --> Fehler: [-115.5859375]\n",
      "[230692.55] vs [227000.] --> Fehler: [-3692.546875]\n",
      "[222456.19] vs [180000.] --> Fehler: [-42456.1875]\n",
      "[138065.23] vs [150500.] --> Fehler: [12434.765625]\n",
      "[170871.62] vs [139000.] --> Fehler: [-31871.625]\n",
      "[165921.95] vs [169000.] --> Fehler: [3078.046875]\n",
      "[142646.83] vs [132500.] --> Fehler: [-10146.828125]\n",
      "[168995.08] vs [143000.] --> Fehler: [-25995.078125]\n",
      "[150913.3] vs [190000.] --> Fehler: [39086.703125]\n",
      "[274779.1] vs [278000.] --> Fehler: [3220.90625]\n",
      "[281468.78] vs [281000.] --> Fehler: [-468.78125]\n",
      "[136374.84] vs [180500.] --> Fehler: [44125.15625]\n",
      "[104945.54] vs [119500.] --> Fehler: [14554.4609375]\n",
      "[118260.984] vs [107500.] --> Fehler: [-10760.984375]\n",
      "[215031.64] vs [162900.] --> Fehler: [-52131.640625]\n",
      "[130192.27] vs [115000.] --> Fehler: [-15192.2734375]\n",
      "[134436.36] vs [138500.] --> Fehler: [4063.640625]\n",
      "[132978.97] vs [155000.] --> Fehler: [22021.03125]\n",
      "[137477.64] vs [140000.] --> Fehler: [2522.359375]\n",
      "[400001.94] vs [160000.] --> Fehler: [-240001.9375]\n",
      "[131044.016] vs [154000.] --> Fehler: [22955.984375]\n",
      "[229470.47] vs [225000.] --> Fehler: [-4470.46875]\n",
      "[166174.86] vs [177500.] --> Fehler: [11325.140625]\n",
      "[273616.16] vs [290000.] --> Fehler: [16383.84375]\n",
      "[231918.95] vs [232000.] --> Fehler: [81.046875]\n",
      "[171740.66] vs [130000.] --> Fehler: [-41740.65625]\n",
      "[330371.22] vs [325000.] --> Fehler: [-5371.21875]\n",
      "[230876.7] vs [202500.] --> Fehler: [-28376.703125]\n",
      "[144342.7] vs [138000.] --> Fehler: [-6342.703125]\n",
      "[110888.016] vs [147000.] --> Fehler: [36111.984375]\n",
      "[177211.22] vs [179200.] --> Fehler: [1988.78125]\n",
      "[212646.34] vs [335000.] --> Fehler: [122353.65625]\n",
      "[231994.73] vs [203000.] --> Fehler: [-28994.734375]\n",
      "[270683.97] vs [302000.] --> Fehler: [31316.03125]\n",
      "[327062.1] vs [333168.] --> Fehler: [6105.90625]\n",
      "[96154.164] vs [119000.] --> Fehler: [22845.8359375]\n",
      "[171437.78] vs [206900.] --> Fehler: [35462.21875]\n",
      "[282165.6] vs [295493.] --> Fehler: [13327.40625]\n",
      "[212465.08] vs [208900.] --> Fehler: [-3565.078125]\n",
      "[280667.03] vs [275000.] --> Fehler: [-5667.03125]\n",
      "[97581.16] vs [111000.] --> Fehler: [13418.84375]\n",
      "[167258.97] vs [156500.] --> Fehler: [-10758.96875]\n",
      "[66572.72] vs [72500.] --> Fehler: [5927.28125]\n",
      "[224991.39] vs [190000.] --> Fehler: [-34991.390625]\n",
      "[91123.88] vs [82500.] --> Fehler: [-8623.8828125]\n",
      "[280842.06] vs [147000.] --> Fehler: [-133842.0625]\n",
      "[79836.97] vs [55000.] --> Fehler: [-24836.96875]\n",
      "[55579.31] vs [79000.] --> Fehler: [23420.69140625]\n",
      "[138878.56] vs [130500.] --> Fehler: [-8378.5625]\n",
      "[147396.95] vs [256000.] --> Fehler: [108603.046875]\n",
      "[227903.62] vs [176500.] --> Fehler: [-51403.625]\n",
      "[280850.25] vs [227000.] --> Fehler: [-53850.25]\n",
      "[138729.97] vs [132500.] --> Fehler: [-6229.96875]\n",
      "[92797.98] vs [100000.] --> Fehler: [7202.0234375]\n",
      "[109810.61] vs [125500.] --> Fehler: [15689.390625]\n",
      "[105297.17] vs [125000.] --> Fehler: [19702.828125]\n",
      "[172848.06] vs [167900.] --> Fehler: [-4948.0625]\n",
      "[136651.89] vs [135000.] --> Fehler: [-1651.890625]\n",
      "[77575.43] vs [52500.] --> Fehler: [-25075.4296875]\n",
      "[232808.03] vs [200000.] --> Fehler: [-32808.03125]\n",
      "[136419.92] vs [128500.] --> Fehler: [-7919.921875]\n",
      "[103508.72] vs [123000.] --> Fehler: [19491.28125]\n",
      "[189385.8] vs [155000.] --> Fehler: [-34385.796875]\n",
      "[278118.88] vs [228500.] --> Fehler: [-49618.875]\n",
      "[165173.12] vs [177000.] --> Fehler: [11826.875]\n",
      "[234050.78] vs [155835.] --> Fehler: [-78215.78125]\n",
      "[80717.58] vs [108500.] --> Fehler: [27782.421875]\n",
      "[216791.73] vs [262500.] --> Fehler: [45708.265625]\n",
      "[283932.3] vs [283463.] --> Fehler: [-469.3125]\n",
      "[232034.9] vs [215000.] --> Fehler: [-17034.90625]\n",
      "[217196.55] vs [122000.] --> Fehler: [-95196.546875]\n",
      "[136607.25] vs [200000.] --> Fehler: [63392.75]\n",
      "[168418.14] vs [171000.] --> Fehler: [2581.859375]\n",
      "[143022.27] vs [134900.] --> Fehler: [-8122.265625]\n",
      "[277054.] vs [410000.] --> Fehler: [132946.]\n",
      "[229803.52] vs [235000.] --> Fehler: [5196.484375]\n",
      "[210956.67] vs [170000.] --> Fehler: [-40956.671875]\n",
      "[134384.47] vs [110000.] --> Fehler: [-24384.46875]\n",
      "[137777.16] vs [149900.] --> Fehler: [12122.84375]\n",
      "[184310.45] vs [177500.] --> Fehler: [-6810.453125]\n",
      "[331257.28] vs [315000.] --> Fehler: [-16257.28125]\n",
      "[128320.41] vs [189000.] --> Fehler: [60679.59375]\n",
      "[236411.64] vs [260000.] --> Fehler: [23588.359375]\n",
      "[97009.15] vs [104900.] --> Fehler: [7890.8515625]\n",
      "[188400.23] vs [156932.] --> Fehler: [-31468.234375]\n",
      "[212141.23] vs [144152.] --> Fehler: [-67989.234375]\n",
      "[212660.97] vs [216000.] --> Fehler: [3339.03125]\n",
      "[228550.95] vs [193000.] --> Fehler: [-35550.953125]\n",
      "[105045.94] vs [127000.] --> Fehler: [21954.0625]\n",
      "[137619.22] vs [144000.] --> Fehler: [6380.78125]\n",
      "[279442.84] vs [232000.] --> Fehler: [-47442.84375]\n",
      "[94594.3] vs [105000.] --> Fehler: [10405.703125]\n",
      "[167665.23] vs [165500.] --> Fehler: [-2165.234375]\n",
      "[228290.52] vs [274300.] --> Fehler: [46009.484375]\n",
      "[374245.3] vs [466500.] --> Fehler: [92254.6875]\n",
      "[213852.27] vs [250000.] --> Fehler: [36147.734375]\n",
      "[282017.94] vs [239000.] --> Fehler: [-43017.9375]\n",
      "[164681.42] vs [91000.] --> Fehler: [-73681.421875]\n",
      "[129288.71] vs [117000.] --> Fehler: [-12288.7109375]\n",
      "[136489.05] vs [83000.] --> Fehler: [-53489.046875]\n",
      "[150300.27] vs [167500.] --> Fehler: [17199.734375]\n",
      "[66118.22] vs [58500.] --> Fehler: [-7618.21875]\n",
      "[172899.27] vs [237500.] --> Fehler: [64600.734375]\n",
      "[182736.3] vs [157000.] --> Fehler: [-25736.296875]\n",
      "[136922.19] vs [112000.] --> Fehler: [-24922.1875]\n",
      "[166598.23] vs [105000.] --> Fehler: [-61598.234375]\n",
      "[80180.15] vs [125500.] --> Fehler: [45319.8515625]\n",
      "[220425.39] vs [250000.] --> Fehler: [29574.609375]\n",
      "[147495.97] vs [136000.] --> Fehler: [-11495.96875]\n",
      "[331369.72] vs [377500.] --> Fehler: [46130.28125]\n",
      "[142105.39] vs [131000.] --> Fehler: [-11105.390625]\n",
      "[229097.1] vs [235000.] --> Fehler: [5902.90625]\n",
      "[134413.53] vs [124000.] --> Fehler: [-10413.53125]\n",
      "[133786.14] vs [123000.] --> Fehler: [-10786.140625]\n",
      "[149095.33] vs [163000.] --> Fehler: [13904.671875]\n",
      "[229805.97] vs [246578.] --> Fehler: [16772.03125]\n",
      "[281806.16] vs [281213.] --> Fehler: [-593.15625]\n",
      "[160048.53] vs [160000.] --> Fehler: [-48.53125]\n",
      "[113231.305] vs [137500.] --> Fehler: [24268.6953125]\n",
      "[128005.56] vs [138000.] --> Fehler: [9994.4375]\n",
      "[164286.52] vs [137450.] --> Fehler: [-26836.515625]\n",
      "[143932.98] vs [120000.] --> Fehler: [-23932.984375]\n",
      "[186368.69] vs [193000.] --> Fehler: [6631.3125]\n",
      "[231440.] vs [193879.] --> Fehler: [-37561.]\n",
      "[284495.38] vs [282922.] --> Fehler: [-1573.375]\n",
      "[67094.305] vs [105000.] --> Fehler: [37905.6953125]\n",
      "[208763.84] vs [275000.] --> Fehler: [66236.15625]\n",
      "[135800.98] vs [133000.] --> Fehler: [-2800.984375]\n",
      "[141160.23] vs [112000.] --> Fehler: [-29160.234375]\n",
      "[83379.734] vs [125500.] --> Fehler: [42120.265625]\n",
      "[227652.33] vs [215000.] --> Fehler: [-12652.328125]\n",
      "[231617.7] vs [230000.] --> Fehler: [-1617.703125]\n",
      "[167447.25] vs [140000.] --> Fehler: [-27447.25]\n",
      "[94224.46] vs [90000.] --> Fehler: [-4224.4609375]\n",
      "[280835.5] vs [257000.] --> Fehler: [-23835.5]\n",
      "[167853.36] vs [207000.] --> Fehler: [39146.640625]\n",
      "[230279.17] vs [175900.] --> Fehler: [-54379.171875]\n",
      "[89289.12] vs [122500.] --> Fehler: [33210.8828125]\n",
      "[279915.6] vs [340000.] --> Fehler: [60084.40625]\n",
      "[133266.] vs [124000.] --> Fehler: [-9266.]\n",
      "[174871.78] vs [223000.] --> Fehler: [48128.21875]\n",
      "[171582.05] vs [179900.] --> Fehler: [8317.953125]\n",
      "[169339.58] vs [127500.] --> Fehler: [-41839.578125]\n",
      "[137619.22] vs [136500.] --> Fehler: [-1119.21875]\n",
      "[176186.28] vs [274970.] --> Fehler: [98783.71875]\n",
      "[131908.23] vs [144000.] --> Fehler: [12091.765625]\n",
      "[168637.66] vs [142000.] --> Fehler: [-26637.65625]\n",
      "[226615.89] vs [271000.] --> Fehler: [44384.109375]\n",
      "[129104.98] vs [140000.] --> Fehler: [10895.0234375]\n",
      "[109666.19] vs [119000.] --> Fehler: [9333.8125]\n",
      "[176151.] vs [182900.] --> Fehler: [6749.]\n",
      "[156327.78] vs [192140.] --> Fehler: [35812.21875]\n",
      "[169546.16] vs [143750.] --> Fehler: [-25796.15625]\n",
      "[95016.39] vs [64500.] --> Fehler: [-30516.390625]\n",
      "[185220.81] vs [186500.] --> Fehler: [1279.1875]\n",
      "[142594.] vs [160000.] --> Fehler: [17406.]\n",
      "[167925.58] vs [174000.] --> Fehler: [6074.421875]\n",
      "[103900.2] vs [120500.] --> Fehler: [16599.796875]\n",
      "[283453.97] vs [394617.] --> Fehler: [111163.03125]\n",
      "[139782.97] vs [149700.] --> Fehler: [9917.03125]\n",
      "[217722.62] vs [197000.] --> Fehler: [-20722.625]\n",
      "[167050.11] vs [191000.] --> Fehler: [23949.890625]\n",
      "[137703.2] vs [149300.] --> Fehler: [11596.796875]\n",
      "[304633.38] vs [310000.] --> Fehler: [5366.625]\n",
      "[164903.1] vs [121000.] --> Fehler: [-43903.09375]\n",
      "[231126.5] vs [179600.] --> Fehler: [-51526.5]\n",
      "[168970.14] vs [129000.] --> Fehler: [-39970.140625]\n",
      "[143280.97] vs [157900.] --> Fehler: [14619.03125]\n",
      "[274193.47] vs [240000.] --> Fehler: [-34193.46875]\n",
      "[97902.73] vs [112000.] --> Fehler: [14097.2734375]\n",
      "[104994.84] vs [92000.] --> Fehler: [-12994.84375]\n",
      "[136930.81] vs [136000.] --> Fehler: [-930.8125]\n",
      "[281605.6] vs [287090.] --> Fehler: [5484.40625]\n",
      "[105492.336] vs [145000.] --> Fehler: [39507.6640625]\n",
      "[154224.97] vs [84500.] --> Fehler: [-69724.96875]\n",
      "[213010.22] vs [185000.] --> Fehler: [-28010.21875]\n",
      "[183137.11] vs [175000.] --> Fehler: [-8137.109375]\n",
      "[175550.92] vs [210000.] --> Fehler: [34449.078125]\n",
      "[205776.33] vs [266500.] --> Fehler: [60723.671875]\n",
      "[129494.94] vs [142125.] --> Fehler: [12630.0625]\n",
      "[134314.] vs [147500.] --> Fehler: [13186.]\n",
      "Durchschnittlicher Fehler in $: [29337.2433339]\n"
     ]
    }
   ],
   "source": [
    "nr_tests = len(y_test)\n",
    "sum_errors = 0.0\n",
    "for i in range(0,nr_tests):\n",
    "    error = gt_dollar[i] - preds_dollar[i]\n",
    "    print(\"{0} vs {1} --> Fehler: {2}\"\n",
    "          .format(preds_dollar[i],\n",
    "                  gt_dollar[i],\n",
    "                  error ))\n",
    "    sum_errors += abs(error)\n",
    "print(\"Durchschnittlicher Fehler in $:\", sum_errors/nr_tests)"
   ]
  },
  {
   "cell_type": "markdown",
   "metadata": {},
   "source": [
    "# Modell speichern"
   ]
  },
  {
   "cell_type": "code",
   "execution_count": 100,
   "metadata": {},
   "outputs": [
    {
     "name": "stdout",
     "output_type": "stream",
     "text": [
      "WARNING:tensorflow:From /home/juebrauer/anaconda3/envs/env_generic/lib/python3.8/site-packages/tensorflow/python/training/tracking/tracking.py:111: Model.state_updates (from tensorflow.python.keras.engine.training) is deprecated and will be removed in a future version.\n",
      "Instructions for updating:\n",
      "This property should not be used in TensorFlow 2.0, as updates are applied automatically.\n",
      "WARNING:tensorflow:From /home/juebrauer/anaconda3/envs/env_generic/lib/python3.8/site-packages/tensorflow/python/training/tracking/tracking.py:111: Layer.updates (from tensorflow.python.keras.engine.base_layer) is deprecated and will be removed in a future version.\n",
      "Instructions for updating:\n",
      "This property should not be used in TensorFlow 2.0, as updates are applied automatically.\n",
      "INFO:tensorflow:Assets written to: hauspreis_schaetzer/assets\n"
     ]
    }
   ],
   "source": [
    "model.save( \"hauspreis_schaetzer\" )"
   ]
  },
  {
   "cell_type": "code",
   "execution_count": 101,
   "metadata": {},
   "outputs": [],
   "source": [
    "import pickle\n",
    "fobj = open(\"skalierer.pkl\", \"wb\")\n",
    "pickle.dump(scaler_input, fobj)\n",
    "pickle.dump(scaler_output, fobj)\n",
    "fobj.close()"
   ]
  },
  {
   "cell_type": "markdown",
   "metadata": {},
   "source": [
    "# Modell wiederherstellen und anwenden"
   ]
  },
  {
   "cell_type": "code",
   "execution_count": 102,
   "metadata": {},
   "outputs": [],
   "source": [
    "from tensorflow import keras\n",
    "import numpy as np\n",
    "new_model = keras.models.load_model(\"hauspreis_schaetzer\")"
   ]
  },
  {
   "cell_type": "code",
   "execution_count": 103,
   "metadata": {},
   "outputs": [
    {
     "data": {
      "text/plain": [
       "tensorflow.python.keras.engine.sequential.Sequential"
      ]
     },
     "execution_count": 103,
     "metadata": {},
     "output_type": "execute_result"
    }
   ],
   "source": [
    "type(new_model)"
   ]
  },
  {
   "cell_type": "code",
   "execution_count": 104,
   "metadata": {},
   "outputs": [
    {
     "name": "stdout",
     "output_type": "stream",
     "text": [
      "Model: \"sequential\"\n",
      "_________________________________________________________________\n",
      "Layer (type)                 Output Shape              Param #   \n",
      "=================================================================\n",
      "dense (Dense)                (None, 160)               1440      \n",
      "_________________________________________________________________\n",
      "dense_1 (Dense)              (None, 40)                6440      \n",
      "_________________________________________________________________\n",
      "dense_2 (Dense)              (None, 1)                 41        \n",
      "=================================================================\n",
      "Total params: 7,921\n",
      "Trainable params: 7,921\n",
      "Non-trainable params: 0\n",
      "_________________________________________________________________\n"
     ]
    }
   ],
   "source": [
    "new_model.summary()"
   ]
  },
  {
   "cell_type": "code",
   "execution_count": 105,
   "metadata": {},
   "outputs": [],
   "source": [
    "import pickle\n",
    "fobj = open(\"skalierer.pkl\", \"rb\")\n",
    "inp_skalierer = pickle.load(fobj)\n",
    "out_skalierer = pickle.load(fobj)\n",
    "fobj.close()"
   ]
  },
  {
   "cell_type": "code",
   "execution_count": 106,
   "metadata": {},
   "outputs": [
    {
     "data": {
      "text/plain": [
       "sklearn.preprocessing._data.MinMaxScaler"
      ]
     },
     "execution_count": 106,
     "metadata": {},
     "output_type": "execute_result"
    }
   ],
   "source": [
    "type(inp_skalierer)"
   ]
  },
  {
   "cell_type": "code",
   "execution_count": 107,
   "metadata": {},
   "outputs": [
    {
     "data": {
      "text/plain": [
       "sklearn.preprocessing._data.MinMaxScaler"
      ]
     },
     "execution_count": 107,
     "metadata": {},
     "output_type": "execute_result"
    }
   ],
   "source": [
    "type(out_skalierer)"
   ]
  },
  {
   "cell_type": "code",
   "execution_count": 110,
   "metadata": {},
   "outputs": [
    {
     "name": "stdout",
     "output_type": "stream",
     "text": [
      "Baujahr:2010\n",
      "Grundstücksgröße:1000\n",
      "Bausubstanzqualität:5\n"
     ]
    }
   ],
   "source": [
    "baujahr = float( input(\"Baujahr:\") )\n",
    "groesse = float( input(\"Grundstücksgröße:\") )\n",
    "bauqualitaet = float( input(\"Bausubstanzqualität:\") )"
   ]
  },
  {
   "cell_type": "code",
   "execution_count": 111,
   "metadata": {},
   "outputs": [
    {
     "data": {
      "text/plain": [
       "2010.0"
      ]
     },
     "execution_count": 111,
     "metadata": {},
     "output_type": "execute_result"
    }
   ],
   "source": [
    "baujahr"
   ]
  },
  {
   "cell_type": "code",
   "execution_count": 112,
   "metadata": {},
   "outputs": [
    {
     "data": {
      "text/plain": [
       "float"
      ]
     },
     "execution_count": 112,
     "metadata": {},
     "output_type": "execute_result"
    }
   ],
   "source": [
    "type(baujahr)"
   ]
  },
  {
   "cell_type": "code",
   "execution_count": 113,
   "metadata": {},
   "outputs": [],
   "source": [
    "input_array = np.array( [baujahr, groesse, bauqualitaet, 0,0,0,1,0 ] )"
   ]
  },
  {
   "cell_type": "code",
   "execution_count": 114,
   "metadata": {},
   "outputs": [],
   "source": [
    "input_array2d = input_array.reshape( (1,8) )"
   ]
  },
  {
   "cell_type": "code",
   "execution_count": 115,
   "metadata": {},
   "outputs": [
    {
     "data": {
      "text/plain": [
       "2"
      ]
     },
     "execution_count": 115,
     "metadata": {},
     "output_type": "execute_result"
    }
   ],
   "source": [
    "input_array2d.ndim"
   ]
  },
  {
   "cell_type": "code",
   "execution_count": 116,
   "metadata": {},
   "outputs": [
    {
     "data": {
      "text/plain": [
       "array([[2.01e+03, 1.00e+03, 5.00e+00, 0.00e+00, 0.00e+00, 0.00e+00,\n",
       "        1.00e+00, 0.00e+00]])"
      ]
     },
     "execution_count": 116,
     "metadata": {},
     "output_type": "execute_result"
    }
   ],
   "source": [
    "input_array2d"
   ]
  },
  {
   "cell_type": "code",
   "execution_count": 117,
   "metadata": {},
   "outputs": [],
   "source": [
    "input_skalierte_daten = inp_skalierer.transform( input_array2d )"
   ]
  },
  {
   "cell_type": "code",
   "execution_count": 118,
   "metadata": {},
   "outputs": [
    {
     "data": {
      "text/plain": [
       "array([[ 1.        , -0.00140223,  0.44444444,  0.        ,  0.        ,\n",
       "         0.        ,  1.        ,  0.        ]])"
      ]
     },
     "execution_count": 118,
     "metadata": {},
     "output_type": "execute_result"
    }
   ],
   "source": [
    "input_skalierte_daten"
   ]
  },
  {
   "cell_type": "code",
   "execution_count": 119,
   "metadata": {},
   "outputs": [],
   "source": [
    "preds = new_model.predict( input_skalierte_daten )"
   ]
  },
  {
   "cell_type": "code",
   "execution_count": 120,
   "metadata": {},
   "outputs": [
    {
     "data": {
      "text/plain": [
       "array([[0.15684037]], dtype=float32)"
      ]
     },
     "execution_count": 120,
     "metadata": {},
     "output_type": "execute_result"
    }
   ],
   "source": [
    "preds"
   ]
  },
  {
   "cell_type": "code",
   "execution_count": 121,
   "metadata": {},
   "outputs": [
    {
     "data": {
      "text/plain": [
       "2"
      ]
     },
     "execution_count": 121,
     "metadata": {},
     "output_type": "execute_result"
    }
   ],
   "source": [
    "preds.ndim"
   ]
  },
  {
   "cell_type": "code",
   "execution_count": 122,
   "metadata": {},
   "outputs": [
    {
     "data": {
      "text/plain": [
       "(1, 1)"
      ]
     },
     "execution_count": 122,
     "metadata": {},
     "output_type": "execute_result"
    }
   ],
   "source": [
    "preds.shape"
   ]
  },
  {
   "cell_type": "code",
   "execution_count": 123,
   "metadata": {},
   "outputs": [],
   "source": [
    "preds_dollar = out_skalierer.inverse_transform( preds )"
   ]
  },
  {
   "cell_type": "code",
   "execution_count": 124,
   "metadata": {},
   "outputs": [
    {
     "data": {
      "text/plain": [
       "array([[147840.75]], dtype=float32)"
      ]
     },
     "execution_count": 124,
     "metadata": {},
     "output_type": "execute_result"
    }
   ],
   "source": [
    "preds_dollar"
   ]
  },
  {
   "cell_type": "code",
   "execution_count": 125,
   "metadata": {},
   "outputs": [
    {
     "data": {
      "text/plain": [
       "147840.75"
      ]
     },
     "execution_count": 125,
     "metadata": {},
     "output_type": "execute_result"
    }
   ],
   "source": [
    "preds_dollar[0][0]"
   ]
  },
  {
   "cell_type": "code",
   "execution_count": 126,
   "metadata": {},
   "outputs": [
    {
     "name": "stdout",
     "output_type": "stream",
     "text": [
      "Baujahr:2000\n",
      "Grundstücksgröße:10\n",
      "Bausubstanzqualität:5\n",
      "Die Immobilie kann in etwa für 142620.765625 verkauft werden!\n"
     ]
    }
   ],
   "source": [
    "# Programm zum Schätzen von Immobilienpreisen\n",
    "\n",
    "from tensorflow import keras\n",
    "import numpy as np\n",
    "from sklearn.preprocessing import MinMaxScaler\n",
    "\n",
    "# 1. Neuronale Netz wiederherstellen\n",
    "new_model = keras.models.load_model(\"hauspreis_schaetzer\")\n",
    "\n",
    "# 2. Skalierer wiederherstellen\n",
    "import pickle\n",
    "fobj = open(\"skalierer.pkl\", \"rb\")\n",
    "inp_skalierer = pickle.load(fobj)\n",
    "out_skalierer = pickle.load(fobj)\n",
    "fobj.close()\n",
    "\n",
    "# 3. Vom Benutzer Immobiliendaten anfordern/einlesen\n",
    "baujahr = float( input(\"Baujahr:\") )\n",
    "groesse = float( input(\"Grundstücksgröße:\") )\n",
    "bauqualitaet = float( input(\"Bausubstanzqualität:\") )\n",
    "\n",
    "# 4. Eingabe skalieren auf FeatureRange [0,1]\n",
    "input_array = np.array( [baujahr, groesse, bauqualitaet, 0,0,0,1,0 ] )\n",
    "input_array2d = input_array.reshape( (1,8) )\n",
    "input_skalierte_daten = inp_skalierer.transform( input_array2d )\n",
    "\n",
    "# 5. Das Neuronale Netz verwenden, um Immobilienpreis vorher zu sagen\n",
    "preds = new_model.predict( input_skalierte_daten )\n",
    "\n",
    "# 6. Output des Neuronalen Netzes in Dollar-Range zurück transformieren\n",
    "preds_dollar = out_skalierer.inverse_transform( preds )\n",
    "\n",
    "# 7. Den prädizierten Immobilienpreis für den Immobilienmakler ausgeben\n",
    "print( f\"Die Immobilie kann in etwa für {preds_dollar[0][0]} verkauft werden!\")"
   ]
  },
  {
   "cell_type": "code",
   "execution_count": 127,
   "metadata": {},
   "outputs": [],
   "source": [
    "import os\n",
    "import zipfile\n",
    "    \n",
    "def zipdir(path, ziph):\n",
    "    # ziph is zipfile handle\n",
    "    for root, dirs, files in os.walk(path):\n",
    "        for file in files:\n",
    "            ziph.write(os.path.join(root, file), \n",
    "                       os.path.relpath(os.path.join(root, file), \n",
    "                                       os.path.join(path, '..')))\n",
    "      \n",
    "zipf = zipfile.ZipFile('nn.zip', 'w', zipfile.ZIP_DEFLATED)\n",
    "zipdir('hauspreis_schaetzer/', zipf)\n",
    "zipf.close()"
   ]
  },
  {
   "cell_type": "code",
   "execution_count": 128,
   "metadata": {},
   "outputs": [
    {
     "data": {
      "text/plain": [
       "'0.23.2'"
      ]
     },
     "execution_count": 128,
     "metadata": {},
     "output_type": "execute_result"
    }
   ],
   "source": [
    "import sklearn\n",
    "sklearn.__version__"
   ]
  },
  {
   "cell_type": "markdown",
   "metadata": {},
   "source": [
    "# Sensitivitätsanalyse\n",
    "\n",
    "Frage: Wie verändern sich die Prädiktionen unseres Modells in Abhängigkeit ausgewählter Eingabevariablen?"
   ]
  },
  {
   "cell_type": "code",
   "execution_count": 129,
   "metadata": {},
   "outputs": [],
   "source": [
    "from tensorflow import keras\n",
    "import numpy as np\n",
    "from sklearn.preprocessing import MinMaxScaler\n",
    "\n",
    "# 1. Neuronale Netz wiederherstellen\n",
    "new_model = keras.models.load_model(\"hauspreis_schaetzer\")\n",
    "\n",
    "# 2. Skalierer wiederherstellen\n",
    "import pickle\n",
    "fobj = open(\"skalierer.pkl\", \"rb\")\n",
    "inp_skalierer = pickle.load(fobj)\n",
    "out_skalierer = pickle.load(fobj)\n",
    "fobj.close()\n",
    "\n",
    "x = []\n",
    "y = []\n",
    "for groesse in range(5000,100000,1000):\n",
    "    baujahr = 2000\n",
    "    bauqualitaet = 5\n",
    "\n",
    "    # 4. Eingabe skalieren auf FeatureRange [0,1]\n",
    "    input_array = np.array( [baujahr, groesse, bauqualitaet, 0,0,0,1,0 ] )\n",
    "    input_array2d = input_array.reshape( (1,8) )\n",
    "    input_skalierte_daten = inp_skalierer.transform( input_array2d )\n",
    "\n",
    "    # 5. Das Neuronale Netz verwenden, um Immobilienpreis vorher zu sagen\n",
    "    preds = new_model.predict( input_skalierte_daten )\n",
    "\n",
    "    # 6. Output des Neuronalen Netzes in Dollar-Range zurück transformieren\n",
    "    preds_dollar = out_skalierer.inverse_transform( preds )\n",
    "    preds_dollar_scalar = preds_dollar[0][0]\n",
    "    \n",
    "    # 7. Baujahr + Prädizierten Verkaufspreis in Listen speichern\n",
    "    x.append( groesse )\n",
    "    y.append( preds_dollar_scalar )  \n"
   ]
  },
  {
   "cell_type": "code",
   "execution_count": 130,
   "metadata": {},
   "outputs": [
    {
     "data": {
      "text/plain": [
       "[5000, 6000, 7000, 8000, 9000]"
      ]
     },
     "execution_count": 130,
     "metadata": {},
     "output_type": "execute_result"
    }
   ],
   "source": [
    "x[:5]"
   ]
  },
  {
   "cell_type": "code",
   "execution_count": 131,
   "metadata": {},
   "outputs": [
    {
     "data": {
      "text/plain": [
       "[145161.12, 145670.2, 146179.28, 146688.39, 147197.47]"
      ]
     },
     "execution_count": 131,
     "metadata": {},
     "output_type": "execute_result"
    }
   ],
   "source": [
    "y[:5]"
   ]
  },
  {
   "cell_type": "code",
   "execution_count": 132,
   "metadata": {},
   "outputs": [
    {
     "data": {
      "image/png": "[encoded data removed]",
      "text/plain": [
       "<Figure size 432x288 with 1 Axes>"
      ]
     },
     "metadata": {
      "needs_background": "light"
     },
     "output_type": "display_data"
    }
   ],
   "source": [
    "import matplotlib.pyplot as plt\n",
    "plt.scatter(x,y, marker=\"+\")\n",
    "plt.xlabel(\"Grundstücksgröße\", fontsize=15, color=\"green\")\n",
    "plt.ylabel(\"Verkaufspreis in $\", fontsize=15, color=\"green\")\n",
    "plt.title(\"Scatterplot\", fontsize=20, color=\"red\")\n",
    "plt.show()"
   ]
  },
  {
   "cell_type": "code",
   "execution_count": null,
   "metadata": {},
   "outputs": [],
   "source": []
  },
  {
   "cell_type": "code",
   "execution_count": null,
   "metadata": {},
   "outputs": [],
   "source": []
  }
 ],
 "metadata": {
  "kernelspec": {
   "display_name": "Python 3",
   "language": "python",
   "name": "python3"
  },
  "language_info": {
   "codemirror_mode": {
    "name": "ipython",
    "version": 3
   },
   "file_extension": ".py",
   "mimetype": "text/x-python",
   "name": "python",
   "nbconvert_exporter": "python",
   "pygments_lexer": "ipython3",
   "version": "3.8.5"
  },
  "toc": {
   "base_numbering": 1,
   "nav_menu": {},
   "number_sections": true,
   "sideBar": true,
   "skip_h1_title": false,
   "title_cell": "Inhaltsverzeichnis",
   "title_sidebar": "Inhalte",
   "toc_cell": true,
   "toc_position": {
    "height": "calc(100% - 180px)",
    "left": "10px",
    "top": "150px",
    "width": "182.833px"
   },
   "toc_section_display": true,
   "toc_window_display": true
  },
  "toc-autonumbering": true
 },
 "nbformat": 4,
 "nbformat_minor": 4
}
