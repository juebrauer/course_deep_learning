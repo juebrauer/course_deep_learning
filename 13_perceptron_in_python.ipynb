{
 "cells": [
  {
   "cell_type": "markdown",
   "metadata": {},
   "source": [
    "# Einleitung"
   ]
  },
  {
   "cell_type": "markdown",
   "metadata": {},
   "source": [
    "Dieses kleine Jupyter-Notebook soll zeigen, wie man ein kleines Neuronales Netz - ein sog. \"Perzeptron\" - selber in Python programmieren, trainieren und anwenden kann."
   ]
  },
  {
   "cell_type": "markdown",
   "metadata": {},
   "source": [
    "# Einlesen eines Datensatzes"
   ]
  },
  {
   "cell_type": "code",
   "execution_count": 1,
   "metadata": {},
   "outputs": [],
   "source": [
    "import tensorflow as tf"
   ]
  },
  {
   "cell_type": "code",
   "execution_count": 2,
   "metadata": {},
   "outputs": [],
   "source": [
    "mnist_dataset = tf.keras.datasets.mnist\n",
    "(x_train, y_train), (x_test, y_test) = mnist_dataset.load_data()"
   ]
  },
  {
   "cell_type": "code",
   "execution_count": 3,
   "metadata": {},
   "outputs": [
    {
     "data": {
      "text/plain": [
       "numpy.ndarray"
      ]
     },
     "execution_count": 3,
     "metadata": {},
     "output_type": "execute_result"
    }
   ],
   "source": [
    "type(x_train)"
   ]
  },
  {
   "cell_type": "code",
   "execution_count": 4,
   "metadata": {},
   "outputs": [
    {
     "data": {
      "text/plain": [
       "(60000, 28, 28)"
      ]
     },
     "execution_count": 4,
     "metadata": {},
     "output_type": "execute_result"
    }
   ],
   "source": [
    "x_train.shape"
   ]
  },
  {
   "cell_type": "code",
   "execution_count": 5,
   "metadata": {},
   "outputs": [
    {
     "data": {
      "text/plain": [
       "(60000,)"
      ]
     },
     "execution_count": 5,
     "metadata": {},
     "output_type": "execute_result"
    }
   ],
   "source": [
    "y_train.shape"
   ]
  },
  {
   "cell_type": "code",
   "execution_count": 6,
   "metadata": {},
   "outputs": [
    {
     "data": {
      "text/plain": [
       "(10000, 28, 28)"
      ]
     },
     "execution_count": 6,
     "metadata": {},
     "output_type": "execute_result"
    }
   ],
   "source": [
    "x_test.shape"
   ]
  },
  {
   "cell_type": "code",
   "execution_count": 7,
   "metadata": {},
   "outputs": [
    {
     "data": {
      "text/plain": [
       "(10000,)"
      ]
     },
     "execution_count": 7,
     "metadata": {},
     "output_type": "execute_result"
    }
   ],
   "source": [
    "y_test.shape"
   ]
  },
  {
   "cell_type": "markdown",
   "metadata": {},
   "source": [
    "# Visualisieren einiger Bilder"
   ]
  },
  {
   "cell_type": "code",
   "execution_count": 8,
   "metadata": {},
   "outputs": [],
   "source": [
    "bild = x_train[0, :, :]"
   ]
  },
  {
   "cell_type": "code",
   "execution_count": 9,
   "metadata": {},
   "outputs": [
    {
     "data": {
      "text/plain": [
       "numpy.ndarray"
      ]
     },
     "execution_count": 9,
     "metadata": {},
     "output_type": "execute_result"
    }
   ],
   "source": [
    "type(bild)"
   ]
  },
  {
   "cell_type": "code",
   "execution_count": 10,
   "metadata": {},
   "outputs": [
    {
     "data": {
      "text/plain": [
       "(28, 28)"
      ]
     },
     "execution_count": 10,
     "metadata": {},
     "output_type": "execute_result"
    }
   ],
   "source": [
    "bild.shape"
   ]
  },
  {
   "cell_type": "code",
   "execution_count": 11,
   "metadata": {},
   "outputs": [
    {
     "data": {
      "text/plain": [
       "array([[  0,   0,   0,   0,   0,   0,   0,   0,   0,   0,   0,   0,   0,\n",
       "          0,   0,   0,   0,   0,   0,   0,   0,   0,   0,   0,   0,   0,\n",
       "          0,   0],\n",
       "       [  0,   0,   0,   0,   0,   0,   0,   0,   0,   0,   0,   0,   0,\n",
       "          0,   0,   0,   0,   0,   0,   0,   0,   0,   0,   0,   0,   0,\n",
       "          0,   0],\n",
       "       [  0,   0,   0,   0,   0,   0,   0,   0,   0,   0,   0,   0,   0,\n",
       "          0,   0,   0,   0,   0,   0,   0,   0,   0,   0,   0,   0,   0,\n",
       "          0,   0],\n",
       "       [  0,   0,   0,   0,   0,   0,   0,   0,   0,   0,   0,   0,   0,\n",
       "          0,   0,   0,   0,   0,   0,   0,   0,   0,   0,   0,   0,   0,\n",
       "          0,   0],\n",
       "       [  0,   0,   0,   0,   0,   0,   0,   0,   0,   0,   0,   0,   0,\n",
       "          0,   0,   0,   0,   0,   0,   0,   0,   0,   0,   0,   0,   0,\n",
       "          0,   0],\n",
       "       [  0,   0,   0,   0,   0,   0,   0,   0,   0,   0,   0,   0,   3,\n",
       "         18,  18,  18, 126, 136, 175,  26, 166, 255, 247, 127,   0,   0,\n",
       "          0,   0],\n",
       "       [  0,   0,   0,   0,   0,   0,   0,   0,  30,  36,  94, 154, 170,\n",
       "        253, 253, 253, 253, 253, 225, 172, 253, 242, 195,  64,   0,   0,\n",
       "          0,   0],\n",
       "       [  0,   0,   0,   0,   0,   0,   0,  49, 238, 253, 253, 253, 253,\n",
       "        253, 253, 253, 253, 251,  93,  82,  82,  56,  39,   0,   0,   0,\n",
       "          0,   0],\n",
       "       [  0,   0,   0,   0,   0,   0,   0,  18, 219, 253, 253, 253, 253,\n",
       "        253, 198, 182, 247, 241,   0,   0,   0,   0,   0,   0,   0,   0,\n",
       "          0,   0],\n",
       "       [  0,   0,   0,   0,   0,   0,   0,   0,  80, 156, 107, 253, 253,\n",
       "        205,  11,   0,  43, 154,   0,   0,   0,   0,   0,   0,   0,   0,\n",
       "          0,   0],\n",
       "       [  0,   0,   0,   0,   0,   0,   0,   0,   0,  14,   1, 154, 253,\n",
       "         90,   0,   0,   0,   0,   0,   0,   0,   0,   0,   0,   0,   0,\n",
       "          0,   0],\n",
       "       [  0,   0,   0,   0,   0,   0,   0,   0,   0,   0,   0, 139, 253,\n",
       "        190,   2,   0,   0,   0,   0,   0,   0,   0,   0,   0,   0,   0,\n",
       "          0,   0],\n",
       "       [  0,   0,   0,   0,   0,   0,   0,   0,   0,   0,   0,  11, 190,\n",
       "        253,  70,   0,   0,   0,   0,   0,   0,   0,   0,   0,   0,   0,\n",
       "          0,   0],\n",
       "       [  0,   0,   0,   0,   0,   0,   0,   0,   0,   0,   0,   0,  35,\n",
       "        241, 225, 160, 108,   1,   0,   0,   0,   0,   0,   0,   0,   0,\n",
       "          0,   0],\n",
       "       [  0,   0,   0,   0,   0,   0,   0,   0,   0,   0,   0,   0,   0,\n",
       "         81, 240, 253, 253, 119,  25,   0,   0,   0,   0,   0,   0,   0,\n",
       "          0,   0],\n",
       "       [  0,   0,   0,   0,   0,   0,   0,   0,   0,   0,   0,   0,   0,\n",
       "          0,  45, 186, 253, 253, 150,  27,   0,   0,   0,   0,   0,   0,\n",
       "          0,   0],\n",
       "       [  0,   0,   0,   0,   0,   0,   0,   0,   0,   0,   0,   0,   0,\n",
       "          0,   0,  16,  93, 252, 253, 187,   0,   0,   0,   0,   0,   0,\n",
       "          0,   0],\n",
       "       [  0,   0,   0,   0,   0,   0,   0,   0,   0,   0,   0,   0,   0,\n",
       "          0,   0,   0,   0, 249, 253, 249,  64,   0,   0,   0,   0,   0,\n",
       "          0,   0],\n",
       "       [  0,   0,   0,   0,   0,   0,   0,   0,   0,   0,   0,   0,   0,\n",
       "          0,  46, 130, 183, 253, 253, 207,   2,   0,   0,   0,   0,   0,\n",
       "          0,   0],\n",
       "       [  0,   0,   0,   0,   0,   0,   0,   0,   0,   0,   0,   0,  39,\n",
       "        148, 229, 253, 253, 253, 250, 182,   0,   0,   0,   0,   0,   0,\n",
       "          0,   0],\n",
       "       [  0,   0,   0,   0,   0,   0,   0,   0,   0,   0,  24, 114, 221,\n",
       "        253, 253, 253, 253, 201,  78,   0,   0,   0,   0,   0,   0,   0,\n",
       "          0,   0],\n",
       "       [  0,   0,   0,   0,   0,   0,   0,   0,  23,  66, 213, 253, 253,\n",
       "        253, 253, 198,  81,   2,   0,   0,   0,   0,   0,   0,   0,   0,\n",
       "          0,   0],\n",
       "       [  0,   0,   0,   0,   0,   0,  18, 171, 219, 253, 253, 253, 253,\n",
       "        195,  80,   9,   0,   0,   0,   0,   0,   0,   0,   0,   0,   0,\n",
       "          0,   0],\n",
       "       [  0,   0,   0,   0,  55, 172, 226, 253, 253, 253, 253, 244, 133,\n",
       "         11,   0,   0,   0,   0,   0,   0,   0,   0,   0,   0,   0,   0,\n",
       "          0,   0],\n",
       "       [  0,   0,   0,   0, 136, 253, 253, 253, 212, 135, 132,  16,   0,\n",
       "          0,   0,   0,   0,   0,   0,   0,   0,   0,   0,   0,   0,   0,\n",
       "          0,   0],\n",
       "       [  0,   0,   0,   0,   0,   0,   0,   0,   0,   0,   0,   0,   0,\n",
       "          0,   0,   0,   0,   0,   0,   0,   0,   0,   0,   0,   0,   0,\n",
       "          0,   0],\n",
       "       [  0,   0,   0,   0,   0,   0,   0,   0,   0,   0,   0,   0,   0,\n",
       "          0,   0,   0,   0,   0,   0,   0,   0,   0,   0,   0,   0,   0,\n",
       "          0,   0],\n",
       "       [  0,   0,   0,   0,   0,   0,   0,   0,   0,   0,   0,   0,   0,\n",
       "          0,   0,   0,   0,   0,   0,   0,   0,   0,   0,   0,   0,   0,\n",
       "          0,   0]], dtype=uint8)"
      ]
     },
     "execution_count": 11,
     "metadata": {},
     "output_type": "execute_result"
    }
   ],
   "source": [
    "bild"
   ]
  },
  {
   "cell_type": "code",
   "execution_count": 12,
   "metadata": {},
   "outputs": [],
   "source": [
    "from matplotlib import pyplot as plt"
   ]
  },
  {
   "cell_type": "code",
   "execution_count": 13,
   "metadata": {},
   "outputs": [
    {
     "data": {
      "text/plain": [
       "<matplotlib.colorbar.Colorbar at 0x7fd05c9001c0>"
      ]
     },
     "execution_count": 13,
     "metadata": {},
     "output_type": "execute_result"
    },
    {
     "data": {
      "image/png": "[encoded data removed]",
      "text/plain": [
       "<Figure size 432x288 with 2 Axes>"
      ]
     },
     "metadata": {
      "needs_background": "light"
     },
     "output_type": "display_data"
    }
   ],
   "source": [
    "plt.imshow(bild)\n",
    "plt.colorbar()"
   ]
  },
  {
   "cell_type": "code",
   "execution_count": 14,
   "metadata": {},
   "outputs": [
    {
     "data": {
      "text/plain": [
       "array([5, 0, 4, ..., 5, 6, 8], dtype=uint8)"
      ]
     },
     "execution_count": 14,
     "metadata": {},
     "output_type": "execute_result"
    }
   ],
   "source": [
    "y_train"
   ]
  },
  {
   "cell_type": "markdown",
   "metadata": {},
   "source": [
    "# Vorbereitung der Implementierung"
   ]
  },
  {
   "cell_type": "markdown",
   "metadata": {},
   "source": [
    "## Erzeugen der Targets"
   ]
  },
  {
   "cell_type": "code",
   "execution_count": 15,
   "metadata": {},
   "outputs": [
    {
     "data": {
      "text/plain": [
       "array([5, 0, 4, 1, 9, 2, 1, 3, 1, 4, 3, 5, 3, 6, 1, 7, 2, 8, 6, 9, 4, 0,\n",
       "       9, 1, 1, 2, 4, 3, 2, 7], dtype=uint8)"
      ]
     },
     "execution_count": 15,
     "metadata": {},
     "output_type": "execute_result"
    }
   ],
   "source": [
    "y_train[:30]"
   ]
  },
  {
   "cell_type": "code",
   "execution_count": 16,
   "metadata": {},
   "outputs": [],
   "source": [
    "from sklearn.preprocessing import OneHotEncoder\n",
    "\n",
    "def one_hot(labels):\n",
    "    enc = OneHotEncoder()\n",
    "    enc.fit(labels.reshape(-1,1))\n",
    "    one_hot_kodierung = enc.transform(labels.reshape(-1,1)).toarray()\n",
    "    return one_hot_kodierung"
   ]
  },
  {
   "cell_type": "code",
   "execution_count": 17,
   "metadata": {},
   "outputs": [],
   "source": [
    "one_hot_kodierung = one_hot(y_train)"
   ]
  },
  {
   "cell_type": "code",
   "execution_count": 18,
   "metadata": {},
   "outputs": [
    {
     "data": {
      "text/plain": [
       "array([[0., 0., 0., 0., 0., 1., 0., 0., 0., 0.],\n",
       "       [1., 0., 0., 0., 0., 0., 0., 0., 0., 0.],\n",
       "       [0., 0., 0., 0., 1., 0., 0., 0., 0., 0.],\n",
       "       [0., 1., 0., 0., 0., 0., 0., 0., 0., 0.],\n",
       "       [0., 0., 0., 0., 0., 0., 0., 0., 0., 1.]])"
      ]
     },
     "execution_count": 18,
     "metadata": {},
     "output_type": "execute_result"
    }
   ],
   "source": [
    "one_hot_kodierung[:5]"
   ]
  },
  {
   "cell_type": "markdown",
   "metadata": {},
   "source": [
    "## Bilder sind 2D Inputs, KNN erwartet 1D Input"
   ]
  },
  {
   "cell_type": "code",
   "execution_count": 19,
   "metadata": {},
   "outputs": [
    {
     "data": {
      "text/plain": [
       "(28, 28)"
      ]
     },
     "execution_count": 19,
     "metadata": {},
     "output_type": "execute_result"
    }
   ],
   "source": [
    "bild.shape"
   ]
  },
  {
   "cell_type": "code",
   "execution_count": 20,
   "metadata": {},
   "outputs": [
    {
     "data": {
      "text/plain": [
       "784"
      ]
     },
     "execution_count": 20,
     "metadata": {},
     "output_type": "execute_result"
    }
   ],
   "source": [
    "28*28"
   ]
  },
  {
   "cell_type": "code",
   "execution_count": 21,
   "metadata": {},
   "outputs": [],
   "source": [
    "v = bild.reshape(-1)"
   ]
  },
  {
   "cell_type": "code",
   "execution_count": 22,
   "metadata": {},
   "outputs": [
    {
     "data": {
      "text/plain": [
       "array([  0,   0,   0,   0,   0,   0,   0,   0,   0,   0,   0,   0,   0,\n",
       "         0,   0,   0,   0,   0,   0,   0,   0,   0,   0,   0,   0,   0,\n",
       "         0,   0,   0,   0,   0,   0,   0,   0,   0,   0,   0,   0,   0,\n",
       "         0,   0,   0,   0,   0,   0,   0,   0,   0,   0,   0,   0,   0,\n",
       "         0,   0,   0,   0,   0,   0,   0,   0,   0,   0,   0,   0,   0,\n",
       "         0,   0,   0,   0,   0,   0,   0,   0,   0,   0,   0,   0,   0,\n",
       "         0,   0,   0,   0,   0,   0,   0,   0,   0,   0,   0,   0,   0,\n",
       "         0,   0,   0,   0,   0,   0,   0,   0,   0,   0,   0,   0,   0,\n",
       "         0,   0,   0,   0,   0,   0,   0,   0,   0,   0,   0,   0,   0,\n",
       "         0,   0,   0,   0,   0,   0,   0,   0,   0,   0,   0,   0,   0,\n",
       "         0,   0,   0,   0,   0,   0,   0,   0,   0,   0,   0,   0,   0,\n",
       "         0,   0,   0,   0,   0,   0,   0,   0,   0,   3,  18,  18,  18,\n",
       "       126, 136, 175,  26, 166, 255, 247, 127,   0,   0,   0,   0,   0,\n",
       "         0,   0,   0,   0,   0,   0,   0,  30,  36,  94, 154, 170, 253,\n",
       "       253, 253, 253, 253, 225, 172, 253, 242, 195,  64,   0,   0,   0,\n",
       "         0,   0,   0,   0,   0,   0,   0,   0,  49, 238, 253, 253, 253,\n",
       "       253, 253, 253, 253, 253, 251,  93,  82,  82,  56,  39,   0,   0,\n",
       "         0,   0,   0,   0,   0,   0,   0,   0,   0,   0,  18, 219, 253,\n",
       "       253, 253, 253, 253, 198, 182, 247, 241,   0,   0,   0,   0,   0,\n",
       "         0,   0,   0,   0,   0,   0,   0,   0,   0,   0,   0,   0,   0,\n",
       "        80, 156, 107, 253, 253, 205,  11,   0,  43, 154,   0,   0,   0,\n",
       "         0,   0,   0,   0,   0,   0,   0,   0,   0,   0,   0,   0,   0,\n",
       "         0,   0,   0,  14,   1, 154, 253,  90,   0,   0,   0,   0,   0,\n",
       "         0,   0,   0,   0,   0,   0,   0,   0,   0,   0,   0,   0,   0,\n",
       "         0,   0,   0,   0,   0,   0,   0, 139, 253, 190,   2,   0,   0,\n",
       "         0,   0,   0,   0,   0,   0,   0,   0,   0,   0,   0,   0,   0,\n",
       "         0,   0,   0,   0,   0,   0,   0,   0,   0,  11, 190, 253,  70,\n",
       "         0,   0,   0,   0,   0,   0,   0,   0,   0,   0,   0,   0,   0,\n",
       "         0,   0,   0,   0,   0,   0,   0,   0,   0,   0,   0,   0,  35,\n",
       "       241, 225, 160, 108,   1,   0,   0,   0,   0,   0,   0,   0,   0,\n",
       "         0,   0,   0,   0,   0,   0,   0,   0,   0,   0,   0,   0,   0,\n",
       "         0,   0,  81, 240, 253, 253, 119,  25,   0,   0,   0,   0,   0,\n",
       "         0,   0,   0,   0,   0,   0,   0,   0,   0,   0,   0,   0,   0,\n",
       "         0,   0,   0,   0,   0,  45, 186, 253, 253, 150,  27,   0,   0,\n",
       "         0,   0,   0,   0,   0,   0,   0,   0,   0,   0,   0,   0,   0,\n",
       "         0,   0,   0,   0,   0,   0,   0,   0,  16,  93, 252, 253, 187,\n",
       "         0,   0,   0,   0,   0,   0,   0,   0,   0,   0,   0,   0,   0,\n",
       "         0,   0,   0,   0,   0,   0,   0,   0,   0,   0,   0,   0, 249,\n",
       "       253, 249,  64,   0,   0,   0,   0,   0,   0,   0,   0,   0,   0,\n",
       "         0,   0,   0,   0,   0,   0,   0,   0,   0,   0,   0,  46, 130,\n",
       "       183, 253, 253, 207,   2,   0,   0,   0,   0,   0,   0,   0,   0,\n",
       "         0,   0,   0,   0,   0,   0,   0,   0,   0,   0,   0,  39, 148,\n",
       "       229, 253, 253, 253, 250, 182,   0,   0,   0,   0,   0,   0,   0,\n",
       "         0,   0,   0,   0,   0,   0,   0,   0,   0,   0,   0,  24, 114,\n",
       "       221, 253, 253, 253, 253, 201,  78,   0,   0,   0,   0,   0,   0,\n",
       "         0,   0,   0,   0,   0,   0,   0,   0,   0,   0,   0,  23,  66,\n",
       "       213, 253, 253, 253, 253, 198,  81,   2,   0,   0,   0,   0,   0,\n",
       "         0,   0,   0,   0,   0,   0,   0,   0,   0,   0,   0,  18, 171,\n",
       "       219, 253, 253, 253, 253, 195,  80,   9,   0,   0,   0,   0,   0,\n",
       "         0,   0,   0,   0,   0,   0,   0,   0,   0,   0,   0,  55, 172,\n",
       "       226, 253, 253, 253, 253, 244, 133,  11,   0,   0,   0,   0,   0,\n",
       "         0,   0,   0,   0,   0,   0,   0,   0,   0,   0,   0,   0,   0,\n",
       "       136, 253, 253, 253, 212, 135, 132,  16,   0,   0,   0,   0,   0,\n",
       "         0,   0,   0,   0,   0,   0,   0,   0,   0,   0,   0,   0,   0,\n",
       "         0,   0,   0,   0,   0,   0,   0,   0,   0,   0,   0,   0,   0,\n",
       "         0,   0,   0,   0,   0,   0,   0,   0,   0,   0,   0,   0,   0,\n",
       "         0,   0,   0,   0,   0,   0,   0,   0,   0,   0,   0,   0,   0,\n",
       "         0,   0,   0,   0,   0,   0,   0,   0,   0,   0,   0,   0,   0,\n",
       "         0,   0,   0,   0,   0,   0,   0,   0,   0,   0,   0,   0,   0,\n",
       "         0,   0,   0,   0,   0,   0,   0,   0,   0,   0,   0,   0,   0,\n",
       "         0,   0,   0,   0], dtype=uint8)"
      ]
     },
     "execution_count": 22,
     "metadata": {},
     "output_type": "execute_result"
    }
   ],
   "source": [
    "v"
   ]
  },
  {
   "cell_type": "code",
   "execution_count": 23,
   "metadata": {},
   "outputs": [
    {
     "data": {
      "text/plain": [
       "(784,)"
      ]
     },
     "execution_count": 23,
     "metadata": {},
     "output_type": "execute_result"
    }
   ],
   "source": [
    "v.shape"
   ]
  },
  {
   "cell_type": "code",
   "execution_count": 24,
   "metadata": {},
   "outputs": [
    {
     "data": {
      "text/plain": [
       "numpy.ndarray"
      ]
     },
     "execution_count": 24,
     "metadata": {},
     "output_type": "execute_result"
    }
   ],
   "source": [
    "type(v)"
   ]
  },
  {
   "cell_type": "code",
   "execution_count": 25,
   "metadata": {},
   "outputs": [
    {
     "data": {
      "text/plain": [
       "1"
      ]
     },
     "execution_count": 25,
     "metadata": {},
     "output_type": "execute_result"
    }
   ],
   "source": [
    "v.ndim"
   ]
  },
  {
   "cell_type": "code",
   "execution_count": 26,
   "metadata": {},
   "outputs": [
    {
     "data": {
      "text/plain": [
       "2"
      ]
     },
     "execution_count": 26,
     "metadata": {},
     "output_type": "execute_result"
    }
   ],
   "source": [
    "bild.ndim"
   ]
  },
  {
   "cell_type": "code",
   "execution_count": 27,
   "metadata": {},
   "outputs": [],
   "source": [
    "import numpy as np\n",
    "v_mit_bias_input = np.append(v, [1])"
   ]
  },
  {
   "cell_type": "code",
   "execution_count": 28,
   "metadata": {},
   "outputs": [
    {
     "data": {
      "text/plain": [
       "(785,)"
      ]
     },
     "execution_count": 28,
     "metadata": {},
     "output_type": "execute_result"
    }
   ],
   "source": [
    "v_mit_bias_input.shape"
   ]
  },
  {
   "cell_type": "code",
   "execution_count": 29,
   "metadata": {},
   "outputs": [
    {
     "data": {
      "text/plain": [
       "array([  0,   0,   0,   0,   0,   0,   0,   0,   0,   0,   0,   0,   0,\n",
       "         0,   0,   0,   0,   0,   0,   0,   0,   0,   0,   0,   0,   0,\n",
       "         0,   0,   0,   0,   0,   0,   0,   0,   0,   0,   0,   0,   0,\n",
       "         0,   0,   0,   0,   0,   0,   0,   0,   0,   0,   0,   0,   0,\n",
       "         0,   0,   0,   0,   0,   0,   0,   0,   0,   0,   0,   0,   0,\n",
       "         0,   0,   0,   0,   0,   0,   0,   0,   0,   0,   0,   0,   0,\n",
       "         0,   0,   0,   0,   0,   0,   0,   0,   0,   0,   0,   0,   0,\n",
       "         0,   0,   0,   0,   0,   0,   0,   0,   0,   0,   0,   0,   0,\n",
       "         0,   0,   0,   0,   0,   0,   0,   0,   0,   0,   0,   0,   0,\n",
       "         0,   0,   0,   0,   0,   0,   0,   0,   0,   0,   0,   0,   0,\n",
       "         0,   0,   0,   0,   0,   0,   0,   0,   0,   0,   0,   0,   0,\n",
       "         0,   0,   0,   0,   0,   0,   0,   0,   0,   3,  18,  18,  18,\n",
       "       126, 136, 175,  26, 166, 255, 247, 127,   0,   0,   0,   0,   0,\n",
       "         0,   0,   0,   0,   0,   0,   0,  30,  36,  94, 154, 170, 253,\n",
       "       253, 253, 253, 253, 225, 172, 253, 242, 195,  64,   0,   0,   0,\n",
       "         0,   0,   0,   0,   0,   0,   0,   0,  49, 238, 253, 253, 253,\n",
       "       253, 253, 253, 253, 253, 251,  93,  82,  82,  56,  39,   0,   0,\n",
       "         0,   0,   0,   0,   0,   0,   0,   0,   0,   0,  18, 219, 253,\n",
       "       253, 253, 253, 253, 198, 182, 247, 241,   0,   0,   0,   0,   0,\n",
       "         0,   0,   0,   0,   0,   0,   0,   0,   0,   0,   0,   0,   0,\n",
       "        80, 156, 107, 253, 253, 205,  11,   0,  43, 154,   0,   0,   0,\n",
       "         0,   0,   0,   0,   0,   0,   0,   0,   0,   0,   0,   0,   0,\n",
       "         0,   0,   0,  14,   1, 154, 253,  90,   0,   0,   0,   0,   0,\n",
       "         0,   0,   0,   0,   0,   0,   0,   0,   0,   0,   0,   0,   0,\n",
       "         0,   0,   0,   0,   0,   0,   0, 139, 253, 190,   2,   0,   0,\n",
       "         0,   0,   0,   0,   0,   0,   0,   0,   0,   0,   0,   0,   0,\n",
       "         0,   0,   0,   0,   0,   0,   0,   0,   0,  11, 190, 253,  70,\n",
       "         0,   0,   0,   0,   0,   0,   0,   0,   0,   0,   0,   0,   0,\n",
       "         0,   0,   0,   0,   0,   0,   0,   0,   0,   0,   0,   0,  35,\n",
       "       241, 225, 160, 108,   1,   0,   0,   0,   0,   0,   0,   0,   0,\n",
       "         0,   0,   0,   0,   0,   0,   0,   0,   0,   0,   0,   0,   0,\n",
       "         0,   0,  81, 240, 253, 253, 119,  25,   0,   0,   0,   0,   0,\n",
       "         0,   0,   0,   0,   0,   0,   0,   0,   0,   0,   0,   0,   0,\n",
       "         0,   0,   0,   0,   0,  45, 186, 253, 253, 150,  27,   0,   0,\n",
       "         0,   0,   0,   0,   0,   0,   0,   0,   0,   0,   0,   0,   0,\n",
       "         0,   0,   0,   0,   0,   0,   0,   0,  16,  93, 252, 253, 187,\n",
       "         0,   0,   0,   0,   0,   0,   0,   0,   0,   0,   0,   0,   0,\n",
       "         0,   0,   0,   0,   0,   0,   0,   0,   0,   0,   0,   0, 249,\n",
       "       253, 249,  64,   0,   0,   0,   0,   0,   0,   0,   0,   0,   0,\n",
       "         0,   0,   0,   0,   0,   0,   0,   0,   0,   0,   0,  46, 130,\n",
       "       183, 253, 253, 207,   2,   0,   0,   0,   0,   0,   0,   0,   0,\n",
       "         0,   0,   0,   0,   0,   0,   0,   0,   0,   0,   0,  39, 148,\n",
       "       229, 253, 253, 253, 250, 182,   0,   0,   0,   0,   0,   0,   0,\n",
       "         0,   0,   0,   0,   0,   0,   0,   0,   0,   0,   0,  24, 114,\n",
       "       221, 253, 253, 253, 253, 201,  78,   0,   0,   0,   0,   0,   0,\n",
       "         0,   0,   0,   0,   0,   0,   0,   0,   0,   0,   0,  23,  66,\n",
       "       213, 253, 253, 253, 253, 198,  81,   2,   0,   0,   0,   0,   0,\n",
       "         0,   0,   0,   0,   0,   0,   0,   0,   0,   0,   0,  18, 171,\n",
       "       219, 253, 253, 253, 253, 195,  80,   9,   0,   0,   0,   0,   0,\n",
       "         0,   0,   0,   0,   0,   0,   0,   0,   0,   0,   0,  55, 172,\n",
       "       226, 253, 253, 253, 253, 244, 133,  11,   0,   0,   0,   0,   0,\n",
       "         0,   0,   0,   0,   0,   0,   0,   0,   0,   0,   0,   0,   0,\n",
       "       136, 253, 253, 253, 212, 135, 132,  16,   0,   0,   0,   0,   0,\n",
       "         0,   0,   0,   0,   0,   0,   0,   0,   0,   0,   0,   0,   0,\n",
       "         0,   0,   0,   0,   0,   0,   0,   0,   0,   0,   0,   0,   0,\n",
       "         0,   0,   0,   0,   0,   0,   0,   0,   0,   0,   0,   0,   0,\n",
       "         0,   0,   0,   0,   0,   0,   0,   0,   0,   0,   0,   0,   0,\n",
       "         0,   0,   0,   0,   0,   0,   0,   0,   0,   0,   0,   0,   0,\n",
       "         0,   0,   0,   0,   0,   0,   0,   0,   0,   0,   0,   0,   0,\n",
       "         0,   0,   0,   0,   0,   0,   0,   0,   0,   0,   0,   0,   0,\n",
       "         0,   0,   0,   0,   1])"
      ]
     },
     "execution_count": 29,
     "metadata": {},
     "output_type": "execute_result"
    }
   ],
   "source": [
    "v_mit_bias_input"
   ]
  },
  {
   "cell_type": "markdown",
   "metadata": {},
   "source": [
    "## Erzeugen einer Gewichtsmatrix"
   ]
  },
  {
   "cell_type": "code",
   "execution_count": 30,
   "metadata": {},
   "outputs": [],
   "source": [
    "nr_inputs = 28**2 + 1"
   ]
  },
  {
   "cell_type": "code",
   "execution_count": 31,
   "metadata": {},
   "outputs": [
    {
     "data": {
      "text/plain": [
       "785"
      ]
     },
     "execution_count": 31,
     "metadata": {},
     "output_type": "execute_result"
    }
   ],
   "source": [
    "nr_inputs"
   ]
  },
  {
   "cell_type": "code",
   "execution_count": 32,
   "metadata": {},
   "outputs": [],
   "source": [
    "nr_outputs = 10"
   ]
  },
  {
   "cell_type": "code",
   "execution_count": 33,
   "metadata": {},
   "outputs": [],
   "source": [
    "W = np.zeros( (nr_inputs, nr_outputs) )"
   ]
  },
  {
   "cell_type": "code",
   "execution_count": 34,
   "metadata": {},
   "outputs": [
    {
     "data": {
      "text/plain": [
       "(785, 10)"
      ]
     },
     "execution_count": 34,
     "metadata": {},
     "output_type": "execute_result"
    }
   ],
   "source": [
    "W.shape"
   ]
  },
  {
   "cell_type": "code",
   "execution_count": 35,
   "metadata": {},
   "outputs": [
    {
     "data": {
      "text/plain": [
       "array([[0., 0., 0., ..., 0., 0., 0.],\n",
       "       [0., 0., 0., ..., 0., 0., 0.],\n",
       "       [0., 0., 0., ..., 0., 0., 0.],\n",
       "       ...,\n",
       "       [0., 0., 0., ..., 0., 0., 0.],\n",
       "       [0., 0., 0., ..., 0., 0., 0.],\n",
       "       [0., 0., 0., ..., 0., 0., 0.]])"
      ]
     },
     "execution_count": 35,
     "metadata": {},
     "output_type": "execute_result"
    }
   ],
   "source": [
    "W"
   ]
  },
  {
   "cell_type": "code",
   "execution_count": 36,
   "metadata": {},
   "outputs": [],
   "source": [
    "low = -0.1\n",
    "high = +0.1\n",
    "W = np.random.uniform( low, high, (nr_inputs, nr_outputs) )"
   ]
  },
  {
   "cell_type": "code",
   "execution_count": 37,
   "metadata": {},
   "outputs": [
    {
     "data": {
      "text/plain": [
       "(785, 10)"
      ]
     },
     "execution_count": 37,
     "metadata": {},
     "output_type": "execute_result"
    }
   ],
   "source": [
    "W.shape"
   ]
  },
  {
   "cell_type": "code",
   "execution_count": 38,
   "metadata": {},
   "outputs": [
    {
     "data": {
      "text/plain": [
       "array([[ 0.09784852, -0.05157153,  0.00506902, ...,  0.03584121,\n",
       "         0.02745471, -0.0261944 ],\n",
       "       [-0.09744854,  0.0989661 , -0.08275567, ...,  0.01155001,\n",
       "        -0.00708913, -0.039724  ],\n",
       "       [ 0.02329293, -0.04553588, -0.02267628, ..., -0.05867895,\n",
       "        -0.02709333, -0.06053824],\n",
       "       ...,\n",
       "       [-0.09480801,  0.03062377,  0.08973908, ..., -0.01798253,\n",
       "         0.09195034, -0.05388481],\n",
       "       [-0.0071962 ,  0.05926712, -0.0415396 , ..., -0.0088462 ,\n",
       "         0.08035904,  0.00745261],\n",
       "       [ 0.03876029,  0.02990874, -0.08156258, ..., -0.05564627,\n",
       "         0.07828029, -0.08651757]])"
      ]
     },
     "execution_count": 38,
     "metadata": {},
     "output_type": "execute_result"
    }
   ],
   "source": [
    "W"
   ]
  },
  {
   "cell_type": "markdown",
   "metadata": {},
   "source": [
    "## Berechnung des Aktivierungsvektors"
   ]
  },
  {
   "cell_type": "code",
   "execution_count": 39,
   "metadata": {},
   "outputs": [
    {
     "data": {
      "text/plain": [
       "(785,)"
      ]
     },
     "execution_count": 39,
     "metadata": {},
     "output_type": "execute_result"
    }
   ],
   "source": [
    "v_mit_bias_input.shape"
   ]
  },
  {
   "cell_type": "code",
   "execution_count": 40,
   "metadata": {},
   "outputs": [],
   "source": [
    "inp_matrix = v_mit_bias_input.reshape(1,785)"
   ]
  },
  {
   "cell_type": "code",
   "execution_count": 41,
   "metadata": {},
   "outputs": [
    {
     "data": {
      "text/plain": [
       "2"
      ]
     },
     "execution_count": 41,
     "metadata": {},
     "output_type": "execute_result"
    }
   ],
   "source": [
    "inp_matrix.ndim"
   ]
  },
  {
   "cell_type": "code",
   "execution_count": 42,
   "metadata": {},
   "outputs": [
    {
     "data": {
      "text/plain": [
       "(1, 785)"
      ]
     },
     "execution_count": 42,
     "metadata": {},
     "output_type": "execute_result"
    }
   ],
   "source": [
    "inp_matrix.shape"
   ]
  },
  {
   "cell_type": "code",
   "execution_count": 43,
   "metadata": {},
   "outputs": [
    {
     "data": {
      "text/plain": [
       "(785, 10)"
      ]
     },
     "execution_count": 43,
     "metadata": {},
     "output_type": "execute_result"
    }
   ],
   "source": [
    "W.shape"
   ]
  },
  {
   "cell_type": "code",
   "execution_count": 44,
   "metadata": {},
   "outputs": [],
   "source": [
    "act = np.matmul(inp_matrix, W)"
   ]
  },
  {
   "cell_type": "code",
   "execution_count": 45,
   "metadata": {},
   "outputs": [
    {
     "data": {
      "text/plain": [
       "(1, 10)"
      ]
     },
     "execution_count": 45,
     "metadata": {},
     "output_type": "execute_result"
    }
   ],
   "source": [
    "act.shape"
   ]
  },
  {
   "cell_type": "code",
   "execution_count": 46,
   "metadata": {},
   "outputs": [
    {
     "data": {
      "text/plain": [
       "array([[ -97.33097323,  -40.19412801,  146.02770122,  479.51522922,\n",
       "           1.43427908, -197.09001454,  225.32965065,  262.34830578,\n",
       "          85.20388598,  -81.9295651 ]])"
      ]
     },
     "execution_count": 46,
     "metadata": {},
     "output_type": "execute_result"
    }
   ],
   "source": [
    "act"
   ]
  },
  {
   "cell_type": "markdown",
   "metadata": {},
   "source": [
    "## Berechnung des Outputvektors"
   ]
  },
  {
   "cell_type": "code",
   "execution_count": 47,
   "metadata": {},
   "outputs": [],
   "source": [
    "def RELU(x):\n",
    "    if x < 0:\n",
    "        return 0\n",
    "    else:\n",
    "        return x"
   ]
  },
  {
   "cell_type": "code",
   "execution_count": 48,
   "metadata": {},
   "outputs": [
    {
     "data": {
      "text/plain": [
       "0"
      ]
     },
     "execution_count": 48,
     "metadata": {},
     "output_type": "execute_result"
    }
   ],
   "source": [
    "RELU(-0.5)"
   ]
  },
  {
   "cell_type": "code",
   "execution_count": 49,
   "metadata": {},
   "outputs": [
    {
     "data": {
      "text/plain": [
       "2.4"
      ]
     },
     "execution_count": 49,
     "metadata": {},
     "output_type": "execute_result"
    }
   ],
   "source": [
    "RELU(2.4)"
   ]
  },
  {
   "cell_type": "code",
   "execution_count": 50,
   "metadata": {},
   "outputs": [
    {
     "data": {
      "text/plain": [
       "numpy.ndarray"
      ]
     },
     "execution_count": 50,
     "metadata": {},
     "output_type": "execute_result"
    }
   ],
   "source": [
    "type(act)"
   ]
  },
  {
   "cell_type": "code",
   "execution_count": 51,
   "metadata": {},
   "outputs": [
    {
     "data": {
      "text/plain": [
       "(1, 10)"
      ]
     },
     "execution_count": 51,
     "metadata": {},
     "output_type": "execute_result"
    }
   ],
   "source": [
    "act.shape"
   ]
  },
  {
   "cell_type": "code",
   "execution_count": 52,
   "metadata": {},
   "outputs": [],
   "source": [
    "# RELU(act)"
   ]
  },
  {
   "cell_type": "code",
   "execution_count": 53,
   "metadata": {},
   "outputs": [],
   "source": [
    "RELU_vecfunc = np.vectorize(RELU, otypes=[float] )"
   ]
  },
  {
   "cell_type": "code",
   "execution_count": 54,
   "metadata": {},
   "outputs": [],
   "source": [
    "out = RELU_vecfunc(act)"
   ]
  },
  {
   "cell_type": "code",
   "execution_count": 55,
   "metadata": {},
   "outputs": [
    {
     "data": {
      "text/plain": [
       "array([[  0.        ,   0.        , 146.02770122, 479.51522922,\n",
       "          1.43427908,   0.        , 225.32965065, 262.34830578,\n",
       "         85.20388598,   0.        ]])"
      ]
     },
     "execution_count": 55,
     "metadata": {},
     "output_type": "execute_result"
    }
   ],
   "source": [
    "out"
   ]
  },
  {
   "cell_type": "code",
   "execution_count": 56,
   "metadata": {},
   "outputs": [
    {
     "data": {
      "text/plain": [
       "array([[ -97.33097323,  -40.19412801,  146.02770122,  479.51522922,\n",
       "           1.43427908, -197.09001454,  225.32965065,  262.34830578,\n",
       "          85.20388598,  -81.9295651 ]])"
      ]
     },
     "execution_count": 56,
     "metadata": {},
     "output_type": "execute_result"
    }
   ],
   "source": [
    "act"
   ]
  },
  {
   "cell_type": "markdown",
   "metadata": {},
   "source": [
    "## Berechnung des Fehlervektors"
   ]
  },
  {
   "cell_type": "code",
   "execution_count": 57,
   "metadata": {},
   "outputs": [
    {
     "data": {
      "text/plain": [
       "array([[  0.        ,   0.        , 146.02770122, 479.51522922,\n",
       "          1.43427908,   0.        , 225.32965065, 262.34830578,\n",
       "         85.20388598,   0.        ]])"
      ]
     },
     "execution_count": 57,
     "metadata": {},
     "output_type": "execute_result"
    }
   ],
   "source": [
    "out"
   ]
  },
  {
   "cell_type": "code",
   "execution_count": 58,
   "metadata": {},
   "outputs": [
    {
     "data": {
      "text/plain": [
       "(1, 10)"
      ]
     },
     "execution_count": 58,
     "metadata": {},
     "output_type": "execute_result"
    }
   ],
   "source": [
    "out.shape"
   ]
  },
  {
   "cell_type": "code",
   "execution_count": 59,
   "metadata": {},
   "outputs": [],
   "source": [
    "out1D = out.reshape(-1)"
   ]
  },
  {
   "cell_type": "code",
   "execution_count": 60,
   "metadata": {},
   "outputs": [
    {
     "data": {
      "text/plain": [
       "array([  0.        ,   0.        , 146.02770122, 479.51522922,\n",
       "         1.43427908,   0.        , 225.32965065, 262.34830578,\n",
       "        85.20388598,   0.        ])"
      ]
     },
     "execution_count": 60,
     "metadata": {},
     "output_type": "execute_result"
    }
   ],
   "source": [
    "out1D"
   ]
  },
  {
   "cell_type": "code",
   "execution_count": 61,
   "metadata": {},
   "outputs": [
    {
     "data": {
      "text/plain": [
       "(10,)"
      ]
     },
     "execution_count": 61,
     "metadata": {},
     "output_type": "execute_result"
    }
   ],
   "source": [
    "out1D.shape"
   ]
  },
  {
   "cell_type": "code",
   "execution_count": 62,
   "metadata": {},
   "outputs": [],
   "source": [
    "target_vector = one_hot_kodierung[0,:]"
   ]
  },
  {
   "cell_type": "code",
   "execution_count": 63,
   "metadata": {},
   "outputs": [
    {
     "data": {
      "text/plain": [
       "(10,)"
      ]
     },
     "execution_count": 63,
     "metadata": {},
     "output_type": "execute_result"
    }
   ],
   "source": [
    "target_vector.shape"
   ]
  },
  {
   "cell_type": "code",
   "execution_count": 64,
   "metadata": {},
   "outputs": [
    {
     "data": {
      "text/plain": [
       "array([0., 0., 0., 0., 0., 1., 0., 0., 0., 0.])"
      ]
     },
     "execution_count": 64,
     "metadata": {},
     "output_type": "execute_result"
    }
   ],
   "source": [
    "target_vector"
   ]
  },
  {
   "cell_type": "code",
   "execution_count": 65,
   "metadata": {},
   "outputs": [],
   "source": [
    "error_vector = target_vector - out1D"
   ]
  },
  {
   "cell_type": "code",
   "execution_count": 66,
   "metadata": {},
   "outputs": [
    {
     "data": {
      "text/plain": [
       "array([   0.        ,    0.        , -146.02770122, -479.51522922,\n",
       "         -1.43427908,    1.        , -225.32965065, -262.34830578,\n",
       "        -85.20388598,    0.        ])"
      ]
     },
     "execution_count": 66,
     "metadata": {},
     "output_type": "execute_result"
    }
   ],
   "source": [
    "error_vector"
   ]
  },
  {
   "cell_type": "markdown",
   "metadata": {},
   "source": [
    "## Berechnung aller Gewichtsänderungen"
   ]
  },
  {
   "cell_type": "code",
   "execution_count": 67,
   "metadata": {},
   "outputs": [
    {
     "data": {
      "text/plain": [
       "10"
      ]
     },
     "execution_count": 67,
     "metadata": {},
     "output_type": "execute_result"
    }
   ],
   "source": [
    "nr_outputs"
   ]
  },
  {
   "cell_type": "code",
   "execution_count": 68,
   "metadata": {},
   "outputs": [
    {
     "data": {
      "text/plain": [
       "785"
      ]
     },
     "execution_count": 68,
     "metadata": {},
     "output_type": "execute_result"
    }
   ],
   "source": [
    "nr_inputs"
   ]
  },
  {
   "cell_type": "code",
   "execution_count": 69,
   "metadata": {},
   "outputs": [
    {
     "data": {
      "text/plain": [
       "(785,)"
      ]
     },
     "execution_count": 69,
     "metadata": {},
     "output_type": "execute_result"
    }
   ],
   "source": [
    "v_mit_bias_input.shape"
   ]
  },
  {
   "cell_type": "code",
   "execution_count": 70,
   "metadata": {},
   "outputs": [],
   "source": [
    "alpha = 0.001\n",
    "\n",
    "for out_neuron_nr in range(0,nr_outputs):\n",
    "    for inp_nr in range(0,nr_inputs):\n",
    "        weight = W[inp_nr, out_neuron_nr]\n",
    "        \n",
    "        # Compute weight change for the current weight\n",
    "        # based on the Perceptron Learning Rule\n",
    "        delta_weight = v_mit_bias_input[inp_nr] * error_vector[out_neuron_nr] * alpha\n",
    "        \n",
    "        # Learning happens here!\n",
    "        W[inp_nr, out_neuron_nr] += delta_weight        "
   ]
  },
  {
   "cell_type": "markdown",
   "metadata": {},
   "source": [
    "# Einzelteile zusammensetzen zu einem Programm"
   ]
  },
  {
   "cell_type": "code",
   "execution_count": 71,
   "metadata": {
    "scrolled": true
   },
   "outputs": [],
   "source": [
    "import tensorflow as tf\n",
    "import numpy as np\n",
    "import random\n",
    "from sklearn.preprocessing import OneHotEncoder\n",
    "\n",
    "\n",
    "def one_hot(labels):\n",
    "    enc = OneHotEncoder()\n",
    "    enc.fit(labels.reshape(-1,1))\n",
    "    one_hot_kodierung = enc.transform(labels.reshape(-1,1)).toarray()\n",
    "    return one_hot_kodierung\n",
    "\n",
    "\n",
    "def act_func_relu_scalar(x):\n",
    "    if x < 0:\n",
    "        return 0\n",
    "    else:\n",
    "        return x\n",
    "    \n",
    "act_func_relu_vector = np.vectorize(act_func_relu_scalar, otypes=[float] )\n",
    "\n",
    "\n",
    "def preprocess_data(M):\n",
    "    M = M.astype(float)\n",
    "    M = M * (1.0/255.0)\n",
    "    return M    \n",
    "\n",
    "\n",
    "def prepare_data():\n",
    "    \n",
    "    # 1. load MNIST data\n",
    "    mnist_dataset = tf.keras.datasets.mnist\n",
    "    (x_train, y_train), (x_test, y_test) = mnist_dataset.load_data()\n",
    "    \n",
    "    # 2. map image pixel values from [0,255] to [0,1]\n",
    "    x_train = preprocess_data(x_train)\n",
    "    x_test  = preprocess_data(x_test)\n",
    "        \n",
    "    # 3. map train data target labels to one-hot encoded vectors\n",
    "    y_train_onehot = one_hot(y_train)\n",
    "    \n",
    "    # 4. map test data target labels to one-hot encoded vectors\n",
    "    y_test_onehot = one_hot(y_test)\n",
    "    \n",
    "    return x_train, y_train_onehot, \\\n",
    "           x_test,  y_test_onehot\n",
    "\n",
    "\n",
    "def perceptron_predict(image,W):\n",
    "        \n",
    "    # 1. transform 2D input image (28x28 pixel) to 1D vector\n",
    "    v = image.reshape(-1)\n",
    "    \n",
    "    # 2. add bias input to input vector v\n",
    "    v_mit_bias_input = np.append(v, [1])\n",
    "    \n",
    "    # 3. compute activations of all <nr_outputs> output neurons\n",
    "    act = np.matmul(v_mit_bias_input, W)\n",
    "        \n",
    "    # 4. compute output vector given activation vector\n",
    "    out = act_func_relu_vector(act)\n",
    "    \n",
    "    return v_mit_bias_input, out\n",
    "    \n",
    "    \n",
    "\n",
    "def preceptron_train(v_with_add_bias_input,y,t,W):\n",
    "    \n",
    "    # 1. compute error for each of the output neurons\n",
    "    error_vector = t - y\n",
    "    \n",
    "    # 2. define learning rate\n",
    "    alpha = 0.001\n",
    "    \n",
    "    # 3. for all output neurons ...\n",
    "    for out_neuron_nr in range(0,nr_outputs):\n",
    "        \n",
    "        # for all inputs of that output neuron ...\n",
    "        for inp_nr in range(0,nr_inputs):\n",
    "            \n",
    "            # compute weight change for the current weight\n",
    "            # based on the Perceptron learning rule\n",
    "            delta_weight = v_with_add_bias_input[inp_nr] *  \\\n",
    "                           error_vector[out_neuron_nr] *    \\\n",
    "                           alpha\n",
    "\n",
    "            # Learning happens here!\n",
    "            W[inp_nr, out_neuron_nr] += delta_weight\n",
    "\n",
    "            \n",
    "            \n",
    "def perceptron_test(x_test, y_test, W):\n",
    "    \n",
    "    nr_test_samples = x_test.shape[0]\n",
    "    \n",
    "    correct = 0\n",
    "    for sample_id in range(0,nr_test_samples):\n",
    "\n",
    "        # get next test sample\n",
    "        image       = x_test[sample_id]\n",
    "        teacher_vec = y_test[sample_id]\n",
    "        \n",
    "        # compute prediction vector\n",
    "        _, pred_vec = perceptron_predict(image,W)\n",
    "        \n",
    "        # compute predicted label\n",
    "        pred_label = np.argmax(pred_vec)\n",
    "        \n",
    "        # get actual label\n",
    "        gt_label = np.argmax(teacher_vec)\n",
    "        \n",
    "        #print(\"pred: {0} vs. gt: {1}\".format(pred_label, gt_label))\n",
    "        \n",
    "        # was the predicted label correct?\n",
    "        if pred_label == gt_label:\n",
    "            correct += 1\n",
    "            \n",
    "    acc = correct/nr_test_samples\n",
    "    return acc"
   ]
  },
  {
   "cell_type": "markdown",
   "metadata": {},
   "source": [
    "# Trainieren des Perzeptrons"
   ]
  },
  {
   "cell_type": "code",
   "execution_count": 72,
   "metadata": {},
   "outputs": [
    {
     "name": "stdout",
     "output_type": "stream",
     "text": [
      "train step: 0 --> test data set accuracy: 0.125\n",
      "train step: 100 --> test data set accuracy: 0.120\n",
      "train step: 200 --> test data set accuracy: 0.125\n",
      "train step: 300 --> test data set accuracy: 0.126\n",
      "train step: 400 --> test data set accuracy: 0.129\n",
      "train step: 500 --> test data set accuracy: 0.132\n",
      "train step: 600 --> test data set accuracy: 0.137\n",
      "train step: 700 --> test data set accuracy: 0.140\n",
      "train step: 800 --> test data set accuracy: 0.140\n",
      "train step: 900 --> test data set accuracy: 0.143\n",
      "train step: 1000 --> test data set accuracy: 0.149\n",
      "train step: 1100 --> test data set accuracy: 0.152\n",
      "train step: 1200 --> test data set accuracy: 0.155\n",
      "train step: 1300 --> test data set accuracy: 0.162\n",
      "train step: 1400 --> test data set accuracy: 0.163\n",
      "train step: 1500 --> test data set accuracy: 0.168\n",
      "train step: 1600 --> test data set accuracy: 0.169\n",
      "train step: 1700 --> test data set accuracy: 0.171\n",
      "train step: 1800 --> test data set accuracy: 0.178\n",
      "train step: 1900 --> test data set accuracy: 0.180\n",
      "train step: 2000 --> test data set accuracy: 0.180\n",
      "train step: 2100 --> test data set accuracy: 0.186\n",
      "train step: 2200 --> test data set accuracy: 0.190\n",
      "train step: 2300 --> test data set accuracy: 0.199\n",
      "train step: 2400 --> test data set accuracy: 0.203\n",
      "train step: 2500 --> test data set accuracy: 0.205\n",
      "train step: 2600 --> test data set accuracy: 0.209\n",
      "train step: 2700 --> test data set accuracy: 0.207\n",
      "train step: 2800 --> test data set accuracy: 0.206\n",
      "train step: 2900 --> test data set accuracy: 0.212\n",
      "train step: 3000 --> test data set accuracy: 0.209\n",
      "train step: 3100 --> test data set accuracy: 0.217\n",
      "train step: 3200 --> test data set accuracy: 0.224\n",
      "train step: 3300 --> test data set accuracy: 0.235\n",
      "train step: 3400 --> test data set accuracy: 0.241\n",
      "train step: 3500 --> test data set accuracy: 0.245\n",
      "train step: 3600 --> test data set accuracy: 0.243\n",
      "train step: 3700 --> test data set accuracy: 0.247\n",
      "train step: 3800 --> test data set accuracy: 0.254\n",
      "train step: 3900 --> test data set accuracy: 0.254\n",
      "train step: 4000 --> test data set accuracy: 0.252\n",
      "train step: 4100 --> test data set accuracy: 0.260\n",
      "train step: 4200 --> test data set accuracy: 0.268\n",
      "train step: 4300 --> test data set accuracy: 0.272\n",
      "train step: 4400 --> test data set accuracy: 0.278\n",
      "train step: 4500 --> test data set accuracy: 0.282\n",
      "train step: 4600 --> test data set accuracy: 0.287\n",
      "train step: 4700 --> test data set accuracy: 0.284\n",
      "train step: 4800 --> test data set accuracy: 0.293\n",
      "train step: 4900 --> test data set accuracy: 0.298\n",
      "train step: 5000 --> test data set accuracy: 0.294\n",
      "train step: 5100 --> test data set accuracy: 0.293\n",
      "train step: 5200 --> test data set accuracy: 0.304\n",
      "train step: 5300 --> test data set accuracy: 0.306\n",
      "train step: 5400 --> test data set accuracy: 0.304\n",
      "train step: 5500 --> test data set accuracy: 0.310\n",
      "train step: 5600 --> test data set accuracy: 0.317\n",
      "train step: 5700 --> test data set accuracy: 0.321\n",
      "train step: 5800 --> test data set accuracy: 0.320\n",
      "train step: 5900 --> test data set accuracy: 0.322\n",
      "train step: 6000 --> test data set accuracy: 0.322\n",
      "train step: 6100 --> test data set accuracy: 0.321\n",
      "train step: 6200 --> test data set accuracy: 0.324\n",
      "train step: 6300 --> test data set accuracy: 0.332\n",
      "train step: 6400 --> test data set accuracy: 0.334\n",
      "train step: 6500 --> test data set accuracy: 0.335\n",
      "train step: 6600 --> test data set accuracy: 0.334\n",
      "train step: 6700 --> test data set accuracy: 0.341\n",
      "train step: 6800 --> test data set accuracy: 0.340\n",
      "train step: 6900 --> test data set accuracy: 0.341\n",
      "train step: 7000 --> test data set accuracy: 0.351\n",
      "train step: 7100 --> test data set accuracy: 0.351\n",
      "train step: 7200 --> test data set accuracy: 0.350\n",
      "train step: 7300 --> test data set accuracy: 0.352\n",
      "train step: 7400 --> test data set accuracy: 0.361\n",
      "train step: 7500 --> test data set accuracy: 0.364\n",
      "train step: 7600 --> test data set accuracy: 0.363\n",
      "train step: 7700 --> test data set accuracy: 0.361\n",
      "train step: 7800 --> test data set accuracy: 0.357\n",
      "train step: 7900 --> test data set accuracy: 0.366\n",
      "train step: 8000 --> test data set accuracy: 0.371\n",
      "train step: 8100 --> test data set accuracy: 0.377\n",
      "train step: 8200 --> test data set accuracy: 0.379\n",
      "train step: 8300 --> test data set accuracy: 0.378\n",
      "train step: 8400 --> test data set accuracy: 0.384\n",
      "train step: 8500 --> test data set accuracy: 0.390\n",
      "train step: 8600 --> test data set accuracy: 0.388\n",
      "train step: 8700 --> test data set accuracy: 0.387\n",
      "train step: 8800 --> test data set accuracy: 0.378\n",
      "train step: 8900 --> test data set accuracy: 0.368\n",
      "train step: 9000 --> test data set accuracy: 0.375\n",
      "train step: 9100 --> test data set accuracy: 0.379\n",
      "train step: 9200 --> test data set accuracy: 0.382\n",
      "train step: 9300 --> test data set accuracy: 0.379\n",
      "train step: 9400 --> test data set accuracy: 0.377\n",
      "train step: 9500 --> test data set accuracy: 0.380\n",
      "train step: 9600 --> test data set accuracy: 0.382\n",
      "train step: 9700 --> test data set accuracy: 0.378\n",
      "train step: 9800 --> test data set accuracy: 0.389\n",
      "train step: 9900 --> test data set accuracy: 0.394\n",
      "train step: 10000 --> test data set accuracy: 0.399\n",
      "train step: 10100 --> test data set accuracy: 0.403\n",
      "train step: 10200 --> test data set accuracy: 0.406\n",
      "train step: 10300 --> test data set accuracy: 0.413\n",
      "train step: 10400 --> test data set accuracy: 0.406\n",
      "train step: 10500 --> test data set accuracy: 0.401\n",
      "train step: 10600 --> test data set accuracy: 0.407\n",
      "train step: 10700 --> test data set accuracy: 0.412\n",
      "train step: 10800 --> test data set accuracy: 0.423\n",
      "train step: 10900 --> test data set accuracy: 0.415\n",
      "train step: 11000 --> test data set accuracy: 0.411\n",
      "train step: 11100 --> test data set accuracy: 0.410\n",
      "train step: 11200 --> test data set accuracy: 0.404\n",
      "train step: 11300 --> test data set accuracy: 0.402\n",
      "train step: 11400 --> test data set accuracy: 0.406\n",
      "train step: 11500 --> test data set accuracy: 0.420\n",
      "train step: 11600 --> test data set accuracy: 0.419\n",
      "train step: 11700 --> test data set accuracy: 0.423\n",
      "train step: 11800 --> test data set accuracy: 0.426\n",
      "train step: 11900 --> test data set accuracy: 0.426\n",
      "train step: 12000 --> test data set accuracy: 0.432\n",
      "train step: 12100 --> test data set accuracy: 0.423\n",
      "train step: 12200 --> test data set accuracy: 0.417\n",
      "train step: 12300 --> test data set accuracy: 0.416\n",
      "train step: 12400 --> test data set accuracy: 0.421\n",
      "train step: 12500 --> test data set accuracy: 0.422\n",
      "train step: 12600 --> test data set accuracy: 0.406\n",
      "train step: 12700 --> test data set accuracy: 0.412\n",
      "train step: 12800 --> test data set accuracy: 0.407\n",
      "train step: 12900 --> test data set accuracy: 0.417\n",
      "train step: 13000 --> test data set accuracy: 0.424\n",
      "train step: 13100 --> test data set accuracy: 0.431\n",
      "train step: 13200 --> test data set accuracy: 0.427\n",
      "train step: 13300 --> test data set accuracy: 0.434\n",
      "train step: 13400 --> test data set accuracy: 0.429\n",
      "train step: 13500 --> test data set accuracy: 0.426\n",
      "train step: 13600 --> test data set accuracy: 0.424\n",
      "train step: 13700 --> test data set accuracy: 0.426\n",
      "train step: 13800 --> test data set accuracy: 0.437\n",
      "train step: 13900 --> test data set accuracy: 0.442\n",
      "train step: 14000 --> test data set accuracy: 0.445\n",
      "train step: 14100 --> test data set accuracy: 0.425\n",
      "train step: 14200 --> test data set accuracy: 0.434\n",
      "train step: 14300 --> test data set accuracy: 0.433\n",
      "train step: 14400 --> test data set accuracy: 0.425\n",
      "train step: 14500 --> test data set accuracy: 0.418\n",
      "train step: 14600 --> test data set accuracy: 0.421\n",
      "train step: 14700 --> test data set accuracy: 0.430\n",
      "train step: 14800 --> test data set accuracy: 0.439\n",
      "train step: 14900 --> test data set accuracy: 0.444\n",
      "train step: 15000 --> test data set accuracy: 0.452\n",
      "train step: 15100 --> test data set accuracy: 0.452\n",
      "train step: 15200 --> test data set accuracy: 0.448\n",
      "train step: 15300 --> test data set accuracy: 0.446\n",
      "train step: 15400 --> test data set accuracy: 0.447\n",
      "train step: 15500 --> test data set accuracy: 0.463\n",
      "train step: 15600 --> test data set accuracy: 0.464\n",
      "train step: 15700 --> test data set accuracy: 0.452\n",
      "train step: 15800 --> test data set accuracy: 0.458\n",
      "train step: 15900 --> test data set accuracy: 0.453\n"
     ]
    },
    {
     "name": "stdout",
     "output_type": "stream",
     "text": [
      "train step: 16000 --> test data set accuracy: 0.454\n",
      "train step: 16100 --> test data set accuracy: 0.459\n",
      "train step: 16200 --> test data set accuracy: 0.457\n",
      "train step: 16300 --> test data set accuracy: 0.451\n",
      "train step: 16400 --> test data set accuracy: 0.469\n",
      "train step: 16500 --> test data set accuracy: 0.464\n",
      "train step: 16600 --> test data set accuracy: 0.461\n",
      "train step: 16700 --> test data set accuracy: 0.452\n",
      "train step: 16800 --> test data set accuracy: 0.452\n",
      "train step: 16900 --> test data set accuracy: 0.447\n",
      "train step: 17000 --> test data set accuracy: 0.440\n",
      "train step: 17100 --> test data set accuracy: 0.443\n",
      "train step: 17200 --> test data set accuracy: 0.456\n",
      "train step: 17300 --> test data set accuracy: 0.473\n",
      "train step: 17400 --> test data set accuracy: 0.462\n",
      "train step: 17500 --> test data set accuracy: 0.463\n",
      "train step: 17600 --> test data set accuracy: 0.463\n",
      "train step: 17700 --> test data set accuracy: 0.464\n",
      "train step: 17800 --> test data set accuracy: 0.463\n",
      "train step: 17900 --> test data set accuracy: 0.462\n",
      "train step: 18000 --> test data set accuracy: 0.463\n",
      "train step: 18100 --> test data set accuracy: 0.468\n",
      "train step: 18200 --> test data set accuracy: 0.468\n",
      "train step: 18300 --> test data set accuracy: 0.470\n",
      "train step: 18400 --> test data set accuracy: 0.470\n",
      "train step: 18500 --> test data set accuracy: 0.465\n",
      "train step: 18600 --> test data set accuracy: 0.475\n",
      "train step: 18700 --> test data set accuracy: 0.472\n",
      "train step: 18800 --> test data set accuracy: 0.474\n",
      "train step: 18900 --> test data set accuracy: 0.461\n",
      "train step: 19000 --> test data set accuracy: 0.458\n",
      "train step: 19100 --> test data set accuracy: 0.465\n",
      "train step: 19200 --> test data set accuracy: 0.464\n",
      "train step: 19300 --> test data set accuracy: 0.478\n",
      "train step: 19400 --> test data set accuracy: 0.474\n",
      "train step: 19500 --> test data set accuracy: 0.472\n",
      "train step: 19600 --> test data set accuracy: 0.469\n",
      "train step: 19700 --> test data set accuracy: 0.476\n",
      "train step: 19800 --> test data set accuracy: 0.465\n",
      "train step: 19900 --> test data set accuracy: 0.475\n",
      "train step: 20000 --> test data set accuracy: 0.471\n",
      "train step: 20100 --> test data set accuracy: 0.469\n",
      "train step: 20200 --> test data set accuracy: 0.479\n",
      "train step: 20300 --> test data set accuracy: 0.483\n",
      "train step: 20400 --> test data set accuracy: 0.488\n",
      "train step: 20500 --> test data set accuracy: 0.480\n",
      "train step: 20600 --> test data set accuracy: 0.493\n",
      "train step: 20700 --> test data set accuracy: 0.490\n",
      "train step: 20800 --> test data set accuracy: 0.496\n",
      "train step: 20900 --> test data set accuracy: 0.494\n",
      "train step: 21000 --> test data set accuracy: 0.496\n",
      "train step: 21100 --> test data set accuracy: 0.484\n",
      "train step: 21200 --> test data set accuracy: 0.483\n",
      "train step: 21300 --> test data set accuracy: 0.477\n",
      "train step: 21400 --> test data set accuracy: 0.490\n",
      "train step: 21500 --> test data set accuracy: 0.487\n",
      "train step: 21600 --> test data set accuracy: 0.487\n",
      "train step: 21700 --> test data set accuracy: 0.493\n",
      "train step: 21800 --> test data set accuracy: 0.492\n",
      "train step: 21900 --> test data set accuracy: 0.497\n",
      "train step: 22000 --> test data set accuracy: 0.498\n",
      "train step: 22100 --> test data set accuracy: 0.507\n",
      "train step: 22200 --> test data set accuracy: 0.504\n",
      "train step: 22300 --> test data set accuracy: 0.509\n",
      "train step: 22400 --> test data set accuracy: 0.516\n",
      "train step: 22500 --> test data set accuracy: 0.510\n",
      "train step: 22600 --> test data set accuracy: 0.499\n",
      "train step: 22700 --> test data set accuracy: 0.505\n",
      "train step: 22800 --> test data set accuracy: 0.493\n",
      "train step: 22900 --> test data set accuracy: 0.493\n",
      "train step: 23000 --> test data set accuracy: 0.493\n",
      "train step: 23100 --> test data set accuracy: 0.498\n",
      "train step: 23200 --> test data set accuracy: 0.496\n",
      "train step: 23300 --> test data set accuracy: 0.502\n",
      "train step: 23400 --> test data set accuracy: 0.500\n",
      "train step: 23500 --> test data set accuracy: 0.496\n",
      "train step: 23600 --> test data set accuracy: 0.504\n",
      "train step: 23700 --> test data set accuracy: 0.498\n",
      "train step: 23800 --> test data set accuracy: 0.510\n",
      "train step: 23900 --> test data set accuracy: 0.503\n",
      "train step: 24000 --> test data set accuracy: 0.503\n",
      "train step: 24100 --> test data set accuracy: 0.506\n",
      "train step: 24200 --> test data set accuracy: 0.501\n",
      "train step: 24300 --> test data set accuracy: 0.506\n",
      "train step: 24400 --> test data set accuracy: 0.504\n",
      "train step: 24500 --> test data set accuracy: 0.511\n",
      "train step: 24600 --> test data set accuracy: 0.500\n",
      "train step: 24700 --> test data set accuracy: 0.498\n",
      "train step: 24800 --> test data set accuracy: 0.515\n",
      "train step: 24900 --> test data set accuracy: 0.519\n",
      "train step: 25000 --> test data set accuracy: 0.521\n",
      "train step: 25100 --> test data set accuracy: 0.510\n",
      "train step: 25200 --> test data set accuracy: 0.509\n",
      "train step: 25300 --> test data set accuracy: 0.509\n",
      "train step: 25400 --> test data set accuracy: 0.510\n",
      "train step: 25500 --> test data set accuracy: 0.522\n",
      "train step: 25600 --> test data set accuracy: 0.528\n",
      "train step: 25700 --> test data set accuracy: 0.515\n",
      "train step: 25800 --> test data set accuracy: 0.511\n",
      "train step: 25900 --> test data set accuracy: 0.513\n",
      "train step: 26000 --> test data set accuracy: 0.520\n",
      "train step: 26100 --> test data set accuracy: 0.520\n",
      "train step: 26200 --> test data set accuracy: 0.525\n",
      "train step: 26300 --> test data set accuracy: 0.522\n",
      "train step: 26400 --> test data set accuracy: 0.524\n",
      "train step: 26500 --> test data set accuracy: 0.523\n",
      "train step: 26600 --> test data set accuracy: 0.528\n",
      "train step: 26700 --> test data set accuracy: 0.526\n",
      "train step: 26800 --> test data set accuracy: 0.517\n",
      "train step: 26900 --> test data set accuracy: 0.512\n",
      "train step: 27000 --> test data set accuracy: 0.514\n",
      "train step: 27100 --> test data set accuracy: 0.521\n",
      "train step: 27200 --> test data set accuracy: 0.518\n",
      "train step: 27300 --> test data set accuracy: 0.498\n",
      "train step: 27400 --> test data set accuracy: 0.503\n",
      "train step: 27500 --> test data set accuracy: 0.508\n",
      "train step: 27600 --> test data set accuracy: 0.500\n",
      "train step: 27700 --> test data set accuracy: 0.509\n",
      "train step: 27800 --> test data set accuracy: 0.508\n",
      "train step: 27900 --> test data set accuracy: 0.508\n",
      "train step: 28000 --> test data set accuracy: 0.510\n",
      "train step: 28100 --> test data set accuracy: 0.523\n",
      "train step: 28200 --> test data set accuracy: 0.518\n",
      "train step: 28300 --> test data set accuracy: 0.531\n",
      "train step: 28400 --> test data set accuracy: 0.526\n",
      "train step: 28500 --> test data set accuracy: 0.530\n",
      "train step: 28600 --> test data set accuracy: 0.532\n",
      "train step: 28700 --> test data set accuracy: 0.542\n",
      "train step: 28800 --> test data set accuracy: 0.529\n",
      "train step: 28900 --> test data set accuracy: 0.539\n",
      "train step: 29000 --> test data set accuracy: 0.541\n",
      "train step: 29100 --> test data set accuracy: 0.547\n",
      "train step: 29200 --> test data set accuracy: 0.552\n",
      "train step: 29300 --> test data set accuracy: 0.543\n",
      "train step: 29400 --> test data set accuracy: 0.540\n",
      "train step: 29500 --> test data set accuracy: 0.538\n",
      "train step: 29600 --> test data set accuracy: 0.531\n",
      "train step: 29700 --> test data set accuracy: 0.531\n",
      "train step: 29800 --> test data set accuracy: 0.534\n",
      "train step: 29900 --> test data set accuracy: 0.534\n",
      "train step: 30000 --> test data set accuracy: 0.542\n",
      "train step: 30100 --> test data set accuracy: 0.541\n",
      "train step: 30200 --> test data set accuracy: 0.544\n",
      "train step: 30300 --> test data set accuracy: 0.542\n",
      "train step: 30400 --> test data set accuracy: 0.527\n",
      "train step: 30500 --> test data set accuracy: 0.530\n",
      "train step: 30600 --> test data set accuracy: 0.524\n",
      "train step: 30700 --> test data set accuracy: 0.520\n",
      "train step: 30800 --> test data set accuracy: 0.519\n",
      "train step: 30900 --> test data set accuracy: 0.527\n",
      "train step: 31000 --> test data set accuracy: 0.523\n",
      "train step: 31100 --> test data set accuracy: 0.525\n",
      "train step: 31200 --> test data set accuracy: 0.532\n",
      "train step: 31300 --> test data set accuracy: 0.516\n",
      "train step: 31400 --> test data set accuracy: 0.534\n",
      "train step: 31500 --> test data set accuracy: 0.537\n",
      "train step: 31600 --> test data set accuracy: 0.539\n",
      "train step: 31700 --> test data set accuracy: 0.539\n"
     ]
    },
    {
     "name": "stdout",
     "output_type": "stream",
     "text": [
      "train step: 31800 --> test data set accuracy: 0.532\n",
      "train step: 31900 --> test data set accuracy: 0.544\n",
      "train step: 32000 --> test data set accuracy: 0.536\n",
      "train step: 32100 --> test data set accuracy: 0.537\n",
      "train step: 32200 --> test data set accuracy: 0.550\n",
      "train step: 32300 --> test data set accuracy: 0.550\n",
      "train step: 32400 --> test data set accuracy: 0.549\n",
      "train step: 32500 --> test data set accuracy: 0.541\n",
      "train step: 32600 --> test data set accuracy: 0.533\n",
      "train step: 32700 --> test data set accuracy: 0.536\n",
      "train step: 32800 --> test data set accuracy: 0.537\n",
      "train step: 32900 --> test data set accuracy: 0.545\n",
      "train step: 33000 --> test data set accuracy: 0.551\n",
      "train step: 33100 --> test data set accuracy: 0.556\n",
      "train step: 33200 --> test data set accuracy: 0.553\n",
      "train step: 33300 --> test data set accuracy: 0.549\n",
      "train step: 33400 --> test data set accuracy: 0.547\n",
      "train step: 33500 --> test data set accuracy: 0.547\n",
      "train step: 33600 --> test data set accuracy: 0.552\n",
      "train step: 33700 --> test data set accuracy: 0.552\n",
      "train step: 33800 --> test data set accuracy: 0.543\n",
      "train step: 33900 --> test data set accuracy: 0.544\n",
      "train step: 34000 --> test data set accuracy: 0.562\n",
      "train step: 34100 --> test data set accuracy: 0.555\n",
      "train step: 34200 --> test data set accuracy: 0.571\n",
      "train step: 34300 --> test data set accuracy: 0.572\n",
      "train step: 34400 --> test data set accuracy: 0.573\n",
      "train step: 34500 --> test data set accuracy: 0.561\n",
      "train step: 34600 --> test data set accuracy: 0.552\n",
      "train step: 34700 --> test data set accuracy: 0.555\n",
      "train step: 34800 --> test data set accuracy: 0.564\n",
      "train step: 34900 --> test data set accuracy: 0.567\n",
      "train step: 35000 --> test data set accuracy: 0.566\n",
      "train step: 35100 --> test data set accuracy: 0.559\n",
      "train step: 35200 --> test data set accuracy: 0.563\n",
      "train step: 35300 --> test data set accuracy: 0.566\n",
      "train step: 35400 --> test data set accuracy: 0.562\n",
      "train step: 35500 --> test data set accuracy: 0.567\n",
      "train step: 35600 --> test data set accuracy: 0.568\n",
      "train step: 35700 --> test data set accuracy: 0.545\n",
      "train step: 35800 --> test data set accuracy: 0.544\n",
      "train step: 35900 --> test data set accuracy: 0.552\n",
      "train step: 36000 --> test data set accuracy: 0.561\n",
      "train step: 36100 --> test data set accuracy: 0.558\n",
      "train step: 36200 --> test data set accuracy: 0.539\n",
      "train step: 36300 --> test data set accuracy: 0.542\n",
      "train step: 36400 --> test data set accuracy: 0.556\n",
      "train step: 36500 --> test data set accuracy: 0.550\n",
      "train step: 36600 --> test data set accuracy: 0.548\n",
      "train step: 36700 --> test data set accuracy: 0.542\n",
      "train step: 36800 --> test data set accuracy: 0.530\n",
      "train step: 36900 --> test data set accuracy: 0.518\n",
      "train step: 37000 --> test data set accuracy: 0.522\n",
      "train step: 37100 --> test data set accuracy: 0.529\n",
      "train step: 37200 --> test data set accuracy: 0.541\n",
      "train step: 37300 --> test data set accuracy: 0.549\n",
      "train step: 37400 --> test data set accuracy: 0.556\n",
      "train step: 37500 --> test data set accuracy: 0.553\n",
      "train step: 37600 --> test data set accuracy: 0.560\n",
      "train step: 37700 --> test data set accuracy: 0.558\n",
      "train step: 37800 --> test data set accuracy: 0.555\n",
      "train step: 37900 --> test data set accuracy: 0.565\n",
      "train step: 38000 --> test data set accuracy: 0.565\n",
      "train step: 38100 --> test data set accuracy: 0.568\n",
      "train step: 38200 --> test data set accuracy: 0.557\n",
      "train step: 38300 --> test data set accuracy: 0.562\n",
      "train step: 38400 --> test data set accuracy: 0.556\n",
      "train step: 38500 --> test data set accuracy: 0.553\n",
      "train step: 38600 --> test data set accuracy: 0.555\n",
      "train step: 38700 --> test data set accuracy: 0.555\n",
      "train step: 38800 --> test data set accuracy: 0.544\n",
      "train step: 38900 --> test data set accuracy: 0.541\n",
      "train step: 39000 --> test data set accuracy: 0.557\n",
      "train step: 39100 --> test data set accuracy: 0.561\n",
      "train step: 39200 --> test data set accuracy: 0.561\n",
      "train step: 39300 --> test data set accuracy: 0.561\n",
      "train step: 39400 --> test data set accuracy: 0.555\n",
      "train step: 39500 --> test data set accuracy: 0.558\n",
      "train step: 39600 --> test data set accuracy: 0.562\n",
      "train step: 39700 --> test data set accuracy: 0.559\n",
      "train step: 39800 --> test data set accuracy: 0.552\n",
      "train step: 39900 --> test data set accuracy: 0.559\n",
      "train step: 40000 --> test data set accuracy: 0.571\n",
      "train step: 40100 --> test data set accuracy: 0.568\n",
      "train step: 40200 --> test data set accuracy: 0.567\n",
      "train step: 40300 --> test data set accuracy: 0.569\n",
      "train step: 40400 --> test data set accuracy: 0.563\n",
      "train step: 40500 --> test data set accuracy: 0.566\n",
      "train step: 40600 --> test data set accuracy: 0.565\n",
      "train step: 40700 --> test data set accuracy: 0.561\n",
      "train step: 40800 --> test data set accuracy: 0.568\n",
      "train step: 40900 --> test data set accuracy: 0.576\n",
      "train step: 41000 --> test data set accuracy: 0.568\n",
      "train step: 41100 --> test data set accuracy: 0.568\n",
      "train step: 41200 --> test data set accuracy: 0.569\n",
      "train step: 41300 --> test data set accuracy: 0.559\n",
      "train step: 41400 --> test data set accuracy: 0.565\n",
      "train step: 41500 --> test data set accuracy: 0.575\n",
      "train step: 41600 --> test data set accuracy: 0.576\n",
      "train step: 41700 --> test data set accuracy: 0.560\n",
      "train step: 41800 --> test data set accuracy: 0.562\n",
      "train step: 41900 --> test data set accuracy: 0.545\n",
      "train step: 42000 --> test data set accuracy: 0.558\n",
      "train step: 42100 --> test data set accuracy: 0.550\n",
      "train step: 42200 --> test data set accuracy: 0.557\n",
      "train step: 42300 --> test data set accuracy: 0.554\n",
      "train step: 42400 --> test data set accuracy: 0.553\n",
      "train step: 42500 --> test data set accuracy: 0.557\n",
      "train step: 42600 --> test data set accuracy: 0.556\n",
      "train step: 42700 --> test data set accuracy: 0.544\n",
      "train step: 42800 --> test data set accuracy: 0.562\n",
      "train step: 42900 --> test data set accuracy: 0.568\n",
      "train step: 43000 --> test data set accuracy: 0.584\n",
      "train step: 43100 --> test data set accuracy: 0.582\n",
      "train step: 43200 --> test data set accuracy: 0.585\n",
      "train step: 43300 --> test data set accuracy: 0.585\n",
      "train step: 43400 --> test data set accuracy: 0.586\n",
      "train step: 43500 --> test data set accuracy: 0.582\n",
      "train step: 43600 --> test data set accuracy: 0.590\n",
      "train step: 43700 --> test data set accuracy: 0.594\n",
      "train step: 43800 --> test data set accuracy: 0.593\n",
      "train step: 43900 --> test data set accuracy: 0.578\n",
      "train step: 44000 --> test data set accuracy: 0.575\n",
      "train step: 44100 --> test data set accuracy: 0.577\n",
      "train step: 44200 --> test data set accuracy: 0.571\n",
      "train step: 44300 --> test data set accuracy: 0.566\n",
      "train step: 44400 --> test data set accuracy: 0.566\n",
      "train step: 44500 --> test data set accuracy: 0.568\n",
      "train step: 44600 --> test data set accuracy: 0.579\n",
      "train step: 44700 --> test data set accuracy: 0.564\n",
      "train step: 44800 --> test data set accuracy: 0.555\n",
      "train step: 44900 --> test data set accuracy: 0.560\n",
      "train step: 45000 --> test data set accuracy: 0.569\n",
      "train step: 45100 --> test data set accuracy: 0.576\n",
      "train step: 45200 --> test data set accuracy: 0.578\n",
      "train step: 45300 --> test data set accuracy: 0.587\n",
      "train step: 45400 --> test data set accuracy: 0.575\n",
      "train step: 45500 --> test data set accuracy: 0.582\n",
      "train step: 45600 --> test data set accuracy: 0.573\n",
      "train step: 45700 --> test data set accuracy: 0.588\n",
      "train step: 45800 --> test data set accuracy: 0.582\n",
      "train step: 45900 --> test data set accuracy: 0.578\n",
      "train step: 46000 --> test data set accuracy: 0.570\n",
      "train step: 46100 --> test data set accuracy: 0.568\n",
      "train step: 46200 --> test data set accuracy: 0.581\n",
      "train step: 46300 --> test data set accuracy: 0.587\n",
      "train step: 46400 --> test data set accuracy: 0.581\n",
      "train step: 46500 --> test data set accuracy: 0.572\n",
      "train step: 46600 --> test data set accuracy: 0.571\n",
      "train step: 46700 --> test data set accuracy: 0.563\n",
      "train step: 46800 --> test data set accuracy: 0.564\n",
      "train step: 46900 --> test data set accuracy: 0.580\n",
      "train step: 47000 --> test data set accuracy: 0.561\n",
      "train step: 47100 --> test data set accuracy: 0.567\n",
      "train step: 47200 --> test data set accuracy: 0.564\n",
      "train step: 47300 --> test data set accuracy: 0.567\n",
      "train step: 47400 --> test data set accuracy: 0.579\n",
      "train step: 47500 --> test data set accuracy: 0.586\n"
     ]
    },
    {
     "name": "stdout",
     "output_type": "stream",
     "text": [
      "train step: 47600 --> test data set accuracy: 0.570\n",
      "train step: 47700 --> test data set accuracy: 0.589\n",
      "train step: 47800 --> test data set accuracy: 0.589\n",
      "train step: 47900 --> test data set accuracy: 0.587\n",
      "train step: 48000 --> test data set accuracy: 0.581\n",
      "train step: 48100 --> test data set accuracy: 0.566\n",
      "train step: 48200 --> test data set accuracy: 0.564\n",
      "train step: 48300 --> test data set accuracy: 0.565\n",
      "train step: 48400 --> test data set accuracy: 0.574\n",
      "train step: 48500 --> test data set accuracy: 0.586\n",
      "train step: 48600 --> test data set accuracy: 0.586\n",
      "train step: 48700 --> test data set accuracy: 0.577\n",
      "train step: 48800 --> test data set accuracy: 0.569\n",
      "train step: 48900 --> test data set accuracy: 0.577\n",
      "train step: 49000 --> test data set accuracy: 0.575\n",
      "train step: 49100 --> test data set accuracy: 0.582\n",
      "train step: 49200 --> test data set accuracy: 0.578\n",
      "train step: 49300 --> test data set accuracy: 0.580\n",
      "train step: 49400 --> test data set accuracy: 0.588\n",
      "train step: 49500 --> test data set accuracy: 0.591\n",
      "train step: 49600 --> test data set accuracy: 0.584\n",
      "train step: 49700 --> test data set accuracy: 0.581\n",
      "train step: 49800 --> test data set accuracy: 0.598\n",
      "train step: 49900 --> test data set accuracy: 0.596\n",
      "train step: 50000 --> test data set accuracy: 0.596\n",
      "train step: 50100 --> test data set accuracy: 0.600\n",
      "train step: 50200 --> test data set accuracy: 0.589\n",
      "train step: 50300 --> test data set accuracy: 0.597\n",
      "train step: 50400 --> test data set accuracy: 0.596\n",
      "train step: 50500 --> test data set accuracy: 0.593\n",
      "train step: 50600 --> test data set accuracy: 0.590\n",
      "train step: 50700 --> test data set accuracy: 0.594\n",
      "train step: 50800 --> test data set accuracy: 0.595\n",
      "train step: 50900 --> test data set accuracy: 0.579\n",
      "train step: 51000 --> test data set accuracy: 0.580\n",
      "train step: 51100 --> test data set accuracy: 0.586\n",
      "train step: 51200 --> test data set accuracy: 0.590\n",
      "train step: 51300 --> test data set accuracy: 0.582\n",
      "train step: 51400 --> test data set accuracy: 0.578\n",
      "train step: 51500 --> test data set accuracy: 0.577\n",
      "train step: 51600 --> test data set accuracy: 0.571\n",
      "train step: 51700 --> test data set accuracy: 0.581\n",
      "train step: 51800 --> test data set accuracy: 0.595\n",
      "train step: 51900 --> test data set accuracy: 0.591\n",
      "train step: 52000 --> test data set accuracy: 0.596\n",
      "train step: 52100 --> test data set accuracy: 0.583\n",
      "train step: 52200 --> test data set accuracy: 0.586\n",
      "train step: 52300 --> test data set accuracy: 0.572\n",
      "train step: 52400 --> test data set accuracy: 0.584\n",
      "train step: 52500 --> test data set accuracy: 0.598\n",
      "train step: 52600 --> test data set accuracy: 0.596\n",
      "train step: 52700 --> test data set accuracy: 0.582\n",
      "train step: 52800 --> test data set accuracy: 0.590\n",
      "train step: 52900 --> test data set accuracy: 0.593\n",
      "train step: 53000 --> test data set accuracy: 0.596\n",
      "train step: 53100 --> test data set accuracy: 0.595\n",
      "train step: 53200 --> test data set accuracy: 0.589\n",
      "train step: 53300 --> test data set accuracy: 0.586\n",
      "train step: 53400 --> test data set accuracy: 0.596\n",
      "train step: 53500 --> test data set accuracy: 0.592\n",
      "train step: 53600 --> test data set accuracy: 0.581\n",
      "train step: 53700 --> test data set accuracy: 0.576\n",
      "train step: 53800 --> test data set accuracy: 0.574\n",
      "train step: 53900 --> test data set accuracy: 0.572\n",
      "train step: 54000 --> test data set accuracy: 0.583\n",
      "train step: 54100 --> test data set accuracy: 0.590\n",
      "train step: 54200 --> test data set accuracy: 0.596\n",
      "train step: 54300 --> test data set accuracy: 0.590\n",
      "train step: 54400 --> test data set accuracy: 0.594\n",
      "train step: 54500 --> test data set accuracy: 0.599\n",
      "train step: 54600 --> test data set accuracy: 0.592\n",
      "train step: 54700 --> test data set accuracy: 0.601\n",
      "train step: 54800 --> test data set accuracy: 0.598\n",
      "train step: 54900 --> test data set accuracy: 0.593\n",
      "train step: 55000 --> test data set accuracy: 0.589\n",
      "train step: 55100 --> test data set accuracy: 0.591\n",
      "train step: 55200 --> test data set accuracy: 0.607\n",
      "train step: 55300 --> test data set accuracy: 0.606\n",
      "train step: 55400 --> test data set accuracy: 0.606\n",
      "train step: 55500 --> test data set accuracy: 0.599\n",
      "train step: 55600 --> test data set accuracy: 0.605\n",
      "train step: 55700 --> test data set accuracy: 0.609\n",
      "train step: 55800 --> test data set accuracy: 0.615\n",
      "train step: 55900 --> test data set accuracy: 0.612\n",
      "train step: 56000 --> test data set accuracy: 0.621\n",
      "train step: 56100 --> test data set accuracy: 0.613\n",
      "train step: 56200 --> test data set accuracy: 0.609\n",
      "train step: 56300 --> test data set accuracy: 0.610\n",
      "train step: 56400 --> test data set accuracy: 0.595\n",
      "train step: 56500 --> test data set accuracy: 0.594\n",
      "train step: 56600 --> test data set accuracy: 0.591\n",
      "train step: 56700 --> test data set accuracy: 0.592\n",
      "train step: 56800 --> test data set accuracy: 0.603\n",
      "train step: 56900 --> test data set accuracy: 0.596\n",
      "train step: 57000 --> test data set accuracy: 0.590\n",
      "train step: 57100 --> test data set accuracy: 0.590\n",
      "train step: 57200 --> test data set accuracy: 0.593\n",
      "train step: 57300 --> test data set accuracy: 0.596\n",
      "train step: 57400 --> test data set accuracy: 0.606\n",
      "train step: 57500 --> test data set accuracy: 0.614\n",
      "train step: 57600 --> test data set accuracy: 0.614\n",
      "train step: 57700 --> test data set accuracy: 0.616\n",
      "train step: 57800 --> test data set accuracy: 0.627\n",
      "train step: 57900 --> test data set accuracy: 0.616\n",
      "train step: 58000 --> test data set accuracy: 0.614\n",
      "train step: 58100 --> test data set accuracy: 0.613\n",
      "train step: 58200 --> test data set accuracy: 0.620\n",
      "train step: 58300 --> test data set accuracy: 0.614\n",
      "train step: 58400 --> test data set accuracy: 0.616\n",
      "train step: 58500 --> test data set accuracy: 0.614\n",
      "train step: 58600 --> test data set accuracy: 0.599\n",
      "train step: 58700 --> test data set accuracy: 0.606\n",
      "train step: 58800 --> test data set accuracy: 0.613\n",
      "train step: 58900 --> test data set accuracy: 0.610\n",
      "train step: 59000 --> test data set accuracy: 0.615\n",
      "train step: 59100 --> test data set accuracy: 0.605\n",
      "train step: 59200 --> test data set accuracy: 0.616\n",
      "train step: 59300 --> test data set accuracy: 0.612\n",
      "train step: 59400 --> test data set accuracy: 0.612\n",
      "train step: 59500 --> test data set accuracy: 0.621\n",
      "train step: 59600 --> test data set accuracy: 0.600\n",
      "train step: 59700 --> test data set accuracy: 0.599\n",
      "train step: 59800 --> test data set accuracy: 0.597\n",
      "train step: 59900 --> test data set accuracy: 0.611\n",
      "train step: 60000 --> test data set accuracy: 0.600\n",
      "train step: 60100 --> test data set accuracy: 0.602\n",
      "train step: 60200 --> test data set accuracy: 0.600\n",
      "train step: 60300 --> test data set accuracy: 0.608\n",
      "train step: 60400 --> test data set accuracy: 0.604\n",
      "train step: 60500 --> test data set accuracy: 0.600\n",
      "train step: 60600 --> test data set accuracy: 0.606\n",
      "train step: 60700 --> test data set accuracy: 0.595\n",
      "train step: 60800 --> test data set accuracy: 0.595\n",
      "train step: 60900 --> test data set accuracy: 0.606\n",
      "train step: 61000 --> test data set accuracy: 0.599\n",
      "train step: 61100 --> test data set accuracy: 0.599\n",
      "train step: 61200 --> test data set accuracy: 0.600\n",
      "train step: 61300 --> test data set accuracy: 0.605\n",
      "train step: 61400 --> test data set accuracy: 0.606\n",
      "train step: 61500 --> test data set accuracy: 0.611\n",
      "train step: 61600 --> test data set accuracy: 0.601\n",
      "train step: 61700 --> test data set accuracy: 0.603\n",
      "train step: 61800 --> test data set accuracy: 0.605\n",
      "train step: 61900 --> test data set accuracy: 0.618\n",
      "train step: 62000 --> test data set accuracy: 0.612\n",
      "train step: 62100 --> test data set accuracy: 0.613\n",
      "train step: 62200 --> test data set accuracy: 0.586\n",
      "train step: 62300 --> test data set accuracy: 0.606\n",
      "train step: 62400 --> test data set accuracy: 0.606\n",
      "train step: 62500 --> test data set accuracy: 0.613\n",
      "train step: 62600 --> test data set accuracy: 0.612\n",
      "train step: 62700 --> test data set accuracy: 0.617\n",
      "train step: 62800 --> test data set accuracy: 0.600\n",
      "train step: 62900 --> test data set accuracy: 0.601\n",
      "train step: 63000 --> test data set accuracy: 0.611\n",
      "train step: 63100 --> test data set accuracy: 0.612\n",
      "train step: 63200 --> test data set accuracy: 0.613\n",
      "train step: 63300 --> test data set accuracy: 0.621\n"
     ]
    },
    {
     "name": "stdout",
     "output_type": "stream",
     "text": [
      "train step: 63400 --> test data set accuracy: 0.619\n",
      "train step: 63500 --> test data set accuracy: 0.605\n",
      "train step: 63600 --> test data set accuracy: 0.621\n",
      "train step: 63700 --> test data set accuracy: 0.622\n",
      "train step: 63800 --> test data set accuracy: 0.627\n",
      "train step: 63900 --> test data set accuracy: 0.628\n",
      "train step: 64000 --> test data set accuracy: 0.625\n",
      "train step: 64100 --> test data set accuracy: 0.630\n",
      "train step: 64200 --> test data set accuracy: 0.630\n",
      "train step: 64300 --> test data set accuracy: 0.614\n",
      "train step: 64400 --> test data set accuracy: 0.625\n",
      "train step: 64500 --> test data set accuracy: 0.627\n",
      "train step: 64600 --> test data set accuracy: 0.617\n",
      "train step: 64700 --> test data set accuracy: 0.616\n",
      "train step: 64800 --> test data set accuracy: 0.615\n",
      "train step: 64900 --> test data set accuracy: 0.605\n",
      "train step: 65000 --> test data set accuracy: 0.604\n",
      "train step: 65100 --> test data set accuracy: 0.599\n",
      "train step: 65200 --> test data set accuracy: 0.584\n",
      "train step: 65300 --> test data set accuracy: 0.588\n",
      "train step: 65400 --> test data set accuracy: 0.598\n",
      "train step: 65500 --> test data set accuracy: 0.594\n",
      "train step: 65600 --> test data set accuracy: 0.598\n",
      "train step: 65700 --> test data set accuracy: 0.608\n",
      "train step: 65800 --> test data set accuracy: 0.612\n",
      "train step: 65900 --> test data set accuracy: 0.615\n",
      "train step: 66000 --> test data set accuracy: 0.616\n",
      "train step: 66100 --> test data set accuracy: 0.605\n",
      "train step: 66200 --> test data set accuracy: 0.607\n",
      "train step: 66300 --> test data set accuracy: 0.610\n",
      "train step: 66400 --> test data set accuracy: 0.609\n",
      "train step: 66500 --> test data set accuracy: 0.611\n",
      "train step: 66600 --> test data set accuracy: 0.601\n",
      "train step: 66700 --> test data set accuracy: 0.609\n",
      "train step: 66800 --> test data set accuracy: 0.607\n",
      "train step: 66900 --> test data set accuracy: 0.609\n",
      "train step: 67000 --> test data set accuracy: 0.612\n",
      "train step: 67100 --> test data set accuracy: 0.621\n",
      "train step: 67200 --> test data set accuracy: 0.615\n",
      "train step: 67300 --> test data set accuracy: 0.620\n",
      "train step: 67400 --> test data set accuracy: 0.640\n",
      "train step: 67500 --> test data set accuracy: 0.621\n",
      "train step: 67600 --> test data set accuracy: 0.624\n",
      "train step: 67700 --> test data set accuracy: 0.640\n",
      "train step: 67800 --> test data set accuracy: 0.621\n",
      "train step: 67900 --> test data set accuracy: 0.616\n",
      "train step: 68000 --> test data set accuracy: 0.614\n",
      "train step: 68100 --> test data set accuracy: 0.611\n",
      "train step: 68200 --> test data set accuracy: 0.618\n",
      "train step: 68300 --> test data set accuracy: 0.620\n",
      "train step: 68400 --> test data set accuracy: 0.625\n",
      "train step: 68500 --> test data set accuracy: 0.608\n",
      "train step: 68600 --> test data set accuracy: 0.626\n",
      "train step: 68700 --> test data set accuracy: 0.614\n",
      "train step: 68800 --> test data set accuracy: 0.609\n",
      "train step: 68900 --> test data set accuracy: 0.614\n",
      "train step: 69000 --> test data set accuracy: 0.619\n",
      "train step: 69100 --> test data set accuracy: 0.619\n",
      "train step: 69200 --> test data set accuracy: 0.623\n",
      "train step: 69300 --> test data set accuracy: 0.614\n",
      "train step: 69400 --> test data set accuracy: 0.627\n",
      "train step: 69500 --> test data set accuracy: 0.621\n",
      "train step: 69600 --> test data set accuracy: 0.610\n",
      "train step: 69700 --> test data set accuracy: 0.608\n",
      "train step: 69800 --> test data set accuracy: 0.602\n",
      "train step: 69900 --> test data set accuracy: 0.610\n",
      "train step: 70000 --> test data set accuracy: 0.621\n",
      "train step: 70100 --> test data set accuracy: 0.622\n",
      "train step: 70200 --> test data set accuracy: 0.622\n",
      "train step: 70300 --> test data set accuracy: 0.614\n",
      "train step: 70400 --> test data set accuracy: 0.608\n",
      "train step: 70500 --> test data set accuracy: 0.610\n",
      "train step: 70600 --> test data set accuracy: 0.621\n",
      "train step: 70700 --> test data set accuracy: 0.607\n",
      "train step: 70800 --> test data set accuracy: 0.608\n",
      "train step: 70900 --> test data set accuracy: 0.609\n",
      "train step: 71000 --> test data set accuracy: 0.610\n",
      "train step: 71100 --> test data set accuracy: 0.614\n",
      "train step: 71200 --> test data set accuracy: 0.614\n",
      "train step: 71300 --> test data set accuracy: 0.625\n",
      "train step: 71400 --> test data set accuracy: 0.621\n",
      "train step: 71500 --> test data set accuracy: 0.626\n",
      "train step: 71600 --> test data set accuracy: 0.624\n",
      "train step: 71700 --> test data set accuracy: 0.615\n",
      "train step: 71800 --> test data set accuracy: 0.614\n",
      "train step: 71900 --> test data set accuracy: 0.615\n",
      "train step: 72000 --> test data set accuracy: 0.616\n",
      "train step: 72100 --> test data set accuracy: 0.628\n",
      "train step: 72200 --> test data set accuracy: 0.619\n",
      "train step: 72300 --> test data set accuracy: 0.615\n",
      "train step: 72400 --> test data set accuracy: 0.622\n",
      "train step: 72500 --> test data set accuracy: 0.630\n",
      "train step: 72600 --> test data set accuracy: 0.628\n",
      "train step: 72700 --> test data set accuracy: 0.628\n",
      "train step: 72800 --> test data set accuracy: 0.632\n",
      "train step: 72900 --> test data set accuracy: 0.632\n",
      "train step: 73000 --> test data set accuracy: 0.615\n",
      "train step: 73100 --> test data set accuracy: 0.618\n",
      "train step: 73200 --> test data set accuracy: 0.619\n",
      "train step: 73300 --> test data set accuracy: 0.622\n",
      "train step: 73400 --> test data set accuracy: 0.628\n",
      "train step: 73500 --> test data set accuracy: 0.628\n",
      "train step: 73600 --> test data set accuracy: 0.621\n",
      "train step: 73700 --> test data set accuracy: 0.613\n",
      "train step: 73800 --> test data set accuracy: 0.605\n",
      "train step: 73900 --> test data set accuracy: 0.616\n",
      "train step: 74000 --> test data set accuracy: 0.621\n",
      "train step: 74100 --> test data set accuracy: 0.619\n",
      "train step: 74200 --> test data set accuracy: 0.616\n",
      "train step: 74300 --> test data set accuracy: 0.617\n",
      "train step: 74400 --> test data set accuracy: 0.626\n",
      "train step: 74500 --> test data set accuracy: 0.622\n",
      "train step: 74600 --> test data set accuracy: 0.629\n",
      "train step: 74700 --> test data set accuracy: 0.633\n",
      "train step: 74800 --> test data set accuracy: 0.621\n",
      "train step: 74900 --> test data set accuracy: 0.622\n",
      "train step: 75000 --> test data set accuracy: 0.624\n",
      "train step: 75100 --> test data set accuracy: 0.633\n",
      "train step: 75200 --> test data set accuracy: 0.633\n",
      "train step: 75300 --> test data set accuracy: 0.630\n",
      "train step: 75400 --> test data set accuracy: 0.639\n",
      "train step: 75500 --> test data set accuracy: 0.638\n",
      "train step: 75600 --> test data set accuracy: 0.651\n",
      "train step: 75700 --> test data set accuracy: 0.636\n",
      "train step: 75800 --> test data set accuracy: 0.635\n",
      "train step: 75900 --> test data set accuracy: 0.630\n",
      "train step: 76000 --> test data set accuracy: 0.633\n",
      "train step: 76100 --> test data set accuracy: 0.628\n",
      "train step: 76200 --> test data set accuracy: 0.620\n",
      "train step: 76300 --> test data set accuracy: 0.617\n",
      "train step: 76400 --> test data set accuracy: 0.620\n",
      "train step: 76500 --> test data set accuracy: 0.614\n",
      "train step: 76600 --> test data set accuracy: 0.635\n",
      "train step: 76700 --> test data set accuracy: 0.648\n",
      "train step: 76800 --> test data set accuracy: 0.644\n",
      "train step: 76900 --> test data set accuracy: 0.633\n",
      "train step: 77000 --> test data set accuracy: 0.636\n",
      "train step: 77100 --> test data set accuracy: 0.632\n",
      "train step: 77200 --> test data set accuracy: 0.623\n",
      "train step: 77300 --> test data set accuracy: 0.608\n",
      "train step: 77400 --> test data set accuracy: 0.613\n",
      "train step: 77500 --> test data set accuracy: 0.609\n",
      "train step: 77600 --> test data set accuracy: 0.618\n",
      "train step: 77700 --> test data set accuracy: 0.613\n",
      "train step: 77800 --> test data set accuracy: 0.618\n",
      "train step: 77900 --> test data set accuracy: 0.621\n",
      "train step: 78000 --> test data set accuracy: 0.631\n",
      "train step: 78100 --> test data set accuracy: 0.647\n",
      "train step: 78200 --> test data set accuracy: 0.658\n",
      "train step: 78300 --> test data set accuracy: 0.650\n",
      "train step: 78400 --> test data set accuracy: 0.637\n",
      "train step: 78500 --> test data set accuracy: 0.639\n",
      "train step: 78600 --> test data set accuracy: 0.630\n",
      "train step: 78700 --> test data set accuracy: 0.641\n",
      "train step: 78800 --> test data set accuracy: 0.639\n",
      "train step: 78900 --> test data set accuracy: 0.649\n",
      "train step: 79000 --> test data set accuracy: 0.642\n",
      "train step: 79100 --> test data set accuracy: 0.633\n"
     ]
    },
    {
     "name": "stdout",
     "output_type": "stream",
     "text": [
      "train step: 79200 --> test data set accuracy: 0.630\n",
      "train step: 79300 --> test data set accuracy: 0.634\n",
      "train step: 79400 --> test data set accuracy: 0.622\n",
      "train step: 79500 --> test data set accuracy: 0.623\n",
      "train step: 79600 --> test data set accuracy: 0.620\n",
      "train step: 79700 --> test data set accuracy: 0.640\n",
      "train step: 79800 --> test data set accuracy: 0.638\n",
      "train step: 79900 --> test data set accuracy: 0.637\n",
      "train step: 80000 --> test data set accuracy: 0.621\n",
      "train step: 80100 --> test data set accuracy: 0.629\n",
      "train step: 80200 --> test data set accuracy: 0.625\n",
      "train step: 80300 --> test data set accuracy: 0.640\n",
      "train step: 80400 --> test data set accuracy: 0.633\n",
      "train step: 80500 --> test data set accuracy: 0.634\n",
      "train step: 80600 --> test data set accuracy: 0.639\n",
      "train step: 80700 --> test data set accuracy: 0.645\n",
      "train step: 80800 --> test data set accuracy: 0.635\n",
      "train step: 80900 --> test data set accuracy: 0.636\n",
      "train step: 81000 --> test data set accuracy: 0.635\n",
      "train step: 81100 --> test data set accuracy: 0.631\n",
      "train step: 81200 --> test data set accuracy: 0.617\n",
      "train step: 81300 --> test data set accuracy: 0.621\n",
      "train step: 81400 --> test data set accuracy: 0.610\n",
      "train step: 81500 --> test data set accuracy: 0.621\n",
      "train step: 81600 --> test data set accuracy: 0.614\n",
      "train step: 81700 --> test data set accuracy: 0.609\n",
      "train step: 81800 --> test data set accuracy: 0.610\n",
      "train step: 81900 --> test data set accuracy: 0.609\n",
      "train step: 82000 --> test data set accuracy: 0.625\n",
      "train step: 82100 --> test data set accuracy: 0.627\n",
      "train step: 82200 --> test data set accuracy: 0.642\n",
      "train step: 82300 --> test data set accuracy: 0.638\n",
      "train step: 82400 --> test data set accuracy: 0.638\n",
      "train step: 82500 --> test data set accuracy: 0.630\n",
      "train step: 82600 --> test data set accuracy: 0.629\n",
      "train step: 82700 --> test data set accuracy: 0.630\n",
      "train step: 82800 --> test data set accuracy: 0.627\n",
      "train step: 82900 --> test data set accuracy: 0.632\n",
      "train step: 83000 --> test data set accuracy: 0.630\n",
      "train step: 83100 --> test data set accuracy: 0.637\n",
      "train step: 83200 --> test data set accuracy: 0.625\n",
      "train step: 83300 --> test data set accuracy: 0.628\n",
      "train step: 83400 --> test data set accuracy: 0.636\n",
      "train step: 83500 --> test data set accuracy: 0.631\n",
      "train step: 83600 --> test data set accuracy: 0.642\n",
      "train step: 83700 --> test data set accuracy: 0.631\n",
      "train step: 83800 --> test data set accuracy: 0.630\n",
      "train step: 83900 --> test data set accuracy: 0.626\n",
      "train step: 84000 --> test data set accuracy: 0.622\n",
      "train step: 84100 --> test data set accuracy: 0.623\n",
      "train step: 84200 --> test data set accuracy: 0.630\n",
      "train step: 84300 --> test data set accuracy: 0.623\n",
      "train step: 84400 --> test data set accuracy: 0.631\n",
      "train step: 84500 --> test data set accuracy: 0.645\n",
      "train step: 84600 --> test data set accuracy: 0.637\n",
      "train step: 84700 --> test data set accuracy: 0.640\n",
      "train step: 84800 --> test data set accuracy: 0.640\n",
      "train step: 84900 --> test data set accuracy: 0.642\n",
      "train step: 85000 --> test data set accuracy: 0.638\n",
      "train step: 85100 --> test data set accuracy: 0.646\n",
      "train step: 85200 --> test data set accuracy: 0.637\n",
      "train step: 85300 --> test data set accuracy: 0.647\n",
      "train step: 85400 --> test data set accuracy: 0.633\n",
      "train step: 85500 --> test data set accuracy: 0.630\n",
      "train step: 85600 --> test data set accuracy: 0.631\n",
      "train step: 85700 --> test data set accuracy: 0.627\n",
      "train step: 85800 --> test data set accuracy: 0.633\n",
      "train step: 85900 --> test data set accuracy: 0.634\n",
      "train step: 86000 --> test data set accuracy: 0.635\n",
      "train step: 86100 --> test data set accuracy: 0.630\n",
      "train step: 86200 --> test data set accuracy: 0.627\n",
      "train step: 86300 --> test data set accuracy: 0.634\n",
      "train step: 86400 --> test data set accuracy: 0.633\n",
      "train step: 86500 --> test data set accuracy: 0.638\n",
      "train step: 86600 --> test data set accuracy: 0.648\n",
      "train step: 86700 --> test data set accuracy: 0.653\n",
      "train step: 86800 --> test data set accuracy: 0.643\n",
      "train step: 86900 --> test data set accuracy: 0.650\n",
      "train step: 87000 --> test data set accuracy: 0.647\n",
      "train step: 87100 --> test data set accuracy: 0.635\n",
      "train step: 87200 --> test data set accuracy: 0.626\n",
      "train step: 87300 --> test data set accuracy: 0.627\n",
      "train step: 87400 --> test data set accuracy: 0.641\n",
      "train step: 87500 --> test data set accuracy: 0.648\n",
      "train step: 87600 --> test data set accuracy: 0.631\n",
      "train step: 87700 --> test data set accuracy: 0.627\n",
      "train step: 87800 --> test data set accuracy: 0.617\n",
      "train step: 87900 --> test data set accuracy: 0.621\n",
      "train step: 88000 --> test data set accuracy: 0.624\n",
      "train step: 88100 --> test data set accuracy: 0.630\n",
      "train step: 88200 --> test data set accuracy: 0.634\n",
      "train step: 88300 --> test data set accuracy: 0.643\n",
      "train step: 88400 --> test data set accuracy: 0.638\n",
      "train step: 88500 --> test data set accuracy: 0.643\n",
      "train step: 88600 --> test data set accuracy: 0.635\n",
      "train step: 88700 --> test data set accuracy: 0.637\n",
      "train step: 88800 --> test data set accuracy: 0.635\n",
      "train step: 88900 --> test data set accuracy: 0.631\n",
      "train step: 89000 --> test data set accuracy: 0.633\n",
      "train step: 89100 --> test data set accuracy: 0.642\n",
      "train step: 89200 --> test data set accuracy: 0.644\n",
      "train step: 89300 --> test data set accuracy: 0.634\n",
      "train step: 89400 --> test data set accuracy: 0.626\n",
      "train step: 89500 --> test data set accuracy: 0.634\n",
      "train step: 89600 --> test data set accuracy: 0.641\n",
      "train step: 89700 --> test data set accuracy: 0.646\n",
      "train step: 89800 --> test data set accuracy: 0.634\n",
      "train step: 89900 --> test data set accuracy: 0.626\n",
      "train step: 90000 --> test data set accuracy: 0.624\n",
      "train step: 90100 --> test data set accuracy: 0.632\n",
      "train step: 90200 --> test data set accuracy: 0.648\n",
      "train step: 90300 --> test data set accuracy: 0.643\n",
      "train step: 90400 --> test data set accuracy: 0.641\n",
      "train step: 90500 --> test data set accuracy: 0.640\n",
      "train step: 90600 --> test data set accuracy: 0.652\n",
      "train step: 90700 --> test data set accuracy: 0.641\n",
      "train step: 90800 --> test data set accuracy: 0.647\n",
      "train step: 90900 --> test data set accuracy: 0.643\n",
      "train step: 91000 --> test data set accuracy: 0.645\n",
      "train step: 91100 --> test data set accuracy: 0.652\n",
      "train step: 91200 --> test data set accuracy: 0.657\n",
      "train step: 91300 --> test data set accuracy: 0.660\n",
      "train step: 91400 --> test data set accuracy: 0.636\n",
      "train step: 91500 --> test data set accuracy: 0.632\n",
      "train step: 91600 --> test data set accuracy: 0.638\n",
      "train step: 91700 --> test data set accuracy: 0.645\n",
      "train step: 91800 --> test data set accuracy: 0.642\n",
      "train step: 91900 --> test data set accuracy: 0.652\n",
      "train step: 92000 --> test data set accuracy: 0.644\n",
      "train step: 92100 --> test data set accuracy: 0.638\n",
      "train step: 92200 --> test data set accuracy: 0.641\n",
      "train step: 92300 --> test data set accuracy: 0.641\n",
      "train step: 92400 --> test data set accuracy: 0.639\n",
      "train step: 92500 --> test data set accuracy: 0.654\n",
      "train step: 92600 --> test data set accuracy: 0.662\n",
      "train step: 92700 --> test data set accuracy: 0.656\n",
      "train step: 92800 --> test data set accuracy: 0.653\n",
      "train step: 92900 --> test data set accuracy: 0.658\n",
      "train step: 93000 --> test data set accuracy: 0.658\n",
      "train step: 93100 --> test data set accuracy: 0.646\n",
      "train step: 93200 --> test data set accuracy: 0.650\n",
      "train step: 93300 --> test data set accuracy: 0.650\n",
      "train step: 93400 --> test data set accuracy: 0.641\n",
      "train step: 93500 --> test data set accuracy: 0.642\n",
      "train step: 93600 --> test data set accuracy: 0.654\n",
      "train step: 93700 --> test data set accuracy: 0.653\n",
      "train step: 93800 --> test data set accuracy: 0.657\n",
      "train step: 93900 --> test data set accuracy: 0.639\n",
      "train step: 94000 --> test data set accuracy: 0.646\n",
      "train step: 94100 --> test data set accuracy: 0.644\n",
      "train step: 94200 --> test data set accuracy: 0.647\n",
      "train step: 94300 --> test data set accuracy: 0.648\n",
      "train step: 94400 --> test data set accuracy: 0.647\n",
      "train step: 94500 --> test data set accuracy: 0.652\n",
      "train step: 94600 --> test data set accuracy: 0.661\n",
      "train step: 94700 --> test data set accuracy: 0.647\n",
      "train step: 94800 --> test data set accuracy: 0.650\n",
      "train step: 94900 --> test data set accuracy: 0.632\n"
     ]
    },
    {
     "name": "stdout",
     "output_type": "stream",
     "text": [
      "train step: 95000 --> test data set accuracy: 0.636\n",
      "train step: 95100 --> test data set accuracy: 0.637\n",
      "train step: 95200 --> test data set accuracy: 0.644\n",
      "train step: 95300 --> test data set accuracy: 0.643\n",
      "train step: 95400 --> test data set accuracy: 0.651\n",
      "train step: 95500 --> test data set accuracy: 0.658\n",
      "train step: 95600 --> test data set accuracy: 0.650\n",
      "train step: 95700 --> test data set accuracy: 0.653\n",
      "train step: 95800 --> test data set accuracy: 0.663\n",
      "train step: 95900 --> test data set accuracy: 0.652\n",
      "train step: 96000 --> test data set accuracy: 0.648\n",
      "train step: 96100 --> test data set accuracy: 0.648\n",
      "train step: 96200 --> test data set accuracy: 0.643\n",
      "train step: 96300 --> test data set accuracy: 0.644\n",
      "train step: 96400 --> test data set accuracy: 0.650\n",
      "train step: 96500 --> test data set accuracy: 0.657\n",
      "train step: 96600 --> test data set accuracy: 0.646\n",
      "train step: 96700 --> test data set accuracy: 0.647\n",
      "train step: 96800 --> test data set accuracy: 0.652\n",
      "train step: 96900 --> test data set accuracy: 0.648\n",
      "train step: 97000 --> test data set accuracy: 0.655\n",
      "train step: 97100 --> test data set accuracy: 0.652\n",
      "train step: 97200 --> test data set accuracy: 0.664\n",
      "train step: 97300 --> test data set accuracy: 0.661\n",
      "train step: 97400 --> test data set accuracy: 0.641\n",
      "train step: 97500 --> test data set accuracy: 0.641\n",
      "train step: 97600 --> test data set accuracy: 0.636\n",
      "train step: 97700 --> test data set accuracy: 0.637\n",
      "train step: 97800 --> test data set accuracy: 0.642\n",
      "train step: 97900 --> test data set accuracy: 0.645\n",
      "train step: 98000 --> test data set accuracy: 0.636\n",
      "train step: 98100 --> test data set accuracy: 0.634\n",
      "train step: 98200 --> test data set accuracy: 0.628\n",
      "train step: 98300 --> test data set accuracy: 0.631\n",
      "train step: 98400 --> test data set accuracy: 0.640\n",
      "train step: 98500 --> test data set accuracy: 0.648\n",
      "train step: 98600 --> test data set accuracy: 0.650\n",
      "train step: 98700 --> test data set accuracy: 0.649\n",
      "train step: 98800 --> test data set accuracy: 0.643\n",
      "train step: 98900 --> test data set accuracy: 0.636\n",
      "train step: 99000 --> test data set accuracy: 0.644\n",
      "train step: 99100 --> test data set accuracy: 0.647\n",
      "train step: 99200 --> test data set accuracy: 0.644\n",
      "train step: 99300 --> test data set accuracy: 0.660\n",
      "train step: 99400 --> test data set accuracy: 0.652\n",
      "train step: 99500 --> test data set accuracy: 0.660\n",
      "train step: 99600 --> test data set accuracy: 0.662\n",
      "train step: 99700 --> test data set accuracy: 0.654\n",
      "train step: 99800 --> test data set accuracy: 0.653\n",
      "train step: 99900 --> test data set accuracy: 0.646\n",
      "\n",
      "finished!\n"
     ]
    }
   ],
   "source": [
    "# 1. get training data\n",
    "x_train, y_train, x_test, y_test = prepare_data()\n",
    "\n",
    "\n",
    "# 2. prepare a weight matrix for the Perceptron\n",
    "nr_inputs = 28**2 + 1\n",
    "nr_outputs = 10\n",
    "low = -1.0\n",
    "high = +1.0\n",
    "W = np.random.uniform( low, high, (nr_inputs, nr_outputs) )\n",
    "\n",
    "\n",
    "# 3. training\n",
    "nr_train_samples = x_train.shape[0]\n",
    "accs = []\n",
    "HOW_MANY_STEPS_TO_TRAIN = 100000\n",
    "    \n",
    "# for each training sample in the training dataset ...\n",
    "correct = 0    \n",
    "for train_step_nr in range(0,HOW_MANY_STEPS_TO_TRAIN):\n",
    "\n",
    "    # get next training sample\n",
    "    sample_id   = np.random.randint(0,nr_train_samples)\n",
    "    image       = x_train[sample_id]\n",
    "    teacher_vec = y_train[sample_id]\n",
    "\n",
    "    # compute prediction vector\n",
    "    v_with_add_bias_input, pred_vec = perceptron_predict(image,W)\n",
    "\n",
    "    # compute predicted label\n",
    "    pred_label = np.argmax(pred_vec)\n",
    "\n",
    "    # get actual label\n",
    "    gt_label = np.argmax(teacher_vec)\n",
    "\n",
    "    #print(\"pred: {0} vs. gt: {1}\".format(pred_label, gt_label))\n",
    "\n",
    "    if pred_label == gt_label:\n",
    "        correct += 1\n",
    "\n",
    "    # adapt weights due to error\n",
    "    # and according to Perceptron learning rule?        \n",
    "    preceptron_train(v_with_add_bias_input,pred_vec,teacher_vec,W)\n",
    "\n",
    "    if train_step_nr % 100 == 0:\n",
    "        acc = perceptron_test(x_test, y_test, W)\n",
    "        print(\"train step: {0} --> test data set accuracy: {1:.3f}\".format(train_step_nr, acc))\n",
    "\n",
    "        accs.append(acc)\n",
    "\n",
    "print(\"\\nfinished!\")"
   ]
  },
  {
   "cell_type": "markdown",
   "metadata": {},
   "source": [
    "# Plotten der Lernkurve"
   ]
  },
  {
   "cell_type": "code",
   "execution_count": 73,
   "metadata": {},
   "outputs": [
    {
     "data": {
      "image/png": "[encoded data removed]",
      "text/plain": [
       "<Figure size 432x288 with 1 Axes>"
      ]
     },
     "metadata": {
      "needs_background": "light"
     },
     "output_type": "display_data"
    }
   ],
   "source": [
    "from matplotlib import pyplot as plt\n",
    "plt.plot(accs)\n",
    "plt.show()"
   ]
  },
  {
   "cell_type": "markdown",
   "metadata": {},
   "source": [
    "# Abspeichern der gelernten Gewichte"
   ]
  },
  {
   "cell_type": "code",
   "execution_count": 74,
   "metadata": {},
   "outputs": [],
   "source": [
    "import pickle\n",
    "fname = \"perceptron_100000_training_steps.pkl\"\n",
    "fobj = open(fname, \"wb\")\n",
    "pickle.dump(W, fobj)\n",
    "fobj.close()"
   ]
  },
  {
   "cell_type": "markdown",
   "metadata": {},
   "source": [
    "# Wiederherstellen der Gewichte"
   ]
  },
  {
   "cell_type": "code",
   "execution_count": 75,
   "metadata": {},
   "outputs": [
    {
     "data": {
      "text/plain": [
       "array([[ 0.57327247,  0.55545469, -0.35526454, ..., -0.99340496,\n",
       "        -0.42739979,  0.56278449],\n",
       "       [ 0.69627543,  0.20354608, -0.10167713, ..., -0.46279382,\n",
       "         0.28081557, -0.72960377],\n",
       "       [-0.14536995,  0.25697883, -0.47680672, ...,  0.74428275,\n",
       "        -0.34508846,  0.97278585],\n",
       "       ...,\n",
       "       [ 0.18967043, -0.13735519, -0.15539483, ...,  0.07853021,\n",
       "         0.21982111,  0.43844751],\n",
       "       [-0.03277297,  0.50449205, -0.24043327, ...,  0.54876557,\n",
       "         0.8147887 ,  0.98016646],\n",
       "       [-0.61941797,  0.48712907, -0.61544163, ..., -0.11563309,\n",
       "        -1.37309973, -0.62220244]])"
      ]
     },
     "execution_count": 75,
     "metadata": {},
     "output_type": "execute_result"
    }
   ],
   "source": [
    "# das Notebook kann jetzt geschlossen werden bzw.\n",
    "# der Python-Kernel kann neu gestartet werden\n",
    "# die Matrix W wird dadurch \"vergessen\":\n",
    "W"
   ]
  },
  {
   "cell_type": "code",
   "execution_count": 76,
   "metadata": {},
   "outputs": [],
   "source": [
    "# jetzt wird die Gewichtsmatrix W wiederhergestellt\n",
    "import pickle\n",
    "fname = \"perceptron_100000_training_steps.pkl\"\n",
    "fobj = open(fname, \"rb\")\n",
    "W = pickle.load(fobj)"
   ]
  },
  {
   "cell_type": "code",
   "execution_count": 77,
   "metadata": {},
   "outputs": [
    {
     "data": {
      "text/plain": [
       "(785, 10)"
      ]
     },
     "execution_count": 77,
     "metadata": {},
     "output_type": "execute_result"
    }
   ],
   "source": [
    "W.shape"
   ]
  },
  {
   "cell_type": "code",
   "execution_count": 78,
   "metadata": {},
   "outputs": [
    {
     "data": {
      "text/plain": [
       "array([[ 0.57327247,  0.55545469, -0.35526454, ..., -0.99340496,\n",
       "        -0.42739979,  0.56278449],\n",
       "       [ 0.69627543,  0.20354608, -0.10167713, ..., -0.46279382,\n",
       "         0.28081557, -0.72960377],\n",
       "       [-0.14536995,  0.25697883, -0.47680672, ...,  0.74428275,\n",
       "        -0.34508846,  0.97278585],\n",
       "       ...,\n",
       "       [ 0.18967043, -0.13735519, -0.15539483, ...,  0.07853021,\n",
       "         0.21982111,  0.43844751],\n",
       "       [-0.03277297,  0.50449205, -0.24043327, ...,  0.54876557,\n",
       "         0.8147887 ,  0.98016646],\n",
       "       [-0.61941797,  0.48712907, -0.61544163, ..., -0.11563309,\n",
       "        -1.37309973, -0.62220244]])"
      ]
     },
     "execution_count": 78,
     "metadata": {},
     "output_type": "execute_result"
    }
   ],
   "source": [
    "W"
   ]
  },
  {
   "cell_type": "code",
   "execution_count": 79,
   "metadata": {},
   "outputs": [
    {
     "data": {
      "image/png": "[encoded data removed]",
      "text/plain": [
       "<Figure size 720x7200 with 1 Axes>"
      ]
     },
     "metadata": {
      "needs_background": "light"
     },
     "output_type": "display_data"
    }
   ],
   "source": [
    "from matplotlib import pyplot as plt\n",
    "plt.figure(figsize=(10,100))\n",
    "plt.imshow(W)\n",
    "plt.show()"
   ]
  },
  {
   "cell_type": "markdown",
   "metadata": {},
   "source": [
    "# Testen des Netzes"
   ]
  },
  {
   "cell_type": "code",
   "execution_count": 80,
   "metadata": {},
   "outputs": [],
   "source": [
    "import cv2\n",
    "\n",
    "testbild = x_test[2,:,:]\n",
    "testbild = preprocess_data(testbild)"
   ]
  },
  {
   "cell_type": "code",
   "execution_count": 81,
   "metadata": {},
   "outputs": [
    {
     "data": {
      "text/plain": [
       "numpy.ndarray"
      ]
     },
     "execution_count": 81,
     "metadata": {},
     "output_type": "execute_result"
    }
   ],
   "source": [
    "type(testbild)"
   ]
  },
  {
   "cell_type": "code",
   "execution_count": 82,
   "metadata": {},
   "outputs": [
    {
     "data": {
      "text/plain": [
       "(28, 28)"
      ]
     },
     "execution_count": 82,
     "metadata": {},
     "output_type": "execute_result"
    }
   ],
   "source": [
    "testbild.shape"
   ]
  },
  {
   "cell_type": "code",
   "execution_count": 83,
   "metadata": {},
   "outputs": [
    {
     "data": {
      "text/plain": [
       "<matplotlib.colorbar.Colorbar at 0x7fd0325574f0>"
      ]
     },
     "execution_count": 83,
     "metadata": {},
     "output_type": "execute_result"
    },
    {
     "data": {
      "image/png": "[encoded data removed]",
      "text/plain": [
       "<Figure size 432x288 with 2 Axes>"
      ]
     },
     "metadata": {
      "needs_background": "light"
     },
     "output_type": "display_data"
    }
   ],
   "source": [
    "from matplotlib import pyplot as plt\n",
    "plt.imshow(testbild)\n",
    "plt.colorbar()"
   ]
  },
  {
   "cell_type": "code",
   "execution_count": 84,
   "metadata": {},
   "outputs": [],
   "source": [
    "_, pred_vec = perceptron_predict(testbild, W)"
   ]
  },
  {
   "cell_type": "code",
   "execution_count": 85,
   "metadata": {},
   "outputs": [
    {
     "data": {
      "text/plain": [
       "array([0.        , 0.48799551, 0.        , 0.        , 0.        ,\n",
       "       0.        , 0.        , 0.        , 0.        , 0.        ])"
      ]
     },
     "execution_count": 85,
     "metadata": {},
     "output_type": "execute_result"
    }
   ],
   "source": [
    "pred_vec"
   ]
  },
  {
   "cell_type": "code",
   "execution_count": 86,
   "metadata": {},
   "outputs": [
    {
     "data": {
      "text/plain": [
       "1"
      ]
     },
     "execution_count": 86,
     "metadata": {},
     "output_type": "execute_result"
    }
   ],
   "source": [
    "np.argmax(pred_vec)"
   ]
  }
 ],
 "metadata": {
  "kernelspec": {
   "display_name": "Python 3",
   "language": "python",
   "name": "python3"
  },
  "language_info": {
   "codemirror_mode": {
    "name": "ipython",
    "version": 3
   },
   "file_extension": ".py",
   "mimetype": "text/x-python",
   "name": "python",
   "nbconvert_exporter": "python",
   "pygments_lexer": "ipython3",
   "version": "3.8.5"
  },
  "toc": {
   "base_numbering": 1,
   "nav_menu": {},
   "number_sections": true,
   "sideBar": true,
   "skip_h1_title": false,
   "title_cell": "Table of Contents",
   "title_sidebar": "Contents",
   "toc_cell": false,
   "toc_position": {
    "height": "calc(100% - 180px)",
    "left": "10px",
    "top": "150px",
    "width": "273.383px"
   },
   "toc_section_display": true,
   "toc_window_display": true
  }
 },
 "nbformat": 4,
 "nbformat_minor": 4
}
