{
 "cells": [
  {
   "cell_type": "markdown",
   "id": "c06209f9-666b-4030-8e04-de539b6091a0",
   "metadata": {},
   "source": [
    "# Einleitung\n",
    "\n",
    "In dieser Fallstudie wollen wir den Data Science Process anhand eines realen Fallbeispiels durchlaufen.\n",
    "Konkret geht es darum Immobiliendaten zu analysieren.\n",
    "\n",
    "Ausgangspunkt der Fallstudie ist der Wunsch eines Immobilienmaklers auf dem Markt erzielbare Immobilienpreise vorhersagen zu können aufgrund der Merkmale einer Immobilie."
   ]
  },
  {
   "cell_type": "markdown",
   "id": "282b9f9c-2288-432c-8373-13a9ce7aa3c6",
   "metadata": {},
   "source": [
    "# Datensatz beschaffen (Obtain Data)\n",
    "\n",
    "Bei Kaggle \n",
    "\n",
    "https://www.kaggle.com/\n",
    "\n",
    "können wir viele Datensätze finden. Diesen hier verwenden wir im Folgenden:\n",
    "\n",
    "https://www.kaggle.com/c/house-prices-advanced-regression-techniques\n",
    "\n",
    "Der Datensatz enthält in den Trainingsdaten 1460 Beispiele von Häusern, wobei deren Eigenschaften und deren jeweiliger tatsächlicher Verkaufspreis aufgeführt ist."
   ]
  },
  {
   "cell_type": "markdown",
   "id": "b05657f2-61da-46a5-bbbf-d56696411a46",
   "metadata": {},
   "source": [
    "# Pandas"
   ]
  },
  {
   "cell_type": "markdown",
   "id": "be7c262b-3b09-4948-b724-711e8b1e92d6",
   "metadata": {},
   "source": [
    "## Datensatz einlesen (Reading Data)"
   ]
  },
  {
   "cell_type": "code",
   "execution_count": 1,
   "id": "c7dec330-2bb8-47ee-ba1e-ec9148531493",
   "metadata": {},
   "outputs": [],
   "source": [
    "import pandas"
   ]
  },
  {
   "cell_type": "code",
   "execution_count": 2,
   "id": "7414bc62-8e8d-4869-9dab-025bbbf2ffdc",
   "metadata": {},
   "outputs": [],
   "source": [
    "t = pandas.read_csv(\"daten/hausbeispiele.csv\")"
   ]
  },
  {
   "cell_type": "code",
   "execution_count": 3,
   "id": "af6f63c3-2a21-433e-86ac-7b1e03b2ff04",
   "metadata": {},
   "outputs": [
    {
     "data": {
      "text/html": [
       "<div>\n",
       "<style scoped>\n",
       "    .dataframe tbody tr th:only-of-type {\n",
       "        vertical-align: middle;\n",
       "    }\n",
       "\n",
       "    .dataframe tbody tr th {\n",
       "        vertical-align: top;\n",
       "    }\n",
       "\n",
       "    .dataframe thead th {\n",
       "        text-align: right;\n",
       "    }\n",
       "</style>\n",
       "<table border=\"1\" class=\"dataframe\">\n",
       "  <thead>\n",
       "    <tr style=\"text-align: right;\">\n",
       "      <th></th>\n",
       "      <th>Id</th>\n",
       "      <th>MSSubClass</th>\n",
       "      <th>MSZoning</th>\n",
       "      <th>LotFrontage</th>\n",
       "      <th>LotArea</th>\n",
       "      <th>Street</th>\n",
       "      <th>Alley</th>\n",
       "      <th>LotShape</th>\n",
       "      <th>LandContour</th>\n",
       "      <th>Utilities</th>\n",
       "      <th>...</th>\n",
       "      <th>PoolArea</th>\n",
       "      <th>PoolQC</th>\n",
       "      <th>Fence</th>\n",
       "      <th>MiscFeature</th>\n",
       "      <th>MiscVal</th>\n",
       "      <th>MoSold</th>\n",
       "      <th>YrSold</th>\n",
       "      <th>SaleType</th>\n",
       "      <th>SaleCondition</th>\n",
       "      <th>SalePrice</th>\n",
       "    </tr>\n",
       "  </thead>\n",
       "  <tbody>\n",
       "    <tr>\n",
       "      <th>0</th>\n",
       "      <td>1</td>\n",
       "      <td>60</td>\n",
       "      <td>RL</td>\n",
       "      <td>65.0</td>\n",
       "      <td>8450</td>\n",
       "      <td>Pave</td>\n",
       "      <td>NaN</td>\n",
       "      <td>Reg</td>\n",
       "      <td>Lvl</td>\n",
       "      <td>AllPub</td>\n",
       "      <td>...</td>\n",
       "      <td>0</td>\n",
       "      <td>NaN</td>\n",
       "      <td>NaN</td>\n",
       "      <td>NaN</td>\n",
       "      <td>0</td>\n",
       "      <td>2</td>\n",
       "      <td>2008</td>\n",
       "      <td>WD</td>\n",
       "      <td>Normal</td>\n",
       "      <td>208500</td>\n",
       "    </tr>\n",
       "    <tr>\n",
       "      <th>1</th>\n",
       "      <td>2</td>\n",
       "      <td>20</td>\n",
       "      <td>RL</td>\n",
       "      <td>80.0</td>\n",
       "      <td>9600</td>\n",
       "      <td>Pave</td>\n",
       "      <td>NaN</td>\n",
       "      <td>Reg</td>\n",
       "      <td>Lvl</td>\n",
       "      <td>AllPub</td>\n",
       "      <td>...</td>\n",
       "      <td>0</td>\n",
       "      <td>NaN</td>\n",
       "      <td>NaN</td>\n",
       "      <td>NaN</td>\n",
       "      <td>0</td>\n",
       "      <td>5</td>\n",
       "      <td>2007</td>\n",
       "      <td>WD</td>\n",
       "      <td>Normal</td>\n",
       "      <td>181500</td>\n",
       "    </tr>\n",
       "    <tr>\n",
       "      <th>2</th>\n",
       "      <td>3</td>\n",
       "      <td>60</td>\n",
       "      <td>RL</td>\n",
       "      <td>68.0</td>\n",
       "      <td>11250</td>\n",
       "      <td>Pave</td>\n",
       "      <td>NaN</td>\n",
       "      <td>IR1</td>\n",
       "      <td>Lvl</td>\n",
       "      <td>AllPub</td>\n",
       "      <td>...</td>\n",
       "      <td>0</td>\n",
       "      <td>NaN</td>\n",
       "      <td>NaN</td>\n",
       "      <td>NaN</td>\n",
       "      <td>0</td>\n",
       "      <td>9</td>\n",
       "      <td>2008</td>\n",
       "      <td>WD</td>\n",
       "      <td>Normal</td>\n",
       "      <td>223500</td>\n",
       "    </tr>\n",
       "    <tr>\n",
       "      <th>3</th>\n",
       "      <td>4</td>\n",
       "      <td>70</td>\n",
       "      <td>RL</td>\n",
       "      <td>60.0</td>\n",
       "      <td>9550</td>\n",
       "      <td>Pave</td>\n",
       "      <td>NaN</td>\n",
       "      <td>IR1</td>\n",
       "      <td>Lvl</td>\n",
       "      <td>AllPub</td>\n",
       "      <td>...</td>\n",
       "      <td>0</td>\n",
       "      <td>NaN</td>\n",
       "      <td>NaN</td>\n",
       "      <td>NaN</td>\n",
       "      <td>0</td>\n",
       "      <td>2</td>\n",
       "      <td>2006</td>\n",
       "      <td>WD</td>\n",
       "      <td>Abnorml</td>\n",
       "      <td>140000</td>\n",
       "    </tr>\n",
       "    <tr>\n",
       "      <th>4</th>\n",
       "      <td>5</td>\n",
       "      <td>60</td>\n",
       "      <td>RL</td>\n",
       "      <td>84.0</td>\n",
       "      <td>14260</td>\n",
       "      <td>Pave</td>\n",
       "      <td>NaN</td>\n",
       "      <td>IR1</td>\n",
       "      <td>Lvl</td>\n",
       "      <td>AllPub</td>\n",
       "      <td>...</td>\n",
       "      <td>0</td>\n",
       "      <td>NaN</td>\n",
       "      <td>NaN</td>\n",
       "      <td>NaN</td>\n",
       "      <td>0</td>\n",
       "      <td>12</td>\n",
       "      <td>2008</td>\n",
       "      <td>WD</td>\n",
       "      <td>Normal</td>\n",
       "      <td>250000</td>\n",
       "    </tr>\n",
       "    <tr>\n",
       "      <th>...</th>\n",
       "      <td>...</td>\n",
       "      <td>...</td>\n",
       "      <td>...</td>\n",
       "      <td>...</td>\n",
       "      <td>...</td>\n",
       "      <td>...</td>\n",
       "      <td>...</td>\n",
       "      <td>...</td>\n",
       "      <td>...</td>\n",
       "      <td>...</td>\n",
       "      <td>...</td>\n",
       "      <td>...</td>\n",
       "      <td>...</td>\n",
       "      <td>...</td>\n",
       "      <td>...</td>\n",
       "      <td>...</td>\n",
       "      <td>...</td>\n",
       "      <td>...</td>\n",
       "      <td>...</td>\n",
       "      <td>...</td>\n",
       "      <td>...</td>\n",
       "    </tr>\n",
       "    <tr>\n",
       "      <th>1455</th>\n",
       "      <td>1456</td>\n",
       "      <td>60</td>\n",
       "      <td>RL</td>\n",
       "      <td>62.0</td>\n",
       "      <td>7917</td>\n",
       "      <td>Pave</td>\n",
       "      <td>NaN</td>\n",
       "      <td>Reg</td>\n",
       "      <td>Lvl</td>\n",
       "      <td>AllPub</td>\n",
       "      <td>...</td>\n",
       "      <td>0</td>\n",
       "      <td>NaN</td>\n",
       "      <td>NaN</td>\n",
       "      <td>NaN</td>\n",
       "      <td>0</td>\n",
       "      <td>8</td>\n",
       "      <td>2007</td>\n",
       "      <td>WD</td>\n",
       "      <td>Normal</td>\n",
       "      <td>175000</td>\n",
       "    </tr>\n",
       "    <tr>\n",
       "      <th>1456</th>\n",
       "      <td>1457</td>\n",
       "      <td>20</td>\n",
       "      <td>RL</td>\n",
       "      <td>85.0</td>\n",
       "      <td>13175</td>\n",
       "      <td>Pave</td>\n",
       "      <td>NaN</td>\n",
       "      <td>Reg</td>\n",
       "      <td>Lvl</td>\n",
       "      <td>AllPub</td>\n",
       "      <td>...</td>\n",
       "      <td>0</td>\n",
       "      <td>NaN</td>\n",
       "      <td>MnPrv</td>\n",
       "      <td>NaN</td>\n",
       "      <td>0</td>\n",
       "      <td>2</td>\n",
       "      <td>2010</td>\n",
       "      <td>WD</td>\n",
       "      <td>Normal</td>\n",
       "      <td>210000</td>\n",
       "    </tr>\n",
       "    <tr>\n",
       "      <th>1457</th>\n",
       "      <td>1458</td>\n",
       "      <td>70</td>\n",
       "      <td>RL</td>\n",
       "      <td>66.0</td>\n",
       "      <td>9042</td>\n",
       "      <td>Pave</td>\n",
       "      <td>NaN</td>\n",
       "      <td>Reg</td>\n",
       "      <td>Lvl</td>\n",
       "      <td>AllPub</td>\n",
       "      <td>...</td>\n",
       "      <td>0</td>\n",
       "      <td>NaN</td>\n",
       "      <td>GdPrv</td>\n",
       "      <td>Shed</td>\n",
       "      <td>2500</td>\n",
       "      <td>5</td>\n",
       "      <td>2010</td>\n",
       "      <td>WD</td>\n",
       "      <td>Normal</td>\n",
       "      <td>266500</td>\n",
       "    </tr>\n",
       "    <tr>\n",
       "      <th>1458</th>\n",
       "      <td>1459</td>\n",
       "      <td>20</td>\n",
       "      <td>RL</td>\n",
       "      <td>68.0</td>\n",
       "      <td>9717</td>\n",
       "      <td>Pave</td>\n",
       "      <td>NaN</td>\n",
       "      <td>Reg</td>\n",
       "      <td>Lvl</td>\n",
       "      <td>AllPub</td>\n",
       "      <td>...</td>\n",
       "      <td>0</td>\n",
       "      <td>NaN</td>\n",
       "      <td>NaN</td>\n",
       "      <td>NaN</td>\n",
       "      <td>0</td>\n",
       "      <td>4</td>\n",
       "      <td>2010</td>\n",
       "      <td>WD</td>\n",
       "      <td>Normal</td>\n",
       "      <td>142125</td>\n",
       "    </tr>\n",
       "    <tr>\n",
       "      <th>1459</th>\n",
       "      <td>1460</td>\n",
       "      <td>20</td>\n",
       "      <td>RL</td>\n",
       "      <td>75.0</td>\n",
       "      <td>9937</td>\n",
       "      <td>Pave</td>\n",
       "      <td>NaN</td>\n",
       "      <td>Reg</td>\n",
       "      <td>Lvl</td>\n",
       "      <td>AllPub</td>\n",
       "      <td>...</td>\n",
       "      <td>0</td>\n",
       "      <td>NaN</td>\n",
       "      <td>NaN</td>\n",
       "      <td>NaN</td>\n",
       "      <td>0</td>\n",
       "      <td>6</td>\n",
       "      <td>2008</td>\n",
       "      <td>WD</td>\n",
       "      <td>Normal</td>\n",
       "      <td>147500</td>\n",
       "    </tr>\n",
       "  </tbody>\n",
       "</table>\n",
       "<p>1460 rows × 81 columns</p>\n",
       "</div>"
      ],
      "text/plain": [
       "        Id  MSSubClass MSZoning  LotFrontage  LotArea Street Alley LotShape  \\\n",
       "0        1          60       RL         65.0     8450   Pave   NaN      Reg   \n",
       "1        2          20       RL         80.0     9600   Pave   NaN      Reg   \n",
       "2        3          60       RL         68.0    11250   Pave   NaN      IR1   \n",
       "3        4          70       RL         60.0     9550   Pave   NaN      IR1   \n",
       "4        5          60       RL         84.0    14260   Pave   NaN      IR1   \n",
       "...    ...         ...      ...          ...      ...    ...   ...      ...   \n",
       "1455  1456          60       RL         62.0     7917   Pave   NaN      Reg   \n",
       "1456  1457          20       RL         85.0    13175   Pave   NaN      Reg   \n",
       "1457  1458          70       RL         66.0     9042   Pave   NaN      Reg   \n",
       "1458  1459          20       RL         68.0     9717   Pave   NaN      Reg   \n",
       "1459  1460          20       RL         75.0     9937   Pave   NaN      Reg   \n",
       "\n",
       "     LandContour Utilities  ... PoolArea PoolQC  Fence MiscFeature MiscVal  \\\n",
       "0            Lvl    AllPub  ...        0    NaN    NaN         NaN       0   \n",
       "1            Lvl    AllPub  ...        0    NaN    NaN         NaN       0   \n",
       "2            Lvl    AllPub  ...        0    NaN    NaN         NaN       0   \n",
       "3            Lvl    AllPub  ...        0    NaN    NaN         NaN       0   \n",
       "4            Lvl    AllPub  ...        0    NaN    NaN         NaN       0   \n",
       "...          ...       ...  ...      ...    ...    ...         ...     ...   \n",
       "1455         Lvl    AllPub  ...        0    NaN    NaN         NaN       0   \n",
       "1456         Lvl    AllPub  ...        0    NaN  MnPrv         NaN       0   \n",
       "1457         Lvl    AllPub  ...        0    NaN  GdPrv        Shed    2500   \n",
       "1458         Lvl    AllPub  ...        0    NaN    NaN         NaN       0   \n",
       "1459         Lvl    AllPub  ...        0    NaN    NaN         NaN       0   \n",
       "\n",
       "     MoSold YrSold  SaleType  SaleCondition  SalePrice  \n",
       "0         2   2008        WD         Normal     208500  \n",
       "1         5   2007        WD         Normal     181500  \n",
       "2         9   2008        WD         Normal     223500  \n",
       "3         2   2006        WD        Abnorml     140000  \n",
       "4        12   2008        WD         Normal     250000  \n",
       "...     ...    ...       ...            ...        ...  \n",
       "1455      8   2007        WD         Normal     175000  \n",
       "1456      2   2010        WD         Normal     210000  \n",
       "1457      5   2010        WD         Normal     266500  \n",
       "1458      4   2010        WD         Normal     142125  \n",
       "1459      6   2008        WD         Normal     147500  \n",
       "\n",
       "[1460 rows x 81 columns]"
      ]
     },
     "execution_count": 3,
     "metadata": {},
     "output_type": "execute_result"
    }
   ],
   "source": [
    "t"
   ]
  },
  {
   "cell_type": "code",
   "execution_count": 4,
   "id": "212dfb40-1862-4ad9-a111-fa6eb7271714",
   "metadata": {},
   "outputs": [
    {
     "data": {
      "text/plain": [
       "(1460, 81)"
      ]
     },
     "execution_count": 4,
     "metadata": {},
     "output_type": "execute_result"
    }
   ],
   "source": [
    "t.shape"
   ]
  },
  {
   "cell_type": "markdown",
   "id": "a960d51f-b658-4e16-9d0e-fd5cffd79fed",
   "metadata": {},
   "source": [
    "## Zugriff auf einzelne Spalten"
   ]
  },
  {
   "cell_type": "code",
   "execution_count": 5,
   "id": "4a3eab9b-f086-4082-baab-176639bf2d8c",
   "metadata": {},
   "outputs": [
    {
     "data": {
      "text/plain": [
       "Index(['Id', 'MSSubClass', 'MSZoning', 'LotFrontage', 'LotArea', 'Street',\n",
       "       'Alley', 'LotShape', 'LandContour', 'Utilities', 'LotConfig',\n",
       "       'LandSlope', 'Neighborhood', 'Condition1', 'Condition2', 'BldgType',\n",
       "       'HouseStyle', 'OverallQual', 'OverallCond', 'YearBuilt', 'YearRemodAdd',\n",
       "       'RoofStyle', 'RoofMatl', 'Exterior1st', 'Exterior2nd', 'MasVnrType',\n",
       "       'MasVnrArea', 'ExterQual', 'ExterCond', 'Foundation', 'BsmtQual',\n",
       "       'BsmtCond', 'BsmtExposure', 'BsmtFinType1', 'BsmtFinSF1',\n",
       "       'BsmtFinType2', 'BsmtFinSF2', 'BsmtUnfSF', 'TotalBsmtSF', 'Heating',\n",
       "       'HeatingQC', 'CentralAir', 'Electrical', '1stFlrSF', '2ndFlrSF',\n",
       "       'LowQualFinSF', 'GrLivArea', 'BsmtFullBath', 'BsmtHalfBath', 'FullBath',\n",
       "       'HalfBath', 'BedroomAbvGr', 'KitchenAbvGr', 'KitchenQual',\n",
       "       'TotRmsAbvGrd', 'Functional', 'Fireplaces', 'FireplaceQu', 'GarageType',\n",
       "       'GarageYrBlt', 'GarageFinish', 'GarageCars', 'GarageArea', 'GarageQual',\n",
       "       'GarageCond', 'PavedDrive', 'WoodDeckSF', 'OpenPorchSF',\n",
       "       'EnclosedPorch', '3SsnPorch', 'ScreenPorch', 'PoolArea', 'PoolQC',\n",
       "       'Fence', 'MiscFeature', 'MiscVal', 'MoSold', 'YrSold', 'SaleType',\n",
       "       'SaleCondition', 'SalePrice'],\n",
       "      dtype='object')"
      ]
     },
     "execution_count": 5,
     "metadata": {},
     "output_type": "execute_result"
    }
   ],
   "source": [
    "t.columns"
   ]
  },
  {
   "cell_type": "code",
   "execution_count": 6,
   "id": "7cc3aa61-cc1a-4e35-8736-c49d43770cea",
   "metadata": {},
   "outputs": [],
   "source": [
    "t2 = t[ [\"YearBuilt\", \"LotArea\", \"OverallQual\", \"MSZoning\", \"SalePrice\" ] ]"
   ]
  },
  {
   "cell_type": "code",
   "execution_count": 7,
   "id": "61a1312a-1866-4e61-abb9-e8d60aa5da8a",
   "metadata": {},
   "outputs": [
    {
     "data": {
      "text/html": [
       "<div>\n",
       "<style scoped>\n",
       "    .dataframe tbody tr th:only-of-type {\n",
       "        vertical-align: middle;\n",
       "    }\n",
       "\n",
       "    .dataframe tbody tr th {\n",
       "        vertical-align: top;\n",
       "    }\n",
       "\n",
       "    .dataframe thead th {\n",
       "        text-align: right;\n",
       "    }\n",
       "</style>\n",
       "<table border=\"1\" class=\"dataframe\">\n",
       "  <thead>\n",
       "    <tr style=\"text-align: right;\">\n",
       "      <th></th>\n",
       "      <th>YearBuilt</th>\n",
       "      <th>LotArea</th>\n",
       "      <th>OverallQual</th>\n",
       "      <th>MSZoning</th>\n",
       "      <th>SalePrice</th>\n",
       "    </tr>\n",
       "  </thead>\n",
       "  <tbody>\n",
       "    <tr>\n",
       "      <th>0</th>\n",
       "      <td>2003</td>\n",
       "      <td>8450</td>\n",
       "      <td>7</td>\n",
       "      <td>RL</td>\n",
       "      <td>208500</td>\n",
       "    </tr>\n",
       "    <tr>\n",
       "      <th>1</th>\n",
       "      <td>1976</td>\n",
       "      <td>9600</td>\n",
       "      <td>6</td>\n",
       "      <td>RL</td>\n",
       "      <td>181500</td>\n",
       "    </tr>\n",
       "    <tr>\n",
       "      <th>2</th>\n",
       "      <td>2001</td>\n",
       "      <td>11250</td>\n",
       "      <td>7</td>\n",
       "      <td>RL</td>\n",
       "      <td>223500</td>\n",
       "    </tr>\n",
       "    <tr>\n",
       "      <th>3</th>\n",
       "      <td>1915</td>\n",
       "      <td>9550</td>\n",
       "      <td>7</td>\n",
       "      <td>RL</td>\n",
       "      <td>140000</td>\n",
       "    </tr>\n",
       "    <tr>\n",
       "      <th>4</th>\n",
       "      <td>2000</td>\n",
       "      <td>14260</td>\n",
       "      <td>8</td>\n",
       "      <td>RL</td>\n",
       "      <td>250000</td>\n",
       "    </tr>\n",
       "    <tr>\n",
       "      <th>...</th>\n",
       "      <td>...</td>\n",
       "      <td>...</td>\n",
       "      <td>...</td>\n",
       "      <td>...</td>\n",
       "      <td>...</td>\n",
       "    </tr>\n",
       "    <tr>\n",
       "      <th>1455</th>\n",
       "      <td>1999</td>\n",
       "      <td>7917</td>\n",
       "      <td>6</td>\n",
       "      <td>RL</td>\n",
       "      <td>175000</td>\n",
       "    </tr>\n",
       "    <tr>\n",
       "      <th>1456</th>\n",
       "      <td>1978</td>\n",
       "      <td>13175</td>\n",
       "      <td>6</td>\n",
       "      <td>RL</td>\n",
       "      <td>210000</td>\n",
       "    </tr>\n",
       "    <tr>\n",
       "      <th>1457</th>\n",
       "      <td>1941</td>\n",
       "      <td>9042</td>\n",
       "      <td>7</td>\n",
       "      <td>RL</td>\n",
       "      <td>266500</td>\n",
       "    </tr>\n",
       "    <tr>\n",
       "      <th>1458</th>\n",
       "      <td>1950</td>\n",
       "      <td>9717</td>\n",
       "      <td>5</td>\n",
       "      <td>RL</td>\n",
       "      <td>142125</td>\n",
       "    </tr>\n",
       "    <tr>\n",
       "      <th>1459</th>\n",
       "      <td>1965</td>\n",
       "      <td>9937</td>\n",
       "      <td>5</td>\n",
       "      <td>RL</td>\n",
       "      <td>147500</td>\n",
       "    </tr>\n",
       "  </tbody>\n",
       "</table>\n",
       "<p>1460 rows × 5 columns</p>\n",
       "</div>"
      ],
      "text/plain": [
       "      YearBuilt  LotArea  OverallQual MSZoning  SalePrice\n",
       "0          2003     8450            7       RL     208500\n",
       "1          1976     9600            6       RL     181500\n",
       "2          2001    11250            7       RL     223500\n",
       "3          1915     9550            7       RL     140000\n",
       "4          2000    14260            8       RL     250000\n",
       "...         ...      ...          ...      ...        ...\n",
       "1455       1999     7917            6       RL     175000\n",
       "1456       1978    13175            6       RL     210000\n",
       "1457       1941     9042            7       RL     266500\n",
       "1458       1950     9717            5       RL     142125\n",
       "1459       1965     9937            5       RL     147500\n",
       "\n",
       "[1460 rows x 5 columns]"
      ]
     },
     "execution_count": 7,
     "metadata": {},
     "output_type": "execute_result"
    }
   ],
   "source": [
    "t2"
   ]
  },
  {
   "cell_type": "markdown",
   "id": "df66c3d1-ba64-4af8-8fa0-7072d54ad76b",
   "metadata": {},
   "source": [
    "## Zugriff auf einzelne oder mehrere Zeilen"
   ]
  },
  {
   "cell_type": "code",
   "execution_count": 8,
   "id": "94b90db4-89a1-4b67-b3ee-3e15605895bc",
   "metadata": {},
   "outputs": [
    {
     "data": {
      "text/plain": [
       "YearBuilt        2003\n",
       "LotArea          8450\n",
       "OverallQual         7\n",
       "MSZoning           RL\n",
       "SalePrice      208500\n",
       "Name: 0, dtype: object"
      ]
     },
     "execution_count": 8,
     "metadata": {},
     "output_type": "execute_result"
    }
   ],
   "source": [
    "t2.iloc[0]"
   ]
  },
  {
   "cell_type": "code",
   "execution_count": 9,
   "id": "b83381be-4dd8-4548-a110-de9a55640a28",
   "metadata": {},
   "outputs": [
    {
     "data": {
      "text/html": [
       "<div>\n",
       "<style scoped>\n",
       "    .dataframe tbody tr th:only-of-type {\n",
       "        vertical-align: middle;\n",
       "    }\n",
       "\n",
       "    .dataframe tbody tr th {\n",
       "        vertical-align: top;\n",
       "    }\n",
       "\n",
       "    .dataframe thead th {\n",
       "        text-align: right;\n",
       "    }\n",
       "</style>\n",
       "<table border=\"1\" class=\"dataframe\">\n",
       "  <thead>\n",
       "    <tr style=\"text-align: right;\">\n",
       "      <th></th>\n",
       "      <th>YearBuilt</th>\n",
       "      <th>LotArea</th>\n",
       "      <th>OverallQual</th>\n",
       "      <th>MSZoning</th>\n",
       "      <th>SalePrice</th>\n",
       "    </tr>\n",
       "  </thead>\n",
       "  <tbody>\n",
       "    <tr>\n",
       "      <th>0</th>\n",
       "      <td>2003</td>\n",
       "      <td>8450</td>\n",
       "      <td>7</td>\n",
       "      <td>RL</td>\n",
       "      <td>208500</td>\n",
       "    </tr>\n",
       "    <tr>\n",
       "      <th>1</th>\n",
       "      <td>1976</td>\n",
       "      <td>9600</td>\n",
       "      <td>6</td>\n",
       "      <td>RL</td>\n",
       "      <td>181500</td>\n",
       "    </tr>\n",
       "    <tr>\n",
       "      <th>2</th>\n",
       "      <td>2001</td>\n",
       "      <td>11250</td>\n",
       "      <td>7</td>\n",
       "      <td>RL</td>\n",
       "      <td>223500</td>\n",
       "    </tr>\n",
       "    <tr>\n",
       "      <th>3</th>\n",
       "      <td>1915</td>\n",
       "      <td>9550</td>\n",
       "      <td>7</td>\n",
       "      <td>RL</td>\n",
       "      <td>140000</td>\n",
       "    </tr>\n",
       "    <tr>\n",
       "      <th>4</th>\n",
       "      <td>2000</td>\n",
       "      <td>14260</td>\n",
       "      <td>8</td>\n",
       "      <td>RL</td>\n",
       "      <td>250000</td>\n",
       "    </tr>\n",
       "  </tbody>\n",
       "</table>\n",
       "</div>"
      ],
      "text/plain": [
       "   YearBuilt  LotArea  OverallQual MSZoning  SalePrice\n",
       "0       2003     8450            7       RL     208500\n",
       "1       1976     9600            6       RL     181500\n",
       "2       2001    11250            7       RL     223500\n",
       "3       1915     9550            7       RL     140000\n",
       "4       2000    14260            8       RL     250000"
      ]
     },
     "execution_count": 9,
     "metadata": {},
     "output_type": "execute_result"
    }
   ],
   "source": [
    "t2.iloc[0:5]"
   ]
  },
  {
   "cell_type": "code",
   "execution_count": 10,
   "id": "5fb8f749-d01e-4bdc-ae07-c27ad81923ba",
   "metadata": {},
   "outputs": [
    {
     "data": {
      "text/html": [
       "<div>\n",
       "<style scoped>\n",
       "    .dataframe tbody tr th:only-of-type {\n",
       "        vertical-align: middle;\n",
       "    }\n",
       "\n",
       "    .dataframe tbody tr th {\n",
       "        vertical-align: top;\n",
       "    }\n",
       "\n",
       "    .dataframe thead th {\n",
       "        text-align: right;\n",
       "    }\n",
       "</style>\n",
       "<table border=\"1\" class=\"dataframe\">\n",
       "  <thead>\n",
       "    <tr style=\"text-align: right;\">\n",
       "      <th></th>\n",
       "      <th>YearBuilt</th>\n",
       "      <th>LotArea</th>\n",
       "      <th>OverallQual</th>\n",
       "      <th>MSZoning</th>\n",
       "      <th>SalePrice</th>\n",
       "    </tr>\n",
       "  </thead>\n",
       "  <tbody>\n",
       "    <tr>\n",
       "      <th>0</th>\n",
       "      <td>2003</td>\n",
       "      <td>8450</td>\n",
       "      <td>7</td>\n",
       "      <td>RL</td>\n",
       "      <td>208500</td>\n",
       "    </tr>\n",
       "    <tr>\n",
       "      <th>1</th>\n",
       "      <td>1976</td>\n",
       "      <td>9600</td>\n",
       "      <td>6</td>\n",
       "      <td>RL</td>\n",
       "      <td>181500</td>\n",
       "    </tr>\n",
       "    <tr>\n",
       "      <th>2</th>\n",
       "      <td>2001</td>\n",
       "      <td>11250</td>\n",
       "      <td>7</td>\n",
       "      <td>RL</td>\n",
       "      <td>223500</td>\n",
       "    </tr>\n",
       "    <tr>\n",
       "      <th>1458</th>\n",
       "      <td>1950</td>\n",
       "      <td>9717</td>\n",
       "      <td>5</td>\n",
       "      <td>RL</td>\n",
       "      <td>142125</td>\n",
       "    </tr>\n",
       "    <tr>\n",
       "      <th>1459</th>\n",
       "      <td>1965</td>\n",
       "      <td>9937</td>\n",
       "      <td>5</td>\n",
       "      <td>RL</td>\n",
       "      <td>147500</td>\n",
       "    </tr>\n",
       "  </tbody>\n",
       "</table>\n",
       "</div>"
      ],
      "text/plain": [
       "      YearBuilt  LotArea  OverallQual MSZoning  SalePrice\n",
       "0          2003     8450            7       RL     208500\n",
       "1          1976     9600            6       RL     181500\n",
       "2          2001    11250            7       RL     223500\n",
       "1458       1950     9717            5       RL     142125\n",
       "1459       1965     9937            5       RL     147500"
      ]
     },
     "execution_count": 10,
     "metadata": {},
     "output_type": "execute_result"
    }
   ],
   "source": [
    "t2.iloc[ [0,1,2,1458,1459] ]"
   ]
  },
  {
   "cell_type": "markdown",
   "id": "ae1c6ab3-00e7-47d6-bfbd-5816001bede6",
   "metadata": {},
   "source": [
    "## Filtern nach Bedingungen"
   ]
  },
  {
   "cell_type": "code",
   "execution_count": 11,
   "id": "9887f9c3-cfda-49ee-9d80-c7435c0e0283",
   "metadata": {},
   "outputs": [
    {
     "data": {
      "text/html": [
       "<div>\n",
       "<style scoped>\n",
       "    .dataframe tbody tr th:only-of-type {\n",
       "        vertical-align: middle;\n",
       "    }\n",
       "\n",
       "    .dataframe tbody tr th {\n",
       "        vertical-align: top;\n",
       "    }\n",
       "\n",
       "    .dataframe thead th {\n",
       "        text-align: right;\n",
       "    }\n",
       "</style>\n",
       "<table border=\"1\" class=\"dataframe\">\n",
       "  <thead>\n",
       "    <tr style=\"text-align: right;\">\n",
       "      <th></th>\n",
       "      <th>YearBuilt</th>\n",
       "      <th>LotArea</th>\n",
       "      <th>OverallQual</th>\n",
       "      <th>MSZoning</th>\n",
       "      <th>SalePrice</th>\n",
       "    </tr>\n",
       "  </thead>\n",
       "  <tbody>\n",
       "    <tr>\n",
       "      <th>11</th>\n",
       "      <td>2005</td>\n",
       "      <td>11924</td>\n",
       "      <td>9</td>\n",
       "      <td>RL</td>\n",
       "      <td>345000</td>\n",
       "    </tr>\n",
       "    <tr>\n",
       "      <th>20</th>\n",
       "      <td>2005</td>\n",
       "      <td>14215</td>\n",
       "      <td>8</td>\n",
       "      <td>RL</td>\n",
       "      <td>325300</td>\n",
       "    </tr>\n",
       "    <tr>\n",
       "      <th>34</th>\n",
       "      <td>2005</td>\n",
       "      <td>7313</td>\n",
       "      <td>9</td>\n",
       "      <td>RL</td>\n",
       "      <td>277500</td>\n",
       "    </tr>\n",
       "    <tr>\n",
       "      <th>45</th>\n",
       "      <td>2005</td>\n",
       "      <td>7658</td>\n",
       "      <td>9</td>\n",
       "      <td>RL</td>\n",
       "      <td>319900</td>\n",
       "    </tr>\n",
       "    <tr>\n",
       "      <th>86</th>\n",
       "      <td>2005</td>\n",
       "      <td>11911</td>\n",
       "      <td>6</td>\n",
       "      <td>RL</td>\n",
       "      <td>174000</td>\n",
       "    </tr>\n",
       "    <tr>\n",
       "      <th>...</th>\n",
       "      <td>...</td>\n",
       "      <td>...</td>\n",
       "      <td>...</td>\n",
       "      <td>...</td>\n",
       "      <td>...</td>\n",
       "    </tr>\n",
       "    <tr>\n",
       "      <th>1374</th>\n",
       "      <td>2005</td>\n",
       "      <td>10625</td>\n",
       "      <td>7</td>\n",
       "      <td>FV</td>\n",
       "      <td>250000</td>\n",
       "    </tr>\n",
       "    <tr>\n",
       "      <th>1395</th>\n",
       "      <td>2005</td>\n",
       "      <td>12665</td>\n",
       "      <td>8</td>\n",
       "      <td>RL</td>\n",
       "      <td>281213</td>\n",
       "    </tr>\n",
       "    <tr>\n",
       "      <th>1413</th>\n",
       "      <td>2005</td>\n",
       "      <td>10994</td>\n",
       "      <td>8</td>\n",
       "      <td>RL</td>\n",
       "      <td>257000</td>\n",
       "    </tr>\n",
       "    <tr>\n",
       "      <th>1430</th>\n",
       "      <td>2005</td>\n",
       "      <td>21930</td>\n",
       "      <td>5</td>\n",
       "      <td>RL</td>\n",
       "      <td>192140</td>\n",
       "    </tr>\n",
       "    <tr>\n",
       "      <th>1452</th>\n",
       "      <td>2005</td>\n",
       "      <td>3675</td>\n",
       "      <td>5</td>\n",
       "      <td>RM</td>\n",
       "      <td>145000</td>\n",
       "    </tr>\n",
       "  </tbody>\n",
       "</table>\n",
       "<p>64 rows × 5 columns</p>\n",
       "</div>"
      ],
      "text/plain": [
       "      YearBuilt  LotArea  OverallQual MSZoning  SalePrice\n",
       "11         2005    11924            9       RL     345000\n",
       "20         2005    14215            8       RL     325300\n",
       "34         2005     7313            9       RL     277500\n",
       "45         2005     7658            9       RL     319900\n",
       "86         2005    11911            6       RL     174000\n",
       "...         ...      ...          ...      ...        ...\n",
       "1374       2005    10625            7       FV     250000\n",
       "1395       2005    12665            8       RL     281213\n",
       "1413       2005    10994            8       RL     257000\n",
       "1430       2005    21930            5       RL     192140\n",
       "1452       2005     3675            5       RM     145000\n",
       "\n",
       "[64 rows x 5 columns]"
      ]
     },
     "execution_count": 11,
     "metadata": {},
     "output_type": "execute_result"
    }
   ],
   "source": [
    "t2[ t2[\"YearBuilt\"] == 2005 ]"
   ]
  },
  {
   "cell_type": "code",
   "execution_count": 12,
   "id": "20ea5812-6080-44ee-ac04-e94d8580ee8f",
   "metadata": {},
   "outputs": [
    {
     "data": {
      "text/plain": [
       "64"
      ]
     },
     "execution_count": 12,
     "metadata": {},
     "output_type": "execute_result"
    }
   ],
   "source": [
    "len( t2[ t2[\"YearBuilt\"] == 2005 ] )"
   ]
  },
  {
   "cell_type": "code",
   "execution_count": 13,
   "id": "d5bccbac-607d-4105-a607-8a9f5bb7ce3a",
   "metadata": {},
   "outputs": [
    {
     "data": {
      "text/html": [
       "<div>\n",
       "<style scoped>\n",
       "    .dataframe tbody tr th:only-of-type {\n",
       "        vertical-align: middle;\n",
       "    }\n",
       "\n",
       "    .dataframe tbody tr th {\n",
       "        vertical-align: top;\n",
       "    }\n",
       "\n",
       "    .dataframe thead th {\n",
       "        text-align: right;\n",
       "    }\n",
       "</style>\n",
       "<table border=\"1\" class=\"dataframe\">\n",
       "  <thead>\n",
       "    <tr style=\"text-align: right;\">\n",
       "      <th></th>\n",
       "      <th>YearBuilt</th>\n",
       "      <th>LotArea</th>\n",
       "      <th>OverallQual</th>\n",
       "      <th>MSZoning</th>\n",
       "      <th>SalePrice</th>\n",
       "    </tr>\n",
       "  </thead>\n",
       "  <tbody>\n",
       "    <tr>\n",
       "      <th>0</th>\n",
       "      <td>2003</td>\n",
       "      <td>8450</td>\n",
       "      <td>7</td>\n",
       "      <td>RL</td>\n",
       "      <td>208500</td>\n",
       "    </tr>\n",
       "    <tr>\n",
       "      <th>2</th>\n",
       "      <td>2001</td>\n",
       "      <td>11250</td>\n",
       "      <td>7</td>\n",
       "      <td>RL</td>\n",
       "      <td>223500</td>\n",
       "    </tr>\n",
       "    <tr>\n",
       "      <th>4</th>\n",
       "      <td>2000</td>\n",
       "      <td>14260</td>\n",
       "      <td>8</td>\n",
       "      <td>RL</td>\n",
       "      <td>250000</td>\n",
       "    </tr>\n",
       "    <tr>\n",
       "      <th>6</th>\n",
       "      <td>2004</td>\n",
       "      <td>10084</td>\n",
       "      <td>8</td>\n",
       "      <td>RL</td>\n",
       "      <td>307000</td>\n",
       "    </tr>\n",
       "    <tr>\n",
       "      <th>11</th>\n",
       "      <td>2005</td>\n",
       "      <td>11924</td>\n",
       "      <td>9</td>\n",
       "      <td>RL</td>\n",
       "      <td>345000</td>\n",
       "    </tr>\n",
       "    <tr>\n",
       "      <th>...</th>\n",
       "      <td>...</td>\n",
       "      <td>...</td>\n",
       "      <td>...</td>\n",
       "      <td>...</td>\n",
       "      <td>...</td>\n",
       "    </tr>\n",
       "    <tr>\n",
       "      <th>1444</th>\n",
       "      <td>2004</td>\n",
       "      <td>8500</td>\n",
       "      <td>7</td>\n",
       "      <td>RL</td>\n",
       "      <td>179600</td>\n",
       "    </tr>\n",
       "    <tr>\n",
       "      <th>1451</th>\n",
       "      <td>2008</td>\n",
       "      <td>9262</td>\n",
       "      <td>8</td>\n",
       "      <td>RL</td>\n",
       "      <td>287090</td>\n",
       "    </tr>\n",
       "    <tr>\n",
       "      <th>1452</th>\n",
       "      <td>2005</td>\n",
       "      <td>3675</td>\n",
       "      <td>5</td>\n",
       "      <td>RM</td>\n",
       "      <td>145000</td>\n",
       "    </tr>\n",
       "    <tr>\n",
       "      <th>1453</th>\n",
       "      <td>2006</td>\n",
       "      <td>17217</td>\n",
       "      <td>5</td>\n",
       "      <td>RL</td>\n",
       "      <td>84500</td>\n",
       "    </tr>\n",
       "    <tr>\n",
       "      <th>1454</th>\n",
       "      <td>2004</td>\n",
       "      <td>7500</td>\n",
       "      <td>7</td>\n",
       "      <td>FV</td>\n",
       "      <td>185000</td>\n",
       "    </tr>\n",
       "  </tbody>\n",
       "</table>\n",
       "<p>388 rows × 5 columns</p>\n",
       "</div>"
      ],
      "text/plain": [
       "      YearBuilt  LotArea  OverallQual MSZoning  SalePrice\n",
       "0          2003     8450            7       RL     208500\n",
       "2          2001    11250            7       RL     223500\n",
       "4          2000    14260            8       RL     250000\n",
       "6          2004    10084            8       RL     307000\n",
       "11         2005    11924            9       RL     345000\n",
       "...         ...      ...          ...      ...        ...\n",
       "1444       2004     8500            7       RL     179600\n",
       "1451       2008     9262            8       RL     287090\n",
       "1452       2005     3675            5       RM     145000\n",
       "1453       2006    17217            5       RL      84500\n",
       "1454       2004     7500            7       FV     185000\n",
       "\n",
       "[388 rows x 5 columns]"
      ]
     },
     "execution_count": 13,
     "metadata": {},
     "output_type": "execute_result"
    }
   ],
   "source": [
    "t2[ t2[\"YearBuilt\"] >= 2000 ]"
   ]
  },
  {
   "cell_type": "code",
   "execution_count": 14,
   "id": "c1e0de59-89fa-4302-a03e-cdcba3ab3525",
   "metadata": {},
   "outputs": [
    {
     "data": {
      "text/html": [
       "<div>\n",
       "<style scoped>\n",
       "    .dataframe tbody tr th:only-of-type {\n",
       "        vertical-align: middle;\n",
       "    }\n",
       "\n",
       "    .dataframe tbody tr th {\n",
       "        vertical-align: top;\n",
       "    }\n",
       "\n",
       "    .dataframe thead th {\n",
       "        text-align: right;\n",
       "    }\n",
       "</style>\n",
       "<table border=\"1\" class=\"dataframe\">\n",
       "  <thead>\n",
       "    <tr style=\"text-align: right;\">\n",
       "      <th></th>\n",
       "      <th>YearBuilt</th>\n",
       "      <th>LotArea</th>\n",
       "      <th>OverallQual</th>\n",
       "      <th>MSZoning</th>\n",
       "      <th>SalePrice</th>\n",
       "    </tr>\n",
       "  </thead>\n",
       "  <tbody>\n",
       "    <tr>\n",
       "      <th>145</th>\n",
       "      <td>2004</td>\n",
       "      <td>2522</td>\n",
       "      <td>6</td>\n",
       "      <td>RM</td>\n",
       "      <td>130000</td>\n",
       "    </tr>\n",
       "    <tr>\n",
       "      <th>193</th>\n",
       "      <td>2004</td>\n",
       "      <td>2522</td>\n",
       "      <td>7</td>\n",
       "      <td>RM</td>\n",
       "      <td>130000</td>\n",
       "    </tr>\n",
       "    <tr>\n",
       "      <th>200</th>\n",
       "      <td>2003</td>\n",
       "      <td>8546</td>\n",
       "      <td>4</td>\n",
       "      <td>RM</td>\n",
       "      <td>140000</td>\n",
       "    </tr>\n",
       "    <tr>\n",
       "      <th>593</th>\n",
       "      <td>2003</td>\n",
       "      <td>4435</td>\n",
       "      <td>6</td>\n",
       "      <td>RM</td>\n",
       "      <td>140000</td>\n",
       "    </tr>\n",
       "    <tr>\n",
       "      <th>850</th>\n",
       "      <td>2003</td>\n",
       "      <td>4435</td>\n",
       "      <td>6</td>\n",
       "      <td>RM</td>\n",
       "      <td>131500</td>\n",
       "    </tr>\n",
       "    <tr>\n",
       "      <th>1088</th>\n",
       "      <td>2004</td>\n",
       "      <td>2522</td>\n",
       "      <td>7</td>\n",
       "      <td>RM</td>\n",
       "      <td>137500</td>\n",
       "    </tr>\n",
       "    <tr>\n",
       "      <th>1297</th>\n",
       "      <td>2005</td>\n",
       "      <td>3675</td>\n",
       "      <td>6</td>\n",
       "      <td>RM</td>\n",
       "      <td>140000</td>\n",
       "    </tr>\n",
       "    <tr>\n",
       "      <th>1304</th>\n",
       "      <td>2004</td>\n",
       "      <td>3363</td>\n",
       "      <td>7</td>\n",
       "      <td>RM</td>\n",
       "      <td>130000</td>\n",
       "    </tr>\n",
       "    <tr>\n",
       "      <th>1422</th>\n",
       "      <td>2003</td>\n",
       "      <td>4435</td>\n",
       "      <td>6</td>\n",
       "      <td>RM</td>\n",
       "      <td>136500</td>\n",
       "    </tr>\n",
       "    <tr>\n",
       "      <th>1453</th>\n",
       "      <td>2006</td>\n",
       "      <td>17217</td>\n",
       "      <td>5</td>\n",
       "      <td>RL</td>\n",
       "      <td>84500</td>\n",
       "    </tr>\n",
       "  </tbody>\n",
       "</table>\n",
       "</div>"
      ],
      "text/plain": [
       "      YearBuilt  LotArea  OverallQual MSZoning  SalePrice\n",
       "145        2004     2522            6       RM     130000\n",
       "193        2004     2522            7       RM     130000\n",
       "200        2003     8546            4       RM     140000\n",
       "593        2003     4435            6       RM     140000\n",
       "850        2003     4435            6       RM     131500\n",
       "1088       2004     2522            7       RM     137500\n",
       "1297       2005     3675            6       RM     140000\n",
       "1304       2004     3363            7       RM     130000\n",
       "1422       2003     4435            6       RM     136500\n",
       "1453       2006    17217            5       RL      84500"
      ]
     },
     "execution_count": 14,
     "metadata": {},
     "output_type": "execute_result"
    }
   ],
   "source": [
    "t2[ (t2[\"YearBuilt\"] >= 2000) & (t2[\"SalePrice\"] <= 140000) ]"
   ]
  },
  {
   "cell_type": "markdown",
   "id": "189e29d1-52ce-4833-b103-8ee480d012fb",
   "metadata": {},
   "source": [
    "## Data Scrubbing: Daten auf Konsistenz überprüfen"
   ]
  },
  {
   "cell_type": "code",
   "execution_count": 15,
   "id": "5c6af309-2f8d-4474-8fb1-eb194e990fe1",
   "metadata": {},
   "outputs": [
    {
     "data": {
      "text/html": [
       "<div>\n",
       "<style scoped>\n",
       "    .dataframe tbody tr th:only-of-type {\n",
       "        vertical-align: middle;\n",
       "    }\n",
       "\n",
       "    .dataframe tbody tr th {\n",
       "        vertical-align: top;\n",
       "    }\n",
       "\n",
       "    .dataframe thead th {\n",
       "        text-align: right;\n",
       "    }\n",
       "</style>\n",
       "<table border=\"1\" class=\"dataframe\">\n",
       "  <thead>\n",
       "    <tr style=\"text-align: right;\">\n",
       "      <th></th>\n",
       "      <th>YearBuilt</th>\n",
       "      <th>LotArea</th>\n",
       "      <th>OverallQual</th>\n",
       "      <th>SalePrice</th>\n",
       "    </tr>\n",
       "  </thead>\n",
       "  <tbody>\n",
       "    <tr>\n",
       "      <th>count</th>\n",
       "      <td>1460.000000</td>\n",
       "      <td>1460.000000</td>\n",
       "      <td>1460.000000</td>\n",
       "      <td>1460.000000</td>\n",
       "    </tr>\n",
       "    <tr>\n",
       "      <th>mean</th>\n",
       "      <td>1971.267808</td>\n",
       "      <td>10516.828082</td>\n",
       "      <td>6.099315</td>\n",
       "      <td>180921.195890</td>\n",
       "    </tr>\n",
       "    <tr>\n",
       "      <th>std</th>\n",
       "      <td>30.202904</td>\n",
       "      <td>9981.264932</td>\n",
       "      <td>1.382997</td>\n",
       "      <td>79442.502883</td>\n",
       "    </tr>\n",
       "    <tr>\n",
       "      <th>min</th>\n",
       "      <td>1872.000000</td>\n",
       "      <td>1300.000000</td>\n",
       "      <td>1.000000</td>\n",
       "      <td>34900.000000</td>\n",
       "    </tr>\n",
       "    <tr>\n",
       "      <th>25%</th>\n",
       "      <td>1954.000000</td>\n",
       "      <td>7553.500000</td>\n",
       "      <td>5.000000</td>\n",
       "      <td>129975.000000</td>\n",
       "    </tr>\n",
       "    <tr>\n",
       "      <th>50%</th>\n",
       "      <td>1973.000000</td>\n",
       "      <td>9478.500000</td>\n",
       "      <td>6.000000</td>\n",
       "      <td>163000.000000</td>\n",
       "    </tr>\n",
       "    <tr>\n",
       "      <th>75%</th>\n",
       "      <td>2000.000000</td>\n",
       "      <td>11601.500000</td>\n",
       "      <td>7.000000</td>\n",
       "      <td>214000.000000</td>\n",
       "    </tr>\n",
       "    <tr>\n",
       "      <th>max</th>\n",
       "      <td>2010.000000</td>\n",
       "      <td>215245.000000</td>\n",
       "      <td>10.000000</td>\n",
       "      <td>755000.000000</td>\n",
       "    </tr>\n",
       "  </tbody>\n",
       "</table>\n",
       "</div>"
      ],
      "text/plain": [
       "         YearBuilt        LotArea  OverallQual      SalePrice\n",
       "count  1460.000000    1460.000000  1460.000000    1460.000000\n",
       "mean   1971.267808   10516.828082     6.099315  180921.195890\n",
       "std      30.202904    9981.264932     1.382997   79442.502883\n",
       "min    1872.000000    1300.000000     1.000000   34900.000000\n",
       "25%    1954.000000    7553.500000     5.000000  129975.000000\n",
       "50%    1973.000000    9478.500000     6.000000  163000.000000\n",
       "75%    2000.000000   11601.500000     7.000000  214000.000000\n",
       "max    2010.000000  215245.000000    10.000000  755000.000000"
      ]
     },
     "execution_count": 15,
     "metadata": {},
     "output_type": "execute_result"
    }
   ],
   "source": [
    "t2.describe()"
   ]
  },
  {
   "cell_type": "code",
   "execution_count": 16,
   "id": "03c510bc-5237-4962-aa8e-35ef2bd20521",
   "metadata": {},
   "outputs": [],
   "source": [
    "t3 = pandas.DataFrame( {\"YearBuilt\" : [3000, 4000], \"SalePrice\" : [0,10000000]}, index=[2000,2001] )"
   ]
  },
  {
   "cell_type": "code",
   "execution_count": 17,
   "id": "43390d68-8228-429b-b7fe-5c66505dae2f",
   "metadata": {},
   "outputs": [
    {
     "data": {
      "text/html": [
       "<div>\n",
       "<style scoped>\n",
       "    .dataframe tbody tr th:only-of-type {\n",
       "        vertical-align: middle;\n",
       "    }\n",
       "\n",
       "    .dataframe tbody tr th {\n",
       "        vertical-align: top;\n",
       "    }\n",
       "\n",
       "    .dataframe thead th {\n",
       "        text-align: right;\n",
       "    }\n",
       "</style>\n",
       "<table border=\"1\" class=\"dataframe\">\n",
       "  <thead>\n",
       "    <tr style=\"text-align: right;\">\n",
       "      <th></th>\n",
       "      <th>YearBuilt</th>\n",
       "      <th>SalePrice</th>\n",
       "    </tr>\n",
       "  </thead>\n",
       "  <tbody>\n",
       "    <tr>\n",
       "      <th>2000</th>\n",
       "      <td>3000</td>\n",
       "      <td>0</td>\n",
       "    </tr>\n",
       "    <tr>\n",
       "      <th>2001</th>\n",
       "      <td>4000</td>\n",
       "      <td>10000000</td>\n",
       "    </tr>\n",
       "  </tbody>\n",
       "</table>\n",
       "</div>"
      ],
      "text/plain": [
       "      YearBuilt  SalePrice\n",
       "2000       3000          0\n",
       "2001       4000   10000000"
      ]
     },
     "execution_count": 17,
     "metadata": {},
     "output_type": "execute_result"
    }
   ],
   "source": [
    "t3"
   ]
  },
  {
   "cell_type": "code",
   "execution_count": 18,
   "id": "93ed2a46-0303-4a7d-a0d8-02e4d9806be1",
   "metadata": {},
   "outputs": [],
   "source": [
    "t4 = pandas.concat( [t2, t3] )"
   ]
  },
  {
   "cell_type": "code",
   "execution_count": 19,
   "id": "e8915232-80a2-4f18-bee9-f06749856d36",
   "metadata": {},
   "outputs": [
    {
     "data": {
      "text/html": [
       "<div>\n",
       "<style scoped>\n",
       "    .dataframe tbody tr th:only-of-type {\n",
       "        vertical-align: middle;\n",
       "    }\n",
       "\n",
       "    .dataframe tbody tr th {\n",
       "        vertical-align: top;\n",
       "    }\n",
       "\n",
       "    .dataframe thead th {\n",
       "        text-align: right;\n",
       "    }\n",
       "</style>\n",
       "<table border=\"1\" class=\"dataframe\">\n",
       "  <thead>\n",
       "    <tr style=\"text-align: right;\">\n",
       "      <th></th>\n",
       "      <th>YearBuilt</th>\n",
       "      <th>LotArea</th>\n",
       "      <th>OverallQual</th>\n",
       "      <th>MSZoning</th>\n",
       "      <th>SalePrice</th>\n",
       "    </tr>\n",
       "  </thead>\n",
       "  <tbody>\n",
       "    <tr>\n",
       "      <th>0</th>\n",
       "      <td>2003</td>\n",
       "      <td>8450.0</td>\n",
       "      <td>7.0</td>\n",
       "      <td>RL</td>\n",
       "      <td>208500</td>\n",
       "    </tr>\n",
       "    <tr>\n",
       "      <th>1</th>\n",
       "      <td>1976</td>\n",
       "      <td>9600.0</td>\n",
       "      <td>6.0</td>\n",
       "      <td>RL</td>\n",
       "      <td>181500</td>\n",
       "    </tr>\n",
       "    <tr>\n",
       "      <th>2</th>\n",
       "      <td>2001</td>\n",
       "      <td>11250.0</td>\n",
       "      <td>7.0</td>\n",
       "      <td>RL</td>\n",
       "      <td>223500</td>\n",
       "    </tr>\n",
       "    <tr>\n",
       "      <th>3</th>\n",
       "      <td>1915</td>\n",
       "      <td>9550.0</td>\n",
       "      <td>7.0</td>\n",
       "      <td>RL</td>\n",
       "      <td>140000</td>\n",
       "    </tr>\n",
       "    <tr>\n",
       "      <th>4</th>\n",
       "      <td>2000</td>\n",
       "      <td>14260.0</td>\n",
       "      <td>8.0</td>\n",
       "      <td>RL</td>\n",
       "      <td>250000</td>\n",
       "    </tr>\n",
       "    <tr>\n",
       "      <th>...</th>\n",
       "      <td>...</td>\n",
       "      <td>...</td>\n",
       "      <td>...</td>\n",
       "      <td>...</td>\n",
       "      <td>...</td>\n",
       "    </tr>\n",
       "    <tr>\n",
       "      <th>1457</th>\n",
       "      <td>1941</td>\n",
       "      <td>9042.0</td>\n",
       "      <td>7.0</td>\n",
       "      <td>RL</td>\n",
       "      <td>266500</td>\n",
       "    </tr>\n",
       "    <tr>\n",
       "      <th>1458</th>\n",
       "      <td>1950</td>\n",
       "      <td>9717.0</td>\n",
       "      <td>5.0</td>\n",
       "      <td>RL</td>\n",
       "      <td>142125</td>\n",
       "    </tr>\n",
       "    <tr>\n",
       "      <th>1459</th>\n",
       "      <td>1965</td>\n",
       "      <td>9937.0</td>\n",
       "      <td>5.0</td>\n",
       "      <td>RL</td>\n",
       "      <td>147500</td>\n",
       "    </tr>\n",
       "    <tr>\n",
       "      <th>2000</th>\n",
       "      <td>3000</td>\n",
       "      <td>NaN</td>\n",
       "      <td>NaN</td>\n",
       "      <td>NaN</td>\n",
       "      <td>0</td>\n",
       "    </tr>\n",
       "    <tr>\n",
       "      <th>2001</th>\n",
       "      <td>4000</td>\n",
       "      <td>NaN</td>\n",
       "      <td>NaN</td>\n",
       "      <td>NaN</td>\n",
       "      <td>10000000</td>\n",
       "    </tr>\n",
       "  </tbody>\n",
       "</table>\n",
       "<p>1462 rows × 5 columns</p>\n",
       "</div>"
      ],
      "text/plain": [
       "      YearBuilt  LotArea  OverallQual MSZoning  SalePrice\n",
       "0          2003   8450.0          7.0       RL     208500\n",
       "1          1976   9600.0          6.0       RL     181500\n",
       "2          2001  11250.0          7.0       RL     223500\n",
       "3          1915   9550.0          7.0       RL     140000\n",
       "4          2000  14260.0          8.0       RL     250000\n",
       "...         ...      ...          ...      ...        ...\n",
       "1457       1941   9042.0          7.0       RL     266500\n",
       "1458       1950   9717.0          5.0       RL     142125\n",
       "1459       1965   9937.0          5.0       RL     147500\n",
       "2000       3000      NaN          NaN      NaN          0\n",
       "2001       4000      NaN          NaN      NaN   10000000\n",
       "\n",
       "[1462 rows x 5 columns]"
      ]
     },
     "execution_count": 19,
     "metadata": {},
     "output_type": "execute_result"
    }
   ],
   "source": [
    "t4"
   ]
  },
  {
   "cell_type": "code",
   "execution_count": 20,
   "id": "97d374fe-88e4-4b80-9132-12dbc3cbfb88",
   "metadata": {},
   "outputs": [
    {
     "data": {
      "text/html": [
       "<div>\n",
       "<style scoped>\n",
       "    .dataframe tbody tr th:only-of-type {\n",
       "        vertical-align: middle;\n",
       "    }\n",
       "\n",
       "    .dataframe tbody tr th {\n",
       "        vertical-align: top;\n",
       "    }\n",
       "\n",
       "    .dataframe thead th {\n",
       "        text-align: right;\n",
       "    }\n",
       "</style>\n",
       "<table border=\"1\" class=\"dataframe\">\n",
       "  <thead>\n",
       "    <tr style=\"text-align: right;\">\n",
       "      <th></th>\n",
       "      <th>YearBuilt</th>\n",
       "      <th>LotArea</th>\n",
       "      <th>OverallQual</th>\n",
       "      <th>SalePrice</th>\n",
       "    </tr>\n",
       "  </thead>\n",
       "  <tbody>\n",
       "    <tr>\n",
       "      <th>count</th>\n",
       "      <td>1462.000000</td>\n",
       "      <td>1460.000000</td>\n",
       "      <td>1460.000000</td>\n",
       "      <td>1.462000e+03</td>\n",
       "    </tr>\n",
       "    <tr>\n",
       "      <th>mean</th>\n",
       "      <td>1973.359097</td>\n",
       "      <td>10516.828082</td>\n",
       "      <td>6.099315</td>\n",
       "      <td>1.875136e+05</td>\n",
       "    </tr>\n",
       "    <tr>\n",
       "      <th>std</th>\n",
       "      <td>66.693556</td>\n",
       "      <td>9981.264932</td>\n",
       "      <td>1.382997</td>\n",
       "      <td>2.688371e+05</td>\n",
       "    </tr>\n",
       "    <tr>\n",
       "      <th>min</th>\n",
       "      <td>1872.000000</td>\n",
       "      <td>1300.000000</td>\n",
       "      <td>1.000000</td>\n",
       "      <td>0.000000e+00</td>\n",
       "    </tr>\n",
       "    <tr>\n",
       "      <th>25%</th>\n",
       "      <td>1954.000000</td>\n",
       "      <td>7553.500000</td>\n",
       "      <td>5.000000</td>\n",
       "      <td>1.299250e+05</td>\n",
       "    </tr>\n",
       "    <tr>\n",
       "      <th>50%</th>\n",
       "      <td>1973.000000</td>\n",
       "      <td>9478.500000</td>\n",
       "      <td>6.000000</td>\n",
       "      <td>1.630000e+05</td>\n",
       "    </tr>\n",
       "    <tr>\n",
       "      <th>75%</th>\n",
       "      <td>2000.750000</td>\n",
       "      <td>11601.500000</td>\n",
       "      <td>7.000000</td>\n",
       "      <td>2.140000e+05</td>\n",
       "    </tr>\n",
       "    <tr>\n",
       "      <th>max</th>\n",
       "      <td>4000.000000</td>\n",
       "      <td>215245.000000</td>\n",
       "      <td>10.000000</td>\n",
       "      <td>1.000000e+07</td>\n",
       "    </tr>\n",
       "  </tbody>\n",
       "</table>\n",
       "</div>"
      ],
      "text/plain": [
       "         YearBuilt        LotArea  OverallQual     SalePrice\n",
       "count  1462.000000    1460.000000  1460.000000  1.462000e+03\n",
       "mean   1973.359097   10516.828082     6.099315  1.875136e+05\n",
       "std      66.693556    9981.264932     1.382997  2.688371e+05\n",
       "min    1872.000000    1300.000000     1.000000  0.000000e+00\n",
       "25%    1954.000000    7553.500000     5.000000  1.299250e+05\n",
       "50%    1973.000000    9478.500000     6.000000  1.630000e+05\n",
       "75%    2000.750000   11601.500000     7.000000  2.140000e+05\n",
       "max    4000.000000  215245.000000    10.000000  1.000000e+07"
      ]
     },
     "execution_count": 20,
     "metadata": {},
     "output_type": "execute_result"
    }
   ],
   "source": [
    "t4.describe()"
   ]
  },
  {
   "cell_type": "code",
   "execution_count": 21,
   "id": "c4ea1c07-dacf-4b87-89f0-b892b023eb27",
   "metadata": {},
   "outputs": [
    {
     "data": {
      "text/html": [
       "<div>\n",
       "<style scoped>\n",
       "    .dataframe tbody tr th:only-of-type {\n",
       "        vertical-align: middle;\n",
       "    }\n",
       "\n",
       "    .dataframe tbody tr th {\n",
       "        vertical-align: top;\n",
       "    }\n",
       "\n",
       "    .dataframe thead th {\n",
       "        text-align: right;\n",
       "    }\n",
       "</style>\n",
       "<table border=\"1\" class=\"dataframe\">\n",
       "  <thead>\n",
       "    <tr style=\"text-align: right;\">\n",
       "      <th></th>\n",
       "      <th>YearBuilt</th>\n",
       "      <th>LotArea</th>\n",
       "      <th>OverallQual</th>\n",
       "      <th>MSZoning</th>\n",
       "      <th>SalePrice</th>\n",
       "    </tr>\n",
       "  </thead>\n",
       "  <tbody>\n",
       "    <tr>\n",
       "      <th>0</th>\n",
       "      <td>2003</td>\n",
       "      <td>8450.0</td>\n",
       "      <td>7.0</td>\n",
       "      <td>RL</td>\n",
       "      <td>208500</td>\n",
       "    </tr>\n",
       "    <tr>\n",
       "      <th>1</th>\n",
       "      <td>1976</td>\n",
       "      <td>9600.0</td>\n",
       "      <td>6.0</td>\n",
       "      <td>RL</td>\n",
       "      <td>181500</td>\n",
       "    </tr>\n",
       "    <tr>\n",
       "      <th>2</th>\n",
       "      <td>2001</td>\n",
       "      <td>11250.0</td>\n",
       "      <td>7.0</td>\n",
       "      <td>RL</td>\n",
       "      <td>223500</td>\n",
       "    </tr>\n",
       "    <tr>\n",
       "      <th>3</th>\n",
       "      <td>1915</td>\n",
       "      <td>9550.0</td>\n",
       "      <td>7.0</td>\n",
       "      <td>RL</td>\n",
       "      <td>140000</td>\n",
       "    </tr>\n",
       "    <tr>\n",
       "      <th>4</th>\n",
       "      <td>2000</td>\n",
       "      <td>14260.0</td>\n",
       "      <td>8.0</td>\n",
       "      <td>RL</td>\n",
       "      <td>250000</td>\n",
       "    </tr>\n",
       "    <tr>\n",
       "      <th>...</th>\n",
       "      <td>...</td>\n",
       "      <td>...</td>\n",
       "      <td>...</td>\n",
       "      <td>...</td>\n",
       "      <td>...</td>\n",
       "    </tr>\n",
       "    <tr>\n",
       "      <th>1455</th>\n",
       "      <td>1999</td>\n",
       "      <td>7917.0</td>\n",
       "      <td>6.0</td>\n",
       "      <td>RL</td>\n",
       "      <td>175000</td>\n",
       "    </tr>\n",
       "    <tr>\n",
       "      <th>1456</th>\n",
       "      <td>1978</td>\n",
       "      <td>13175.0</td>\n",
       "      <td>6.0</td>\n",
       "      <td>RL</td>\n",
       "      <td>210000</td>\n",
       "    </tr>\n",
       "    <tr>\n",
       "      <th>1457</th>\n",
       "      <td>1941</td>\n",
       "      <td>9042.0</td>\n",
       "      <td>7.0</td>\n",
       "      <td>RL</td>\n",
       "      <td>266500</td>\n",
       "    </tr>\n",
       "    <tr>\n",
       "      <th>1458</th>\n",
       "      <td>1950</td>\n",
       "      <td>9717.0</td>\n",
       "      <td>5.0</td>\n",
       "      <td>RL</td>\n",
       "      <td>142125</td>\n",
       "    </tr>\n",
       "    <tr>\n",
       "      <th>1459</th>\n",
       "      <td>1965</td>\n",
       "      <td>9937.0</td>\n",
       "      <td>5.0</td>\n",
       "      <td>RL</td>\n",
       "      <td>147500</td>\n",
       "    </tr>\n",
       "  </tbody>\n",
       "</table>\n",
       "<p>1460 rows × 5 columns</p>\n",
       "</div>"
      ],
      "text/plain": [
       "      YearBuilt  LotArea  OverallQual MSZoning  SalePrice\n",
       "0          2003   8450.0          7.0       RL     208500\n",
       "1          1976   9600.0          6.0       RL     181500\n",
       "2          2001  11250.0          7.0       RL     223500\n",
       "3          1915   9550.0          7.0       RL     140000\n",
       "4          2000  14260.0          8.0       RL     250000\n",
       "...         ...      ...          ...      ...        ...\n",
       "1455       1999   7917.0          6.0       RL     175000\n",
       "1456       1978  13175.0          6.0       RL     210000\n",
       "1457       1941   9042.0          7.0       RL     266500\n",
       "1458       1950   9717.0          5.0       RL     142125\n",
       "1459       1965   9937.0          5.0       RL     147500\n",
       "\n",
       "[1460 rows x 5 columns]"
      ]
     },
     "execution_count": 21,
     "metadata": {},
     "output_type": "execute_result"
    }
   ],
   "source": [
    "t4[ t4[\"YearBuilt\"] <= 2021 ]"
   ]
  },
  {
   "cell_type": "code",
   "execution_count": 22,
   "id": "285847bc-0569-48ab-be98-e6f449d17cdd",
   "metadata": {},
   "outputs": [
    {
     "data": {
      "text/html": [
       "<div>\n",
       "<style scoped>\n",
       "    .dataframe tbody tr th:only-of-type {\n",
       "        vertical-align: middle;\n",
       "    }\n",
       "\n",
       "    .dataframe tbody tr th {\n",
       "        vertical-align: top;\n",
       "    }\n",
       "\n",
       "    .dataframe thead th {\n",
       "        text-align: right;\n",
       "    }\n",
       "</style>\n",
       "<table border=\"1\" class=\"dataframe\">\n",
       "  <thead>\n",
       "    <tr style=\"text-align: right;\">\n",
       "      <th></th>\n",
       "      <th>YearBuilt</th>\n",
       "      <th>LotArea</th>\n",
       "      <th>OverallQual</th>\n",
       "      <th>MSZoning</th>\n",
       "      <th>SalePrice</th>\n",
       "    </tr>\n",
       "  </thead>\n",
       "  <tbody>\n",
       "    <tr>\n",
       "      <th>0</th>\n",
       "      <td>2003</td>\n",
       "      <td>8450.0</td>\n",
       "      <td>7.0</td>\n",
       "      <td>RL</td>\n",
       "      <td>208500</td>\n",
       "    </tr>\n",
       "    <tr>\n",
       "      <th>1</th>\n",
       "      <td>1976</td>\n",
       "      <td>9600.0</td>\n",
       "      <td>6.0</td>\n",
       "      <td>RL</td>\n",
       "      <td>181500</td>\n",
       "    </tr>\n",
       "    <tr>\n",
       "      <th>2</th>\n",
       "      <td>2001</td>\n",
       "      <td>11250.0</td>\n",
       "      <td>7.0</td>\n",
       "      <td>RL</td>\n",
       "      <td>223500</td>\n",
       "    </tr>\n",
       "    <tr>\n",
       "      <th>3</th>\n",
       "      <td>1915</td>\n",
       "      <td>9550.0</td>\n",
       "      <td>7.0</td>\n",
       "      <td>RL</td>\n",
       "      <td>140000</td>\n",
       "    </tr>\n",
       "    <tr>\n",
       "      <th>4</th>\n",
       "      <td>2000</td>\n",
       "      <td>14260.0</td>\n",
       "      <td>8.0</td>\n",
       "      <td>RL</td>\n",
       "      <td>250000</td>\n",
       "    </tr>\n",
       "    <tr>\n",
       "      <th>...</th>\n",
       "      <td>...</td>\n",
       "      <td>...</td>\n",
       "      <td>...</td>\n",
       "      <td>...</td>\n",
       "      <td>...</td>\n",
       "    </tr>\n",
       "    <tr>\n",
       "      <th>1457</th>\n",
       "      <td>1941</td>\n",
       "      <td>9042.0</td>\n",
       "      <td>7.0</td>\n",
       "      <td>RL</td>\n",
       "      <td>266500</td>\n",
       "    </tr>\n",
       "    <tr>\n",
       "      <th>1458</th>\n",
       "      <td>1950</td>\n",
       "      <td>9717.0</td>\n",
       "      <td>5.0</td>\n",
       "      <td>RL</td>\n",
       "      <td>142125</td>\n",
       "    </tr>\n",
       "    <tr>\n",
       "      <th>1459</th>\n",
       "      <td>1965</td>\n",
       "      <td>9937.0</td>\n",
       "      <td>5.0</td>\n",
       "      <td>RL</td>\n",
       "      <td>147500</td>\n",
       "    </tr>\n",
       "    <tr>\n",
       "      <th>2000</th>\n",
       "      <td>3000</td>\n",
       "      <td>NaN</td>\n",
       "      <td>NaN</td>\n",
       "      <td>NaN</td>\n",
       "      <td>0</td>\n",
       "    </tr>\n",
       "    <tr>\n",
       "      <th>2001</th>\n",
       "      <td>4000</td>\n",
       "      <td>NaN</td>\n",
       "      <td>NaN</td>\n",
       "      <td>NaN</td>\n",
       "      <td>10000000</td>\n",
       "    </tr>\n",
       "  </tbody>\n",
       "</table>\n",
       "<p>1462 rows × 5 columns</p>\n",
       "</div>"
      ],
      "text/plain": [
       "      YearBuilt  LotArea  OverallQual MSZoning  SalePrice\n",
       "0          2003   8450.0          7.0       RL     208500\n",
       "1          1976   9600.0          6.0       RL     181500\n",
       "2          2001  11250.0          7.0       RL     223500\n",
       "3          1915   9550.0          7.0       RL     140000\n",
       "4          2000  14260.0          8.0       RL     250000\n",
       "...         ...      ...          ...      ...        ...\n",
       "1457       1941   9042.0          7.0       RL     266500\n",
       "1458       1950   9717.0          5.0       RL     142125\n",
       "1459       1965   9937.0          5.0       RL     147500\n",
       "2000       3000      NaN          NaN      NaN          0\n",
       "2001       4000      NaN          NaN      NaN   10000000\n",
       "\n",
       "[1462 rows x 5 columns]"
      ]
     },
     "execution_count": 22,
     "metadata": {},
     "output_type": "execute_result"
    }
   ],
   "source": [
    "t4"
   ]
  },
  {
   "cell_type": "code",
   "execution_count": 23,
   "id": "d45e3cec-8d77-42ed-9c1a-68825a320ac7",
   "metadata": {},
   "outputs": [
    {
     "data": {
      "text/html": [
       "<div>\n",
       "<style scoped>\n",
       "    .dataframe tbody tr th:only-of-type {\n",
       "        vertical-align: middle;\n",
       "    }\n",
       "\n",
       "    .dataframe tbody tr th {\n",
       "        vertical-align: top;\n",
       "    }\n",
       "\n",
       "    .dataframe thead th {\n",
       "        text-align: right;\n",
       "    }\n",
       "</style>\n",
       "<table border=\"1\" class=\"dataframe\">\n",
       "  <thead>\n",
       "    <tr style=\"text-align: right;\">\n",
       "      <th></th>\n",
       "      <th>YearBuilt</th>\n",
       "      <th>LotArea</th>\n",
       "      <th>OverallQual</th>\n",
       "      <th>MSZoning</th>\n",
       "      <th>SalePrice</th>\n",
       "    </tr>\n",
       "  </thead>\n",
       "  <tbody>\n",
       "    <tr>\n",
       "      <th>0</th>\n",
       "      <td>2003</td>\n",
       "      <td>8450.0</td>\n",
       "      <td>7.0</td>\n",
       "      <td>RL</td>\n",
       "      <td>208500</td>\n",
       "    </tr>\n",
       "    <tr>\n",
       "      <th>1</th>\n",
       "      <td>1976</td>\n",
       "      <td>9600.0</td>\n",
       "      <td>6.0</td>\n",
       "      <td>RL</td>\n",
       "      <td>181500</td>\n",
       "    </tr>\n",
       "    <tr>\n",
       "      <th>2</th>\n",
       "      <td>2001</td>\n",
       "      <td>11250.0</td>\n",
       "      <td>7.0</td>\n",
       "      <td>RL</td>\n",
       "      <td>223500</td>\n",
       "    </tr>\n",
       "    <tr>\n",
       "      <th>3</th>\n",
       "      <td>1915</td>\n",
       "      <td>9550.0</td>\n",
       "      <td>7.0</td>\n",
       "      <td>RL</td>\n",
       "      <td>140000</td>\n",
       "    </tr>\n",
       "    <tr>\n",
       "      <th>4</th>\n",
       "      <td>2000</td>\n",
       "      <td>14260.0</td>\n",
       "      <td>8.0</td>\n",
       "      <td>RL</td>\n",
       "      <td>250000</td>\n",
       "    </tr>\n",
       "    <tr>\n",
       "      <th>...</th>\n",
       "      <td>...</td>\n",
       "      <td>...</td>\n",
       "      <td>...</td>\n",
       "      <td>...</td>\n",
       "      <td>...</td>\n",
       "    </tr>\n",
       "    <tr>\n",
       "      <th>1455</th>\n",
       "      <td>1999</td>\n",
       "      <td>7917.0</td>\n",
       "      <td>6.0</td>\n",
       "      <td>RL</td>\n",
       "      <td>175000</td>\n",
       "    </tr>\n",
       "    <tr>\n",
       "      <th>1456</th>\n",
       "      <td>1978</td>\n",
       "      <td>13175.0</td>\n",
       "      <td>6.0</td>\n",
       "      <td>RL</td>\n",
       "      <td>210000</td>\n",
       "    </tr>\n",
       "    <tr>\n",
       "      <th>1457</th>\n",
       "      <td>1941</td>\n",
       "      <td>9042.0</td>\n",
       "      <td>7.0</td>\n",
       "      <td>RL</td>\n",
       "      <td>266500</td>\n",
       "    </tr>\n",
       "    <tr>\n",
       "      <th>1458</th>\n",
       "      <td>1950</td>\n",
       "      <td>9717.0</td>\n",
       "      <td>5.0</td>\n",
       "      <td>RL</td>\n",
       "      <td>142125</td>\n",
       "    </tr>\n",
       "    <tr>\n",
       "      <th>1459</th>\n",
       "      <td>1965</td>\n",
       "      <td>9937.0</td>\n",
       "      <td>5.0</td>\n",
       "      <td>RL</td>\n",
       "      <td>147500</td>\n",
       "    </tr>\n",
       "  </tbody>\n",
       "</table>\n",
       "<p>1460 rows × 5 columns</p>\n",
       "</div>"
      ],
      "text/plain": [
       "      YearBuilt  LotArea  OverallQual MSZoning  SalePrice\n",
       "0          2003   8450.0          7.0       RL     208500\n",
       "1          1976   9600.0          6.0       RL     181500\n",
       "2          2001  11250.0          7.0       RL     223500\n",
       "3          1915   9550.0          7.0       RL     140000\n",
       "4          2000  14260.0          8.0       RL     250000\n",
       "...         ...      ...          ...      ...        ...\n",
       "1455       1999   7917.0          6.0       RL     175000\n",
       "1456       1978  13175.0          6.0       RL     210000\n",
       "1457       1941   9042.0          7.0       RL     266500\n",
       "1458       1950   9717.0          5.0       RL     142125\n",
       "1459       1965   9937.0          5.0       RL     147500\n",
       "\n",
       "[1460 rows x 5 columns]"
      ]
     },
     "execution_count": 23,
     "metadata": {},
     "output_type": "execute_result"
    }
   ],
   "source": [
    "t4.dropna()"
   ]
  },
  {
   "cell_type": "markdown",
   "id": "13087e31-507a-4ba5-9264-f299df34846a",
   "metadata": {},
   "source": [
    "# Arbeiten mit qualitativen Merkmalen\n",
    "\n",
    "## Mögliche Werte eines qualitativen Merkmals"
   ]
  },
  {
   "cell_type": "code",
   "execution_count": 24,
   "id": "4b187158-9b81-4415-9ece-aebd8fe05d3f",
   "metadata": {},
   "outputs": [
    {
     "data": {
      "text/plain": [
       "0       RL\n",
       "1       RL\n",
       "2       RL\n",
       "3       RL\n",
       "4       RL\n",
       "        ..\n",
       "1455    RL\n",
       "1456    RL\n",
       "1457    RL\n",
       "1458    RL\n",
       "1459    RL\n",
       "Name: MSZoning, Length: 1460, dtype: object"
      ]
     },
     "execution_count": 24,
     "metadata": {},
     "output_type": "execute_result"
    }
   ],
   "source": [
    "t2[\"MSZoning\"]"
   ]
  },
  {
   "cell_type": "code",
   "execution_count": 25,
   "id": "b273e361-5253-4ead-a67b-6cf5c4b5e3a8",
   "metadata": {},
   "outputs": [
    {
     "data": {
      "text/plain": [
       "array(['RL', 'RM', 'C (all)', 'FV', 'RH'], dtype=object)"
      ]
     },
     "execution_count": 25,
     "metadata": {},
     "output_type": "execute_result"
    }
   ],
   "source": [
    "t2[\"MSZoning\"].unique()"
   ]
  },
  {
   "cell_type": "code",
   "execution_count": 26,
   "id": "b6382b63-4822-4cb7-8480-fe3292a099cb",
   "metadata": {},
   "outputs": [
    {
     "data": {
      "text/plain": [
       "5"
      ]
     },
     "execution_count": 26,
     "metadata": {},
     "output_type": "execute_result"
    }
   ],
   "source": [
    "t2[\"MSZoning\"].nunique()"
   ]
  },
  {
   "cell_type": "code",
   "execution_count": 27,
   "id": "73007867-c73b-4e97-95ef-7048853f8f4f",
   "metadata": {},
   "outputs": [
    {
     "data": {
      "text/html": [
       "<div>\n",
       "<style scoped>\n",
       "    .dataframe tbody tr th:only-of-type {\n",
       "        vertical-align: middle;\n",
       "    }\n",
       "\n",
       "    .dataframe tbody tr th {\n",
       "        vertical-align: top;\n",
       "    }\n",
       "\n",
       "    .dataframe thead th {\n",
       "        text-align: right;\n",
       "    }\n",
       "</style>\n",
       "<table border=\"1\" class=\"dataframe\">\n",
       "  <thead>\n",
       "    <tr style=\"text-align: right;\">\n",
       "      <th></th>\n",
       "      <th>YearBuilt</th>\n",
       "      <th>LotArea</th>\n",
       "      <th>OverallQual</th>\n",
       "      <th>MSZoning</th>\n",
       "      <th>SalePrice</th>\n",
       "    </tr>\n",
       "  </thead>\n",
       "  <tbody>\n",
       "    <tr>\n",
       "      <th>341</th>\n",
       "      <td>1950</td>\n",
       "      <td>8400</td>\n",
       "      <td>4</td>\n",
       "      <td>RH</td>\n",
       "      <td>82000</td>\n",
       "    </tr>\n",
       "    <tr>\n",
       "      <th>383</th>\n",
       "      <td>1928</td>\n",
       "      <td>9000</td>\n",
       "      <td>6</td>\n",
       "      <td>RH</td>\n",
       "      <td>76000</td>\n",
       "    </tr>\n",
       "    <tr>\n",
       "      <th>543</th>\n",
       "      <td>1998</td>\n",
       "      <td>4058</td>\n",
       "      <td>7</td>\n",
       "      <td>RH</td>\n",
       "      <td>133000</td>\n",
       "    </tr>\n",
       "    <tr>\n",
       "      <th>635</th>\n",
       "      <td>1914</td>\n",
       "      <td>10896</td>\n",
       "      <td>6</td>\n",
       "      <td>RH</td>\n",
       "      <td>200000</td>\n",
       "    </tr>\n",
       "    <tr>\n",
       "      <th>671</th>\n",
       "      <td>1925</td>\n",
       "      <td>6629</td>\n",
       "      <td>6</td>\n",
       "      <td>RH</td>\n",
       "      <td>103600</td>\n",
       "    </tr>\n",
       "    <tr>\n",
       "      <th>681</th>\n",
       "      <td>1932</td>\n",
       "      <td>4500</td>\n",
       "      <td>5</td>\n",
       "      <td>RH</td>\n",
       "      <td>159434</td>\n",
       "    </tr>\n",
       "    <tr>\n",
       "      <th>778</th>\n",
       "      <td>1977</td>\n",
       "      <td>8400</td>\n",
       "      <td>5</td>\n",
       "      <td>RH</td>\n",
       "      <td>144000</td>\n",
       "    </tr>\n",
       "    <tr>\n",
       "      <th>840</th>\n",
       "      <td>1925</td>\n",
       "      <td>12155</td>\n",
       "      <td>6</td>\n",
       "      <td>RH</td>\n",
       "      <td>140000</td>\n",
       "    </tr>\n",
       "    <tr>\n",
       "      <th>913</th>\n",
       "      <td>1949</td>\n",
       "      <td>6270</td>\n",
       "      <td>5</td>\n",
       "      <td>RH</td>\n",
       "      <td>145000</td>\n",
       "    </tr>\n",
       "    <tr>\n",
       "      <th>951</th>\n",
       "      <td>1965</td>\n",
       "      <td>7800</td>\n",
       "      <td>5</td>\n",
       "      <td>RH</td>\n",
       "      <td>119900</td>\n",
       "    </tr>\n",
       "    <tr>\n",
       "      <th>955</th>\n",
       "      <td>1946</td>\n",
       "      <td>7136</td>\n",
       "      <td>6</td>\n",
       "      <td>RH</td>\n",
       "      <td>145000</td>\n",
       "    </tr>\n",
       "    <tr>\n",
       "      <th>1030</th>\n",
       "      <td>1916</td>\n",
       "      <td>7082</td>\n",
       "      <td>5</td>\n",
       "      <td>RH</td>\n",
       "      <td>160000</td>\n",
       "    </tr>\n",
       "    <tr>\n",
       "      <th>1206</th>\n",
       "      <td>1966</td>\n",
       "      <td>8900</td>\n",
       "      <td>4</td>\n",
       "      <td>RH</td>\n",
       "      <td>107000</td>\n",
       "    </tr>\n",
       "    <tr>\n",
       "      <th>1234</th>\n",
       "      <td>1911</td>\n",
       "      <td>8525</td>\n",
       "      <td>5</td>\n",
       "      <td>RH</td>\n",
       "      <td>130000</td>\n",
       "    </tr>\n",
       "    <tr>\n",
       "      <th>1264</th>\n",
       "      <td>1998</td>\n",
       "      <td>4060</td>\n",
       "      <td>6</td>\n",
       "      <td>RH</td>\n",
       "      <td>181000</td>\n",
       "    </tr>\n",
       "    <tr>\n",
       "      <th>1326</th>\n",
       "      <td>1931</td>\n",
       "      <td>4270</td>\n",
       "      <td>3</td>\n",
       "      <td>RH</td>\n",
       "      <td>79000</td>\n",
       "    </tr>\n",
       "  </tbody>\n",
       "</table>\n",
       "</div>"
      ],
      "text/plain": [
       "      YearBuilt  LotArea  OverallQual MSZoning  SalePrice\n",
       "341        1950     8400            4       RH      82000\n",
       "383        1928     9000            6       RH      76000\n",
       "543        1998     4058            7       RH     133000\n",
       "635        1914    10896            6       RH     200000\n",
       "671        1925     6629            6       RH     103600\n",
       "681        1932     4500            5       RH     159434\n",
       "778        1977     8400            5       RH     144000\n",
       "840        1925    12155            6       RH     140000\n",
       "913        1949     6270            5       RH     145000\n",
       "951        1965     7800            5       RH     119900\n",
       "955        1946     7136            6       RH     145000\n",
       "1030       1916     7082            5       RH     160000\n",
       "1206       1966     8900            4       RH     107000\n",
       "1234       1911     8525            5       RH     130000\n",
       "1264       1998     4060            6       RH     181000\n",
       "1326       1931     4270            3       RH      79000"
      ]
     },
     "execution_count": 27,
     "metadata": {},
     "output_type": "execute_result"
    }
   ],
   "source": [
    "t2[ t2[\"MSZoning\"] == \"RH\" ]"
   ]
  },
  {
   "cell_type": "code",
   "execution_count": 28,
   "id": "e780f2f1-647e-44ff-8c7f-bb99060cdbbd",
   "metadata": {},
   "outputs": [
    {
     "data": {
      "text/plain": [
       "RL         1151\n",
       "RM          218\n",
       "FV           65\n",
       "RH           16\n",
       "C (all)      10\n",
       "Name: MSZoning, dtype: int64"
      ]
     },
     "execution_count": 28,
     "metadata": {},
     "output_type": "execute_result"
    }
   ],
   "source": [
    "t2[\"MSZoning\"].value_counts()"
   ]
  },
  {
   "cell_type": "markdown",
   "id": "7bfccdd8-6ea0-45ae-80ea-b8f736395e46",
   "metadata": {},
   "source": [
    "## Plotten der Auftretenshäufigkeit eines qualitativen Merkmals"
   ]
  },
  {
   "cell_type": "code",
   "execution_count": 29,
   "id": "b22de6c9-0417-4025-b35c-82b9d24fe85f",
   "metadata": {},
   "outputs": [],
   "source": [
    "import matplotlib.pyplot as plt"
   ]
  },
  {
   "cell_type": "code",
   "execution_count": 30,
   "id": "b5e379d9-11d5-4b6a-808a-dc5e52f1499e",
   "metadata": {},
   "outputs": [
    {
     "data": {
      "image/png": "[encoded data removed]",
      "text/plain": [
       "<Figure size 432x288 with 1 Axes>"
      ]
     },
     "metadata": {
      "needs_background": "light"
     },
     "output_type": "display_data"
    }
   ],
   "source": [
    "x = [\"A\", \"B\", \"C\", \"D\", \"E\"]\n",
    "heights = [10,20,100,110,200]\n",
    "\n",
    "plt.bar(x,heights)\n",
    "plt.show()"
   ]
  },
  {
   "cell_type": "code",
   "execution_count": 31,
   "id": "3ca4604a-1860-41aa-9d9c-b44a39ea21f7",
   "metadata": {},
   "outputs": [
    {
     "data": {
      "text/plain": [
       "Index(['RL', 'RM', 'FV', 'RH', 'C (all)'], dtype='object')"
      ]
     },
     "execution_count": 31,
     "metadata": {},
     "output_type": "execute_result"
    }
   ],
   "source": [
    "x = t2[\"MSZoning\"].value_counts().index\n",
    "x"
   ]
  },
  {
   "cell_type": "code",
   "execution_count": 32,
   "id": "30aa09a2-ccd4-4184-a1d4-1ad8a73e4e49",
   "metadata": {},
   "outputs": [
    {
     "data": {
      "text/plain": [
       "array([1151,  218,   65,   16,   10])"
      ]
     },
     "execution_count": 32,
     "metadata": {},
     "output_type": "execute_result"
    }
   ],
   "source": [
    "heights = t2[\"MSZoning\"].value_counts().values\n",
    "heights"
   ]
  },
  {
   "cell_type": "code",
   "execution_count": 33,
   "id": "a2ce5e5f-bf5c-4cfb-ad61-cf66ac0c714a",
   "metadata": {},
   "outputs": [
    {
     "data": {
      "image/png": "[encoded data removed]",
      "text/plain": [
       "<Figure size 432x288 with 1 Axes>"
      ]
     },
     "metadata": {
      "needs_background": "light"
     },
     "output_type": "display_data"
    }
   ],
   "source": [
    "plt.bar(x,heights)\n",
    "plt.show()"
   ]
  },
  {
   "cell_type": "code",
   "execution_count": 34,
   "id": "c616f710-4d4f-4bf7-acf3-13f8860ae3ef",
   "metadata": {},
   "outputs": [
    {
     "data": {
      "image/png": "[encoded data removed]",
      "text/plain": [
       "<Figure size 432x288 with 1 Axes>"
      ]
     },
     "metadata": {
      "needs_background": "light"
     },
     "output_type": "display_data"
    }
   ],
   "source": [
    "plt.bar(x,heights)\n",
    "plt.xlabel(\"Zone of the house\")\n",
    "plt.ylabel(\"How many houses in this zone type?\")\n",
    "plt.title(\"Number of houses per zone type\")\n",
    "plt.show()"
   ]
  },
  {
   "cell_type": "code",
   "execution_count": 35,
   "id": "32feea27-7b58-4a67-ad3e-f01ef519a105",
   "metadata": {},
   "outputs": [
    {
     "data": {
      "image/png": "[encoded data removed]",
      "text/plain": [
       "<Figure size 432x288 with 1 Axes>"
      ]
     },
     "metadata": {
      "needs_background": "light"
     },
     "output_type": "display_data"
    }
   ],
   "source": [
    "plt.bar(x,heights)\n",
    "plt.xlabel(\"Zone type\", fontsize=12, color=\"green\")\n",
    "plt.ylabel(\"How many houses in this zone type?\", fontsize=12, color=\"green\")\n",
    "plt.title(\"Number of houses per zone type\", fontsize=15, color=\"red\")\n",
    "plt.show()"
   ]
  },
  {
   "cell_type": "code",
   "execution_count": 36,
   "id": "233ad104-b6f4-4bb7-b114-c23d30c7b6e4",
   "metadata": {},
   "outputs": [
    {
     "data": {
      "image/png": "[encoded data removed]",
      "text/plain": [
       "<Figure size 432x288 with 1 Axes>"
      ]
     },
     "metadata": {
      "needs_background": "light"
     },
     "output_type": "display_data"
    }
   ],
   "source": [
    "plt.bar(x,heights, width=0.5, color=\"black\")\n",
    "plt.xlabel(\"Zone type\", fontsize=12, color=\"green\")\n",
    "plt.ylabel(\"How many houses in this zone type?\", fontsize=12, color=\"green\")\n",
    "plt.title(\"Number of houses per zone type\", fontsize=15, color=\"red\")\n",
    "plt.show()"
   ]
  },
  {
   "cell_type": "code",
   "execution_count": 37,
   "id": "aef79bd6-debc-4bf0-b90f-c1e64e179212",
   "metadata": {},
   "outputs": [
    {
     "name": "stdout",
     "output_type": "stream",
     "text": [
      "0 1151\n",
      "1 218\n",
      "2 65\n",
      "3 16\n",
      "4 10\n"
     ]
    },
    {
     "data": {
      "image/png": "[encoded data removed]",
      "text/plain": [
       "<Figure size 432x288 with 1 Axes>"
      ]
     },
     "metadata": {
      "needs_background": "light"
     },
     "output_type": "display_data"
    }
   ],
   "source": [
    "fig, ax = plt.subplots()\n",
    "plt.bar(x,heights, width=0.5, color=\"black\")\n",
    "plt.xlabel(\"Zone type\", fontsize=12, color=\"green\")\n",
    "plt.ylabel(\"How many houses in this zone type?\", fontsize=12, color=\"green\")\n",
    "plt.ylim(0,1300)\n",
    "plt.title(\"Number of houses per zone type\", fontsize=15, color=\"red\")\n",
    "\n",
    "for i, v in enumerate(heights):\n",
    "    print(i,v)\n",
    "    ax.text(i-0.15, v+20, str(v), color = 'red')\n",
    "\n",
    "plt.savefig(\"nr_houses_per_zone_type.pdf\")\n",
    "plt.show()"
   ]
  },
  {
   "cell_type": "markdown",
   "id": "c7189e28-19b9-4c82-b066-abee7db95dca",
   "metadata": {},
   "source": [
    "## Testen einer 1. Hypothese\n",
    "\n",
    "Hypothese: Häuser in Wohngegenden mit geringer Siedlungsdichte kosten mehr"
   ]
  },
  {
   "cell_type": "code",
   "execution_count": 38,
   "id": "3edbb13a-7667-4764-b70d-f51e97050beb",
   "metadata": {},
   "outputs": [],
   "source": [
    "zone_types = t2[\"MSZoning\"].unique()"
   ]
  },
  {
   "cell_type": "code",
   "execution_count": 39,
   "id": "65bb0403-b235-4f06-8fc6-90cb650d508c",
   "metadata": {},
   "outputs": [
    {
     "data": {
      "text/plain": [
       "array(['RL', 'RM', 'C (all)', 'FV', 'RH'], dtype=object)"
      ]
     },
     "execution_count": 39,
     "metadata": {},
     "output_type": "execute_result"
    }
   ],
   "source": [
    "zone_types"
   ]
  },
  {
   "cell_type": "code",
   "execution_count": 40,
   "id": "a4ab8191-2947-43c4-9e85-0d48e81270fb",
   "metadata": {},
   "outputs": [
    {
     "name": "stdout",
     "output_type": "stream",
     "text": [
      "RL\n",
      "RM\n",
      "C (all)\n",
      "FV\n",
      "RH\n"
     ]
    }
   ],
   "source": [
    "for zone in zone_types:\n",
    "    print(zone)"
   ]
  },
  {
   "cell_type": "code",
   "execution_count": 41,
   "id": "135db925-8345-4450-8d6e-c1149ab9915d",
   "metadata": {},
   "outputs": [
    {
     "data": {
      "text/plain": [
       "0       208500\n",
       "1       181500\n",
       "2       223500\n",
       "3       140000\n",
       "4       250000\n",
       "         ...  \n",
       "1455    175000\n",
       "1456    210000\n",
       "1457    266500\n",
       "1458    142125\n",
       "1459    147500\n",
       "Name: SalePrice, Length: 1151, dtype: int64"
      ]
     },
     "execution_count": 41,
     "metadata": {},
     "output_type": "execute_result"
    }
   ],
   "source": [
    "salesprices_houses = t2[ t2[\"MSZoning\"]==\"RL\" ][\"SalePrice\"]\n",
    "salesprices_houses"
   ]
  },
  {
   "cell_type": "code",
   "execution_count": 42,
   "id": "8e133455-3f43-4912-9c48-64fce1e4125c",
   "metadata": {},
   "outputs": [
    {
     "data": {
      "text/plain": [
       "39300"
      ]
     },
     "execution_count": 42,
     "metadata": {},
     "output_type": "execute_result"
    }
   ],
   "source": [
    "salesprices_houses.min()"
   ]
  },
  {
   "cell_type": "code",
   "execution_count": 43,
   "id": "a1f9c108-ad6f-4b03-8f56-04f13d46e9a1",
   "metadata": {},
   "outputs": [
    {
     "data": {
      "text/plain": [
       "755000"
      ]
     },
     "execution_count": 43,
     "metadata": {},
     "output_type": "execute_result"
    }
   ],
   "source": [
    "salesprices_houses.max()"
   ]
  },
  {
   "cell_type": "code",
   "execution_count": 44,
   "id": "3c86eec7-e29e-40f2-9951-c30e43fb3498",
   "metadata": {},
   "outputs": [
    {
     "data": {
      "text/plain": [
       "174000.0"
      ]
     },
     "execution_count": 44,
     "metadata": {},
     "output_type": "execute_result"
    }
   ],
   "source": [
    "salesprices_houses.median()"
   ]
  },
  {
   "cell_type": "code",
   "execution_count": 45,
   "id": "f062e435-e127-4d7d-93eb-1d4c46402a11",
   "metadata": {},
   "outputs": [
    {
     "data": {
      "text/plain": [
       "191004.99478714162"
      ]
     },
     "execution_count": 45,
     "metadata": {},
     "output_type": "execute_result"
    }
   ],
   "source": [
    "salesprices_houses.mean()"
   ]
  },
  {
   "cell_type": "code",
   "execution_count": 46,
   "id": "5fd8d203-889c-4e06-907c-a217b2ec8bd4",
   "metadata": {},
   "outputs": [
    {
     "name": "stdout",
     "output_type": "stream",
     "text": [
      "RL --> 191004.99478714162\n",
      "RM --> 126316.83027522935\n",
      "C (all) --> 74528.0\n",
      "FV --> 214014.06153846154\n",
      "RH --> 131558.375\n"
     ]
    }
   ],
   "source": [
    "means = []\n",
    "for zone in zone_types:\n",
    "    salesprices_houses = t2[ t2[\"MSZoning\"]==zone ][\"SalePrice\"]\n",
    "    mean_salesprice_of_such_houses = salesprices_houses.mean()\n",
    "    print(zone, \"-->\", mean_salesprice_of_such_houses)\n",
    "    means.append( mean_salesprice_of_such_houses )"
   ]
  },
  {
   "cell_type": "code",
   "execution_count": 47,
   "id": "9beed1ea-06b5-45be-ae41-0339e97cdabe",
   "metadata": {},
   "outputs": [
    {
     "data": {
      "text/plain": [
       "[191004.99478714162,\n",
       " 126316.83027522935,\n",
       " 74528.0,\n",
       " 214014.06153846154,\n",
       " 131558.375]"
      ]
     },
     "execution_count": 47,
     "metadata": {},
     "output_type": "execute_result"
    }
   ],
   "source": [
    "means"
   ]
  },
  {
   "cell_type": "markdown",
   "id": "b5345d8a-2be0-4dd6-96bd-3eaa9bd76519",
   "metadata": {},
   "source": [
    "## Quiz: Generieren eines Balkendiagramms\n",
    "\n",
    "Generieren Sie einen Boxplot bei dem man den mittleren Preis für die Häuser je Zone sieht."
   ]
  },
  {
   "cell_type": "code",
   "execution_count": 48,
   "id": "dfe331d0-01d3-4726-a056-dd7027f1c525",
   "metadata": {},
   "outputs": [],
   "source": [
    "x = zone_types\n",
    "heights = means"
   ]
  },
  {
   "cell_type": "code",
   "execution_count": 49,
   "id": "a5b4e8ad-b510-47b5-8ea5-6a3b60222f55",
   "metadata": {},
   "outputs": [
    {
     "name": "stdout",
     "output_type": "stream",
     "text": [
      "0 191004.99478714162\n",
      "1 126316.83027522935\n",
      "2 74528.0\n",
      "3 214014.06153846154\n",
      "4 131558.375\n"
     ]
    },
    {
     "data": {
      "image/png": "[encoded data removed]",
      "text/plain": [
       "<Figure size 432x288 with 1 Axes>"
      ]
     },
     "metadata": {
      "needs_background": "light"
     },
     "output_type": "display_data"
    }
   ],
   "source": [
    "fig, ax = plt.subplots()\n",
    "plt.bar(x,means, width=0.5, color=\"black\")\n",
    "plt.xlabel(\"Zone type\", fontsize=12, color=\"green\")\n",
    "plt.ylabel(\"How many houses in this zone type?\", fontsize=12, color=\"green\")\n",
    "plt.title(\"Number of houses per zone type\", fontsize=15, color=\"red\")\n",
    "\n",
    "for i, v in enumerate(means):\n",
    "    print(i,v)\n",
    "    ax.text(i-0.15, v+20, str(v), color = 'red')\n",
    "\n",
    "plt.show()"
   ]
  },
  {
   "cell_type": "code",
   "execution_count": 50,
   "id": "6780caaf-fdb0-439e-b183-70520fdd8cbf",
   "metadata": {},
   "outputs": [
    {
     "name": "stdout",
     "output_type": "stream",
     "text": [
      "1.23456\n",
      "1\n"
     ]
    }
   ],
   "source": [
    "v = 1.23456\n",
    "print(v)\n",
    "print(f\"{v:.0f}\")"
   ]
  },
  {
   "cell_type": "code",
   "execution_count": 51,
   "id": "0ba32263-9aa2-4548-86db-acd9501e0ddc",
   "metadata": {},
   "outputs": [
    {
     "name": "stdout",
     "output_type": "stream",
     "text": [
      "0 191004.99478714162\n",
      "1 126316.83027522935\n",
      "2 74528.0\n",
      "3 214014.06153846154\n",
      "4 131558.375\n"
     ]
    },
    {
     "data": {
      "image/png": "[encoded data removed]",
      "text/plain": [
       "<Figure size 432x288 with 1 Axes>"
      ]
     },
     "metadata": {
      "needs_background": "light"
     },
     "output_type": "display_data"
    }
   ],
   "source": [
    "fig, ax = plt.subplots()\n",
    "plt.bar(x,means, width=0.5, color=\"black\")\n",
    "plt.xlabel(\"Zone type\", fontsize=12, color=\"green\")\n",
    "plt.ylabel(\"Mean price of houses in that zone\", fontsize=12, color=\"green\")\n",
    "plt.ylim(0,250000)\n",
    "plt.title(\"Mean price of houses per zone\", fontsize=15, color=\"red\")\n",
    "\n",
    "for i, v in enumerate(means):\n",
    "    print(i,v)\n",
    "    ax.text(i-0.25, v+5000, f\"${v:.0f}\", color = 'red')\n",
    "\n",
    "plt.show()"
   ]
  },
  {
   "cell_type": "markdown",
   "id": "c611e15a-00cb-422c-9f24-d385882b2e1d",
   "metadata": {},
   "source": [
    "# Arbeiten mit quantitativen Merkmalen\n",
    "\n",
    "## Analyse einer Spalte mit einem quantitativen Merkmal"
   ]
  },
  {
   "cell_type": "code",
   "execution_count": 52,
   "id": "60664b73-c202-4dd8-931f-233625c724c5",
   "metadata": {},
   "outputs": [
    {
     "data": {
      "text/plain": [
       "0       2003\n",
       "1       1976\n",
       "2       2001\n",
       "3       1915\n",
       "4       2000\n",
       "        ... \n",
       "1455    1999\n",
       "1456    1978\n",
       "1457    1941\n",
       "1458    1950\n",
       "1459    1965\n",
       "Name: YearBuilt, Length: 1460, dtype: int64"
      ]
     },
     "execution_count": 52,
     "metadata": {},
     "output_type": "execute_result"
    }
   ],
   "source": [
    "t2[\"YearBuilt\"]"
   ]
  },
  {
   "cell_type": "code",
   "execution_count": 53,
   "id": "9978744f-a21a-4f41-aafc-432e008b5fa3",
   "metadata": {},
   "outputs": [
    {
     "data": {
      "image/png": "[encoded data removed]",
      "text/plain": [
       "<Figure size 432x288 with 1 Axes>"
      ]
     },
     "metadata": {
      "needs_background": "light"
     },
     "output_type": "display_data"
    }
   ],
   "source": [
    "plt.hist( t2[\"YearBuilt\"] )\n",
    "plt.show()"
   ]
  },
  {
   "cell_type": "code",
   "execution_count": 54,
   "id": "1bc3a705-e3ad-41f7-9e6d-6b621f0bfc84",
   "metadata": {},
   "outputs": [
    {
     "data": {
      "image/png": "[encoded data removed]",
      "text/plain": [
       "<Figure size 432x288 with 1 Axes>"
      ]
     },
     "metadata": {
      "needs_background": "light"
     },
     "output_type": "display_data"
    }
   ],
   "source": [
    "plt.hist( t2[\"YearBuilt\"], bins=50 )\n",
    "plt.show()"
   ]
  },
  {
   "cell_type": "code",
   "execution_count": 55,
   "id": "2ef50873-6bd6-4fa4-8df4-e2567f27db31",
   "metadata": {},
   "outputs": [
    {
     "data": {
      "image/png": "[encoded data removed]",
      "text/plain": [
       "<Figure size 432x288 with 1 Axes>"
      ]
     },
     "metadata": {
      "needs_background": "light"
     },
     "output_type": "display_data"
    }
   ],
   "source": [
    "plt.hist( t2[\"YearBuilt\"], bins=50 )\n",
    "plt.xlabel(\"Year\")\n",
    "plt.ylabel(\"Nr of houses built in that year\")\n",
    "plt.title(\"Year of construction\")\n",
    "plt.show()"
   ]
  },
  {
   "cell_type": "code",
   "execution_count": 56,
   "id": "176859d9-3354-4915-81f1-a45669facbcf",
   "metadata": {},
   "outputs": [
    {
     "data": {
      "image/png": "[encoded data removed]",
      "text/plain": [
       "<Figure size 432x288 with 1 Axes>"
      ]
     },
     "metadata": {
      "needs_background": "light"
     },
     "output_type": "display_data"
    }
   ],
   "source": [
    "plt.hist( t2[\"YearBuilt\"], bins=50, edgecolor='black', linewidth=1.2, color=\"lightgreen\" )\n",
    "plt.xlabel(\"Year\")\n",
    "plt.ylabel(\"Nr of houses built in that year\")\n",
    "plt.title(\"Year of construction\")\n",
    "plt.show()"
   ]
  },
  {
   "cell_type": "code",
   "execution_count": 57,
   "id": "487fd2d1-804f-451a-ae6d-3a001bb01577",
   "metadata": {},
   "outputs": [],
   "source": [
    "mean_year_built = t2[\"YearBuilt\"].mean()"
   ]
  },
  {
   "cell_type": "code",
   "execution_count": 58,
   "id": "655cb30a-0c96-4880-9a98-3d9699c1afd0",
   "metadata": {},
   "outputs": [
    {
     "data": {
      "text/plain": [
       "1971.267808219178"
      ]
     },
     "execution_count": 58,
     "metadata": {},
     "output_type": "execute_result"
    }
   ],
   "source": [
    "mean_year_built"
   ]
  },
  {
   "cell_type": "code",
   "execution_count": 59,
   "id": "1ea9e88c-23dc-4c03-a22d-4156ce571f22",
   "metadata": {},
   "outputs": [
    {
     "data": {
      "image/png": "[encoded data removed]",
      "text/plain": [
       "<Figure size 432x288 with 1 Axes>"
      ]
     },
     "metadata": {
      "needs_background": "light"
     },
     "output_type": "display_data"
    }
   ],
   "source": [
    "plt.hist( t2[\"YearBuilt\"], bins=50, edgecolor='black', linewidth=1.2, color=\"lightgreen\" )\n",
    "plt.xlabel(\"Year\")\n",
    "plt.ylabel(\"Nr of houses built in that year\")\n",
    "plt.title(\"Year of construction\")\n",
    "plt.axvline(mean_year_built, color='red', linestyle='dashed', linewidth=2)\n",
    "plt.show()"
   ]
  },
  {
   "cell_type": "code",
   "execution_count": 60,
   "id": "c05d7e43-8fc8-43fd-944c-ba39d8871b58",
   "metadata": {},
   "outputs": [
    {
     "data": {
      "image/png": "[encoded data removed]",
      "text/plain": [
       "<Figure size 432x288 with 1 Axes>"
      ]
     },
     "metadata": {
      "needs_background": "light"
     },
     "output_type": "display_data"
    }
   ],
   "source": [
    "plt.hist( t2[\"YearBuilt\"], bins=50, edgecolor='black', linewidth=1.2, color=\"lightgreen\" )\n",
    "plt.xlabel(\"Year\")\n",
    "plt.ylabel(\"Nr of houses built in that year\")\n",
    "plt.title(\"Year of construction\")\n",
    "plt.axvline(mean_year_built, color='red', linestyle='dashed', linewidth=2)\n",
    "\n",
    "plt.text(mean_year_built-30, 100,\n",
    "         f'Mean Year Built: {mean_year_built:.0f}')\n",
    "\n",
    "#props = dict(boxstyle='round', facecolor='red', edgecolor=\"black\", alpha=0.9)\n",
    "#plt.text(mean_year_built-30, 100,\n",
    "#         f'Mean Year Built: {mean_year_built:.0f}',\n",
    "#         bbox=props, color=\"white\")\n",
    "\n",
    "\n",
    "plt.show()"
   ]
  },
  {
   "cell_type": "code",
   "execution_count": 61,
   "id": "900465d2-69d7-45ad-87c1-947a90e3bbdb",
   "metadata": {},
   "outputs": [
    {
     "data": {
      "image/png": "[encoded data removed]",
      "text/plain": [
       "<Figure size 720x360 with 1 Axes>"
      ]
     },
     "metadata": {
      "needs_background": "light"
     },
     "output_type": "display_data"
    }
   ],
   "source": [
    "plt.figure(figsize=(10,5))\n",
    "\n",
    "plt.hist( t2[\"YearBuilt\"], bins=50, edgecolor='black', linewidth=1.2, color=\"lightgreen\" )\n",
    "plt.xlabel(\"Year\")\n",
    "plt.ylabel(\"Nr of houses built in that year\")\n",
    "plt.title(\"Year of construction\")\n",
    "plt.axvline(mean_year_built, color='red', linestyle='dashed', linewidth=2)\n",
    "\n",
    "props = dict(boxstyle='round', facecolor='red', edgecolor=\"black\", alpha=0.9)\n",
    "plt.text(mean_year_built-30, 100,\n",
    "         f'Mean Year Built: {mean_year_built:.0f}',\n",
    "         bbox=props, color=\"white\")\n",
    "\n",
    "plt.savefig(\"year_of_construction.pdf\")\n",
    "plt.show()"
   ]
  },
  {
   "cell_type": "markdown",
   "id": "92aa6451-a2bb-4fd0-94bb-1cf0aadccd10",
   "metadata": {},
   "source": [
    "## Eine Hypothese\n",
    "\n",
    "Hypothese: Neue Häuser kosten mehr"
   ]
  },
  {
   "cell_type": "code",
   "execution_count": 62,
   "id": "1a60a5b7-ec61-42cd-a3ad-5625d1855ed8",
   "metadata": {},
   "outputs": [
    {
     "data": {
      "text/html": [
       "<div>\n",
       "<style scoped>\n",
       "    .dataframe tbody tr th:only-of-type {\n",
       "        vertical-align: middle;\n",
       "    }\n",
       "\n",
       "    .dataframe tbody tr th {\n",
       "        vertical-align: top;\n",
       "    }\n",
       "\n",
       "    .dataframe thead th {\n",
       "        text-align: right;\n",
       "    }\n",
       "</style>\n",
       "<table border=\"1\" class=\"dataframe\">\n",
       "  <thead>\n",
       "    <tr style=\"text-align: right;\">\n",
       "      <th></th>\n",
       "      <th>YearBuilt</th>\n",
       "      <th>LotArea</th>\n",
       "      <th>OverallQual</th>\n",
       "      <th>MSZoning</th>\n",
       "      <th>SalePrice</th>\n",
       "    </tr>\n",
       "  </thead>\n",
       "  <tbody>\n",
       "    <tr>\n",
       "      <th>0</th>\n",
       "      <td>2003</td>\n",
       "      <td>8450</td>\n",
       "      <td>7</td>\n",
       "      <td>RL</td>\n",
       "      <td>208500</td>\n",
       "    </tr>\n",
       "    <tr>\n",
       "      <th>1</th>\n",
       "      <td>1976</td>\n",
       "      <td>9600</td>\n",
       "      <td>6</td>\n",
       "      <td>RL</td>\n",
       "      <td>181500</td>\n",
       "    </tr>\n",
       "    <tr>\n",
       "      <th>2</th>\n",
       "      <td>2001</td>\n",
       "      <td>11250</td>\n",
       "      <td>7</td>\n",
       "      <td>RL</td>\n",
       "      <td>223500</td>\n",
       "    </tr>\n",
       "    <tr>\n",
       "      <th>3</th>\n",
       "      <td>1915</td>\n",
       "      <td>9550</td>\n",
       "      <td>7</td>\n",
       "      <td>RL</td>\n",
       "      <td>140000</td>\n",
       "    </tr>\n",
       "    <tr>\n",
       "      <th>4</th>\n",
       "      <td>2000</td>\n",
       "      <td>14260</td>\n",
       "      <td>8</td>\n",
       "      <td>RL</td>\n",
       "      <td>250000</td>\n",
       "    </tr>\n",
       "    <tr>\n",
       "      <th>...</th>\n",
       "      <td>...</td>\n",
       "      <td>...</td>\n",
       "      <td>...</td>\n",
       "      <td>...</td>\n",
       "      <td>...</td>\n",
       "    </tr>\n",
       "    <tr>\n",
       "      <th>1455</th>\n",
       "      <td>1999</td>\n",
       "      <td>7917</td>\n",
       "      <td>6</td>\n",
       "      <td>RL</td>\n",
       "      <td>175000</td>\n",
       "    </tr>\n",
       "    <tr>\n",
       "      <th>1456</th>\n",
       "      <td>1978</td>\n",
       "      <td>13175</td>\n",
       "      <td>6</td>\n",
       "      <td>RL</td>\n",
       "      <td>210000</td>\n",
       "    </tr>\n",
       "    <tr>\n",
       "      <th>1457</th>\n",
       "      <td>1941</td>\n",
       "      <td>9042</td>\n",
       "      <td>7</td>\n",
       "      <td>RL</td>\n",
       "      <td>266500</td>\n",
       "    </tr>\n",
       "    <tr>\n",
       "      <th>1458</th>\n",
       "      <td>1950</td>\n",
       "      <td>9717</td>\n",
       "      <td>5</td>\n",
       "      <td>RL</td>\n",
       "      <td>142125</td>\n",
       "    </tr>\n",
       "    <tr>\n",
       "      <th>1459</th>\n",
       "      <td>1965</td>\n",
       "      <td>9937</td>\n",
       "      <td>5</td>\n",
       "      <td>RL</td>\n",
       "      <td>147500</td>\n",
       "    </tr>\n",
       "  </tbody>\n",
       "</table>\n",
       "<p>1460 rows × 5 columns</p>\n",
       "</div>"
      ],
      "text/plain": [
       "      YearBuilt  LotArea  OverallQual MSZoning  SalePrice\n",
       "0          2003     8450            7       RL     208500\n",
       "1          1976     9600            6       RL     181500\n",
       "2          2001    11250            7       RL     223500\n",
       "3          1915     9550            7       RL     140000\n",
       "4          2000    14260            8       RL     250000\n",
       "...         ...      ...          ...      ...        ...\n",
       "1455       1999     7917            6       RL     175000\n",
       "1456       1978    13175            6       RL     210000\n",
       "1457       1941     9042            7       RL     266500\n",
       "1458       1950     9717            5       RL     142125\n",
       "1459       1965     9937            5       RL     147500\n",
       "\n",
       "[1460 rows x 5 columns]"
      ]
     },
     "execution_count": 62,
     "metadata": {},
     "output_type": "execute_result"
    }
   ],
   "source": [
    "t2"
   ]
  },
  {
   "cell_type": "code",
   "execution_count": 63,
   "id": "6d19c2ee-5fd6-4476-9992-210fa186a37b",
   "metadata": {},
   "outputs": [
    {
     "data": {
      "text/plain": [
       "0       2003\n",
       "1       1976\n",
       "2       2001\n",
       "3       1915\n",
       "4       2000\n",
       "        ... \n",
       "1455    1999\n",
       "1456    1978\n",
       "1457    1941\n",
       "1458    1950\n",
       "1459    1965\n",
       "Name: YearBuilt, Length: 1460, dtype: int64"
      ]
     },
     "execution_count": 63,
     "metadata": {},
     "output_type": "execute_result"
    }
   ],
   "source": [
    "t2[\"YearBuilt\"]"
   ]
  },
  {
   "cell_type": "code",
   "execution_count": 64,
   "id": "5f930176-0469-4e9a-b614-dce4f01e9bff",
   "metadata": {},
   "outputs": [
    {
     "data": {
      "text/plain": [
       "0       208500\n",
       "1       181500\n",
       "2       223500\n",
       "3       140000\n",
       "4       250000\n",
       "         ...  \n",
       "1455    175000\n",
       "1456    210000\n",
       "1457    266500\n",
       "1458    142125\n",
       "1459    147500\n",
       "Name: SalePrice, Length: 1460, dtype: int64"
      ]
     },
     "execution_count": 64,
     "metadata": {},
     "output_type": "execute_result"
    }
   ],
   "source": [
    "t2[\"SalePrice\"]"
   ]
  },
  {
   "cell_type": "code",
   "execution_count": 65,
   "id": "c0f728e1-b9d9-4ebc-bb5e-d212f850ee6a",
   "metadata": {},
   "outputs": [
    {
     "data": {
      "image/png": "[encoded data removed]",
      "text/plain": [
       "<Figure size 432x288 with 1 Axes>"
      ]
     },
     "metadata": {
      "needs_background": "light"
     },
     "output_type": "display_data"
    }
   ],
   "source": [
    "x = t2[\"YearBuilt\"]\n",
    "y = t2[\"SalePrice\"]\n",
    "\n",
    "plt.scatter(x,y)\n",
    "plt.show()"
   ]
  },
  {
   "cell_type": "code",
   "execution_count": 66,
   "id": "a27c4a43-7b05-475f-8796-14545a392592",
   "metadata": {},
   "outputs": [
    {
     "data": {
      "image/png": "[encoded data removed]",
      "text/plain": [
       "<Figure size 432x288 with 1 Axes>"
      ]
     },
     "metadata": {
      "needs_background": "light"
     },
     "output_type": "display_data"
    }
   ],
   "source": [
    "x = t2[\"YearBuilt\"]\n",
    "y = t2[\"SalePrice\"]\n",
    "\n",
    "plt.scatter(x,y, marker=\".\")\n",
    "plt.show()"
   ]
  },
  {
   "cell_type": "code",
   "execution_count": 67,
   "id": "1bd54648-f63e-4a62-9472-a2e987ec1aac",
   "metadata": {},
   "outputs": [
    {
     "data": {
      "image/png": "[encoded data removed]",
      "text/plain": [
       "<Figure size 432x288 with 1 Axes>"
      ]
     },
     "metadata": {
      "needs_background": "light"
     },
     "output_type": "display_data"
    }
   ],
   "source": [
    "x = t2[\"YearBuilt\"]\n",
    "y = t2[\"SalePrice\"]\n",
    "\n",
    "plt.scatter(x,y, marker=\".\", alpha=0.5, color=\"green\")\n",
    "plt.show()"
   ]
  },
  {
   "cell_type": "code",
   "execution_count": 68,
   "id": "1acb2bbb-c9c8-48f1-9bc6-c860d0fd39e3",
   "metadata": {},
   "outputs": [
    {
     "data": {
      "image/png": "[encoded data removed]",
      "text/plain": [
       "<Figure size 432x288 with 1 Axes>"
      ]
     },
     "metadata": {
      "needs_background": "light"
     },
     "output_type": "display_data"
    }
   ],
   "source": [
    "plt.hist2d(x,y)\n",
    "plt.show()"
   ]
  },
  {
   "cell_type": "code",
   "execution_count": 69,
   "id": "eb7cd7c6-519c-4313-a481-0010896cdac5",
   "metadata": {},
   "outputs": [
    {
     "data": {
      "image/png": "[encoded data removed]",
      "text/plain": [
       "<Figure size 432x288 with 2 Axes>"
      ]
     },
     "metadata": {
      "needs_background": "light"
     },
     "output_type": "display_data"
    }
   ],
   "source": [
    "plt.hist2d(x,y)\n",
    "plt.colorbar()\n",
    "plt.show()"
   ]
  },
  {
   "cell_type": "code",
   "execution_count": 70,
   "id": "dd13e0bd-9b6b-4c1c-b533-9d555a239b7a",
   "metadata": {},
   "outputs": [
    {
     "data": {
      "image/png": "[encoded data removed]",
      "text/plain": [
       "<Figure size 432x288 with 2 Axes>"
      ]
     },
     "metadata": {
      "needs_background": "light"
     },
     "output_type": "display_data"
    }
   ],
   "source": [
    "plt.hist2d(x,y, cmap=\"Blues\") # Blues, Greens, Reds, rainbow\n",
    "plt.colorbar()\n",
    "plt.show()"
   ]
  },
  {
   "cell_type": "code",
   "execution_count": 71,
   "id": "5d45013d-276f-4a9c-bee0-eb5195467339",
   "metadata": {},
   "outputs": [
    {
     "data": {
      "image/png": "[encoded data removed]",
      "text/plain": [
       "<Figure size 432x288 with 2 Axes>"
      ]
     },
     "metadata": {
      "needs_background": "light"
     },
     "output_type": "display_data"
    }
   ],
   "source": [
    "plt.hist2d(x,y, bins=20, cmap=\"Greens\") # Blues, Greens, Reds, rainbow\n",
    "plt.colorbar()\n",
    "plt.show()"
   ]
  },
  {
   "cell_type": "markdown",
   "id": "6204d4f5-23e1-4072-aae0-db51133d24e6",
   "metadata": {},
   "source": [
    "# Erlernen eines ersten Modells: Lineare Regression"
   ]
  },
  {
   "cell_type": "markdown",
   "id": "69ae54ac-4c10-4205-b3c1-edfa0c5bb438",
   "metadata": {},
   "source": [
    "## Lineares Modell mit einem Merkmal erlernen"
   ]
  },
  {
   "cell_type": "markdown",
   "id": "078d8685-8aa6-47da-b2b0-b1af0aeef045",
   "metadata": {},
   "source": [
    "Lineares Modell mit einem Merkmal:\n",
    "\n",
    "    sales_price = a0 + a1*year_built"
   ]
  },
  {
   "cell_type": "code",
   "execution_count": 72,
   "id": "538ea57d-6948-4e63-833d-6c6c85a0cf10",
   "metadata": {},
   "outputs": [],
   "source": [
    "# Die Bibliothek heißt \"scikit-learn\"\n",
    "# In Python heißt das Modul \"sklearn\"\n",
    "from sklearn.linear_model import LinearRegression"
   ]
  },
  {
   "cell_type": "code",
   "execution_count": 73,
   "id": "fc5f9ec2-2979-4d03-9a48-47a6563bc8fe",
   "metadata": {},
   "outputs": [],
   "source": [
    "linear_model = LinearRegression()"
   ]
  },
  {
   "cell_type": "code",
   "execution_count": 74,
   "id": "02dc094b-5580-4502-b62b-62020035da49",
   "metadata": {},
   "outputs": [],
   "source": [
    "features = t2[\"YearBuilt\"].values.reshape(-1,1)"
   ]
  },
  {
   "cell_type": "code",
   "execution_count": 75,
   "id": "7b9e23f1-2022-4c4e-a4ce-ec42e3641e41",
   "metadata": {},
   "outputs": [
    {
     "data": {
      "text/plain": [
       "array([[2003],\n",
       "       [1976],\n",
       "       [2001],\n",
       "       ...,\n",
       "       [1941],\n",
       "       [1950],\n",
       "       [1965]])"
      ]
     },
     "execution_count": 75,
     "metadata": {},
     "output_type": "execute_result"
    }
   ],
   "source": [
    "features"
   ]
  },
  {
   "cell_type": "code",
   "execution_count": 76,
   "id": "f19802c2-c6b4-4e9f-8384-dd7bccd63b60",
   "metadata": {},
   "outputs": [
    {
     "data": {
      "text/plain": [
       "(1460, 1)"
      ]
     },
     "execution_count": 76,
     "metadata": {},
     "output_type": "execute_result"
    }
   ],
   "source": [
    "features.shape"
   ]
  },
  {
   "cell_type": "code",
   "execution_count": 77,
   "id": "c9fb3115-e8cf-48a8-8e5d-b36cc5241e80",
   "metadata": {},
   "outputs": [],
   "source": [
    "targets = t2[\"SalePrice\"].values"
   ]
  },
  {
   "cell_type": "code",
   "execution_count": 78,
   "id": "0a354fcb-23a7-495a-a2a1-ba4b1eb93668",
   "metadata": {},
   "outputs": [
    {
     "data": {
      "text/plain": [
       "array([208500, 181500, 223500, ..., 266500, 142125, 147500])"
      ]
     },
     "execution_count": 78,
     "metadata": {},
     "output_type": "execute_result"
    }
   ],
   "source": [
    "targets"
   ]
  },
  {
   "cell_type": "code",
   "execution_count": 79,
   "id": "56869aff-9c05-48b2-9e8a-2543be3fe471",
   "metadata": {},
   "outputs": [
    {
     "data": {
      "text/plain": [
       "(1460,)"
      ]
     },
     "execution_count": 79,
     "metadata": {},
     "output_type": "execute_result"
    }
   ],
   "source": [
    "targets.shape"
   ]
  },
  {
   "cell_type": "code",
   "execution_count": 80,
   "id": "060fe167-0328-4522-b79e-112907dbb3cc",
   "metadata": {},
   "outputs": [],
   "source": [
    "# Eingabe für die fit()-Methode ist:\n",
    "#                      2-dimensional   1-dimensional\n",
    "reg = linear_model.fit(features, targets)"
   ]
  },
  {
   "cell_type": "code",
   "execution_count": 81,
   "id": "d7a4f793-7dfa-409e-8613-b2771a2df95c",
   "metadata": {},
   "outputs": [
    {
     "data": {
      "text/plain": [
       "array([1375.37346794])"
      ]
     },
     "execution_count": 81,
     "metadata": {},
     "output_type": "execute_result"
    }
   ],
   "source": [
    "reg.coef_"
   ]
  },
  {
   "cell_type": "code",
   "execution_count": 82,
   "id": "99520f49-35b8-4525-b2fe-c36ae135423b",
   "metadata": {},
   "outputs": [
    {
     "data": {
      "text/plain": [
       "-2530308.2457323573"
      ]
     },
     "execution_count": 82,
     "metadata": {},
     "output_type": "execute_result"
    }
   ],
   "source": [
    "reg.intercept_"
   ]
  },
  {
   "cell_type": "markdown",
   "id": "fbcd207a-123b-4205-9bb5-071bcd076df1",
   "metadata": {},
   "source": [
    "## Modell anwenden"
   ]
  },
  {
   "cell_type": "code",
   "execution_count": 83,
   "id": "ca50762d-4ead-43bc-8b3c-dcccf0d4b960",
   "metadata": {},
   "outputs": [],
   "source": [
    "a0 = reg.intercept_\n",
    "a1 = reg.coef_[0]"
   ]
  },
  {
   "cell_type": "code",
   "execution_count": 84,
   "id": "889dcf54-5b6b-4bed-b06a-2df2dbfb3b77",
   "metadata": {},
   "outputs": [
    {
     "data": {
      "text/plain": [
       "-2530308.2457323573"
      ]
     },
     "execution_count": 84,
     "metadata": {},
     "output_type": "execute_result"
    }
   ],
   "source": [
    "a0"
   ]
  },
  {
   "cell_type": "code",
   "execution_count": 85,
   "id": "090266a8-6bc3-4f59-8090-ae1e50bf8758",
   "metadata": {},
   "outputs": [
    {
     "data": {
      "text/plain": [
       "1375.3734679368924"
      ]
     },
     "execution_count": 85,
     "metadata": {},
     "output_type": "execute_result"
    }
   ],
   "source": [
    "a1"
   ]
  },
  {
   "cell_type": "code",
   "execution_count": 86,
   "id": "bef68e05-7193-44be-92e1-fba8e09ee261",
   "metadata": {},
   "outputs": [
    {
     "data": {
      "text/plain": [
       "220438.6901414278"
      ]
     },
     "execution_count": 86,
     "metadata": {},
     "output_type": "execute_result"
    }
   ],
   "source": [
    "sales_price = a0 + a1*2000\n",
    "sales_price"
   ]
  },
  {
   "cell_type": "code",
   "execution_count": 87,
   "id": "f56b4e99-8f49-4074-8b5b-3a1f8023dc5e",
   "metadata": {},
   "outputs": [],
   "source": [
    "import numpy"
   ]
  },
  {
   "cell_type": "code",
   "execution_count": 88,
   "id": "4ee2ac89-ef0e-4140-a90d-d6db47d43a6a",
   "metadata": {},
   "outputs": [
    {
     "data": {
      "text/plain": [
       "array([220438.69014143])"
      ]
     },
     "execution_count": 88,
     "metadata": {},
     "output_type": "execute_result"
    }
   ],
   "source": [
    "linear_model.predict( numpy.array( [2000] ).reshape(1,1) ) "
   ]
  },
  {
   "cell_type": "code",
   "execution_count": 89,
   "id": "75a2c3d7-e7c2-40d2-98e2-89a7209a41fd",
   "metadata": {},
   "outputs": [
    {
     "data": {
      "text/plain": [
       "array([ 82901.34334774, 151670.01674458, 220438.69014143])"
      ]
     },
     "execution_count": 89,
     "metadata": {},
     "output_type": "execute_result"
    }
   ],
   "source": [
    "years_built = [1900,1950,2000]\n",
    "linear_model.predict( numpy.array( years_built ).reshape(-1,1) ) "
   ]
  },
  {
   "cell_type": "code",
   "execution_count": 90,
   "id": "4db74259-e39f-4512-962f-7041eade2468",
   "metadata": {},
   "outputs": [],
   "source": [
    "years_built = numpy.arange(1900,2000,1)"
   ]
  },
  {
   "cell_type": "code",
   "execution_count": 91,
   "id": "0a0b0fac-f567-4516-9704-e6104fb92e78",
   "metadata": {},
   "outputs": [
    {
     "data": {
      "text/plain": [
       "array([1900, 1901, 1902, 1903, 1904, 1905, 1906, 1907, 1908, 1909, 1910,\n",
       "       1911, 1912, 1913, 1914, 1915, 1916, 1917, 1918, 1919, 1920, 1921,\n",
       "       1922, 1923, 1924, 1925, 1926, 1927, 1928, 1929, 1930, 1931, 1932,\n",
       "       1933, 1934, 1935, 1936, 1937, 1938, 1939, 1940, 1941, 1942, 1943,\n",
       "       1944, 1945, 1946, 1947, 1948, 1949, 1950, 1951, 1952, 1953, 1954,\n",
       "       1955, 1956, 1957, 1958, 1959, 1960, 1961, 1962, 1963, 1964, 1965,\n",
       "       1966, 1967, 1968, 1969, 1970, 1971, 1972, 1973, 1974, 1975, 1976,\n",
       "       1977, 1978, 1979, 1980, 1981, 1982, 1983, 1984, 1985, 1986, 1987,\n",
       "       1988, 1989, 1990, 1991, 1992, 1993, 1994, 1995, 1996, 1997, 1998,\n",
       "       1999])"
      ]
     },
     "execution_count": 91,
     "metadata": {},
     "output_type": "execute_result"
    }
   ],
   "source": [
    "years_built"
   ]
  },
  {
   "cell_type": "code",
   "execution_count": 92,
   "id": "97447572-f777-407b-9f42-9a34ecf7d940",
   "metadata": {},
   "outputs": [
    {
     "data": {
      "text/plain": [
       "array([ 82901.34334774,  84276.71681568,  85652.09028361,  87027.46375155,\n",
       "        88402.83721949,  89778.21068742,  91153.58415536,  92528.9576233 ,\n",
       "        93904.33109123,  95279.70455917,  96655.07802711,  98030.45149504,\n",
       "        99405.82496298, 100781.19843092, 102156.57189885, 103531.94536679,\n",
       "       104907.31883473, 106282.69230267, 107658.0657706 , 109033.43923854,\n",
       "       110408.81270648, 111784.18617441, 113159.55964235, 114534.93311029,\n",
       "       115910.30657822, 117285.68004616, 118661.0535141 , 120036.42698203,\n",
       "       121411.80044997, 122787.17391791, 124162.54738585, 125537.92085378,\n",
       "       126913.29432172, 128288.66778966, 129664.04125759, 131039.41472553,\n",
       "       132414.78819347, 133790.1616614 , 135165.53512934, 136540.90859728,\n",
       "       137916.28206521, 139291.65553315, 140667.02900109, 142042.40246902,\n",
       "       143417.77593696, 144793.1494049 , 146168.52287284, 147543.89634077,\n",
       "       148919.26980871, 150294.64327665, 151670.01674458, 153045.39021252,\n",
       "       154420.76368046, 155796.13714839, 157171.51061633, 158546.88408427,\n",
       "       159922.2575522 , 161297.63102014, 162673.00448808, 164048.37795602,\n",
       "       165423.75142395, 166799.12489189, 168174.49835983, 169549.87182776,\n",
       "       170925.2452957 , 172300.61876364, 173675.99223157, 175051.36569951,\n",
       "       176426.73916745, 177802.11263538, 179177.48610332, 180552.85957126,\n",
       "       181928.23303919, 183303.60650713, 184678.97997507, 186054.35344301,\n",
       "       187429.72691094, 188805.10037888, 190180.47384682, 191555.84731475,\n",
       "       192931.22078269, 194306.59425063, 195681.96771856, 197057.3411865 ,\n",
       "       198432.71465444, 199808.08812237, 201183.46159031, 202558.83505825,\n",
       "       203934.20852618, 205309.58199412, 206684.95546206, 208060.32893   ,\n",
       "       209435.70239793, 210811.07586587, 212186.44933381, 213561.82280174,\n",
       "       214937.19626968, 216312.56973762, 217687.94320555, 219063.31667349])"
      ]
     },
     "execution_count": 92,
     "metadata": {},
     "output_type": "execute_result"
    }
   ],
   "source": [
    "years_built = numpy.arange(1900,2000,1)\n",
    "preds = linear_model.predict( numpy.array( years_built ).reshape(-1,1) )\n",
    "preds"
   ]
  },
  {
   "cell_type": "code",
   "execution_count": 93,
   "id": "6e86f4b8-fce6-4399-b381-35a118517140",
   "metadata": {},
   "outputs": [
    {
     "data": {
      "image/png": "[encoded data removed]",
      "text/plain": [
       "<Figure size 432x288 with 1 Axes>"
      ]
     },
     "metadata": {
      "needs_background": "light"
     },
     "output_type": "display_data"
    }
   ],
   "source": [
    "plt.scatter(years_built, preds)\n",
    "plt.show()"
   ]
  },
  {
   "cell_type": "markdown",
   "id": "c8cd7e4c-b38e-4354-b008-42f5a5b5fb3a",
   "metadata": {},
   "source": [
    "## Lineares Modell mit mehreren Merkmalen erlernen\n",
    "\n",
    "\n",
    "Lineares Modell mit mehreren Merkmalen:\n",
    "\n",
    "    sales_price = a0 + a1*year_built + a2*lot_area"
   ]
  },
  {
   "cell_type": "code",
   "execution_count": 94,
   "id": "65b8d22c-a7fe-42b5-885d-d89074b74279",
   "metadata": {},
   "outputs": [
    {
     "data": {
      "text/plain": [
       "array([[2003],\n",
       "       [1976],\n",
       "       [2001],\n",
       "       ...,\n",
       "       [1941],\n",
       "       [1950],\n",
       "       [1965]])"
      ]
     },
     "execution_count": 94,
     "metadata": {},
     "output_type": "execute_result"
    }
   ],
   "source": [
    "features"
   ]
  },
  {
   "cell_type": "code",
   "execution_count": 95,
   "id": "260ac422-fb2e-4996-b25d-433001532b88",
   "metadata": {},
   "outputs": [
    {
     "data": {
      "text/plain": [
       "(1460, 1)"
      ]
     },
     "execution_count": 95,
     "metadata": {},
     "output_type": "execute_result"
    }
   ],
   "source": [
    "features.shape"
   ]
  },
  {
   "cell_type": "code",
   "execution_count": 96,
   "id": "1460db4f-1d59-4ea9-8c48-2e0b172949d0",
   "metadata": {},
   "outputs": [],
   "source": [
    "features2 = numpy.zeros( (1460,2) )"
   ]
  },
  {
   "cell_type": "code",
   "execution_count": 97,
   "id": "1292d04b-fed9-4889-8be5-31ca6078cdb6",
   "metadata": {},
   "outputs": [
    {
     "data": {
      "text/plain": [
       "array([[0., 0.],\n",
       "       [0., 0.],\n",
       "       [0., 0.],\n",
       "       ...,\n",
       "       [0., 0.],\n",
       "       [0., 0.],\n",
       "       [0., 0.]])"
      ]
     },
     "execution_count": 97,
     "metadata": {},
     "output_type": "execute_result"
    }
   ],
   "source": [
    "features2"
   ]
  },
  {
   "cell_type": "code",
   "execution_count": 98,
   "id": "cb2720fd-0d14-4be0-b128-e3b04309ebe1",
   "metadata": {},
   "outputs": [],
   "source": [
    "features2[0:1460, 0] = t2[\"YearBuilt\"].values"
   ]
  },
  {
   "cell_type": "code",
   "execution_count": 99,
   "id": "c540deac-302c-4055-ad31-63f179c346fe",
   "metadata": {},
   "outputs": [
    {
     "data": {
      "text/plain": [
       "array([[2003.,    0.],\n",
       "       [1976.,    0.],\n",
       "       [2001.,    0.],\n",
       "       ...,\n",
       "       [1941.,    0.],\n",
       "       [1950.,    0.],\n",
       "       [1965.,    0.]])"
      ]
     },
     "execution_count": 99,
     "metadata": {},
     "output_type": "execute_result"
    }
   ],
   "source": [
    "features2"
   ]
  },
  {
   "cell_type": "code",
   "execution_count": 100,
   "id": "ff08b81e-689c-4776-811c-849eb597553e",
   "metadata": {},
   "outputs": [],
   "source": [
    "features2[0:1460, 1] = t2[\"LotArea\"].values"
   ]
  },
  {
   "cell_type": "code",
   "execution_count": 101,
   "id": "370bc2d7-b026-41c4-9dc8-cc213ded9944",
   "metadata": {},
   "outputs": [
    {
     "data": {
      "text/plain": [
       "array([[ 2003.,  8450.],\n",
       "       [ 1976.,  9600.],\n",
       "       [ 2001., 11250.],\n",
       "       ...,\n",
       "       [ 1941.,  9042.],\n",
       "       [ 1950.,  9717.],\n",
       "       [ 1965.,  9937.]])"
      ]
     },
     "execution_count": 101,
     "metadata": {},
     "output_type": "execute_result"
    }
   ],
   "source": [
    "features2"
   ]
  },
  {
   "cell_type": "code",
   "execution_count": 102,
   "id": "d458ac9b-1cff-4b3a-ac25-b2bcff6ef649",
   "metadata": {},
   "outputs": [],
   "source": [
    "linear_model2 = LinearRegression()"
   ]
  },
  {
   "cell_type": "code",
   "execution_count": 103,
   "id": "702be511-8171-46ea-9c31-419d2cd3abba",
   "metadata": {},
   "outputs": [],
   "source": [
    "reg = linear_model2.fit(features2, targets)"
   ]
  },
  {
   "cell_type": "code",
   "execution_count": 104,
   "id": "e06a2f53-c93e-44cd-8425-8e24a2b4e4d4",
   "metadata": {},
   "outputs": [
    {
     "data": {
      "text/plain": [
       "array([1365.77615312,    2.04117215])"
      ]
     },
     "execution_count": 104,
     "metadata": {},
     "output_type": "execute_result"
    }
   ],
   "source": [
    "reg.coef_"
   ]
  },
  {
   "cell_type": "code",
   "execution_count": 105,
   "id": "2b25d39c-288a-4617-aa04-56fc7f3702f5",
   "metadata": {},
   "outputs": [
    {
     "data": {
      "text/plain": [
       "-2532856.0245703217"
      ]
     },
     "execution_count": 105,
     "metadata": {},
     "output_type": "execute_result"
    }
   ],
   "source": [
    "reg.intercept_"
   ]
  },
  {
   "cell_type": "markdown",
   "id": "8b45ee80-b2a6-43ea-bd3e-e3f25c9e79ff",
   "metadata": {},
   "source": [
    "## Lineares Modell mit mehreren Merkmalen anwenden"
   ]
  },
  {
   "cell_type": "code",
   "execution_count": 106,
   "id": "222a4fe9-3888-46cc-9bd3-3225f9f6454c",
   "metadata": {},
   "outputs": [],
   "source": [
    "input_data = numpy.array( [2000,5000] ).reshape(1,2)"
   ]
  },
  {
   "cell_type": "code",
   "execution_count": 107,
   "id": "942d2373-8b8d-4b15-ad1f-da170609bbb4",
   "metadata": {},
   "outputs": [
    {
     "data": {
      "text/plain": [
       "array([[2000, 5000]])"
      ]
     },
     "execution_count": 107,
     "metadata": {},
     "output_type": "execute_result"
    }
   ],
   "source": [
    "input_data"
   ]
  },
  {
   "cell_type": "code",
   "execution_count": 108,
   "id": "c953bfa5-697b-4b40-a82f-05499eea62e2",
   "metadata": {},
   "outputs": [
    {
     "data": {
      "text/plain": [
       "array([208902.14242167])"
      ]
     },
     "execution_count": 108,
     "metadata": {},
     "output_type": "execute_result"
    }
   ],
   "source": [
    "linear_model2.predict( input_data )"
   ]
  },
  {
   "cell_type": "code",
   "execution_count": 109,
   "id": "396de662-765d-4a15-bcf0-4d56d4d36081",
   "metadata": {},
   "outputs": [
    {
     "data": {
      "text/plain": [
       "array([229313.86390768])"
      ]
     },
     "execution_count": 109,
     "metadata": {},
     "output_type": "execute_result"
    }
   ],
   "source": [
    "input_data = numpy.array( [2000,15000] ).reshape(1,2)\n",
    "linear_model2.predict( input_data )"
   ]
  },
  {
   "cell_type": "markdown",
   "id": "2130e391-8bc5-4969-9920-0351982bd36d",
   "metadata": {},
   "source": [
    "## Testen der Güte des linearen Modells"
   ]
  },
  {
   "cell_type": "code",
   "execution_count": 110,
   "id": "2af50227-e7cd-4d25-8fa4-7aa9974087ac",
   "metadata": {},
   "outputs": [
    {
     "data": {
      "text/plain": [
       "(1460, 2)"
      ]
     },
     "execution_count": 110,
     "metadata": {},
     "output_type": "execute_result"
    }
   ],
   "source": [
    "features2.shape"
   ]
  },
  {
   "cell_type": "code",
   "execution_count": 111,
   "id": "4ebfabef-8514-4dcd-96d3-cd09c6d602b8",
   "metadata": {},
   "outputs": [
    {
     "data": {
      "text/plain": [
       "(1460,)"
      ]
     },
     "execution_count": 111,
     "metadata": {},
     "output_type": "execute_result"
    }
   ],
   "source": [
    "targets.shape"
   ]
  },
  {
   "cell_type": "code",
   "execution_count": 112,
   "id": "30663511-1852-4c29-aaa2-f08814fc74c3",
   "metadata": {},
   "outputs": [],
   "source": [
    "x_train = features2[:1000]\n",
    "y_train = targets[:1000]\n",
    "\n",
    "x_test = features2[1000:]\n",
    "y_test = targets[1000:]"
   ]
  },
  {
   "cell_type": "code",
   "execution_count": 113,
   "id": "3c613b71-4383-4b87-9d3e-ea6152462335",
   "metadata": {},
   "outputs": [
    {
     "data": {
      "text/plain": [
       "(1000, 2)"
      ]
     },
     "execution_count": 113,
     "metadata": {},
     "output_type": "execute_result"
    }
   ],
   "source": [
    "x_train.shape"
   ]
  },
  {
   "cell_type": "code",
   "execution_count": 114,
   "id": "5e9f2481-c696-4b2d-9132-03a6fe486156",
   "metadata": {},
   "outputs": [
    {
     "data": {
      "text/plain": [
       "(1000,)"
      ]
     },
     "execution_count": 114,
     "metadata": {},
     "output_type": "execute_result"
    }
   ],
   "source": [
    "y_train.shape"
   ]
  },
  {
   "cell_type": "code",
   "execution_count": 115,
   "id": "2565ba01-c2ec-4c97-8253-fe1c91f043d2",
   "metadata": {},
   "outputs": [
    {
     "data": {
      "text/plain": [
       "(460, 2)"
      ]
     },
     "execution_count": 115,
     "metadata": {},
     "output_type": "execute_result"
    }
   ],
   "source": [
    "x_test.shape"
   ]
  },
  {
   "cell_type": "code",
   "execution_count": 116,
   "id": "3a340aac-5fae-446c-86ac-61e6902378bc",
   "metadata": {},
   "outputs": [
    {
     "data": {
      "text/plain": [
       "(460,)"
      ]
     },
     "execution_count": 116,
     "metadata": {},
     "output_type": "execute_result"
    }
   ],
   "source": [
    "y_test.shape"
   ]
  },
  {
   "cell_type": "code",
   "execution_count": 117,
   "id": "62769722-71b0-47e4-91f7-40049c99928a",
   "metadata": {},
   "outputs": [],
   "source": [
    "linear_model3 = LinearRegression()\n",
    "reg = linear_model3.fit(x_train, y_train)"
   ]
  },
  {
   "cell_type": "code",
   "execution_count": 118,
   "id": "3c085fbb-7443-4f78-8322-5a15cbbf7f56",
   "metadata": {},
   "outputs": [
    {
     "data": {
      "text/plain": [
       "(array([1407.10959291,    1.84949736]), -2611792.5588071737)"
      ]
     },
     "execution_count": 118,
     "metadata": {},
     "output_type": "execute_result"
    }
   ],
   "source": [
    "reg.coef_, reg.intercept_"
   ]
  },
  {
   "cell_type": "code",
   "execution_count": 119,
   "id": "4be0402a-cbee-4471-adc3-77bb3cce0fae",
   "metadata": {},
   "outputs": [],
   "source": [
    "predicted_saleprices = linear_model3.predict( x_test )"
   ]
  },
  {
   "cell_type": "code",
   "execution_count": 120,
   "id": "39b209c9-3026-4709-882f-5bd721a8c1a4",
   "metadata": {},
   "outputs": [
    {
     "data": {
      "text/plain": [
       "array([153761.33662999,  99845.14533148, 232983.72452914, 189925.21644717,\n",
       "       215347.27557786, 185571.14175502, 182693.97966236, 164313.67487106,\n",
       "       230467.27441874, 109397.50130659])"
      ]
     },
     "execution_count": 120,
     "metadata": {},
     "output_type": "execute_result"
    }
   ],
   "source": [
    "predicted_saleprices[:10]"
   ]
  },
  {
   "cell_type": "code",
   "execution_count": 121,
   "id": "fbc114c9-5476-4d99-9c03-697d01c7e76b",
   "metadata": {},
   "outputs": [
    {
     "data": {
      "text/plain": [
       "(460,)"
      ]
     },
     "execution_count": 121,
     "metadata": {},
     "output_type": "execute_result"
    }
   ],
   "source": [
    "predicted_saleprices.shape"
   ]
  },
  {
   "cell_type": "code",
   "execution_count": 122,
   "id": "bb3190bd-8c77-422b-b7aa-6c77d0f374b0",
   "metadata": {},
   "outputs": [
    {
     "data": {
      "text/plain": [
       "array([ 82000,  86000, 232000, 136905, 181000, 149900, 163500,  88000,\n",
       "       240000, 102000])"
      ]
     },
     "execution_count": 122,
     "metadata": {},
     "output_type": "execute_result"
    }
   ],
   "source": [
    "y_test[:10]"
   ]
  },
  {
   "cell_type": "code",
   "execution_count": 123,
   "id": "80680d48-fa5c-41ae-9b50-14c6358000de",
   "metadata": {},
   "outputs": [],
   "source": [
    "errors = y_test - predicted_saleprices"
   ]
  },
  {
   "cell_type": "code",
   "execution_count": 124,
   "id": "2834cb55-5df8-490b-acff-56aeaae6c0c9",
   "metadata": {},
   "outputs": [
    {
     "data": {
      "text/plain": [
       "array([-71761.33662999, -13845.14533148,   -983.72452914, -53020.21644717,\n",
       "       -34347.27557786, -35671.14175502, -19193.97966236, -76313.67487106,\n",
       "         9532.72558126,  -7397.50130659])"
      ]
     },
     "execution_count": 124,
     "metadata": {},
     "output_type": "execute_result"
    }
   ],
   "source": [
    "errors[:10]"
   ]
  },
  {
   "cell_type": "code",
   "execution_count": 125,
   "id": "c9675ec8-e816-44f7-980e-488427e9105a",
   "metadata": {},
   "outputs": [
    {
     "data": {
      "text/plain": [
       "-1672.4434489861344"
      ]
     },
     "execution_count": 125,
     "metadata": {},
     "output_type": "execute_result"
    }
   ],
   "source": [
    "errors.mean()"
   ]
  },
  {
   "cell_type": "code",
   "execution_count": 126,
   "id": "11fd0caf-d7ae-4126-bf08-63fd80a8eb90",
   "metadata": {},
   "outputs": [
    {
     "data": {
      "text/plain": [
       "44246.55562048729"
      ]
     },
     "execution_count": 126,
     "metadata": {},
     "output_type": "execute_result"
    }
   ],
   "source": [
    "abs(errors).mean()"
   ]
  },
  {
   "cell_type": "markdown",
   "id": "7f14ceb1-bd7a-46b3-a1e2-9fbac484b17c",
   "metadata": {},
   "source": [
    "## Quantitative Analyse des linearen Zusammenhangs"
   ]
  },
  {
   "cell_type": "code",
   "execution_count": 127,
   "id": "9b19e2f4-9b49-4549-a302-6024f5f8284a",
   "metadata": {},
   "outputs": [],
   "source": [
    "from scipy.stats.stats import pearsonr"
   ]
  },
  {
   "cell_type": "code",
   "execution_count": 128,
   "id": "84af6354-1ba8-44cb-a8d7-16575c096d1f",
   "metadata": {},
   "outputs": [],
   "source": [
    "x = [10,20,30,40,50]\n",
    "y = [50,100,150,200,250]"
   ]
  },
  {
   "cell_type": "code",
   "execution_count": 129,
   "id": "fbb0cba5-83d3-470a-8285-f298cd0c802b",
   "metadata": {},
   "outputs": [
    {
     "data": {
      "text/plain": [
       "0.9999999999999999"
      ]
     },
     "execution_count": 129,
     "metadata": {},
     "output_type": "execute_result"
    }
   ],
   "source": [
    "pearsonr(x,y)[0]"
   ]
  },
  {
   "cell_type": "code",
   "execution_count": 130,
   "id": "0ef68e3b-d9b9-4e1b-b2a9-66ed8298eb02",
   "metadata": {},
   "outputs": [],
   "source": [
    "x = [10,20,30,40,50]\n",
    "y = [250,200,150,100,50]"
   ]
  },
  {
   "cell_type": "code",
   "execution_count": 131,
   "id": "c37a45e1-0d60-49c0-ac57-978255ba867c",
   "metadata": {},
   "outputs": [
    {
     "data": {
      "text/plain": [
       "-0.9999999999999999"
      ]
     },
     "execution_count": 131,
     "metadata": {},
     "output_type": "execute_result"
    }
   ],
   "source": [
    "pearsonr(x,y)[0]"
   ]
  },
  {
   "cell_type": "code",
   "execution_count": 132,
   "id": "f5559fe5-eb1d-46a0-93d9-d324f65f6526",
   "metadata": {},
   "outputs": [
    {
     "data": {
      "text/plain": [
       "-0.9999999999999999"
      ]
     },
     "execution_count": 132,
     "metadata": {},
     "output_type": "execute_result"
    }
   ],
   "source": [
    "pearsonr(x,y)[0]"
   ]
  },
  {
   "cell_type": "code",
   "execution_count": 133,
   "id": "c5c86277-d65d-4e84-a617-caa41498ae55",
   "metadata": {},
   "outputs": [
    {
     "data": {
      "text/plain": [
       "0.5228973328794968"
      ]
     },
     "execution_count": 133,
     "metadata": {},
     "output_type": "execute_result"
    }
   ],
   "source": [
    "pearsonr(t2[\"YearBuilt\"], t2[\"SalePrice\"])[0]"
   ]
  },
  {
   "cell_type": "code",
   "execution_count": 134,
   "id": "fc905577-3ab9-49a6-be8d-0a8c63ef99da",
   "metadata": {},
   "outputs": [
    {
     "data": {
      "text/plain": [
       "0.2638433538714057"
      ]
     },
     "execution_count": 134,
     "metadata": {},
     "output_type": "execute_result"
    }
   ],
   "source": [
    "pearsonr(t2[\"LotArea\"], t2[\"SalePrice\"])[0]"
   ]
  },
  {
   "cell_type": "markdown",
   "id": "a8125f29-86ff-46fb-8620-92954d6b036f",
   "metadata": {},
   "source": [
    "## Scatter matrix"
   ]
  },
  {
   "cell_type": "code",
   "execution_count": 135,
   "id": "f685d9c3-78a1-4ef1-b596-4ed9dc20f4ff",
   "metadata": {},
   "outputs": [
    {
     "data": {
      "image/png": "[encoded data removed]",
      "text/plain": [
       "<Figure size 432x288 with 16 Axes>"
      ]
     },
     "metadata": {
      "needs_background": "light"
     },
     "output_type": "display_data"
    }
   ],
   "source": [
    "ret = pandas.plotting.scatter_matrix(t2)"
   ]
  },
  {
   "cell_type": "code",
   "execution_count": 136,
   "id": "f88d9865-fbef-4ab5-8d37-542b0941a59e",
   "metadata": {},
   "outputs": [
    {
     "data": {
      "image/png": "[encoded data removed]",
      "text/plain": [
       "<Figure size 648x792 with 16 Axes>"
      ]
     },
     "metadata": {
      "needs_background": "light"
     },
     "output_type": "display_data"
    }
   ],
   "source": [
    "ret = pandas.plotting.scatter_matrix(t2, figsize=(9,11) )"
   ]
  },
  {
   "cell_type": "code",
   "execution_count": 137,
   "id": "d75588a2-74e6-411f-a5ed-e8bfc5a09923",
   "metadata": {},
   "outputs": [
    {
     "data": {
      "text/plain": [
       "0.7909816005838048"
      ]
     },
     "execution_count": 137,
     "metadata": {},
     "output_type": "execute_result"
    }
   ],
   "source": [
    "pearsonr(t2[\"OverallQual\"], t2[\"SalePrice\"])[0]"
   ]
  },
  {
   "cell_type": "code",
   "execution_count": 138,
   "id": "a4338d86-77a0-4bdd-9b24-7ece0d4bba2b",
   "metadata": {},
   "outputs": [
    {
     "data": {
      "image/png": "[encoded data removed]",
      "text/plain": [
       "<Figure size 648x792 with 16 Axes>"
      ]
     },
     "metadata": {
      "needs_background": "light"
     },
     "output_type": "display_data"
    }
   ],
   "source": [
    "ret = pandas.plotting.scatter_matrix(t2, figsize=(9,11), diagonal='kde' )"
   ]
  },
  {
   "cell_type": "markdown",
   "id": "caf972b3-0ba6-46c2-9814-3f70ae5158bb",
   "metadata": {},
   "source": [
    "# Erlernen eines zweiten Modells: Neuronales Netz"
   ]
  },
  {
   "cell_type": "markdown",
   "id": "ddd5872f-8723-45b5-8f71-f29fb172bb51",
   "metadata": {},
   "source": [
    "## Input-Merkmale leben alle in einem unterschiedlichen Bereich"
   ]
  },
  {
   "cell_type": "code",
   "execution_count": 143,
   "id": "69ac98f3-7602-49b5-84bf-de568b06c3dc",
   "metadata": {},
   "outputs": [
    {
     "data": {
      "text/plain": [
       "array([[ 2003.,  8450.],\n",
       "       [ 1976.,  9600.],\n",
       "       [ 2001., 11250.],\n",
       "       [ 1915.,  9550.],\n",
       "       [ 2000., 14260.]])"
      ]
     },
     "execution_count": 143,
     "metadata": {},
     "output_type": "execute_result"
    }
   ],
   "source": [
    "x_train[:5]"
   ]
  },
  {
   "cell_type": "code",
   "execution_count": 142,
   "id": "9a092c88-c720-4665-9d42-ed297f53ef2d",
   "metadata": {},
   "outputs": [
    {
     "data": {
      "text/plain": [
       "array([208500, 181500, 223500, 140000, 250000])"
      ]
     },
     "execution_count": 142,
     "metadata": {},
     "output_type": "execute_result"
    }
   ],
   "source": [
    "y_train[:5]"
   ]
  },
  {
   "cell_type": "code",
   "execution_count": 144,
   "id": "6b41af06-baff-4111-a07f-0d6c213bb228",
   "metadata": {},
   "outputs": [
    {
     "data": {
      "text/plain": [
       "array([[ 1952., 10206.],\n",
       "       [ 1920.,  5400.],\n",
       "       [ 2006., 11957.],\n",
       "       [ 1976., 11500.],\n",
       "       [ 2005.,  3182.]])"
      ]
     },
     "execution_count": 144,
     "metadata": {},
     "output_type": "execute_result"
    }
   ],
   "source": [
    "x_test[:5]"
   ]
  },
  {
   "cell_type": "code",
   "execution_count": 145,
   "id": "dbdcdf44-e2e2-4724-9f4e-59698db3a0be",
   "metadata": {},
   "outputs": [
    {
     "data": {
      "text/plain": [
       "array([ 82000,  86000, 232000, 136905, 181000])"
      ]
     },
     "execution_count": 145,
     "metadata": {},
     "output_type": "execute_result"
    }
   ],
   "source": [
    "y_test[:5]"
   ]
  },
  {
   "cell_type": "markdown",
   "id": "b0e673f1-8131-41fd-939b-1a5e047adef3",
   "metadata": {},
   "source": [
    "## Wir haben noch mehr Input-Merkmale in der Tabelle\n",
    "\n",
    "Transformation qualitativer Merkmale in numerische Merkmale"
   ]
  },
  {
   "cell_type": "code",
   "execution_count": 147,
   "id": "d259b8b0-b36a-467a-b0dc-960d94dfde6e",
   "metadata": {},
   "outputs": [
    {
     "data": {
      "text/html": [
       "<div>\n",
       "<style scoped>\n",
       "    .dataframe tbody tr th:only-of-type {\n",
       "        vertical-align: middle;\n",
       "    }\n",
       "\n",
       "    .dataframe tbody tr th {\n",
       "        vertical-align: top;\n",
       "    }\n",
       "\n",
       "    .dataframe thead th {\n",
       "        text-align: right;\n",
       "    }\n",
       "</style>\n",
       "<table border=\"1\" class=\"dataframe\">\n",
       "  <thead>\n",
       "    <tr style=\"text-align: right;\">\n",
       "      <th></th>\n",
       "      <th>YearBuilt</th>\n",
       "      <th>LotArea</th>\n",
       "      <th>OverallQual</th>\n",
       "      <th>MSZoning</th>\n",
       "      <th>SalePrice</th>\n",
       "    </tr>\n",
       "  </thead>\n",
       "  <tbody>\n",
       "    <tr>\n",
       "      <th>0</th>\n",
       "      <td>2003</td>\n",
       "      <td>8450</td>\n",
       "      <td>7</td>\n",
       "      <td>RL</td>\n",
       "      <td>208500</td>\n",
       "    </tr>\n",
       "    <tr>\n",
       "      <th>1</th>\n",
       "      <td>1976</td>\n",
       "      <td>9600</td>\n",
       "      <td>6</td>\n",
       "      <td>RL</td>\n",
       "      <td>181500</td>\n",
       "    </tr>\n",
       "    <tr>\n",
       "      <th>2</th>\n",
       "      <td>2001</td>\n",
       "      <td>11250</td>\n",
       "      <td>7</td>\n",
       "      <td>RL</td>\n",
       "      <td>223500</td>\n",
       "    </tr>\n",
       "    <tr>\n",
       "      <th>3</th>\n",
       "      <td>1915</td>\n",
       "      <td>9550</td>\n",
       "      <td>7</td>\n",
       "      <td>RL</td>\n",
       "      <td>140000</td>\n",
       "    </tr>\n",
       "    <tr>\n",
       "      <th>4</th>\n",
       "      <td>2000</td>\n",
       "      <td>14260</td>\n",
       "      <td>8</td>\n",
       "      <td>RL</td>\n",
       "      <td>250000</td>\n",
       "    </tr>\n",
       "    <tr>\n",
       "      <th>...</th>\n",
       "      <td>...</td>\n",
       "      <td>...</td>\n",
       "      <td>...</td>\n",
       "      <td>...</td>\n",
       "      <td>...</td>\n",
       "    </tr>\n",
       "    <tr>\n",
       "      <th>1455</th>\n",
       "      <td>1999</td>\n",
       "      <td>7917</td>\n",
       "      <td>6</td>\n",
       "      <td>RL</td>\n",
       "      <td>175000</td>\n",
       "    </tr>\n",
       "    <tr>\n",
       "      <th>1456</th>\n",
       "      <td>1978</td>\n",
       "      <td>13175</td>\n",
       "      <td>6</td>\n",
       "      <td>RL</td>\n",
       "      <td>210000</td>\n",
       "    </tr>\n",
       "    <tr>\n",
       "      <th>1457</th>\n",
       "      <td>1941</td>\n",
       "      <td>9042</td>\n",
       "      <td>7</td>\n",
       "      <td>RL</td>\n",
       "      <td>266500</td>\n",
       "    </tr>\n",
       "    <tr>\n",
       "      <th>1458</th>\n",
       "      <td>1950</td>\n",
       "      <td>9717</td>\n",
       "      <td>5</td>\n",
       "      <td>RL</td>\n",
       "      <td>142125</td>\n",
       "    </tr>\n",
       "    <tr>\n",
       "      <th>1459</th>\n",
       "      <td>1965</td>\n",
       "      <td>9937</td>\n",
       "      <td>5</td>\n",
       "      <td>RL</td>\n",
       "      <td>147500</td>\n",
       "    </tr>\n",
       "  </tbody>\n",
       "</table>\n",
       "<p>1460 rows × 5 columns</p>\n",
       "</div>"
      ],
      "text/plain": [
       "      YearBuilt  LotArea  OverallQual MSZoning  SalePrice\n",
       "0          2003     8450            7       RL     208500\n",
       "1          1976     9600            6       RL     181500\n",
       "2          2001    11250            7       RL     223500\n",
       "3          1915     9550            7       RL     140000\n",
       "4          2000    14260            8       RL     250000\n",
       "...         ...      ...          ...      ...        ...\n",
       "1455       1999     7917            6       RL     175000\n",
       "1456       1978    13175            6       RL     210000\n",
       "1457       1941     9042            7       RL     266500\n",
       "1458       1950     9717            5       RL     142125\n",
       "1459       1965     9937            5       RL     147500\n",
       "\n",
       "[1460 rows x 5 columns]"
      ]
     },
     "execution_count": 147,
     "metadata": {},
     "output_type": "execute_result"
    }
   ],
   "source": [
    "t2"
   ]
  },
  {
   "cell_type": "code",
   "execution_count": 153,
   "id": "1eccb225-a1bf-4372-832c-a70074a83eb1",
   "metadata": {},
   "outputs": [],
   "source": [
    "t3 = pandas.get_dummies(t2)"
   ]
  },
  {
   "cell_type": "code",
   "execution_count": 154,
   "id": "25ba4290-c569-48f5-9697-ca3421023f29",
   "metadata": {},
   "outputs": [
    {
     "data": {
      "text/html": [
       "<div>\n",
       "<style scoped>\n",
       "    .dataframe tbody tr th:only-of-type {\n",
       "        vertical-align: middle;\n",
       "    }\n",
       "\n",
       "    .dataframe tbody tr th {\n",
       "        vertical-align: top;\n",
       "    }\n",
       "\n",
       "    .dataframe thead th {\n",
       "        text-align: right;\n",
       "    }\n",
       "</style>\n",
       "<table border=\"1\" class=\"dataframe\">\n",
       "  <thead>\n",
       "    <tr style=\"text-align: right;\">\n",
       "      <th></th>\n",
       "      <th>YearBuilt</th>\n",
       "      <th>LotArea</th>\n",
       "      <th>OverallQual</th>\n",
       "      <th>SalePrice</th>\n",
       "      <th>MSZoning_C (all)</th>\n",
       "      <th>MSZoning_FV</th>\n",
       "      <th>MSZoning_RH</th>\n",
       "      <th>MSZoning_RL</th>\n",
       "      <th>MSZoning_RM</th>\n",
       "    </tr>\n",
       "  </thead>\n",
       "  <tbody>\n",
       "    <tr>\n",
       "      <th>0</th>\n",
       "      <td>2003</td>\n",
       "      <td>8450</td>\n",
       "      <td>7</td>\n",
       "      <td>208500</td>\n",
       "      <td>0</td>\n",
       "      <td>0</td>\n",
       "      <td>0</td>\n",
       "      <td>1</td>\n",
       "      <td>0</td>\n",
       "    </tr>\n",
       "    <tr>\n",
       "      <th>1</th>\n",
       "      <td>1976</td>\n",
       "      <td>9600</td>\n",
       "      <td>6</td>\n",
       "      <td>181500</td>\n",
       "      <td>0</td>\n",
       "      <td>0</td>\n",
       "      <td>0</td>\n",
       "      <td>1</td>\n",
       "      <td>0</td>\n",
       "    </tr>\n",
       "    <tr>\n",
       "      <th>2</th>\n",
       "      <td>2001</td>\n",
       "      <td>11250</td>\n",
       "      <td>7</td>\n",
       "      <td>223500</td>\n",
       "      <td>0</td>\n",
       "      <td>0</td>\n",
       "      <td>0</td>\n",
       "      <td>1</td>\n",
       "      <td>0</td>\n",
       "    </tr>\n",
       "    <tr>\n",
       "      <th>3</th>\n",
       "      <td>1915</td>\n",
       "      <td>9550</td>\n",
       "      <td>7</td>\n",
       "      <td>140000</td>\n",
       "      <td>0</td>\n",
       "      <td>0</td>\n",
       "      <td>0</td>\n",
       "      <td>1</td>\n",
       "      <td>0</td>\n",
       "    </tr>\n",
       "    <tr>\n",
       "      <th>4</th>\n",
       "      <td>2000</td>\n",
       "      <td>14260</td>\n",
       "      <td>8</td>\n",
       "      <td>250000</td>\n",
       "      <td>0</td>\n",
       "      <td>0</td>\n",
       "      <td>0</td>\n",
       "      <td>1</td>\n",
       "      <td>0</td>\n",
       "    </tr>\n",
       "    <tr>\n",
       "      <th>...</th>\n",
       "      <td>...</td>\n",
       "      <td>...</td>\n",
       "      <td>...</td>\n",
       "      <td>...</td>\n",
       "      <td>...</td>\n",
       "      <td>...</td>\n",
       "      <td>...</td>\n",
       "      <td>...</td>\n",
       "      <td>...</td>\n",
       "    </tr>\n",
       "    <tr>\n",
       "      <th>1455</th>\n",
       "      <td>1999</td>\n",
       "      <td>7917</td>\n",
       "      <td>6</td>\n",
       "      <td>175000</td>\n",
       "      <td>0</td>\n",
       "      <td>0</td>\n",
       "      <td>0</td>\n",
       "      <td>1</td>\n",
       "      <td>0</td>\n",
       "    </tr>\n",
       "    <tr>\n",
       "      <th>1456</th>\n",
       "      <td>1978</td>\n",
       "      <td>13175</td>\n",
       "      <td>6</td>\n",
       "      <td>210000</td>\n",
       "      <td>0</td>\n",
       "      <td>0</td>\n",
       "      <td>0</td>\n",
       "      <td>1</td>\n",
       "      <td>0</td>\n",
       "    </tr>\n",
       "    <tr>\n",
       "      <th>1457</th>\n",
       "      <td>1941</td>\n",
       "      <td>9042</td>\n",
       "      <td>7</td>\n",
       "      <td>266500</td>\n",
       "      <td>0</td>\n",
       "      <td>0</td>\n",
       "      <td>0</td>\n",
       "      <td>1</td>\n",
       "      <td>0</td>\n",
       "    </tr>\n",
       "    <tr>\n",
       "      <th>1458</th>\n",
       "      <td>1950</td>\n",
       "      <td>9717</td>\n",
       "      <td>5</td>\n",
       "      <td>142125</td>\n",
       "      <td>0</td>\n",
       "      <td>0</td>\n",
       "      <td>0</td>\n",
       "      <td>1</td>\n",
       "      <td>0</td>\n",
       "    </tr>\n",
       "    <tr>\n",
       "      <th>1459</th>\n",
       "      <td>1965</td>\n",
       "      <td>9937</td>\n",
       "      <td>5</td>\n",
       "      <td>147500</td>\n",
       "      <td>0</td>\n",
       "      <td>0</td>\n",
       "      <td>0</td>\n",
       "      <td>1</td>\n",
       "      <td>0</td>\n",
       "    </tr>\n",
       "  </tbody>\n",
       "</table>\n",
       "<p>1460 rows × 9 columns</p>\n",
       "</div>"
      ],
      "text/plain": [
       "      YearBuilt  LotArea  OverallQual  SalePrice  MSZoning_C (all)  \\\n",
       "0          2003     8450            7     208500                 0   \n",
       "1          1976     9600            6     181500                 0   \n",
       "2          2001    11250            7     223500                 0   \n",
       "3          1915     9550            7     140000                 0   \n",
       "4          2000    14260            8     250000                 0   \n",
       "...         ...      ...          ...        ...               ...   \n",
       "1455       1999     7917            6     175000                 0   \n",
       "1456       1978    13175            6     210000                 0   \n",
       "1457       1941     9042            7     266500                 0   \n",
       "1458       1950     9717            5     142125                 0   \n",
       "1459       1965     9937            5     147500                 0   \n",
       "\n",
       "      MSZoning_FV  MSZoning_RH  MSZoning_RL  MSZoning_RM  \n",
       "0               0            0            1            0  \n",
       "1               0            0            1            0  \n",
       "2               0            0            1            0  \n",
       "3               0            0            1            0  \n",
       "4               0            0            1            0  \n",
       "...           ...          ...          ...          ...  \n",
       "1455            0            0            1            0  \n",
       "1456            0            0            1            0  \n",
       "1457            0            0            1            0  \n",
       "1458            0            0            1            0  \n",
       "1459            0            0            1            0  \n",
       "\n",
       "[1460 rows x 9 columns]"
      ]
     },
     "execution_count": 154,
     "metadata": {},
     "output_type": "execute_result"
    }
   ],
   "source": [
    "t3"
   ]
  },
  {
   "cell_type": "markdown",
   "id": "ecb6b7e6-3760-44e3-8b94-a87363d5d28d",
   "metadata": {},
   "source": [
    "## Features-Tabe'lle und Targets-Tabelle festlegen"
   ]
  },
  {
   "cell_type": "code",
   "execution_count": 186,
   "id": "9e6bba36-e8e2-4903-9b33-b1814a460060",
   "metadata": {},
   "outputs": [],
   "source": [
    "targets = t3[\"SalePrice\"]"
   ]
  },
  {
   "cell_type": "code",
   "execution_count": 187,
   "id": "6ebee8ef-55d8-4cc4-a897-b10733b9d157",
   "metadata": {},
   "outputs": [],
   "source": [
    "features = t3.drop( \"SalePrice\", axis=1 )"
   ]
  },
  {
   "cell_type": "code",
   "execution_count": 188,
   "id": "ae08003a-d0f6-45a4-b4bc-bf752e5d4992",
   "metadata": {},
   "outputs": [
    {
     "data": {
      "text/html": [
       "<div>\n",
       "<style scoped>\n",
       "    .dataframe tbody tr th:only-of-type {\n",
       "        vertical-align: middle;\n",
       "    }\n",
       "\n",
       "    .dataframe tbody tr th {\n",
       "        vertical-align: top;\n",
       "    }\n",
       "\n",
       "    .dataframe thead th {\n",
       "        text-align: right;\n",
       "    }\n",
       "</style>\n",
       "<table border=\"1\" class=\"dataframe\">\n",
       "  <thead>\n",
       "    <tr style=\"text-align: right;\">\n",
       "      <th></th>\n",
       "      <th>YearBuilt</th>\n",
       "      <th>LotArea</th>\n",
       "      <th>OverallQual</th>\n",
       "      <th>MSZoning_C (all)</th>\n",
       "      <th>MSZoning_FV</th>\n",
       "      <th>MSZoning_RH</th>\n",
       "      <th>MSZoning_RL</th>\n",
       "      <th>MSZoning_RM</th>\n",
       "    </tr>\n",
       "  </thead>\n",
       "  <tbody>\n",
       "    <tr>\n",
       "      <th>0</th>\n",
       "      <td>2003</td>\n",
       "      <td>8450</td>\n",
       "      <td>7</td>\n",
       "      <td>0</td>\n",
       "      <td>0</td>\n",
       "      <td>0</td>\n",
       "      <td>1</td>\n",
       "      <td>0</td>\n",
       "    </tr>\n",
       "    <tr>\n",
       "      <th>1</th>\n",
       "      <td>1976</td>\n",
       "      <td>9600</td>\n",
       "      <td>6</td>\n",
       "      <td>0</td>\n",
       "      <td>0</td>\n",
       "      <td>0</td>\n",
       "      <td>1</td>\n",
       "      <td>0</td>\n",
       "    </tr>\n",
       "    <tr>\n",
       "      <th>2</th>\n",
       "      <td>2001</td>\n",
       "      <td>11250</td>\n",
       "      <td>7</td>\n",
       "      <td>0</td>\n",
       "      <td>0</td>\n",
       "      <td>0</td>\n",
       "      <td>1</td>\n",
       "      <td>0</td>\n",
       "    </tr>\n",
       "    <tr>\n",
       "      <th>3</th>\n",
       "      <td>1915</td>\n",
       "      <td>9550</td>\n",
       "      <td>7</td>\n",
       "      <td>0</td>\n",
       "      <td>0</td>\n",
       "      <td>0</td>\n",
       "      <td>1</td>\n",
       "      <td>0</td>\n",
       "    </tr>\n",
       "    <tr>\n",
       "      <th>4</th>\n",
       "      <td>2000</td>\n",
       "      <td>14260</td>\n",
       "      <td>8</td>\n",
       "      <td>0</td>\n",
       "      <td>0</td>\n",
       "      <td>0</td>\n",
       "      <td>1</td>\n",
       "      <td>0</td>\n",
       "    </tr>\n",
       "    <tr>\n",
       "      <th>...</th>\n",
       "      <td>...</td>\n",
       "      <td>...</td>\n",
       "      <td>...</td>\n",
       "      <td>...</td>\n",
       "      <td>...</td>\n",
       "      <td>...</td>\n",
       "      <td>...</td>\n",
       "      <td>...</td>\n",
       "    </tr>\n",
       "    <tr>\n",
       "      <th>1455</th>\n",
       "      <td>1999</td>\n",
       "      <td>7917</td>\n",
       "      <td>6</td>\n",
       "      <td>0</td>\n",
       "      <td>0</td>\n",
       "      <td>0</td>\n",
       "      <td>1</td>\n",
       "      <td>0</td>\n",
       "    </tr>\n",
       "    <tr>\n",
       "      <th>1456</th>\n",
       "      <td>1978</td>\n",
       "      <td>13175</td>\n",
       "      <td>6</td>\n",
       "      <td>0</td>\n",
       "      <td>0</td>\n",
       "      <td>0</td>\n",
       "      <td>1</td>\n",
       "      <td>0</td>\n",
       "    </tr>\n",
       "    <tr>\n",
       "      <th>1457</th>\n",
       "      <td>1941</td>\n",
       "      <td>9042</td>\n",
       "      <td>7</td>\n",
       "      <td>0</td>\n",
       "      <td>0</td>\n",
       "      <td>0</td>\n",
       "      <td>1</td>\n",
       "      <td>0</td>\n",
       "    </tr>\n",
       "    <tr>\n",
       "      <th>1458</th>\n",
       "      <td>1950</td>\n",
       "      <td>9717</td>\n",
       "      <td>5</td>\n",
       "      <td>0</td>\n",
       "      <td>0</td>\n",
       "      <td>0</td>\n",
       "      <td>1</td>\n",
       "      <td>0</td>\n",
       "    </tr>\n",
       "    <tr>\n",
       "      <th>1459</th>\n",
       "      <td>1965</td>\n",
       "      <td>9937</td>\n",
       "      <td>5</td>\n",
       "      <td>0</td>\n",
       "      <td>0</td>\n",
       "      <td>0</td>\n",
       "      <td>1</td>\n",
       "      <td>0</td>\n",
       "    </tr>\n",
       "  </tbody>\n",
       "</table>\n",
       "<p>1460 rows × 8 columns</p>\n",
       "</div>"
      ],
      "text/plain": [
       "      YearBuilt  LotArea  OverallQual  MSZoning_C (all)  MSZoning_FV  \\\n",
       "0          2003     8450            7                 0            0   \n",
       "1          1976     9600            6                 0            0   \n",
       "2          2001    11250            7                 0            0   \n",
       "3          1915     9550            7                 0            0   \n",
       "4          2000    14260            8                 0            0   \n",
       "...         ...      ...          ...               ...          ...   \n",
       "1455       1999     7917            6                 0            0   \n",
       "1456       1978    13175            6                 0            0   \n",
       "1457       1941     9042            7                 0            0   \n",
       "1458       1950     9717            5                 0            0   \n",
       "1459       1965     9937            5                 0            0   \n",
       "\n",
       "      MSZoning_RH  MSZoning_RL  MSZoning_RM  \n",
       "0               0            1            0  \n",
       "1               0            1            0  \n",
       "2               0            1            0  \n",
       "3               0            1            0  \n",
       "4               0            1            0  \n",
       "...           ...          ...          ...  \n",
       "1455            0            1            0  \n",
       "1456            0            1            0  \n",
       "1457            0            1            0  \n",
       "1458            0            1            0  \n",
       "1459            0            1            0  \n",
       "\n",
       "[1460 rows x 8 columns]"
      ]
     },
     "execution_count": 188,
     "metadata": {},
     "output_type": "execute_result"
    }
   ],
   "source": [
    "features"
   ]
  },
  {
   "cell_type": "code",
   "execution_count": 189,
   "id": "3b945129-60c4-4b59-8bf1-f1261e36e456",
   "metadata": {},
   "outputs": [
    {
     "data": {
      "text/plain": [
       "0       208500\n",
       "1       181500\n",
       "2       223500\n",
       "3       140000\n",
       "4       250000\n",
       "         ...  \n",
       "1455    175000\n",
       "1456    210000\n",
       "1457    266500\n",
       "1458    142125\n",
       "1459    147500\n",
       "Name: SalePrice, Length: 1460, dtype: int64"
      ]
     },
     "execution_count": 189,
     "metadata": {},
     "output_type": "execute_result"
    }
   ],
   "source": [
    "targets"
   ]
  },
  {
   "cell_type": "markdown",
   "id": "9700bcab-6209-45b3-b6dd-9375e1db1d4f",
   "metadata": {},
   "source": [
    "## Einführung: MinMax-Scaler"
   ]
  },
  {
   "cell_type": "code",
   "execution_count": 166,
   "id": "f30f1c1e-9da3-41d2-9440-bfeb0750dd9e",
   "metadata": {},
   "outputs": [],
   "source": [
    "from sklearn.preprocessing import MinMaxScaler"
   ]
  },
  {
   "cell_type": "code",
   "execution_count": 168,
   "id": "5358cae3-a8e7-4829-8130-17a6bd36a277",
   "metadata": {},
   "outputs": [],
   "source": [
    "M = numpy.arange(1,36).reshape(5,7)"
   ]
  },
  {
   "cell_type": "code",
   "execution_count": 169,
   "id": "71a1d65f-fe59-421f-94ce-40f5ba1e2c2e",
   "metadata": {},
   "outputs": [
    {
     "data": {
      "text/plain": [
       "array([[ 1,  2,  3,  4,  5,  6,  7],\n",
       "       [ 8,  9, 10, 11, 12, 13, 14],\n",
       "       [15, 16, 17, 18, 19, 20, 21],\n",
       "       [22, 23, 24, 25, 26, 27, 28],\n",
       "       [29, 30, 31, 32, 33, 34, 35]])"
      ]
     },
     "execution_count": 169,
     "metadata": {},
     "output_type": "execute_result"
    }
   ],
   "source": [
    "M"
   ]
  },
  {
   "cell_type": "code",
   "execution_count": 170,
   "id": "9d843654-f441-4807-9456-b86090005a20",
   "metadata": {},
   "outputs": [],
   "source": [
    "scaler = MinMaxScaler()"
   ]
  },
  {
   "cell_type": "code",
   "execution_count": 171,
   "id": "0a8c239b-5ee2-4db7-947a-e001a83f93be",
   "metadata": {},
   "outputs": [],
   "source": [
    "M_scaled = scaler.fit_transform(M)"
   ]
  },
  {
   "cell_type": "code",
   "execution_count": 172,
   "id": "43bb5f64-1dfd-4c03-b99d-7f69975db282",
   "metadata": {},
   "outputs": [
    {
     "data": {
      "text/plain": [
       "array([[0.  , 0.  , 0.  , 0.  , 0.  , 0.  , 0.  ],\n",
       "       [0.25, 0.25, 0.25, 0.25, 0.25, 0.25, 0.25],\n",
       "       [0.5 , 0.5 , 0.5 , 0.5 , 0.5 , 0.5 , 0.5 ],\n",
       "       [0.75, 0.75, 0.75, 0.75, 0.75, 0.75, 0.75],\n",
       "       [1.  , 1.  , 1.  , 1.  , 1.  , 1.  , 1.  ]])"
      ]
     },
     "execution_count": 172,
     "metadata": {},
     "output_type": "execute_result"
    }
   ],
   "source": [
    "M_scaled"
   ]
  },
  {
   "cell_type": "markdown",
   "id": "cc4536a0-d308-49c2-bf97-03025b483ae0",
   "metadata": {},
   "source": [
    "## Skalierung der Features und Targets"
   ]
  },
  {
   "cell_type": "code",
   "execution_count": 180,
   "id": "06943a5a-7b7e-45dc-b754-13b94f263654",
   "metadata": {},
   "outputs": [],
   "source": [
    "scaler_features = MinMaxScaler()\n",
    "scaler_targets  = MinMaxScaler()"
   ]
  },
  {
   "cell_type": "code",
   "execution_count": 190,
   "id": "74e8b5d6-13b1-478f-b30f-9b2e62d806ab",
   "metadata": {},
   "outputs": [],
   "source": [
    "features_scaled = scaler_features.fit_transform( features )"
   ]
  },
  {
   "cell_type": "code",
   "execution_count": 191,
   "id": "49c74ab7-2835-4cd3-803b-0cb0e7e0b6fd",
   "metadata": {},
   "outputs": [
    {
     "data": {
      "text/plain": [
       "array([[0.94927536, 0.0334198 , 0.66666667, 0.        , 0.        ,\n",
       "        0.        , 1.        , 0.        ],\n",
       "       [0.75362319, 0.03879502, 0.55555556, 0.        , 0.        ,\n",
       "        0.        , 1.        , 0.        ],\n",
       "       [0.93478261, 0.04650728, 0.66666667, 0.        , 0.        ,\n",
       "        0.        , 1.        , 0.        ],\n",
       "       [0.3115942 , 0.03856131, 0.66666667, 0.        , 0.        ,\n",
       "        0.        , 1.        , 0.        ],\n",
       "       [0.92753623, 0.06057632, 0.77777778, 0.        , 0.        ,\n",
       "        0.        , 1.        , 0.        ]])"
      ]
     },
     "execution_count": 191,
     "metadata": {},
     "output_type": "execute_result"
    }
   ],
   "source": [
    "features_scaled[:5]"
   ]
  },
  {
   "cell_type": "code",
   "execution_count": 192,
   "id": "60092de2-2e4d-412a-925e-33d0aa9991c2",
   "metadata": {},
   "outputs": [
    {
     "data": {
      "text/html": [
       "<div>\n",
       "<style scoped>\n",
       "    .dataframe tbody tr th:only-of-type {\n",
       "        vertical-align: middle;\n",
       "    }\n",
       "\n",
       "    .dataframe tbody tr th {\n",
       "        vertical-align: top;\n",
       "    }\n",
       "\n",
       "    .dataframe thead th {\n",
       "        text-align: right;\n",
       "    }\n",
       "</style>\n",
       "<table border=\"1\" class=\"dataframe\">\n",
       "  <thead>\n",
       "    <tr style=\"text-align: right;\">\n",
       "      <th></th>\n",
       "      <th>YearBuilt</th>\n",
       "      <th>LotArea</th>\n",
       "      <th>OverallQual</th>\n",
       "      <th>MSZoning_C (all)</th>\n",
       "      <th>MSZoning_FV</th>\n",
       "      <th>MSZoning_RH</th>\n",
       "      <th>MSZoning_RL</th>\n",
       "      <th>MSZoning_RM</th>\n",
       "    </tr>\n",
       "  </thead>\n",
       "  <tbody>\n",
       "    <tr>\n",
       "      <th>0</th>\n",
       "      <td>2003</td>\n",
       "      <td>8450</td>\n",
       "      <td>7</td>\n",
       "      <td>0</td>\n",
       "      <td>0</td>\n",
       "      <td>0</td>\n",
       "      <td>1</td>\n",
       "      <td>0</td>\n",
       "    </tr>\n",
       "    <tr>\n",
       "      <th>1</th>\n",
       "      <td>1976</td>\n",
       "      <td>9600</td>\n",
       "      <td>6</td>\n",
       "      <td>0</td>\n",
       "      <td>0</td>\n",
       "      <td>0</td>\n",
       "      <td>1</td>\n",
       "      <td>0</td>\n",
       "    </tr>\n",
       "    <tr>\n",
       "      <th>2</th>\n",
       "      <td>2001</td>\n",
       "      <td>11250</td>\n",
       "      <td>7</td>\n",
       "      <td>0</td>\n",
       "      <td>0</td>\n",
       "      <td>0</td>\n",
       "      <td>1</td>\n",
       "      <td>0</td>\n",
       "    </tr>\n",
       "    <tr>\n",
       "      <th>3</th>\n",
       "      <td>1915</td>\n",
       "      <td>9550</td>\n",
       "      <td>7</td>\n",
       "      <td>0</td>\n",
       "      <td>0</td>\n",
       "      <td>0</td>\n",
       "      <td>1</td>\n",
       "      <td>0</td>\n",
       "    </tr>\n",
       "    <tr>\n",
       "      <th>4</th>\n",
       "      <td>2000</td>\n",
       "      <td>14260</td>\n",
       "      <td>8</td>\n",
       "      <td>0</td>\n",
       "      <td>0</td>\n",
       "      <td>0</td>\n",
       "      <td>1</td>\n",
       "      <td>0</td>\n",
       "    </tr>\n",
       "  </tbody>\n",
       "</table>\n",
       "</div>"
      ],
      "text/plain": [
       "   YearBuilt  LotArea  OverallQual  MSZoning_C (all)  MSZoning_FV  \\\n",
       "0       2003     8450            7                 0            0   \n",
       "1       1976     9600            6                 0            0   \n",
       "2       2001    11250            7                 0            0   \n",
       "3       1915     9550            7                 0            0   \n",
       "4       2000    14260            8                 0            0   \n",
       "\n",
       "   MSZoning_RH  MSZoning_RL  MSZoning_RM  \n",
       "0            0            1            0  \n",
       "1            0            1            0  \n",
       "2            0            1            0  \n",
       "3            0            1            0  \n",
       "4            0            1            0  "
      ]
     },
     "execution_count": 192,
     "metadata": {},
     "output_type": "execute_result"
    }
   ],
   "source": [
    "features[:5]"
   ]
  },
  {
   "cell_type": "code",
   "execution_count": 193,
   "id": "8dcc8cd5-dee1-4b48-9e89-4670acaec68f",
   "metadata": {},
   "outputs": [],
   "source": [
    "targets_scaled = scaler_targets.fit_transform( targets.values.reshape(-1,1) )"
   ]
  },
  {
   "cell_type": "code",
   "execution_count": 195,
   "id": "82fbc5b8-b2b2-4cb5-88cf-e0a3b4341916",
   "metadata": {},
   "outputs": [
    {
     "data": {
      "text/plain": [
       "array([[0.24107763],\n",
       "       [0.20358284],\n",
       "       [0.26190807],\n",
       "       ...,\n",
       "       [0.321622  ],\n",
       "       [0.14890293],\n",
       "       [0.15636717]])"
      ]
     },
     "execution_count": 195,
     "metadata": {},
     "output_type": "execute_result"
    }
   ],
   "source": [
    "targets_scaled"
   ]
  },
  {
   "cell_type": "code",
   "execution_count": 196,
   "id": "c53093fd-2a5c-417a-adba-c05a9960deba",
   "metadata": {},
   "outputs": [
    {
     "data": {
      "text/plain": [
       "0       208500\n",
       "1       181500\n",
       "2       223500\n",
       "3       140000\n",
       "4       250000\n",
       "         ...  \n",
       "1455    175000\n",
       "1456    210000\n",
       "1457    266500\n",
       "1458    142125\n",
       "1459    147500\n",
       "Name: SalePrice, Length: 1460, dtype: int64"
      ]
     },
     "execution_count": 196,
     "metadata": {},
     "output_type": "execute_result"
    }
   ],
   "source": [
    "targets"
   ]
  },
  {
   "cell_type": "markdown",
   "id": "7e5516da-828b-47e8-b90c-b66104814fb5",
   "metadata": {},
   "source": [
    "## Splitten der Daten in Trainings- und Testdaten"
   ]
  },
  {
   "cell_type": "code",
   "execution_count": 197,
   "id": "a9567b6c-c0db-4b9d-a480-f935602527e7",
   "metadata": {},
   "outputs": [],
   "source": [
    "x_train = features_scaled[:1000]\n",
    "y_train = targets_scaled[:1000]\n",
    "\n",
    "x_test = features_scaled[1000:]\n",
    "y_test = targets_scaled[1000:]"
   ]
  },
  {
   "cell_type": "code",
   "execution_count": 198,
   "id": "6d862f19-afbe-4ca5-86e5-5abb40bbb61d",
   "metadata": {},
   "outputs": [
    {
     "data": {
      "text/plain": [
       "(1000, 8)"
      ]
     },
     "execution_count": 198,
     "metadata": {},
     "output_type": "execute_result"
    }
   ],
   "source": [
    "x_train.shape"
   ]
  },
  {
   "cell_type": "code",
   "execution_count": 199,
   "id": "5dba6bb3-92ef-4a28-9a56-e653ba68f543",
   "metadata": {},
   "outputs": [
    {
     "data": {
      "text/plain": [
       "(1000, 1)"
      ]
     },
     "execution_count": 199,
     "metadata": {},
     "output_type": "execute_result"
    }
   ],
   "source": [
    "y_train.shape"
   ]
  },
  {
   "cell_type": "code",
   "execution_count": 200,
   "id": "443c1814-4b2b-4314-a774-fd8f4bef630a",
   "metadata": {},
   "outputs": [
    {
     "data": {
      "text/plain": [
       "array([[0.94927536, 0.0334198 , 0.66666667, 0.        , 0.        ,\n",
       "        0.        , 1.        , 0.        ],\n",
       "       [0.75362319, 0.03879502, 0.55555556, 0.        , 0.        ,\n",
       "        0.        , 1.        , 0.        ],\n",
       "       [0.93478261, 0.04650728, 0.66666667, 0.        , 0.        ,\n",
       "        0.        , 1.        , 0.        ]])"
      ]
     },
     "execution_count": 200,
     "metadata": {},
     "output_type": "execute_result"
    }
   ],
   "source": [
    "x_train[:3]"
   ]
  },
  {
   "cell_type": "code",
   "execution_count": 201,
   "id": "d8d009eb-d836-4be3-820c-7eb641829afc",
   "metadata": {},
   "outputs": [
    {
     "data": {
      "text/plain": [
       "array([[0.24107763],\n",
       "       [0.20358284],\n",
       "       [0.26190807]])"
      ]
     },
     "execution_count": 201,
     "metadata": {},
     "output_type": "execute_result"
    }
   ],
   "source": [
    "y_train[:3]"
   ]
  },
  {
   "cell_type": "code",
   "execution_count": 202,
   "id": "864b537c-4b93-42a4-a70d-d04949b8f588",
   "metadata": {},
   "outputs": [
    {
     "name": "stdout",
     "output_type": "stream",
     "text": [
      "[0.94927536 0.0334198  0.66666667 0.         0.         0.\n",
      " 1.         0.        ] --> [0.24107763]\n"
     ]
    }
   ],
   "source": [
    "print( x_train[0], \"-->\", y_train[0] )"
   ]
  },
  {
   "cell_type": "code",
   "execution_count": 203,
   "id": "5ec8f43e-c9a5-47e6-999e-24fc2ce2081c",
   "metadata": {},
   "outputs": [
    {
     "name": "stdout",
     "output_type": "stream",
     "text": [
      "[0.57971014 0.04162752 0.22222222 0.         0.         0.\n",
      " 1.         0.        ] --> [0.06540758]\n"
     ]
    }
   ],
   "source": [
    "print( x_test[0], \"-->\", y_test[0] )"
   ]
  },
  {
   "cell_type": "markdown",
   "id": "5a1ba41e-b2d2-4e25-a827-952aacf9c92c",
   "metadata": {},
   "source": [
    "## Neuronales Netz vorbereiten"
   ]
  },
  {
   "cell_type": "code",
   "execution_count": 204,
   "id": "b9c8996a-45db-4bc2-a245-d8032e394f49",
   "metadata": {},
   "outputs": [
    {
     "data": {
      "text/plain": [
       "(1000, 8)"
      ]
     },
     "execution_count": 204,
     "metadata": {},
     "output_type": "execute_result"
    }
   ],
   "source": [
    "x_train.shape"
   ]
  },
  {
   "cell_type": "code",
   "execution_count": 205,
   "id": "2722abbc-73fb-4604-9344-d038b197fbe5",
   "metadata": {},
   "outputs": [],
   "source": [
    "nr_inputs = x_train.shape[1]"
   ]
  },
  {
   "cell_type": "code",
   "execution_count": 208,
   "id": "98be2141-bd9f-4266-b04e-6cd34cbd39ee",
   "metadata": {},
   "outputs": [
    {
     "data": {
      "text/plain": [
       "8"
      ]
     },
     "execution_count": 208,
     "metadata": {},
     "output_type": "execute_result"
    }
   ],
   "source": [
    "nr_inputs"
   ]
  },
  {
   "cell_type": "code",
   "execution_count": 206,
   "id": "f33e3c3c-cf31-4986-af01-966d0c9e9c4e",
   "metadata": {},
   "outputs": [
    {
     "data": {
      "text/plain": [
       "(1000, 1)"
      ]
     },
     "execution_count": 206,
     "metadata": {},
     "output_type": "execute_result"
    }
   ],
   "source": [
    "y_train.shape"
   ]
  },
  {
   "cell_type": "code",
   "execution_count": 207,
   "id": "9b92ee69-c2b0-45b9-9085-6f4a977809f7",
   "metadata": {},
   "outputs": [],
   "source": [
    "nr_outputs = y_train.shape[1]"
   ]
  },
  {
   "cell_type": "code",
   "execution_count": 209,
   "id": "f4296768-1dda-4cf3-8074-3e30b0c24a20",
   "metadata": {},
   "outputs": [
    {
     "data": {
      "text/plain": [
       "1"
      ]
     },
     "execution_count": 209,
     "metadata": {},
     "output_type": "execute_result"
    }
   ],
   "source": [
    "nr_outputs"
   ]
  },
  {
   "cell_type": "code",
   "execution_count": 211,
   "id": "e4c992b6-4615-43ce-89ef-e0d2d4ea05e4",
   "metadata": {},
   "outputs": [
    {
     "name": "stdout",
     "output_type": "stream",
     "text": [
      "Model: \"sequential\"\n",
      "_________________________________________________________________\n",
      "Layer (type)                 Output Shape              Param #   \n",
      "=================================================================\n",
      "Layer1 (Dense)               (None, 80)                720       \n",
      "_________________________________________________________________\n",
      "OutputLayer (Dense)          (None, 1)                 81        \n",
      "=================================================================\n",
      "Total params: 801\n",
      "Trainable params: 801\n",
      "Non-trainable params: 0\n",
      "_________________________________________________________________\n"
     ]
    }
   ],
   "source": [
    "import tensorflow as tf\n",
    "from tensorflow import keras\n",
    "\n",
    "tf.keras.backend.clear_session()\n",
    "\n",
    "model = keras.Sequential()\n",
    "model.add(keras.layers.Dense(80,\n",
    "                             activation=\"relu\",\n",
    "                             input_shape=(nr_inputs,),\n",
    "                             name=\"Layer1\"))\n",
    "                             \n",
    "model.add(keras.layers.Dense(nr_outputs,\n",
    "                             activation=\"linear\",\n",
    "                             name=\"OutputLayer\"))\n",
    "\n",
    "model.compile(optimizer='sgd',           \n",
    "              loss=tf.keras.losses.MeanSquaredError(),\n",
    "              metrics=['accuracy'])\n",
    "\n",
    "model.summary()"
   ]
  },
  {
   "cell_type": "markdown",
   "id": "a91f7516-c75c-47b0-b5d4-8bb8ede69797",
   "metadata": {},
   "source": [
    "## Neuronales Netz trainieren"
   ]
  },
  {
   "cell_type": "code",
   "execution_count": 212,
   "id": "897b67dd-3f03-4d65-a30d-787ca4355231",
   "metadata": {},
   "outputs": [
    {
     "name": "stderr",
     "output_type": "stream",
     "text": [
      "2021-10-21 11:13:15.840903: I tensorflow/compiler/mlir/mlir_graph_optimization_pass.cc:116] None of the MLIR optimization passes are enabled (registered 2)\n",
      "2021-10-21 11:13:15.863111: I tensorflow/core/platform/profile_utils/cpu_utils.cc:112] CPU Frequency: 2899885000 Hz\n"
     ]
    },
    {
     "name": "stdout",
     "output_type": "stream",
     "text": [
      "Epoch 1/200\n",
      "32/32 [==============================] - 0s 3ms/step - loss: 0.0575 - accuracy: 2.9857e-04\n",
      "Epoch 2/200\n",
      "32/32 [==============================] - 0s 3ms/step - loss: 0.0114 - accuracy: 2.9857e-04\n",
      "Epoch 3/200\n",
      "32/32 [==============================] - 0s 2ms/step - loss: 0.0126 - accuracy: 0.0017\n",
      "Epoch 4/200\n",
      "32/32 [==============================] - 0s 3ms/step - loss: 0.0109 - accuracy: 0.0016\n",
      "Epoch 5/200\n",
      "32/32 [==============================] - 0s 3ms/step - loss: 0.0099 - accuracy: 1.8919e-04\n",
      "Epoch 6/200\n",
      "32/32 [==============================] - 0s 3ms/step - loss: 0.0098 - accuracy: 3.7920e-04\n",
      "Epoch 7/200\n",
      "32/32 [==============================] - 0s 2ms/step - loss: 0.0090 - accuracy: 3.3802e-04\n",
      "Epoch 8/200\n",
      "32/32 [==============================] - 0s 2ms/step - loss: 0.0080 - accuracy: 1.5537e-04\n",
      "Epoch 9/200\n",
      "32/32 [==============================] - 0s 2ms/step - loss: 0.0081 - accuracy: 4.6733e-04\n",
      "Epoch 10/200\n",
      "32/32 [==============================] - 0s 3ms/step - loss: 0.0087 - accuracy: 4.2224e-04\n",
      "Epoch 11/200\n",
      "32/32 [==============================] - 0s 2ms/step - loss: 0.0078 - accuracy: 2.9857e-04\n",
      "Epoch 12/200\n",
      "32/32 [==============================] - 0s 2ms/step - loss: 0.0069 - accuracy: 0.0039\n",
      "Epoch 13/200\n",
      "32/32 [==============================] - 0s 2ms/step - loss: 0.0073 - accuracy: 5.6452e-04\n",
      "Epoch 14/200\n",
      "32/32 [==============================] - 0s 2ms/step - loss: 0.0076 - accuracy: 3.7920e-04\n",
      "Epoch 15/200\n",
      "32/32 [==============================] - 0s 3ms/step - loss: 0.0069 - accuracy: 9.1153e-05\n",
      "Epoch 16/200\n",
      "32/32 [==============================] - 0s 2ms/step - loss: 0.0065 - accuracy: 4.6733e-04\n",
      "Epoch 17/200\n",
      "32/32 [==============================] - 0s 3ms/step - loss: 0.0068 - accuracy: 1.5537e-04\n",
      "Epoch 18/200\n",
      "32/32 [==============================] - 0s 2ms/step - loss: 0.0062 - accuracy: 1.2272e-04\n",
      "Epoch 19/200\n",
      "32/32 [==============================] - 0s 2ms/step - loss: 0.0061 - accuracy: 3.3802e-04\n",
      "Epoch 20/200\n",
      "32/32 [==============================] - 0s 3ms/step - loss: 0.0062 - accuracy: 0.0013\n",
      "Epoch 21/200\n",
      "32/32 [==============================] - 0s 5ms/step - loss: 0.0066 - accuracy: 7.3202e-04\n",
      "Epoch 22/200\n",
      "32/32 [==============================] - 0s 3ms/step - loss: 0.0056 - accuracy: 0.0017\n",
      "Epoch 23/200\n",
      "32/32 [==============================] - 0s 3ms/step - loss: 0.0066 - accuracy: 8.6279e-04\n",
      "Epoch 24/200\n",
      "32/32 [==============================] - 0s 2ms/step - loss: 0.0055 - accuracy: 9.1153e-05\n",
      "Epoch 25/200\n",
      "32/32 [==============================] - 0s 2ms/step - loss: 0.0067 - accuracy: 3.7920e-04\n",
      "Epoch 26/200\n",
      "32/32 [==============================] - 0s 2ms/step - loss: 0.0062 - accuracy: 6.0606e-05\n",
      "Epoch 27/200\n",
      "32/32 [==============================] - 0s 3ms/step - loss: 0.0048 - accuracy: 3.3802e-04\n",
      "Epoch 28/200\n",
      "32/32 [==============================] - 0s 3ms/step - loss: 0.0055 - accuracy: 1.8919e-04\n",
      "Epoch 29/200\n",
      "32/32 [==============================] - 0s 3ms/step - loss: 0.0051 - accuracy: 2.6069e-04\n",
      "Epoch 30/200\n",
      "32/32 [==============================] - 0s 4ms/step - loss: 0.0049 - accuracy: 6.0606e-05\n",
      "Epoch 31/200\n",
      "32/32 [==============================] - 0s 3ms/step - loss: 0.0055 - accuracy: 9.3564e-04\n",
      "Epoch 32/200\n",
      "32/32 [==============================] - 0s 2ms/step - loss: 0.0064 - accuracy: 0.0019\n",
      "Epoch 33/200\n",
      "32/32 [==============================] - 0s 2ms/step - loss: 0.0051 - accuracy: 0.0017\n",
      "Epoch 34/200\n",
      "32/32 [==============================] - 0s 3ms/step - loss: 0.0059 - accuracy: 1.2272e-04\n",
      "Epoch 35/200\n",
      "32/32 [==============================] - 0s 3ms/step - loss: 0.0053 - accuracy: 0.0019\n",
      "Epoch 36/200\n",
      "32/32 [==============================] - 0s 2ms/step - loss: 0.0043 - accuracy: 2.9857e-04\n",
      "Epoch 37/200\n",
      "32/32 [==============================] - 0s 3ms/step - loss: 0.0049 - accuracy: 4.2224e-04\n",
      "Epoch 38/200\n",
      "32/32 [==============================] - 0s 3ms/step - loss: 0.0044 - accuracy: 4.6733e-04\n",
      "Epoch 39/200\n",
      "32/32 [==============================] - 0s 3ms/step - loss: 0.0057 - accuracy: 6.7284e-04\n",
      "Epoch 40/200\n",
      "32/32 [==============================] - 0s 2ms/step - loss: 0.0047 - accuracy: 6.7284e-04\n",
      "Epoch 41/200\n",
      "32/32 [==============================] - 0s 3ms/step - loss: 0.0045 - accuracy: 0.0014\n",
      "Epoch 42/200\n",
      "32/32 [==============================] - 0s 3ms/step - loss: 0.0050 - accuracy: 1.5537e-04\n",
      "Epoch 43/200\n",
      "32/32 [==============================] - 0s 2ms/step - loss: 0.0041 - accuracy: 9.1153e-05\n",
      "Epoch 44/200\n",
      "32/32 [==============================] - 0s 2ms/step - loss: 0.0045 - accuracy: 1.5537e-04\n",
      "Epoch 45/200\n",
      "32/32 [==============================] - 0s 2ms/step - loss: 0.0044 - accuracy: 3.7920e-04\n",
      "Epoch 46/200\n",
      "32/32 [==============================] - 0s 2ms/step - loss: 0.0061 - accuracy: 6.1713e-04\n",
      "Epoch 47/200\n",
      "32/32 [==============================] - 0s 2ms/step - loss: 0.0051 - accuracy: 0.0016\n",
      "Epoch 48/200\n",
      "32/32 [==============================] - 0s 3ms/step - loss: 0.0041 - accuracy: 7.9515e-04\n",
      "Epoch 49/200\n",
      "32/32 [==============================] - 0s 4ms/step - loss: 0.0046 - accuracy: 5.1468e-04\n",
      "Epoch 50/200\n",
      "32/32 [==============================] - 0s 3ms/step - loss: 0.0044 - accuracy: 0.0021\n",
      "Epoch 51/200\n",
      "32/32 [==============================] - 0s 3ms/step - loss: 0.0049 - accuracy: 2.6069e-04\n",
      "Epoch 52/200\n",
      "32/32 [==============================] - 0s 3ms/step - loss: 0.0043 - accuracy: 7.3202e-04\n",
      "Epoch 53/200\n",
      "32/32 [==============================] - 0s 3ms/step - loss: 0.0044 - accuracy: 0.0011\n",
      "Epoch 54/200\n",
      "32/32 [==============================] - 0s 3ms/step - loss: 0.0042 - accuracy: 7.3202e-04\n",
      "Epoch 55/200\n",
      "32/32 [==============================] - 0s 3ms/step - loss: 0.0044 - accuracy: 2.9857e-04\n",
      "Epoch 56/200\n",
      "32/32 [==============================] - 0s 3ms/step - loss: 0.0044 - accuracy: 7.3202e-04\n",
      "Epoch 57/200\n",
      "32/32 [==============================] - 0s 2ms/step - loss: 0.0055 - accuracy: 0.0010\n",
      "Epoch 58/200\n",
      "32/32 [==============================] - 0s 2ms/step - loss: 0.0053 - accuracy: 2.2427e-04\n",
      "Epoch 59/200\n",
      "32/32 [==============================] - 0s 2ms/step - loss: 0.0044 - accuracy: 6.7284e-04\n",
      "Epoch 60/200\n",
      "32/32 [==============================] - 0s 2ms/step - loss: 0.0046 - accuracy: 0.0013\n",
      "Epoch 61/200\n",
      "32/32 [==============================] - 0s 2ms/step - loss: 0.0039 - accuracy: 6.0606e-05\n",
      "Epoch 62/200\n",
      "32/32 [==============================] - 0s 2ms/step - loss: 0.0052 - accuracy: 5.1468e-04\n",
      "Epoch 63/200\n",
      "32/32 [==============================] - 0s 2ms/step - loss: 0.0042 - accuracy: 1.8919e-04\n",
      "Epoch 64/200\n",
      "32/32 [==============================] - 0s 3ms/step - loss: 0.0043 - accuracy: 0.0011\n",
      "Epoch 65/200\n",
      "32/32 [==============================] - 0s 2ms/step - loss: 0.0044 - accuracy: 0.0039\n",
      "Epoch 66/200\n",
      "32/32 [==============================] - 0s 4ms/step - loss: 0.0049 - accuracy: 7.9515e-04\n",
      "Epoch 67/200\n",
      "32/32 [==============================] - 0s 2ms/step - loss: 0.0042 - accuracy: 2.9857e-04\n",
      "Epoch 68/200\n",
      "32/32 [==============================] - 0s 978us/step - loss: 0.0044 - accuracy: 1.2272e-04\n",
      "Epoch 69/200\n",
      "32/32 [==============================] - 0s 1ms/step - loss: 0.0046 - accuracy: 0.0016\n",
      "Epoch 70/200\n",
      "32/32 [==============================] - 0s 3ms/step - loss: 0.0038 - accuracy: 0.0017\n",
      "Epoch 71/200\n",
      "32/32 [==============================] - 0s 2ms/step - loss: 0.0045 - accuracy: 0.0021\n",
      "Epoch 72/200\n",
      "32/32 [==============================] - 0s 2ms/step - loss: 0.0037 - accuracy: 5.1468e-04\n",
      "Epoch 73/200\n",
      "32/32 [==============================] - 0s 1ms/step - loss: 0.0041 - accuracy: 0.0029\n",
      "Epoch 74/200\n",
      "32/32 [==============================] - 0s 2ms/step - loss: 0.0035 - accuracy: 9.3564e-04\n",
      "Epoch 75/200\n",
      "32/32 [==============================] - 0s 3ms/step - loss: 0.0050 - accuracy: 0.0012\n",
      "Epoch 76/200\n",
      "32/32 [==============================] - 0s 2ms/step - loss: 0.0047 - accuracy: 0.0017\n",
      "Epoch 77/200\n",
      "32/32 [==============================] - 0s 2ms/step - loss: 0.0043 - accuracy: 2.6069e-04\n",
      "Epoch 78/200\n",
      "32/32 [==============================] - 0s 3ms/step - loss: 0.0036 - accuracy: 0.0014\n",
      "Epoch 79/200\n",
      "32/32 [==============================] - 0s 2ms/step - loss: 0.0038 - accuracy: 8.6279e-04\n",
      "Epoch 80/200\n",
      "32/32 [==============================] - 0s 2ms/step - loss: 0.0037 - accuracy: 0.0017\n",
      "Epoch 81/200\n",
      "32/32 [==============================] - 0s 3ms/step - loss: 0.0045 - accuracy: 0.0039\n",
      "Epoch 82/200\n",
      "32/32 [==============================] - 0s 1ms/step - loss: 0.0042 - accuracy: 9.1153e-05\n",
      "Epoch 83/200\n",
      "32/32 [==============================] - 0s 2ms/step - loss: 0.0036 - accuracy: 0.0013\n",
      "Epoch 84/200\n",
      "32/32 [==============================] - 0s 4ms/step - loss: 0.0044 - accuracy: 7.3202e-04\n",
      "Epoch 85/200\n",
      "32/32 [==============================] - 0s 2ms/step - loss: 0.0041 - accuracy: 3.3802e-04\n",
      "Epoch 86/200\n",
      "32/32 [==============================] - 0s 2ms/step - loss: 0.0041 - accuracy: 0.0017\n",
      "Epoch 87/200\n",
      "32/32 [==============================] - 0s 2ms/step - loss: 0.0044 - accuracy: 0.0016\n",
      "Epoch 88/200\n",
      "32/32 [==============================] - 0s 1ms/step - loss: 0.0040 - accuracy: 6.7284e-04\n",
      "Epoch 89/200\n",
      "32/32 [==============================] - 0s 1ms/step - loss: 0.0042 - accuracy: 3.7920e-04\n",
      "Epoch 90/200\n",
      "32/32 [==============================] - 0s 2ms/step - loss: 0.0033 - accuracy: 2.9857e-04\n",
      "Epoch 91/200\n",
      "32/32 [==============================] - 0s 2ms/step - loss: 0.0044 - accuracy: 0.0029\n",
      "Epoch 92/200\n",
      "32/32 [==============================] - 0s 3ms/step - loss: 0.0036 - accuracy: 0.0029\n",
      "Epoch 93/200\n",
      "32/32 [==============================] - 0s 3ms/step - loss: 0.0046 - accuracy: 8.6279e-04\n",
      "Epoch 94/200\n",
      "32/32 [==============================] - 0s 1ms/step - loss: 0.0037 - accuracy: 6.1713e-04\n",
      "Epoch 95/200\n",
      "32/32 [==============================] - 0s 1ms/step - loss: 0.0044 - accuracy: 0.0012\n",
      "Epoch 96/200\n",
      "32/32 [==============================] - 0s 1ms/step - loss: 0.0036 - accuracy: 0.0019\n",
      "Epoch 97/200\n",
      "32/32 [==============================] - 0s 2ms/step - loss: 0.0037 - accuracy: 0.0011\n",
      "Epoch 98/200\n",
      "32/32 [==============================] - 0s 3ms/step - loss: 0.0038 - accuracy: 2.2427e-04\n",
      "Epoch 99/200\n",
      "32/32 [==============================] - 0s 3ms/step - loss: 0.0042 - accuracy: 0.0014\n",
      "Epoch 100/200\n",
      "32/32 [==============================] - 0s 2ms/step - loss: 0.0042 - accuracy: 9.1153e-05\n",
      "Epoch 101/200\n",
      "32/32 [==============================] - 0s 3ms/step - loss: 0.0037 - accuracy: 1.5537e-04\n",
      "Epoch 102/200\n",
      "32/32 [==============================] - 0s 2ms/step - loss: 0.0033 - accuracy: 4.2224e-04\n",
      "Epoch 103/200\n",
      "32/32 [==============================] - 0s 3ms/step - loss: 0.0042 - accuracy: 3.7920e-04\n",
      "Epoch 104/200\n",
      "32/32 [==============================] - 0s 3ms/step - loss: 0.0040 - accuracy: 0.0016\n",
      "Epoch 105/200\n",
      "32/32 [==============================] - 0s 2ms/step - loss: 0.0037 - accuracy: 0.0011\n",
      "Epoch 106/200\n",
      "32/32 [==============================] - 0s 2ms/step - loss: 0.0034 - accuracy: 7.3202e-04\n",
      "Epoch 107/200\n",
      "32/32 [==============================] - 0s 1ms/step - loss: 0.0042 - accuracy: 4.6733e-04\n",
      "Epoch 108/200\n",
      "32/32 [==============================] - 0s 1ms/step - loss: 0.0041 - accuracy: 6.7284e-04\n",
      "Epoch 109/200\n",
      "32/32 [==============================] - 0s 1ms/step - loss: 0.0044 - accuracy: 7.9515e-04\n",
      "Epoch 110/200\n",
      "32/32 [==============================] - 0s 3ms/step - loss: 0.0036 - accuracy: 9.1153e-05\n",
      "Epoch 111/200\n",
      "32/32 [==============================] - 0s 3ms/step - loss: 0.0038 - accuracy: 9.1153e-05\n",
      "Epoch 112/200\n",
      "32/32 [==============================] - 0s 2ms/step - loss: 0.0039 - accuracy: 6.7284e-04\n",
      "Epoch 113/200\n",
      "32/32 [==============================] - 0s 1ms/step - loss: 0.0039 - accuracy: 2.9857e-04\n",
      "Epoch 114/200\n",
      "32/32 [==============================] - ETA: 0s - loss: 0.0054 - accuracy: 0.0000e+ - 0s 1ms/step - loss: 0.0041 - accuracy: 0.0014\n",
      "Epoch 115/200\n",
      "32/32 [==============================] - 0s 1ms/step - loss: 0.0036 - accuracy: 5.1468e-04\n",
      "Epoch 116/200\n",
      "32/32 [==============================] - 0s 1ms/step - loss: 0.0039 - accuracy: 0.0039\n",
      "Epoch 117/200\n",
      "32/32 [==============================] - 0s 2ms/step - loss: 0.0036 - accuracy: 7.3202e-04\n",
      "Epoch 118/200\n",
      "32/32 [==============================] - 0s 1ms/step - loss: 0.0034 - accuracy: 6.7284e-04\n",
      "Epoch 119/200\n",
      "32/32 [==============================] - 0s 1ms/step - loss: 0.0043 - accuracy: 0.0017\n",
      "Epoch 120/200\n",
      "32/32 [==============================] - 0s 1ms/step - loss: 0.0034 - accuracy: 1.2272e-04\n",
      "Epoch 121/200\n",
      "32/32 [==============================] - 0s 3ms/step - loss: 0.0036 - accuracy: 0.0011\n",
      "Epoch 122/200\n",
      "32/32 [==============================] - 0s 3ms/step - loss: 0.0035 - accuracy: 0.0016\n",
      "Epoch 123/200\n",
      "32/32 [==============================] - 0s 6ms/step - loss: 0.0036 - accuracy: 0.0014\n",
      "Epoch 124/200\n",
      "32/32 [==============================] - 0s 2ms/step - loss: 0.0035 - accuracy: 4.6733e-04\n",
      "Epoch 125/200\n",
      "32/32 [==============================] - 0s 2ms/step - loss: 0.0042 - accuracy: 0.0025\n",
      "Epoch 126/200\n",
      "32/32 [==============================] - 0s 3ms/step - loss: 0.0036 - accuracy: 0.0011\n",
      "Epoch 127/200\n",
      "32/32 [==============================] - 0s 3ms/step - loss: 0.0034 - accuracy: 3.3802e-04\n",
      "Epoch 128/200\n",
      "32/32 [==============================] - 0s 5ms/step - loss: 0.0047 - accuracy: 1.8919e-04\n",
      "Epoch 129/200\n",
      "32/32 [==============================] - 0s 2ms/step - loss: 0.0038 - accuracy: 5.1468e-04\n",
      "Epoch 130/200\n",
      "32/32 [==============================] - 0s 3ms/step - loss: 0.0039 - accuracy: 6.7284e-04\n",
      "Epoch 131/200\n",
      "32/32 [==============================] - 0s 3ms/step - loss: 0.0040 - accuracy: 2.9857e-04\n",
      "Epoch 132/200\n",
      "32/32 [==============================] - 0s 3ms/step - loss: 0.0034 - accuracy: 3.7920e-04\n",
      "Epoch 133/200\n",
      "32/32 [==============================] - 0s 3ms/step - loss: 0.0036 - accuracy: 6.7284e-04\n",
      "Epoch 134/200\n",
      "32/32 [==============================] - 0s 2ms/step - loss: 0.0030 - accuracy: 0.0019\n",
      "Epoch 135/200\n",
      "32/32 [==============================] - 0s 7ms/step - loss: 0.0034 - accuracy: 4.2224e-04\n",
      "Epoch 136/200\n",
      "32/32 [==============================] - 0s 2ms/step - loss: 0.0042 - accuracy: 0.0011\n",
      "Epoch 137/200\n",
      "32/32 [==============================] - 0s 3ms/step - loss: 0.0034 - accuracy: 0.0029\n",
      "Epoch 138/200\n",
      "32/32 [==============================] - 0s 4ms/step - loss: 0.0039 - accuracy: 3.7920e-04\n",
      "Epoch 139/200\n",
      "32/32 [==============================] - 0s 5ms/step - loss: 0.0038 - accuracy: 3.3802e-04\n",
      "Epoch 140/200\n",
      "32/32 [==============================] - 0s 2ms/step - loss: 0.0038 - accuracy: 4.6733e-04\n",
      "Epoch 141/200\n",
      "32/32 [==============================] - 0s 2ms/step - loss: 0.0043 - accuracy: 0.0013\n",
      "Epoch 142/200\n",
      "32/32 [==============================] - 0s 3ms/step - loss: 0.0033 - accuracy: 3.3802e-04\n",
      "Epoch 143/200\n",
      "32/32 [==============================] - 0s 2ms/step - loss: 0.0040 - accuracy: 0.0021\n",
      "Epoch 144/200\n",
      "32/32 [==============================] - 0s 1ms/step - loss: 0.0037 - accuracy: 4.2224e-04\n",
      "Epoch 145/200\n",
      "32/32 [==============================] - 0s 3ms/step - loss: 0.0042 - accuracy: 7.3202e-04\n",
      "Epoch 146/200\n",
      "32/32 [==============================] - 0s 4ms/step - loss: 0.0035 - accuracy: 0.0010\n",
      "Epoch 147/200\n",
      "32/32 [==============================] - 0s 3ms/step - loss: 0.0036 - accuracy: 0.0025\n",
      "Epoch 148/200\n",
      "32/32 [==============================] - 0s 3ms/step - loss: 0.0037 - accuracy: 4.2224e-04\n",
      "Epoch 149/200\n",
      "32/32 [==============================] - 0s 2ms/step - loss: 0.0038 - accuracy: 1.5537e-04\n",
      "Epoch 150/200\n",
      "32/32 [==============================] - 0s 2ms/step - loss: 0.0039 - accuracy: 2.6069e-04\n",
      "Epoch 151/200\n",
      "32/32 [==============================] - 0s 3ms/step - loss: 0.0040 - accuracy: 2.6069e-04\n",
      "Epoch 152/200\n",
      "32/32 [==============================] - 0s 1ms/step - loss: 0.0035 - accuracy: 0.0011\n",
      "Epoch 153/200\n",
      "32/32 [==============================] - 0s 1ms/step - loss: 0.0034 - accuracy: 1.5537e-04\n",
      "Epoch 154/200\n",
      "32/32 [==============================] - 0s 3ms/step - loss: 0.0044 - accuracy: 1.8919e-04\n",
      "Epoch 155/200\n",
      "32/32 [==============================] - 0s 3ms/step - loss: 0.0037 - accuracy: 2.9857e-04\n",
      "Epoch 156/200\n",
      "32/32 [==============================] - 0s 3ms/step - loss: 0.0032 - accuracy: 7.3202e-04\n",
      "Epoch 157/200\n",
      "32/32 [==============================] - 0s 3ms/step - loss: 0.0034 - accuracy: 7.9515e-04\n",
      "Epoch 158/200\n",
      "32/32 [==============================] - 0s 2ms/step - loss: 0.0031 - accuracy: 5.1468e-04\n",
      "Epoch 159/200\n",
      "32/32 [==============================] - 0s 2ms/step - loss: 0.0036 - accuracy: 0.0029\n",
      "Epoch 160/200\n",
      "32/32 [==============================] - 0s 2ms/step - loss: 0.0040 - accuracy: 7.9515e-04\n",
      "Epoch 161/200\n",
      "32/32 [==============================] - 0s 2ms/step - loss: 0.0039 - accuracy: 0.0010\n",
      "Epoch 162/200\n",
      "32/32 [==============================] - 0s 2ms/step - loss: 0.0039 - accuracy: 0.0039\n",
      "Epoch 163/200\n",
      "32/32 [==============================] - 0s 2ms/step - loss: 0.0035 - accuracy: 2.9857e-04\n",
      "Epoch 164/200\n",
      "32/32 [==============================] - 0s 3ms/step - loss: 0.0039 - accuracy: 6.1713e-04\n",
      "Epoch 165/200\n",
      "32/32 [==============================] - 0s 1ms/step - loss: 0.0038 - accuracy: 5.1468e-04\n",
      "Epoch 166/200\n",
      "32/32 [==============================] - 0s 2ms/step - loss: 0.0037 - accuracy: 0.0029\n",
      "Epoch 167/200\n",
      "32/32 [==============================] - 0s 2ms/step - loss: 0.0037 - accuracy: 2.9857e-04\n",
      "Epoch 168/200\n",
      "32/32 [==============================] - 0s 2ms/step - loss: 0.0038 - accuracy: 0.0012\n",
      "Epoch 169/200\n",
      "32/32 [==============================] - 0s 2ms/step - loss: 0.0030 - accuracy: 8.6279e-04\n",
      "Epoch 170/200\n",
      "32/32 [==============================] - 0s 3ms/step - loss: 0.0040 - accuracy: 0.0017\n",
      "Epoch 171/200\n",
      "32/32 [==============================] - 0s 3ms/step - loss: 0.0035 - accuracy: 7.3202e-04\n",
      "Epoch 172/200\n",
      "32/32 [==============================] - 0s 3ms/step - loss: 0.0036 - accuracy: 3.7920e-04\n",
      "Epoch 173/200\n",
      "32/32 [==============================] - 0s 4ms/step - loss: 0.0037 - accuracy: 3.7920e-04\n",
      "Epoch 174/200\n",
      "32/32 [==============================] - 0s 3ms/step - loss: 0.0038 - accuracy: 5.6452e-04\n",
      "Epoch 175/200\n",
      "32/32 [==============================] - 0s 3ms/step - loss: 0.0036 - accuracy: 0.0019\n",
      "Epoch 176/200\n",
      "32/32 [==============================] - 0s 2ms/step - loss: 0.0035 - accuracy: 0.0025\n",
      "Epoch 177/200\n",
      "32/32 [==============================] - 0s 3ms/step - loss: 0.0038 - accuracy: 0.0013\n",
      "Epoch 178/200\n",
      "32/32 [==============================] - 0s 3ms/step - loss: 0.0034 - accuracy: 7.3202e-04\n",
      "Epoch 179/200\n",
      "32/32 [==============================] - 0s 3ms/step - loss: 0.0039 - accuracy: 0.0010\n",
      "Epoch 180/200\n",
      "32/32 [==============================] - 0s 3ms/step - loss: 0.0039 - accuracy: 3.3802e-04\n",
      "Epoch 181/200\n",
      "32/32 [==============================] - 0s 2ms/step - loss: 0.0031 - accuracy: 0.0011\n",
      "Epoch 182/200\n",
      "32/32 [==============================] - 0s 1ms/step - loss: 0.0033 - accuracy: 1.8919e-04\n",
      "Epoch 183/200\n",
      "32/32 [==============================] - 0s 2ms/step - loss: 0.0036 - accuracy: 0.0016\n",
      "Epoch 184/200\n",
      "32/32 [==============================] - 0s 3ms/step - loss: 0.0035 - accuracy: 0.0014\n",
      "Epoch 185/200\n",
      "32/32 [==============================] - 0s 2ms/step - loss: 0.0038 - accuracy: 6.0606e-05\n",
      "Epoch 186/200\n",
      "32/32 [==============================] - 0s 3ms/step - loss: 0.0034 - accuracy: 0.0014\n",
      "Epoch 187/200\n",
      "32/32 [==============================] - 0s 2ms/step - loss: 0.0038 - accuracy: 2.9857e-04\n",
      "Epoch 188/200\n",
      "32/32 [==============================] - 0s 2ms/step - loss: 0.0034 - accuracy: 8.6279e-04\n",
      "Epoch 189/200\n",
      "32/32 [==============================] - 0s 2ms/step - loss: 0.0037 - accuracy: 3.7920e-04\n",
      "Epoch 190/200\n",
      "32/32 [==============================] - 0s 1ms/step - loss: 0.0039 - accuracy: 6.7284e-04\n",
      "Epoch 191/200\n",
      "32/32 [==============================] - 0s 2ms/step - loss: 0.0030 - accuracy: 3.3802e-04\n",
      "Epoch 192/200\n",
      "32/32 [==============================] - 0s 3ms/step - loss: 0.0032 - accuracy: 1.5537e-04\n",
      "Epoch 193/200\n",
      "32/32 [==============================] - 0s 3ms/step - loss: 0.0038 - accuracy: 0.0025\n",
      "Epoch 194/200\n",
      "32/32 [==============================] - 0s 2ms/step - loss: 0.0048 - accuracy: 6.7284e-04\n",
      "Epoch 195/200\n",
      "32/32 [==============================] - 0s 3ms/step - loss: 0.0036 - accuracy: 2.9857e-04\n",
      "Epoch 196/200\n",
      "32/32 [==============================] - 0s 4ms/step - loss: 0.0035 - accuracy: 6.7284e-04\n",
      "Epoch 197/200\n",
      "32/32 [==============================] - 0s 4ms/step - loss: 0.0029 - accuracy: 2.9857e-04\n",
      "Epoch 198/200\n",
      "32/32 [==============================] - 0s 2ms/step - loss: 0.0033 - accuracy: 0.0012\n",
      "Epoch 199/200\n",
      "32/32 [==============================] - 0s 3ms/step - loss: 0.0035 - accuracy: 0.0014\n",
      "Epoch 200/200\n",
      "32/32 [==============================] - 0s 3ms/step - loss: 0.0035 - accuracy: 3.7920e-04\n"
     ]
    }
   ],
   "source": [
    "history = model.fit(x_train,\n",
    "                    y_train,\n",
    "                    epochs=200)"
   ]
  },
  {
   "cell_type": "code",
   "execution_count": 213,
   "id": "788419c9-03a4-467d-84d9-3ce83ead82c0",
   "metadata": {},
   "outputs": [
    {
     "data": {
      "image/png": "[encoded data removed]",
      "text/plain": [
       "<Figure size 432x288 with 1 Axes>"
      ]
     },
     "metadata": {
      "needs_background": "light"
     },
     "output_type": "display_data"
    }
   ],
   "source": [
    "plt.plot(history.history[\"loss\"])\n",
    "plt.show()"
   ]
  },
  {
   "cell_type": "markdown",
   "id": "2874e70b-cd25-46ce-9038-14125c831a41",
   "metadata": {},
   "source": [
    "## Neuronales Netz testen"
   ]
  },
  {
   "cell_type": "code",
   "execution_count": 214,
   "id": "44423622-a624-4ee0-844a-dc4adbc7bde2",
   "metadata": {},
   "outputs": [],
   "source": [
    "preds_scaled_dollars = model.predict( x_test )"
   ]
  },
  {
   "cell_type": "code",
   "execution_count": 215,
   "id": "eb67813a-4670-46ff-8000-cb091f628d94",
   "metadata": {},
   "outputs": [
    {
     "data": {
      "text/plain": [
       "array([[0.05311172],\n",
       "       [0.11946194],\n",
       "       [0.33895868],\n",
       "       [0.14320673],\n",
       "       [0.2641372 ]], dtype=float32)"
      ]
     },
     "execution_count": 215,
     "metadata": {},
     "output_type": "execute_result"
    }
   ],
   "source": [
    "preds_scaled_dollars[:5]"
   ]
  },
  {
   "cell_type": "code",
   "execution_count": 216,
   "id": "dfb69c75-a4a7-48ee-83ed-44e8f3703e26",
   "metadata": {},
   "outputs": [
    {
     "data": {
      "text/plain": [
       "array([[0.06540758],\n",
       "       [0.07096237],\n",
       "       [0.27371198],\n",
       "       [0.14165394],\n",
       "       [0.20288849]])"
      ]
     },
     "execution_count": 216,
     "metadata": {},
     "output_type": "execute_result"
    }
   ],
   "source": [
    "y_test[:5]"
   ]
  },
  {
   "cell_type": "code",
   "execution_count": 217,
   "id": "22565892-c6d4-4c24-b584-d35d881c43df",
   "metadata": {},
   "outputs": [],
   "source": [
    "preds_dollars = scaler_targets.inverse_transform( preds_scaled_dollars )"
   ]
  },
  {
   "cell_type": "code",
   "execution_count": 218,
   "id": "3b181e31-f399-49e9-86ce-85107541c1e1",
   "metadata": {},
   "outputs": [],
   "source": [
    "groundtruth_dollars = scaler_targets.inverse_transform( y_test )"
   ]
  },
  {
   "cell_type": "code",
   "execution_count": 219,
   "id": "8af9fd17-d9c8-4825-b730-099056a1ad0a",
   "metadata": {},
   "outputs": [
    {
     "data": {
      "text/plain": [
       "array([[ 73145.75],\n",
       "       [120924.54],\n",
       "       [278984.16],\n",
       "       [138023.17],\n",
       "       [225105.2 ]], dtype=float32)"
      ]
     },
     "execution_count": 219,
     "metadata": {},
     "output_type": "execute_result"
    }
   ],
   "source": [
    "preds_dollars[:5]"
   ]
  },
  {
   "cell_type": "code",
   "execution_count": 220,
   "id": "e0ed7032-3e01-4063-ae87-81ae423da508",
   "metadata": {},
   "outputs": [
    {
     "data": {
      "text/plain": [
       "array([[ 82000.],\n",
       "       [ 86000.],\n",
       "       [232000.],\n",
       "       [136905.],\n",
       "       [181000.]])"
      ]
     },
     "execution_count": 220,
     "metadata": {},
     "output_type": "execute_result"
    }
   ],
   "source": [
    "groundtruth_dollars[:5]"
   ]
  },
  {
   "cell_type": "code",
   "execution_count": 223,
   "id": "8edeff19-d1ce-401f-8ec3-8e6270cae8f4",
   "metadata": {},
   "outputs": [
    {
     "data": {
      "text/plain": [
       "29104.377284307066"
      ]
     },
     "execution_count": 223,
     "metadata": {},
     "output_type": "execute_result"
    }
   ],
   "source": [
    "abs(groundtruth_dollars - preds_dollars).mean()"
   ]
  },
  {
   "cell_type": "markdown",
   "id": "593800e4-d81d-489f-81e3-5e859d5bd264",
   "metadata": {},
   "source": [
    "## Speichern des Modells"
   ]
  },
  {
   "cell_type": "code",
   "execution_count": 224,
   "id": "191e486c-5f5c-4031-958b-90d50a0d8548",
   "metadata": {},
   "outputs": [
    {
     "name": "stdout",
     "output_type": "stream",
     "text": [
      "INFO:tensorflow:Assets written to: saleprice_predictor/assets\n"
     ]
    },
    {
     "name": "stderr",
     "output_type": "stream",
     "text": [
      "2021-10-21 11:20:02.383750: W tensorflow/python/util/util.cc:348] Sets are not currently considered sequences, but this may change in the future, so consider avoiding using them.\n"
     ]
    }
   ],
   "source": [
    "model.save(\"saleprice_predictor\")"
   ]
  },
  {
   "cell_type": "code",
   "execution_count": 225,
   "id": "b1c6794a-8ebc-4a60-8380-ec26547d3b79",
   "metadata": {},
   "outputs": [],
   "source": [
    "import pickle\n",
    "fname = \"scaler_features.pkl\"\n",
    "fobj = open(fname, \"wb\")\n",
    "pickle.dump(scaler_features, fobj)\n",
    "fobj.close()"
   ]
  },
  {
   "cell_type": "code",
   "execution_count": 226,
   "id": "14ac5d55-eb20-4569-be3f-ca7ba91071bc",
   "metadata": {},
   "outputs": [],
   "source": [
    "import pickle\n",
    "fname = \"scaler_targets.pkl\"\n",
    "fobj = open(fname, \"wb\")\n",
    "pickle.dump(scaler_targets, fobj)\n",
    "fobj.close()"
   ]
  },
  {
   "cell_type": "markdown",
   "id": "8525f137-8711-4a22-9964-db9c4ea75d4e",
   "metadata": {},
   "source": [
    "## Modell wiederherstellen"
   ]
  },
  {
   "cell_type": "code",
   "execution_count": 227,
   "id": "807ade83-139a-45e4-9d57-090221ce7b12",
   "metadata": {},
   "outputs": [],
   "source": [
    "from tensorflow import keras\n",
    "\n",
    "new_model = keras.models.load_model(\"saleprice_predictor\")\n",
    "\n",
    "fobj = open(\"scaler_features.pkl\", \"rb\")\n",
    "scaler_features = pickle.load(fobj)\n",
    "fobj.close()\n",
    "\n",
    "fobj = open(\"scaler_targets.pkl\", \"rb\")\n",
    "scaler_targets = pickle.load(fobj)\n",
    "fobj.close()"
   ]
  },
  {
   "cell_type": "code",
   "execution_count": 228,
   "id": "a41933e5-18f9-412e-8495-afdf4320b1a0",
   "metadata": {},
   "outputs": [
    {
     "name": "stdout",
     "output_type": "stream",
     "text": [
      "Model: \"sequential\"\n",
      "_________________________________________________________________\n",
      "Layer (type)                 Output Shape              Param #   \n",
      "=================================================================\n",
      "Layer1 (Dense)               (None, 80)                720       \n",
      "_________________________________________________________________\n",
      "OutputLayer (Dense)          (None, 1)                 81        \n",
      "=================================================================\n",
      "Total params: 801\n",
      "Trainable params: 801\n",
      "Non-trainable params: 0\n",
      "_________________________________________________________________\n"
     ]
    }
   ],
   "source": [
    "new_model.summary()"
   ]
  },
  {
   "cell_type": "markdown",
   "id": "43d01dfc-ca84-49dd-99c7-614b8833fc03",
   "metadata": {},
   "source": [
    "## Modell anwenden"
   ]
  },
  {
   "cell_type": "code",
   "execution_count": 230,
   "id": "5eb8e5b0-b195-4b9c-abcd-256f8cfd1452",
   "metadata": {},
   "outputs": [
    {
     "name": "stdin",
     "output_type": "stream",
     "text": [
      "Year built: 2000\n",
      "Lot area: 5000\n",
      "Overall quality: 5\n"
     ]
    }
   ],
   "source": [
    "year_built = float(input(\"Year built:\"))\n",
    "lot_area = float(input(\"Lot area:\"))\n",
    "quality = float(input(\"Overall quality:\"))"
   ]
  },
  {
   "cell_type": "code",
   "execution_count": 231,
   "id": "c7ab565b-abe7-462d-b99c-8de1dace534f",
   "metadata": {},
   "outputs": [],
   "source": [
    "input_matrix = scaler_features.transform( [[year_built, lot_area, quality, 0,0,0,1,0]] )"
   ]
  },
  {
   "cell_type": "code",
   "execution_count": 232,
   "id": "72fc325c-5ac3-40ef-9ae5-047089b673bc",
   "metadata": {},
   "outputs": [
    {
     "data": {
      "text/plain": [
       "array([[0.92753623, 0.01729416, 0.44444444, 0.        , 0.        ,\n",
       "        0.        , 1.        , 0.        ]])"
      ]
     },
     "execution_count": 232,
     "metadata": {},
     "output_type": "execute_result"
    }
   ],
   "source": [
    "input_matrix"
   ]
  },
  {
   "cell_type": "code",
   "execution_count": 233,
   "id": "c2b9b21a-d5c9-4a32-847c-2ae218e9317e",
   "metadata": {},
   "outputs": [],
   "source": [
    "pred = new_model.predict( input_matrix )"
   ]
  },
  {
   "cell_type": "code",
   "execution_count": 234,
   "id": "723dedb5-a7d9-4e6e-b7ba-cd90936567da",
   "metadata": {},
   "outputs": [
    {
     "data": {
      "text/plain": [
       "array([[0.14911969]], dtype=float32)"
      ]
     },
     "execution_count": 234,
     "metadata": {},
     "output_type": "execute_result"
    }
   ],
   "source": [
    "pred"
   ]
  },
  {
   "cell_type": "code",
   "execution_count": 235,
   "id": "e1d38a5d-1585-4cba-8913-6dcb8c64bcfa",
   "metadata": {},
   "outputs": [],
   "source": [
    "pred_dollar = scaler_targets.inverse_transform( pred )"
   ]
  },
  {
   "cell_type": "code",
   "execution_count": 236,
   "id": "9925d7a3-2fc7-4945-b6ff-7348eb9a3a44",
   "metadata": {},
   "outputs": [
    {
     "data": {
      "text/plain": [
       "array([[142281.1]], dtype=float32)"
      ]
     },
     "execution_count": 236,
     "metadata": {},
     "output_type": "execute_result"
    }
   ],
   "source": [
    "pred_dollar"
   ]
  },
  {
   "cell_type": "code",
   "execution_count": 237,
   "id": "ceafc9be-ca89-4e34-8467-3f4311eb71b2",
   "metadata": {},
   "outputs": [
    {
     "name": "stdout",
     "output_type": "stream",
     "text": [
      "You can sell your house for $142281.09375\n"
     ]
    }
   ],
   "source": [
    "print( f\"You can sell your house for ${pred_dollar[0][0]}\" )"
   ]
  },
  {
   "cell_type": "code",
   "execution_count": null,
   "id": "41a57d71-2242-410b-a7dc-a8f5d245597f",
   "metadata": {},
   "outputs": [],
   "source": []
  }
 ],
 "metadata": {
  "kernelspec": {
   "display_name": "Python 3 (ipykernel)",
   "language": "python",
   "name": "python3"
  },
  "language_info": {
   "codemirror_mode": {
    "name": "ipython",
    "version": 3
   },
   "file_extension": ".py",
   "mimetype": "text/x-python",
   "name": "python",
   "nbconvert_exporter": "python",
   "pygments_lexer": "ipython3",
   "version": "3.9.7"
  },
  "toc-autonumbering": true
 },
 "nbformat": 4,
 "nbformat_minor": 5
}
